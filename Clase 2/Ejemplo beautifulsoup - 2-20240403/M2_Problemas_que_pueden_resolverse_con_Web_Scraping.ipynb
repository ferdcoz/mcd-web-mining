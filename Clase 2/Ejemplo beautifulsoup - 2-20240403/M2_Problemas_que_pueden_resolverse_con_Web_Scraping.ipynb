{
 "cells": [
  {
   "cell_type": "markdown",
   "metadata": {},
   "source": [
    "# Problemas que pueden resolverse con Web Scraping"
   ]
  },
  {
   "cell_type": "code",
   "execution_count": 1,
   "metadata": {},
   "outputs": [],
   "source": [
    "#!conda install -c anaconda pyquery -y"
   ]
  },
  {
   "cell_type": "code",
   "execution_count": 2,
   "metadata": {},
   "outputs": [],
   "source": [
    "from pyquery import PyQuery as pq"
   ]
  },
  {
   "cell_type": "code",
   "execution_count": 3,
   "metadata": {},
   "outputs": [
    {
     "data": {
      "text/plain": [
       "['Fn',\n",
       " '__add__',\n",
       " '__call__',\n",
       " '__class__',\n",
       " '__contains__',\n",
       " '__delattr__',\n",
       " '__delitem__',\n",
       " '__dict__',\n",
       " '__dir__',\n",
       " '__doc__',\n",
       " '__eq__',\n",
       " '__format__',\n",
       " '__ge__',\n",
       " '__getattribute__',\n",
       " '__getitem__',\n",
       " '__gt__',\n",
       " '__hash__',\n",
       " '__html__',\n",
       " '__iadd__',\n",
       " '__imul__',\n",
       " '__init__',\n",
       " '__init_subclass__',\n",
       " '__iter__',\n",
       " '__le__',\n",
       " '__len__',\n",
       " '__lt__',\n",
       " '__module__',\n",
       " '__mul__',\n",
       " '__ne__',\n",
       " '__new__',\n",
       " '__reduce__',\n",
       " '__reduce_ex__',\n",
       " '__repr__',\n",
       " '__reversed__',\n",
       " '__rmul__',\n",
       " '__setattr__',\n",
       " '__setitem__',\n",
       " '__sizeof__',\n",
       " '__str__',\n",
       " '__subclasshook__',\n",
       " '__unicode__',\n",
       " '__weakref__',\n",
       " '_append',\n",
       " '_copy',\n",
       " '_css_to_xpath',\n",
       " '_extend',\n",
       " '_filter_only',\n",
       " '_get_root',\n",
       " '_next_all',\n",
       " '_prev_all',\n",
       " '_translator_class',\n",
       " '_traverse',\n",
       " '_traverse_parent_topdown',\n",
       " 'addClass',\n",
       " 'add_class',\n",
       " 'after',\n",
       " 'append',\n",
       " 'appendTo',\n",
       " 'append_to',\n",
       " 'attr',\n",
       " 'base_url',\n",
       " 'before',\n",
       " 'children',\n",
       " 'clear',\n",
       " 'clone',\n",
       " 'closest',\n",
       " 'contents',\n",
       " 'copy',\n",
       " 'count',\n",
       " 'css',\n",
       " 'each',\n",
       " 'empty',\n",
       " 'encoding',\n",
       " 'end',\n",
       " 'eq',\n",
       " 'extend',\n",
       " 'filter',\n",
       " 'find',\n",
       " 'fn',\n",
       " 'hasClass',\n",
       " 'has_class',\n",
       " 'height',\n",
       " 'hide',\n",
       " 'html',\n",
       " 'index',\n",
       " 'insert',\n",
       " 'insertAfter',\n",
       " 'insertBefore',\n",
       " 'insert_after',\n",
       " 'insert_before',\n",
       " 'is_',\n",
       " 'items',\n",
       " 'length',\n",
       " 'make_links_absolute',\n",
       " 'map',\n",
       " 'next',\n",
       " 'nextAll',\n",
       " 'next_all',\n",
       " 'not_',\n",
       " 'outerHtml',\n",
       " 'outer_html',\n",
       " 'parent',\n",
       " 'parents',\n",
       " 'pop',\n",
       " 'prepend',\n",
       " 'prependTo',\n",
       " 'prepend_to',\n",
       " 'prev',\n",
       " 'prevAll',\n",
       " 'prev_all',\n",
       " 'remove',\n",
       " 'removeAttr',\n",
       " 'removeClass',\n",
       " 'remove_attr',\n",
       " 'remove_class',\n",
       " 'remove_namespaces',\n",
       " 'replaceAll',\n",
       " 'replaceWith',\n",
       " 'replace_all',\n",
       " 'replace_with',\n",
       " 'reverse',\n",
       " 'root',\n",
       " 'serialize',\n",
       " 'serializeArray',\n",
       " 'serializeDict',\n",
       " 'serializePairs',\n",
       " 'serialize_array',\n",
       " 'serialize_dict',\n",
       " 'serialize_pairs',\n",
       " 'show',\n",
       " 'siblings',\n",
       " 'size',\n",
       " 'sort',\n",
       " 'text',\n",
       " 'toggleClass',\n",
       " 'toggle_class',\n",
       " 'val',\n",
       " 'width',\n",
       " 'wrap',\n",
       " 'wrapAll',\n",
       " 'wrap_all',\n",
       " 'xhtml_to_html']"
      ]
     },
     "execution_count": 3,
     "metadata": {},
     "output_type": "execute_result"
    }
   ],
   "source": [
    "dir(pq)"
   ]
  },
  {
   "cell_type": "code",
   "execution_count": 4,
   "metadata": {},
   "outputs": [],
   "source": [
    "site=pq(\"https://www.python.org\")"
   ]
  },
  {
   "cell_type": "code",
   "execution_count": 5,
   "metadata": {},
   "outputs": [
    {
     "data": {
      "text/plain": [
       "'The official home of the Python Programming Language'"
      ]
     },
     "execution_count": 5,
     "metadata": {},
     "output_type": "execute_result"
    }
   ],
   "source": [
    "site.find('meta[name=\"description\"]').attr('content')"
   ]
  },
  {
   "cell_type": "code",
   "execution_count": 6,
   "metadata": {},
   "outputs": [
    {
     "data": {
      "text/plain": [
       "'/static/humans.txt'"
      ]
     },
     "execution_count": 6,
     "metadata": {},
     "output_type": "execute_result"
    }
   ],
   "source": [
    "site.find('link[rel=\"author\"]').attr('href')"
   ]
  },
  {
   "cell_type": "markdown",
   "metadata": {},
   "source": [
    "______________________"
   ]
  }
 ],
 "metadata": {
  "kernelspec": {
   "display_name": "Austral",
   "language": "python",
   "name": "austral"
  },
  "language_info": {
   "codemirror_mode": {
    "name": "ipython",
    "version": 3
   },
   "file_extension": ".py",
   "mimetype": "text/x-python",
   "name": "python",
   "nbconvert_exporter": "python",
   "pygments_lexer": "ipython3",
   "version": "3.8.5"
  }
 },
 "nbformat": 4,
 "nbformat_minor": 4
}
