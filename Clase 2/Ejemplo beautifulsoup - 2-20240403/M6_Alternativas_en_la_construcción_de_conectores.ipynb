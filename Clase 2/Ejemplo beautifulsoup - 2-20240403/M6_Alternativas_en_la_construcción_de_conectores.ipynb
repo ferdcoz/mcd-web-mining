{
 "cells": [
  {
   "cell_type": "markdown",
   "metadata": {},
   "source": [
    "# Alternativas en la construcción de conectores"
   ]
  },
  {
   "cell_type": "markdown",
   "metadata": {},
   "source": [
    "https://github.com/UB-Mannheim/tesseract/wiki"
   ]
  },
  {
   "cell_type": "code",
   "execution_count": 13,
   "metadata": {},
   "outputs": [],
   "source": [
    "import urllib.request"
   ]
  },
  {
   "cell_type": "code",
   "execution_count": 14,
   "metadata": {},
   "outputs": [],
   "source": [
    "imageText = urllib.request.urlopen('https://image.jimcdn.com/app/cms/image/transf/dimension=385x10000:format=png/path/scf6240a1c8edaf4b/image/i5ffdad5e3ce945fe/version/1508502776/ordenar-el-texto-del-ejercicio-04.png')"
   ]
  },
  {
   "cell_type": "code",
   "execution_count": 15,
   "metadata": {},
   "outputs": [],
   "source": [
    "with open('./scraping/imageText.png','wb') as imageFile:\n",
    "  imageFile.write(imageText.read())"
   ]
  },
  {
   "cell_type": "code",
   "execution_count": 16,
   "metadata": {},
   "outputs": [
    {
     "name": "stdout",
     "output_type": "stream",
     "text": [
      "Libreria: 'PIL' esta instalada y se cargo correctamente\n"
     ]
    }
   ],
   "source": [
    "try:\n",
    "    from PIL import Image\n",
    "    print(\"Libreria: 'PIL' esta instalada y se cargo correctamente\")\n",
    "except ModuleNotFoundError:\n",
    "    print(\"Libreria: 'PIL' no esta instalada, se debe instalar\")\n",
    "    !pip install Pillow\n",
    "    from PIL import Image"
   ]
  },
  {
   "cell_type": "code",
   "execution_count": 17,
   "metadata": {},
   "outputs": [
    {
     "name": "stdout",
     "output_type": "stream",
     "text": [
      "Libreria: 'pytesseract' esta instalada y se cargo correctamente\n"
     ]
    }
   ],
   "source": [
    "try:\n",
    "    import pytesseract\n",
    "    print(\"Libreria: 'pytesseract' esta instalada y se cargo correctamente\")\n",
    "except ModuleNotFoundError:\n",
    "    print(\"Libreria: 'pytesseract' no esta instalada, se debe instalar\")\n",
    "    !pip install pytesseract\n",
    "    import pytesseract"
   ]
  },
  {
   "cell_type": "code",
   "execution_count": 27,
   "metadata": {},
   "outputs": [],
   "source": [
    "def ocr_core(filename):\n",
    "    pytesseract.pytesseract.tesseract_cmd = r'h:/utils/Tesseract-OCR/tesseract.exe'\n",
    "    text = pytesseract.image_to_string(Image.open(filename)) \n",
    "    return text"
   ]
  },
  {
   "cell_type": "code",
   "execution_count": 28,
   "metadata": {},
   "outputs": [],
   "source": [
    "def ocr_core_img(fileobj):\n",
    "    pytesseract.pytesseract.tesseract_cmd = r'h:/utils/Tesseract-OCR/tesseract.exe'\n",
    "    text = pytesseract.image_to_string(fileobj) \n",
    "    return text"
   ]
  },
  {
   "cell_type": "code",
   "execution_count": 29,
   "metadata": {},
   "outputs": [],
   "source": [
    "bftext = ocr_core('./scraping/imageText.png')"
   ]
  },
  {
   "cell_type": "code",
   "execution_count": 30,
   "metadata": {},
   "outputs": [
    {
     "name": "stdout",
     "output_type": "stream",
     "text": [
      "Desde el mismo instante en que aquel mensajero lego, Sueio empezs a\n",
      "sentirse mejor y mejor, ya que cada dia aquel mensajero lo aimentaba\n",
      "con aquellos manjares, Muchos caldos de constaneia con fuerza, patos\n",
      "‘uy nutritivos de voluntad y trabajo, postres hechos a base de\n",
      "paciencia, fantéstcos jagos hechos can decisiin y lo mas importante, lo\n",
      "\n",
      "@ rer desinsie\n",
      "\n",
      "trataba con mucha confianza.\n",
      "\n"
     ]
    }
   ],
   "source": [
    "print(bftext)"
   ]
  },
  {
   "cell_type": "code",
   "execution_count": 31,
   "metadata": {},
   "outputs": [],
   "source": [
    "def cleanFile(filePath, newFilePath):\n",
    "    image = Image.open(filePath)\n",
    "    #Set a threshold value for the image, and save\n",
    "    image = image.point(lambda x: 0 if x < 143 else 255)\n",
    "    image.save(newFilePath)\n",
    "    return image"
   ]
  },
  {
   "cell_type": "code",
   "execution_count": 32,
   "metadata": {},
   "outputs": [],
   "source": [
    "image = cleanFile('./scraping/imageText.png', './scraping/imageTextV1.png')"
   ]
  },
  {
   "cell_type": "code",
   "execution_count": 33,
   "metadata": {},
   "outputs": [],
   "source": [
    "bftext = ocr_core_img(image)"
   ]
  },
  {
   "cell_type": "code",
   "execution_count": 34,
   "metadata": {},
   "outputs": [
    {
     "name": "stdout",
     "output_type": "stream",
     "text": [
      "Desde el mismo instante en que aggtel\n",
      "\n",
      "mensaje ext\n",
      "\n",
      "cefiwompoc a\n",
      "sonliese mjon ¥ meine ya que cada dia aguel mensajero lo akimentaba\n",
      "on agitellos anja, Much ealdon de comstancia in fe plats\n",
      "muy nuteitivos dle soluntad y trabajo. postaes buchos a ase se\n",
      "paciencio,lantsticis jg echo con cocison Uo ans iprtante,\n",
      "\n",
      "ealuba cen much confignsa\n",
      "\n"
     ]
    }
   ],
   "source": [
    "print(bftext)"
   ]
  },
  {
   "cell_type": "markdown",
   "metadata": {},
   "source": [
    "____________________________"
   ]
  }
 ],
 "metadata": {
  "kernelspec": {
   "display_name": "Python 3",
   "language": "python",
   "name": "python3"
  },
  "language_info": {
   "codemirror_mode": {
    "name": "ipython",
    "version": 3
   },
   "file_extension": ".py",
   "mimetype": "text/x-python",
   "name": "python",
   "nbconvert_exporter": "python",
   "pygments_lexer": "ipython3",
   "version": "3.8.5"
  }
 },
 "nbformat": 4,
 "nbformat_minor": 4
}
