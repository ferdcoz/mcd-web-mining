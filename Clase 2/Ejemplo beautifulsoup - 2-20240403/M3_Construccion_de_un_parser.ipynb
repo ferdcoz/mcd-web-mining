{
 "cells": [
  {
   "cell_type": "markdown",
   "metadata": {},
   "source": [
    "# Construccion de un parser"
   ]
  },
  {
   "cell_type": "code",
   "execution_count": 1,
   "metadata": {},
   "outputs": [],
   "source": [
    "#!conda install -c anaconda lxml -y"
   ]
  },
  {
   "cell_type": "code",
   "execution_count": 2,
   "metadata": {},
   "outputs": [],
   "source": [
    "import requests\n",
    "from urllib.request import urlopen\n",
    "from lxml import etree"
   ]
  },
  {
   "cell_type": "code",
   "execution_count": 3,
   "metadata": {},
   "outputs": [],
   "source": [
    "url = 'http://www.yahoo.com'"
   ]
  },
  {
   "cell_type": "code",
   "execution_count": 4,
   "metadata": {},
   "outputs": [],
   "source": [
    "headers = {'Content-Type': 'text/html',}\n",
    "response = requests.get(url, headers=headers)\n",
    "html = response.text"
   ]
  },
  {
   "cell_type": "code",
   "execution_count": 5,
   "metadata": {},
   "outputs": [],
   "source": [
    "with open ('c:/scraping/yahoo_html.txt', 'w', encoding='iso-8859-1', errors ='replace') as f:\n",
    "    f.write(html)\n",
    "f.close()    "
   ]
  },
  {
   "cell_type": "code",
   "execution_count": 6,
   "metadata": {},
   "outputs": [],
   "source": [
    "from bs4 import UnicodeDammit"
   ]
  },
  {
   "cell_type": "code",
   "execution_count": 7,
   "metadata": {},
   "outputs": [
    {
     "data": {
      "text/plain": [
       "'iso-8859-1'"
      ]
     },
     "execution_count": 7,
     "metadata": {},
     "output_type": "execute_result"
    }
   ],
   "source": [
    "with open('c:/scraping/yahoo_html.txt', 'rb') as file:\n",
    "   content = file.read()\n",
    "\n",
    "suggestion = UnicodeDammit(content)\n",
    "suggestion.original_encoding"
   ]
  },
  {
   "cell_type": "code",
   "execution_count": 8,
   "metadata": {},
   "outputs": [],
   "source": [
    "htmlparser = etree.HTMLParser()"
   ]
  },
  {
   "cell_type": "code",
   "execution_count": 9,
   "metadata": {},
   "outputs": [],
   "source": [
    "response = urlopen(url)"
   ]
  },
  {
   "cell_type": "code",
   "execution_count": 10,
   "metadata": {},
   "outputs": [],
   "source": [
    "tree = etree.parse(response, htmlparser)"
   ]
  },
  {
   "cell_type": "code",
   "execution_count": 11,
   "metadata": {},
   "outputs": [
    {
     "data": {
      "text/plain": [
       "['The sanctioned Russian billionaire Roman Abramovich and Ukrainian peace negotiators suffered symptoms of suspected poisoning earlier this month after a meeting in Kyiv.',\n",
       " 'Wall Street Journal broke story on Monday\\xa0»',\n",
       " 'See fewer ads everywhere on Yahoo, including your inbox',\n",
       " '“At the time her husband was with her and called 911 while running to try to get to her,” deputies said.',\n",
       " 'Kate Beckinsale, 48, went pantsless in a sheer gown at the Vanity Fair Oscars after party, and her Legs are so toned. The actress works out six days a week.',\n",
       " 'A Black British man, in desperate need of monthly blood transfusion, was turned away from an airport in Jamaica because airline officials rejected his passport, […]',\n",
       " 'Tiffany Haddish was not feeling ET reporter Lauren Zima after the host insinuated she was wearing a costume to the 2022 Vanity Fair Oscars Afterparty. I\\'m wearing Dolce & Gabbana.\"',\n",
       " 'On Saturday, the Great Sioux Nation in South Dakota issued a “Notice of Trespass (Cease and Desist)” order against Connie Uhre-Grand Gateway Hotel and its subsidiaries with instructions to vacate the premises.  Connie Uhre is the 76-year-old owner of the Grand Gateway Hotel that posted on social media she would ban Native American\\xa0from the property after a shooting took place in one of the hotel rooms in the early hours of March 19.  Uhre wrote on Facebook: “Do [sic] to the killing that took pla',\n",
       " 'Amazon supposedly asks job applicants to solve this \"hanging cable\" problem. Here\\'s what it looks like—and how to solve it.',\n",
       " \"You're at your best when you're at the vanguard of a new project or movement, so today should be just about perfect! Your leadership makes all the difference when people need direction. \"]"
      ]
     },
     "execution_count": 11,
     "metadata": {},
     "output_type": "execute_result"
    }
   ],
   "source": [
    "tree.xpath('//p/text()')"
   ]
  },
  {
   "cell_type": "code",
   "execution_count": 12,
   "metadata": {},
   "outputs": [
    {
     "data": {
      "text/plain": [
       "[]"
      ]
     },
     "execution_count": 12,
     "metadata": {},
     "output_type": "execute_result"
    }
   ],
   "source": [
    "tree.xpath('//p[contains(text(),\"Madrid\")]/text()')"
   ]
  },
  {
   "cell_type": "code",
   "execution_count": 13,
   "metadata": {},
   "outputs": [
    {
     "data": {
      "text/plain": [
       "['The sanctioned Russian billionaire Roman Abramovich and Ukrainian peace negotiators suffered symptoms of suspected poisoning earlier this month after a meeting in Kyiv.',\n",
       " 'Wall Street Journal broke story on Monday\\xa0»',\n",
       " 'See fewer ads everywhere on Yahoo, including your inbox',\n",
       " '“At the time her husband was with her and called 911 while running to try to get to her,” deputies said.',\n",
       " 'Kate Beckinsale, 48, went pantsless in a sheer gown at the Vanity Fair Oscars after party, and her Legs are so toned. The actress works out six days a week.',\n",
       " 'A Black British man, in desperate need of monthly blood transfusion, was turned away from an airport in Jamaica because airline officials rejected his passport, […]',\n",
       " 'Tiffany Haddish was not feeling ET reporter Lauren Zima after the host insinuated she was wearing a costume to the 2022 Vanity Fair Oscars Afterparty. I\\'m wearing Dolce & Gabbana.\"',\n",
       " 'On Saturday, the Great Sioux Nation in South Dakota issued a “Notice of Trespass (Cease and Desist)” order against Connie Uhre-Grand Gateway Hotel and its subsidiaries with instructions to vacate the premises.  Connie Uhre is the 76-year-old owner of the Grand Gateway Hotel that posted on social media she would ban Native American\\xa0from the property after a shooting took place in one of the hotel rooms in the early hours of March 19.  Uhre wrote on Facebook: “Do [sic] to the killing that took pla',\n",
       " 'Amazon supposedly asks job applicants to solve this \"hanging cable\" problem. Here\\'s what it looks like—and how to solve it.',\n",
       " \"You're at your best when you're at the vanguard of a new project or movement, so today should be just about perfect! Your leadership makes all the difference when people need direction. \"]"
      ]
     },
     "execution_count": 13,
     "metadata": {},
     "output_type": "execute_result"
    }
   ],
   "source": [
    "tree.xpath('//p[not(contains(text(),\"Madrid\"))]/text()')"
   ]
  },
  {
   "cell_type": "markdown",
   "metadata": {},
   "source": [
    "________________________________"
   ]
  }
 ],
 "metadata": {
  "kernelspec": {
   "display_name": "Austral",
   "language": "python",
   "name": "austral"
  },
  "language_info": {
   "codemirror_mode": {
    "name": "ipython",
    "version": 3
   },
   "file_extension": ".py",
   "mimetype": "text/x-python",
   "name": "python",
   "nbconvert_exporter": "python",
   "pygments_lexer": "ipython3",
   "version": "3.8.5"
  }
 },
 "nbformat": 4,
 "nbformat_minor": 4
}
