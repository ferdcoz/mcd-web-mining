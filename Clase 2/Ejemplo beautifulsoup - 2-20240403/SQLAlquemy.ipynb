{
 "cells": [
  {
   "cell_type": "markdown",
   "id": "b6bcafec",
   "metadata": {},
   "source": [
    "<a id = \"1.0\"></a>\n",
    "<p style=\"font-size:15px;color:#34656d;font-family:'Comic Sans MS';text-align:right;border-radius:5px 5px;\">\n",
    "    <i>Aprender una técnica no es un fin en si mismo, simplemente indica por donde hay que empezar</i><br><b>Proverbio Japonés</b></p> "
   ]
  },
  {
   "cell_type": "markdown",
   "id": "975b07e8",
   "metadata": {},
   "source": [
    "<a id = \"1.0\"></a>\n",
    "<p style=\"font-size:15px;color:#34656d;font-family:'Comic Sans MS';text-align:right;border-radius:5px 5px;\">\n",
    "<i>Material curado y organizado por el Prof. Dr. Hernán D. Merlino</i><br> \n",
    "<i>Acceso Base de Datos Versión 1.0 - 2024 Q1</i></p> "
   ]
  },
  {
   "cell_type": "markdown",
   "id": "8f6d50ad",
   "metadata": {},
   "source": [
    "<a id = \"1.0\"></a>\n",
    "<p style=\"font-size:15px;color:#34656d;font-family:'Comic Sans MS';text-align:center;border-radius:5px 5px;\">\n",
    "<strong>_____________________________________________________________</strong></p> "
   ]
  },
  {
   "cell_type": "markdown",
   "id": "0af1b7df",
   "metadata": {},
   "source": [
    "<a id = \"1.0\"></a>\n",
    "<p style=\"font-size:25px;color:#34656d;font-family:'Comic Sans MS';text-align:center;border-radius:5px 5px;\">\n",
    "<strong>SQL Alchemy</strong></p> "
   ]
  },
  {
   "cell_type": "markdown",
   "id": "871088fd",
   "metadata": {},
   "source": [
    "<p style=\"font-size:12px;color:#34656d;font-family:'Comic Sans MS';text-align:right;border-radius:5px 5px;\">\n",
    "<strong><u>Ejemplo adaptado para el curso de:</u></strong><br> \n",
    "<a href=\"https://www.datacamp.com/tutorial/sqlalchemy-tutorial-examples\n",
    "\" target=\\\"_blank\\\">SQLAlchemy Tutorial With Examples</a>\n",
    "</p>    "
   ]
  },
  {
   "cell_type": "code",
   "execution_count": 1,
   "id": "c299d9a8",
   "metadata": {},
   "outputs": [],
   "source": [
    "import warnings\n",
    "warnings.filterwarnings('ignore')"
   ]
  },
  {
   "cell_type": "code",
   "execution_count": 2,
   "id": "18e5e7cb",
   "metadata": {},
   "outputs": [],
   "source": [
    "import sqlalchemy as db"
   ]
  },
  {
   "cell_type": "code",
   "execution_count": 3,
   "id": "a1ae1fd7",
   "metadata": {},
   "outputs": [
    {
     "data": {
      "text/plain": [
       "'1.4.39'"
      ]
     },
     "execution_count": 3,
     "metadata": {},
     "output_type": "execute_result"
    }
   ],
   "source": [
    "db.__version__"
   ]
  },
  {
   "cell_type": "markdown",
   "id": "47af2420",
   "metadata": {},
   "source": [
    "<p style=\"font-size:15px;color:#34656d;font-family:'Comic Sans MS';text-align:left;border-radius:5px 5px;\">\n",
    "<strong><u>Base de Datos:</u></strong><br> \n",
    "<a href=\"https://www.kaggle.com/code/alaasedeeq/european-soccer-database-with-sqlite3\" \n",
    "   target=\\\"_blank\\\">European Soccer Database with sqlite3</a>\n",
    "</p>  "
   ]
  },
  {
   "cell_type": "code",
   "execution_count": 4,
   "id": "d5296270",
   "metadata": {},
   "outputs": [],
   "source": [
    "engine = db.create_engine(\"sqlite:///db/european_database.sqlite\")"
   ]
  },
  {
   "cell_type": "code",
   "execution_count": 5,
   "id": "f810e989",
   "metadata": {},
   "outputs": [],
   "source": [
    "conn = engine.connect() "
   ]
  },
  {
   "cell_type": "code",
   "execution_count": 6,
   "id": "470f4d41",
   "metadata": {},
   "outputs": [],
   "source": [
    "metadata = db.MetaData()"
   ]
  },
  {
   "cell_type": "code",
   "execution_count": 7,
   "id": "4fa287b0",
   "metadata": {},
   "outputs": [],
   "source": [
    "division= db.Table('divisions', metadata, autoload=True,autoload_with=engine)"
   ]
  },
  {
   "cell_type": "markdown",
   "id": "e586398d",
   "metadata": {},
   "source": [
    "<a id = \"1.0\"></a>\n",
    "<p style=\"font-size:15px;color:#34656d;font-family:'Comic Sans MS';text-align:left;border-radius:5px 5px;\">\n",
    "<strong>Estructura de Tabla</strong></p> "
   ]
  },
  {
   "cell_type": "code",
   "execution_count": 8,
   "id": "ca272037",
   "metadata": {},
   "outputs": [
    {
     "name": "stdout",
     "output_type": "stream",
     "text": [
      "Table('divisions', MetaData(), Column('division', TEXT(), table=<divisions>), Column('name', TEXT(), table=<divisions>), Column('country', TEXT(), table=<divisions>), schema=None)\n"
     ]
    }
   ],
   "source": [
    "print(repr(metadata.tables['divisions']))"
   ]
  },
  {
   "cell_type": "code",
   "execution_count": 9,
   "id": "7bc6c10e",
   "metadata": {},
   "outputs": [
    {
     "data": {
      "text/plain": [
       "Table('divisions', MetaData(), Column('division', TEXT(), table=<divisions>), Column('name', TEXT(), table=<divisions>), Column('country', TEXT(), table=<divisions>), schema=None)"
      ]
     },
     "execution_count": 9,
     "metadata": {},
     "output_type": "execute_result"
    }
   ],
   "source": [
    "db.Table('divisions', db.MetaData(), \n",
    "         db.Column('division', db.TEXT()), \n",
    "         db.Column('name', db.TEXT()), \n",
    "         db.Column('country', db.TEXT()), \n",
    "         schema=None)"
   ]
  },
  {
   "cell_type": "code",
   "execution_count": 10,
   "id": "61ef426b",
   "metadata": {},
   "outputs": [
    {
     "name": "stdout",
     "output_type": "stream",
     "text": [
      "['division', 'name', 'country']\n"
     ]
    }
   ],
   "source": [
    "print(division.columns.keys())"
   ]
  },
  {
   "cell_type": "markdown",
   "id": "c135c1b5",
   "metadata": {},
   "source": [
    "<a id = \"1.0\"></a>\n",
    "<p style=\"font-size:15px;color:#34656d;font-family:'Comic Sans MS';text-align:left;border-radius:5px 5px;\">\n",
    "<strong>Generar Consulta</strong></p> "
   ]
  },
  {
   "cell_type": "code",
   "execution_count": 11,
   "id": "1af09d70",
   "metadata": {},
   "outputs": [
    {
     "name": "stdout",
     "output_type": "stream",
     "text": [
      "SELECT divisions.division, divisions.name, divisions.country \n",
      "FROM divisions\n"
     ]
    }
   ],
   "source": [
    "query = division.select()\n",
    "print(query)"
   ]
  },
  {
   "cell_type": "code",
   "execution_count": 12,
   "id": "be2297db",
   "metadata": {},
   "outputs": [],
   "source": [
    "exe = conn.execute(query)"
   ]
  },
  {
   "cell_type": "code",
   "execution_count": 13,
   "id": "52d12b5d",
   "metadata": {},
   "outputs": [],
   "source": [
    "result = exe.fetchmany(5)"
   ]
  },
  {
   "cell_type": "code",
   "execution_count": 14,
   "id": "363c419c",
   "metadata": {},
   "outputs": [
    {
     "name": "stdout",
     "output_type": "stream",
     "text": [
      "[('B1', 'Division 1A', 'Belgium'), ('D1', 'Bundesliga', 'Deutschland'), ('D2', '2. Bundesliga', 'Deutschland'), ('E0', 'Premier League', 'England'), ('E1', 'EFL Championship', 'England')]\n"
     ]
    }
   ],
   "source": [
    "print(result)"
   ]
  },
  {
   "cell_type": "code",
   "execution_count": null,
   "id": "83c383e1",
   "metadata": {},
   "outputs": [],
   "source": []
  },
  {
   "cell_type": "markdown",
   "id": "f0be3f2c",
   "metadata": {},
   "source": [
    "<a id = \"1.0\"></a>\n",
    "<p style=\"font-size:15px;color:#34656d;font-family:'Comic Sans MS';text-align:center;border-radius:5px 5px;\">\n",
    "<strong>_____________________________________________________________</strong></p> "
   ]
  },
  {
   "cell_type": "code",
   "execution_count": 15,
   "id": "8301eaa7",
   "metadata": {},
   "outputs": [],
   "source": [
    "engine = db.create_engine('sqlite:///db/datacamp.sqlite')"
   ]
  },
  {
   "cell_type": "code",
   "execution_count": 16,
   "id": "d35397ed",
   "metadata": {},
   "outputs": [],
   "source": [
    "conn = engine.connect()"
   ]
  },
  {
   "cell_type": "code",
   "execution_count": 17,
   "id": "e6aed287",
   "metadata": {},
   "outputs": [],
   "source": [
    "metadata = db.MetaData()"
   ]
  },
  {
   "cell_type": "markdown",
   "id": "10edcc01",
   "metadata": {},
   "source": [
    "<a id = \"1.0\"></a>\n",
    "<p style=\"font-size:15px;color:#34656d;font-family:'Comic Sans MS';text-align:left;border-radius:5px 5px;\">\n",
    "<strong>Crear Tabla</strong></p> "
   ]
  },
  {
   "cell_type": "code",
   "execution_count": 18,
   "id": "42b708b3",
   "metadata": {},
   "outputs": [],
   "source": [
    "Student = db.Table('Student'   , metadata,\n",
    "              db.Column('Id'   , db.Integer(),primary_key=True),\n",
    "              db.Column('Name' , db.String(255), nullable=False),\n",
    "              db.Column('Major', db.String(255), default=\"Math\"),\n",
    "              db.Column('Pass' , db.Boolean(), default=True)\n",
    "              )"
   ]
  },
  {
   "cell_type": "code",
   "execution_count": 19,
   "id": "f3f2d9e5",
   "metadata": {},
   "outputs": [],
   "source": [
    "metadata.create_all(engine) "
   ]
  },
  {
   "cell_type": "markdown",
   "id": "f9ef20d5",
   "metadata": {},
   "source": [
    "<a id = \"1.0\"></a>\n",
    "<p style=\"font-size:15px;color:#34656d;font-family:'Comic Sans MS';text-align:left;border-radius:5px 5px;\">\n",
    "<strong>Inserta un registro</strong></p> "
   ]
  },
  {
   "cell_type": "code",
   "execution_count": 20,
   "id": "f2eb731b",
   "metadata": {},
   "outputs": [],
   "source": [
    "query = db.insert(Student).values(Id=1, Name='Matthew', Major=\"English\", Pass=True)"
   ]
  },
  {
   "cell_type": "markdown",
   "id": "0ab038af",
   "metadata": {},
   "source": [
    "<a id = \"1.0\"></a>\n",
    "<p style=\"font-size:13px;color:#34656d;font-family:'Comic Sans MS';text-align:left;border-radius:5px 5px;\">\n",
    "<strong>si la base ya tiene el id 1 dara un error</strong></p> "
   ]
  },
  {
   "cell_type": "code",
   "execution_count": 21,
   "id": "2b667407",
   "metadata": {},
   "outputs": [],
   "source": [
    "Result = conn.execute(query)"
   ]
  },
  {
   "cell_type": "code",
   "execution_count": 22,
   "id": "f7162d36",
   "metadata": {},
   "outputs": [
    {
     "name": "stdout",
     "output_type": "stream",
     "text": [
      "[(1, 'Matthew', 'English', True)]\n"
     ]
    }
   ],
   "source": [
    "output = conn.execute(Student.select()).fetchall()\n",
    "print(output)"
   ]
  },
  {
   "cell_type": "markdown",
   "id": "b105f992",
   "metadata": {},
   "source": [
    "<a id = \"1.0\"></a>\n",
    "<p style=\"font-size:15px;color:#34656d;font-family:'Comic Sans MS';text-align:left;border-radius:5px 5px;\">\n",
    "<strong>Inserta varios registros</strong></p> "
   ]
  },
  {
   "cell_type": "code",
   "execution_count": 23,
   "id": "b36b526b",
   "metadata": {},
   "outputs": [],
   "source": [
    "query = db.insert(Student)\n",
    "values_list = [{'Id':'2', 'Name':'Nisha', 'Major':\"Science\", 'Pass':False},\n",
    "              {'Id':'3', 'Name':'Natasha', 'Major':\"Math\", 'Pass':True},\n",
    "              {'Id':'4', 'Name':'Ben', 'Major':\"English\", 'Pass':False}]\n",
    "Result = conn.execute(query,values_list)"
   ]
  },
  {
   "cell_type": "code",
   "execution_count": 24,
   "id": "0bc1cfb1",
   "metadata": {},
   "outputs": [
    {
     "name": "stdout",
     "output_type": "stream",
     "text": [
      "[(1, 'Matthew', 'English', True), (2, 'Nisha', 'Science', False), (3, 'Natasha', 'Math', True), (4, 'Ben', 'English', False)]\n"
     ]
    }
   ],
   "source": [
    "output = conn.execute(db.select([Student])).fetchall()\n",
    "print(output)"
   ]
  },
  {
   "cell_type": "markdown",
   "id": "ceac86ed",
   "metadata": {},
   "source": [
    "<a id = \"1.0\"></a>\n",
    "<p style=\"font-size:15px;color:#34656d;font-family:'Comic Sans MS';text-align:left;border-radius:5px 5px;\">\n",
    "<strong>SQL</strong></p> "
   ]
  },
  {
   "cell_type": "code",
   "execution_count": 25,
   "id": "cef9f314",
   "metadata": {},
   "outputs": [
    {
     "name": "stdout",
     "output_type": "stream",
     "text": [
      "[(1, 'Matthew', 'English', 1), (2, 'Nisha', 'Science', 0), (3, 'Natasha', 'Math', 1), (4, 'Ben', 'English', 0)]\n"
     ]
    }
   ],
   "source": [
    "output = conn.execute(\"SELECT * FROM Student\")\n",
    "print(output.fetchall())"
   ]
  },
  {
   "cell_type": "code",
   "execution_count": 26,
   "id": "dbc28cb9",
   "metadata": {},
   "outputs": [
    {
     "name": "stdout",
     "output_type": "stream",
     "text": [
      "[('Matthew', 'English'), ('Natasha', 'Math')]\n"
     ]
    }
   ],
   "source": [
    "output = conn.execute(\"SELECT Name, Major FROM Student WHERE Pass = True\")\n",
    "print(output.fetchall())"
   ]
  },
  {
   "cell_type": "markdown",
   "id": "ac4a3685",
   "metadata": {},
   "source": [
    "<a id = \"1.0\"></a>\n",
    "<p style=\"font-size:15px;color:#34656d;font-family:'Comic Sans MS';text-align:left;border-radius:5px 5px;\">\n",
    "<strong>API</strong></p> "
   ]
  },
  {
   "cell_type": "code",
   "execution_count": 27,
   "id": "9c9e314b",
   "metadata": {},
   "outputs": [
    {
     "name": "stdout",
     "output_type": "stream",
     "text": [
      "[(1, 'Matthew', 'English', True), (4, 'Ben', 'English', False)]\n"
     ]
    }
   ],
   "source": [
    "query = Student.select().where(Student.columns.Major == 'English')\n",
    "output = conn.execute(query)\n",
    "print(output.fetchall())"
   ]
  },
  {
   "cell_type": "code",
   "execution_count": 28,
   "id": "8a0671e9",
   "metadata": {},
   "outputs": [
    {
     "name": "stdout",
     "output_type": "stream",
     "text": [
      "[(4, 'Ben', 'English', False)]\n"
     ]
    }
   ],
   "source": [
    "query = Student.select().where(db.and_(Student.columns.Major == 'English', Student.columns.Pass != True))\n",
    "output = conn.execute(query)\n",
    "print(output.fetchall())"
   ]
  },
  {
   "cell_type": "code",
   "execution_count": 29,
   "id": "ef9e5cad",
   "metadata": {},
   "outputs": [],
   "source": [
    "query = Student.select().where(Student.columns.Major.in_(['English','Math']))\n",
    "output = conn.execute(query)\n",
    "results = output.fetchall()"
   ]
  },
  {
   "cell_type": "code",
   "execution_count": 30,
   "id": "0250a85c",
   "metadata": {},
   "outputs": [],
   "source": [
    "import pandas as pd"
   ]
  },
  {
   "cell_type": "code",
   "execution_count": 31,
   "id": "62560ae6",
   "metadata": {},
   "outputs": [],
   "source": [
    "data = pd.DataFrame(results)\n",
    "data.columns = results[0].keys()"
   ]
  },
  {
   "cell_type": "code",
   "execution_count": 32,
   "id": "980ce69d",
   "metadata": {},
   "outputs": [
    {
     "data": {
      "text/html": [
       "<div>\n",
       "<style scoped>\n",
       "    .dataframe tbody tr th:only-of-type {\n",
       "        vertical-align: middle;\n",
       "    }\n",
       "\n",
       "    .dataframe tbody tr th {\n",
       "        vertical-align: top;\n",
       "    }\n",
       "\n",
       "    .dataframe thead th {\n",
       "        text-align: right;\n",
       "    }\n",
       "</style>\n",
       "<table border=\"1\" class=\"dataframe\">\n",
       "  <thead>\n",
       "    <tr style=\"text-align: right;\">\n",
       "      <th></th>\n",
       "      <th>Id</th>\n",
       "      <th>Name</th>\n",
       "      <th>Major</th>\n",
       "      <th>Pass</th>\n",
       "    </tr>\n",
       "  </thead>\n",
       "  <tbody>\n",
       "    <tr>\n",
       "      <th>0</th>\n",
       "      <td>1</td>\n",
       "      <td>Matthew</td>\n",
       "      <td>English</td>\n",
       "      <td>True</td>\n",
       "    </tr>\n",
       "    <tr>\n",
       "      <th>1</th>\n",
       "      <td>3</td>\n",
       "      <td>Natasha</td>\n",
       "      <td>Math</td>\n",
       "      <td>True</td>\n",
       "    </tr>\n",
       "    <tr>\n",
       "      <th>2</th>\n",
       "      <td>4</td>\n",
       "      <td>Ben</td>\n",
       "      <td>English</td>\n",
       "      <td>False</td>\n",
       "    </tr>\n",
       "  </tbody>\n",
       "</table>\n",
       "</div>"
      ],
      "text/plain": [
       "   Id     Name    Major   Pass\n",
       "0   1  Matthew  English   True\n",
       "1   3  Natasha     Math   True\n",
       "2   4      Ben  English  False"
      ]
     },
     "execution_count": 32,
     "metadata": {},
     "output_type": "execute_result"
    }
   ],
   "source": [
    "data.head()"
   ]
  },
  {
   "cell_type": "markdown",
   "id": "df4b81a5",
   "metadata": {},
   "source": [
    "<a id = \"1.0\"></a>\n",
    "<p style=\"font-size:15px;color:#34656d;font-family:'Comic Sans MS';text-align:center;border-radius:5px 5px;\">\n",
    "<strong>_____________________________________________________________</strong></p> "
   ]
  },
  {
   "cell_type": "markdown",
   "id": "eba2b2c8",
   "metadata": {},
   "source": [
    "<a id = \"1.0\"></a>\n",
    "<p style=\"font-size:15px;color:#34656d;font-family:'Comic Sans MS';text-align:center;border-radius:5px 5px;\">\n",
    "<strong>_____________________________________________________________</strong></p> "
   ]
  }
 ],
 "metadata": {
  "kernelspec": {
   "display_name": "MlLab",
   "language": "python",
   "name": "mllab"
  },
  "language_info": {
   "codemirror_mode": {
    "name": "ipython",
    "version": 3
   },
   "file_extension": ".py",
   "mimetype": "text/x-python",
   "name": "python",
   "nbconvert_exporter": "python",
   "pygments_lexer": "ipython3",
   "version": "3.9.12"
  }
 },
 "nbformat": 4,
 "nbformat_minor": 5
}
