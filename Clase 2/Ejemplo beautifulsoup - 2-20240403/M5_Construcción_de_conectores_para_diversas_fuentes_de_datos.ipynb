{
 "cells": [
  {
   "cell_type": "markdown",
   "metadata": {},
   "source": [
    "# Construcción de conectores para diversas fuentes de datos"
   ]
  },
  {
   "cell_type": "code",
   "execution_count": 1,
   "metadata": {},
   "outputs": [],
   "source": [
    "import warnings\n",
    "warnings.filterwarnings(\"ignore\")"
   ]
  },
  {
   "cell_type": "code",
   "execution_count": 2,
   "metadata": {},
   "outputs": [],
   "source": [
    "import pandas as pd\n",
    "pd.set_option('display.max_columns', None)\n",
    "pd.set_option('max_colwidth', -1)"
   ]
  },
  {
   "cell_type": "code",
   "execution_count": 3,
   "metadata": {},
   "outputs": [],
   "source": [
    "import csv\n",
    "import requests\n",
    "from urllib.request import urlopen\n",
    "from lxml import etree"
   ]
  },
  {
   "cell_type": "code",
   "execution_count": 4,
   "metadata": {},
   "outputs": [],
   "source": [
    "url = 'http://www.yahoo.com'"
   ]
  },
  {
   "cell_type": "code",
   "execution_count": 5,
   "metadata": {},
   "outputs": [],
   "source": [
    "headers = {'Content-Type': 'text/html',}\n",
    "response = requests.get(url, headers=headers)\n",
    "html = response.text"
   ]
  },
  {
   "cell_type": "code",
   "execution_count": 14,
   "metadata": {},
   "outputs": [],
   "source": [
    "with open ('./scraping/yahoo_html.txt', 'w', encoding='iso-8859-1', errors ='replace') as f:\n",
    "    f.write(html)\n",
    "f.close()  "
   ]
  },
  {
   "cell_type": "code",
   "execution_count": 15,
   "metadata": {},
   "outputs": [],
   "source": [
    "htmlparser = etree.HTMLParser()"
   ]
  },
  {
   "cell_type": "code",
   "execution_count": 16,
   "metadata": {},
   "outputs": [],
   "source": [
    "response = urlopen(url)"
   ]
  },
  {
   "cell_type": "code",
   "execution_count": 17,
   "metadata": {},
   "outputs": [],
   "source": [
    "tree = etree.parse(response, htmlparser)"
   ]
  },
  {
   "cell_type": "code",
   "execution_count": 18,
   "metadata": {},
   "outputs": [],
   "source": [
    "arText = tree.xpath('//p/text()')"
   ]
  },
  {
   "cell_type": "code",
   "execution_count": 20,
   "metadata": {},
   "outputs": [],
   "source": [
    "with open ('./scraping/yahoo_text.csv', 'w') as f:\n",
    "    f.write(\"Texto\\n\")\n",
    "    f.write(\"\\n\".join(arText))\n",
    "f.close()   "
   ]
  },
  {
   "cell_type": "code",
   "execution_count": 21,
   "metadata": {},
   "outputs": [],
   "source": [
    "col_name = [\"Texto\"]"
   ]
  },
  {
   "cell_type": "code",
   "execution_count": 22,
   "metadata": {},
   "outputs": [],
   "source": [
    "dfText = pd.DataFrame(arText,columns = list(col_name))"
   ]
  },
  {
   "cell_type": "code",
   "execution_count": 23,
   "metadata": {},
   "outputs": [
    {
     "data": {
      "text/html": [
       "<div>\n",
       "<style scoped>\n",
       "    .dataframe tbody tr th:only-of-type {\n",
       "        vertical-align: middle;\n",
       "    }\n",
       "\n",
       "    .dataframe tbody tr th {\n",
       "        vertical-align: top;\n",
       "    }\n",
       "\n",
       "    .dataframe thead th {\n",
       "        text-align: right;\n",
       "    }\n",
       "</style>\n",
       "<table border=\"1\" class=\"dataframe\">\n",
       "  <thead>\n",
       "    <tr style=\"text-align: right;\">\n",
       "      <th></th>\n",
       "      <th>Texto</th>\n",
       "    </tr>\n",
       "  </thead>\n",
       "  <tbody>\n",
       "    <tr>\n",
       "      <th>0</th>\n",
       "      <td>The sanctioned Russian billionaire Roman Abramovich and Ukrainian peace negotiators suffered symptoms of suspected poisoning earlier this month after a meeting in Kyiv.</td>\n",
       "    </tr>\n",
       "    <tr>\n",
       "      <th>1</th>\n",
       "      <td>Wall Street Journal broke story on Monday »</td>\n",
       "    </tr>\n",
       "    <tr>\n",
       "      <th>2</th>\n",
       "      <td>See fewer ads everywhere on Yahoo, including your inbox</td>\n",
       "    </tr>\n",
       "    <tr>\n",
       "      <th>3</th>\n",
       "      <td>“At the time her husband was with her and called 911 while running to try to get to her,” deputies said.</td>\n",
       "    </tr>\n",
       "    <tr>\n",
       "      <th>4</th>\n",
       "      <td>Kate Beckinsale, 48, went pantsless in a sheer gown at the Vanity Fair Oscars after party, and her Legs are so toned. The actress works out six days a week.</td>\n",
       "    </tr>\n",
       "    <tr>\n",
       "      <th>5</th>\n",
       "      <td>A Black British man, in desperate need of monthly blood transfusion, was turned away from an airport in Jamaica because airline officials rejected his passport, […]</td>\n",
       "    </tr>\n",
       "    <tr>\n",
       "      <th>6</th>\n",
       "      <td>Amazon supposedly asks job applicants to solve this \"hanging cable\" problem. Here's what it looks like—and how to solve it.</td>\n",
       "    </tr>\n",
       "    <tr>\n",
       "      <th>7</th>\n",
       "      <td>Tiffany Haddish was not feeling ET reporter Lauren Zima after the host insinuated she was wearing a costume to the 2022 Vanity Fair Oscars Afterparty. I'm wearing Dolce &amp; Gabbana.\"</td>\n",
       "    </tr>\n",
       "    <tr>\n",
       "      <th>8</th>\n",
       "      <td>On Saturday, the Great Sioux Nation in South Dakota issued a “Notice of Trespass (Cease and Desist)” order against Connie Uhre-Grand Gateway Hotel and its subsidiaries with instructions to vacate the premises.  Connie Uhre is the 76-year-old owner of the Grand Gateway Hotel that posted on social media she would ban Native American from the property after a shooting took place in one of the hotel rooms in the early hours of March 19.  Uhre wrote on Facebook: “Do [sic] to the killing that took pla</td>\n",
       "    </tr>\n",
       "    <tr>\n",
       "      <th>9</th>\n",
       "      <td>You're at your best when you're at the vanguard of a new project or movement, so today should be just about perfect! Your leadership makes all the difference when people need direction.</td>\n",
       "    </tr>\n",
       "  </tbody>\n",
       "</table>\n",
       "</div>"
      ],
      "text/plain": [
       "                                                                                                                                                                                                                                                                                                                                                                                                                                                                                                                  Texto\n",
       "0  The sanctioned Russian billionaire Roman Abramovich and Ukrainian peace negotiators suffered symptoms of suspected poisoning earlier this month after a meeting in Kyiv.                                                                                                                                                                                                                                                                                                                                            \n",
       "1  Wall Street Journal broke story on Monday »                                                                                                                                                                                                                                                                                                                                                                                                                                                                         \n",
       "2  See fewer ads everywhere on Yahoo, including your inbox                                                                                                                                                                                                                                                                                                                                                                                                                                                             \n",
       "3  “At the time her husband was with her and called 911 while running to try to get to her,” deputies said.                                                                                                                                                                                                                                                                                                                                                                                                            \n",
       "4  Kate Beckinsale, 48, went pantsless in a sheer gown at the Vanity Fair Oscars after party, and her Legs are so toned. The actress works out six days a week.                                                                                                                                                                                                                                                                                                                                                        \n",
       "5  A Black British man, in desperate need of monthly blood transfusion, was turned away from an airport in Jamaica because airline officials rejected his passport, […]                                                                                                                                                                                                                                                                                                                                                \n",
       "6  Amazon supposedly asks job applicants to solve this \"hanging cable\" problem. Here's what it looks like—and how to solve it.                                                                                                                                                                                                                                                                                                                                                                                         \n",
       "7  Tiffany Haddish was not feeling ET reporter Lauren Zima after the host insinuated she was wearing a costume to the 2022 Vanity Fair Oscars Afterparty. I'm wearing Dolce & Gabbana.\"                                                                                                                                                                                                                                                                                                                                \n",
       "8  On Saturday, the Great Sioux Nation in South Dakota issued a “Notice of Trespass (Cease and Desist)” order against Connie Uhre-Grand Gateway Hotel and its subsidiaries with instructions to vacate the premises.  Connie Uhre is the 76-year-old owner of the Grand Gateway Hotel that posted on social media she would ban Native American from the property after a shooting took place in one of the hotel rooms in the early hours of March 19.  Uhre wrote on Facebook: “Do [sic] to the killing that took pla\n",
       "9  You're at your best when you're at the vanguard of a new project or movement, so today should be just about perfect! Your leadership makes all the difference when people need direction.                                                                                                                                                                                                                                                                                                                           "
      ]
     },
     "execution_count": 23,
     "metadata": {},
     "output_type": "execute_result"
    }
   ],
   "source": [
    "dfText"
   ]
  },
  {
   "cell_type": "code",
   "execution_count": 24,
   "metadata": {},
   "outputs": [],
   "source": [
    "dfText.to_csv('c:/scraping/yahoo_pandas.csv',sep=';',index=False,encoding='utf-16',float_format='%.2f',decimal='.')"
   ]
  },
  {
   "cell_type": "code",
   "execution_count": 25,
   "metadata": {},
   "outputs": [],
   "source": [
    "dfText.to_json('c:/scraping/yahoo_data.json', orient='records', lines=True)"
   ]
  },
  {
   "cell_type": "code",
   "execution_count": 27,
   "metadata": {},
   "outputs": [],
   "source": [
    "with open('./scraping/yahoo_dataV1.json', 'w', encoding='utf-16') as jsonfile:\n",
    "    dfText.to_json(jsonfile, force_ascii=False)"
   ]
  },
  {
   "cell_type": "code",
   "execution_count": 28,
   "metadata": {},
   "outputs": [
    {
     "data": {
      "text/html": [
       "<div>\n",
       "<style scoped>\n",
       "    .dataframe tbody tr th:only-of-type {\n",
       "        vertical-align: middle;\n",
       "    }\n",
       "\n",
       "    .dataframe tbody tr th {\n",
       "        vertical-align: top;\n",
       "    }\n",
       "\n",
       "    .dataframe thead th {\n",
       "        text-align: right;\n",
       "    }\n",
       "</style>\n",
       "<table border=\"1\" class=\"dataframe\">\n",
       "  <thead>\n",
       "    <tr style=\"text-align: right;\">\n",
       "      <th></th>\n",
       "      <th>Texto</th>\n",
       "    </tr>\n",
       "  </thead>\n",
       "  <tbody>\n",
       "    <tr>\n",
       "      <th>0</th>\n",
       "      <td>The sanctioned Russian billionaire Roman Abramovich and Ukrainian peace negotiators suffered symptoms of suspected poisoning earlier this month after a meeting in Kyiv.</td>\n",
       "    </tr>\n",
       "    <tr>\n",
       "      <th>1</th>\n",
       "      <td>Wall Street Journal broke story on Monday »</td>\n",
       "    </tr>\n",
       "    <tr>\n",
       "      <th>2</th>\n",
       "      <td>See fewer ads everywhere on Yahoo, including your inbox</td>\n",
       "    </tr>\n",
       "    <tr>\n",
       "      <th>3</th>\n",
       "      <td>“At the time her husband was with her and called 911 while running to try to get to her,” deputies said.</td>\n",
       "    </tr>\n",
       "    <tr>\n",
       "      <th>4</th>\n",
       "      <td>Kate Beckinsale, 48, went pantsless in a sheer gown at the Vanity Fair Oscars after party, and her Legs are so toned. The actress works out six days a week.</td>\n",
       "    </tr>\n",
       "    <tr>\n",
       "      <th>5</th>\n",
       "      <td>A Black British man, in desperate need of monthly blood transfusion, was turned away from an airport in Jamaica because airline officials rejected his passport, […]</td>\n",
       "    </tr>\n",
       "    <tr>\n",
       "      <th>6</th>\n",
       "      <td>Amazon supposedly asks job applicants to solve this \"hanging cable\" problem. Here's what it looks like—and how to solve it.</td>\n",
       "    </tr>\n",
       "    <tr>\n",
       "      <th>7</th>\n",
       "      <td>Tiffany Haddish was not feeling ET reporter Lauren Zima after the host insinuated she was wearing a costume to the 2022 Vanity Fair Oscars Afterparty. I'm wearing Dolce &amp; Gabbana.\"</td>\n",
       "    </tr>\n",
       "    <tr>\n",
       "      <th>8</th>\n",
       "      <td>On Saturday, the Great Sioux Nation in South Dakota issued a “Notice of Trespass (Cease and Desist)” order against Connie Uhre-Grand Gateway Hotel and its subsidiaries with instructions to vacate the premises.  Connie Uhre is the 76-year-old owner of the Grand Gateway Hotel that posted on social media she would ban Native American from the property after a shooting took place in one of the hotel rooms in the early hours of March 19.  Uhre wrote on Facebook: “Do [sic] to the killing that took pla</td>\n",
       "    </tr>\n",
       "    <tr>\n",
       "      <th>9</th>\n",
       "      <td>You're at your best when you're at the vanguard of a new project or movement, so today should be just about perfect! Your leadership makes all the difference when people need direction.</td>\n",
       "    </tr>\n",
       "  </tbody>\n",
       "</table>\n",
       "</div>"
      ],
      "text/plain": [
       "                                                                                                                                                                                                                                                                                                                                                                                                                                                                                                                  Texto\n",
       "0  The sanctioned Russian billionaire Roman Abramovich and Ukrainian peace negotiators suffered symptoms of suspected poisoning earlier this month after a meeting in Kyiv.                                                                                                                                                                                                                                                                                                                                            \n",
       "1  Wall Street Journal broke story on Monday »                                                                                                                                                                                                                                                                                                                                                                                                                                                                         \n",
       "2  See fewer ads everywhere on Yahoo, including your inbox                                                                                                                                                                                                                                                                                                                                                                                                                                                             \n",
       "3  “At the time her husband was with her and called 911 while running to try to get to her,” deputies said.                                                                                                                                                                                                                                                                                                                                                                                                            \n",
       "4  Kate Beckinsale, 48, went pantsless in a sheer gown at the Vanity Fair Oscars after party, and her Legs are so toned. The actress works out six days a week.                                                                                                                                                                                                                                                                                                                                                        \n",
       "5  A Black British man, in desperate need of monthly blood transfusion, was turned away from an airport in Jamaica because airline officials rejected his passport, […]                                                                                                                                                                                                                                                                                                                                                \n",
       "6  Amazon supposedly asks job applicants to solve this \"hanging cable\" problem. Here's what it looks like—and how to solve it.                                                                                                                                                                                                                                                                                                                                                                                         \n",
       "7  Tiffany Haddish was not feeling ET reporter Lauren Zima after the host insinuated she was wearing a costume to the 2022 Vanity Fair Oscars Afterparty. I'm wearing Dolce & Gabbana.\"                                                                                                                                                                                                                                                                                                                                \n",
       "8  On Saturday, the Great Sioux Nation in South Dakota issued a “Notice of Trespass (Cease and Desist)” order against Connie Uhre-Grand Gateway Hotel and its subsidiaries with instructions to vacate the premises.  Connie Uhre is the 76-year-old owner of the Grand Gateway Hotel that posted on social media she would ban Native American from the property after a shooting took place in one of the hotel rooms in the early hours of March 19.  Uhre wrote on Facebook: “Do [sic] to the killing that took pla\n",
       "9  You're at your best when you're at the vanguard of a new project or movement, so today should be just about perfect! Your leadership makes all the difference when people need direction.                                                                                                                                                                                                                                                                                                                           "
      ]
     },
     "execution_count": 28,
     "metadata": {},
     "output_type": "execute_result"
    }
   ],
   "source": [
    "dfText"
   ]
  },
  {
   "cell_type": "markdown",
   "metadata": {},
   "source": [
    "___________________"
   ]
  },
  {
   "cell_type": "code",
   "execution_count": null,
   "metadata": {},
   "outputs": [],
   "source": []
  }
 ],
 "metadata": {
  "kernelspec": {
   "display_name": "Python 3",
   "language": "python",
   "name": "python3"
  },
  "language_info": {
   "codemirror_mode": {
    "name": "ipython",
    "version": 3
   },
   "file_extension": ".py",
   "mimetype": "text/x-python",
   "name": "python",
   "nbconvert_exporter": "python",
   "pygments_lexer": "ipython3",
   "version": "3.8.5"
  }
 },
 "nbformat": 4,
 "nbformat_minor": 4
}
