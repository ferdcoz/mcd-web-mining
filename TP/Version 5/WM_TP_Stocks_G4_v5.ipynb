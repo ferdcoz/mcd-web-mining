{
  "cells": [
    {
      "cell_type": "markdown",
      "metadata": {
        "id": "H7oSSyQvCeSU"
      },
      "source": [
        "## Web Mining - TP Stocks - Grupo 4"
      ]
    },
    {
      "cell_type": "markdown",
      "metadata": {
        "id": "ROeLVArVCeSY"
      },
      "source": [
        "### Librerias"
      ]
    },
    {
      "cell_type": "code",
      "execution_count": null,
      "metadata": {
        "id": "mrAUkdymCeSZ",
        "outputId": "36bbc1f2-b53a-4fa5-a169-611b8fdfa5cd",
        "colab": {
          "base_uri": "https://localhost:8080/"
        }
      },
      "outputs": [
        {
          "output_type": "stream",
          "name": "stderr",
          "text": [
            "[nltk_data] Downloading package stopwords to /root/nltk_data...\n",
            "[nltk_data]   Unzipping corpora/stopwords.zip.\n"
          ]
        }
      ],
      "source": [
        "import pandas as pd\n",
        "import nltk\n",
        "nltk.download('stopwords')\n",
        "import spacy # Python 3.12\n",
        "import numpy as np\n",
        "import matplotlib.pyplot as plt\n",
        "from xgboost import XGBClassifier\n",
        "from lightgbm import LGBMClassifier\n",
        "from nltk.corpus import stopwords\n",
        "from sklearn.feature_extraction.text import CountVectorizer, TfidfTransformer\n",
        "from sklearn.naive_bayes import MultinomialNB\n",
        "from sklearn.svm import LinearSVC\n",
        "from sklearn.ensemble import RandomForestClassifier, AdaBoostClassifier\n",
        "from sklearn.pipeline import Pipeline\n",
        "from sklearn.metrics import accuracy_score, f1_score, confusion_matrix, roc_curve, auc, classification_report\n",
        "from sklearn.calibration import CalibratedClassifierCV\n",
        "from sklearn.preprocessing import LabelEncoder, MinMaxScaler\n",
        "from sklearn.linear_model import LogisticRegression\n",
        "from sklearn.model_selection import cross_val_score\n",
        "from sklearn.neighbors import KNeighborsClassifier\n",
        "from sklearn.tree import DecisionTreeClassifier\n",
        "from sklearn.metrics.pairwise import cosine_similarity\n",
        "\n",
        "import warnings\n",
        "warnings.filterwarnings('ignore')"
      ]
    },
    {
      "cell_type": "markdown",
      "metadata": {
        "id": "e2kBYqFDCeSc"
      },
      "source": [
        "### Archivo entrenamiento"
      ]
    },
    {
      "cell_type": "code",
      "execution_count": null,
      "metadata": {
        "id": "23uRbtXfCeSd"
      },
      "outputs": [],
      "source": [
        "data = pd.read_excel('YPF UNIFICADO VERIFICADO V5 - TRAIN CON CLASIF Y TEST SEGUN ACCIONES YPF.xlsx', sheet_name= 'NOTICIAS')"
      ]
    },
    {
      "cell_type": "markdown",
      "metadata": {
        "id": "liKvslETCeSe"
      },
      "source": [
        "## Preprocesamiento"
      ]
    },
    {
      "cell_type": "markdown",
      "metadata": {
        "id": "QSwx9hEZCeSe"
      },
      "source": [
        "### Stopwords"
      ]
    },
    {
      "cell_type": "code",
      "execution_count": null,
      "metadata": {
        "id": "jo5-iqkuCeSf"
      },
      "outputs": [],
      "source": [
        "stopwords_en = set(stopwords.words('english'))"
      ]
    },
    {
      "cell_type": "code",
      "execution_count": null,
      "metadata": {
        "id": "1p8HhIpaCeSg"
      },
      "outputs": [],
      "source": [
        "# Listado de stopwords propio\n",
        "stopwords_personales = ['Refinitiv','Zacks','Rystad','Andrew','Rocco','Nilanjan','Benerjee','CERAWEEK','Tirthankar','Chakraborty','Anindya','Barman','Scott','Squires','Jonathan','Gilbert','Yvonne','Yue','Li'\n",
        "                        'Laura','Millan','Jorgelina','Do','Rosario']\n",
        "\n",
        "stopwords_personales = [x.lower() for x in stopwords_personales]\n",
        "\n",
        "stopwords_custom = list(stopwords_en.union(stopwords_personales))"
      ]
    },
    {
      "cell_type": "markdown",
      "metadata": {
        "id": "BZ4NRv-cCeSg"
      },
      "source": [
        "### Bag Of Words"
      ]
    },
    {
      "cell_type": "code",
      "execution_count": null,
      "metadata": {
        "id": "1oh6ViLbCeSh"
      },
      "outputs": [],
      "source": [
        "word_count = {}\n",
        "\n",
        "for sentence in data[data['Category'].isin(['Compra'])]['Text'].to_list():\n",
        "    words = sentence.split()\n",
        "\n",
        "    for word in words:\n",
        "        word = word.strip(\".,!?()\").lower()\n",
        "\n",
        "        if word in word_count:\n",
        "            word_count[word] += 1\n",
        "        else:\n",
        "            word_count[word] = 1"
      ]
    },
    {
      "cell_type": "code",
      "execution_count": null,
      "metadata": {
        "id": "OdLxbN2pCeSh"
      },
      "outputs": [],
      "source": [
        "word_count_filtro = {word: count for word, count in word_count.items() if word not in stopwords_en}"
      ]
    },
    {
      "cell_type": "code",
      "execution_count": null,
      "metadata": {
        "id": "iaXkWYyqCeSh"
      },
      "outputs": [],
      "source": [
        "word_counts_orden = dict(sorted(word_count_filtro.items(), key=lambda x: x[1], reverse=True))"
      ]
    },
    {
      "cell_type": "code",
      "execution_count": null,
      "metadata": {
        "id": "w7DPq-SGCeSi"
      },
      "outputs": [],
      "source": [
        "df = pd.DataFrame(list(word_counts_orden.items()), columns=['Palabra', 'Frecuencia'])\n",
        "file_path = 'bag_of_words.xlsx'\n",
        "df.to_excel(file_path, index=False)"
      ]
    },
    {
      "cell_type": "markdown",
      "metadata": {
        "id": "LPN2r-c3CeSj"
      },
      "source": [
        "### Función de Lematización"
      ]
    },
    {
      "cell_type": "code",
      "execution_count": null,
      "metadata": {
        "id": "h0q2goSvCeSk"
      },
      "outputs": [],
      "source": [
        "import en_core_web_sm"
      ]
    },
    {
      "cell_type": "code",
      "execution_count": null,
      "metadata": {
        "id": "I51B476SCeSk"
      },
      "outputs": [],
      "source": [
        "def func_lemma(X_train, dicc_stopwords):\n",
        "\n",
        "    nlp = spacy.load(\"en_core_web_sm\")\n",
        "    #pip3 install https://github.com/explosion/spacy-models/releases/download/en_core_web_sm-2.2.0/en_core_web_sm-2.2.0.tar.gz\n",
        "\n",
        "    X_train_lemma = []\n",
        "\n",
        "    for noticia in X_train:\n",
        "        l_doc = nlp(noticia)\n",
        "        v_lema = \" \".join([token.lemma_.lower() for token in l_doc if token.text.lower() not in dicc_stopwords and not token.is_punct])\n",
        "        X_train_lemma.append(v_lema)\n",
        "\n",
        "    return X_train_lemma"
      ]
    },
    {
      "cell_type": "markdown",
      "metadata": {
        "id": "5a21pu38CeSk"
      },
      "source": [
        "### Split Train / Test"
      ]
    },
    {
      "cell_type": "code",
      "execution_count": null,
      "metadata": {
        "id": "fwrX3BeRCeSk"
      },
      "outputs": [],
      "source": [
        "data_train = data[data['Train/Test'].isin(['Train'])]\n",
        "data_test = data[data['Train/Test'].isin(['Test'])]"
      ]
    },
    {
      "cell_type": "code",
      "execution_count": null,
      "metadata": {
        "id": "VEPfPD6kCeSk"
      },
      "outputs": [],
      "source": [
        "X_train = data_train['Text'].tolist()\n",
        "y_train = data_train['Category'].tolist()"
      ]
    },
    {
      "cell_type": "code",
      "execution_count": null,
      "metadata": {
        "id": "M0-ghnFcCeSk"
      },
      "outputs": [],
      "source": [
        "X_test = data_test['Text'].tolist()\n",
        "y_test = data_test['Category'].tolist()"
      ]
    },
    {
      "cell_type": "markdown",
      "metadata": {
        "id": "pkn04wPuCeSl"
      },
      "source": [
        "### Lemma (Similitud del Coseno y Jaccard)"
      ]
    },
    {
      "cell_type": "markdown",
      "metadata": {
        "id": "JGvfAPQVCeSl"
      },
      "source": [
        "Queremos verificar si aplicar lematización realmente cambia la composición del texto y si el texto transformado se reduce."
      ]
    },
    {
      "cell_type": "code",
      "execution_count": null,
      "metadata": {
        "id": "ZeeTuhdnCeSl"
      },
      "outputs": [],
      "source": [
        "list1 = X_train\n",
        "list2 = func_lemma(X_train, stopwords_custom)\n",
        "vectorizer = CountVectorizer()\n",
        "\n",
        "data_lemma = []\n",
        "\n",
        "for str1, str2 in zip(list1, list2):\n",
        "    tokens1 = str1.split()\n",
        "    tokens2 = str2.split()\n",
        "\n",
        "    matrix1 = vectorizer.fit_transform([\" \".join(tokens1)])\n",
        "    matrix2 = vectorizer.transform([\" \".join(tokens2)])\n",
        "\n",
        "    cosine_sim = cosine_similarity(matrix1, matrix2)[0][0]\n",
        "\n",
        "    data_lemma.append([str1, str2, cosine_sim])\n",
        "\n",
        "df_lemma = pd.DataFrame(data_lemma, columns=[\"Original\", \"Lemma\", \"Sim_Coseno\"])"
      ]
    },
    {
      "cell_type": "code",
      "execution_count": null,
      "metadata": {
        "id": "8Bkw_hysCeSl",
        "outputId": "5ab1e628-363b-4e08-e4c8-b29239b6c825",
        "colab": {
          "base_uri": "https://localhost:8080/",
          "height": 206
        }
      },
      "outputs": [
        {
          "output_type": "execute_result",
          "data": {
            "text/plain": [
              "                                            Original  \\\n",
              "0  Oil Driller YPF Surges as Winner Milei Touts P...   \n",
              "1  Milei to Face Painful Recession in Argentina N...   \n",
              "2  Argentina/election: dollarising disrupter brin...   \n",
              "3  Argentine stocks and bonds boosted by election...   \n",
              "4  Milei’s victory in Argentina cheered by invest...   \n",
              "\n",
              "                                               Lemma  Sim_Coseno  \n",
              "0  oil driller ypf surges winner milei touts priv...    0.690596  \n",
              "1  milei face painful recession argentina next ye...    0.819680  \n",
              "2  argentina election dollarise disrupter bring i...    0.816497  \n",
              "3          argentine stock bond boost election milei    0.577350  \n",
              "4          milei ’s victory argentina cheer investor    0.654654  "
            ],
            "text/html": [
              "\n",
              "  <div id=\"df-a8514e6f-79fc-48c2-84ab-68caadf9c1a8\" class=\"colab-df-container\">\n",
              "    <div>\n",
              "<style scoped>\n",
              "    .dataframe tbody tr th:only-of-type {\n",
              "        vertical-align: middle;\n",
              "    }\n",
              "\n",
              "    .dataframe tbody tr th {\n",
              "        vertical-align: top;\n",
              "    }\n",
              "\n",
              "    .dataframe thead th {\n",
              "        text-align: right;\n",
              "    }\n",
              "</style>\n",
              "<table border=\"1\" class=\"dataframe\">\n",
              "  <thead>\n",
              "    <tr style=\"text-align: right;\">\n",
              "      <th></th>\n",
              "      <th>Original</th>\n",
              "      <th>Lemma</th>\n",
              "      <th>Sim_Coseno</th>\n",
              "    </tr>\n",
              "  </thead>\n",
              "  <tbody>\n",
              "    <tr>\n",
              "      <th>0</th>\n",
              "      <td>Oil Driller YPF Surges as Winner Milei Touts P...</td>\n",
              "      <td>oil driller ypf surges winner milei touts priv...</td>\n",
              "      <td>0.690596</td>\n",
              "    </tr>\n",
              "    <tr>\n",
              "      <th>1</th>\n",
              "      <td>Milei to Face Painful Recession in Argentina N...</td>\n",
              "      <td>milei face painful recession argentina next ye...</td>\n",
              "      <td>0.819680</td>\n",
              "    </tr>\n",
              "    <tr>\n",
              "      <th>2</th>\n",
              "      <td>Argentina/election: dollarising disrupter brin...</td>\n",
              "      <td>argentina election dollarise disrupter bring i...</td>\n",
              "      <td>0.816497</td>\n",
              "    </tr>\n",
              "    <tr>\n",
              "      <th>3</th>\n",
              "      <td>Argentine stocks and bonds boosted by election...</td>\n",
              "      <td>argentine stock bond boost election milei</td>\n",
              "      <td>0.577350</td>\n",
              "    </tr>\n",
              "    <tr>\n",
              "      <th>4</th>\n",
              "      <td>Milei’s victory in Argentina cheered by invest...</td>\n",
              "      <td>milei ’s victory argentina cheer investor</td>\n",
              "      <td>0.654654</td>\n",
              "    </tr>\n",
              "  </tbody>\n",
              "</table>\n",
              "</div>\n",
              "    <div class=\"colab-df-buttons\">\n",
              "\n",
              "  <div class=\"colab-df-container\">\n",
              "    <button class=\"colab-df-convert\" onclick=\"convertToInteractive('df-a8514e6f-79fc-48c2-84ab-68caadf9c1a8')\"\n",
              "            title=\"Convert this dataframe to an interactive table.\"\n",
              "            style=\"display:none;\">\n",
              "\n",
              "  <svg xmlns=\"http://www.w3.org/2000/svg\" height=\"24px\" viewBox=\"0 -960 960 960\">\n",
              "    <path d=\"M120-120v-720h720v720H120Zm60-500h600v-160H180v160Zm220 220h160v-160H400v160Zm0 220h160v-160H400v160ZM180-400h160v-160H180v160Zm440 0h160v-160H620v160ZM180-180h160v-160H180v160Zm440 0h160v-160H620v160Z\"/>\n",
              "  </svg>\n",
              "    </button>\n",
              "\n",
              "  <style>\n",
              "    .colab-df-container {\n",
              "      display:flex;\n",
              "      gap: 12px;\n",
              "    }\n",
              "\n",
              "    .colab-df-convert {\n",
              "      background-color: #E8F0FE;\n",
              "      border: none;\n",
              "      border-radius: 50%;\n",
              "      cursor: pointer;\n",
              "      display: none;\n",
              "      fill: #1967D2;\n",
              "      height: 32px;\n",
              "      padding: 0 0 0 0;\n",
              "      width: 32px;\n",
              "    }\n",
              "\n",
              "    .colab-df-convert:hover {\n",
              "      background-color: #E2EBFA;\n",
              "      box-shadow: 0px 1px 2px rgba(60, 64, 67, 0.3), 0px 1px 3px 1px rgba(60, 64, 67, 0.15);\n",
              "      fill: #174EA6;\n",
              "    }\n",
              "\n",
              "    .colab-df-buttons div {\n",
              "      margin-bottom: 4px;\n",
              "    }\n",
              "\n",
              "    [theme=dark] .colab-df-convert {\n",
              "      background-color: #3B4455;\n",
              "      fill: #D2E3FC;\n",
              "    }\n",
              "\n",
              "    [theme=dark] .colab-df-convert:hover {\n",
              "      background-color: #434B5C;\n",
              "      box-shadow: 0px 1px 3px 1px rgba(0, 0, 0, 0.15);\n",
              "      filter: drop-shadow(0px 1px 2px rgba(0, 0, 0, 0.3));\n",
              "      fill: #FFFFFF;\n",
              "    }\n",
              "  </style>\n",
              "\n",
              "    <script>\n",
              "      const buttonEl =\n",
              "        document.querySelector('#df-a8514e6f-79fc-48c2-84ab-68caadf9c1a8 button.colab-df-convert');\n",
              "      buttonEl.style.display =\n",
              "        google.colab.kernel.accessAllowed ? 'block' : 'none';\n",
              "\n",
              "      async function convertToInteractive(key) {\n",
              "        const element = document.querySelector('#df-a8514e6f-79fc-48c2-84ab-68caadf9c1a8');\n",
              "        const dataTable =\n",
              "          await google.colab.kernel.invokeFunction('convertToInteractive',\n",
              "                                                    [key], {});\n",
              "        if (!dataTable) return;\n",
              "\n",
              "        const docLinkHtml = 'Like what you see? Visit the ' +\n",
              "          '<a target=\"_blank\" href=https://colab.research.google.com/notebooks/data_table.ipynb>data table notebook</a>'\n",
              "          + ' to learn more about interactive tables.';\n",
              "        element.innerHTML = '';\n",
              "        dataTable['output_type'] = 'display_data';\n",
              "        await google.colab.output.renderOutput(dataTable, element);\n",
              "        const docLink = document.createElement('div');\n",
              "        docLink.innerHTML = docLinkHtml;\n",
              "        element.appendChild(docLink);\n",
              "      }\n",
              "    </script>\n",
              "  </div>\n",
              "\n",
              "\n",
              "<div id=\"df-6603534d-1424-46fa-bd90-e421f123867c\">\n",
              "  <button class=\"colab-df-quickchart\" onclick=\"quickchart('df-6603534d-1424-46fa-bd90-e421f123867c')\"\n",
              "            title=\"Suggest charts\"\n",
              "            style=\"display:none;\">\n",
              "\n",
              "<svg xmlns=\"http://www.w3.org/2000/svg\" height=\"24px\"viewBox=\"0 0 24 24\"\n",
              "     width=\"24px\">\n",
              "    <g>\n",
              "        <path d=\"M19 3H5c-1.1 0-2 .9-2 2v14c0 1.1.9 2 2 2h14c1.1 0 2-.9 2-2V5c0-1.1-.9-2-2-2zM9 17H7v-7h2v7zm4 0h-2V7h2v10zm4 0h-2v-4h2v4z\"/>\n",
              "    </g>\n",
              "</svg>\n",
              "  </button>\n",
              "\n",
              "<style>\n",
              "  .colab-df-quickchart {\n",
              "      --bg-color: #E8F0FE;\n",
              "      --fill-color: #1967D2;\n",
              "      --hover-bg-color: #E2EBFA;\n",
              "      --hover-fill-color: #174EA6;\n",
              "      --disabled-fill-color: #AAA;\n",
              "      --disabled-bg-color: #DDD;\n",
              "  }\n",
              "\n",
              "  [theme=dark] .colab-df-quickchart {\n",
              "      --bg-color: #3B4455;\n",
              "      --fill-color: #D2E3FC;\n",
              "      --hover-bg-color: #434B5C;\n",
              "      --hover-fill-color: #FFFFFF;\n",
              "      --disabled-bg-color: #3B4455;\n",
              "      --disabled-fill-color: #666;\n",
              "  }\n",
              "\n",
              "  .colab-df-quickchart {\n",
              "    background-color: var(--bg-color);\n",
              "    border: none;\n",
              "    border-radius: 50%;\n",
              "    cursor: pointer;\n",
              "    display: none;\n",
              "    fill: var(--fill-color);\n",
              "    height: 32px;\n",
              "    padding: 0;\n",
              "    width: 32px;\n",
              "  }\n",
              "\n",
              "  .colab-df-quickchart:hover {\n",
              "    background-color: var(--hover-bg-color);\n",
              "    box-shadow: 0 1px 2px rgba(60, 64, 67, 0.3), 0 1px 3px 1px rgba(60, 64, 67, 0.15);\n",
              "    fill: var(--button-hover-fill-color);\n",
              "  }\n",
              "\n",
              "  .colab-df-quickchart-complete:disabled,\n",
              "  .colab-df-quickchart-complete:disabled:hover {\n",
              "    background-color: var(--disabled-bg-color);\n",
              "    fill: var(--disabled-fill-color);\n",
              "    box-shadow: none;\n",
              "  }\n",
              "\n",
              "  .colab-df-spinner {\n",
              "    border: 2px solid var(--fill-color);\n",
              "    border-color: transparent;\n",
              "    border-bottom-color: var(--fill-color);\n",
              "    animation:\n",
              "      spin 1s steps(1) infinite;\n",
              "  }\n",
              "\n",
              "  @keyframes spin {\n",
              "    0% {\n",
              "      border-color: transparent;\n",
              "      border-bottom-color: var(--fill-color);\n",
              "      border-left-color: var(--fill-color);\n",
              "    }\n",
              "    20% {\n",
              "      border-color: transparent;\n",
              "      border-left-color: var(--fill-color);\n",
              "      border-top-color: var(--fill-color);\n",
              "    }\n",
              "    30% {\n",
              "      border-color: transparent;\n",
              "      border-left-color: var(--fill-color);\n",
              "      border-top-color: var(--fill-color);\n",
              "      border-right-color: var(--fill-color);\n",
              "    }\n",
              "    40% {\n",
              "      border-color: transparent;\n",
              "      border-right-color: var(--fill-color);\n",
              "      border-top-color: var(--fill-color);\n",
              "    }\n",
              "    60% {\n",
              "      border-color: transparent;\n",
              "      border-right-color: var(--fill-color);\n",
              "    }\n",
              "    80% {\n",
              "      border-color: transparent;\n",
              "      border-right-color: var(--fill-color);\n",
              "      border-bottom-color: var(--fill-color);\n",
              "    }\n",
              "    90% {\n",
              "      border-color: transparent;\n",
              "      border-bottom-color: var(--fill-color);\n",
              "    }\n",
              "  }\n",
              "</style>\n",
              "\n",
              "  <script>\n",
              "    async function quickchart(key) {\n",
              "      const quickchartButtonEl =\n",
              "        document.querySelector('#' + key + ' button');\n",
              "      quickchartButtonEl.disabled = true;  // To prevent multiple clicks.\n",
              "      quickchartButtonEl.classList.add('colab-df-spinner');\n",
              "      try {\n",
              "        const charts = await google.colab.kernel.invokeFunction(\n",
              "            'suggestCharts', [key], {});\n",
              "      } catch (error) {\n",
              "        console.error('Error during call to suggestCharts:', error);\n",
              "      }\n",
              "      quickchartButtonEl.classList.remove('colab-df-spinner');\n",
              "      quickchartButtonEl.classList.add('colab-df-quickchart-complete');\n",
              "    }\n",
              "    (() => {\n",
              "      let quickchartButtonEl =\n",
              "        document.querySelector('#df-6603534d-1424-46fa-bd90-e421f123867c button');\n",
              "      quickchartButtonEl.style.display =\n",
              "        google.colab.kernel.accessAllowed ? 'block' : 'none';\n",
              "    })();\n",
              "  </script>\n",
              "</div>\n",
              "\n",
              "    </div>\n",
              "  </div>\n"
            ],
            "application/vnd.google.colaboratory.intrinsic+json": {
              "type": "dataframe",
              "variable_name": "df_lemma",
              "summary": "{\n  \"name\": \"df_lemma\",\n  \"rows\": 308,\n  \"fields\": [\n    {\n      \"column\": \"Original\",\n      \"properties\": {\n        \"dtype\": \"string\",\n        \"num_unique_values\": 299,\n        \"samples\": [\n          \"Argentina Mulls Oil Price Controls in Bill to Tap Shale Trove. Argentina\\u2019s government is pushing for long-term oil price controls as the South American nation runs out of time to unearth a shale trove in Patagonia.\",\n          \"EXCLUSIVE Argentina President set to decree $1.6 bln Vaca Muerta gas pipeline - gov't source. \",\n          \"YPF Sociedad Anonima (YPF) Gains But Lags Market: What You Should Know YPF Sociedad Anonima (YPF) closed the most recent trading day at $11.54, moving +0.52% from the previous trading session.. \"\n        ],\n        \"semantic_type\": \"\",\n        \"description\": \"\"\n      }\n    },\n    {\n      \"column\": \"Lemma\",\n      \"properties\": {\n        \"dtype\": \"string\",\n        \"num_unique_values\": 299,\n        \"samples\": [\n          \"argentina mulls oil price control bill tap shale trove argentina \\u2019s government push long term oil price control south american nation run time unearth shale trove patagonia\",\n          \"exclusive argentina president set decree $ 1.6 bln vaca muerta gas pipeline gov't source\",\n          \"ypf sociedad anonima ypf gain lags market know ypf sociedad anonima ypf close recent trading day $ 11.54 move +0.52 previous trading session\"\n        ],\n        \"semantic_type\": \"\",\n        \"description\": \"\"\n      }\n    },\n    {\n      \"column\": \"Sim_Coseno\",\n      \"properties\": {\n        \"dtype\": \"number\",\n        \"std\": 0.09579997901615503,\n        \"min\": 0.507253164941173,\n        \"max\": 0.960768922830523,\n        \"num_unique_values\": 198,\n        \"samples\": [\n          0.9053574604251853,\n          0.7713356685664039,\n          0.8528028654224417\n        ],\n        \"semantic_type\": \"\",\n        \"description\": \"\"\n      }\n    }\n  ]\n}"
            }
          },
          "metadata": {},
          "execution_count": 15
        }
      ],
      "source": [
        "df_lemma.head()"
      ]
    },
    {
      "cell_type": "code",
      "execution_count": null,
      "metadata": {
        "id": "bs7iwG1hCeSl",
        "outputId": "8ea50076-f76b-4e6c-8e34-20328dbd4b26",
        "colab": {
          "base_uri": "https://localhost:8080/"
        }
      },
      "outputs": [
        {
          "output_type": "stream",
          "name": "stdout",
          "text": [
            "Diccionario original: 2343\n",
            "Diccionario lematizado: 1569\n"
          ]
        }
      ],
      "source": [
        "def remove_stopwords(tokens):\n",
        "    filtered_tokens = [word for word in tokens if word.lower() not in stopwords_custom]\n",
        "    return filtered_tokens\n",
        "\n",
        "original_text = \" \".join(list1)\n",
        "lemmatized_text = \" \".join(list2)\n",
        "\n",
        "original_tokens = original_text.split()\n",
        "lemmatized_tokens = lemmatized_text.split()\n",
        "\n",
        "filtered_original_tokens = remove_stopwords(original_tokens)\n",
        "filtered_lemmatized_tokens = remove_stopwords(lemmatized_tokens)\n",
        "\n",
        "original_unique_words = set(filtered_original_tokens)\n",
        "lemmatized_unique_words = set(filtered_lemmatized_tokens)\n",
        "\n",
        "total_unique_words_original = len(original_unique_words)\n",
        "total_unique_words_lemmatized = len(lemmatized_unique_words)\n",
        "\n",
        "print(f\"Diccionario original: {total_unique_words_original}\")\n",
        "print(f\"Diccionario lematizado: {total_unique_words_lemmatized}\")"
      ]
    },
    {
      "cell_type": "markdown",
      "metadata": {
        "id": "PZRpMlDZCeSm"
      },
      "source": [
        "Vemos que el diccionario de términos luego de la lematización no se reduce significativamente."
      ]
    },
    {
      "cell_type": "markdown",
      "metadata": {
        "id": "76jHFHwcCeSm"
      },
      "source": [
        "## Entrenamiento"
      ]
    },
    {
      "cell_type": "markdown",
      "metadata": {
        "id": "Eapd9-svCeSm"
      },
      "source": [
        "### Regresión Logistica"
      ]
    },
    {
      "cell_type": "markdown",
      "metadata": {
        "id": "KZG_gsm1CeSn"
      },
      "source": [
        "#### Pipeline"
      ]
    },
    {
      "cell_type": "code",
      "execution_count": null,
      "metadata": {
        "id": "4pCPTlIiCeSn"
      },
      "outputs": [],
      "source": [
        "clf_lr = Pipeline([\n",
        "    ('vect' , CountVectorizer()),\n",
        "    ('tfidf', TfidfTransformer()),\n",
        "    ('clf'  , LogisticRegression())\n",
        "])\n",
        "\n",
        "clf_lr_sw = Pipeline([\n",
        "    ('vect' , CountVectorizer(stop_words=stopwords_custom)),\n",
        "    ('tfidf', TfidfTransformer()),\n",
        "    ('clf'  , LogisticRegression())\n",
        "])"
      ]
    },
    {
      "cell_type": "markdown",
      "metadata": {
        "id": "iVB6bwuJCeSn"
      },
      "source": [
        "#### Entrenamiento"
      ]
    },
    {
      "cell_type": "code",
      "execution_count": null,
      "metadata": {
        "id": "PoaEjGLvCeSn"
      },
      "outputs": [],
      "source": [
        "clf_lr = clf_lr.fit(X_train, y_train)\n",
        "\n",
        "clf_lr_sw = clf_lr_sw.fit(X_train, y_train)\n",
        "\n",
        "clf_lr_lema = clf_lr.fit(func_lemma(X_train,stopwords_custom), y_train)"
      ]
    },
    {
      "cell_type": "markdown",
      "metadata": {
        "id": "uaZpm25RCeSn"
      },
      "source": [
        "#### Predicción ( Etiquetas )"
      ]
    },
    {
      "cell_type": "code",
      "execution_count": null,
      "metadata": {
        "id": "0qso-FWrCeSn"
      },
      "outputs": [],
      "source": [
        "y_pred_lr = clf_lr.predict(X_test)\n",
        "\n",
        "y_pred_lr_sw = clf_lr_sw.predict(X_test)\n",
        "\n",
        "y_pred_lr_lema = clf_lr_lema.predict(X_test)"
      ]
    },
    {
      "cell_type": "markdown",
      "metadata": {
        "id": "eOgL5eZ9CeSo"
      },
      "source": [
        "#### Predicción ( Probabilidad )"
      ]
    },
    {
      "cell_type": "code",
      "execution_count": null,
      "metadata": {
        "id": "h8YAArhZCeSq"
      },
      "outputs": [],
      "source": [
        "y_pred_lr_proba = clf_lr.predict_proba(X_test)\n",
        "\n",
        "y_pred_lr_sw_proba = clf_lr_sw.predict_proba(X_test)\n",
        "\n",
        "y_pred_lr_lema_proba = clf_lr_lema.predict_proba(X_test)"
      ]
    },
    {
      "cell_type": "markdown",
      "metadata": {
        "id": "GgwXDR9VCeSq"
      },
      "source": [
        "#### Evaluación"
      ]
    },
    {
      "cell_type": "code",
      "execution_count": null,
      "metadata": {
        "id": "0cO0zq6ECeSq",
        "outputId": "7a159f94-9e8a-4265-b7db-80a1381b061f",
        "colab": {
          "base_uri": "https://localhost:8080/"
        }
      },
      "outputs": [
        {
          "output_type": "stream",
          "name": "stdout",
          "text": [
            "Accuracy: 51.46%\n",
            "\n",
            "F1 Score: 49.02\n",
            "\n",
            "Confusion Matrix:\n",
            " [[15 36]\n",
            " [14 38]]\n"
          ]
        }
      ],
      "source": [
        "print(\"Accuracy: {:.2f}%\".format(accuracy_score(y_test, y_pred_lr_sw) * 100))\n",
        "print(\"\\nF1 Score: {:.2f}\".format(f1_score(y_test, y_pred_lr_sw, average='weighted') * 100))\n",
        "print(\"\\nConfusion Matrix:\\n\", confusion_matrix(y_test, y_pred_lr_sw))"
      ]
    },
    {
      "cell_type": "markdown",
      "metadata": {
        "id": "5VQ-iyhACeSq"
      },
      "source": [
        "### Naive Bayes Multinomial"
      ]
    },
    {
      "cell_type": "markdown",
      "metadata": {
        "id": "2mOQu4xxCeSq"
      },
      "source": [
        "#### Pipeline"
      ]
    },
    {
      "cell_type": "code",
      "execution_count": null,
      "metadata": {
        "id": "6ToQNXmzCeSr"
      },
      "outputs": [],
      "source": [
        "clf_nb = Pipeline([\n",
        "    ('vect' , CountVectorizer()),\n",
        "    ('tfidf', TfidfTransformer()),\n",
        "    ('clf'  , MultinomialNB())\n",
        "])\n",
        "\n",
        "clf_nb_sw = Pipeline([\n",
        "    ('vect' , CountVectorizer(stop_words=stopwords_custom)),\n",
        "    ('tfidf', TfidfTransformer()),\n",
        "    ('clf'  , MultinomialNB())\n",
        "])"
      ]
    },
    {
      "cell_type": "markdown",
      "metadata": {
        "id": "8lSoqCerCeSr"
      },
      "source": [
        "#### Entrenamiento"
      ]
    },
    {
      "cell_type": "code",
      "execution_count": null,
      "metadata": {
        "id": "LSoyfK9rCeSr"
      },
      "outputs": [],
      "source": [
        "clf_nb = clf_nb.fit(X_train, y_train)\n",
        "\n",
        "clf_nb_sw = clf_nb_sw.fit(X_train, y_train)\n",
        "\n",
        "clf_nb_lema = clf_nb.fit(func_lemma(X_train,stopwords_custom), y_train)"
      ]
    },
    {
      "cell_type": "markdown",
      "metadata": {
        "id": "MuAFhh8aCeSr"
      },
      "source": [
        "#### Predicción ( Etiquetas )"
      ]
    },
    {
      "cell_type": "code",
      "execution_count": null,
      "metadata": {
        "id": "xr-ECkLrCeSr"
      },
      "outputs": [],
      "source": [
        "y_pred_nb = clf_nb.predict(X_test)\n",
        "\n",
        "y_pred_nb_sw = clf_nb_sw.predict(X_test)\n",
        "\n",
        "y_pred_nb_lema = clf_nb_lema.predict(X_test)"
      ]
    },
    {
      "cell_type": "markdown",
      "metadata": {
        "id": "s1GE9K_iCeSs"
      },
      "source": [
        "#### Predicción ( Probabilidad )"
      ]
    },
    {
      "cell_type": "code",
      "execution_count": null,
      "metadata": {
        "id": "2TDUJya0CeSs"
      },
      "outputs": [],
      "source": [
        "y_pred_nb_proba = clf_nb.predict_proba(X_test)\n",
        "\n",
        "y_pred_nb_sw_proba = clf_nb_sw.predict_proba(X_test)\n",
        "\n",
        "y_pred_nb_lema_proba = clf_nb_lema.predict_proba(X_test)"
      ]
    },
    {
      "cell_type": "markdown",
      "metadata": {
        "id": "_LpVepd4CeSs"
      },
      "source": [
        "#### Evaluación"
      ]
    },
    {
      "cell_type": "code",
      "execution_count": null,
      "metadata": {
        "id": "dwlC5AITCeSt",
        "outputId": "98452e22-28a5-46d8-8b92-19804a730ed6",
        "colab": {
          "base_uri": "https://localhost:8080/"
        }
      },
      "outputs": [
        {
          "output_type": "stream",
          "name": "stdout",
          "text": [
            "Accuracy: 44.66%\n",
            "\n",
            "F1 Score: 44.60\n",
            "\n",
            "Confusion Matrix:\n",
            " [[21 30]\n",
            " [27 25]]\n"
          ]
        }
      ],
      "source": [
        "print(\"Accuracy: {:.2f}%\".format(accuracy_score(y_test, y_pred_nb) * 100))\n",
        "print(\"\\nF1 Score: {:.2f}\".format(f1_score(y_test, y_pred_nb, average='weighted') * 100))\n",
        "print(\"\\nConfusion Matrix:\\n\", confusion_matrix(y_test, y_pred_nb))"
      ]
    },
    {
      "cell_type": "code",
      "execution_count": null,
      "metadata": {
        "id": "s2V0XhUmCeSt",
        "outputId": "e9ff2549-52c3-4f00-8699-53e731fcdca0",
        "colab": {
          "base_uri": "https://localhost:8080/"
        }
      },
      "outputs": [
        {
          "output_type": "stream",
          "name": "stdout",
          "text": [
            "Accuracy: 46.60%\n",
            "\n",
            "F1 Score: 46.32\n",
            "\n",
            "Confusion Matrix:\n",
            " [[20 31]\n",
            " [24 28]]\n"
          ]
        }
      ],
      "source": [
        "print(\"Accuracy: {:.2f}%\".format(accuracy_score(y_test, y_pred_nb_sw) * 100))\n",
        "print(\"\\nF1 Score: {:.2f}\".format(f1_score(y_test, y_pred_nb_sw, average='weighted') * 100))\n",
        "print(\"\\nConfusion Matrix:\\n\", confusion_matrix(y_test, y_pred_nb_sw))"
      ]
    },
    {
      "cell_type": "code",
      "execution_count": null,
      "metadata": {
        "id": "g1AkDYu0CeSt",
        "outputId": "ea7278fa-9217-4a12-9b0b-6780c0aa7501",
        "colab": {
          "base_uri": "https://localhost:8080/"
        }
      },
      "outputs": [
        {
          "output_type": "stream",
          "name": "stdout",
          "text": [
            "Accuracy: 44.66%\n",
            "\n",
            "F1 Score: 44.60\n",
            "\n",
            "Confusion Matrix:\n",
            " [[21 30]\n",
            " [27 25]]\n"
          ]
        }
      ],
      "source": [
        "print(\"Accuracy: {:.2f}%\".format(accuracy_score(y_test, y_pred_nb_lema) * 100))\n",
        "print(\"\\nF1 Score: {:.2f}\".format(f1_score(y_test, y_pred_nb_lema, average='weighted') * 100))\n",
        "print(\"\\nConfusion Matrix:\\n\", confusion_matrix(y_test, y_pred_nb_lema))"
      ]
    },
    {
      "cell_type": "markdown",
      "metadata": {
        "id": "dJCJorGkCeSu"
      },
      "source": [
        "### Support Vector Classifier"
      ]
    },
    {
      "cell_type": "markdown",
      "metadata": {
        "id": "bRYOTXf1CeSu"
      },
      "source": [
        "#### Pipeline"
      ]
    },
    {
      "cell_type": "code",
      "execution_count": null,
      "metadata": {
        "id": "nvWkrbnyCeSu"
      },
      "outputs": [],
      "source": [
        "clf_svc = Pipeline([\n",
        "    ('vect' , CountVectorizer()),\n",
        "    ('tfidf', TfidfTransformer()),\n",
        "    ('clf'  , LinearSVC())\n",
        "])\n",
        "\n",
        "clf_svc_sw = Pipeline([\n",
        "    ('vect' , CountVectorizer(stop_words=stopwords_custom)),\n",
        "    ('tfidf', TfidfTransformer()),\n",
        "    ('clf'  , LinearSVC())\n",
        "])\n",
        "\n",
        "clf_svc_proba = Pipeline([\n",
        "    ('vect' , CountVectorizer()),\n",
        "    ('tfidf', TfidfTransformer()),\n",
        "    ('clf'  , CalibratedClassifierCV(LinearSVC()))\n",
        "])\n",
        "\n",
        "clf_svc_sw_proba = Pipeline([\n",
        "    ('vect' , CountVectorizer(stop_words=stopwords_custom)),\n",
        "    ('tfidf', TfidfTransformer()),\n",
        "    ('clf'  , CalibratedClassifierCV(LinearSVC()))\n",
        "])"
      ]
    },
    {
      "cell_type": "markdown",
      "metadata": {
        "id": "yCDqx4oKCeSv"
      },
      "source": [
        "#### Entrenamiento"
      ]
    },
    {
      "cell_type": "code",
      "execution_count": null,
      "metadata": {
        "id": "SOQYNVEJCeSv"
      },
      "outputs": [],
      "source": [
        "clf_svc = clf_svc.fit(X_train, y_train)\n",
        "\n",
        "clf_svc_sw = clf_svc_sw.fit(X_train, y_train)\n",
        "\n",
        "clf_svc_lema = clf_svc.fit(func_lemma(X_train,stopwords_custom), y_train)"
      ]
    },
    {
      "cell_type": "markdown",
      "metadata": {
        "id": "dE6UPS9NCeSv"
      },
      "source": [
        "#### Predicción ( Etiquetas )"
      ]
    },
    {
      "cell_type": "code",
      "execution_count": null,
      "metadata": {
        "id": "K4oDDbrVCeSv"
      },
      "outputs": [],
      "source": [
        "y_pred_svc = clf_svc.predict(X_test)\n",
        "\n",
        "y_pred_svc_sw = clf_svc_sw.predict(X_test)\n",
        "\n",
        "y_pred_svc_lema = clf_svc_lema.predict(X_test)"
      ]
    },
    {
      "cell_type": "markdown",
      "metadata": {
        "id": "ycizotZiCeSw"
      },
      "source": [
        "#### Predicción ( Probabilidad )"
      ]
    },
    {
      "cell_type": "code",
      "execution_count": null,
      "metadata": {
        "id": "HmdpH945CeSw"
      },
      "outputs": [],
      "source": [
        "clf_svc = clf_svc_proba.fit(X_train, y_train)\n",
        "\n",
        "clf_svc_sw = clf_svc_sw_proba.fit(X_train, y_train)\n",
        "\n",
        "clf_svc_lema = clf_svc_proba.fit(func_lemma(X_train,stopwords_custom), y_train)"
      ]
    },
    {
      "cell_type": "code",
      "execution_count": null,
      "metadata": {
        "id": "_BbFoYyDCeSw"
      },
      "outputs": [],
      "source": [
        "y_pred_svc_proba = clf_svc.predict_proba(X_test)\n",
        "\n",
        "y_pred_svc_sw_proba = clf_svc_sw.predict_proba(X_test)\n",
        "\n",
        "y_pred_svc_lema_proba = clf_svc_lema.predict_proba(X_test)"
      ]
    },
    {
      "cell_type": "markdown",
      "metadata": {
        "id": "ZnDC4yL8CeSx"
      },
      "source": [
        "#### Evaluación"
      ]
    },
    {
      "cell_type": "code",
      "execution_count": null,
      "metadata": {
        "id": "k_B0iPmVCeSx",
        "outputId": "78f15dc8-af6f-4989-aca3-e59ddb3fc1bd",
        "colab": {
          "base_uri": "https://localhost:8080/"
        }
      },
      "outputs": [
        {
          "output_type": "stream",
          "name": "stdout",
          "text": [
            "Accuracy: 46.60%\n",
            "\n",
            "F1 Score: 46.24\n",
            "\n",
            "Confusion Matrix:\n",
            " [[28 23]\n",
            " [32 20]]\n"
          ]
        }
      ],
      "source": [
        "print(\"Accuracy: {:.2f}%\".format(accuracy_score(y_test, y_pred_svc) * 100))\n",
        "print(\"\\nF1 Score: {:.2f}\".format(f1_score(y_test, y_pred_svc, average='weighted') * 100))\n",
        "print(\"\\nConfusion Matrix:\\n\", confusion_matrix(y_test, y_pred_svc))"
      ]
    },
    {
      "cell_type": "code",
      "execution_count": null,
      "metadata": {
        "id": "kys470NJCeSx",
        "outputId": "87723402-9a8b-44ee-cdc8-b6e24a1c03ba",
        "colab": {
          "base_uri": "https://localhost:8080/"
        }
      },
      "outputs": [
        {
          "output_type": "stream",
          "name": "stdout",
          "text": [
            "Accuracy: 50.49%\n",
            "\n",
            "F1 Score: 50.39\n",
            "\n",
            "Confusion Matrix:\n",
            " [[28 23]\n",
            " [28 24]]\n"
          ]
        }
      ],
      "source": [
        "print(\"Accuracy: {:.2f}%\".format(accuracy_score(y_test, y_pred_svc_sw) * 100))\n",
        "print(\"\\nF1 Score: {:.2f}\".format(f1_score(y_test, y_pred_svc_sw, average='weighted') * 100))\n",
        "print(\"\\nConfusion Matrix:\\n\", confusion_matrix(y_test, y_pred_svc_sw))"
      ]
    },
    {
      "cell_type": "code",
      "execution_count": null,
      "metadata": {
        "id": "Ani0Z4vgCeSx",
        "outputId": "5cc1d4f9-d03a-4f56-caac-1386782613cc",
        "colab": {
          "base_uri": "https://localhost:8080/"
        }
      },
      "outputs": [
        {
          "output_type": "stream",
          "name": "stdout",
          "text": [
            "Accuracy: 46.60%\n",
            "\n",
            "F1 Score: 46.24\n",
            "\n",
            "Confusion Matrix:\n",
            " [[28 23]\n",
            " [32 20]]\n"
          ]
        }
      ],
      "source": [
        "print(\"Accuracy: {:.2f}%\".format(accuracy_score(y_test, y_pred_svc_lema) * 100))\n",
        "print(\"\\nF1 Score: {:.2f}\".format(f1_score(y_test, y_pred_svc_lema, average='weighted') * 100))\n",
        "print(\"\\nConfusion Matrix:\\n\", confusion_matrix(y_test, y_pred_svc_lema))"
      ]
    },
    {
      "cell_type": "markdown",
      "metadata": {
        "id": "DRuRu2bnCeSy"
      },
      "source": [
        "### Random Forest"
      ]
    },
    {
      "cell_type": "markdown",
      "metadata": {
        "id": "Tx5L1sGqCeSy"
      },
      "source": [
        "#### Pipeline"
      ]
    },
    {
      "cell_type": "code",
      "execution_count": null,
      "metadata": {
        "id": "yP4ZCKj6CeSy"
      },
      "outputs": [],
      "source": [
        "clf_rf = Pipeline([\n",
        "    ('vect' , CountVectorizer()),\n",
        "    ('tfidf', TfidfTransformer()),\n",
        "    ('clf'  , RandomForestClassifier())\n",
        "])\n",
        "\n",
        "clf_rf_sw = Pipeline([\n",
        "    ('vect' , CountVectorizer(stop_words=stopwords_custom)),\n",
        "    ('tfidf', TfidfTransformer()),\n",
        "    ('clf'  , RandomForestClassifier())\n",
        "])"
      ]
    },
    {
      "cell_type": "markdown",
      "metadata": {
        "id": "qz24iHVOCeSy"
      },
      "source": [
        "#### Entrenamiento"
      ]
    },
    {
      "cell_type": "code",
      "execution_count": null,
      "metadata": {
        "id": "QK_4hEXpCeSy"
      },
      "outputs": [],
      "source": [
        "clf_rf = clf_rf.fit(X_train, y_train)\n",
        "\n",
        "clf_rf_sw = clf_rf_sw.fit(X_train, y_train)"
      ]
    },
    {
      "cell_type": "markdown",
      "metadata": {
        "id": "XPEOKRqBCeSz"
      },
      "source": [
        "#### Predicción (Etiquetas)"
      ]
    },
    {
      "cell_type": "code",
      "execution_count": null,
      "metadata": {
        "id": "9HnRcWWECeSz"
      },
      "outputs": [],
      "source": [
        "y_pred_rf = clf_rf.predict(X_test)\n",
        "\n",
        "y_pred_rf_sw = clf_rf_sw.predict(X_test)"
      ]
    },
    {
      "cell_type": "markdown",
      "metadata": {
        "id": "NOKoZ8jtCeS0"
      },
      "source": [
        "#### Predicción (Probabilidad)"
      ]
    },
    {
      "cell_type": "code",
      "execution_count": null,
      "metadata": {
        "id": "7ncVXhpaCeS0"
      },
      "outputs": [],
      "source": [
        "y_pred_rf_proba = clf_rf.predict_proba(X_test)\n",
        "\n",
        "y_pred_rf_sw_proba = clf_rf_sw.predict_proba(X_test)"
      ]
    },
    {
      "cell_type": "code",
      "execution_count": null,
      "metadata": {
        "id": "ynn4ZggfCeS0",
        "outputId": "1d62a2b3-9264-43d9-e5d5-1f01feb3beb0",
        "colab": {
          "base_uri": "https://localhost:8080/"
        }
      },
      "outputs": [
        {
          "output_type": "stream",
          "name": "stdout",
          "text": [
            "Accuracy: 49.51%\n",
            "\n",
            "F1 Score: 49.46\n",
            "\n",
            "Confusion Matrix:\n",
            " [[27 24]\n",
            " [28 24]]\n"
          ]
        }
      ],
      "source": [
        "print(\"Accuracy: {:.2f}%\".format(accuracy_score(y_test, y_pred_rf) * 100))\n",
        "print(\"\\nF1 Score: {:.2f}\".format(f1_score(y_test, y_pred_rf, average='weighted') * 100))\n",
        "print(\"\\nConfusion Matrix:\\n\", confusion_matrix(y_test, y_pred_rf))"
      ]
    },
    {
      "cell_type": "markdown",
      "metadata": {
        "id": "ACTJZDUVCeS1"
      },
      "source": [
        "### XGBoost"
      ]
    },
    {
      "cell_type": "markdown",
      "metadata": {
        "id": "LT1VrEQeCeS1"
      },
      "source": [
        "#### Mapeo etiquetas"
      ]
    },
    {
      "cell_type": "code",
      "execution_count": null,
      "metadata": {
        "id": "Mmz4_2o4CeS1"
      },
      "outputs": [],
      "source": [
        "y_train_gb = data_train[\"Category\"].map({'Neutro': 1, 'Compra': 0}).to_list()\n",
        "y_test_gb = data_test[\"Category\"].map({'Neutro': 1, 'Compra': 0}).to_list()"
      ]
    },
    {
      "cell_type": "code",
      "execution_count": null,
      "metadata": {
        "id": "E7d9nj7XCeS1"
      },
      "outputs": [],
      "source": [
        "def map_value(value):\n",
        "    if value == 0:\n",
        "        return \"Compra\"\n",
        "    else:\n",
        "        return \"Neutro\""
      ]
    },
    {
      "cell_type": "markdown",
      "metadata": {
        "id": "oWowmK-zCeS1"
      },
      "source": [
        "#### Pipeline"
      ]
    },
    {
      "cell_type": "code",
      "execution_count": null,
      "metadata": {
        "id": "CGwoDhHGCeS2"
      },
      "outputs": [],
      "source": [
        "clf_xgb = Pipeline([\n",
        "    ('vect' , CountVectorizer()),\n",
        "    ('tfidf', TfidfTransformer()),\n",
        "    ('clf'  , XGBClassifier())\n",
        "])\n",
        "\n",
        "clf_xgb_sw = Pipeline([\n",
        "    ('vect' , CountVectorizer(stop_words=stopwords_custom)),\n",
        "    ('tfidf', TfidfTransformer()),\n",
        "    ('clf'  , XGBClassifier())\n",
        "])"
      ]
    },
    {
      "cell_type": "markdown",
      "metadata": {
        "id": "MH_G77mmCeS2"
      },
      "source": [
        "#### Entrenamiento"
      ]
    },
    {
      "cell_type": "code",
      "execution_count": null,
      "metadata": {
        "id": "bfvIVcZLCeS2"
      },
      "outputs": [],
      "source": [
        "clf_xgb = clf_xgb.fit(X_train, y_train_gb)\n",
        "\n",
        "clf_xgb_sw = clf_xgb_sw.fit(X_train, y_train_gb)"
      ]
    },
    {
      "cell_type": "markdown",
      "metadata": {
        "id": "J_VVYGuwCeS2"
      },
      "source": [
        "#### Predicción (Etiquetas)"
      ]
    },
    {
      "cell_type": "code",
      "execution_count": null,
      "metadata": {
        "id": "v4JXk0iKCeS3"
      },
      "outputs": [],
      "source": [
        "y_pred_xgb = clf_xgb.predict(X_test)\n",
        "\n",
        "y_pred_xgb_sw = clf_xgb_sw.predict(X_test)"
      ]
    },
    {
      "cell_type": "markdown",
      "metadata": {
        "id": "zrgqPwupCeS3"
      },
      "source": [
        "#### Predicción (Probabilidad)"
      ]
    },
    {
      "cell_type": "code",
      "execution_count": null,
      "metadata": {
        "id": "3ue8LGhsCeS3"
      },
      "outputs": [],
      "source": [
        "y_pred_xgb_proba = clf_xgb.predict_proba(X_test)\n",
        "\n",
        "y_pred_xgb_sw_proba = clf_xgb_sw.predict_proba(X_test)"
      ]
    },
    {
      "cell_type": "markdown",
      "metadata": {
        "id": "2lU4Lna9CeS3"
      },
      "source": [
        "#### Evaluación"
      ]
    },
    {
      "cell_type": "code",
      "execution_count": null,
      "metadata": {
        "id": "iy_4TZnJCeS3",
        "outputId": "e99d6f29-70c4-4b71-a338-8919d9466df8",
        "colab": {
          "base_uri": "https://localhost:8080/"
        }
      },
      "outputs": [
        {
          "output_type": "stream",
          "name": "stdout",
          "text": [
            "Accuracy: 51.46%\n",
            "\n",
            "F1 Score: 50.61\n",
            "\n",
            "Confusion Matrix:\n",
            " [[33 18]\n",
            " [32 20]]\n"
          ]
        }
      ],
      "source": [
        "print(\"Accuracy: {:.2f}%\".format(accuracy_score(y_test_gb, y_pred_xgb_sw) * 100))\n",
        "print(\"\\nF1 Score: {:.2f}\".format(f1_score(y_test_gb, y_pred_xgb_sw, average='weighted') * 100))\n",
        "print(\"\\nConfusion Matrix:\\n\", confusion_matrix(y_test_gb, y_pred_xgb_sw))"
      ]
    },
    {
      "cell_type": "markdown",
      "metadata": {
        "id": "9rIhYHlBCeS4"
      },
      "source": [
        "#### Remapeo de etiquetas"
      ]
    },
    {
      "cell_type": "code",
      "execution_count": null,
      "metadata": {
        "id": "UcX-q0l9CeS4"
      },
      "outputs": [],
      "source": [
        "y_pred_xgb = [map_value(value) for value in y_pred_xgb]\n",
        "y_pred_xgb_sw = [map_value(value) for value in y_pred_xgb_sw]"
      ]
    },
    {
      "cell_type": "markdown",
      "metadata": {
        "id": "0LH-0UzzCeS4"
      },
      "source": [
        "### LightGBM"
      ]
    },
    {
      "cell_type": "markdown",
      "metadata": {
        "id": "l9We4l4dCeS4"
      },
      "source": [
        "#### Pipeline"
      ]
    },
    {
      "cell_type": "code",
      "execution_count": null,
      "metadata": {
        "id": "yAvbDMLnCeS5"
      },
      "outputs": [],
      "source": [
        "clf_lgbm = Pipeline([\n",
        "    ('vect' , CountVectorizer()),\n",
        "    ('tfidf', TfidfTransformer()),\n",
        "    ('clf'  , LGBMClassifier())\n",
        "])\n",
        "\n",
        "clf_lgbm_sw = Pipeline([\n",
        "    ('vect' , CountVectorizer(stop_words=stopwords_custom)),\n",
        "    ('tfidf', TfidfTransformer()),\n",
        "    ('clf'  , LGBMClassifier())\n",
        "])"
      ]
    },
    {
      "cell_type": "markdown",
      "metadata": {
        "id": "tzoau_6wCeS5"
      },
      "source": [
        "#### Entrenamiento"
      ]
    },
    {
      "cell_type": "code",
      "execution_count": null,
      "metadata": {
        "id": "1PvlEAplCeS5",
        "outputId": "c03f35ae-447a-4293-b005-d49aec08d232",
        "colab": {
          "base_uri": "https://localhost:8080/"
        }
      },
      "outputs": [
        {
          "output_type": "stream",
          "name": "stdout",
          "text": [
            "[LightGBM] [Info] Number of positive: 180, number of negative: 128\n",
            "[LightGBM] [Info] Auto-choosing col-wise multi-threading, the overhead of testing was 0.000304 seconds.\n",
            "You can set `force_col_wise=true` to remove the overhead.\n",
            "[LightGBM] [Info] Total Bins 1209\n",
            "[LightGBM] [Info] Number of data points in the train set: 308, number of used features: 71\n",
            "[LightGBM] [Info] [binary:BoostFromScore]: pavg=0.584416 -> initscore=0.340927\n",
            "[LightGBM] [Info] Start training from score 0.340927\n",
            "[LightGBM] [Warning] No further splits with positive gain, best gain: -inf\n",
            "[LightGBM] [Warning] No further splits with positive gain, best gain: -inf\n",
            "[LightGBM] [Warning] No further splits with positive gain, best gain: -inf\n",
            "[LightGBM] [Warning] No further splits with positive gain, best gain: -inf\n",
            "[LightGBM] [Warning] No further splits with positive gain, best gain: -inf\n",
            "[LightGBM] [Warning] No further splits with positive gain, best gain: -inf\n",
            "[LightGBM] [Warning] No further splits with positive gain, best gain: -inf\n",
            "[LightGBM] [Warning] No further splits with positive gain, best gain: -inf\n",
            "[LightGBM] [Warning] No further splits with positive gain, best gain: -inf\n",
            "[LightGBM] [Warning] No further splits with positive gain, best gain: -inf\n",
            "[LightGBM] [Warning] No further splits with positive gain, best gain: -inf\n",
            "[LightGBM] [Warning] No further splits with positive gain, best gain: -inf\n",
            "[LightGBM] [Warning] No further splits with positive gain, best gain: -inf\n",
            "[LightGBM] [Warning] No further splits with positive gain, best gain: -inf\n",
            "[LightGBM] [Warning] No further splits with positive gain, best gain: -inf\n",
            "[LightGBM] [Warning] No further splits with positive gain, best gain: -inf\n",
            "[LightGBM] [Warning] No further splits with positive gain, best gain: -inf\n",
            "[LightGBM] [Warning] No further splits with positive gain, best gain: -inf\n",
            "[LightGBM] [Warning] No further splits with positive gain, best gain: -inf\n",
            "[LightGBM] [Warning] No further splits with positive gain, best gain: -inf\n",
            "[LightGBM] [Warning] No further splits with positive gain, best gain: -inf\n",
            "[LightGBM] [Warning] No further splits with positive gain, best gain: -inf\n",
            "[LightGBM] [Warning] No further splits with positive gain, best gain: -inf\n",
            "[LightGBM] [Warning] No further splits with positive gain, best gain: -inf\n",
            "[LightGBM] [Warning] No further splits with positive gain, best gain: -inf\n",
            "[LightGBM] [Warning] No further splits with positive gain, best gain: -inf\n",
            "[LightGBM] [Warning] No further splits with positive gain, best gain: -inf\n",
            "[LightGBM] [Warning] No further splits with positive gain, best gain: -inf\n",
            "[LightGBM] [Warning] No further splits with positive gain, best gain: -inf\n",
            "[LightGBM] [Warning] No further splits with positive gain, best gain: -inf\n",
            "[LightGBM] [Warning] No further splits with positive gain, best gain: -inf\n",
            "[LightGBM] [Warning] No further splits with positive gain, best gain: -inf\n",
            "[LightGBM] [Warning] No further splits with positive gain, best gain: -inf\n",
            "[LightGBM] [Warning] No further splits with positive gain, best gain: -inf\n",
            "[LightGBM] [Warning] No further splits with positive gain, best gain: -inf\n",
            "[LightGBM] [Warning] No further splits with positive gain, best gain: -inf\n",
            "[LightGBM] [Warning] No further splits with positive gain, best gain: -inf\n",
            "[LightGBM] [Warning] No further splits with positive gain, best gain: -inf\n",
            "[LightGBM] [Warning] No further splits with positive gain, best gain: -inf\n",
            "[LightGBM] [Warning] No further splits with positive gain, best gain: -inf\n",
            "[LightGBM] [Warning] No further splits with positive gain, best gain: -inf\n",
            "[LightGBM] [Warning] No further splits with positive gain, best gain: -inf\n",
            "[LightGBM] [Warning] No further splits with positive gain, best gain: -inf\n",
            "[LightGBM] [Warning] No further splits with positive gain, best gain: -inf\n",
            "[LightGBM] [Warning] No further splits with positive gain, best gain: -inf\n",
            "[LightGBM] [Warning] No further splits with positive gain, best gain: -inf\n",
            "[LightGBM] [Warning] No further splits with positive gain, best gain: -inf\n",
            "[LightGBM] [Warning] No further splits with positive gain, best gain: -inf\n",
            "[LightGBM] [Warning] No further splits with positive gain, best gain: -inf\n",
            "[LightGBM] [Warning] No further splits with positive gain, best gain: -inf\n",
            "[LightGBM] [Warning] No further splits with positive gain, best gain: -inf\n",
            "[LightGBM] [Warning] No further splits with positive gain, best gain: -inf\n",
            "[LightGBM] [Warning] No further splits with positive gain, best gain: -inf\n",
            "[LightGBM] [Warning] No further splits with positive gain, best gain: -inf\n",
            "[LightGBM] [Warning] No further splits with positive gain, best gain: -inf\n",
            "[LightGBM] [Warning] No further splits with positive gain, best gain: -inf\n",
            "[LightGBM] [Warning] No further splits with positive gain, best gain: -inf\n",
            "[LightGBM] [Warning] No further splits with positive gain, best gain: -inf\n",
            "[LightGBM] [Warning] No further splits with positive gain, best gain: -inf\n",
            "[LightGBM] [Warning] No further splits with positive gain, best gain: -inf\n",
            "[LightGBM] [Warning] No further splits with positive gain, best gain: -inf\n",
            "[LightGBM] [Warning] No further splits with positive gain, best gain: -inf\n",
            "[LightGBM] [Warning] No further splits with positive gain, best gain: -inf\n",
            "[LightGBM] [Warning] No further splits with positive gain, best gain: -inf\n",
            "[LightGBM] [Warning] No further splits with positive gain, best gain: -inf\n",
            "[LightGBM] [Warning] No further splits with positive gain, best gain: -inf\n",
            "[LightGBM] [Warning] No further splits with positive gain, best gain: -inf\n",
            "[LightGBM] [Warning] No further splits with positive gain, best gain: -inf\n",
            "[LightGBM] [Warning] No further splits with positive gain, best gain: -inf\n",
            "[LightGBM] [Warning] No further splits with positive gain, best gain: -inf\n",
            "[LightGBM] [Warning] No further splits with positive gain, best gain: -inf\n",
            "[LightGBM] [Warning] No further splits with positive gain, best gain: -inf\n",
            "[LightGBM] [Warning] No further splits with positive gain, best gain: -inf\n",
            "[LightGBM] [Warning] No further splits with positive gain, best gain: -inf\n",
            "[LightGBM] [Warning] No further splits with positive gain, best gain: -inf\n",
            "[LightGBM] [Warning] No further splits with positive gain, best gain: -inf\n",
            "[LightGBM] [Warning] No further splits with positive gain, best gain: -inf\n",
            "[LightGBM] [Warning] No further splits with positive gain, best gain: -inf\n",
            "[LightGBM] [Warning] No further splits with positive gain, best gain: -inf\n",
            "[LightGBM] [Warning] No further splits with positive gain, best gain: -inf\n",
            "[LightGBM] [Warning] No further splits with positive gain, best gain: -inf\n",
            "[LightGBM] [Warning] No further splits with positive gain, best gain: -inf\n",
            "[LightGBM] [Warning] No further splits with positive gain, best gain: -inf\n",
            "[LightGBM] [Warning] No further splits with positive gain, best gain: -inf\n",
            "[LightGBM] [Warning] No further splits with positive gain, best gain: -inf\n",
            "[LightGBM] [Warning] No further splits with positive gain, best gain: -inf\n",
            "[LightGBM] [Warning] No further splits with positive gain, best gain: -inf\n",
            "[LightGBM] [Warning] No further splits with positive gain, best gain: -inf\n",
            "[LightGBM] [Warning] No further splits with positive gain, best gain: -inf\n",
            "[LightGBM] [Warning] No further splits with positive gain, best gain: -inf\n",
            "[LightGBM] [Warning] No further splits with positive gain, best gain: -inf\n",
            "[LightGBM] [Warning] No further splits with positive gain, best gain: -inf\n",
            "[LightGBM] [Warning] No further splits with positive gain, best gain: -inf\n",
            "[LightGBM] [Warning] No further splits with positive gain, best gain: -inf\n",
            "[LightGBM] [Warning] No further splits with positive gain, best gain: -inf\n",
            "[LightGBM] [Warning] No further splits with positive gain, best gain: -inf\n",
            "[LightGBM] [Warning] No further splits with positive gain, best gain: -inf\n",
            "[LightGBM] [Warning] No further splits with positive gain, best gain: -inf\n",
            "[LightGBM] [Warning] No further splits with positive gain, best gain: -inf\n",
            "[LightGBM] [Warning] No further splits with positive gain, best gain: -inf\n",
            "[LightGBM] [Info] Number of positive: 180, number of negative: 128\n",
            "[LightGBM] [Info] Auto-choosing row-wise multi-threading, the overhead of testing was 0.000231 seconds.\n",
            "You can set `force_row_wise=true` to remove the overhead.\n",
            "And if memory is not enough, you can set `force_col_wise=true`.\n",
            "[LightGBM] [Info] Total Bins 592\n",
            "[LightGBM] [Info] Number of data points in the train set: 308, number of used features: 39\n",
            "[LightGBM] [Info] [binary:BoostFromScore]: pavg=0.584416 -> initscore=0.340927\n",
            "[LightGBM] [Info] Start training from score 0.340927\n",
            "[LightGBM] [Warning] No further splits with positive gain, best gain: -inf\n",
            "[LightGBM] [Warning] No further splits with positive gain, best gain: -inf\n",
            "[LightGBM] [Warning] No further splits with positive gain, best gain: -inf\n",
            "[LightGBM] [Warning] No further splits with positive gain, best gain: -inf\n",
            "[LightGBM] [Warning] No further splits with positive gain, best gain: -inf\n",
            "[LightGBM] [Warning] No further splits with positive gain, best gain: -inf\n",
            "[LightGBM] [Warning] No further splits with positive gain, best gain: -inf\n",
            "[LightGBM] [Warning] No further splits with positive gain, best gain: -inf\n",
            "[LightGBM] [Warning] No further splits with positive gain, best gain: -inf\n",
            "[LightGBM] [Warning] No further splits with positive gain, best gain: -inf\n",
            "[LightGBM] [Warning] No further splits with positive gain, best gain: -inf\n",
            "[LightGBM] [Warning] No further splits with positive gain, best gain: -inf\n",
            "[LightGBM] [Warning] No further splits with positive gain, best gain: -inf\n",
            "[LightGBM] [Warning] No further splits with positive gain, best gain: -inf\n",
            "[LightGBM] [Warning] No further splits with positive gain, best gain: -inf\n",
            "[LightGBM] [Warning] No further splits with positive gain, best gain: -inf\n",
            "[LightGBM] [Warning] No further splits with positive gain, best gain: -inf\n",
            "[LightGBM] [Warning] No further splits with positive gain, best gain: -inf\n",
            "[LightGBM] [Warning] No further splits with positive gain, best gain: -inf\n",
            "[LightGBM] [Warning] No further splits with positive gain, best gain: -inf\n",
            "[LightGBM] [Warning] No further splits with positive gain, best gain: -inf\n",
            "[LightGBM] [Warning] No further splits with positive gain, best gain: -inf\n",
            "[LightGBM] [Warning] No further splits with positive gain, best gain: -inf\n",
            "[LightGBM] [Warning] No further splits with positive gain, best gain: -inf\n",
            "[LightGBM] [Warning] No further splits with positive gain, best gain: -inf\n",
            "[LightGBM] [Warning] No further splits with positive gain, best gain: -inf\n",
            "[LightGBM] [Warning] No further splits with positive gain, best gain: -inf\n",
            "[LightGBM] [Warning] No further splits with positive gain, best gain: -inf\n",
            "[LightGBM] [Warning] No further splits with positive gain, best gain: -inf\n",
            "[LightGBM] [Warning] No further splits with positive gain, best gain: -inf\n",
            "[LightGBM] [Warning] No further splits with positive gain, best gain: -inf\n",
            "[LightGBM] [Warning] No further splits with positive gain, best gain: -inf\n",
            "[LightGBM] [Warning] No further splits with positive gain, best gain: -inf\n",
            "[LightGBM] [Warning] No further splits with positive gain, best gain: -inf\n",
            "[LightGBM] [Warning] No further splits with positive gain, best gain: -inf\n",
            "[LightGBM] [Warning] No further splits with positive gain, best gain: -inf\n",
            "[LightGBM] [Warning] No further splits with positive gain, best gain: -inf\n",
            "[LightGBM] [Warning] No further splits with positive gain, best gain: -inf\n",
            "[LightGBM] [Warning] No further splits with positive gain, best gain: -inf\n",
            "[LightGBM] [Warning] No further splits with positive gain, best gain: -inf\n",
            "[LightGBM] [Warning] No further splits with positive gain, best gain: -inf\n",
            "[LightGBM] [Warning] No further splits with positive gain, best gain: -inf\n",
            "[LightGBM] [Warning] No further splits with positive gain, best gain: -inf\n",
            "[LightGBM] [Warning] No further splits with positive gain, best gain: -inf\n",
            "[LightGBM] [Warning] No further splits with positive gain, best gain: -inf\n",
            "[LightGBM] [Warning] No further splits with positive gain, best gain: -inf\n",
            "[LightGBM] [Warning] No further splits with positive gain, best gain: -inf\n",
            "[LightGBM] [Warning] No further splits with positive gain, best gain: -inf\n",
            "[LightGBM] [Warning] No further splits with positive gain, best gain: -inf\n",
            "[LightGBM] [Warning] No further splits with positive gain, best gain: -inf\n",
            "[LightGBM] [Warning] No further splits with positive gain, best gain: -inf\n",
            "[LightGBM] [Warning] No further splits with positive gain, best gain: -inf\n",
            "[LightGBM] [Warning] No further splits with positive gain, best gain: -inf\n",
            "[LightGBM] [Warning] No further splits with positive gain, best gain: -inf\n",
            "[LightGBM] [Warning] No further splits with positive gain, best gain: -inf\n",
            "[LightGBM] [Warning] No further splits with positive gain, best gain: -inf\n",
            "[LightGBM] [Warning] No further splits with positive gain, best gain: -inf\n",
            "[LightGBM] [Warning] No further splits with positive gain, best gain: -inf\n",
            "[LightGBM] [Warning] No further splits with positive gain, best gain: -inf\n",
            "[LightGBM] [Warning] No further splits with positive gain, best gain: -inf\n",
            "[LightGBM] [Warning] No further splits with positive gain, best gain: -inf\n",
            "[LightGBM] [Warning] No further splits with positive gain, best gain: -inf\n",
            "[LightGBM] [Warning] No further splits with positive gain, best gain: -inf\n",
            "[LightGBM] [Warning] No further splits with positive gain, best gain: -inf\n",
            "[LightGBM] [Warning] No further splits with positive gain, best gain: -inf\n",
            "[LightGBM] [Warning] No further splits with positive gain, best gain: -inf\n",
            "[LightGBM] [Warning] No further splits with positive gain, best gain: -inf\n",
            "[LightGBM] [Warning] No further splits with positive gain, best gain: -inf\n",
            "[LightGBM] [Warning] No further splits with positive gain, best gain: -inf\n",
            "[LightGBM] [Warning] No further splits with positive gain, best gain: -inf\n",
            "[LightGBM] [Warning] No further splits with positive gain, best gain: -inf\n",
            "[LightGBM] [Warning] No further splits with positive gain, best gain: -inf\n",
            "[LightGBM] [Warning] No further splits with positive gain, best gain: -inf\n",
            "[LightGBM] [Warning] No further splits with positive gain, best gain: -inf\n",
            "[LightGBM] [Warning] No further splits with positive gain, best gain: -inf\n",
            "[LightGBM] [Warning] No further splits with positive gain, best gain: -inf\n",
            "[LightGBM] [Warning] No further splits with positive gain, best gain: -inf\n",
            "[LightGBM] [Warning] No further splits with positive gain, best gain: -inf\n",
            "[LightGBM] [Warning] No further splits with positive gain, best gain: -inf\n",
            "[LightGBM] [Warning] No further splits with positive gain, best gain: -inf\n",
            "[LightGBM] [Warning] No further splits with positive gain, best gain: -inf\n",
            "[LightGBM] [Warning] No further splits with positive gain, best gain: -inf\n",
            "[LightGBM] [Warning] No further splits with positive gain, best gain: -inf\n",
            "[LightGBM] [Warning] No further splits with positive gain, best gain: -inf\n",
            "[LightGBM] [Warning] No further splits with positive gain, best gain: -inf\n",
            "[LightGBM] [Warning] No further splits with positive gain, best gain: -inf\n",
            "[LightGBM] [Warning] No further splits with positive gain, best gain: -inf\n",
            "[LightGBM] [Warning] No further splits with positive gain, best gain: -inf\n",
            "[LightGBM] [Warning] No further splits with positive gain, best gain: -inf\n",
            "[LightGBM] [Warning] No further splits with positive gain, best gain: -inf\n",
            "[LightGBM] [Warning] No further splits with positive gain, best gain: -inf\n",
            "[LightGBM] [Warning] No further splits with positive gain, best gain: -inf\n",
            "[LightGBM] [Warning] No further splits with positive gain, best gain: -inf\n",
            "[LightGBM] [Warning] No further splits with positive gain, best gain: -inf\n",
            "[LightGBM] [Warning] No further splits with positive gain, best gain: -inf\n",
            "[LightGBM] [Warning] No further splits with positive gain, best gain: -inf\n",
            "[LightGBM] [Warning] No further splits with positive gain, best gain: -inf\n",
            "[LightGBM] [Warning] No further splits with positive gain, best gain: -inf\n",
            "[LightGBM] [Warning] No further splits with positive gain, best gain: -inf\n",
            "[LightGBM] [Warning] No further splits with positive gain, best gain: -inf\n"
          ]
        }
      ],
      "source": [
        "clf_lgbm = clf_lgbm.fit(X_train, y_train_gb)\n",
        "\n",
        "clf_lgbm_sw = clf_lgbm_sw.fit(X_train, y_train_gb)"
      ]
    },
    {
      "cell_type": "markdown",
      "metadata": {
        "id": "IzJgJ2ExCeS5"
      },
      "source": [
        "#### Predicción (Etiquetas)"
      ]
    },
    {
      "cell_type": "code",
      "execution_count": null,
      "metadata": {
        "id": "z8Gqehe0CeS5"
      },
      "outputs": [],
      "source": [
        "y_pred_lgbm = clf_lgbm.predict(X_test)\n",
        "\n",
        "y_pred_lgbm_sw = clf_lgbm_sw.predict(X_test)"
      ]
    },
    {
      "cell_type": "markdown",
      "metadata": {
        "id": "wHEl_xZ0CeS6"
      },
      "source": [
        "#### Predicción (Probabilidad)"
      ]
    },
    {
      "cell_type": "code",
      "execution_count": null,
      "metadata": {
        "id": "oj36mQbYCeS6"
      },
      "outputs": [],
      "source": [
        "y_pred_lgbm_proba = clf_lgbm.predict_proba(X_test)\n",
        "\n",
        "y_pred_lgbm_sw_proba = clf_lgbm_sw.predict_proba(X_test)"
      ]
    },
    {
      "cell_type": "markdown",
      "metadata": {
        "id": "QCt_UkuvCeS6"
      },
      "source": [
        "#### Evaluación"
      ]
    },
    {
      "cell_type": "code",
      "execution_count": null,
      "metadata": {
        "id": "EszDCezdCeS6",
        "outputId": "47a3d20a-662c-45f9-d205-142f780712b3",
        "colab": {
          "base_uri": "https://localhost:8080/"
        }
      },
      "outputs": [
        {
          "output_type": "stream",
          "name": "stdout",
          "text": [
            "Accuracy: 47.57%\n",
            "\n",
            "F1 Score: 47.42\n",
            "\n",
            "Confusion Matrix:\n",
            " [[27 24]\n",
            " [30 22]]\n"
          ]
        }
      ],
      "source": [
        "print(\"Accuracy: {:.2f}%\".format(accuracy_score(y_test_gb, y_pred_lgbm_sw) * 100))\n",
        "print(\"\\nF1 Score: {:.2f}\".format(f1_score(y_test_gb, y_pred_lgbm_sw, average='weighted') * 100))\n",
        "print(\"\\nConfusion Matrix:\\n\", confusion_matrix(y_test_gb, y_pred_lgbm_sw))"
      ]
    },
    {
      "cell_type": "markdown",
      "metadata": {
        "id": "8i-gGxesCeS7"
      },
      "source": [
        "#### Remapeo de etiquetas"
      ]
    },
    {
      "cell_type": "code",
      "execution_count": null,
      "metadata": {
        "id": "DCttBIC8CeS7"
      },
      "outputs": [],
      "source": [
        "y_pred_lgbm = [map_value(value) for value in y_pred_lgbm]\n",
        "y_pred_lgbm_sw = [map_value(value) for value in y_pred_lgbm_sw]"
      ]
    },
    {
      "cell_type": "markdown",
      "metadata": {
        "id": "SYWt_oATCeS7"
      },
      "source": [
        "### Word2Vec"
      ]
    },
    {
      "cell_type": "code",
      "source": [
        "import gensim\n",
        "from google.colab import drive"
      ],
      "metadata": {
        "id": "5xdNRxFy-aTF"
      },
      "execution_count": null,
      "outputs": []
    },
    {
      "cell_type": "code",
      "source": [
        "drive.mount('/content/drive')\n",
        "path_to_model = '/content/drive/My Drive/GoogleNews-vectors-negative300.bin.gz'"
      ],
      "metadata": {
        "id": "eWQriI0w-fQe",
        "outputId": "f556ee0b-adb0-4bbb-8245-fceb051a1872",
        "colab": {
          "base_uri": "https://localhost:8080/"
        }
      },
      "execution_count": null,
      "outputs": [
        {
          "output_type": "stream",
          "name": "stdout",
          "text": [
            "Mounted at /content/drive\n"
          ]
        }
      ]
    },
    {
      "cell_type": "code",
      "execution_count": null,
      "metadata": {
        "id": "xeI_c1VdCeS8"
      },
      "outputs": [],
      "source": [
        "GoogleModel = gensim.models.KeyedVectors.load_word2vec_format(path_to_model, binary = True)"
      ]
    },
    {
      "cell_type": "code",
      "execution_count": null,
      "metadata": {
        "id": "3Fn7I2zRCeS8"
      },
      "outputs": [],
      "source": [
        "\n",
        "corpus = data['Text'].values\n",
        "\n",
        "vectorizer = CountVectorizer(stop_words = stopwords_custom)\n",
        "\n",
        "X = vectorizer.fit_transform(corpus)\n",
        "\n",
        "CountVectorizedData = pd.DataFrame(X.toarray(), columns = vectorizer.get_feature_names_out())\n",
        "CountVectorizedData['Category'] = data['Category']\n",
        "CountVectorizedData['Split'] = data['Train/Test']\n",
        "\n",
        "WordsVocab = CountVectorizedData.columns[:-2]"
      ]
    },
    {
      "cell_type": "code",
      "execution_count": null,
      "metadata": {
        "id": "XzmoMScMCeS8"
      },
      "outputs": [],
      "source": [
        "def FunctionText2Vec(inpTextData):\n",
        "    X = vectorizer.transform(inpTextData)\n",
        "    CountVecData=pd.DataFrame(X.toarray(), columns=vectorizer.get_feature_names_out())\n",
        "\n",
        "    W2Vec_Data=pd.DataFrame()\n",
        "\n",
        "    for i in range(CountVecData.shape[0]):\n",
        "\n",
        "        Sentence = np.zeros(300)\n",
        "\n",
        "        for word in WordsVocab[CountVecData.iloc[i , :]>=1]:\n",
        "            if word in GoogleModel.key_to_index.keys():\n",
        "                Sentence = Sentence+GoogleModel[word]\n",
        "        #W2Vec_Data=W2Vec_Data.concat(pd.DataFrame([Sentence])) #Original\n",
        "        W2Vec_Data = pd.concat([W2Vec_Data, pd.DataFrame([Sentence])], ignore_index = True) #New pandas\n",
        "    return(W2Vec_Data)"
      ]
    },
    {
      "cell_type": "code",
      "execution_count": null,
      "metadata": {
        "id": "sPdLKEqYCeS8"
      },
      "outputs": [],
      "source": [
        "W2Vec_Data = FunctionText2Vec(data['Text'])"
      ]
    },
    {
      "cell_type": "code",
      "execution_count": null,
      "metadata": {
        "id": "W-bwk31OCeS9",
        "outputId": "6d622449-763a-47be-8a81-10bdf7a62045",
        "colab": {
          "base_uri": "https://localhost:8080/",
          "height": 236
        }
      },
      "outputs": [
        {
          "output_type": "execute_result",
          "data": {
            "text/plain": [
              "          0         1         2         3         4         5         6  \\\n",
              "0  0.993988  1.377808  1.045593  1.776993 -1.308594 -2.801086  0.631714   \n",
              "1  0.056824  0.181641 -0.694702  1.498047 -0.327393 -1.120605  0.333801   \n",
              "2 -0.704102  0.524414  0.216064  0.533813  0.538696  0.310791  0.036621   \n",
              "3 -0.646301 -0.078735 -0.648926  0.744873 -0.374451 -0.617096 -0.742462   \n",
              "4  0.058350 -0.302002 -0.020386  0.177002 -0.319519 -0.115234 -0.181396   \n",
              "\n",
              "          7         8         9  ...       292       293       294       295  \\\n",
              "0 -1.137207  1.877014  1.959991  ... -0.158020 -0.013189 -1.119232  0.331848   \n",
              "1 -0.985718  1.250687 -0.786865  ... -0.937500 -0.596313 -0.131592 -0.105347   \n",
              "2 -0.936646  0.510941  1.198730  ... -0.263672  0.795654 -0.270874  0.714478   \n",
              "3 -0.669250  2.727539  1.087158  ... -0.792389  0.043381 -0.130150 -0.974213   \n",
              "4  0.215790  0.025589 -0.168213  ... -0.454418  0.795898  0.188599 -0.175293   \n",
              "\n",
              "        296       297       298       299  Category  Split  \n",
              "0  0.115206 -0.099426  0.951538  1.363281    Neutro   Test  \n",
              "1 -0.073975  1.543640 -0.341553 -0.730591    Compra   Test  \n",
              "2  0.007568 -0.228027  0.162048  0.403198    Neutro   Test  \n",
              "3 -0.103516  0.737793  0.214661 -0.104492    Compra   Test  \n",
              "4 -0.145020 -0.206543 -0.597595  0.203598    Compra   Test  \n",
              "\n",
              "[5 rows x 302 columns]"
            ],
            "text/html": [
              "\n",
              "  <div id=\"df-b6f4d3a2-9050-4ebc-80fb-a422c405cab9\" class=\"colab-df-container\">\n",
              "    <div>\n",
              "<style scoped>\n",
              "    .dataframe tbody tr th:only-of-type {\n",
              "        vertical-align: middle;\n",
              "    }\n",
              "\n",
              "    .dataframe tbody tr th {\n",
              "        vertical-align: top;\n",
              "    }\n",
              "\n",
              "    .dataframe thead th {\n",
              "        text-align: right;\n",
              "    }\n",
              "</style>\n",
              "<table border=\"1\" class=\"dataframe\">\n",
              "  <thead>\n",
              "    <tr style=\"text-align: right;\">\n",
              "      <th></th>\n",
              "      <th>0</th>\n",
              "      <th>1</th>\n",
              "      <th>2</th>\n",
              "      <th>3</th>\n",
              "      <th>4</th>\n",
              "      <th>5</th>\n",
              "      <th>6</th>\n",
              "      <th>7</th>\n",
              "      <th>8</th>\n",
              "      <th>9</th>\n",
              "      <th>...</th>\n",
              "      <th>292</th>\n",
              "      <th>293</th>\n",
              "      <th>294</th>\n",
              "      <th>295</th>\n",
              "      <th>296</th>\n",
              "      <th>297</th>\n",
              "      <th>298</th>\n",
              "      <th>299</th>\n",
              "      <th>Category</th>\n",
              "      <th>Split</th>\n",
              "    </tr>\n",
              "  </thead>\n",
              "  <tbody>\n",
              "    <tr>\n",
              "      <th>0</th>\n",
              "      <td>0.993988</td>\n",
              "      <td>1.377808</td>\n",
              "      <td>1.045593</td>\n",
              "      <td>1.776993</td>\n",
              "      <td>-1.308594</td>\n",
              "      <td>-2.801086</td>\n",
              "      <td>0.631714</td>\n",
              "      <td>-1.137207</td>\n",
              "      <td>1.877014</td>\n",
              "      <td>1.959991</td>\n",
              "      <td>...</td>\n",
              "      <td>-0.158020</td>\n",
              "      <td>-0.013189</td>\n",
              "      <td>-1.119232</td>\n",
              "      <td>0.331848</td>\n",
              "      <td>0.115206</td>\n",
              "      <td>-0.099426</td>\n",
              "      <td>0.951538</td>\n",
              "      <td>1.363281</td>\n",
              "      <td>Neutro</td>\n",
              "      <td>Test</td>\n",
              "    </tr>\n",
              "    <tr>\n",
              "      <th>1</th>\n",
              "      <td>0.056824</td>\n",
              "      <td>0.181641</td>\n",
              "      <td>-0.694702</td>\n",
              "      <td>1.498047</td>\n",
              "      <td>-0.327393</td>\n",
              "      <td>-1.120605</td>\n",
              "      <td>0.333801</td>\n",
              "      <td>-0.985718</td>\n",
              "      <td>1.250687</td>\n",
              "      <td>-0.786865</td>\n",
              "      <td>...</td>\n",
              "      <td>-0.937500</td>\n",
              "      <td>-0.596313</td>\n",
              "      <td>-0.131592</td>\n",
              "      <td>-0.105347</td>\n",
              "      <td>-0.073975</td>\n",
              "      <td>1.543640</td>\n",
              "      <td>-0.341553</td>\n",
              "      <td>-0.730591</td>\n",
              "      <td>Compra</td>\n",
              "      <td>Test</td>\n",
              "    </tr>\n",
              "    <tr>\n",
              "      <th>2</th>\n",
              "      <td>-0.704102</td>\n",
              "      <td>0.524414</td>\n",
              "      <td>0.216064</td>\n",
              "      <td>0.533813</td>\n",
              "      <td>0.538696</td>\n",
              "      <td>0.310791</td>\n",
              "      <td>0.036621</td>\n",
              "      <td>-0.936646</td>\n",
              "      <td>0.510941</td>\n",
              "      <td>1.198730</td>\n",
              "      <td>...</td>\n",
              "      <td>-0.263672</td>\n",
              "      <td>0.795654</td>\n",
              "      <td>-0.270874</td>\n",
              "      <td>0.714478</td>\n",
              "      <td>0.007568</td>\n",
              "      <td>-0.228027</td>\n",
              "      <td>0.162048</td>\n",
              "      <td>0.403198</td>\n",
              "      <td>Neutro</td>\n",
              "      <td>Test</td>\n",
              "    </tr>\n",
              "    <tr>\n",
              "      <th>3</th>\n",
              "      <td>-0.646301</td>\n",
              "      <td>-0.078735</td>\n",
              "      <td>-0.648926</td>\n",
              "      <td>0.744873</td>\n",
              "      <td>-0.374451</td>\n",
              "      <td>-0.617096</td>\n",
              "      <td>-0.742462</td>\n",
              "      <td>-0.669250</td>\n",
              "      <td>2.727539</td>\n",
              "      <td>1.087158</td>\n",
              "      <td>...</td>\n",
              "      <td>-0.792389</td>\n",
              "      <td>0.043381</td>\n",
              "      <td>-0.130150</td>\n",
              "      <td>-0.974213</td>\n",
              "      <td>-0.103516</td>\n",
              "      <td>0.737793</td>\n",
              "      <td>0.214661</td>\n",
              "      <td>-0.104492</td>\n",
              "      <td>Compra</td>\n",
              "      <td>Test</td>\n",
              "    </tr>\n",
              "    <tr>\n",
              "      <th>4</th>\n",
              "      <td>0.058350</td>\n",
              "      <td>-0.302002</td>\n",
              "      <td>-0.020386</td>\n",
              "      <td>0.177002</td>\n",
              "      <td>-0.319519</td>\n",
              "      <td>-0.115234</td>\n",
              "      <td>-0.181396</td>\n",
              "      <td>0.215790</td>\n",
              "      <td>0.025589</td>\n",
              "      <td>-0.168213</td>\n",
              "      <td>...</td>\n",
              "      <td>-0.454418</td>\n",
              "      <td>0.795898</td>\n",
              "      <td>0.188599</td>\n",
              "      <td>-0.175293</td>\n",
              "      <td>-0.145020</td>\n",
              "      <td>-0.206543</td>\n",
              "      <td>-0.597595</td>\n",
              "      <td>0.203598</td>\n",
              "      <td>Compra</td>\n",
              "      <td>Test</td>\n",
              "    </tr>\n",
              "  </tbody>\n",
              "</table>\n",
              "<p>5 rows × 302 columns</p>\n",
              "</div>\n",
              "    <div class=\"colab-df-buttons\">\n",
              "\n",
              "  <div class=\"colab-df-container\">\n",
              "    <button class=\"colab-df-convert\" onclick=\"convertToInteractive('df-b6f4d3a2-9050-4ebc-80fb-a422c405cab9')\"\n",
              "            title=\"Convert this dataframe to an interactive table.\"\n",
              "            style=\"display:none;\">\n",
              "\n",
              "  <svg xmlns=\"http://www.w3.org/2000/svg\" height=\"24px\" viewBox=\"0 -960 960 960\">\n",
              "    <path d=\"M120-120v-720h720v720H120Zm60-500h600v-160H180v160Zm220 220h160v-160H400v160Zm0 220h160v-160H400v160ZM180-400h160v-160H180v160Zm440 0h160v-160H620v160ZM180-180h160v-160H180v160Zm440 0h160v-160H620v160Z\"/>\n",
              "  </svg>\n",
              "    </button>\n",
              "\n",
              "  <style>\n",
              "    .colab-df-container {\n",
              "      display:flex;\n",
              "      gap: 12px;\n",
              "    }\n",
              "\n",
              "    .colab-df-convert {\n",
              "      background-color: #E8F0FE;\n",
              "      border: none;\n",
              "      border-radius: 50%;\n",
              "      cursor: pointer;\n",
              "      display: none;\n",
              "      fill: #1967D2;\n",
              "      height: 32px;\n",
              "      padding: 0 0 0 0;\n",
              "      width: 32px;\n",
              "    }\n",
              "\n",
              "    .colab-df-convert:hover {\n",
              "      background-color: #E2EBFA;\n",
              "      box-shadow: 0px 1px 2px rgba(60, 64, 67, 0.3), 0px 1px 3px 1px rgba(60, 64, 67, 0.15);\n",
              "      fill: #174EA6;\n",
              "    }\n",
              "\n",
              "    .colab-df-buttons div {\n",
              "      margin-bottom: 4px;\n",
              "    }\n",
              "\n",
              "    [theme=dark] .colab-df-convert {\n",
              "      background-color: #3B4455;\n",
              "      fill: #D2E3FC;\n",
              "    }\n",
              "\n",
              "    [theme=dark] .colab-df-convert:hover {\n",
              "      background-color: #434B5C;\n",
              "      box-shadow: 0px 1px 3px 1px rgba(0, 0, 0, 0.15);\n",
              "      filter: drop-shadow(0px 1px 2px rgba(0, 0, 0, 0.3));\n",
              "      fill: #FFFFFF;\n",
              "    }\n",
              "  </style>\n",
              "\n",
              "    <script>\n",
              "      const buttonEl =\n",
              "        document.querySelector('#df-b6f4d3a2-9050-4ebc-80fb-a422c405cab9 button.colab-df-convert');\n",
              "      buttonEl.style.display =\n",
              "        google.colab.kernel.accessAllowed ? 'block' : 'none';\n",
              "\n",
              "      async function convertToInteractive(key) {\n",
              "        const element = document.querySelector('#df-b6f4d3a2-9050-4ebc-80fb-a422c405cab9');\n",
              "        const dataTable =\n",
              "          await google.colab.kernel.invokeFunction('convertToInteractive',\n",
              "                                                    [key], {});\n",
              "        if (!dataTable) return;\n",
              "\n",
              "        const docLinkHtml = 'Like what you see? Visit the ' +\n",
              "          '<a target=\"_blank\" href=https://colab.research.google.com/notebooks/data_table.ipynb>data table notebook</a>'\n",
              "          + ' to learn more about interactive tables.';\n",
              "        element.innerHTML = '';\n",
              "        dataTable['output_type'] = 'display_data';\n",
              "        await google.colab.output.renderOutput(dataTable, element);\n",
              "        const docLink = document.createElement('div');\n",
              "        docLink.innerHTML = docLinkHtml;\n",
              "        element.appendChild(docLink);\n",
              "      }\n",
              "    </script>\n",
              "  </div>\n",
              "\n",
              "\n",
              "<div id=\"df-0d85c23e-fe70-49d4-b9a0-11a8f35dbca9\">\n",
              "  <button class=\"colab-df-quickchart\" onclick=\"quickchart('df-0d85c23e-fe70-49d4-b9a0-11a8f35dbca9')\"\n",
              "            title=\"Suggest charts\"\n",
              "            style=\"display:none;\">\n",
              "\n",
              "<svg xmlns=\"http://www.w3.org/2000/svg\" height=\"24px\"viewBox=\"0 0 24 24\"\n",
              "     width=\"24px\">\n",
              "    <g>\n",
              "        <path d=\"M19 3H5c-1.1 0-2 .9-2 2v14c0 1.1.9 2 2 2h14c1.1 0 2-.9 2-2V5c0-1.1-.9-2-2-2zM9 17H7v-7h2v7zm4 0h-2V7h2v10zm4 0h-2v-4h2v4z\"/>\n",
              "    </g>\n",
              "</svg>\n",
              "  </button>\n",
              "\n",
              "<style>\n",
              "  .colab-df-quickchart {\n",
              "      --bg-color: #E8F0FE;\n",
              "      --fill-color: #1967D2;\n",
              "      --hover-bg-color: #E2EBFA;\n",
              "      --hover-fill-color: #174EA6;\n",
              "      --disabled-fill-color: #AAA;\n",
              "      --disabled-bg-color: #DDD;\n",
              "  }\n",
              "\n",
              "  [theme=dark] .colab-df-quickchart {\n",
              "      --bg-color: #3B4455;\n",
              "      --fill-color: #D2E3FC;\n",
              "      --hover-bg-color: #434B5C;\n",
              "      --hover-fill-color: #FFFFFF;\n",
              "      --disabled-bg-color: #3B4455;\n",
              "      --disabled-fill-color: #666;\n",
              "  }\n",
              "\n",
              "  .colab-df-quickchart {\n",
              "    background-color: var(--bg-color);\n",
              "    border: none;\n",
              "    border-radius: 50%;\n",
              "    cursor: pointer;\n",
              "    display: none;\n",
              "    fill: var(--fill-color);\n",
              "    height: 32px;\n",
              "    padding: 0;\n",
              "    width: 32px;\n",
              "  }\n",
              "\n",
              "  .colab-df-quickchart:hover {\n",
              "    background-color: var(--hover-bg-color);\n",
              "    box-shadow: 0 1px 2px rgba(60, 64, 67, 0.3), 0 1px 3px 1px rgba(60, 64, 67, 0.15);\n",
              "    fill: var(--button-hover-fill-color);\n",
              "  }\n",
              "\n",
              "  .colab-df-quickchart-complete:disabled,\n",
              "  .colab-df-quickchart-complete:disabled:hover {\n",
              "    background-color: var(--disabled-bg-color);\n",
              "    fill: var(--disabled-fill-color);\n",
              "    box-shadow: none;\n",
              "  }\n",
              "\n",
              "  .colab-df-spinner {\n",
              "    border: 2px solid var(--fill-color);\n",
              "    border-color: transparent;\n",
              "    border-bottom-color: var(--fill-color);\n",
              "    animation:\n",
              "      spin 1s steps(1) infinite;\n",
              "  }\n",
              "\n",
              "  @keyframes spin {\n",
              "    0% {\n",
              "      border-color: transparent;\n",
              "      border-bottom-color: var(--fill-color);\n",
              "      border-left-color: var(--fill-color);\n",
              "    }\n",
              "    20% {\n",
              "      border-color: transparent;\n",
              "      border-left-color: var(--fill-color);\n",
              "      border-top-color: var(--fill-color);\n",
              "    }\n",
              "    30% {\n",
              "      border-color: transparent;\n",
              "      border-left-color: var(--fill-color);\n",
              "      border-top-color: var(--fill-color);\n",
              "      border-right-color: var(--fill-color);\n",
              "    }\n",
              "    40% {\n",
              "      border-color: transparent;\n",
              "      border-right-color: var(--fill-color);\n",
              "      border-top-color: var(--fill-color);\n",
              "    }\n",
              "    60% {\n",
              "      border-color: transparent;\n",
              "      border-right-color: var(--fill-color);\n",
              "    }\n",
              "    80% {\n",
              "      border-color: transparent;\n",
              "      border-right-color: var(--fill-color);\n",
              "      border-bottom-color: var(--fill-color);\n",
              "    }\n",
              "    90% {\n",
              "      border-color: transparent;\n",
              "      border-bottom-color: var(--fill-color);\n",
              "    }\n",
              "  }\n",
              "</style>\n",
              "\n",
              "  <script>\n",
              "    async function quickchart(key) {\n",
              "      const quickchartButtonEl =\n",
              "        document.querySelector('#' + key + ' button');\n",
              "      quickchartButtonEl.disabled = true;  // To prevent multiple clicks.\n",
              "      quickchartButtonEl.classList.add('colab-df-spinner');\n",
              "      try {\n",
              "        const charts = await google.colab.kernel.invokeFunction(\n",
              "            'suggestCharts', [key], {});\n",
              "      } catch (error) {\n",
              "        console.error('Error during call to suggestCharts:', error);\n",
              "      }\n",
              "      quickchartButtonEl.classList.remove('colab-df-spinner');\n",
              "      quickchartButtonEl.classList.add('colab-df-quickchart-complete');\n",
              "    }\n",
              "    (() => {\n",
              "      let quickchartButtonEl =\n",
              "        document.querySelector('#df-0d85c23e-fe70-49d4-b9a0-11a8f35dbca9 button');\n",
              "      quickchartButtonEl.style.display =\n",
              "        google.colab.kernel.accessAllowed ? 'block' : 'none';\n",
              "    })();\n",
              "  </script>\n",
              "</div>\n",
              "\n",
              "    </div>\n",
              "  </div>\n"
            ],
            "application/vnd.google.colaboratory.intrinsic+json": {
              "type": "dataframe",
              "variable_name": "DataForML"
            }
          },
          "metadata": {},
          "execution_count": 62
        }
      ],
      "source": [
        "W2Vec_Data.reset_index(inplace = True, drop = True)\n",
        "W2Vec_Data['Category'] = CountVectorizedData['Category']\n",
        "W2Vec_Data['Split'] = CountVectorizedData['Split']\n",
        "\n",
        "#Guardo en una nueva variable\n",
        "DataForML = W2Vec_Data\n",
        "DataForML.head()"
      ]
    },
    {
      "cell_type": "code",
      "execution_count": null,
      "metadata": {
        "id": "GZoaosEGCeS9"
      },
      "outputs": [],
      "source": [
        "TargetVariable = DataForML.columns[-2]\n",
        "Predictors = DataForML.columns[:-2]\n",
        "\n",
        "X = DataForML[Predictors].values\n",
        "y = DataForML[TargetVariable].values\n",
        "\n",
        "train_mask = DataForML['Split'] == 'Train'\n",
        "test_mask = DataForML['Split'] == 'Test'\n",
        "\n",
        "X_train = DataForML[train_mask][Predictors].values\n",
        "y_train = DataForML[train_mask][TargetVariable].values\n",
        "X_test = DataForML[test_mask][Predictors].values\n",
        "y_test = DataForML[test_mask][TargetVariable].values\n",
        "\n",
        "#Normalizo para los modelos de ML\n",
        "scaler = MinMaxScaler()\n",
        "\n",
        "X_train = scaler.fit_transform(X_train)\n",
        "X_test = scaler.transform(X_test)"
      ]
    },
    {
      "cell_type": "code",
      "execution_count": null,
      "metadata": {
        "id": "-iPgNahfCeS9"
      },
      "outputs": [],
      "source": [
        "w2v_results = {}"
      ]
    },
    {
      "cell_type": "markdown",
      "metadata": {
        "id": "Vbq1_sv1CeTA"
      },
      "source": [
        "#### Naive Bayes"
      ]
    },
    {
      "cell_type": "code",
      "execution_count": null,
      "metadata": {
        "id": "R5sMNrGLCeTA",
        "outputId": "47638592-b2f0-4b6f-db06-56883f3e004e",
        "colab": {
          "base_uri": "https://localhost:8080/"
        }
      },
      "outputs": [
        {
          "output_type": "stream",
          "name": "stdout",
          "text": [
            "              precision    recall  f1-score   support\n",
            "\n",
            "      Compra       0.57      0.51      0.54        51\n",
            "      Neutro       0.56      0.62      0.59        52\n",
            "\n",
            "    accuracy                           0.56       103\n",
            "   macro avg       0.56      0.56      0.56       103\n",
            "weighted avg       0.56      0.56      0.56       103\n",
            "\n",
            "-----------------------------------------------------\n",
            "[[26 20]\n",
            " [25 32]]\n",
            "-----------------------------------------------------\n",
            "Accuracy en TEST data: 0.56\n"
          ]
        }
      ],
      "source": [
        "clf = MultinomialNB()\n",
        "\n",
        "#Entranamiento y predicción\n",
        "NB = clf.fit(X_train, y_train)\n",
        "prediction = NB.predict(X_test)\n",
        "\n",
        "print(classification_report(y_test, prediction))\n",
        "print('-----------------------------------------------------')\n",
        "print(confusion_matrix(prediction, y_test))\n",
        "print('-----------------------------------------------------')\n",
        "F1_Score = f1_score(y_test, prediction, average = 'weighted')\n",
        "print('Accuracy en TEST data:', round(F1_Score,2))\n",
        "\n",
        "w2v_results['Naive Bayes'] = round(F1_Score,2)"
      ]
    },
    {
      "cell_type": "markdown",
      "metadata": {
        "id": "ay8_5J66CeTA"
      },
      "source": [
        "#### KNN (K-Nearest Neighbor)"
      ]
    },
    {
      "cell_type": "code",
      "execution_count": null,
      "metadata": {
        "id": "PakywrbmCeTA",
        "outputId": "d490b551-a09b-4f02-f4a1-4f5472daccb4",
        "colab": {
          "base_uri": "https://localhost:8080/"
        }
      },
      "outputs": [
        {
          "output_type": "stream",
          "name": "stdout",
          "text": [
            "              precision    recall  f1-score   support\n",
            "\n",
            "      Compra       0.50      0.43      0.46        51\n",
            "      Neutro       0.51      0.58      0.54        52\n",
            "\n",
            "    accuracy                           0.50       103\n",
            "   macro avg       0.50      0.50      0.50       103\n",
            "weighted avg       0.50      0.50      0.50       103\n",
            "\n",
            "-----------------------------------------------------\n",
            "[[22 22]\n",
            " [29 30]]\n",
            "-----------------------------------------------------\n",
            "Accuracy en TEST data: 0.5\n"
          ]
        }
      ],
      "source": [
        "clf = KNeighborsClassifier(n_neighbors=15)\n",
        "\n",
        "#Entranamiento y predicción\n",
        "KNN = clf.fit(X_train,y_train)\n",
        "prediction = KNN.predict(X_test)\n",
        "\n",
        "print(classification_report(y_test, prediction))\n",
        "print('-----------------------------------------------------')\n",
        "print(confusion_matrix(prediction, y_test))\n",
        "print('-----------------------------------------------------')\n",
        "F1_Score = f1_score(y_test, prediction, average = 'weighted')\n",
        "print('Accuracy en TEST data:', round(F1_Score,2))\n",
        "\n",
        "w2v_results['KNN'] = round(F1_Score,2)"
      ]
    },
    {
      "cell_type": "markdown",
      "metadata": {
        "id": "JcACy-59CeTB"
      },
      "source": [
        "#### Regresión Logística"
      ]
    },
    {
      "cell_type": "code",
      "execution_count": null,
      "metadata": {
        "id": "tDUaK7h7CeTB",
        "outputId": "ea656071-16fd-4163-d140-10bef504d7ef",
        "colab": {
          "base_uri": "https://localhost:8080/"
        }
      },
      "outputs": [
        {
          "output_type": "stream",
          "name": "stdout",
          "text": [
            "              precision    recall  f1-score   support\n",
            "\n",
            "      Compra       0.56      0.37      0.45        51\n",
            "      Neutro       0.54      0.71      0.61        52\n",
            "\n",
            "    accuracy                           0.54       103\n",
            "   macro avg       0.55      0.54      0.53       103\n",
            "weighted avg       0.55      0.54      0.53       103\n",
            "\n",
            "-----------------------------------------------------\n",
            "[[19 15]\n",
            " [32 37]]\n",
            "-----------------------------------------------------\n",
            "Accuracy en TEST data: 0.53\n"
          ]
        }
      ],
      "source": [
        "#'newton-cg', 'lbfgs', 'liblinear', 'sag', 'saga'\n",
        "clf = LogisticRegression(C=10,penalty='l2', solver='newton-cg')\n",
        "\n",
        "LOG = clf.fit(X_train,y_train)\n",
        "prediction = LOG.predict(X_test)\n",
        "\n",
        "print(classification_report(y_test, prediction))\n",
        "print('-----------------------------------------------------')\n",
        "print(confusion_matrix(prediction, y_test))\n",
        "print('-----------------------------------------------------')\n",
        "F1_Score = f1_score(y_test, prediction, average = 'weighted')\n",
        "print('Accuracy en TEST data:', round(F1_Score,2))\n",
        "\n",
        "w2v_results['Logistic Regression'] = round(F1_Score,2)"
      ]
    },
    {
      "cell_type": "markdown",
      "metadata": {
        "id": "ZhvyME4qCeTB"
      },
      "source": [
        "#### Árbol de Decisión"
      ]
    },
    {
      "cell_type": "code",
      "execution_count": null,
      "metadata": {
        "id": "ejqSJx96CeTC",
        "outputId": "f4d22ff3-6337-4829-9dc5-ae2c57783c35",
        "colab": {
          "base_uri": "https://localhost:8080/"
        }
      },
      "outputs": [
        {
          "output_type": "stream",
          "name": "stdout",
          "text": [
            "              precision    recall  f1-score   support\n",
            "\n",
            "      Compra       0.41      0.33      0.37        51\n",
            "      Neutro       0.45      0.54      0.49        52\n",
            "\n",
            "    accuracy                           0.44       103\n",
            "   macro avg       0.43      0.44      0.43       103\n",
            "weighted avg       0.43      0.44      0.43       103\n",
            "\n",
            "-----------------------------------------------------\n",
            "[[17 24]\n",
            " [34 28]]\n",
            "-----------------------------------------------------\n",
            "Accuracy en TEST data: 0.43\n"
          ]
        }
      ],
      "source": [
        "clf = DecisionTreeClassifier(max_depth = 20, criterion = 'gini')\n",
        "\n",
        "DTree = clf.fit(X_train,y_train)\n",
        "prediction = DTree.predict(X_test)\n",
        "\n",
        "print(classification_report(y_test, prediction))\n",
        "print('-----------------------------------------------------')\n",
        "print(confusion_matrix(prediction, y_test))\n",
        "print('-----------------------------------------------------')\n",
        "F1_Score = f1_score(y_test, prediction, average = 'weighted')\n",
        "print('Accuracy en TEST data:', round(F1_Score,2))\n",
        "\n",
        "w2v_results['Decision Tree'] = round(F1_Score,2)"
      ]
    },
    {
      "cell_type": "markdown",
      "metadata": {
        "id": "i3I8ciEGCeTC"
      },
      "source": [
        "#### Random Forest"
      ]
    },
    {
      "cell_type": "code",
      "execution_count": null,
      "metadata": {
        "id": "BQ4yOFjGCeTC",
        "outputId": "1dce5dc4-3b93-459a-f58b-453ae29affa4",
        "colab": {
          "base_uri": "https://localhost:8080/"
        }
      },
      "outputs": [
        {
          "output_type": "stream",
          "name": "stdout",
          "text": [
            "              precision    recall  f1-score   support\n",
            "\n",
            "      Compra       0.41      0.33      0.37        51\n",
            "      Neutro       0.45      0.54      0.49        52\n",
            "\n",
            "    accuracy                           0.44       103\n",
            "   macro avg       0.43      0.44      0.43       103\n",
            "weighted avg       0.43      0.44      0.43       103\n",
            "\n",
            "-----------------------------------------------------\n",
            "[[17 24]\n",
            " [34 28]]\n",
            "-----------------------------------------------------\n",
            "Accuracy en TEST data: 0.43\n"
          ]
        }
      ],
      "source": [
        "clf = RandomForestClassifier(max_depth = 20)\n",
        "\n",
        "RF = clf.fit(X_train,y_train)\n",
        "prediction = DTree.predict(X_test)\n",
        "\n",
        "print(classification_report(y_test, prediction))\n",
        "print('-----------------------------------------------------')\n",
        "print(confusion_matrix(prediction, y_test))\n",
        "print('-----------------------------------------------------')\n",
        "F1_Score = f1_score(y_test, prediction, average = 'weighted')\n",
        "print('Accuracy en TEST data:', round(F1_Score,2))\n",
        "\n",
        "w2v_results['Random Forest'] = round(F1_Score,2)"
      ]
    },
    {
      "cell_type": "markdown",
      "metadata": {
        "id": "l9cbooMACeTC"
      },
      "source": [
        "#### XGBoost"
      ]
    },
    {
      "cell_type": "code",
      "execution_count": null,
      "metadata": {
        "id": "KQIXX03yCeTD",
        "outputId": "d5cdbc87-d09e-41d8-996d-fde9c0efe619",
        "colab": {
          "base_uri": "https://localhost:8080/"
        }
      },
      "outputs": [
        {
          "output_type": "stream",
          "name": "stdout",
          "text": [
            "              precision    recall  f1-score   support\n",
            "\n",
            "           0       0.56      0.29      0.38        51\n",
            "           1       0.53      0.77      0.62        52\n",
            "\n",
            "    accuracy                           0.53       103\n",
            "   macro avg       0.54      0.53      0.50       103\n",
            "weighted avg       0.54      0.53      0.51       103\n",
            "\n",
            "-----------------------------------------------------\n",
            "[[15 12]\n",
            " [36 40]]\n",
            "-----------------------------------------------------\n",
            "Accuracy en TEST data: 0.51\n"
          ]
        }
      ],
      "source": [
        "#Necesito codificar las etiquetas\n",
        "cat_encoded = LabelEncoder()\n",
        "y_train_encoded = cat_encoded.fit_transform(y_train)\n",
        "y_test_encoded = cat_encoded.transform(y_test)\n",
        "\n",
        "clf = XGBClassifier()\n",
        "\n",
        "XGB = clf.fit(X_train, y_train_encoded)\n",
        "prediction = XGB.predict(X_test)\n",
        "\n",
        "print(classification_report(y_test_encoded, prediction))\n",
        "print('-----------------------------------------------------')\n",
        "print(confusion_matrix(prediction, y_test_encoded))\n",
        "print('-----------------------------------------------------')\n",
        "F1_Score = f1_score(y_test_encoded, prediction, average = 'weighted')\n",
        "print('Accuracy en TEST data:', round(F1_Score,2))\n",
        "\n",
        "w2v_results['XGBoost'] = round(F1_Score,2)"
      ]
    },
    {
      "cell_type": "markdown",
      "metadata": {
        "id": "4P3XdmmVCeTD"
      },
      "source": [
        "#### LightGBM"
      ]
    },
    {
      "cell_type": "code",
      "execution_count": null,
      "metadata": {
        "id": "hRHwImZ_CeTD",
        "outputId": "81924294-a30a-4a12-92e4-444b7eec15f6",
        "colab": {
          "base_uri": "https://localhost:8080/"
        }
      },
      "outputs": [
        {
          "output_type": "stream",
          "name": "stdout",
          "text": [
            "              precision    recall  f1-score   support\n",
            "\n",
            "      Compra       0.58      0.27      0.37        51\n",
            "      Neutro       0.53      0.81      0.64        52\n",
            "\n",
            "    accuracy                           0.54       103\n",
            "   macro avg       0.56      0.54      0.51       103\n",
            "weighted avg       0.56      0.54      0.51       103\n",
            "\n",
            "-----------------------------------------------------\n",
            "[[14 10]\n",
            " [37 42]]\n",
            "-----------------------------------------------------\n",
            "Accuracy en TEST data: 0.51\n"
          ]
        }
      ],
      "source": [
        "# Set the verbosity level to suppress messages\n",
        "lgbm_params = {\n",
        "    'verbosity': -1  # Set verbosity to -1 to suppress all messages\n",
        "}\n",
        "\n",
        "clf = LGBMClassifier(**lgbm_params)\n",
        "\n",
        "LGBM = clf.fit(X_train,y_train)\n",
        "prediction = LGBM.predict(X_test)\n",
        "y_pred_w2v_lgbm = prediction\n",
        "y_pred_w2v_lgbm_proba = LGBM.predict_proba(X_test)\n",
        "\n",
        "print(classification_report(y_test, prediction))\n",
        "print('-----------------------------------------------------')\n",
        "print(confusion_matrix(prediction, y_test))\n",
        "print('-----------------------------------------------------')\n",
        "F1_Score = f1_score(y_test, prediction, average = 'weighted')\n",
        "print('Accuracy en TEST data:', round(F1_Score,2))\n",
        "\n",
        "w2v_results['LightGBM'] = round(F1_Score,2)"
      ]
    },
    {
      "cell_type": "markdown",
      "metadata": {
        "id": "AKERCmxCCeTD"
      },
      "source": [
        "#### AdaBoost"
      ]
    },
    {
      "cell_type": "code",
      "execution_count": null,
      "metadata": {
        "id": "ya9N8vY3CeTE",
        "outputId": "06754f48-b3b1-4080-e3e1-f46fd3c035bc",
        "colab": {
          "base_uri": "https://localhost:8080/"
        }
      },
      "outputs": [
        {
          "output_type": "stream",
          "name": "stdout",
          "text": [
            "              precision    recall  f1-score   support\n",
            "\n",
            "      Compra       0.53      0.37      0.44        51\n",
            "      Neutro       0.52      0.67      0.59        52\n",
            "\n",
            "    accuracy                           0.52       103\n",
            "   macro avg       0.53      0.52      0.51       103\n",
            "weighted avg       0.53      0.52      0.51       103\n",
            "\n",
            "-----------------------------------------------------\n",
            "[[19 17]\n",
            " [32 35]]\n",
            "-----------------------------------------------------\n",
            "Accuracy en TEST data: 0.51\n"
          ]
        }
      ],
      "source": [
        "DTC = DecisionTreeClassifier(max_depth = 2)\n",
        "clf = AdaBoostClassifier(n_estimators = 20, base_estimator = DTC , learning_rate = 0.01)\n",
        "\n",
        "\n",
        "AB = clf.fit(X_train,y_train)\n",
        "prediction = AB.predict(X_test)\n",
        "\n",
        "print(classification_report(y_test, prediction))\n",
        "print('-----------------------------------------------------')\n",
        "print(confusion_matrix(prediction, y_test))\n",
        "print('-----------------------------------------------------')\n",
        "F1_Score = f1_score(y_test, prediction, average = 'weighted')\n",
        "print('Accuracy en TEST data:', round(F1_Score,2))\n",
        "\n",
        "w2v_results['AdaBoost'] = round(F1_Score,2)"
      ]
    },
    {
      "cell_type": "code",
      "execution_count": null,
      "metadata": {
        "id": "V7QXU5fXCeTE",
        "outputId": "b5b7539b-7f28-440b-e00f-806c7b4cbd1b",
        "colab": {
          "base_uri": "https://localhost:8080/"
        }
      },
      "outputs": [
        {
          "output_type": "execute_result",
          "data": {
            "text/plain": [
              "{'Naive Bayes': 0.56,\n",
              " 'KNN': 0.5,\n",
              " 'Logistic Regression': 0.53,\n",
              " 'Decision Tree': 0.43,\n",
              " 'Random Forest': 0.43,\n",
              " 'XGBoost': 0.51,\n",
              " 'LightGBM': 0.51,\n",
              " 'AdaBoost': 0.51}"
            ]
          },
          "metadata": {},
          "execution_count": 73
        }
      ],
      "source": [
        "w2v_results"
      ]
    },
    {
      "cell_type": "markdown",
      "metadata": {
        "id": "MhI00l7KCeTE"
      },
      "source": [
        "### BERT"
      ]
    },
    {
      "cell_type": "markdown",
      "metadata": {
        "id": "G5LgNzVfCeTE"
      },
      "source": [
        "#### Librerias"
      ]
    },
    {
      "cell_type": "code",
      "execution_count": null,
      "metadata": {
        "id": "qSfyHv87CeTE"
      },
      "outputs": [],
      "source": [
        "import torch\n",
        "from torch import nn\n",
        "from torch.utils.data import DataLoader, Dataset\n",
        "from transformers import BertTokenizer, BertModel, AdamW, get_linear_schedule_with_warmup"
      ]
    },
    {
      "cell_type": "markdown",
      "metadata": {
        "id": "Bv8lnL0NCeTE"
      },
      "source": [
        "#### Funciones"
      ]
    },
    {
      "cell_type": "code",
      "execution_count": null,
      "metadata": {
        "id": "73_x0eKbCeTF"
      },
      "outputs": [],
      "source": [
        "class TextClassificationDataset(Dataset):\n",
        "    def __init__(self, texts, labels, tokenizer, max_length):\n",
        "            self.texts = texts\n",
        "            self.labels = labels\n",
        "            self.tokenizer = tokenizer\n",
        "            self.max_length = max_length\n",
        "\n",
        "    def __len__(self):\n",
        "            return len(self.texts)\n",
        "\n",
        "    def __getitem__(self, idx):\n",
        "            text = self.texts[idx]\n",
        "            label = self.labels[idx]\n",
        "            encoding = self.tokenizer(text, return_tensors='pt', max_length=self.max_length, padding='max_length', truncation=True)\n",
        "            return {'input_ids': encoding['input_ids'].flatten(), 'attention_mask': encoding['attention_mask'].flatten(), 'label': torch.tensor(label)}"
      ]
    },
    {
      "cell_type": "code",
      "execution_count": null,
      "metadata": {
        "id": "ER3c7nwACeTF"
      },
      "outputs": [],
      "source": [
        "class BERTClassifier(nn.Module):\n",
        "    def __init__(self, bert_model_name, num_classes):\n",
        "        super(BERTClassifier, self).__init__()\n",
        "        self.bert = BertModel.from_pretrained(bert_model_name)\n",
        "        self.dropout = nn.Dropout(0.1)\n",
        "        self.fc = nn.Linear(self.bert.config.hidden_size, num_classes)\n",
        "\n",
        "    def forward(self, input_ids, attention_mask):\n",
        "        outputs = self.bert(input_ids=input_ids, attention_mask=attention_mask)\n",
        "        pooled_output = outputs.pooler_output\n",
        "        x = self.dropout(pooled_output)\n",
        "        logits = self.fc(x)\n",
        "        return logits"
      ]
    },
    {
      "cell_type": "code",
      "execution_count": null,
      "metadata": {
        "id": "9jXeVrpuCeTG"
      },
      "outputs": [],
      "source": [
        "def train(model, data_loader, optimizer, scheduler, device):\n",
        "    model.train()\n",
        "    for batch in data_loader:\n",
        "        optimizer.zero_grad()\n",
        "        input_ids = batch['input_ids'].to(device)\n",
        "        attention_mask = batch['attention_mask'].to(device)\n",
        "        labels = batch['label'].to(device)\n",
        "        outputs = model(input_ids=input_ids, attention_mask=attention_mask)\n",
        "        loss = nn.CrossEntropyLoss()(outputs, labels)\n",
        "        loss.backward()\n",
        "        optimizer.step()\n",
        "        scheduler.step()"
      ]
    },
    {
      "cell_type": "code",
      "execution_count": null,
      "metadata": {
        "id": "ONCM55WECeTG"
      },
      "outputs": [],
      "source": [
        "def evaluate(model, data_loader, device):\n",
        "    model.eval()\n",
        "    predictions = []\n",
        "    actual_labels = []\n",
        "    with torch.no_grad():\n",
        "        for batch in data_loader:\n",
        "            input_ids = batch['input_ids'].to(device)\n",
        "            attention_mask = batch['attention_mask'].to(device)\n",
        "            labels = batch['label'].to(device)\n",
        "            outputs = model(input_ids=input_ids, attention_mask=attention_mask)\n",
        "            _, preds = torch.max(outputs, dim=1)\n",
        "            predictions.extend(preds.cpu().tolist())\n",
        "            actual_labels.extend(labels.cpu().tolist())\n",
        "    return accuracy_score(actual_labels, predictions), classification_report(actual_labels, predictions)"
      ]
    },
    {
      "cell_type": "code",
      "execution_count": null,
      "metadata": {
        "id": "UE2iJJMJCeTG"
      },
      "outputs": [],
      "source": [
        "def predict_sentiment(text, model, tokenizer, device, max_length=128):\n",
        "    model.eval()\n",
        "    encoding = tokenizer(text, return_tensors='pt', max_length=max_length, padding='max_length', truncation=True)\n",
        "    input_ids = encoding['input_ids'].to(device)\n",
        "    attention_mask = encoding['attention_mask'].to(device)\n",
        "\n",
        "    with torch.no_grad():\n",
        "        outputs = model(input_ids=input_ids, attention_mask=attention_mask)\n",
        "        _, preds = torch.max(outputs, dim=1)\n",
        "    return \"Neutro\" if preds.item() == 1 else \"Compra\""
      ]
    },
    {
      "cell_type": "code",
      "execution_count": null,
      "metadata": {
        "id": "5Cwux7sPCeTG"
      },
      "outputs": [],
      "source": [
        "def predict_sentiment_with_probabilities(text, model, tokenizer, device, max_length=128):\n",
        "    model.eval()\n",
        "    encoding = tokenizer(text, return_tensors='pt', max_length=max_length, padding='max_length', truncation=True)\n",
        "    input_ids = encoding['input_ids'].to(device)\n",
        "    attention_mask = encoding['attention_mask'].to(device)\n",
        "\n",
        "    with torch.no_grad():\n",
        "        outputs = model(input_ids=input_ids, attention_mask=attention_mask)\n",
        "        probabilities = torch.softmax(outputs, dim=1)\n",
        "\n",
        "    label_probabilities = {\n",
        "        \"Compra\": probabilities[0][0].item(),\n",
        "        \"Neutro\": probabilities[0][1].item()\n",
        "    }\n",
        "\n",
        "    return label_probabilities"
      ]
    },
    {
      "cell_type": "markdown",
      "metadata": {
        "id": "MR28bmrbCeTH"
      },
      "source": [
        "#### Parámetros"
      ]
    },
    {
      "cell_type": "code",
      "execution_count": null,
      "metadata": {
        "id": "Y_prqbIxCeTH"
      },
      "outputs": [],
      "source": [
        "# Set up parameters\n",
        "bert_model_name = 'bert-base-uncased'\n",
        "num_classes = 2\n",
        "max_length = 128\n",
        "batch_size = 16\n",
        "num_epochs = 4\n",
        "learning_rate = 2e-5"
      ]
    },
    {
      "cell_type": "markdown",
      "metadata": {
        "id": "c770PN04CeTH"
      },
      "source": [
        "#### Entrenamiento"
      ]
    },
    {
      "cell_type": "code",
      "execution_count": null,
      "metadata": {
        "id": "0d-KTvqdCeTH"
      },
      "outputs": [],
      "source": [
        "train_texts = data_train['Text'].tolist()\n",
        "train_labels = [0 if sentiment == \"Compra\" else 1 for sentiment in data_train['Category'].tolist()]\n",
        "\n",
        "val_texts = data_test['Text'].tolist()\n",
        "val_labels = [0 if sentiment == \"Compra\" else 1 for sentiment in data_test['Category'].tolist()]"
      ]
    },
    {
      "cell_type": "markdown",
      "metadata": {
        "id": "dad9_l-eCeTI"
      },
      "source": [
        "#### Pipeline"
      ]
    },
    {
      "cell_type": "code",
      "execution_count": null,
      "metadata": {
        "id": "mvxZ063aCeTI",
        "outputId": "e34d2bdb-279a-48b5-ce1e-9e5cdb656b1e",
        "colab": {
          "base_uri": "https://localhost:8080/",
          "height": 145,
          "referenced_widgets": [
            "4b115f746e11444ca9374eb7745d8745",
            "21bc8dd80bd94c8b8c698633413c9b05",
            "647a903349be4d859b70e271b7fc6550",
            "d4cf2b048b0c4214b6109e8969de52a4",
            "4f354d1fcf874f1c8c3b4b7532c6ceb2",
            "cceffaa392b5460aab044aca7660276b",
            "dd79e9187a0840628384e09729739de7",
            "37af3f72a32b4e5ba35c28dc4a262638",
            "76eec307578843e8853219b93fa782cf",
            "18b6a592e3bd4020b7786dab55198f86",
            "c18ca3049aa44f72927b51a2b6570e1b",
            "ecd8f05e9d9944a093b9f05853c075d1",
            "176b4c40c7084f0b8c52ff7265b5c648",
            "2e5910fd2ca04f88a3c1554ce905c2fa",
            "6b37de508d4045f88d1b547bbf5bdfa6",
            "6b8f867aeee543049e0efd3c46c196ea",
            "1ee3c46e6a1349e2839c0d8043477102",
            "7038f233b30c4d69bc5b1dea509adafd",
            "3fe11a1734424043af6163a39d23321c",
            "e3fc1aa5a79f4e03aa3f398ed49e4fac",
            "ed8d1dcd67954ced9e9429a03ac751fe",
            "cce5b95baa2d4104aad4c050eae8f810",
            "142bb45f66f84fbb9ca2ed16c1c3bd1a",
            "babd7e8d172e4445bddedc872bc68e03",
            "ed23246c79a544f98e745c0ad55135a4",
            "13264f764dd4413896601daf2c603bb1",
            "eaeb5ff1fa3840cebd07c04feb0ca509",
            "f6c9ffe328bf4c1993c25ea8d40dfa7f",
            "9b3e2a47d6c847408456724b2cee4765",
            "e6114aca202c4235b23bdb73e87a0353",
            "11ba8ae31f7f4e4e9acacc97f25bf57d",
            "15c2e6e15b734184b815df54831eba0f",
            "81134c53e86540769761e00848bce516",
            "a3b8adb3058c4086960f9db65de38005",
            "8ab84772da6147108378b43517591759",
            "82450306ffa0420cbfa0bc1fb3f2ae73",
            "7ee5c6e2541c424ab04732b9fdc7c159",
            "0be0e69a5886409c9eccd12e23b00e65",
            "9b9a2d39fea647d193f59bd4a1422536",
            "ed2c2c365b55415188e8f3ffac7432b1",
            "25c82957479742178467d35b502d595e",
            "7fd9cb0ec1af4fd2a1dd6dc200ace5d8",
            "b9f877506e5a4297859519b5948ac30c",
            "d2b4accadda94ac68572d14207ee3898"
          ]
        }
      },
      "outputs": [
        {
          "output_type": "display_data",
          "data": {
            "text/plain": [
              "tokenizer_config.json:   0%|          | 0.00/48.0 [00:00<?, ?B/s]"
            ],
            "application/vnd.jupyter.widget-view+json": {
              "version_major": 2,
              "version_minor": 0,
              "model_id": "4b115f746e11444ca9374eb7745d8745"
            }
          },
          "metadata": {}
        },
        {
          "output_type": "display_data",
          "data": {
            "text/plain": [
              "vocab.txt:   0%|          | 0.00/232k [00:00<?, ?B/s]"
            ],
            "application/vnd.jupyter.widget-view+json": {
              "version_major": 2,
              "version_minor": 0,
              "model_id": "ecd8f05e9d9944a093b9f05853c075d1"
            }
          },
          "metadata": {}
        },
        {
          "output_type": "display_data",
          "data": {
            "text/plain": [
              "tokenizer.json:   0%|          | 0.00/466k [00:00<?, ?B/s]"
            ],
            "application/vnd.jupyter.widget-view+json": {
              "version_major": 2,
              "version_minor": 0,
              "model_id": "142bb45f66f84fbb9ca2ed16c1c3bd1a"
            }
          },
          "metadata": {}
        },
        {
          "output_type": "display_data",
          "data": {
            "text/plain": [
              "config.json:   0%|          | 0.00/570 [00:00<?, ?B/s]"
            ],
            "application/vnd.jupyter.widget-view+json": {
              "version_major": 2,
              "version_minor": 0,
              "model_id": "a3b8adb3058c4086960f9db65de38005"
            }
          },
          "metadata": {}
        }
      ],
      "source": [
        "tokenizer = BertTokenizer.from_pretrained(bert_model_name)\n",
        "train_dataset = TextClassificationDataset(train_texts, train_labels, tokenizer, max_length)\n",
        "val_dataset = TextClassificationDataset(val_texts, val_labels, tokenizer, max_length)\n",
        "train_dataloader = DataLoader(train_dataset, batch_size=batch_size, shuffle=True)\n",
        "val_dataloader = DataLoader(val_dataset, batch_size=batch_size)"
      ]
    },
    {
      "cell_type": "markdown",
      "metadata": {
        "id": "zDhpQRQfCeTI"
      },
      "source": [
        "#### Modelado"
      ]
    },
    {
      "cell_type": "code",
      "execution_count": null,
      "metadata": {
        "id": "fMgKzYpECeTI",
        "outputId": "d44fcedc-e779-4984-8f52-30c803b2eb63",
        "colab": {
          "base_uri": "https://localhost:8080/",
          "height": 49,
          "referenced_widgets": [
            "5fefdee40dda481ea2d6fcde8c7014f2",
            "5ba426f82c274a72a183ee36880802bd",
            "841c4861154f44c89ba10896051dc760",
            "cafd68a43497444997ecf0ddfc0544f3",
            "1749e27069ff43fb9825fc06a5e7d986",
            "283e28821b054a1db4cdf4c3a6a34689",
            "ba988a64661447429fdb378b0a5256e3",
            "a00cd5a75a6644e1a0adfed671958fff",
            "d6396e0e07554682805798c2f8440e99",
            "9a2bc11fe5fe4a1fa9f889ce3fbb20d4",
            "354a8254fddb400cbf9ce94e6029bb5d"
          ]
        }
      },
      "outputs": [
        {
          "output_type": "display_data",
          "data": {
            "text/plain": [
              "model.safetensors:   0%|          | 0.00/440M [00:00<?, ?B/s]"
            ],
            "application/vnd.jupyter.widget-view+json": {
              "version_major": 2,
              "version_minor": 0,
              "model_id": "5fefdee40dda481ea2d6fcde8c7014f2"
            }
          },
          "metadata": {}
        }
      ],
      "source": [
        "device = torch.device(\"cuda\" if torch.cuda.is_available() else \"cpu\")\n",
        "model = BERTClassifier(bert_model_name, num_classes).to(device)"
      ]
    },
    {
      "cell_type": "markdown",
      "metadata": {
        "id": "kCRXk2AzCeTI"
      },
      "source": [
        "#### Optimizador"
      ]
    },
    {
      "cell_type": "code",
      "execution_count": null,
      "metadata": {
        "id": "FxoPWPH7CeTI"
      },
      "outputs": [],
      "source": [
        "optimizer = AdamW(model.parameters(), lr=learning_rate)\n",
        "total_steps = len(train_dataloader) * num_epochs\n",
        "scheduler = get_linear_schedule_with_warmup(optimizer, num_warmup_steps=0, num_training_steps=total_steps)"
      ]
    },
    {
      "cell_type": "markdown",
      "metadata": {
        "id": "517bk2CyCeTJ"
      },
      "source": [
        "#### Entrenamiento"
      ]
    },
    {
      "cell_type": "code",
      "execution_count": null,
      "metadata": {
        "id": "QXVhtWWZCeTJ",
        "outputId": "8f7de33a-bbbf-450e-ee76-52f44b1acd7b",
        "colab": {
          "base_uri": "https://localhost:8080/"
        }
      },
      "outputs": [
        {
          "output_type": "stream",
          "name": "stdout",
          "text": [
            "Epoch 1/4\n",
            "Validation Accuracy: 0.4951\n",
            "              precision    recall  f1-score   support\n",
            "\n",
            "           0       0.47      0.16      0.24        51\n",
            "           1       0.50      0.83      0.62        52\n",
            "\n",
            "    accuracy                           0.50       103\n",
            "   macro avg       0.49      0.49      0.43       103\n",
            "weighted avg       0.49      0.50      0.43       103\n",
            "\n",
            "Epoch 2/4\n",
            "Validation Accuracy: 0.4466\n",
            "              precision    recall  f1-score   support\n",
            "\n",
            "           0       0.40      0.24      0.30        51\n",
            "           1       0.47      0.65      0.54        52\n",
            "\n",
            "    accuracy                           0.45       103\n",
            "   macro avg       0.43      0.44      0.42       103\n",
            "weighted avg       0.43      0.45      0.42       103\n",
            "\n",
            "Epoch 3/4\n",
            "Validation Accuracy: 0.4854\n",
            "              precision    recall  f1-score   support\n",
            "\n",
            "           0       0.47      0.29      0.36        51\n",
            "           1       0.49      0.67      0.57        52\n",
            "\n",
            "    accuracy                           0.49       103\n",
            "   macro avg       0.48      0.48      0.47       103\n",
            "weighted avg       0.48      0.49      0.47       103\n",
            "\n",
            "Epoch 4/4\n",
            "Validation Accuracy: 0.4951\n",
            "              precision    recall  f1-score   support\n",
            "\n",
            "           0       0.48      0.27      0.35        51\n",
            "           1       0.50      0.71      0.59        52\n",
            "\n",
            "    accuracy                           0.50       103\n",
            "   macro avg       0.49      0.49      0.47       103\n",
            "weighted avg       0.49      0.50      0.47       103\n",
            "\n"
          ]
        }
      ],
      "source": [
        "for epoch in range(num_epochs):\n",
        "        print(f\"Epoch {epoch + 1}/{num_epochs}\")\n",
        "        train(model, train_dataloader, optimizer, scheduler, device)\n",
        "        accuracy, report = evaluate(model, val_dataloader, device)\n",
        "        print(f\"Validation Accuracy: {accuracy:.4f}\")\n",
        "        print(report)"
      ]
    },
    {
      "cell_type": "markdown",
      "metadata": {
        "id": "6bQYI9v9CeTJ"
      },
      "source": [
        "#### Guardo el modelo"
      ]
    },
    {
      "cell_type": "code",
      "execution_count": null,
      "metadata": {
        "id": "uxtKg6BGCeTJ"
      },
      "outputs": [],
      "source": [
        "torch.save(model.state_dict(), \"bert_classifier_wm_20042024.pth\")"
      ]
    },
    {
      "cell_type": "markdown",
      "metadata": {
        "id": "P-8hTcc7CeTJ"
      },
      "source": [
        "#### Predicción"
      ]
    },
    {
      "cell_type": "code",
      "execution_count": null,
      "metadata": {
        "id": "HR4qIvajCeTK",
        "outputId": "1336f1b8-4a70-4985-8b5b-fcf0ea479857",
        "colab": {
          "base_uri": "https://localhost:8080/"
        }
      },
      "outputs": [
        {
          "output_type": "stream",
          "name": "stdout",
          "text": [
            "Prediccion:\n",
            "Compra: 0.4153\n",
            "Neutro: 0.5847\n"
          ]
        }
      ],
      "source": [
        "test_text = \"YPF call volume above normal and directionally bullish\"\n",
        "label_probabilities  = predict_sentiment_with_probabilities(test_text, model, tokenizer, device)\n",
        "print(\"Prediccion:\")\n",
        "for label, probability in label_probabilities.items():\n",
        "    print(f\"{label}: {probability:.4f}\")"
      ]
    },
    {
      "cell_type": "markdown",
      "metadata": {
        "id": "qqfTyAM_CeTK"
      },
      "source": [
        "#### Predicción (Probabilidad)"
      ]
    },
    {
      "cell_type": "code",
      "execution_count": null,
      "metadata": {
        "id": "2It5K6OBCeTK"
      },
      "outputs": [],
      "source": [
        "X_test = data_test['Text'].tolist()\n",
        "\n",
        "y_pred_bert = []\n",
        "predicted_probabilities = []\n",
        "\n",
        "for text in X_test:\n",
        "    label_probabilities = predict_sentiment_with_probabilities(text, model, tokenizer, device)\n",
        "\n",
        "    predicted_label = max(label_probabilities, key=label_probabilities.get)\n",
        "\n",
        "    y_pred_bert.append(predicted_label)\n",
        "\n",
        "    predicted_probabilities.append([label_probabilities[\"Compra\"], label_probabilities[\"Neutro\"]])\n",
        "\n",
        "y_pred_bert_proba = np.array(predicted_probabilities)"
      ]
    },
    {
      "cell_type": "markdown",
      "metadata": {
        "id": "g4nMTWdXCeTK"
      },
      "source": [
        "## Resultados"
      ]
    },
    {
      "cell_type": "code",
      "execution_count": null,
      "metadata": {
        "id": "txrCUkgDCeTL"
      },
      "outputs": [],
      "source": [
        "models_pred = pd.DataFrame(\n",
        "    {\n",
        "        'X_test': data_test['Text'].tolist(),\n",
        "        'y_test': data_test['Category'].tolist(),\n",
        "        'RegLog': y_pred_lr,\n",
        "        'RegLog_SW': y_pred_lr_sw,\n",
        "        'MultinomialNB': y_pred_nb,\n",
        "        'MultinomialNB_SW': y_pred_nb_sw,\n",
        "        'SVC': y_pred_svc,\n",
        "        'SVC_SW': y_pred_svc_sw,\n",
        "        'RF':y_pred_rf,\n",
        "        'RF_SW': y_pred_rf_sw,\n",
        "        'XGB': y_pred_xgb,\n",
        "        'XGB_SW': y_pred_xgb_sw,\n",
        "        'LightGBM': y_pred_lgbm,\n",
        "        'LightGBM_SW': y_pred_lgbm_sw,\n",
        "        'Word2Vec_LGBM': y_pred_w2v_lgbm,\n",
        "        'BERT': y_pred_bert\n",
        "    }\n",
        ")"
      ]
    },
    {
      "cell_type": "code",
      "execution_count": null,
      "metadata": {
        "id": "6XQK-f8hCeTL",
        "outputId": "34693874-5934-498c-e461-80c9959c3a1d",
        "colab": {
          "base_uri": "https://localhost:8080/",
          "height": 206
        }
      },
      "outputs": [
        {
          "output_type": "execute_result",
          "data": {
            "text/plain": [
              "                                              X_test  y_test  RegLog  \\\n",
              "0  Milei Seeks Second Chance From Congress With S...  Neutro  Compra   \n",
              "1  Javier Milei Races to Ease Argentina Inflation...  Compra  Neutro   \n",
              "2  Argentina builds case for exporting natgas to ...  Neutro  Neutro   \n",
              "3  YPF Sociedad Anonima (YPF) Gains As Market Dip...  Compra  Compra   \n",
              "4  Milei takes a chainsaw to Argentina’s state co...  Compra  Compra   \n",
              "\n",
              "  RegLog_SW MultinomialNB MultinomialNB_SW     SVC  SVC_SW      RF   RF_SW  \\\n",
              "0    Neutro        Compra           Compra  Compra  Compra  Compra  Compra   \n",
              "1    Compra        Compra           Compra  Compra  Compra  Compra  Compra   \n",
              "2    Neutro        Neutro           Neutro  Neutro  Neutro  Neutro  Neutro   \n",
              "3    Compra        Compra           Compra  Compra  Compra  Compra  Compra   \n",
              "4    Neutro        Compra           Compra  Compra  Compra  Compra  Compra   \n",
              "\n",
              "      XGB  XGB_SW LightGBM LightGBM_SW Word2Vec_LGBM    BERT  \n",
              "0  Compra  Compra   Compra      Compra        Neutro  Neutro  \n",
              "1  Neutro  Compra   Neutro      Compra        Compra  Neutro  \n",
              "2  Compra  Compra   Compra      Compra        Compra  Compra  \n",
              "3  Compra  Compra   Compra      Compra        Compra  Compra  \n",
              "4  Compra  Compra   Compra      Compra        Neutro  Compra  "
            ],
            "text/html": [
              "\n",
              "  <div id=\"df-f6c91579-f125-40a6-ad63-702d3abab736\" class=\"colab-df-container\">\n",
              "    <div>\n",
              "<style scoped>\n",
              "    .dataframe tbody tr th:only-of-type {\n",
              "        vertical-align: middle;\n",
              "    }\n",
              "\n",
              "    .dataframe tbody tr th {\n",
              "        vertical-align: top;\n",
              "    }\n",
              "\n",
              "    .dataframe thead th {\n",
              "        text-align: right;\n",
              "    }\n",
              "</style>\n",
              "<table border=\"1\" class=\"dataframe\">\n",
              "  <thead>\n",
              "    <tr style=\"text-align: right;\">\n",
              "      <th></th>\n",
              "      <th>X_test</th>\n",
              "      <th>y_test</th>\n",
              "      <th>RegLog</th>\n",
              "      <th>RegLog_SW</th>\n",
              "      <th>MultinomialNB</th>\n",
              "      <th>MultinomialNB_SW</th>\n",
              "      <th>SVC</th>\n",
              "      <th>SVC_SW</th>\n",
              "      <th>RF</th>\n",
              "      <th>RF_SW</th>\n",
              "      <th>XGB</th>\n",
              "      <th>XGB_SW</th>\n",
              "      <th>LightGBM</th>\n",
              "      <th>LightGBM_SW</th>\n",
              "      <th>Word2Vec_LGBM</th>\n",
              "      <th>BERT</th>\n",
              "    </tr>\n",
              "  </thead>\n",
              "  <tbody>\n",
              "    <tr>\n",
              "      <th>0</th>\n",
              "      <td>Milei Seeks Second Chance From Congress With S...</td>\n",
              "      <td>Neutro</td>\n",
              "      <td>Compra</td>\n",
              "      <td>Neutro</td>\n",
              "      <td>Compra</td>\n",
              "      <td>Compra</td>\n",
              "      <td>Compra</td>\n",
              "      <td>Compra</td>\n",
              "      <td>Compra</td>\n",
              "      <td>Compra</td>\n",
              "      <td>Compra</td>\n",
              "      <td>Compra</td>\n",
              "      <td>Compra</td>\n",
              "      <td>Compra</td>\n",
              "      <td>Neutro</td>\n",
              "      <td>Neutro</td>\n",
              "    </tr>\n",
              "    <tr>\n",
              "      <th>1</th>\n",
              "      <td>Javier Milei Races to Ease Argentina Inflation...</td>\n",
              "      <td>Compra</td>\n",
              "      <td>Neutro</td>\n",
              "      <td>Compra</td>\n",
              "      <td>Compra</td>\n",
              "      <td>Compra</td>\n",
              "      <td>Compra</td>\n",
              "      <td>Compra</td>\n",
              "      <td>Compra</td>\n",
              "      <td>Compra</td>\n",
              "      <td>Neutro</td>\n",
              "      <td>Compra</td>\n",
              "      <td>Neutro</td>\n",
              "      <td>Compra</td>\n",
              "      <td>Compra</td>\n",
              "      <td>Neutro</td>\n",
              "    </tr>\n",
              "    <tr>\n",
              "      <th>2</th>\n",
              "      <td>Argentina builds case for exporting natgas to ...</td>\n",
              "      <td>Neutro</td>\n",
              "      <td>Neutro</td>\n",
              "      <td>Neutro</td>\n",
              "      <td>Neutro</td>\n",
              "      <td>Neutro</td>\n",
              "      <td>Neutro</td>\n",
              "      <td>Neutro</td>\n",
              "      <td>Neutro</td>\n",
              "      <td>Neutro</td>\n",
              "      <td>Compra</td>\n",
              "      <td>Compra</td>\n",
              "      <td>Compra</td>\n",
              "      <td>Compra</td>\n",
              "      <td>Compra</td>\n",
              "      <td>Compra</td>\n",
              "    </tr>\n",
              "    <tr>\n",
              "      <th>3</th>\n",
              "      <td>YPF Sociedad Anonima (YPF) Gains As Market Dip...</td>\n",
              "      <td>Compra</td>\n",
              "      <td>Compra</td>\n",
              "      <td>Compra</td>\n",
              "      <td>Compra</td>\n",
              "      <td>Compra</td>\n",
              "      <td>Compra</td>\n",
              "      <td>Compra</td>\n",
              "      <td>Compra</td>\n",
              "      <td>Compra</td>\n",
              "      <td>Compra</td>\n",
              "      <td>Compra</td>\n",
              "      <td>Compra</td>\n",
              "      <td>Compra</td>\n",
              "      <td>Compra</td>\n",
              "      <td>Compra</td>\n",
              "    </tr>\n",
              "    <tr>\n",
              "      <th>4</th>\n",
              "      <td>Milei takes a chainsaw to Argentina’s state co...</td>\n",
              "      <td>Compra</td>\n",
              "      <td>Compra</td>\n",
              "      <td>Neutro</td>\n",
              "      <td>Compra</td>\n",
              "      <td>Compra</td>\n",
              "      <td>Compra</td>\n",
              "      <td>Compra</td>\n",
              "      <td>Compra</td>\n",
              "      <td>Compra</td>\n",
              "      <td>Compra</td>\n",
              "      <td>Compra</td>\n",
              "      <td>Compra</td>\n",
              "      <td>Compra</td>\n",
              "      <td>Neutro</td>\n",
              "      <td>Compra</td>\n",
              "    </tr>\n",
              "  </tbody>\n",
              "</table>\n",
              "</div>\n",
              "    <div class=\"colab-df-buttons\">\n",
              "\n",
              "  <div class=\"colab-df-container\">\n",
              "    <button class=\"colab-df-convert\" onclick=\"convertToInteractive('df-f6c91579-f125-40a6-ad63-702d3abab736')\"\n",
              "            title=\"Convert this dataframe to an interactive table.\"\n",
              "            style=\"display:none;\">\n",
              "\n",
              "  <svg xmlns=\"http://www.w3.org/2000/svg\" height=\"24px\" viewBox=\"0 -960 960 960\">\n",
              "    <path d=\"M120-120v-720h720v720H120Zm60-500h600v-160H180v160Zm220 220h160v-160H400v160Zm0 220h160v-160H400v160ZM180-400h160v-160H180v160Zm440 0h160v-160H620v160ZM180-180h160v-160H180v160Zm440 0h160v-160H620v160Z\"/>\n",
              "  </svg>\n",
              "    </button>\n",
              "\n",
              "  <style>\n",
              "    .colab-df-container {\n",
              "      display:flex;\n",
              "      gap: 12px;\n",
              "    }\n",
              "\n",
              "    .colab-df-convert {\n",
              "      background-color: #E8F0FE;\n",
              "      border: none;\n",
              "      border-radius: 50%;\n",
              "      cursor: pointer;\n",
              "      display: none;\n",
              "      fill: #1967D2;\n",
              "      height: 32px;\n",
              "      padding: 0 0 0 0;\n",
              "      width: 32px;\n",
              "    }\n",
              "\n",
              "    .colab-df-convert:hover {\n",
              "      background-color: #E2EBFA;\n",
              "      box-shadow: 0px 1px 2px rgba(60, 64, 67, 0.3), 0px 1px 3px 1px rgba(60, 64, 67, 0.15);\n",
              "      fill: #174EA6;\n",
              "    }\n",
              "\n",
              "    .colab-df-buttons div {\n",
              "      margin-bottom: 4px;\n",
              "    }\n",
              "\n",
              "    [theme=dark] .colab-df-convert {\n",
              "      background-color: #3B4455;\n",
              "      fill: #D2E3FC;\n",
              "    }\n",
              "\n",
              "    [theme=dark] .colab-df-convert:hover {\n",
              "      background-color: #434B5C;\n",
              "      box-shadow: 0px 1px 3px 1px rgba(0, 0, 0, 0.15);\n",
              "      filter: drop-shadow(0px 1px 2px rgba(0, 0, 0, 0.3));\n",
              "      fill: #FFFFFF;\n",
              "    }\n",
              "  </style>\n",
              "\n",
              "    <script>\n",
              "      const buttonEl =\n",
              "        document.querySelector('#df-f6c91579-f125-40a6-ad63-702d3abab736 button.colab-df-convert');\n",
              "      buttonEl.style.display =\n",
              "        google.colab.kernel.accessAllowed ? 'block' : 'none';\n",
              "\n",
              "      async function convertToInteractive(key) {\n",
              "        const element = document.querySelector('#df-f6c91579-f125-40a6-ad63-702d3abab736');\n",
              "        const dataTable =\n",
              "          await google.colab.kernel.invokeFunction('convertToInteractive',\n",
              "                                                    [key], {});\n",
              "        if (!dataTable) return;\n",
              "\n",
              "        const docLinkHtml = 'Like what you see? Visit the ' +\n",
              "          '<a target=\"_blank\" href=https://colab.research.google.com/notebooks/data_table.ipynb>data table notebook</a>'\n",
              "          + ' to learn more about interactive tables.';\n",
              "        element.innerHTML = '';\n",
              "        dataTable['output_type'] = 'display_data';\n",
              "        await google.colab.output.renderOutput(dataTable, element);\n",
              "        const docLink = document.createElement('div');\n",
              "        docLink.innerHTML = docLinkHtml;\n",
              "        element.appendChild(docLink);\n",
              "      }\n",
              "    </script>\n",
              "  </div>\n",
              "\n",
              "\n",
              "<div id=\"df-c37afa48-7a19-4b15-8499-d14a64de1d15\">\n",
              "  <button class=\"colab-df-quickchart\" onclick=\"quickchart('df-c37afa48-7a19-4b15-8499-d14a64de1d15')\"\n",
              "            title=\"Suggest charts\"\n",
              "            style=\"display:none;\">\n",
              "\n",
              "<svg xmlns=\"http://www.w3.org/2000/svg\" height=\"24px\"viewBox=\"0 0 24 24\"\n",
              "     width=\"24px\">\n",
              "    <g>\n",
              "        <path d=\"M19 3H5c-1.1 0-2 .9-2 2v14c0 1.1.9 2 2 2h14c1.1 0 2-.9 2-2V5c0-1.1-.9-2-2-2zM9 17H7v-7h2v7zm4 0h-2V7h2v10zm4 0h-2v-4h2v4z\"/>\n",
              "    </g>\n",
              "</svg>\n",
              "  </button>\n",
              "\n",
              "<style>\n",
              "  .colab-df-quickchart {\n",
              "      --bg-color: #E8F0FE;\n",
              "      --fill-color: #1967D2;\n",
              "      --hover-bg-color: #E2EBFA;\n",
              "      --hover-fill-color: #174EA6;\n",
              "      --disabled-fill-color: #AAA;\n",
              "      --disabled-bg-color: #DDD;\n",
              "  }\n",
              "\n",
              "  [theme=dark] .colab-df-quickchart {\n",
              "      --bg-color: #3B4455;\n",
              "      --fill-color: #D2E3FC;\n",
              "      --hover-bg-color: #434B5C;\n",
              "      --hover-fill-color: #FFFFFF;\n",
              "      --disabled-bg-color: #3B4455;\n",
              "      --disabled-fill-color: #666;\n",
              "  }\n",
              "\n",
              "  .colab-df-quickchart {\n",
              "    background-color: var(--bg-color);\n",
              "    border: none;\n",
              "    border-radius: 50%;\n",
              "    cursor: pointer;\n",
              "    display: none;\n",
              "    fill: var(--fill-color);\n",
              "    height: 32px;\n",
              "    padding: 0;\n",
              "    width: 32px;\n",
              "  }\n",
              "\n",
              "  .colab-df-quickchart:hover {\n",
              "    background-color: var(--hover-bg-color);\n",
              "    box-shadow: 0 1px 2px rgba(60, 64, 67, 0.3), 0 1px 3px 1px rgba(60, 64, 67, 0.15);\n",
              "    fill: var(--button-hover-fill-color);\n",
              "  }\n",
              "\n",
              "  .colab-df-quickchart-complete:disabled,\n",
              "  .colab-df-quickchart-complete:disabled:hover {\n",
              "    background-color: var(--disabled-bg-color);\n",
              "    fill: var(--disabled-fill-color);\n",
              "    box-shadow: none;\n",
              "  }\n",
              "\n",
              "  .colab-df-spinner {\n",
              "    border: 2px solid var(--fill-color);\n",
              "    border-color: transparent;\n",
              "    border-bottom-color: var(--fill-color);\n",
              "    animation:\n",
              "      spin 1s steps(1) infinite;\n",
              "  }\n",
              "\n",
              "  @keyframes spin {\n",
              "    0% {\n",
              "      border-color: transparent;\n",
              "      border-bottom-color: var(--fill-color);\n",
              "      border-left-color: var(--fill-color);\n",
              "    }\n",
              "    20% {\n",
              "      border-color: transparent;\n",
              "      border-left-color: var(--fill-color);\n",
              "      border-top-color: var(--fill-color);\n",
              "    }\n",
              "    30% {\n",
              "      border-color: transparent;\n",
              "      border-left-color: var(--fill-color);\n",
              "      border-top-color: var(--fill-color);\n",
              "      border-right-color: var(--fill-color);\n",
              "    }\n",
              "    40% {\n",
              "      border-color: transparent;\n",
              "      border-right-color: var(--fill-color);\n",
              "      border-top-color: var(--fill-color);\n",
              "    }\n",
              "    60% {\n",
              "      border-color: transparent;\n",
              "      border-right-color: var(--fill-color);\n",
              "    }\n",
              "    80% {\n",
              "      border-color: transparent;\n",
              "      border-right-color: var(--fill-color);\n",
              "      border-bottom-color: var(--fill-color);\n",
              "    }\n",
              "    90% {\n",
              "      border-color: transparent;\n",
              "      border-bottom-color: var(--fill-color);\n",
              "    }\n",
              "  }\n",
              "</style>\n",
              "\n",
              "  <script>\n",
              "    async function quickchart(key) {\n",
              "      const quickchartButtonEl =\n",
              "        document.querySelector('#' + key + ' button');\n",
              "      quickchartButtonEl.disabled = true;  // To prevent multiple clicks.\n",
              "      quickchartButtonEl.classList.add('colab-df-spinner');\n",
              "      try {\n",
              "        const charts = await google.colab.kernel.invokeFunction(\n",
              "            'suggestCharts', [key], {});\n",
              "      } catch (error) {\n",
              "        console.error('Error during call to suggestCharts:', error);\n",
              "      }\n",
              "      quickchartButtonEl.classList.remove('colab-df-spinner');\n",
              "      quickchartButtonEl.classList.add('colab-df-quickchart-complete');\n",
              "    }\n",
              "    (() => {\n",
              "      let quickchartButtonEl =\n",
              "        document.querySelector('#df-c37afa48-7a19-4b15-8499-d14a64de1d15 button');\n",
              "      quickchartButtonEl.style.display =\n",
              "        google.colab.kernel.accessAllowed ? 'block' : 'none';\n",
              "    })();\n",
              "  </script>\n",
              "</div>\n",
              "\n",
              "    </div>\n",
              "  </div>\n"
            ],
            "application/vnd.google.colaboratory.intrinsic+json": {
              "type": "dataframe",
              "variable_name": "models_pred",
              "summary": "{\n  \"name\": \"models_pred\",\n  \"rows\": 103,\n  \"fields\": [\n    {\n      \"column\": \"X_test\",\n      \"properties\": {\n        \"dtype\": \"string\",\n        \"num_unique_values\": 103,\n        \"samples\": [\n          \"Best Value Stocks to Buy for January 31st YPF, AMWD and SCS made it to the Zacks Rank #1 (Strong Buy) value stocks list on January 31, 2024.. \",\n          \"T. Rowe Ditches Risky Sovereign Debt to Snap Up Corporate Bonds. T. Rowe Price is embracing corporate debt from the Philippines to Brazil and Mexico as the new year kicks off, while ditching the risky frontier-market bonds that outperformed in 2023.\",\n          \"Argentina Requests Relief From Burford\\u2019s Intent to Seize Assets. Argentina has asked a Manhattan court to stop Burford Capital from immediately trying to seize its foreign assets as the hedge fund seeks to collect on billions of dollars that a judge ruled it is owed by the South American country.\"\n        ],\n        \"semantic_type\": \"\",\n        \"description\": \"\"\n      }\n    },\n    {\n      \"column\": \"y_test\",\n      \"properties\": {\n        \"dtype\": \"category\",\n        \"num_unique_values\": 2,\n        \"samples\": [\n          \"Compra\",\n          \"Neutro\"\n        ],\n        \"semantic_type\": \"\",\n        \"description\": \"\"\n      }\n    },\n    {\n      \"column\": \"RegLog\",\n      \"properties\": {\n        \"dtype\": \"category\",\n        \"num_unique_values\": 2,\n        \"samples\": [\n          \"Neutro\",\n          \"Compra\"\n        ],\n        \"semantic_type\": \"\",\n        \"description\": \"\"\n      }\n    },\n    {\n      \"column\": \"RegLog_SW\",\n      \"properties\": {\n        \"dtype\": \"category\",\n        \"num_unique_values\": 2,\n        \"samples\": [\n          \"Compra\",\n          \"Neutro\"\n        ],\n        \"semantic_type\": \"\",\n        \"description\": \"\"\n      }\n    },\n    {\n      \"column\": \"MultinomialNB\",\n      \"properties\": {\n        \"dtype\": \"category\",\n        \"num_unique_values\": 2,\n        \"samples\": [\n          \"Neutro\",\n          \"Compra\"\n        ],\n        \"semantic_type\": \"\",\n        \"description\": \"\"\n      }\n    },\n    {\n      \"column\": \"MultinomialNB_SW\",\n      \"properties\": {\n        \"dtype\": \"category\",\n        \"num_unique_values\": 2,\n        \"samples\": [\n          \"Neutro\",\n          \"Compra\"\n        ],\n        \"semantic_type\": \"\",\n        \"description\": \"\"\n      }\n    },\n    {\n      \"column\": \"SVC\",\n      \"properties\": {\n        \"dtype\": \"category\",\n        \"num_unique_values\": 2,\n        \"samples\": [\n          \"Neutro\",\n          \"Compra\"\n        ],\n        \"semantic_type\": \"\",\n        \"description\": \"\"\n      }\n    },\n    {\n      \"column\": \"SVC_SW\",\n      \"properties\": {\n        \"dtype\": \"category\",\n        \"num_unique_values\": 2,\n        \"samples\": [\n          \"Neutro\",\n          \"Compra\"\n        ],\n        \"semantic_type\": \"\",\n        \"description\": \"\"\n      }\n    },\n    {\n      \"column\": \"RF\",\n      \"properties\": {\n        \"dtype\": \"category\",\n        \"num_unique_values\": 2,\n        \"samples\": [\n          \"Neutro\",\n          \"Compra\"\n        ],\n        \"semantic_type\": \"\",\n        \"description\": \"\"\n      }\n    },\n    {\n      \"column\": \"RF_SW\",\n      \"properties\": {\n        \"dtype\": \"category\",\n        \"num_unique_values\": 2,\n        \"samples\": [\n          \"Neutro\",\n          \"Compra\"\n        ],\n        \"semantic_type\": \"\",\n        \"description\": \"\"\n      }\n    },\n    {\n      \"column\": \"XGB\",\n      \"properties\": {\n        \"dtype\": \"category\",\n        \"num_unique_values\": 2,\n        \"samples\": [\n          \"Neutro\",\n          \"Compra\"\n        ],\n        \"semantic_type\": \"\",\n        \"description\": \"\"\n      }\n    },\n    {\n      \"column\": \"XGB_SW\",\n      \"properties\": {\n        \"dtype\": \"category\",\n        \"num_unique_values\": 2,\n        \"samples\": [\n          \"Neutro\",\n          \"Compra\"\n        ],\n        \"semantic_type\": \"\",\n        \"description\": \"\"\n      }\n    },\n    {\n      \"column\": \"LightGBM\",\n      \"properties\": {\n        \"dtype\": \"category\",\n        \"num_unique_values\": 2,\n        \"samples\": [\n          \"Neutro\",\n          \"Compra\"\n        ],\n        \"semantic_type\": \"\",\n        \"description\": \"\"\n      }\n    },\n    {\n      \"column\": \"LightGBM_SW\",\n      \"properties\": {\n        \"dtype\": \"category\",\n        \"num_unique_values\": 2,\n        \"samples\": [\n          \"Neutro\",\n          \"Compra\"\n        ],\n        \"semantic_type\": \"\",\n        \"description\": \"\"\n      }\n    },\n    {\n      \"column\": \"Word2Vec_LGBM\",\n      \"properties\": {\n        \"dtype\": \"category\",\n        \"num_unique_values\": 2,\n        \"samples\": [\n          \"Compra\",\n          \"Neutro\"\n        ],\n        \"semantic_type\": \"\",\n        \"description\": \"\"\n      }\n    },\n    {\n      \"column\": \"BERT\",\n      \"properties\": {\n        \"dtype\": \"category\",\n        \"num_unique_values\": 2,\n        \"samples\": [\n          \"Compra\",\n          \"Neutro\"\n        ],\n        \"semantic_type\": \"\",\n        \"description\": \"\"\n      }\n    }\n  ]\n}"
            }
          },
          "metadata": {},
          "execution_count": 91
        }
      ],
      "source": [
        "models_pred.head()"
      ]
    },
    {
      "cell_type": "code",
      "execution_count": null,
      "metadata": {
        "id": "dcWqk4qjCeTL"
      },
      "outputs": [],
      "source": [
        "models_pred.to_excel('ypf_predicciones_modelos.xlsx', index=False)"
      ]
    },
    {
      "cell_type": "markdown",
      "metadata": {
        "id": "OcYX-fuoCeTL"
      },
      "source": [
        "### Probabilidades"
      ]
    },
    {
      "cell_type": "code",
      "execution_count": null,
      "metadata": {
        "id": "W1UEw3EsCeTM"
      },
      "outputs": [],
      "source": [
        "probas = [\n",
        "    y_pred_lr_proba,\n",
        "    y_pred_lr_sw_proba,\n",
        "    y_pred_nb_proba,\n",
        "    y_pred_nb_sw_proba,\n",
        "    y_pred_svc_proba,\n",
        "    y_pred_svc_sw_proba,\n",
        "    y_pred_rf_proba,\n",
        "    y_pred_rf_sw_proba,\n",
        "    y_pred_xgb_proba,\n",
        "    y_pred_xgb_sw_proba,\n",
        "    y_pred_lgbm_proba,\n",
        "    y_pred_lgbm_sw_proba,\n",
        "    y_pred_w2v_lgbm_proba,\n",
        "    y_pred_bert_proba\n",
        "]"
      ]
    },
    {
      "cell_type": "markdown",
      "metadata": {
        "id": "-wa8KnnmCeTM"
      },
      "source": [
        "## Ensemble"
      ]
    },
    {
      "cell_type": "code",
      "execution_count": null,
      "metadata": {
        "id": "ewKeNkWECeTN"
      },
      "outputs": [],
      "source": [
        "v_probas = len(probas)\n",
        "v_length = len(probas[0])\n",
        "\n",
        "y_pred_ensemble_proba = [[0] * 2 for _ in range(v_length)]\n",
        "\n",
        "for proba in range(0,v_probas):\n",
        "    for row in range(0,v_length):\n",
        "        for category in range(0,2):\n",
        "            y_pred_ensemble_proba[row][category] += probas[proba][row][category]\n",
        "\n",
        "for row in range(0,v_length):\n",
        "    for category in range(0,2):\n",
        "        y_pred_ensemble_proba[row][category] = y_pred_ensemble_proba[row][category]/v_probas"
      ]
    },
    {
      "cell_type": "code",
      "execution_count": null,
      "metadata": {
        "id": "WauN0SiSCeTN"
      },
      "outputs": [],
      "source": [
        "v_data = {}\n",
        "for i in range(2):\n",
        "    column_name = chr(65 + i)\n",
        "    v_data[column_name] = [inner_list[i] for inner_list in y_pred_ensemble_proba]\n",
        "\n",
        "df = pd.DataFrame(v_data)"
      ]
    },
    {
      "cell_type": "code",
      "execution_count": null,
      "metadata": {
        "id": "DAH6Q4dVCeTN"
      },
      "outputs": [],
      "source": [
        "prob_ensemble = pd.DataFrame(\n",
        "    {\n",
        "        'X_test': data_test['Text'].tolist(),\n",
        "        'y_test': data_test['Category'].tolist(),\n",
        "        'Compra': df['A'].values.tolist(),\n",
        "        'Neutro': df['B'].values.tolist()\n",
        "    }\n",
        ")"
      ]
    },
    {
      "cell_type": "code",
      "execution_count": null,
      "metadata": {
        "id": "pbJDsCjUCeTO",
        "outputId": "5238ef0f-1113-47f2-f047-575d694c7939",
        "colab": {
          "base_uri": "https://localhost:8080/",
          "height": 424
        }
      },
      "outputs": [
        {
          "output_type": "execute_result",
          "data": {
            "text/plain": [
              "                                                X_test  y_test    Compra  \\\n",
              "0    Milei Seeks Second Chance From Congress With S...  Neutro  0.584261   \n",
              "1    Javier Milei Races to Ease Argentina Inflation...  Compra  0.575073   \n",
              "2    Argentina builds case for exporting natgas to ...  Neutro  0.490940   \n",
              "3    YPF Sociedad Anonima (YPF) Gains As Market Dip...  Compra  0.853644   \n",
              "4    Milei takes a chainsaw to Argentina’s state co...  Compra  0.604900   \n",
              "..                                                 ...     ...       ...   \n",
              "98         Transcript: Argentina is in its Milei era.   Neutro  0.630468   \n",
              "99   Argentina will not face $16.1 billion YPF judg...  Neutro  0.310424   \n",
              "100  Argentina's black market peso slides with eyes...  Neutro  0.596951   \n",
              "101  Zacks Investment Ideas feature highlights: YPF...  Neutro  0.468791   \n",
              "102  Argentine Stocks Soar, Bonds Climb as Investor...  Compra  0.627606   \n",
              "\n",
              "       Neutro  \n",
              "0    0.415739  \n",
              "1    0.424927  \n",
              "2    0.509060  \n",
              "3    0.146356  \n",
              "4    0.395100  \n",
              "..        ...  \n",
              "98   0.369532  \n",
              "99   0.689576  \n",
              "100  0.403049  \n",
              "101  0.531209  \n",
              "102  0.372394  \n",
              "\n",
              "[103 rows x 4 columns]"
            ],
            "text/html": [
              "\n",
              "  <div id=\"df-6a9732da-a934-448e-99ab-43573b1894d8\" class=\"colab-df-container\">\n",
              "    <div>\n",
              "<style scoped>\n",
              "    .dataframe tbody tr th:only-of-type {\n",
              "        vertical-align: middle;\n",
              "    }\n",
              "\n",
              "    .dataframe tbody tr th {\n",
              "        vertical-align: top;\n",
              "    }\n",
              "\n",
              "    .dataframe thead th {\n",
              "        text-align: right;\n",
              "    }\n",
              "</style>\n",
              "<table border=\"1\" class=\"dataframe\">\n",
              "  <thead>\n",
              "    <tr style=\"text-align: right;\">\n",
              "      <th></th>\n",
              "      <th>X_test</th>\n",
              "      <th>y_test</th>\n",
              "      <th>Compra</th>\n",
              "      <th>Neutro</th>\n",
              "    </tr>\n",
              "  </thead>\n",
              "  <tbody>\n",
              "    <tr>\n",
              "      <th>0</th>\n",
              "      <td>Milei Seeks Second Chance From Congress With S...</td>\n",
              "      <td>Neutro</td>\n",
              "      <td>0.584261</td>\n",
              "      <td>0.415739</td>\n",
              "    </tr>\n",
              "    <tr>\n",
              "      <th>1</th>\n",
              "      <td>Javier Milei Races to Ease Argentina Inflation...</td>\n",
              "      <td>Compra</td>\n",
              "      <td>0.575073</td>\n",
              "      <td>0.424927</td>\n",
              "    </tr>\n",
              "    <tr>\n",
              "      <th>2</th>\n",
              "      <td>Argentina builds case for exporting natgas to ...</td>\n",
              "      <td>Neutro</td>\n",
              "      <td>0.490940</td>\n",
              "      <td>0.509060</td>\n",
              "    </tr>\n",
              "    <tr>\n",
              "      <th>3</th>\n",
              "      <td>YPF Sociedad Anonima (YPF) Gains As Market Dip...</td>\n",
              "      <td>Compra</td>\n",
              "      <td>0.853644</td>\n",
              "      <td>0.146356</td>\n",
              "    </tr>\n",
              "    <tr>\n",
              "      <th>4</th>\n",
              "      <td>Milei takes a chainsaw to Argentina’s state co...</td>\n",
              "      <td>Compra</td>\n",
              "      <td>0.604900</td>\n",
              "      <td>0.395100</td>\n",
              "    </tr>\n",
              "    <tr>\n",
              "      <th>...</th>\n",
              "      <td>...</td>\n",
              "      <td>...</td>\n",
              "      <td>...</td>\n",
              "      <td>...</td>\n",
              "    </tr>\n",
              "    <tr>\n",
              "      <th>98</th>\n",
              "      <td>Transcript: Argentina is in its Milei era.</td>\n",
              "      <td>Neutro</td>\n",
              "      <td>0.630468</td>\n",
              "      <td>0.369532</td>\n",
              "    </tr>\n",
              "    <tr>\n",
              "      <th>99</th>\n",
              "      <td>Argentina will not face $16.1 billion YPF judg...</td>\n",
              "      <td>Neutro</td>\n",
              "      <td>0.310424</td>\n",
              "      <td>0.689576</td>\n",
              "    </tr>\n",
              "    <tr>\n",
              "      <th>100</th>\n",
              "      <td>Argentina's black market peso slides with eyes...</td>\n",
              "      <td>Neutro</td>\n",
              "      <td>0.596951</td>\n",
              "      <td>0.403049</td>\n",
              "    </tr>\n",
              "    <tr>\n",
              "      <th>101</th>\n",
              "      <td>Zacks Investment Ideas feature highlights: YPF...</td>\n",
              "      <td>Neutro</td>\n",
              "      <td>0.468791</td>\n",
              "      <td>0.531209</td>\n",
              "    </tr>\n",
              "    <tr>\n",
              "      <th>102</th>\n",
              "      <td>Argentine Stocks Soar, Bonds Climb as Investor...</td>\n",
              "      <td>Compra</td>\n",
              "      <td>0.627606</td>\n",
              "      <td>0.372394</td>\n",
              "    </tr>\n",
              "  </tbody>\n",
              "</table>\n",
              "<p>103 rows × 4 columns</p>\n",
              "</div>\n",
              "    <div class=\"colab-df-buttons\">\n",
              "\n",
              "  <div class=\"colab-df-container\">\n",
              "    <button class=\"colab-df-convert\" onclick=\"convertToInteractive('df-6a9732da-a934-448e-99ab-43573b1894d8')\"\n",
              "            title=\"Convert this dataframe to an interactive table.\"\n",
              "            style=\"display:none;\">\n",
              "\n",
              "  <svg xmlns=\"http://www.w3.org/2000/svg\" height=\"24px\" viewBox=\"0 -960 960 960\">\n",
              "    <path d=\"M120-120v-720h720v720H120Zm60-500h600v-160H180v160Zm220 220h160v-160H400v160Zm0 220h160v-160H400v160ZM180-400h160v-160H180v160Zm440 0h160v-160H620v160ZM180-180h160v-160H180v160Zm440 0h160v-160H620v160Z\"/>\n",
              "  </svg>\n",
              "    </button>\n",
              "\n",
              "  <style>\n",
              "    .colab-df-container {\n",
              "      display:flex;\n",
              "      gap: 12px;\n",
              "    }\n",
              "\n",
              "    .colab-df-convert {\n",
              "      background-color: #E8F0FE;\n",
              "      border: none;\n",
              "      border-radius: 50%;\n",
              "      cursor: pointer;\n",
              "      display: none;\n",
              "      fill: #1967D2;\n",
              "      height: 32px;\n",
              "      padding: 0 0 0 0;\n",
              "      width: 32px;\n",
              "    }\n",
              "\n",
              "    .colab-df-convert:hover {\n",
              "      background-color: #E2EBFA;\n",
              "      box-shadow: 0px 1px 2px rgba(60, 64, 67, 0.3), 0px 1px 3px 1px rgba(60, 64, 67, 0.15);\n",
              "      fill: #174EA6;\n",
              "    }\n",
              "\n",
              "    .colab-df-buttons div {\n",
              "      margin-bottom: 4px;\n",
              "    }\n",
              "\n",
              "    [theme=dark] .colab-df-convert {\n",
              "      background-color: #3B4455;\n",
              "      fill: #D2E3FC;\n",
              "    }\n",
              "\n",
              "    [theme=dark] .colab-df-convert:hover {\n",
              "      background-color: #434B5C;\n",
              "      box-shadow: 0px 1px 3px 1px rgba(0, 0, 0, 0.15);\n",
              "      filter: drop-shadow(0px 1px 2px rgba(0, 0, 0, 0.3));\n",
              "      fill: #FFFFFF;\n",
              "    }\n",
              "  </style>\n",
              "\n",
              "    <script>\n",
              "      const buttonEl =\n",
              "        document.querySelector('#df-6a9732da-a934-448e-99ab-43573b1894d8 button.colab-df-convert');\n",
              "      buttonEl.style.display =\n",
              "        google.colab.kernel.accessAllowed ? 'block' : 'none';\n",
              "\n",
              "      async function convertToInteractive(key) {\n",
              "        const element = document.querySelector('#df-6a9732da-a934-448e-99ab-43573b1894d8');\n",
              "        const dataTable =\n",
              "          await google.colab.kernel.invokeFunction('convertToInteractive',\n",
              "                                                    [key], {});\n",
              "        if (!dataTable) return;\n",
              "\n",
              "        const docLinkHtml = 'Like what you see? Visit the ' +\n",
              "          '<a target=\"_blank\" href=https://colab.research.google.com/notebooks/data_table.ipynb>data table notebook</a>'\n",
              "          + ' to learn more about interactive tables.';\n",
              "        element.innerHTML = '';\n",
              "        dataTable['output_type'] = 'display_data';\n",
              "        await google.colab.output.renderOutput(dataTable, element);\n",
              "        const docLink = document.createElement('div');\n",
              "        docLink.innerHTML = docLinkHtml;\n",
              "        element.appendChild(docLink);\n",
              "      }\n",
              "    </script>\n",
              "  </div>\n",
              "\n",
              "\n",
              "<div id=\"df-23827b83-e3e8-4c68-b25c-621fa88dec7c\">\n",
              "  <button class=\"colab-df-quickchart\" onclick=\"quickchart('df-23827b83-e3e8-4c68-b25c-621fa88dec7c')\"\n",
              "            title=\"Suggest charts\"\n",
              "            style=\"display:none;\">\n",
              "\n",
              "<svg xmlns=\"http://www.w3.org/2000/svg\" height=\"24px\"viewBox=\"0 0 24 24\"\n",
              "     width=\"24px\">\n",
              "    <g>\n",
              "        <path d=\"M19 3H5c-1.1 0-2 .9-2 2v14c0 1.1.9 2 2 2h14c1.1 0 2-.9 2-2V5c0-1.1-.9-2-2-2zM9 17H7v-7h2v7zm4 0h-2V7h2v10zm4 0h-2v-4h2v4z\"/>\n",
              "    </g>\n",
              "</svg>\n",
              "  </button>\n",
              "\n",
              "<style>\n",
              "  .colab-df-quickchart {\n",
              "      --bg-color: #E8F0FE;\n",
              "      --fill-color: #1967D2;\n",
              "      --hover-bg-color: #E2EBFA;\n",
              "      --hover-fill-color: #174EA6;\n",
              "      --disabled-fill-color: #AAA;\n",
              "      --disabled-bg-color: #DDD;\n",
              "  }\n",
              "\n",
              "  [theme=dark] .colab-df-quickchart {\n",
              "      --bg-color: #3B4455;\n",
              "      --fill-color: #D2E3FC;\n",
              "      --hover-bg-color: #434B5C;\n",
              "      --hover-fill-color: #FFFFFF;\n",
              "      --disabled-bg-color: #3B4455;\n",
              "      --disabled-fill-color: #666;\n",
              "  }\n",
              "\n",
              "  .colab-df-quickchart {\n",
              "    background-color: var(--bg-color);\n",
              "    border: none;\n",
              "    border-radius: 50%;\n",
              "    cursor: pointer;\n",
              "    display: none;\n",
              "    fill: var(--fill-color);\n",
              "    height: 32px;\n",
              "    padding: 0;\n",
              "    width: 32px;\n",
              "  }\n",
              "\n",
              "  .colab-df-quickchart:hover {\n",
              "    background-color: var(--hover-bg-color);\n",
              "    box-shadow: 0 1px 2px rgba(60, 64, 67, 0.3), 0 1px 3px 1px rgba(60, 64, 67, 0.15);\n",
              "    fill: var(--button-hover-fill-color);\n",
              "  }\n",
              "\n",
              "  .colab-df-quickchart-complete:disabled,\n",
              "  .colab-df-quickchart-complete:disabled:hover {\n",
              "    background-color: var(--disabled-bg-color);\n",
              "    fill: var(--disabled-fill-color);\n",
              "    box-shadow: none;\n",
              "  }\n",
              "\n",
              "  .colab-df-spinner {\n",
              "    border: 2px solid var(--fill-color);\n",
              "    border-color: transparent;\n",
              "    border-bottom-color: var(--fill-color);\n",
              "    animation:\n",
              "      spin 1s steps(1) infinite;\n",
              "  }\n",
              "\n",
              "  @keyframes spin {\n",
              "    0% {\n",
              "      border-color: transparent;\n",
              "      border-bottom-color: var(--fill-color);\n",
              "      border-left-color: var(--fill-color);\n",
              "    }\n",
              "    20% {\n",
              "      border-color: transparent;\n",
              "      border-left-color: var(--fill-color);\n",
              "      border-top-color: var(--fill-color);\n",
              "    }\n",
              "    30% {\n",
              "      border-color: transparent;\n",
              "      border-left-color: var(--fill-color);\n",
              "      border-top-color: var(--fill-color);\n",
              "      border-right-color: var(--fill-color);\n",
              "    }\n",
              "    40% {\n",
              "      border-color: transparent;\n",
              "      border-right-color: var(--fill-color);\n",
              "      border-top-color: var(--fill-color);\n",
              "    }\n",
              "    60% {\n",
              "      border-color: transparent;\n",
              "      border-right-color: var(--fill-color);\n",
              "    }\n",
              "    80% {\n",
              "      border-color: transparent;\n",
              "      border-right-color: var(--fill-color);\n",
              "      border-bottom-color: var(--fill-color);\n",
              "    }\n",
              "    90% {\n",
              "      border-color: transparent;\n",
              "      border-bottom-color: var(--fill-color);\n",
              "    }\n",
              "  }\n",
              "</style>\n",
              "\n",
              "  <script>\n",
              "    async function quickchart(key) {\n",
              "      const quickchartButtonEl =\n",
              "        document.querySelector('#' + key + ' button');\n",
              "      quickchartButtonEl.disabled = true;  // To prevent multiple clicks.\n",
              "      quickchartButtonEl.classList.add('colab-df-spinner');\n",
              "      try {\n",
              "        const charts = await google.colab.kernel.invokeFunction(\n",
              "            'suggestCharts', [key], {});\n",
              "      } catch (error) {\n",
              "        console.error('Error during call to suggestCharts:', error);\n",
              "      }\n",
              "      quickchartButtonEl.classList.remove('colab-df-spinner');\n",
              "      quickchartButtonEl.classList.add('colab-df-quickchart-complete');\n",
              "    }\n",
              "    (() => {\n",
              "      let quickchartButtonEl =\n",
              "        document.querySelector('#df-23827b83-e3e8-4c68-b25c-621fa88dec7c button');\n",
              "      quickchartButtonEl.style.display =\n",
              "        google.colab.kernel.accessAllowed ? 'block' : 'none';\n",
              "    })();\n",
              "  </script>\n",
              "</div>\n",
              "\n",
              "  <div id=\"id_47fb8c71-0162-4067-a43d-d8f641aef80a\">\n",
              "    <style>\n",
              "      .colab-df-generate {\n",
              "        background-color: #E8F0FE;\n",
              "        border: none;\n",
              "        border-radius: 50%;\n",
              "        cursor: pointer;\n",
              "        display: none;\n",
              "        fill: #1967D2;\n",
              "        height: 32px;\n",
              "        padding: 0 0 0 0;\n",
              "        width: 32px;\n",
              "      }\n",
              "\n",
              "      .colab-df-generate:hover {\n",
              "        background-color: #E2EBFA;\n",
              "        box-shadow: 0px 1px 2px rgba(60, 64, 67, 0.3), 0px 1px 3px 1px rgba(60, 64, 67, 0.15);\n",
              "        fill: #174EA6;\n",
              "      }\n",
              "\n",
              "      [theme=dark] .colab-df-generate {\n",
              "        background-color: #3B4455;\n",
              "        fill: #D2E3FC;\n",
              "      }\n",
              "\n",
              "      [theme=dark] .colab-df-generate:hover {\n",
              "        background-color: #434B5C;\n",
              "        box-shadow: 0px 1px 3px 1px rgba(0, 0, 0, 0.15);\n",
              "        filter: drop-shadow(0px 1px 2px rgba(0, 0, 0, 0.3));\n",
              "        fill: #FFFFFF;\n",
              "      }\n",
              "    </style>\n",
              "    <button class=\"colab-df-generate\" onclick=\"generateWithVariable('prob_ensemble')\"\n",
              "            title=\"Generate code using this dataframe.\"\n",
              "            style=\"display:none;\">\n",
              "\n",
              "  <svg xmlns=\"http://www.w3.org/2000/svg\" height=\"24px\"viewBox=\"0 0 24 24\"\n",
              "       width=\"24px\">\n",
              "    <path d=\"M7,19H8.4L18.45,9,17,7.55,7,17.6ZM5,21V16.75L18.45,3.32a2,2,0,0,1,2.83,0l1.4,1.43a1.91,1.91,0,0,1,.58,1.4,1.91,1.91,0,0,1-.58,1.4L9.25,21ZM18.45,9,17,7.55Zm-12,3A5.31,5.31,0,0,0,4.9,8.1,5.31,5.31,0,0,0,1,6.5,5.31,5.31,0,0,0,4.9,4.9,5.31,5.31,0,0,0,6.5,1,5.31,5.31,0,0,0,8.1,4.9,5.31,5.31,0,0,0,12,6.5,5.46,5.46,0,0,0,6.5,12Z\"/>\n",
              "  </svg>\n",
              "    </button>\n",
              "    <script>\n",
              "      (() => {\n",
              "      const buttonEl =\n",
              "        document.querySelector('#id_47fb8c71-0162-4067-a43d-d8f641aef80a button.colab-df-generate');\n",
              "      buttonEl.style.display =\n",
              "        google.colab.kernel.accessAllowed ? 'block' : 'none';\n",
              "\n",
              "      buttonEl.onclick = () => {\n",
              "        google.colab.notebook.generateWithVariable('prob_ensemble');\n",
              "      }\n",
              "      })();\n",
              "    </script>\n",
              "  </div>\n",
              "\n",
              "    </div>\n",
              "  </div>\n"
            ],
            "application/vnd.google.colaboratory.intrinsic+json": {
              "type": "dataframe",
              "variable_name": "prob_ensemble",
              "summary": "{\n  \"name\": \"prob_ensemble\",\n  \"rows\": 103,\n  \"fields\": [\n    {\n      \"column\": \"X_test\",\n      \"properties\": {\n        \"dtype\": \"string\",\n        \"num_unique_values\": 103,\n        \"samples\": [\n          \"Best Value Stocks to Buy for January 31st YPF, AMWD and SCS made it to the Zacks Rank #1 (Strong Buy) value stocks list on January 31, 2024.. \",\n          \"T. Rowe Ditches Risky Sovereign Debt to Snap Up Corporate Bonds. T. Rowe Price is embracing corporate debt from the Philippines to Brazil and Mexico as the new year kicks off, while ditching the risky frontier-market bonds that outperformed in 2023.\",\n          \"Argentina Requests Relief From Burford\\u2019s Intent to Seize Assets. Argentina has asked a Manhattan court to stop Burford Capital from immediately trying to seize its foreign assets as the hedge fund seeks to collect on billions of dollars that a judge ruled it is owed by the South American country.\"\n        ],\n        \"semantic_type\": \"\",\n        \"description\": \"\"\n      }\n    },\n    {\n      \"column\": \"y_test\",\n      \"properties\": {\n        \"dtype\": \"category\",\n        \"num_unique_values\": 2,\n        \"samples\": [\n          \"Compra\",\n          \"Neutro\"\n        ],\n        \"semantic_type\": \"\",\n        \"description\": \"\"\n      }\n    },\n    {\n      \"column\": \"Compra\",\n      \"properties\": {\n        \"dtype\": \"number\",\n        \"std\": 0.20618592516609308,\n        \"min\": 0.05407714250187764,\n        \"max\": 0.8784910513603222,\n        \"num_unique_values\": 103,\n        \"samples\": [\n          0.8419065648536418,\n          0.32241214109048955\n        ],\n        \"semantic_type\": \"\",\n        \"description\": \"\"\n      }\n    },\n    {\n      \"column\": \"Neutro\",\n      \"properties\": {\n        \"dtype\": \"number\",\n        \"std\": 0.20618592480359316,\n        \"min\": 0.12150894784140122,\n        \"max\": 0.9459228553693847,\n        \"num_unique_values\": 103,\n        \"samples\": [\n          0.15809343727509553,\n          0.6775878589095106\n        ],\n        \"semantic_type\": \"\",\n        \"description\": \"\"\n      }\n    }\n  ]\n}"
            }
          },
          "metadata": {},
          "execution_count": 97
        }
      ],
      "source": [
        "prob_ensemble"
      ]
    },
    {
      "cell_type": "code",
      "execution_count": null,
      "metadata": {
        "id": "YlAPTPWJCeTO"
      },
      "outputs": [],
      "source": [
        "prob_ensemble['Ensemble Label'] = prob_ensemble[['Compra', 'Neutro']].idxmax(axis=1)"
      ]
    },
    {
      "cell_type": "code",
      "execution_count": null,
      "metadata": {
        "id": "Uu0aKhpFCeTO",
        "outputId": "7158417f-621a-4b92-cf5e-a081bb6c3766",
        "colab": {
          "base_uri": "https://localhost:8080/",
          "height": 424
        }
      },
      "outputs": [
        {
          "output_type": "execute_result",
          "data": {
            "text/plain": [
              "                                                X_test  y_test    Compra  \\\n",
              "0    Milei Seeks Second Chance From Congress With S...  Neutro  0.584261   \n",
              "1    Javier Milei Races to Ease Argentina Inflation...  Compra  0.575073   \n",
              "2    Argentina builds case for exporting natgas to ...  Neutro  0.490940   \n",
              "3    YPF Sociedad Anonima (YPF) Gains As Market Dip...  Compra  0.853644   \n",
              "4    Milei takes a chainsaw to Argentina’s state co...  Compra  0.604900   \n",
              "..                                                 ...     ...       ...   \n",
              "98         Transcript: Argentina is in its Milei era.   Neutro  0.630468   \n",
              "99   Argentina will not face $16.1 billion YPF judg...  Neutro  0.310424   \n",
              "100  Argentina's black market peso slides with eyes...  Neutro  0.596951   \n",
              "101  Zacks Investment Ideas feature highlights: YPF...  Neutro  0.468791   \n",
              "102  Argentine Stocks Soar, Bonds Climb as Investor...  Compra  0.627606   \n",
              "\n",
              "       Neutro Ensemble Label  \n",
              "0    0.415739         Compra  \n",
              "1    0.424927         Compra  \n",
              "2    0.509060         Neutro  \n",
              "3    0.146356         Compra  \n",
              "4    0.395100         Compra  \n",
              "..        ...            ...  \n",
              "98   0.369532         Compra  \n",
              "99   0.689576         Neutro  \n",
              "100  0.403049         Compra  \n",
              "101  0.531209         Neutro  \n",
              "102  0.372394         Compra  \n",
              "\n",
              "[103 rows x 5 columns]"
            ],
            "text/html": [
              "\n",
              "  <div id=\"df-d1604c26-fbe5-4b9c-a476-a6b6630a8c65\" class=\"colab-df-container\">\n",
              "    <div>\n",
              "<style scoped>\n",
              "    .dataframe tbody tr th:only-of-type {\n",
              "        vertical-align: middle;\n",
              "    }\n",
              "\n",
              "    .dataframe tbody tr th {\n",
              "        vertical-align: top;\n",
              "    }\n",
              "\n",
              "    .dataframe thead th {\n",
              "        text-align: right;\n",
              "    }\n",
              "</style>\n",
              "<table border=\"1\" class=\"dataframe\">\n",
              "  <thead>\n",
              "    <tr style=\"text-align: right;\">\n",
              "      <th></th>\n",
              "      <th>X_test</th>\n",
              "      <th>y_test</th>\n",
              "      <th>Compra</th>\n",
              "      <th>Neutro</th>\n",
              "      <th>Ensemble Label</th>\n",
              "    </tr>\n",
              "  </thead>\n",
              "  <tbody>\n",
              "    <tr>\n",
              "      <th>0</th>\n",
              "      <td>Milei Seeks Second Chance From Congress With S...</td>\n",
              "      <td>Neutro</td>\n",
              "      <td>0.584261</td>\n",
              "      <td>0.415739</td>\n",
              "      <td>Compra</td>\n",
              "    </tr>\n",
              "    <tr>\n",
              "      <th>1</th>\n",
              "      <td>Javier Milei Races to Ease Argentina Inflation...</td>\n",
              "      <td>Compra</td>\n",
              "      <td>0.575073</td>\n",
              "      <td>0.424927</td>\n",
              "      <td>Compra</td>\n",
              "    </tr>\n",
              "    <tr>\n",
              "      <th>2</th>\n",
              "      <td>Argentina builds case for exporting natgas to ...</td>\n",
              "      <td>Neutro</td>\n",
              "      <td>0.490940</td>\n",
              "      <td>0.509060</td>\n",
              "      <td>Neutro</td>\n",
              "    </tr>\n",
              "    <tr>\n",
              "      <th>3</th>\n",
              "      <td>YPF Sociedad Anonima (YPF) Gains As Market Dip...</td>\n",
              "      <td>Compra</td>\n",
              "      <td>0.853644</td>\n",
              "      <td>0.146356</td>\n",
              "      <td>Compra</td>\n",
              "    </tr>\n",
              "    <tr>\n",
              "      <th>4</th>\n",
              "      <td>Milei takes a chainsaw to Argentina’s state co...</td>\n",
              "      <td>Compra</td>\n",
              "      <td>0.604900</td>\n",
              "      <td>0.395100</td>\n",
              "      <td>Compra</td>\n",
              "    </tr>\n",
              "    <tr>\n",
              "      <th>...</th>\n",
              "      <td>...</td>\n",
              "      <td>...</td>\n",
              "      <td>...</td>\n",
              "      <td>...</td>\n",
              "      <td>...</td>\n",
              "    </tr>\n",
              "    <tr>\n",
              "      <th>98</th>\n",
              "      <td>Transcript: Argentina is in its Milei era.</td>\n",
              "      <td>Neutro</td>\n",
              "      <td>0.630468</td>\n",
              "      <td>0.369532</td>\n",
              "      <td>Compra</td>\n",
              "    </tr>\n",
              "    <tr>\n",
              "      <th>99</th>\n",
              "      <td>Argentina will not face $16.1 billion YPF judg...</td>\n",
              "      <td>Neutro</td>\n",
              "      <td>0.310424</td>\n",
              "      <td>0.689576</td>\n",
              "      <td>Neutro</td>\n",
              "    </tr>\n",
              "    <tr>\n",
              "      <th>100</th>\n",
              "      <td>Argentina's black market peso slides with eyes...</td>\n",
              "      <td>Neutro</td>\n",
              "      <td>0.596951</td>\n",
              "      <td>0.403049</td>\n",
              "      <td>Compra</td>\n",
              "    </tr>\n",
              "    <tr>\n",
              "      <th>101</th>\n",
              "      <td>Zacks Investment Ideas feature highlights: YPF...</td>\n",
              "      <td>Neutro</td>\n",
              "      <td>0.468791</td>\n",
              "      <td>0.531209</td>\n",
              "      <td>Neutro</td>\n",
              "    </tr>\n",
              "    <tr>\n",
              "      <th>102</th>\n",
              "      <td>Argentine Stocks Soar, Bonds Climb as Investor...</td>\n",
              "      <td>Compra</td>\n",
              "      <td>0.627606</td>\n",
              "      <td>0.372394</td>\n",
              "      <td>Compra</td>\n",
              "    </tr>\n",
              "  </tbody>\n",
              "</table>\n",
              "<p>103 rows × 5 columns</p>\n",
              "</div>\n",
              "    <div class=\"colab-df-buttons\">\n",
              "\n",
              "  <div class=\"colab-df-container\">\n",
              "    <button class=\"colab-df-convert\" onclick=\"convertToInteractive('df-d1604c26-fbe5-4b9c-a476-a6b6630a8c65')\"\n",
              "            title=\"Convert this dataframe to an interactive table.\"\n",
              "            style=\"display:none;\">\n",
              "\n",
              "  <svg xmlns=\"http://www.w3.org/2000/svg\" height=\"24px\" viewBox=\"0 -960 960 960\">\n",
              "    <path d=\"M120-120v-720h720v720H120Zm60-500h600v-160H180v160Zm220 220h160v-160H400v160Zm0 220h160v-160H400v160ZM180-400h160v-160H180v160Zm440 0h160v-160H620v160ZM180-180h160v-160H180v160Zm440 0h160v-160H620v160Z\"/>\n",
              "  </svg>\n",
              "    </button>\n",
              "\n",
              "  <style>\n",
              "    .colab-df-container {\n",
              "      display:flex;\n",
              "      gap: 12px;\n",
              "    }\n",
              "\n",
              "    .colab-df-convert {\n",
              "      background-color: #E8F0FE;\n",
              "      border: none;\n",
              "      border-radius: 50%;\n",
              "      cursor: pointer;\n",
              "      display: none;\n",
              "      fill: #1967D2;\n",
              "      height: 32px;\n",
              "      padding: 0 0 0 0;\n",
              "      width: 32px;\n",
              "    }\n",
              "\n",
              "    .colab-df-convert:hover {\n",
              "      background-color: #E2EBFA;\n",
              "      box-shadow: 0px 1px 2px rgba(60, 64, 67, 0.3), 0px 1px 3px 1px rgba(60, 64, 67, 0.15);\n",
              "      fill: #174EA6;\n",
              "    }\n",
              "\n",
              "    .colab-df-buttons div {\n",
              "      margin-bottom: 4px;\n",
              "    }\n",
              "\n",
              "    [theme=dark] .colab-df-convert {\n",
              "      background-color: #3B4455;\n",
              "      fill: #D2E3FC;\n",
              "    }\n",
              "\n",
              "    [theme=dark] .colab-df-convert:hover {\n",
              "      background-color: #434B5C;\n",
              "      box-shadow: 0px 1px 3px 1px rgba(0, 0, 0, 0.15);\n",
              "      filter: drop-shadow(0px 1px 2px rgba(0, 0, 0, 0.3));\n",
              "      fill: #FFFFFF;\n",
              "    }\n",
              "  </style>\n",
              "\n",
              "    <script>\n",
              "      const buttonEl =\n",
              "        document.querySelector('#df-d1604c26-fbe5-4b9c-a476-a6b6630a8c65 button.colab-df-convert');\n",
              "      buttonEl.style.display =\n",
              "        google.colab.kernel.accessAllowed ? 'block' : 'none';\n",
              "\n",
              "      async function convertToInteractive(key) {\n",
              "        const element = document.querySelector('#df-d1604c26-fbe5-4b9c-a476-a6b6630a8c65');\n",
              "        const dataTable =\n",
              "          await google.colab.kernel.invokeFunction('convertToInteractive',\n",
              "                                                    [key], {});\n",
              "        if (!dataTable) return;\n",
              "\n",
              "        const docLinkHtml = 'Like what you see? Visit the ' +\n",
              "          '<a target=\"_blank\" href=https://colab.research.google.com/notebooks/data_table.ipynb>data table notebook</a>'\n",
              "          + ' to learn more about interactive tables.';\n",
              "        element.innerHTML = '';\n",
              "        dataTable['output_type'] = 'display_data';\n",
              "        await google.colab.output.renderOutput(dataTable, element);\n",
              "        const docLink = document.createElement('div');\n",
              "        docLink.innerHTML = docLinkHtml;\n",
              "        element.appendChild(docLink);\n",
              "      }\n",
              "    </script>\n",
              "  </div>\n",
              "\n",
              "\n",
              "<div id=\"df-52bafeab-619a-4017-8ac4-de7eec5ac156\">\n",
              "  <button class=\"colab-df-quickchart\" onclick=\"quickchart('df-52bafeab-619a-4017-8ac4-de7eec5ac156')\"\n",
              "            title=\"Suggest charts\"\n",
              "            style=\"display:none;\">\n",
              "\n",
              "<svg xmlns=\"http://www.w3.org/2000/svg\" height=\"24px\"viewBox=\"0 0 24 24\"\n",
              "     width=\"24px\">\n",
              "    <g>\n",
              "        <path d=\"M19 3H5c-1.1 0-2 .9-2 2v14c0 1.1.9 2 2 2h14c1.1 0 2-.9 2-2V5c0-1.1-.9-2-2-2zM9 17H7v-7h2v7zm4 0h-2V7h2v10zm4 0h-2v-4h2v4z\"/>\n",
              "    </g>\n",
              "</svg>\n",
              "  </button>\n",
              "\n",
              "<style>\n",
              "  .colab-df-quickchart {\n",
              "      --bg-color: #E8F0FE;\n",
              "      --fill-color: #1967D2;\n",
              "      --hover-bg-color: #E2EBFA;\n",
              "      --hover-fill-color: #174EA6;\n",
              "      --disabled-fill-color: #AAA;\n",
              "      --disabled-bg-color: #DDD;\n",
              "  }\n",
              "\n",
              "  [theme=dark] .colab-df-quickchart {\n",
              "      --bg-color: #3B4455;\n",
              "      --fill-color: #D2E3FC;\n",
              "      --hover-bg-color: #434B5C;\n",
              "      --hover-fill-color: #FFFFFF;\n",
              "      --disabled-bg-color: #3B4455;\n",
              "      --disabled-fill-color: #666;\n",
              "  }\n",
              "\n",
              "  .colab-df-quickchart {\n",
              "    background-color: var(--bg-color);\n",
              "    border: none;\n",
              "    border-radius: 50%;\n",
              "    cursor: pointer;\n",
              "    display: none;\n",
              "    fill: var(--fill-color);\n",
              "    height: 32px;\n",
              "    padding: 0;\n",
              "    width: 32px;\n",
              "  }\n",
              "\n",
              "  .colab-df-quickchart:hover {\n",
              "    background-color: var(--hover-bg-color);\n",
              "    box-shadow: 0 1px 2px rgba(60, 64, 67, 0.3), 0 1px 3px 1px rgba(60, 64, 67, 0.15);\n",
              "    fill: var(--button-hover-fill-color);\n",
              "  }\n",
              "\n",
              "  .colab-df-quickchart-complete:disabled,\n",
              "  .colab-df-quickchart-complete:disabled:hover {\n",
              "    background-color: var(--disabled-bg-color);\n",
              "    fill: var(--disabled-fill-color);\n",
              "    box-shadow: none;\n",
              "  }\n",
              "\n",
              "  .colab-df-spinner {\n",
              "    border: 2px solid var(--fill-color);\n",
              "    border-color: transparent;\n",
              "    border-bottom-color: var(--fill-color);\n",
              "    animation:\n",
              "      spin 1s steps(1) infinite;\n",
              "  }\n",
              "\n",
              "  @keyframes spin {\n",
              "    0% {\n",
              "      border-color: transparent;\n",
              "      border-bottom-color: var(--fill-color);\n",
              "      border-left-color: var(--fill-color);\n",
              "    }\n",
              "    20% {\n",
              "      border-color: transparent;\n",
              "      border-left-color: var(--fill-color);\n",
              "      border-top-color: var(--fill-color);\n",
              "    }\n",
              "    30% {\n",
              "      border-color: transparent;\n",
              "      border-left-color: var(--fill-color);\n",
              "      border-top-color: var(--fill-color);\n",
              "      border-right-color: var(--fill-color);\n",
              "    }\n",
              "    40% {\n",
              "      border-color: transparent;\n",
              "      border-right-color: var(--fill-color);\n",
              "      border-top-color: var(--fill-color);\n",
              "    }\n",
              "    60% {\n",
              "      border-color: transparent;\n",
              "      border-right-color: var(--fill-color);\n",
              "    }\n",
              "    80% {\n",
              "      border-color: transparent;\n",
              "      border-right-color: var(--fill-color);\n",
              "      border-bottom-color: var(--fill-color);\n",
              "    }\n",
              "    90% {\n",
              "      border-color: transparent;\n",
              "      border-bottom-color: var(--fill-color);\n",
              "    }\n",
              "  }\n",
              "</style>\n",
              "\n",
              "  <script>\n",
              "    async function quickchart(key) {\n",
              "      const quickchartButtonEl =\n",
              "        document.querySelector('#' + key + ' button');\n",
              "      quickchartButtonEl.disabled = true;  // To prevent multiple clicks.\n",
              "      quickchartButtonEl.classList.add('colab-df-spinner');\n",
              "      try {\n",
              "        const charts = await google.colab.kernel.invokeFunction(\n",
              "            'suggestCharts', [key], {});\n",
              "      } catch (error) {\n",
              "        console.error('Error during call to suggestCharts:', error);\n",
              "      }\n",
              "      quickchartButtonEl.classList.remove('colab-df-spinner');\n",
              "      quickchartButtonEl.classList.add('colab-df-quickchart-complete');\n",
              "    }\n",
              "    (() => {\n",
              "      let quickchartButtonEl =\n",
              "        document.querySelector('#df-52bafeab-619a-4017-8ac4-de7eec5ac156 button');\n",
              "      quickchartButtonEl.style.display =\n",
              "        google.colab.kernel.accessAllowed ? 'block' : 'none';\n",
              "    })();\n",
              "  </script>\n",
              "</div>\n",
              "\n",
              "  <div id=\"id_d1d7adc2-1ec4-475c-9fac-3d80f1084e84\">\n",
              "    <style>\n",
              "      .colab-df-generate {\n",
              "        background-color: #E8F0FE;\n",
              "        border: none;\n",
              "        border-radius: 50%;\n",
              "        cursor: pointer;\n",
              "        display: none;\n",
              "        fill: #1967D2;\n",
              "        height: 32px;\n",
              "        padding: 0 0 0 0;\n",
              "        width: 32px;\n",
              "      }\n",
              "\n",
              "      .colab-df-generate:hover {\n",
              "        background-color: #E2EBFA;\n",
              "        box-shadow: 0px 1px 2px rgba(60, 64, 67, 0.3), 0px 1px 3px 1px rgba(60, 64, 67, 0.15);\n",
              "        fill: #174EA6;\n",
              "      }\n",
              "\n",
              "      [theme=dark] .colab-df-generate {\n",
              "        background-color: #3B4455;\n",
              "        fill: #D2E3FC;\n",
              "      }\n",
              "\n",
              "      [theme=dark] .colab-df-generate:hover {\n",
              "        background-color: #434B5C;\n",
              "        box-shadow: 0px 1px 3px 1px rgba(0, 0, 0, 0.15);\n",
              "        filter: drop-shadow(0px 1px 2px rgba(0, 0, 0, 0.3));\n",
              "        fill: #FFFFFF;\n",
              "      }\n",
              "    </style>\n",
              "    <button class=\"colab-df-generate\" onclick=\"generateWithVariable('prob_ensemble')\"\n",
              "            title=\"Generate code using this dataframe.\"\n",
              "            style=\"display:none;\">\n",
              "\n",
              "  <svg xmlns=\"http://www.w3.org/2000/svg\" height=\"24px\"viewBox=\"0 0 24 24\"\n",
              "       width=\"24px\">\n",
              "    <path d=\"M7,19H8.4L18.45,9,17,7.55,7,17.6ZM5,21V16.75L18.45,3.32a2,2,0,0,1,2.83,0l1.4,1.43a1.91,1.91,0,0,1,.58,1.4,1.91,1.91,0,0,1-.58,1.4L9.25,21ZM18.45,9,17,7.55Zm-12,3A5.31,5.31,0,0,0,4.9,8.1,5.31,5.31,0,0,0,1,6.5,5.31,5.31,0,0,0,4.9,4.9,5.31,5.31,0,0,0,6.5,1,5.31,5.31,0,0,0,8.1,4.9,5.31,5.31,0,0,0,12,6.5,5.46,5.46,0,0,0,6.5,12Z\"/>\n",
              "  </svg>\n",
              "    </button>\n",
              "    <script>\n",
              "      (() => {\n",
              "      const buttonEl =\n",
              "        document.querySelector('#id_d1d7adc2-1ec4-475c-9fac-3d80f1084e84 button.colab-df-generate');\n",
              "      buttonEl.style.display =\n",
              "        google.colab.kernel.accessAllowed ? 'block' : 'none';\n",
              "\n",
              "      buttonEl.onclick = () => {\n",
              "        google.colab.notebook.generateWithVariable('prob_ensemble');\n",
              "      }\n",
              "      })();\n",
              "    </script>\n",
              "  </div>\n",
              "\n",
              "    </div>\n",
              "  </div>\n"
            ],
            "application/vnd.google.colaboratory.intrinsic+json": {
              "type": "dataframe",
              "variable_name": "prob_ensemble",
              "summary": "{\n  \"name\": \"prob_ensemble\",\n  \"rows\": 103,\n  \"fields\": [\n    {\n      \"column\": \"X_test\",\n      \"properties\": {\n        \"dtype\": \"string\",\n        \"num_unique_values\": 103,\n        \"samples\": [\n          \"Best Value Stocks to Buy for January 31st YPF, AMWD and SCS made it to the Zacks Rank #1 (Strong Buy) value stocks list on January 31, 2024.. \",\n          \"T. Rowe Ditches Risky Sovereign Debt to Snap Up Corporate Bonds. T. Rowe Price is embracing corporate debt from the Philippines to Brazil and Mexico as the new year kicks off, while ditching the risky frontier-market bonds that outperformed in 2023.\",\n          \"Argentina Requests Relief From Burford\\u2019s Intent to Seize Assets. Argentina has asked a Manhattan court to stop Burford Capital from immediately trying to seize its foreign assets as the hedge fund seeks to collect on billions of dollars that a judge ruled it is owed by the South American country.\"\n        ],\n        \"semantic_type\": \"\",\n        \"description\": \"\"\n      }\n    },\n    {\n      \"column\": \"y_test\",\n      \"properties\": {\n        \"dtype\": \"category\",\n        \"num_unique_values\": 2,\n        \"samples\": [\n          \"Compra\",\n          \"Neutro\"\n        ],\n        \"semantic_type\": \"\",\n        \"description\": \"\"\n      }\n    },\n    {\n      \"column\": \"Compra\",\n      \"properties\": {\n        \"dtype\": \"number\",\n        \"std\": 0.20618592516609308,\n        \"min\": 0.05407714250187764,\n        \"max\": 0.8784910513603222,\n        \"num_unique_values\": 103,\n        \"samples\": [\n          0.8419065648536418,\n          0.32241214109048955\n        ],\n        \"semantic_type\": \"\",\n        \"description\": \"\"\n      }\n    },\n    {\n      \"column\": \"Neutro\",\n      \"properties\": {\n        \"dtype\": \"number\",\n        \"std\": 0.20618592480359316,\n        \"min\": 0.12150894784140122,\n        \"max\": 0.9459228553693847,\n        \"num_unique_values\": 103,\n        \"samples\": [\n          0.15809343727509553,\n          0.6775878589095106\n        ],\n        \"semantic_type\": \"\",\n        \"description\": \"\"\n      }\n    },\n    {\n      \"column\": \"Ensemble Label\",\n      \"properties\": {\n        \"dtype\": \"category\",\n        \"num_unique_values\": 2,\n        \"samples\": [\n          \"Neutro\",\n          \"Compra\"\n        ],\n        \"semantic_type\": \"\",\n        \"description\": \"\"\n      }\n    }\n  ]\n}"
            }
          },
          "metadata": {},
          "execution_count": 99
        }
      ],
      "source": [
        "prob_ensemble"
      ]
    },
    {
      "cell_type": "markdown",
      "metadata": {
        "id": "vYsSWmNnCeTO"
      },
      "source": [
        "## Métricas"
      ]
    },
    {
      "cell_type": "markdown",
      "metadata": {
        "id": "IezNk2LlCeTO"
      },
      "source": [
        "### AUC/ROC"
      ]
    },
    {
      "cell_type": "code",
      "execution_count": null,
      "metadata": {
        "id": "unLEr_5NCeTO"
      },
      "outputs": [],
      "source": [
        "probas = [\n",
        "    y_pred_lr_proba,\n",
        "    y_pred_lr_sw_proba,\n",
        "    y_pred_nb_proba,\n",
        "    y_pred_nb_sw_proba,\n",
        "    y_pred_svc_proba,\n",
        "    y_pred_svc_sw_proba,\n",
        "    y_pred_rf_proba,\n",
        "    y_pred_rf_sw_proba,\n",
        "    y_pred_xgb_proba,\n",
        "    y_pred_xgb_sw_proba,\n",
        "    y_pred_lgbm_proba,\n",
        "    y_pred_lgbm_sw_proba,\n",
        "    y_pred_w2v_lgbm_proba,\n",
        "    y_pred_bert_proba,\n",
        "    np.array(y_pred_ensemble_proba)\n",
        "]\n",
        "\n",
        "model_names = [\"RegLog\",\n",
        "               \"RegLog*\",\n",
        "               \"NaiveB\",\n",
        "               \"NaiveB*\",\n",
        "               \"SVC\",\n",
        "               \"SVC*\",\n",
        "               \"RandF\",\n",
        "               \"RandF*\",\n",
        "               \"XGB\",\n",
        "               \"XGB*\",\n",
        "               \"LGBM\",\n",
        "               \"LGBM*\",\n",
        "               \"W2V_Lgbm\",\n",
        "               \"Bert\",\n",
        "               \"Ensemble\",\n",
        "               ]"
      ]
    },
    {
      "cell_type": "code",
      "execution_count": null,
      "metadata": {
        "id": "6KJIV5CSCeTP"
      },
      "outputs": [],
      "source": [
        "class_labels = ['Compra', 'Neutro']\n",
        "\n",
        "label_encoder = LabelEncoder()\n",
        "y_true_encoded = label_encoder.fit_transform(y_test)"
      ]
    },
    {
      "cell_type": "code",
      "execution_count": null,
      "metadata": {
        "id": "R5C7aHdbCeTP",
        "outputId": "5314263e-f37f-4426-a24c-7ffbaffa4aad",
        "colab": {
          "base_uri": "https://localhost:8080/",
          "height": 564
        }
      },
      "outputs": [
        {
          "output_type": "display_data",
          "data": {
            "text/plain": [
              "<Figure size 800x600 with 1 Axes>"
            ],
            "image/png": "[encoded data removed]"
          },
          "metadata": {}
        }
      ],
      "source": [
        "plt.figure(figsize=(8, 6))\n",
        "\n",
        "for i, y_pred_probabilities in enumerate(probas):\n",
        "    fpr = dict()\n",
        "    tpr = dict()\n",
        "    roc_auc = dict()\n",
        "\n",
        "    n_classes = len(class_labels)\n",
        "    for j in range(n_classes):\n",
        "        y_true_class = (y_true_encoded == j).astype(int)\n",
        "        fpr[j], tpr[j], _ = roc_curve(y_true_class, y_pred_probabilities[:, j])\n",
        "        roc_auc[j] = auc(fpr[j], tpr[j])\n",
        "\n",
        "    all_fpr = np.unique(np.concatenate([fpr[j] for j in range(n_classes)]))\n",
        "    mean_tpr = np.zeros_like(all_fpr)\n",
        "\n",
        "    for j in range(n_classes):\n",
        "        mean_tpr += np.interp(all_fpr, fpr[j], tpr[j])\n",
        "\n",
        "    mean_tpr /= n_classes\n",
        "    roc_auc_micro = auc(all_fpr, mean_tpr)\n",
        "\n",
        "    if i == len(probas) - 1:\n",
        "        plt.plot(all_fpr, mean_tpr, lw=2, label=f'{model_names[i]} (AUC = {roc_auc_micro:.2f})', color='purple')\n",
        "    else:\n",
        "        plt.plot(all_fpr, mean_tpr, lw=1, label=f'{model_names[i]} (AUC = {roc_auc_micro:.2f})', color='lightgray')\n",
        "\n",
        "\n",
        "plt.plot([0, 1], [0, 1], color='gray', linestyle='--')\n",
        "plt.xlim([0.0, 1.0])\n",
        "plt.ylim([0.0, 1.05])\n",
        "plt.xlabel('False Positive Rate')\n",
        "plt.ylabel('True Positive Rate')\n",
        "plt.title('Micro-Average ROC')\n",
        "plt.legend(loc='lower right')\n",
        "plt.grid(True)\n",
        "plt.show()\n"
      ]
    },
    {
      "cell_type": "markdown",
      "metadata": {
        "id": "wbkONuM1CeTT"
      },
      "source": [
        "### Evaluación"
      ]
    },
    {
      "cell_type": "code",
      "execution_count": null,
      "metadata": {
        "id": "2rhqNu5eCeTT",
        "outputId": "4a6f80e2-b064-4a9f-fed4-a4a0706f1ad7",
        "colab": {
          "base_uri": "https://localhost:8080/"
        }
      },
      "outputs": [
        {
          "output_type": "stream",
          "name": "stdout",
          "text": [
            "Accuracy: 48.54%\n",
            "\n",
            "F1 Score: 48.40\n",
            "\n",
            "Confusion Matrix:\n",
            " [[22 29]\n",
            " [24 28]]\n"
          ]
        }
      ],
      "source": [
        "print(\"Accuracy: {:.2f}%\".format(accuracy_score(y_test, prob_ensemble[\"Ensemble Label\"].to_list()) * 100))\n",
        "print(\"\\nF1 Score: {:.2f}\".format(f1_score(y_test, prob_ensemble[\"Ensemble Label\"].to_list(), average='weighted') * 100))\n",
        "print(\"\\nConfusion Matrix:\\n\", confusion_matrix(y_test, prob_ensemble[\"Ensemble Label\"].to_list()))"
      ]
    },
    {
      "cell_type": "code",
      "execution_count": null,
      "metadata": {
        "id": "Gu8uGB4GCeTU"
      },
      "outputs": [],
      "source": [
        "prob_ensemble.to_excel('ypf_predicciones_ensemble_power.xlsx', index=False)"
      ]
    }
  ],
  "metadata": {
    "kernelspec": {
      "display_name": "Python 3",
      "name": "python3"
    },
    "language_info": {
      "codemirror_mode": {
        "name": "ipython",
        "version": 3
      },
      "file_extension": ".py",
      "mimetype": "text/x-python",
      "name": "python",
      "nbconvert_exporter": "python",
      "pygments_lexer": "ipython3",
      "version": "3.12.0"
    },
    "orig_nbformat": 4,
    "colab": {
      "provenance": [],
      "gpuType": "T4"
    },
    "widgets": {
      "application/vnd.jupyter.widget-state+json": {
        "4b115f746e11444ca9374eb7745d8745": {
          "model_module": "@jupyter-widgets/controls",
          "model_name": "HBoxModel",
          "model_module_version": "1.5.0",
          "state": {
            "_dom_classes": [],
            "_model_module": "@jupyter-widgets/controls",
            "_model_module_version": "1.5.0",
            "_model_name": "HBoxModel",
            "_view_count": null,
            "_view_module": "@jupyter-widgets/controls",
            "_view_module_version": "1.5.0",
            "_view_name": "HBoxView",
            "box_style": "",
            "children": [
              "IPY_MODEL_21bc8dd80bd94c8b8c698633413c9b05",
              "IPY_MODEL_647a903349be4d859b70e271b7fc6550",
              "IPY_MODEL_d4cf2b048b0c4214b6109e8969de52a4"
            ],
            "layout": "IPY_MODEL_4f354d1fcf874f1c8c3b4b7532c6ceb2"
          }
        },
        "21bc8dd80bd94c8b8c698633413c9b05": {
          "model_module": "@jupyter-widgets/controls",
          "model_name": "HTMLModel",
          "model_module_version": "1.5.0",
          "state": {
            "_dom_classes": [],
            "_model_module": "@jupyter-widgets/controls",
            "_model_module_version": "1.5.0",
            "_model_name": "HTMLModel",
            "_view_count": null,
            "_view_module": "@jupyter-widgets/controls",
            "_view_module_version": "1.5.0",
            "_view_name": "HTMLView",
            "description": "",
            "description_tooltip": null,
            "layout": "IPY_MODEL_cceffaa392b5460aab044aca7660276b",
            "placeholder": "​",
            "style": "IPY_MODEL_dd79e9187a0840628384e09729739de7",
            "value": "tokenizer_config.json: 100%"
          }
        },
        "647a903349be4d859b70e271b7fc6550": {
          "model_module": "@jupyter-widgets/controls",
          "model_name": "FloatProgressModel",
          "model_module_version": "1.5.0",
          "state": {
            "_dom_classes": [],
            "_model_module": "@jupyter-widgets/controls",
            "_model_module_version": "1.5.0",
            "_model_name": "FloatProgressModel",
            "_view_count": null,
            "_view_module": "@jupyter-widgets/controls",
            "_view_module_version": "1.5.0",
            "_view_name": "ProgressView",
            "bar_style": "success",
            "description": "",
            "description_tooltip": null,
            "layout": "IPY_MODEL_37af3f72a32b4e5ba35c28dc4a262638",
            "max": 48,
            "min": 0,
            "orientation": "horizontal",
            "style": "IPY_MODEL_76eec307578843e8853219b93fa782cf",
            "value": 48
          }
        },
        "d4cf2b048b0c4214b6109e8969de52a4": {
          "model_module": "@jupyter-widgets/controls",
          "model_name": "HTMLModel",
          "model_module_version": "1.5.0",
          "state": {
            "_dom_classes": [],
            "_model_module": "@jupyter-widgets/controls",
            "_model_module_version": "1.5.0",
            "_model_name": "HTMLModel",
            "_view_count": null,
            "_view_module": "@jupyter-widgets/controls",
            "_view_module_version": "1.5.0",
            "_view_name": "HTMLView",
            "description": "",
            "description_tooltip": null,
            "layout": "IPY_MODEL_18b6a592e3bd4020b7786dab55198f86",
            "placeholder": "​",
            "style": "IPY_MODEL_c18ca3049aa44f72927b51a2b6570e1b",
            "value": " 48.0/48.0 [00:00&lt;00:00, 3.14kB/s]"
          }
        },
        "4f354d1fcf874f1c8c3b4b7532c6ceb2": {
          "model_module": "@jupyter-widgets/base",
          "model_name": "LayoutModel",
          "model_module_version": "1.2.0",
          "state": {
            "_model_module": "@jupyter-widgets/base",
            "_model_module_version": "1.2.0",
            "_model_name": "LayoutModel",
            "_view_count": null,
            "_view_module": "@jupyter-widgets/base",
            "_view_module_version": "1.2.0",
            "_view_name": "LayoutView",
            "align_content": null,
            "align_items": null,
            "align_self": null,
            "border": null,
            "bottom": null,
            "display": null,
            "flex": null,
            "flex_flow": null,
            "grid_area": null,
            "grid_auto_columns": null,
            "grid_auto_flow": null,
            "grid_auto_rows": null,
            "grid_column": null,
            "grid_gap": null,
            "grid_row": null,
            "grid_template_areas": null,
            "grid_template_columns": null,
            "grid_template_rows": null,
            "height": null,
            "justify_content": null,
            "justify_items": null,
            "left": null,
            "margin": null,
            "max_height": null,
            "max_width": null,
            "min_height": null,
            "min_width": null,
            "object_fit": null,
            "object_position": null,
            "order": null,
            "overflow": null,
            "overflow_x": null,
            "overflow_y": null,
            "padding": null,
            "right": null,
            "top": null,
            "visibility": null,
            "width": null
          }
        },
        "cceffaa392b5460aab044aca7660276b": {
          "model_module": "@jupyter-widgets/base",
          "model_name": "LayoutModel",
          "model_module_version": "1.2.0",
          "state": {
            "_model_module": "@jupyter-widgets/base",
            "_model_module_version": "1.2.0",
            "_model_name": "LayoutModel",
            "_view_count": null,
            "_view_module": "@jupyter-widgets/base",
            "_view_module_version": "1.2.0",
            "_view_name": "LayoutView",
            "align_content": null,
            "align_items": null,
            "align_self": null,
            "border": null,
            "bottom": null,
            "display": null,
            "flex": null,
            "flex_flow": null,
            "grid_area": null,
            "grid_auto_columns": null,
            "grid_auto_flow": null,
            "grid_auto_rows": null,
            "grid_column": null,
            "grid_gap": null,
            "grid_row": null,
            "grid_template_areas": null,
            "grid_template_columns": null,
            "grid_template_rows": null,
            "height": null,
            "justify_content": null,
            "justify_items": null,
            "left": null,
            "margin": null,
            "max_height": null,
            "max_width": null,
            "min_height": null,
            "min_width": null,
            "object_fit": null,
            "object_position": null,
            "order": null,
            "overflow": null,
            "overflow_x": null,
            "overflow_y": null,
            "padding": null,
            "right": null,
            "top": null,
            "visibility": null,
            "width": null
          }
        },
        "dd79e9187a0840628384e09729739de7": {
          "model_module": "@jupyter-widgets/controls",
          "model_name": "DescriptionStyleModel",
          "model_module_version": "1.5.0",
          "state": {
            "_model_module": "@jupyter-widgets/controls",
            "_model_module_version": "1.5.0",
            "_model_name": "DescriptionStyleModel",
            "_view_count": null,
            "_view_module": "@jupyter-widgets/base",
            "_view_module_version": "1.2.0",
            "_view_name": "StyleView",
            "description_width": ""
          }
        },
        "37af3f72a32b4e5ba35c28dc4a262638": {
          "model_module": "@jupyter-widgets/base",
          "model_name": "LayoutModel",
          "model_module_version": "1.2.0",
          "state": {
            "_model_module": "@jupyter-widgets/base",
            "_model_module_version": "1.2.0",
            "_model_name": "LayoutModel",
            "_view_count": null,
            "_view_module": "@jupyter-widgets/base",
            "_view_module_version": "1.2.0",
            "_view_name": "LayoutView",
            "align_content": null,
            "align_items": null,
            "align_self": null,
            "border": null,
            "bottom": null,
            "display": null,
            "flex": null,
            "flex_flow": null,
            "grid_area": null,
            "grid_auto_columns": null,
            "grid_auto_flow": null,
            "grid_auto_rows": null,
            "grid_column": null,
            "grid_gap": null,
            "grid_row": null,
            "grid_template_areas": null,
            "grid_template_columns": null,
            "grid_template_rows": null,
            "height": null,
            "justify_content": null,
            "justify_items": null,
            "left": null,
            "margin": null,
            "max_height": null,
            "max_width": null,
            "min_height": null,
            "min_width": null,
            "object_fit": null,
            "object_position": null,
            "order": null,
            "overflow": null,
            "overflow_x": null,
            "overflow_y": null,
            "padding": null,
            "right": null,
            "top": null,
            "visibility": null,
            "width": null
          }
        },
        "76eec307578843e8853219b93fa782cf": {
          "model_module": "@jupyter-widgets/controls",
          "model_name": "ProgressStyleModel",
          "model_module_version": "1.5.0",
          "state": {
            "_model_module": "@jupyter-widgets/controls",
            "_model_module_version": "1.5.0",
            "_model_name": "ProgressStyleModel",
            "_view_count": null,
            "_view_module": "@jupyter-widgets/base",
            "_view_module_version": "1.2.0",
            "_view_name": "StyleView",
            "bar_color": null,
            "description_width": ""
          }
        },
        "18b6a592e3bd4020b7786dab55198f86": {
          "model_module": "@jupyter-widgets/base",
          "model_name": "LayoutModel",
          "model_module_version": "1.2.0",
          "state": {
            "_model_module": "@jupyter-widgets/base",
            "_model_module_version": "1.2.0",
            "_model_name": "LayoutModel",
            "_view_count": null,
            "_view_module": "@jupyter-widgets/base",
            "_view_module_version": "1.2.0",
            "_view_name": "LayoutView",
            "align_content": null,
            "align_items": null,
            "align_self": null,
            "border": null,
            "bottom": null,
            "display": null,
            "flex": null,
            "flex_flow": null,
            "grid_area": null,
            "grid_auto_columns": null,
            "grid_auto_flow": null,
            "grid_auto_rows": null,
            "grid_column": null,
            "grid_gap": null,
            "grid_row": null,
            "grid_template_areas": null,
            "grid_template_columns": null,
            "grid_template_rows": null,
            "height": null,
            "justify_content": null,
            "justify_items": null,
            "left": null,
            "margin": null,
            "max_height": null,
            "max_width": null,
            "min_height": null,
            "min_width": null,
            "object_fit": null,
            "object_position": null,
            "order": null,
            "overflow": null,
            "overflow_x": null,
            "overflow_y": null,
            "padding": null,
            "right": null,
            "top": null,
            "visibility": null,
            "width": null
          }
        },
        "c18ca3049aa44f72927b51a2b6570e1b": {
          "model_module": "@jupyter-widgets/controls",
          "model_name": "DescriptionStyleModel",
          "model_module_version": "1.5.0",
          "state": {
            "_model_module": "@jupyter-widgets/controls",
            "_model_module_version": "1.5.0",
            "_model_name": "DescriptionStyleModel",
            "_view_count": null,
            "_view_module": "@jupyter-widgets/base",
            "_view_module_version": "1.2.0",
            "_view_name": "StyleView",
            "description_width": ""
          }
        },
        "ecd8f05e9d9944a093b9f05853c075d1": {
          "model_module": "@jupyter-widgets/controls",
          "model_name": "HBoxModel",
          "model_module_version": "1.5.0",
          "state": {
            "_dom_classes": [],
            "_model_module": "@jupyter-widgets/controls",
            "_model_module_version": "1.5.0",
            "_model_name": "HBoxModel",
            "_view_count": null,
            "_view_module": "@jupyter-widgets/controls",
            "_view_module_version": "1.5.0",
            "_view_name": "HBoxView",
            "box_style": "",
            "children": [
              "IPY_MODEL_176b4c40c7084f0b8c52ff7265b5c648",
              "IPY_MODEL_2e5910fd2ca04f88a3c1554ce905c2fa",
              "IPY_MODEL_6b37de508d4045f88d1b547bbf5bdfa6"
            ],
            "layout": "IPY_MODEL_6b8f867aeee543049e0efd3c46c196ea"
          }
        },
        "176b4c40c7084f0b8c52ff7265b5c648": {
          "model_module": "@jupyter-widgets/controls",
          "model_name": "HTMLModel",
          "model_module_version": "1.5.0",
          "state": {
            "_dom_classes": [],
            "_model_module": "@jupyter-widgets/controls",
            "_model_module_version": "1.5.0",
            "_model_name": "HTMLModel",
            "_view_count": null,
            "_view_module": "@jupyter-widgets/controls",
            "_view_module_version": "1.5.0",
            "_view_name": "HTMLView",
            "description": "",
            "description_tooltip": null,
            "layout": "IPY_MODEL_1ee3c46e6a1349e2839c0d8043477102",
            "placeholder": "​",
            "style": "IPY_MODEL_7038f233b30c4d69bc5b1dea509adafd",
            "value": "vocab.txt: 100%"
          }
        },
        "2e5910fd2ca04f88a3c1554ce905c2fa": {
          "model_module": "@jupyter-widgets/controls",
          "model_name": "FloatProgressModel",
          "model_module_version": "1.5.0",
          "state": {
            "_dom_classes": [],
            "_model_module": "@jupyter-widgets/controls",
            "_model_module_version": "1.5.0",
            "_model_name": "FloatProgressModel",
            "_view_count": null,
            "_view_module": "@jupyter-widgets/controls",
            "_view_module_version": "1.5.0",
            "_view_name": "ProgressView",
            "bar_style": "success",
            "description": "",
            "description_tooltip": null,
            "layout": "IPY_MODEL_3fe11a1734424043af6163a39d23321c",
            "max": 231508,
            "min": 0,
            "orientation": "horizontal",
            "style": "IPY_MODEL_e3fc1aa5a79f4e03aa3f398ed49e4fac",
            "value": 231508
          }
        },
        "6b37de508d4045f88d1b547bbf5bdfa6": {
          "model_module": "@jupyter-widgets/controls",
          "model_name": "HTMLModel",
          "model_module_version": "1.5.0",
          "state": {
            "_dom_classes": [],
            "_model_module": "@jupyter-widgets/controls",
            "_model_module_version": "1.5.0",
            "_model_name": "HTMLModel",
            "_view_count": null,
            "_view_module": "@jupyter-widgets/controls",
            "_view_module_version": "1.5.0",
            "_view_name": "HTMLView",
            "description": "",
            "description_tooltip": null,
            "layout": "IPY_MODEL_ed8d1dcd67954ced9e9429a03ac751fe",
            "placeholder": "​",
            "style": "IPY_MODEL_cce5b95baa2d4104aad4c050eae8f810",
            "value": " 232k/232k [00:00&lt;00:00, 3.06MB/s]"
          }
        },
        "6b8f867aeee543049e0efd3c46c196ea": {
          "model_module": "@jupyter-widgets/base",
          "model_name": "LayoutModel",
          "model_module_version": "1.2.0",
          "state": {
            "_model_module": "@jupyter-widgets/base",
            "_model_module_version": "1.2.0",
            "_model_name": "LayoutModel",
            "_view_count": null,
            "_view_module": "@jupyter-widgets/base",
            "_view_module_version": "1.2.0",
            "_view_name": "LayoutView",
            "align_content": null,
            "align_items": null,
            "align_self": null,
            "border": null,
            "bottom": null,
            "display": null,
            "flex": null,
            "flex_flow": null,
            "grid_area": null,
            "grid_auto_columns": null,
            "grid_auto_flow": null,
            "grid_auto_rows": null,
            "grid_column": null,
            "grid_gap": null,
            "grid_row": null,
            "grid_template_areas": null,
            "grid_template_columns": null,
            "grid_template_rows": null,
            "height": null,
            "justify_content": null,
            "justify_items": null,
            "left": null,
            "margin": null,
            "max_height": null,
            "max_width": null,
            "min_height": null,
            "min_width": null,
            "object_fit": null,
            "object_position": null,
            "order": null,
            "overflow": null,
            "overflow_x": null,
            "overflow_y": null,
            "padding": null,
            "right": null,
            "top": null,
            "visibility": null,
            "width": null
          }
        },
        "1ee3c46e6a1349e2839c0d8043477102": {
          "model_module": "@jupyter-widgets/base",
          "model_name": "LayoutModel",
          "model_module_version": "1.2.0",
          "state": {
            "_model_module": "@jupyter-widgets/base",
            "_model_module_version": "1.2.0",
            "_model_name": "LayoutModel",
            "_view_count": null,
            "_view_module": "@jupyter-widgets/base",
            "_view_module_version": "1.2.0",
            "_view_name": "LayoutView",
            "align_content": null,
            "align_items": null,
            "align_self": null,
            "border": null,
            "bottom": null,
            "display": null,
            "flex": null,
            "flex_flow": null,
            "grid_area": null,
            "grid_auto_columns": null,
            "grid_auto_flow": null,
            "grid_auto_rows": null,
            "grid_column": null,
            "grid_gap": null,
            "grid_row": null,
            "grid_template_areas": null,
            "grid_template_columns": null,
            "grid_template_rows": null,
            "height": null,
            "justify_content": null,
            "justify_items": null,
            "left": null,
            "margin": null,
            "max_height": null,
            "max_width": null,
            "min_height": null,
            "min_width": null,
            "object_fit": null,
            "object_position": null,
            "order": null,
            "overflow": null,
            "overflow_x": null,
            "overflow_y": null,
            "padding": null,
            "right": null,
            "top": null,
            "visibility": null,
            "width": null
          }
        },
        "7038f233b30c4d69bc5b1dea509adafd": {
          "model_module": "@jupyter-widgets/controls",
          "model_name": "DescriptionStyleModel",
          "model_module_version": "1.5.0",
          "state": {
            "_model_module": "@jupyter-widgets/controls",
            "_model_module_version": "1.5.0",
            "_model_name": "DescriptionStyleModel",
            "_view_count": null,
            "_view_module": "@jupyter-widgets/base",
            "_view_module_version": "1.2.0",
            "_view_name": "StyleView",
            "description_width": ""
          }
        },
        "3fe11a1734424043af6163a39d23321c": {
          "model_module": "@jupyter-widgets/base",
          "model_name": "LayoutModel",
          "model_module_version": "1.2.0",
          "state": {
            "_model_module": "@jupyter-widgets/base",
            "_model_module_version": "1.2.0",
            "_model_name": "LayoutModel",
            "_view_count": null,
            "_view_module": "@jupyter-widgets/base",
            "_view_module_version": "1.2.0",
            "_view_name": "LayoutView",
            "align_content": null,
            "align_items": null,
            "align_self": null,
            "border": null,
            "bottom": null,
            "display": null,
            "flex": null,
            "flex_flow": null,
            "grid_area": null,
            "grid_auto_columns": null,
            "grid_auto_flow": null,
            "grid_auto_rows": null,
            "grid_column": null,
            "grid_gap": null,
            "grid_row": null,
            "grid_template_areas": null,
            "grid_template_columns": null,
            "grid_template_rows": null,
            "height": null,
            "justify_content": null,
            "justify_items": null,
            "left": null,
            "margin": null,
            "max_height": null,
            "max_width": null,
            "min_height": null,
            "min_width": null,
            "object_fit": null,
            "object_position": null,
            "order": null,
            "overflow": null,
            "overflow_x": null,
            "overflow_y": null,
            "padding": null,
            "right": null,
            "top": null,
            "visibility": null,
            "width": null
          }
        },
        "e3fc1aa5a79f4e03aa3f398ed49e4fac": {
          "model_module": "@jupyter-widgets/controls",
          "model_name": "ProgressStyleModel",
          "model_module_version": "1.5.0",
          "state": {
            "_model_module": "@jupyter-widgets/controls",
            "_model_module_version": "1.5.0",
            "_model_name": "ProgressStyleModel",
            "_view_count": null,
            "_view_module": "@jupyter-widgets/base",
            "_view_module_version": "1.2.0",
            "_view_name": "StyleView",
            "bar_color": null,
            "description_width": ""
          }
        },
        "ed8d1dcd67954ced9e9429a03ac751fe": {
          "model_module": "@jupyter-widgets/base",
          "model_name": "LayoutModel",
          "model_module_version": "1.2.0",
          "state": {
            "_model_module": "@jupyter-widgets/base",
            "_model_module_version": "1.2.0",
            "_model_name": "LayoutModel",
            "_view_count": null,
            "_view_module": "@jupyter-widgets/base",
            "_view_module_version": "1.2.0",
            "_view_name": "LayoutView",
            "align_content": null,
            "align_items": null,
            "align_self": null,
            "border": null,
            "bottom": null,
            "display": null,
            "flex": null,
            "flex_flow": null,
            "grid_area": null,
            "grid_auto_columns": null,
            "grid_auto_flow": null,
            "grid_auto_rows": null,
            "grid_column": null,
            "grid_gap": null,
            "grid_row": null,
            "grid_template_areas": null,
            "grid_template_columns": null,
            "grid_template_rows": null,
            "height": null,
            "justify_content": null,
            "justify_items": null,
            "left": null,
            "margin": null,
            "max_height": null,
            "max_width": null,
            "min_height": null,
            "min_width": null,
            "object_fit": null,
            "object_position": null,
            "order": null,
            "overflow": null,
            "overflow_x": null,
            "overflow_y": null,
            "padding": null,
            "right": null,
            "top": null,
            "visibility": null,
            "width": null
          }
        },
        "cce5b95baa2d4104aad4c050eae8f810": {
          "model_module": "@jupyter-widgets/controls",
          "model_name": "DescriptionStyleModel",
          "model_module_version": "1.5.0",
          "state": {
            "_model_module": "@jupyter-widgets/controls",
            "_model_module_version": "1.5.0",
            "_model_name": "DescriptionStyleModel",
            "_view_count": null,
            "_view_module": "@jupyter-widgets/base",
            "_view_module_version": "1.2.0",
            "_view_name": "StyleView",
            "description_width": ""
          }
        },
        "142bb45f66f84fbb9ca2ed16c1c3bd1a": {
          "model_module": "@jupyter-widgets/controls",
          "model_name": "HBoxModel",
          "model_module_version": "1.5.0",
          "state": {
            "_dom_classes": [],
            "_model_module": "@jupyter-widgets/controls",
            "_model_module_version": "1.5.0",
            "_model_name": "HBoxModel",
            "_view_count": null,
            "_view_module": "@jupyter-widgets/controls",
            "_view_module_version": "1.5.0",
            "_view_name": "HBoxView",
            "box_style": "",
            "children": [
              "IPY_MODEL_babd7e8d172e4445bddedc872bc68e03",
              "IPY_MODEL_ed23246c79a544f98e745c0ad55135a4",
              "IPY_MODEL_13264f764dd4413896601daf2c603bb1"
            ],
            "layout": "IPY_MODEL_eaeb5ff1fa3840cebd07c04feb0ca509"
          }
        },
        "babd7e8d172e4445bddedc872bc68e03": {
          "model_module": "@jupyter-widgets/controls",
          "model_name": "HTMLModel",
          "model_module_version": "1.5.0",
          "state": {
            "_dom_classes": [],
            "_model_module": "@jupyter-widgets/controls",
            "_model_module_version": "1.5.0",
            "_model_name": "HTMLModel",
            "_view_count": null,
            "_view_module": "@jupyter-widgets/controls",
            "_view_module_version": "1.5.0",
            "_view_name": "HTMLView",
            "description": "",
            "description_tooltip": null,
            "layout": "IPY_MODEL_f6c9ffe328bf4c1993c25ea8d40dfa7f",
            "placeholder": "​",
            "style": "IPY_MODEL_9b3e2a47d6c847408456724b2cee4765",
            "value": "tokenizer.json: 100%"
          }
        },
        "ed23246c79a544f98e745c0ad55135a4": {
          "model_module": "@jupyter-widgets/controls",
          "model_name": "FloatProgressModel",
          "model_module_version": "1.5.0",
          "state": {
            "_dom_classes": [],
            "_model_module": "@jupyter-widgets/controls",
            "_model_module_version": "1.5.0",
            "_model_name": "FloatProgressModel",
            "_view_count": null,
            "_view_module": "@jupyter-widgets/controls",
            "_view_module_version": "1.5.0",
            "_view_name": "ProgressView",
            "bar_style": "success",
            "description": "",
            "description_tooltip": null,
            "layout": "IPY_MODEL_e6114aca202c4235b23bdb73e87a0353",
            "max": 466062,
            "min": 0,
            "orientation": "horizontal",
            "style": "IPY_MODEL_11ba8ae31f7f4e4e9acacc97f25bf57d",
            "value": 466062
          }
        },
        "13264f764dd4413896601daf2c603bb1": {
          "model_module": "@jupyter-widgets/controls",
          "model_name": "HTMLModel",
          "model_module_version": "1.5.0",
          "state": {
            "_dom_classes": [],
            "_model_module": "@jupyter-widgets/controls",
            "_model_module_version": "1.5.0",
            "_model_name": "HTMLModel",
            "_view_count": null,
            "_view_module": "@jupyter-widgets/controls",
            "_view_module_version": "1.5.0",
            "_view_name": "HTMLView",
            "description": "",
            "description_tooltip": null,
            "layout": "IPY_MODEL_15c2e6e15b734184b815df54831eba0f",
            "placeholder": "​",
            "style": "IPY_MODEL_81134c53e86540769761e00848bce516",
            "value": " 466k/466k [00:00&lt;00:00, 6.64MB/s]"
          }
        },
        "eaeb5ff1fa3840cebd07c04feb0ca509": {
          "model_module": "@jupyter-widgets/base",
          "model_name": "LayoutModel",
          "model_module_version": "1.2.0",
          "state": {
            "_model_module": "@jupyter-widgets/base",
            "_model_module_version": "1.2.0",
            "_model_name": "LayoutModel",
            "_view_count": null,
            "_view_module": "@jupyter-widgets/base",
            "_view_module_version": "1.2.0",
            "_view_name": "LayoutView",
            "align_content": null,
            "align_items": null,
            "align_self": null,
            "border": null,
            "bottom": null,
            "display": null,
            "flex": null,
            "flex_flow": null,
            "grid_area": null,
            "grid_auto_columns": null,
            "grid_auto_flow": null,
            "grid_auto_rows": null,
            "grid_column": null,
            "grid_gap": null,
            "grid_row": null,
            "grid_template_areas": null,
            "grid_template_columns": null,
            "grid_template_rows": null,
            "height": null,
            "justify_content": null,
            "justify_items": null,
            "left": null,
            "margin": null,
            "max_height": null,
            "max_width": null,
            "min_height": null,
            "min_width": null,
            "object_fit": null,
            "object_position": null,
            "order": null,
            "overflow": null,
            "overflow_x": null,
            "overflow_y": null,
            "padding": null,
            "right": null,
            "top": null,
            "visibility": null,
            "width": null
          }
        },
        "f6c9ffe328bf4c1993c25ea8d40dfa7f": {
          "model_module": "@jupyter-widgets/base",
          "model_name": "LayoutModel",
          "model_module_version": "1.2.0",
          "state": {
            "_model_module": "@jupyter-widgets/base",
            "_model_module_version": "1.2.0",
            "_model_name": "LayoutModel",
            "_view_count": null,
            "_view_module": "@jupyter-widgets/base",
            "_view_module_version": "1.2.0",
            "_view_name": "LayoutView",
            "align_content": null,
            "align_items": null,
            "align_self": null,
            "border": null,
            "bottom": null,
            "display": null,
            "flex": null,
            "flex_flow": null,
            "grid_area": null,
            "grid_auto_columns": null,
            "grid_auto_flow": null,
            "grid_auto_rows": null,
            "grid_column": null,
            "grid_gap": null,
            "grid_row": null,
            "grid_template_areas": null,
            "grid_template_columns": null,
            "grid_template_rows": null,
            "height": null,
            "justify_content": null,
            "justify_items": null,
            "left": null,
            "margin": null,
            "max_height": null,
            "max_width": null,
            "min_height": null,
            "min_width": null,
            "object_fit": null,
            "object_position": null,
            "order": null,
            "overflow": null,
            "overflow_x": null,
            "overflow_y": null,
            "padding": null,
            "right": null,
            "top": null,
            "visibility": null,
            "width": null
          }
        },
        "9b3e2a47d6c847408456724b2cee4765": {
          "model_module": "@jupyter-widgets/controls",
          "model_name": "DescriptionStyleModel",
          "model_module_version": "1.5.0",
          "state": {
            "_model_module": "@jupyter-widgets/controls",
            "_model_module_version": "1.5.0",
            "_model_name": "DescriptionStyleModel",
            "_view_count": null,
            "_view_module": "@jupyter-widgets/base",
            "_view_module_version": "1.2.0",
            "_view_name": "StyleView",
            "description_width": ""
          }
        },
        "e6114aca202c4235b23bdb73e87a0353": {
          "model_module": "@jupyter-widgets/base",
          "model_name": "LayoutModel",
          "model_module_version": "1.2.0",
          "state": {
            "_model_module": "@jupyter-widgets/base",
            "_model_module_version": "1.2.0",
            "_model_name": "LayoutModel",
            "_view_count": null,
            "_view_module": "@jupyter-widgets/base",
            "_view_module_version": "1.2.0",
            "_view_name": "LayoutView",
            "align_content": null,
            "align_items": null,
            "align_self": null,
            "border": null,
            "bottom": null,
            "display": null,
            "flex": null,
            "flex_flow": null,
            "grid_area": null,
            "grid_auto_columns": null,
            "grid_auto_flow": null,
            "grid_auto_rows": null,
            "grid_column": null,
            "grid_gap": null,
            "grid_row": null,
            "grid_template_areas": null,
            "grid_template_columns": null,
            "grid_template_rows": null,
            "height": null,
            "justify_content": null,
            "justify_items": null,
            "left": null,
            "margin": null,
            "max_height": null,
            "max_width": null,
            "min_height": null,
            "min_width": null,
            "object_fit": null,
            "object_position": null,
            "order": null,
            "overflow": null,
            "overflow_x": null,
            "overflow_y": null,
            "padding": null,
            "right": null,
            "top": null,
            "visibility": null,
            "width": null
          }
        },
        "11ba8ae31f7f4e4e9acacc97f25bf57d": {
          "model_module": "@jupyter-widgets/controls",
          "model_name": "ProgressStyleModel",
          "model_module_version": "1.5.0",
          "state": {
            "_model_module": "@jupyter-widgets/controls",
            "_model_module_version": "1.5.0",
            "_model_name": "ProgressStyleModel",
            "_view_count": null,
            "_view_module": "@jupyter-widgets/base",
            "_view_module_version": "1.2.0",
            "_view_name": "StyleView",
            "bar_color": null,
            "description_width": ""
          }
        },
        "15c2e6e15b734184b815df54831eba0f": {
          "model_module": "@jupyter-widgets/base",
          "model_name": "LayoutModel",
          "model_module_version": "1.2.0",
          "state": {
            "_model_module": "@jupyter-widgets/base",
            "_model_module_version": "1.2.0",
            "_model_name": "LayoutModel",
            "_view_count": null,
            "_view_module": "@jupyter-widgets/base",
            "_view_module_version": "1.2.0",
            "_view_name": "LayoutView",
            "align_content": null,
            "align_items": null,
            "align_self": null,
            "border": null,
            "bottom": null,
            "display": null,
            "flex": null,
            "flex_flow": null,
            "grid_area": null,
            "grid_auto_columns": null,
            "grid_auto_flow": null,
            "grid_auto_rows": null,
            "grid_column": null,
            "grid_gap": null,
            "grid_row": null,
            "grid_template_areas": null,
            "grid_template_columns": null,
            "grid_template_rows": null,
            "height": null,
            "justify_content": null,
            "justify_items": null,
            "left": null,
            "margin": null,
            "max_height": null,
            "max_width": null,
            "min_height": null,
            "min_width": null,
            "object_fit": null,
            "object_position": null,
            "order": null,
            "overflow": null,
            "overflow_x": null,
            "overflow_y": null,
            "padding": null,
            "right": null,
            "top": null,
            "visibility": null,
            "width": null
          }
        },
        "81134c53e86540769761e00848bce516": {
          "model_module": "@jupyter-widgets/controls",
          "model_name": "DescriptionStyleModel",
          "model_module_version": "1.5.0",
          "state": {
            "_model_module": "@jupyter-widgets/controls",
            "_model_module_version": "1.5.0",
            "_model_name": "DescriptionStyleModel",
            "_view_count": null,
            "_view_module": "@jupyter-widgets/base",
            "_view_module_version": "1.2.0",
            "_view_name": "StyleView",
            "description_width": ""
          }
        },
        "a3b8adb3058c4086960f9db65de38005": {
          "model_module": "@jupyter-widgets/controls",
          "model_name": "HBoxModel",
          "model_module_version": "1.5.0",
          "state": {
            "_dom_classes": [],
            "_model_module": "@jupyter-widgets/controls",
            "_model_module_version": "1.5.0",
            "_model_name": "HBoxModel",
            "_view_count": null,
            "_view_module": "@jupyter-widgets/controls",
            "_view_module_version": "1.5.0",
            "_view_name": "HBoxView",
            "box_style": "",
            "children": [
              "IPY_MODEL_8ab84772da6147108378b43517591759",
              "IPY_MODEL_82450306ffa0420cbfa0bc1fb3f2ae73",
              "IPY_MODEL_7ee5c6e2541c424ab04732b9fdc7c159"
            ],
            "layout": "IPY_MODEL_0be0e69a5886409c9eccd12e23b00e65"
          }
        },
        "8ab84772da6147108378b43517591759": {
          "model_module": "@jupyter-widgets/controls",
          "model_name": "HTMLModel",
          "model_module_version": "1.5.0",
          "state": {
            "_dom_classes": [],
            "_model_module": "@jupyter-widgets/controls",
            "_model_module_version": "1.5.0",
            "_model_name": "HTMLModel",
            "_view_count": null,
            "_view_module": "@jupyter-widgets/controls",
            "_view_module_version": "1.5.0",
            "_view_name": "HTMLView",
            "description": "",
            "description_tooltip": null,
            "layout": "IPY_MODEL_9b9a2d39fea647d193f59bd4a1422536",
            "placeholder": "​",
            "style": "IPY_MODEL_ed2c2c365b55415188e8f3ffac7432b1",
            "value": "config.json: 100%"
          }
        },
        "82450306ffa0420cbfa0bc1fb3f2ae73": {
          "model_module": "@jupyter-widgets/controls",
          "model_name": "FloatProgressModel",
          "model_module_version": "1.5.0",
          "state": {
            "_dom_classes": [],
            "_model_module": "@jupyter-widgets/controls",
            "_model_module_version": "1.5.0",
            "_model_name": "FloatProgressModel",
            "_view_count": null,
            "_view_module": "@jupyter-widgets/controls",
            "_view_module_version": "1.5.0",
            "_view_name": "ProgressView",
            "bar_style": "success",
            "description": "",
            "description_tooltip": null,
            "layout": "IPY_MODEL_25c82957479742178467d35b502d595e",
            "max": 570,
            "min": 0,
            "orientation": "horizontal",
            "style": "IPY_MODEL_7fd9cb0ec1af4fd2a1dd6dc200ace5d8",
            "value": 570
          }
        },
        "7ee5c6e2541c424ab04732b9fdc7c159": {
          "model_module": "@jupyter-widgets/controls",
          "model_name": "HTMLModel",
          "model_module_version": "1.5.0",
          "state": {
            "_dom_classes": [],
            "_model_module": "@jupyter-widgets/controls",
            "_model_module_version": "1.5.0",
            "_model_name": "HTMLModel",
            "_view_count": null,
            "_view_module": "@jupyter-widgets/controls",
            "_view_module_version": "1.5.0",
            "_view_name": "HTMLView",
            "description": "",
            "description_tooltip": null,
            "layout": "IPY_MODEL_b9f877506e5a4297859519b5948ac30c",
            "placeholder": "​",
            "style": "IPY_MODEL_d2b4accadda94ac68572d14207ee3898",
            "value": " 570/570 [00:00&lt;00:00, 28.2kB/s]"
          }
        },
        "0be0e69a5886409c9eccd12e23b00e65": {
          "model_module": "@jupyter-widgets/base",
          "model_name": "LayoutModel",
          "model_module_version": "1.2.0",
          "state": {
            "_model_module": "@jupyter-widgets/base",
            "_model_module_version": "1.2.0",
            "_model_name": "LayoutModel",
            "_view_count": null,
            "_view_module": "@jupyter-widgets/base",
            "_view_module_version": "1.2.0",
            "_view_name": "LayoutView",
            "align_content": null,
            "align_items": null,
            "align_self": null,
            "border": null,
            "bottom": null,
            "display": null,
            "flex": null,
            "flex_flow": null,
            "grid_area": null,
            "grid_auto_columns": null,
            "grid_auto_flow": null,
            "grid_auto_rows": null,
            "grid_column": null,
            "grid_gap": null,
            "grid_row": null,
            "grid_template_areas": null,
            "grid_template_columns": null,
            "grid_template_rows": null,
            "height": null,
            "justify_content": null,
            "justify_items": null,
            "left": null,
            "margin": null,
            "max_height": null,
            "max_width": null,
            "min_height": null,
            "min_width": null,
            "object_fit": null,
            "object_position": null,
            "order": null,
            "overflow": null,
            "overflow_x": null,
            "overflow_y": null,
            "padding": null,
            "right": null,
            "top": null,
            "visibility": null,
            "width": null
          }
        },
        "9b9a2d39fea647d193f59bd4a1422536": {
          "model_module": "@jupyter-widgets/base",
          "model_name": "LayoutModel",
          "model_module_version": "1.2.0",
          "state": {
            "_model_module": "@jupyter-widgets/base",
            "_model_module_version": "1.2.0",
            "_model_name": "LayoutModel",
            "_view_count": null,
            "_view_module": "@jupyter-widgets/base",
            "_view_module_version": "1.2.0",
            "_view_name": "LayoutView",
            "align_content": null,
            "align_items": null,
            "align_self": null,
            "border": null,
            "bottom": null,
            "display": null,
            "flex": null,
            "flex_flow": null,
            "grid_area": null,
            "grid_auto_columns": null,
            "grid_auto_flow": null,
            "grid_auto_rows": null,
            "grid_column": null,
            "grid_gap": null,
            "grid_row": null,
            "grid_template_areas": null,
            "grid_template_columns": null,
            "grid_template_rows": null,
            "height": null,
            "justify_content": null,
            "justify_items": null,
            "left": null,
            "margin": null,
            "max_height": null,
            "max_width": null,
            "min_height": null,
            "min_width": null,
            "object_fit": null,
            "object_position": null,
            "order": null,
            "overflow": null,
            "overflow_x": null,
            "overflow_y": null,
            "padding": null,
            "right": null,
            "top": null,
            "visibility": null,
            "width": null
          }
        },
        "ed2c2c365b55415188e8f3ffac7432b1": {
          "model_module": "@jupyter-widgets/controls",
          "model_name": "DescriptionStyleModel",
          "model_module_version": "1.5.0",
          "state": {
            "_model_module": "@jupyter-widgets/controls",
            "_model_module_version": "1.5.0",
            "_model_name": "DescriptionStyleModel",
            "_view_count": null,
            "_view_module": "@jupyter-widgets/base",
            "_view_module_version": "1.2.0",
            "_view_name": "StyleView",
            "description_width": ""
          }
        },
        "25c82957479742178467d35b502d595e": {
          "model_module": "@jupyter-widgets/base",
          "model_name": "LayoutModel",
          "model_module_version": "1.2.0",
          "state": {
            "_model_module": "@jupyter-widgets/base",
            "_model_module_version": "1.2.0",
            "_model_name": "LayoutModel",
            "_view_count": null,
            "_view_module": "@jupyter-widgets/base",
            "_view_module_version": "1.2.0",
            "_view_name": "LayoutView",
            "align_content": null,
            "align_items": null,
            "align_self": null,
            "border": null,
            "bottom": null,
            "display": null,
            "flex": null,
            "flex_flow": null,
            "grid_area": null,
            "grid_auto_columns": null,
            "grid_auto_flow": null,
            "grid_auto_rows": null,
            "grid_column": null,
            "grid_gap": null,
            "grid_row": null,
            "grid_template_areas": null,
            "grid_template_columns": null,
            "grid_template_rows": null,
            "height": null,
            "justify_content": null,
            "justify_items": null,
            "left": null,
            "margin": null,
            "max_height": null,
            "max_width": null,
            "min_height": null,
            "min_width": null,
            "object_fit": null,
            "object_position": null,
            "order": null,
            "overflow": null,
            "overflow_x": null,
            "overflow_y": null,
            "padding": null,
            "right": null,
            "top": null,
            "visibility": null,
            "width": null
          }
        },
        "7fd9cb0ec1af4fd2a1dd6dc200ace5d8": {
          "model_module": "@jupyter-widgets/controls",
          "model_name": "ProgressStyleModel",
          "model_module_version": "1.5.0",
          "state": {
            "_model_module": "@jupyter-widgets/controls",
            "_model_module_version": "1.5.0",
            "_model_name": "ProgressStyleModel",
            "_view_count": null,
            "_view_module": "@jupyter-widgets/base",
            "_view_module_version": "1.2.0",
            "_view_name": "StyleView",
            "bar_color": null,
            "description_width": ""
          }
        },
        "b9f877506e5a4297859519b5948ac30c": {
          "model_module": "@jupyter-widgets/base",
          "model_name": "LayoutModel",
          "model_module_version": "1.2.0",
          "state": {
            "_model_module": "@jupyter-widgets/base",
            "_model_module_version": "1.2.0",
            "_model_name": "LayoutModel",
            "_view_count": null,
            "_view_module": "@jupyter-widgets/base",
            "_view_module_version": "1.2.0",
            "_view_name": "LayoutView",
            "align_content": null,
            "align_items": null,
            "align_self": null,
            "border": null,
            "bottom": null,
            "display": null,
            "flex": null,
            "flex_flow": null,
            "grid_area": null,
            "grid_auto_columns": null,
            "grid_auto_flow": null,
            "grid_auto_rows": null,
            "grid_column": null,
            "grid_gap": null,
            "grid_row": null,
            "grid_template_areas": null,
            "grid_template_columns": null,
            "grid_template_rows": null,
            "height": null,
            "justify_content": null,
            "justify_items": null,
            "left": null,
            "margin": null,
            "max_height": null,
            "max_width": null,
            "min_height": null,
            "min_width": null,
            "object_fit": null,
            "object_position": null,
            "order": null,
            "overflow": null,
            "overflow_x": null,
            "overflow_y": null,
            "padding": null,
            "right": null,
            "top": null,
            "visibility": null,
            "width": null
          }
        },
        "d2b4accadda94ac68572d14207ee3898": {
          "model_module": "@jupyter-widgets/controls",
          "model_name": "DescriptionStyleModel",
          "model_module_version": "1.5.0",
          "state": {
            "_model_module": "@jupyter-widgets/controls",
            "_model_module_version": "1.5.0",
            "_model_name": "DescriptionStyleModel",
            "_view_count": null,
            "_view_module": "@jupyter-widgets/base",
            "_view_module_version": "1.2.0",
            "_view_name": "StyleView",
            "description_width": ""
          }
        },
        "5fefdee40dda481ea2d6fcde8c7014f2": {
          "model_module": "@jupyter-widgets/controls",
          "model_name": "HBoxModel",
          "model_module_version": "1.5.0",
          "state": {
            "_dom_classes": [],
            "_model_module": "@jupyter-widgets/controls",
            "_model_module_version": "1.5.0",
            "_model_name": "HBoxModel",
            "_view_count": null,
            "_view_module": "@jupyter-widgets/controls",
            "_view_module_version": "1.5.0",
            "_view_name": "HBoxView",
            "box_style": "",
            "children": [
              "IPY_MODEL_5ba426f82c274a72a183ee36880802bd",
              "IPY_MODEL_841c4861154f44c89ba10896051dc760",
              "IPY_MODEL_cafd68a43497444997ecf0ddfc0544f3"
            ],
            "layout": "IPY_MODEL_1749e27069ff43fb9825fc06a5e7d986"
          }
        },
        "5ba426f82c274a72a183ee36880802bd": {
          "model_module": "@jupyter-widgets/controls",
          "model_name": "HTMLModel",
          "model_module_version": "1.5.0",
          "state": {
            "_dom_classes": [],
            "_model_module": "@jupyter-widgets/controls",
            "_model_module_version": "1.5.0",
            "_model_name": "HTMLModel",
            "_view_count": null,
            "_view_module": "@jupyter-widgets/controls",
            "_view_module_version": "1.5.0",
            "_view_name": "HTMLView",
            "description": "",
            "description_tooltip": null,
            "layout": "IPY_MODEL_283e28821b054a1db4cdf4c3a6a34689",
            "placeholder": "​",
            "style": "IPY_MODEL_ba988a64661447429fdb378b0a5256e3",
            "value": "model.safetensors: 100%"
          }
        },
        "841c4861154f44c89ba10896051dc760": {
          "model_module": "@jupyter-widgets/controls",
          "model_name": "FloatProgressModel",
          "model_module_version": "1.5.0",
          "state": {
            "_dom_classes": [],
            "_model_module": "@jupyter-widgets/controls",
            "_model_module_version": "1.5.0",
            "_model_name": "FloatProgressModel",
            "_view_count": null,
            "_view_module": "@jupyter-widgets/controls",
            "_view_module_version": "1.5.0",
            "_view_name": "ProgressView",
            "bar_style": "success",
            "description": "",
            "description_tooltip": null,
            "layout": "IPY_MODEL_a00cd5a75a6644e1a0adfed671958fff",
            "max": 440449768,
            "min": 0,
            "orientation": "horizontal",
            "style": "IPY_MODEL_d6396e0e07554682805798c2f8440e99",
            "value": 440449768
          }
        },
        "cafd68a43497444997ecf0ddfc0544f3": {
          "model_module": "@jupyter-widgets/controls",
          "model_name": "HTMLModel",
          "model_module_version": "1.5.0",
          "state": {
            "_dom_classes": [],
            "_model_module": "@jupyter-widgets/controls",
            "_model_module_version": "1.5.0",
            "_model_name": "HTMLModel",
            "_view_count": null,
            "_view_module": "@jupyter-widgets/controls",
            "_view_module_version": "1.5.0",
            "_view_name": "HTMLView",
            "description": "",
            "description_tooltip": null,
            "layout": "IPY_MODEL_9a2bc11fe5fe4a1fa9f889ce3fbb20d4",
            "placeholder": "​",
            "style": "IPY_MODEL_354a8254fddb400cbf9ce94e6029bb5d",
            "value": " 440M/440M [00:04&lt;00:00, 90.1MB/s]"
          }
        },
        "1749e27069ff43fb9825fc06a5e7d986": {
          "model_module": "@jupyter-widgets/base",
          "model_name": "LayoutModel",
          "model_module_version": "1.2.0",
          "state": {
            "_model_module": "@jupyter-widgets/base",
            "_model_module_version": "1.2.0",
            "_model_name": "LayoutModel",
            "_view_count": null,
            "_view_module": "@jupyter-widgets/base",
            "_view_module_version": "1.2.0",
            "_view_name": "LayoutView",
            "align_content": null,
            "align_items": null,
            "align_self": null,
            "border": null,
            "bottom": null,
            "display": null,
            "flex": null,
            "flex_flow": null,
            "grid_area": null,
            "grid_auto_columns": null,
            "grid_auto_flow": null,
            "grid_auto_rows": null,
            "grid_column": null,
            "grid_gap": null,
            "grid_row": null,
            "grid_template_areas": null,
            "grid_template_columns": null,
            "grid_template_rows": null,
            "height": null,
            "justify_content": null,
            "justify_items": null,
            "left": null,
            "margin": null,
            "max_height": null,
            "max_width": null,
            "min_height": null,
            "min_width": null,
            "object_fit": null,
            "object_position": null,
            "order": null,
            "overflow": null,
            "overflow_x": null,
            "overflow_y": null,
            "padding": null,
            "right": null,
            "top": null,
            "visibility": null,
            "width": null
          }
        },
        "283e28821b054a1db4cdf4c3a6a34689": {
          "model_module": "@jupyter-widgets/base",
          "model_name": "LayoutModel",
          "model_module_version": "1.2.0",
          "state": {
            "_model_module": "@jupyter-widgets/base",
            "_model_module_version": "1.2.0",
            "_model_name": "LayoutModel",
            "_view_count": null,
            "_view_module": "@jupyter-widgets/base",
            "_view_module_version": "1.2.0",
            "_view_name": "LayoutView",
            "align_content": null,
            "align_items": null,
            "align_self": null,
            "border": null,
            "bottom": null,
            "display": null,
            "flex": null,
            "flex_flow": null,
            "grid_area": null,
            "grid_auto_columns": null,
            "grid_auto_flow": null,
            "grid_auto_rows": null,
            "grid_column": null,
            "grid_gap": null,
            "grid_row": null,
            "grid_template_areas": null,
            "grid_template_columns": null,
            "grid_template_rows": null,
            "height": null,
            "justify_content": null,
            "justify_items": null,
            "left": null,
            "margin": null,
            "max_height": null,
            "max_width": null,
            "min_height": null,
            "min_width": null,
            "object_fit": null,
            "object_position": null,
            "order": null,
            "overflow": null,
            "overflow_x": null,
            "overflow_y": null,
            "padding": null,
            "right": null,
            "top": null,
            "visibility": null,
            "width": null
          }
        },
        "ba988a64661447429fdb378b0a5256e3": {
          "model_module": "@jupyter-widgets/controls",
          "model_name": "DescriptionStyleModel",
          "model_module_version": "1.5.0",
          "state": {
            "_model_module": "@jupyter-widgets/controls",
            "_model_module_version": "1.5.0",
            "_model_name": "DescriptionStyleModel",
            "_view_count": null,
            "_view_module": "@jupyter-widgets/base",
            "_view_module_version": "1.2.0",
            "_view_name": "StyleView",
            "description_width": ""
          }
        },
        "a00cd5a75a6644e1a0adfed671958fff": {
          "model_module": "@jupyter-widgets/base",
          "model_name": "LayoutModel",
          "model_module_version": "1.2.0",
          "state": {
            "_model_module": "@jupyter-widgets/base",
            "_model_module_version": "1.2.0",
            "_model_name": "LayoutModel",
            "_view_count": null,
            "_view_module": "@jupyter-widgets/base",
            "_view_module_version": "1.2.0",
            "_view_name": "LayoutView",
            "align_content": null,
            "align_items": null,
            "align_self": null,
            "border": null,
            "bottom": null,
            "display": null,
            "flex": null,
            "flex_flow": null,
            "grid_area": null,
            "grid_auto_columns": null,
            "grid_auto_flow": null,
            "grid_auto_rows": null,
            "grid_column": null,
            "grid_gap": null,
            "grid_row": null,
            "grid_template_areas": null,
            "grid_template_columns": null,
            "grid_template_rows": null,
            "height": null,
            "justify_content": null,
            "justify_items": null,
            "left": null,
            "margin": null,
            "max_height": null,
            "max_width": null,
            "min_height": null,
            "min_width": null,
            "object_fit": null,
            "object_position": null,
            "order": null,
            "overflow": null,
            "overflow_x": null,
            "overflow_y": null,
            "padding": null,
            "right": null,
            "top": null,
            "visibility": null,
            "width": null
          }
        },
        "d6396e0e07554682805798c2f8440e99": {
          "model_module": "@jupyter-widgets/controls",
          "model_name": "ProgressStyleModel",
          "model_module_version": "1.5.0",
          "state": {
            "_model_module": "@jupyter-widgets/controls",
            "_model_module_version": "1.5.0",
            "_model_name": "ProgressStyleModel",
            "_view_count": null,
            "_view_module": "@jupyter-widgets/base",
            "_view_module_version": "1.2.0",
            "_view_name": "StyleView",
            "bar_color": null,
            "description_width": ""
          }
        },
        "9a2bc11fe5fe4a1fa9f889ce3fbb20d4": {
          "model_module": "@jupyter-widgets/base",
          "model_name": "LayoutModel",
          "model_module_version": "1.2.0",
          "state": {
            "_model_module": "@jupyter-widgets/base",
            "_model_module_version": "1.2.0",
            "_model_name": "LayoutModel",
            "_view_count": null,
            "_view_module": "@jupyter-widgets/base",
            "_view_module_version": "1.2.0",
            "_view_name": "LayoutView",
            "align_content": null,
            "align_items": null,
            "align_self": null,
            "border": null,
            "bottom": null,
            "display": null,
            "flex": null,
            "flex_flow": null,
            "grid_area": null,
            "grid_auto_columns": null,
            "grid_auto_flow": null,
            "grid_auto_rows": null,
            "grid_column": null,
            "grid_gap": null,
            "grid_row": null,
            "grid_template_areas": null,
            "grid_template_columns": null,
            "grid_template_rows": null,
            "height": null,
            "justify_content": null,
            "justify_items": null,
            "left": null,
            "margin": null,
            "max_height": null,
            "max_width": null,
            "min_height": null,
            "min_width": null,
            "object_fit": null,
            "object_position": null,
            "order": null,
            "overflow": null,
            "overflow_x": null,
            "overflow_y": null,
            "padding": null,
            "right": null,
            "top": null,
            "visibility": null,
            "width": null
          }
        },
        "354a8254fddb400cbf9ce94e6029bb5d": {
          "model_module": "@jupyter-widgets/controls",
          "model_name": "DescriptionStyleModel",
          "model_module_version": "1.5.0",
          "state": {
            "_model_module": "@jupyter-widgets/controls",
            "_model_module_version": "1.5.0",
            "_model_name": "DescriptionStyleModel",
            "_view_count": null,
            "_view_module": "@jupyter-widgets/base",
            "_view_module_version": "1.2.0",
            "_view_name": "StyleView",
            "description_width": ""
          }
        }
      }
    },
    "accelerator": "GPU"
  },
  "nbformat": 4,
  "nbformat_minor": 0
}