{
  "cells": [
    {
      "cell_type": "markdown",
      "metadata": {
        "id": "H7oSSyQvCeSU"
      },
      "source": [
        "## Web Mining - TP Stocks - Grupo 4"
      ]
    },
    {
      "cell_type": "markdown",
      "metadata": {
        "id": "ROeLVArVCeSY"
      },
      "source": [
        "### Librerias"
      ]
    },
    {
      "cell_type": "code",
      "execution_count": null,
      "metadata": {
        "id": "mrAUkdymCeSZ",
        "outputId": "d51b7cfc-ae60-457b-ebc9-7a10accebead",
        "colab": {
          "base_uri": "https://localhost:8080/"
        }
      },
      "outputs": [
        {
          "output_type": "stream",
          "name": "stderr",
          "text": [
            "[nltk_data] Downloading package stopwords to /root/nltk_data...\n",
            "[nltk_data]   Unzipping corpora/stopwords.zip.\n"
          ]
        }
      ],
      "source": [
        "import pandas as pd\n",
        "import nltk\n",
        "nltk.download('stopwords')\n",
        "import spacy # Python 3.12\n",
        "import numpy as np\n",
        "import matplotlib.pyplot as plt\n",
        "from xgboost import XGBClassifier\n",
        "from lightgbm import LGBMClassifier\n",
        "from nltk.corpus import stopwords\n",
        "from sklearn.feature_extraction.text import CountVectorizer, TfidfTransformer\n",
        "from sklearn.naive_bayes import MultinomialNB\n",
        "from sklearn.svm import LinearSVC\n",
        "from sklearn.ensemble import RandomForestClassifier, AdaBoostClassifier\n",
        "from sklearn.pipeline import Pipeline\n",
        "from sklearn.metrics import accuracy_score, f1_score, confusion_matrix, roc_curve, auc, classification_report\n",
        "from sklearn.calibration import CalibratedClassifierCV\n",
        "from sklearn.preprocessing import LabelEncoder, MinMaxScaler\n",
        "from sklearn.linear_model import LogisticRegression\n",
        "from sklearn.model_selection import cross_val_score\n",
        "from sklearn.neighbors import KNeighborsClassifier\n",
        "from sklearn.tree import DecisionTreeClassifier\n",
        "from sklearn.metrics.pairwise import cosine_similarity\n",
        "\n",
        "import warnings\n",
        "warnings.filterwarnings('ignore')"
      ]
    },
    {
      "cell_type": "markdown",
      "metadata": {
        "id": "e2kBYqFDCeSc"
      },
      "source": [
        "### Archivo entrenamiento"
      ]
    },
    {
      "cell_type": "code",
      "execution_count": null,
      "metadata": {
        "id": "23uRbtXfCeSd"
      },
      "outputs": [],
      "source": [
        "data = pd.read_excel('YPF UNIFICADO VERIFICADO V3.xlsx', sheet_name= 'NOTICIAS')"
      ]
    },
    {
      "cell_type": "markdown",
      "metadata": {
        "id": "liKvslETCeSe"
      },
      "source": [
        "## Preprocesamiento"
      ]
    },
    {
      "cell_type": "markdown",
      "metadata": {
        "id": "QSwx9hEZCeSe"
      },
      "source": [
        "### Stopwords"
      ]
    },
    {
      "cell_type": "code",
      "execution_count": null,
      "metadata": {
        "id": "jo5-iqkuCeSf"
      },
      "outputs": [],
      "source": [
        "stopwords_en = set(stopwords.words('english'))"
      ]
    },
    {
      "cell_type": "code",
      "execution_count": null,
      "metadata": {
        "id": "1p8HhIpaCeSg"
      },
      "outputs": [],
      "source": [
        "# Listado de stopwords propio\n",
        "stopwords_personales = ['Refinitiv','Zacks','Rystad','Andrew','Rocco','Nilanjan','Benerjee','CERAWEEK','Tirthankar','Chakraborty','Anindya','Barman','Scott','Squires','Jonathan','Gilbert','Yvonne','Yue','Li'\n",
        "                        'Laura','Millan','Jorgelina','Do','Rosario']\n",
        "\n",
        "stopwords_personales = [x.lower() for x in stopwords_personales]\n",
        "\n",
        "stopwords_custom = list(stopwords_en.union(stopwords_personales))"
      ]
    },
    {
      "cell_type": "markdown",
      "metadata": {
        "id": "BZ4NRv-cCeSg"
      },
      "source": [
        "### Bag Of Words"
      ]
    },
    {
      "cell_type": "code",
      "execution_count": null,
      "metadata": {
        "id": "1oh6ViLbCeSh"
      },
      "outputs": [],
      "source": [
        "word_count = {}\n",
        "\n",
        "for sentence in data[data['Category'].isin(['Compra'])]['Text'].to_list():\n",
        "    words = sentence.split()\n",
        "\n",
        "    for word in words:\n",
        "        word = word.strip(\".,!?()\").lower()\n",
        "\n",
        "        if word in word_count:\n",
        "            word_count[word] += 1\n",
        "        else:\n",
        "            word_count[word] = 1"
      ]
    },
    {
      "cell_type": "code",
      "execution_count": null,
      "metadata": {
        "id": "OdLxbN2pCeSh"
      },
      "outputs": [],
      "source": [
        "word_count_filtro = {word: count for word, count in word_count.items() if word not in stopwords_en}"
      ]
    },
    {
      "cell_type": "code",
      "execution_count": null,
      "metadata": {
        "id": "iaXkWYyqCeSh"
      },
      "outputs": [],
      "source": [
        "word_counts_orden = dict(sorted(word_count_filtro.items(), key=lambda x: x[1], reverse=True))"
      ]
    },
    {
      "cell_type": "code",
      "execution_count": null,
      "metadata": {
        "id": "w7DPq-SGCeSi"
      },
      "outputs": [],
      "source": [
        "df = pd.DataFrame(list(word_counts_orden.items()), columns=['Palabra', 'Frecuencia'])\n",
        "file_path = 'bag_of_words.xlsx'\n",
        "df.to_excel(file_path, index=False)"
      ]
    },
    {
      "cell_type": "markdown",
      "metadata": {
        "id": "LPN2r-c3CeSj"
      },
      "source": [
        "### Función de Lematización"
      ]
    },
    {
      "cell_type": "code",
      "execution_count": null,
      "metadata": {
        "id": "h0q2goSvCeSk"
      },
      "outputs": [],
      "source": [
        "import en_core_web_sm"
      ]
    },
    {
      "cell_type": "code",
      "execution_count": null,
      "metadata": {
        "id": "I51B476SCeSk"
      },
      "outputs": [],
      "source": [
        "def func_lemma(X_train, dicc_stopwords):\n",
        "\n",
        "    nlp = spacy.load(\"en_core_web_sm\")\n",
        "    #pip3 install https://github.com/explosion/spacy-models/releases/download/en_core_web_sm-2.2.0/en_core_web_sm-2.2.0.tar.gz\n",
        "\n",
        "    X_train_lemma = []\n",
        "\n",
        "    for noticia in X_train:\n",
        "        l_doc = nlp(noticia)\n",
        "        v_lema = \" \".join([token.lemma_.lower() for token in l_doc if token.text.lower() not in dicc_stopwords and not token.is_punct])\n",
        "        X_train_lemma.append(v_lema)\n",
        "\n",
        "    return X_train_lemma"
      ]
    },
    {
      "cell_type": "markdown",
      "metadata": {
        "id": "5a21pu38CeSk"
      },
      "source": [
        "### Split Train / Test"
      ]
    },
    {
      "cell_type": "code",
      "execution_count": null,
      "metadata": {
        "id": "fwrX3BeRCeSk"
      },
      "outputs": [],
      "source": [
        "data_train = data[data['Train/Test'].isin(['Train'])]\n",
        "data_test = data[data['Train/Test'].isin(['Test'])]"
      ]
    },
    {
      "cell_type": "code",
      "execution_count": null,
      "metadata": {
        "id": "VEPfPD6kCeSk"
      },
      "outputs": [],
      "source": [
        "X_train = data_train['Text'].tolist()\n",
        "y_train = data_train['Category'].tolist()"
      ]
    },
    {
      "cell_type": "code",
      "execution_count": null,
      "metadata": {
        "id": "M0-ghnFcCeSk"
      },
      "outputs": [],
      "source": [
        "X_test = data_test['Text'].tolist()\n",
        "y_test = data_test['Category'].tolist()"
      ]
    },
    {
      "cell_type": "markdown",
      "metadata": {
        "id": "pkn04wPuCeSl"
      },
      "source": [
        "### Lemma (Similitud del Coseno y Jaccard)"
      ]
    },
    {
      "cell_type": "markdown",
      "metadata": {
        "id": "JGvfAPQVCeSl"
      },
      "source": [
        "Queremos verificar si aplicar lematización realmente cambia la composición del texto y si el texto transformado se reduce."
      ]
    },
    {
      "cell_type": "code",
      "execution_count": null,
      "metadata": {
        "id": "ZeeTuhdnCeSl"
      },
      "outputs": [],
      "source": [
        "list1 = X_train\n",
        "list2 = func_lemma(X_train, stopwords_custom)\n",
        "vectorizer = CountVectorizer()\n",
        "\n",
        "data_lemma = []\n",
        "\n",
        "for str1, str2 in zip(list1, list2):\n",
        "    tokens1 = str1.split()\n",
        "    tokens2 = str2.split()\n",
        "\n",
        "    matrix1 = vectorizer.fit_transform([\" \".join(tokens1)])\n",
        "    matrix2 = vectorizer.transform([\" \".join(tokens2)])\n",
        "\n",
        "    cosine_sim = cosine_similarity(matrix1, matrix2)[0][0]\n",
        "\n",
        "    data_lemma.append([str1, str2, cosine_sim])\n",
        "\n",
        "df_lemma = pd.DataFrame(data_lemma, columns=[\"Original\", \"Lemma\", \"Sim_Coseno\"])"
      ]
    },
    {
      "cell_type": "code",
      "execution_count": null,
      "metadata": {
        "id": "8Bkw_hysCeSl",
        "outputId": "1325195f-833c-40dd-bdc2-e5acc86b5dcd",
        "colab": {
          "base_uri": "https://localhost:8080/",
          "height": 206
        }
      },
      "outputs": [
        {
          "output_type": "execute_result",
          "data": {
            "text/plain": [
              "                                            Original  \\\n",
              "0  Oil Driller YPF Surges as Winner Milei Touts P...   \n",
              "1  Milei to Face Painful Recession in Argentina N...   \n",
              "2  Argentina/election: dollarising disrupter brin...   \n",
              "3  Argentine stocks and bonds boosted by election...   \n",
              "4  Milei’s victory in Argentina cheered by invest...   \n",
              "\n",
              "                                               Lemma  Sim_Coseno  \n",
              "0  oil driller ypf surges winner milei touts priv...    0.690596  \n",
              "1  milei face painful recession argentina next ye...    0.819680  \n",
              "2  argentina election dollarise disrupter bring i...    0.816497  \n",
              "3          argentine stock bond boost election milei    0.577350  \n",
              "4          milei ’s victory argentina cheer investor    0.654654  "
            ],
            "text/html": [
              "\n",
              "  <div id=\"df-7289d789-c163-4238-a831-dcac2e2dc53c\" class=\"colab-df-container\">\n",
              "    <div>\n",
              "<style scoped>\n",
              "    .dataframe tbody tr th:only-of-type {\n",
              "        vertical-align: middle;\n",
              "    }\n",
              "\n",
              "    .dataframe tbody tr th {\n",
              "        vertical-align: top;\n",
              "    }\n",
              "\n",
              "    .dataframe thead th {\n",
              "        text-align: right;\n",
              "    }\n",
              "</style>\n",
              "<table border=\"1\" class=\"dataframe\">\n",
              "  <thead>\n",
              "    <tr style=\"text-align: right;\">\n",
              "      <th></th>\n",
              "      <th>Original</th>\n",
              "      <th>Lemma</th>\n",
              "      <th>Sim_Coseno</th>\n",
              "    </tr>\n",
              "  </thead>\n",
              "  <tbody>\n",
              "    <tr>\n",
              "      <th>0</th>\n",
              "      <td>Oil Driller YPF Surges as Winner Milei Touts P...</td>\n",
              "      <td>oil driller ypf surges winner milei touts priv...</td>\n",
              "      <td>0.690596</td>\n",
              "    </tr>\n",
              "    <tr>\n",
              "      <th>1</th>\n",
              "      <td>Milei to Face Painful Recession in Argentina N...</td>\n",
              "      <td>milei face painful recession argentina next ye...</td>\n",
              "      <td>0.819680</td>\n",
              "    </tr>\n",
              "    <tr>\n",
              "      <th>2</th>\n",
              "      <td>Argentina/election: dollarising disrupter brin...</td>\n",
              "      <td>argentina election dollarise disrupter bring i...</td>\n",
              "      <td>0.816497</td>\n",
              "    </tr>\n",
              "    <tr>\n",
              "      <th>3</th>\n",
              "      <td>Argentine stocks and bonds boosted by election...</td>\n",
              "      <td>argentine stock bond boost election milei</td>\n",
              "      <td>0.577350</td>\n",
              "    </tr>\n",
              "    <tr>\n",
              "      <th>4</th>\n",
              "      <td>Milei’s victory in Argentina cheered by invest...</td>\n",
              "      <td>milei ’s victory argentina cheer investor</td>\n",
              "      <td>0.654654</td>\n",
              "    </tr>\n",
              "  </tbody>\n",
              "</table>\n",
              "</div>\n",
              "    <div class=\"colab-df-buttons\">\n",
              "\n",
              "  <div class=\"colab-df-container\">\n",
              "    <button class=\"colab-df-convert\" onclick=\"convertToInteractive('df-7289d789-c163-4238-a831-dcac2e2dc53c')\"\n",
              "            title=\"Convert this dataframe to an interactive table.\"\n",
              "            style=\"display:none;\">\n",
              "\n",
              "  <svg xmlns=\"http://www.w3.org/2000/svg\" height=\"24px\" viewBox=\"0 -960 960 960\">\n",
              "    <path d=\"M120-120v-720h720v720H120Zm60-500h600v-160H180v160Zm220 220h160v-160H400v160Zm0 220h160v-160H400v160ZM180-400h160v-160H180v160Zm440 0h160v-160H620v160ZM180-180h160v-160H180v160Zm440 0h160v-160H620v160Z\"/>\n",
              "  </svg>\n",
              "    </button>\n",
              "\n",
              "  <style>\n",
              "    .colab-df-container {\n",
              "      display:flex;\n",
              "      gap: 12px;\n",
              "    }\n",
              "\n",
              "    .colab-df-convert {\n",
              "      background-color: #E8F0FE;\n",
              "      border: none;\n",
              "      border-radius: 50%;\n",
              "      cursor: pointer;\n",
              "      display: none;\n",
              "      fill: #1967D2;\n",
              "      height: 32px;\n",
              "      padding: 0 0 0 0;\n",
              "      width: 32px;\n",
              "    }\n",
              "\n",
              "    .colab-df-convert:hover {\n",
              "      background-color: #E2EBFA;\n",
              "      box-shadow: 0px 1px 2px rgba(60, 64, 67, 0.3), 0px 1px 3px 1px rgba(60, 64, 67, 0.15);\n",
              "      fill: #174EA6;\n",
              "    }\n",
              "\n",
              "    .colab-df-buttons div {\n",
              "      margin-bottom: 4px;\n",
              "    }\n",
              "\n",
              "    [theme=dark] .colab-df-convert {\n",
              "      background-color: #3B4455;\n",
              "      fill: #D2E3FC;\n",
              "    }\n",
              "\n",
              "    [theme=dark] .colab-df-convert:hover {\n",
              "      background-color: #434B5C;\n",
              "      box-shadow: 0px 1px 3px 1px rgba(0, 0, 0, 0.15);\n",
              "      filter: drop-shadow(0px 1px 2px rgba(0, 0, 0, 0.3));\n",
              "      fill: #FFFFFF;\n",
              "    }\n",
              "  </style>\n",
              "\n",
              "    <script>\n",
              "      const buttonEl =\n",
              "        document.querySelector('#df-7289d789-c163-4238-a831-dcac2e2dc53c button.colab-df-convert');\n",
              "      buttonEl.style.display =\n",
              "        google.colab.kernel.accessAllowed ? 'block' : 'none';\n",
              "\n",
              "      async function convertToInteractive(key) {\n",
              "        const element = document.querySelector('#df-7289d789-c163-4238-a831-dcac2e2dc53c');\n",
              "        const dataTable =\n",
              "          await google.colab.kernel.invokeFunction('convertToInteractive',\n",
              "                                                    [key], {});\n",
              "        if (!dataTable) return;\n",
              "\n",
              "        const docLinkHtml = 'Like what you see? Visit the ' +\n",
              "          '<a target=\"_blank\" href=https://colab.research.google.com/notebooks/data_table.ipynb>data table notebook</a>'\n",
              "          + ' to learn more about interactive tables.';\n",
              "        element.innerHTML = '';\n",
              "        dataTable['output_type'] = 'display_data';\n",
              "        await google.colab.output.renderOutput(dataTable, element);\n",
              "        const docLink = document.createElement('div');\n",
              "        docLink.innerHTML = docLinkHtml;\n",
              "        element.appendChild(docLink);\n",
              "      }\n",
              "    </script>\n",
              "  </div>\n",
              "\n",
              "\n",
              "<div id=\"df-b0b09673-c1e3-4204-9cdd-bb4bce924736\">\n",
              "  <button class=\"colab-df-quickchart\" onclick=\"quickchart('df-b0b09673-c1e3-4204-9cdd-bb4bce924736')\"\n",
              "            title=\"Suggest charts\"\n",
              "            style=\"display:none;\">\n",
              "\n",
              "<svg xmlns=\"http://www.w3.org/2000/svg\" height=\"24px\"viewBox=\"0 0 24 24\"\n",
              "     width=\"24px\">\n",
              "    <g>\n",
              "        <path d=\"M19 3H5c-1.1 0-2 .9-2 2v14c0 1.1.9 2 2 2h14c1.1 0 2-.9 2-2V5c0-1.1-.9-2-2-2zM9 17H7v-7h2v7zm4 0h-2V7h2v10zm4 0h-2v-4h2v4z\"/>\n",
              "    </g>\n",
              "</svg>\n",
              "  </button>\n",
              "\n",
              "<style>\n",
              "  .colab-df-quickchart {\n",
              "      --bg-color: #E8F0FE;\n",
              "      --fill-color: #1967D2;\n",
              "      --hover-bg-color: #E2EBFA;\n",
              "      --hover-fill-color: #174EA6;\n",
              "      --disabled-fill-color: #AAA;\n",
              "      --disabled-bg-color: #DDD;\n",
              "  }\n",
              "\n",
              "  [theme=dark] .colab-df-quickchart {\n",
              "      --bg-color: #3B4455;\n",
              "      --fill-color: #D2E3FC;\n",
              "      --hover-bg-color: #434B5C;\n",
              "      --hover-fill-color: #FFFFFF;\n",
              "      --disabled-bg-color: #3B4455;\n",
              "      --disabled-fill-color: #666;\n",
              "  }\n",
              "\n",
              "  .colab-df-quickchart {\n",
              "    background-color: var(--bg-color);\n",
              "    border: none;\n",
              "    border-radius: 50%;\n",
              "    cursor: pointer;\n",
              "    display: none;\n",
              "    fill: var(--fill-color);\n",
              "    height: 32px;\n",
              "    padding: 0;\n",
              "    width: 32px;\n",
              "  }\n",
              "\n",
              "  .colab-df-quickchart:hover {\n",
              "    background-color: var(--hover-bg-color);\n",
              "    box-shadow: 0 1px 2px rgba(60, 64, 67, 0.3), 0 1px 3px 1px rgba(60, 64, 67, 0.15);\n",
              "    fill: var(--button-hover-fill-color);\n",
              "  }\n",
              "\n",
              "  .colab-df-quickchart-complete:disabled,\n",
              "  .colab-df-quickchart-complete:disabled:hover {\n",
              "    background-color: var(--disabled-bg-color);\n",
              "    fill: var(--disabled-fill-color);\n",
              "    box-shadow: none;\n",
              "  }\n",
              "\n",
              "  .colab-df-spinner {\n",
              "    border: 2px solid var(--fill-color);\n",
              "    border-color: transparent;\n",
              "    border-bottom-color: var(--fill-color);\n",
              "    animation:\n",
              "      spin 1s steps(1) infinite;\n",
              "  }\n",
              "\n",
              "  @keyframes spin {\n",
              "    0% {\n",
              "      border-color: transparent;\n",
              "      border-bottom-color: var(--fill-color);\n",
              "      border-left-color: var(--fill-color);\n",
              "    }\n",
              "    20% {\n",
              "      border-color: transparent;\n",
              "      border-left-color: var(--fill-color);\n",
              "      border-top-color: var(--fill-color);\n",
              "    }\n",
              "    30% {\n",
              "      border-color: transparent;\n",
              "      border-left-color: var(--fill-color);\n",
              "      border-top-color: var(--fill-color);\n",
              "      border-right-color: var(--fill-color);\n",
              "    }\n",
              "    40% {\n",
              "      border-color: transparent;\n",
              "      border-right-color: var(--fill-color);\n",
              "      border-top-color: var(--fill-color);\n",
              "    }\n",
              "    60% {\n",
              "      border-color: transparent;\n",
              "      border-right-color: var(--fill-color);\n",
              "    }\n",
              "    80% {\n",
              "      border-color: transparent;\n",
              "      border-right-color: var(--fill-color);\n",
              "      border-bottom-color: var(--fill-color);\n",
              "    }\n",
              "    90% {\n",
              "      border-color: transparent;\n",
              "      border-bottom-color: var(--fill-color);\n",
              "    }\n",
              "  }\n",
              "</style>\n",
              "\n",
              "  <script>\n",
              "    async function quickchart(key) {\n",
              "      const quickchartButtonEl =\n",
              "        document.querySelector('#' + key + ' button');\n",
              "      quickchartButtonEl.disabled = true;  // To prevent multiple clicks.\n",
              "      quickchartButtonEl.classList.add('colab-df-spinner');\n",
              "      try {\n",
              "        const charts = await google.colab.kernel.invokeFunction(\n",
              "            'suggestCharts', [key], {});\n",
              "      } catch (error) {\n",
              "        console.error('Error during call to suggestCharts:', error);\n",
              "      }\n",
              "      quickchartButtonEl.classList.remove('colab-df-spinner');\n",
              "      quickchartButtonEl.classList.add('colab-df-quickchart-complete');\n",
              "    }\n",
              "    (() => {\n",
              "      let quickchartButtonEl =\n",
              "        document.querySelector('#df-b0b09673-c1e3-4204-9cdd-bb4bce924736 button');\n",
              "      quickchartButtonEl.style.display =\n",
              "        google.colab.kernel.accessAllowed ? 'block' : 'none';\n",
              "    })();\n",
              "  </script>\n",
              "</div>\n",
              "\n",
              "    </div>\n",
              "  </div>\n"
            ],
            "application/vnd.google.colaboratory.intrinsic+json": {
              "type": "dataframe",
              "variable_name": "df_lemma",
              "summary": "{\n  \"name\": \"df_lemma\",\n  \"rows\": 308,\n  \"fields\": [\n    {\n      \"column\": \"Original\",\n      \"properties\": {\n        \"dtype\": \"string\",\n        \"num_unique_values\": 299,\n        \"samples\": [\n          \"Argentina Mulls Oil Price Controls in Bill to Tap Shale Trove. Argentina\\u2019s government is pushing for long-term oil price controls as the South American nation runs out of time to unearth a shale trove in Patagonia.\",\n          \"EXCLUSIVE Argentina President set to decree $1.6 bln Vaca Muerta gas pipeline - gov't source. \",\n          \"YPF Sociedad Anonima (YPF) Gains But Lags Market: What You Should Know YPF Sociedad Anonima (YPF) closed the most recent trading day at $11.54, moving +0.52% from the previous trading session.. \"\n        ],\n        \"semantic_type\": \"\",\n        \"description\": \"\"\n      }\n    },\n    {\n      \"column\": \"Lemma\",\n      \"properties\": {\n        \"dtype\": \"string\",\n        \"num_unique_values\": 299,\n        \"samples\": [\n          \"argentina mulls oil price control bill tap shale trove argentina \\u2019s government push long term oil price control south american nation run time unearth shale trove patagonia\",\n          \"exclusive argentina president set decree $ 1.6 bln vaca muerta gas pipeline gov't source\",\n          \"ypf sociedad anonima ypf gain lags market know ypf sociedad anonima ypf close recent trading day $ 11.54 move +0.52 previous trading session\"\n        ],\n        \"semantic_type\": \"\",\n        \"description\": \"\"\n      }\n    },\n    {\n      \"column\": \"Sim_Coseno\",\n      \"properties\": {\n        \"dtype\": \"number\",\n        \"std\": 0.09579997901615503,\n        \"min\": 0.507253164941173,\n        \"max\": 0.960768922830523,\n        \"num_unique_values\": 198,\n        \"samples\": [\n          0.9053574604251853,\n          0.7713356685664039,\n          0.8528028654224417\n        ],\n        \"semantic_type\": \"\",\n        \"description\": \"\"\n      }\n    }\n  ]\n}"
            }
          },
          "metadata": {},
          "execution_count": 16
        }
      ],
      "source": [
        "df_lemma.head()"
      ]
    },
    {
      "cell_type": "code",
      "execution_count": null,
      "metadata": {
        "id": "bs7iwG1hCeSl",
        "outputId": "d83401e9-75f7-45d3-9a40-df97e1d65fe3",
        "colab": {
          "base_uri": "https://localhost:8080/"
        }
      },
      "outputs": [
        {
          "output_type": "stream",
          "name": "stdout",
          "text": [
            "Diccionario original: 2343\n",
            "Diccionario lematizado: 1569\n"
          ]
        }
      ],
      "source": [
        "def remove_stopwords(tokens):\n",
        "    filtered_tokens = [word for word in tokens if word.lower() not in stopwords_custom]\n",
        "    return filtered_tokens\n",
        "\n",
        "original_text = \" \".join(list1)\n",
        "lemmatized_text = \" \".join(list2)\n",
        "\n",
        "original_tokens = original_text.split()\n",
        "lemmatized_tokens = lemmatized_text.split()\n",
        "\n",
        "filtered_original_tokens = remove_stopwords(original_tokens)\n",
        "filtered_lemmatized_tokens = remove_stopwords(lemmatized_tokens)\n",
        "\n",
        "original_unique_words = set(filtered_original_tokens)\n",
        "lemmatized_unique_words = set(filtered_lemmatized_tokens)\n",
        "\n",
        "total_unique_words_original = len(original_unique_words)\n",
        "total_unique_words_lemmatized = len(lemmatized_unique_words)\n",
        "\n",
        "print(f\"Diccionario original: {total_unique_words_original}\")\n",
        "print(f\"Diccionario lematizado: {total_unique_words_lemmatized}\")"
      ]
    },
    {
      "cell_type": "markdown",
      "metadata": {
        "id": "PZRpMlDZCeSm"
      },
      "source": [
        "Vemos que el diccionario de términos luego de la lematización no se reduce significativamente."
      ]
    },
    {
      "cell_type": "markdown",
      "metadata": {
        "id": "76jHFHwcCeSm"
      },
      "source": [
        "## Entrenamiento"
      ]
    },
    {
      "cell_type": "markdown",
      "metadata": {
        "id": "Eapd9-svCeSm"
      },
      "source": [
        "### Regresión Logistica"
      ]
    },
    {
      "cell_type": "markdown",
      "metadata": {
        "id": "KZG_gsm1CeSn"
      },
      "source": [
        "#### Pipeline"
      ]
    },
    {
      "cell_type": "code",
      "execution_count": null,
      "metadata": {
        "id": "4pCPTlIiCeSn"
      },
      "outputs": [],
      "source": [
        "clf_lr = Pipeline([\n",
        "    ('vect' , CountVectorizer()),\n",
        "    ('tfidf', TfidfTransformer()),\n",
        "    ('clf'  , LogisticRegression())\n",
        "])\n",
        "\n",
        "clf_lr_sw = Pipeline([\n",
        "    ('vect' , CountVectorizer(stop_words=stopwords_custom)),\n",
        "    ('tfidf', TfidfTransformer()),\n",
        "    ('clf'  , LogisticRegression())\n",
        "])"
      ]
    },
    {
      "cell_type": "markdown",
      "metadata": {
        "id": "iVB6bwuJCeSn"
      },
      "source": [
        "#### Entrenamiento"
      ]
    },
    {
      "cell_type": "code",
      "execution_count": null,
      "metadata": {
        "id": "PoaEjGLvCeSn"
      },
      "outputs": [],
      "source": [
        "clf_lr = clf_lr.fit(X_train, y_train)\n",
        "\n",
        "clf_lr_sw = clf_lr_sw.fit(X_train, y_train)\n",
        "\n",
        "clf_lr_lema = clf_lr.fit(func_lemma(X_train,stopwords_custom), y_train)"
      ]
    },
    {
      "cell_type": "markdown",
      "metadata": {
        "id": "uaZpm25RCeSn"
      },
      "source": [
        "#### Predicción ( Etiquetas )"
      ]
    },
    {
      "cell_type": "code",
      "execution_count": null,
      "metadata": {
        "id": "0qso-FWrCeSn"
      },
      "outputs": [],
      "source": [
        "y_pred_lr = clf_lr.predict(X_test)\n",
        "\n",
        "y_pred_lr_sw = clf_lr_sw.predict(X_test)\n",
        "\n",
        "y_pred_lr_lema = clf_lr_lema.predict(X_test)"
      ]
    },
    {
      "cell_type": "markdown",
      "metadata": {
        "id": "eOgL5eZ9CeSo"
      },
      "source": [
        "#### Predicción ( Probabilidad )"
      ]
    },
    {
      "cell_type": "code",
      "execution_count": null,
      "metadata": {
        "id": "h8YAArhZCeSq"
      },
      "outputs": [],
      "source": [
        "y_pred_lr_proba = clf_lr.predict_proba(X_test)\n",
        "\n",
        "y_pred_lr_sw_proba = clf_lr_sw.predict_proba(X_test)\n",
        "\n",
        "y_pred_lr_lema_proba = clf_lr_lema.predict_proba(X_test)"
      ]
    },
    {
      "cell_type": "markdown",
      "metadata": {
        "id": "GgwXDR9VCeSq"
      },
      "source": [
        "#### Evaluación"
      ]
    },
    {
      "cell_type": "code",
      "execution_count": null,
      "metadata": {
        "id": "0cO0zq6ECeSq",
        "outputId": "2f01b60d-7a01-4dfc-9764-333bea8f10fc",
        "colab": {
          "base_uri": "https://localhost:8080/"
        }
      },
      "outputs": [
        {
          "output_type": "stream",
          "name": "stdout",
          "text": [
            "Accuracy: 58.25%\n",
            "\n",
            "F1 Score: 56.80\n",
            "\n",
            "Confusion Matrix:\n",
            " [[12 26]\n",
            " [17 48]]\n"
          ]
        }
      ],
      "source": [
        "print(\"Accuracy: {:.2f}%\".format(accuracy_score(y_test, y_pred_lr_sw) * 100))\n",
        "print(\"\\nF1 Score: {:.2f}\".format(f1_score(y_test, y_pred_lr_sw, average='weighted') * 100))\n",
        "print(\"\\nConfusion Matrix:\\n\", confusion_matrix(y_test, y_pred_lr_sw))"
      ]
    },
    {
      "cell_type": "markdown",
      "metadata": {
        "id": "5VQ-iyhACeSq"
      },
      "source": [
        "### Naive Bayes Multinomial"
      ]
    },
    {
      "cell_type": "markdown",
      "metadata": {
        "id": "2mOQu4xxCeSq"
      },
      "source": [
        "#### Pipeline"
      ]
    },
    {
      "cell_type": "code",
      "execution_count": null,
      "metadata": {
        "id": "6ToQNXmzCeSr"
      },
      "outputs": [],
      "source": [
        "clf_nb = Pipeline([\n",
        "    ('vect' , CountVectorizer()),\n",
        "    ('tfidf', TfidfTransformer()),\n",
        "    ('clf'  , MultinomialNB())\n",
        "])\n",
        "\n",
        "clf_nb_sw = Pipeline([\n",
        "    ('vect' , CountVectorizer(stop_words=stopwords_custom)),\n",
        "    ('tfidf', TfidfTransformer()),\n",
        "    ('clf'  , MultinomialNB())\n",
        "])"
      ]
    },
    {
      "cell_type": "markdown",
      "metadata": {
        "id": "8lSoqCerCeSr"
      },
      "source": [
        "#### Entrenamiento"
      ]
    },
    {
      "cell_type": "code",
      "execution_count": null,
      "metadata": {
        "id": "LSoyfK9rCeSr"
      },
      "outputs": [],
      "source": [
        "clf_nb = clf_nb.fit(X_train, y_train)\n",
        "\n",
        "clf_nb_sw = clf_nb_sw.fit(X_train, y_train)\n",
        "\n",
        "clf_nb_lema = clf_nb.fit(func_lemma(X_train,stopwords_custom), y_train)"
      ]
    },
    {
      "cell_type": "markdown",
      "metadata": {
        "id": "MuAFhh8aCeSr"
      },
      "source": [
        "#### Predicción ( Etiquetas )"
      ]
    },
    {
      "cell_type": "code",
      "execution_count": null,
      "metadata": {
        "id": "xr-ECkLrCeSr"
      },
      "outputs": [],
      "source": [
        "y_pred_nb = clf_nb.predict(X_test)\n",
        "\n",
        "y_pred_nb_sw = clf_nb_sw.predict(X_test)\n",
        "\n",
        "y_pred_nb_lema = clf_nb_lema.predict(X_test)"
      ]
    },
    {
      "cell_type": "markdown",
      "metadata": {
        "id": "s1GE9K_iCeSs"
      },
      "source": [
        "#### Predicción ( Probabilidad )"
      ]
    },
    {
      "cell_type": "code",
      "execution_count": null,
      "metadata": {
        "id": "2TDUJya0CeSs"
      },
      "outputs": [],
      "source": [
        "y_pred_nb_proba = clf_nb.predict_proba(X_test)\n",
        "\n",
        "y_pred_nb_sw_proba = clf_nb_sw.predict_proba(X_test)\n",
        "\n",
        "y_pred_nb_lema_proba = clf_nb_lema.predict_proba(X_test)"
      ]
    },
    {
      "cell_type": "markdown",
      "metadata": {
        "id": "_LpVepd4CeSs"
      },
      "source": [
        "#### Evaluación"
      ]
    },
    {
      "cell_type": "code",
      "execution_count": null,
      "metadata": {
        "id": "dwlC5AITCeSt",
        "outputId": "3be4b28a-5a80-4521-af73-c00094f70784",
        "colab": {
          "base_uri": "https://localhost:8080/"
        }
      },
      "outputs": [
        {
          "output_type": "stream",
          "name": "stdout",
          "text": [
            "Accuracy: 55.34%\n",
            "\n",
            "F1 Score: 56.08\n",
            "\n",
            "Confusion Matrix:\n",
            " [[20 18]\n",
            " [28 37]]\n"
          ]
        }
      ],
      "source": [
        "print(\"Accuracy: {:.2f}%\".format(accuracy_score(y_test, y_pred_nb) * 100))\n",
        "print(\"\\nF1 Score: {:.2f}\".format(f1_score(y_test, y_pred_nb, average='weighted') * 100))\n",
        "print(\"\\nConfusion Matrix:\\n\", confusion_matrix(y_test, y_pred_nb))"
      ]
    },
    {
      "cell_type": "code",
      "execution_count": null,
      "metadata": {
        "id": "s2V0XhUmCeSt",
        "outputId": "1cd83c87-135c-4909-a2b9-92f6b27c0ea5",
        "colab": {
          "base_uri": "https://localhost:8080/"
        }
      },
      "outputs": [
        {
          "output_type": "stream",
          "name": "stdout",
          "text": [
            "Accuracy: 57.28%\n",
            "\n",
            "F1 Score: 57.81\n",
            "\n",
            "Confusion Matrix:\n",
            " [[19 19]\n",
            " [25 40]]\n"
          ]
        }
      ],
      "source": [
        "print(\"Accuracy: {:.2f}%\".format(accuracy_score(y_test, y_pred_nb_sw) * 100))\n",
        "print(\"\\nF1 Score: {:.2f}\".format(f1_score(y_test, y_pred_nb_sw, average='weighted') * 100))\n",
        "print(\"\\nConfusion Matrix:\\n\", confusion_matrix(y_test, y_pred_nb_sw))"
      ]
    },
    {
      "cell_type": "code",
      "execution_count": null,
      "metadata": {
        "id": "g1AkDYu0CeSt",
        "outputId": "1c870155-5cd9-4ae1-d842-ae4a82695a89",
        "colab": {
          "base_uri": "https://localhost:8080/"
        }
      },
      "outputs": [
        {
          "output_type": "stream",
          "name": "stdout",
          "text": [
            "Accuracy: 55.34%\n",
            "\n",
            "F1 Score: 56.08\n",
            "\n",
            "Confusion Matrix:\n",
            " [[20 18]\n",
            " [28 37]]\n"
          ]
        }
      ],
      "source": [
        "print(\"Accuracy: {:.2f}%\".format(accuracy_score(y_test, y_pred_nb_lema) * 100))\n",
        "print(\"\\nF1 Score: {:.2f}\".format(f1_score(y_test, y_pred_nb_lema, average='weighted') * 100))\n",
        "print(\"\\nConfusion Matrix:\\n\", confusion_matrix(y_test, y_pred_nb_lema))"
      ]
    },
    {
      "cell_type": "markdown",
      "metadata": {
        "id": "dJCJorGkCeSu"
      },
      "source": [
        "### Support Vector Classifier"
      ]
    },
    {
      "cell_type": "markdown",
      "metadata": {
        "id": "bRYOTXf1CeSu"
      },
      "source": [
        "#### Pipeline"
      ]
    },
    {
      "cell_type": "code",
      "execution_count": null,
      "metadata": {
        "id": "nvWkrbnyCeSu"
      },
      "outputs": [],
      "source": [
        "clf_svc = Pipeline([\n",
        "    ('vect' , CountVectorizer()),\n",
        "    ('tfidf', TfidfTransformer()),\n",
        "    ('clf'  , LinearSVC())\n",
        "])\n",
        "\n",
        "clf_svc_sw = Pipeline([\n",
        "    ('vect' , CountVectorizer(stop_words=stopwords_custom)),\n",
        "    ('tfidf', TfidfTransformer()),\n",
        "    ('clf'  , LinearSVC())\n",
        "])\n",
        "\n",
        "clf_svc_proba = Pipeline([\n",
        "    ('vect' , CountVectorizer()),\n",
        "    ('tfidf', TfidfTransformer()),\n",
        "    ('clf'  , CalibratedClassifierCV(LinearSVC()))\n",
        "])\n",
        "\n",
        "clf_svc_sw_proba = Pipeline([\n",
        "    ('vect' , CountVectorizer(stop_words=stopwords_custom)),\n",
        "    ('tfidf', TfidfTransformer()),\n",
        "    ('clf'  , CalibratedClassifierCV(LinearSVC()))\n",
        "])"
      ]
    },
    {
      "cell_type": "markdown",
      "metadata": {
        "id": "yCDqx4oKCeSv"
      },
      "source": [
        "#### Entrenamiento"
      ]
    },
    {
      "cell_type": "code",
      "execution_count": null,
      "metadata": {
        "id": "SOQYNVEJCeSv"
      },
      "outputs": [],
      "source": [
        "clf_svc = clf_svc.fit(X_train, y_train)\n",
        "\n",
        "clf_svc_sw = clf_svc_sw.fit(X_train, y_train)\n",
        "\n",
        "clf_svc_lema = clf_svc.fit(func_lemma(X_train,stopwords_custom), y_train)"
      ]
    },
    {
      "cell_type": "markdown",
      "metadata": {
        "id": "dE6UPS9NCeSv"
      },
      "source": [
        "#### Predicción ( Etiquetas )"
      ]
    },
    {
      "cell_type": "code",
      "execution_count": null,
      "metadata": {
        "id": "K4oDDbrVCeSv"
      },
      "outputs": [],
      "source": [
        "y_pred_svc = clf_svc.predict(X_test)\n",
        "\n",
        "y_pred_svc_sw = clf_svc_sw.predict(X_test)\n",
        "\n",
        "y_pred_svc_lema = clf_svc_lema.predict(X_test)"
      ]
    },
    {
      "cell_type": "markdown",
      "metadata": {
        "id": "ycizotZiCeSw"
      },
      "source": [
        "#### Predicción ( Probabilidad )"
      ]
    },
    {
      "cell_type": "code",
      "execution_count": null,
      "metadata": {
        "id": "HmdpH945CeSw"
      },
      "outputs": [],
      "source": [
        "clf_svc = clf_svc_proba.fit(X_train, y_train)\n",
        "\n",
        "clf_svc_sw = clf_svc_sw_proba.fit(X_train, y_train)\n",
        "\n",
        "clf_svc_lema = clf_svc_proba.fit(func_lemma(X_train,stopwords_custom), y_train)"
      ]
    },
    {
      "cell_type": "code",
      "execution_count": null,
      "metadata": {
        "id": "_BbFoYyDCeSw"
      },
      "outputs": [],
      "source": [
        "y_pred_svc_proba = clf_svc.predict_proba(X_test)\n",
        "\n",
        "y_pred_svc_sw_proba = clf_svc_sw.predict_proba(X_test)\n",
        "\n",
        "y_pred_svc_lema_proba = clf_svc_lema.predict_proba(X_test)"
      ]
    },
    {
      "cell_type": "markdown",
      "metadata": {
        "id": "ZnDC4yL8CeSx"
      },
      "source": [
        "#### Evaluación"
      ]
    },
    {
      "cell_type": "code",
      "execution_count": null,
      "metadata": {
        "id": "k_B0iPmVCeSx",
        "outputId": "c330c586-2676-4776-b52d-d921f472ff5b",
        "colab": {
          "base_uri": "https://localhost:8080/"
        }
      },
      "outputs": [
        {
          "output_type": "stream",
          "name": "stdout",
          "text": [
            "Accuracy: 53.40%\n",
            "\n",
            "F1 Score: 53.88\n",
            "\n",
            "Confusion Matrix:\n",
            " [[25 13]\n",
            " [35 30]]\n"
          ]
        }
      ],
      "source": [
        "print(\"Accuracy: {:.2f}%\".format(accuracy_score(y_test, y_pred_svc) * 100))\n",
        "print(\"\\nF1 Score: {:.2f}\".format(f1_score(y_test, y_pred_svc, average='weighted') * 100))\n",
        "print(\"\\nConfusion Matrix:\\n\", confusion_matrix(y_test, y_pred_svc))"
      ]
    },
    {
      "cell_type": "code",
      "execution_count": null,
      "metadata": {
        "id": "kys470NJCeSx",
        "outputId": "8c7a0234-f8b1-4d1f-f2c4-889e0576f777",
        "colab": {
          "base_uri": "https://localhost:8080/"
        }
      },
      "outputs": [
        {
          "output_type": "stream",
          "name": "stdout",
          "text": [
            "Accuracy: 61.17%\n",
            "\n",
            "F1 Score: 61.76\n",
            "\n",
            "Confusion Matrix:\n",
            " [[27 11]\n",
            " [29 36]]\n"
          ]
        }
      ],
      "source": [
        "print(\"Accuracy: {:.2f}%\".format(accuracy_score(y_test, y_pred_svc_sw) * 100))\n",
        "print(\"\\nF1 Score: {:.2f}\".format(f1_score(y_test, y_pred_svc_sw, average='weighted') * 100))\n",
        "print(\"\\nConfusion Matrix:\\n\", confusion_matrix(y_test, y_pred_svc_sw))"
      ]
    },
    {
      "cell_type": "code",
      "execution_count": null,
      "metadata": {
        "id": "Ani0Z4vgCeSx",
        "outputId": "10f83257-a7a5-4e4d-b68f-5c4dce78caac",
        "colab": {
          "base_uri": "https://localhost:8080/"
        }
      },
      "outputs": [
        {
          "output_type": "stream",
          "name": "stdout",
          "text": [
            "Accuracy: 53.40%\n",
            "\n",
            "F1 Score: 53.88\n",
            "\n",
            "Confusion Matrix:\n",
            " [[25 13]\n",
            " [35 30]]\n"
          ]
        }
      ],
      "source": [
        "print(\"Accuracy: {:.2f}%\".format(accuracy_score(y_test, y_pred_svc_lema) * 100))\n",
        "print(\"\\nF1 Score: {:.2f}\".format(f1_score(y_test, y_pred_svc_lema, average='weighted') * 100))\n",
        "print(\"\\nConfusion Matrix:\\n\", confusion_matrix(y_test, y_pred_svc_lema))"
      ]
    },
    {
      "cell_type": "markdown",
      "metadata": {
        "id": "DRuRu2bnCeSy"
      },
      "source": [
        "### Random Forest"
      ]
    },
    {
      "cell_type": "markdown",
      "metadata": {
        "id": "Tx5L1sGqCeSy"
      },
      "source": [
        "#### Pipeline"
      ]
    },
    {
      "cell_type": "code",
      "execution_count": null,
      "metadata": {
        "id": "yP4ZCKj6CeSy"
      },
      "outputs": [],
      "source": [
        "clf_rf = Pipeline([\n",
        "    ('vect' , CountVectorizer()),\n",
        "    ('tfidf', TfidfTransformer()),\n",
        "    ('clf'  , RandomForestClassifier())\n",
        "])\n",
        "\n",
        "clf_rf_sw = Pipeline([\n",
        "    ('vect' , CountVectorizer(stop_words=stopwords_custom)),\n",
        "    ('tfidf', TfidfTransformer()),\n",
        "    ('clf'  , RandomForestClassifier())\n",
        "])"
      ]
    },
    {
      "cell_type": "markdown",
      "metadata": {
        "id": "qz24iHVOCeSy"
      },
      "source": [
        "#### Entrenamiento"
      ]
    },
    {
      "cell_type": "code",
      "execution_count": null,
      "metadata": {
        "id": "QK_4hEXpCeSy"
      },
      "outputs": [],
      "source": [
        "clf_rf = clf_rf.fit(X_train, y_train)\n",
        "\n",
        "clf_rf_sw = clf_rf_sw.fit(X_train, y_train)"
      ]
    },
    {
      "cell_type": "markdown",
      "metadata": {
        "id": "XPEOKRqBCeSz"
      },
      "source": [
        "#### Predicción (Etiquetas)"
      ]
    },
    {
      "cell_type": "code",
      "execution_count": null,
      "metadata": {
        "id": "9HnRcWWECeSz"
      },
      "outputs": [],
      "source": [
        "y_pred_rf = clf_rf.predict(X_test)\n",
        "\n",
        "y_pred_rf_sw = clf_rf_sw.predict(X_test)"
      ]
    },
    {
      "cell_type": "markdown",
      "metadata": {
        "id": "NOKoZ8jtCeS0"
      },
      "source": [
        "#### Predicción (Probabilidad)"
      ]
    },
    {
      "cell_type": "code",
      "execution_count": null,
      "metadata": {
        "id": "7ncVXhpaCeS0"
      },
      "outputs": [],
      "source": [
        "y_pred_rf_proba = clf_rf.predict_proba(X_test)\n",
        "\n",
        "y_pred_rf_sw_proba = clf_rf_sw.predict_proba(X_test)"
      ]
    },
    {
      "cell_type": "code",
      "execution_count": null,
      "metadata": {
        "id": "ynn4ZggfCeS0",
        "outputId": "9ea2b57b-8fd1-4e02-dfdc-a5c4ced2c635",
        "colab": {
          "base_uri": "https://localhost:8080/"
        }
      },
      "outputs": [
        {
          "output_type": "stream",
          "name": "stdout",
          "text": [
            "Accuracy: 66.02%\n",
            "\n",
            "F1 Score: 66.55\n",
            "\n",
            "Confusion Matrix:\n",
            " [[25 13]\n",
            " [22 43]]\n"
          ]
        }
      ],
      "source": [
        "print(\"Accuracy: {:.2f}%\".format(accuracy_score(y_test, y_pred_rf) * 100))\n",
        "print(\"\\nF1 Score: {:.2f}\".format(f1_score(y_test, y_pred_rf, average='weighted') * 100))\n",
        "print(\"\\nConfusion Matrix:\\n\", confusion_matrix(y_test, y_pred_rf))"
      ]
    },
    {
      "cell_type": "markdown",
      "metadata": {
        "id": "ACTJZDUVCeS1"
      },
      "source": [
        "### XGBoost"
      ]
    },
    {
      "cell_type": "markdown",
      "metadata": {
        "id": "LT1VrEQeCeS1"
      },
      "source": [
        "#### Mapeo etiquetas"
      ]
    },
    {
      "cell_type": "code",
      "execution_count": null,
      "metadata": {
        "id": "Mmz4_2o4CeS1"
      },
      "outputs": [],
      "source": [
        "y_train_gb = data_train[\"Category\"].map({'Neutro': 1, 'Compra': 0}).to_list()\n",
        "y_test_gb = data_test[\"Category\"].map({'Neutro': 1, 'Compra': 0}).to_list()"
      ]
    },
    {
      "cell_type": "code",
      "execution_count": null,
      "metadata": {
        "id": "E7d9nj7XCeS1"
      },
      "outputs": [],
      "source": [
        "def map_value(value):\n",
        "    if value == 0:\n",
        "        return \"Compra\"\n",
        "    else:\n",
        "        return \"Neutro\""
      ]
    },
    {
      "cell_type": "markdown",
      "metadata": {
        "id": "oWowmK-zCeS1"
      },
      "source": [
        "#### Pipeline"
      ]
    },
    {
      "cell_type": "code",
      "execution_count": null,
      "metadata": {
        "id": "CGwoDhHGCeS2"
      },
      "outputs": [],
      "source": [
        "clf_xgb = Pipeline([\n",
        "    ('vect' , CountVectorizer()),\n",
        "    ('tfidf', TfidfTransformer()),\n",
        "    ('clf'  , XGBClassifier())\n",
        "])\n",
        "\n",
        "clf_xgb_sw = Pipeline([\n",
        "    ('vect' , CountVectorizer(stop_words=stopwords_custom)),\n",
        "    ('tfidf', TfidfTransformer()),\n",
        "    ('clf'  , XGBClassifier())\n",
        "])"
      ]
    },
    {
      "cell_type": "markdown",
      "metadata": {
        "id": "MH_G77mmCeS2"
      },
      "source": [
        "#### Entrenamiento"
      ]
    },
    {
      "cell_type": "code",
      "execution_count": null,
      "metadata": {
        "id": "bfvIVcZLCeS2"
      },
      "outputs": [],
      "source": [
        "clf_xgb = clf_xgb.fit(X_train, y_train_gb)\n",
        "\n",
        "clf_xgb_sw = clf_xgb_sw.fit(X_train, y_train_gb)"
      ]
    },
    {
      "cell_type": "markdown",
      "metadata": {
        "id": "J_VVYGuwCeS2"
      },
      "source": [
        "#### Predicción (Etiquetas)"
      ]
    },
    {
      "cell_type": "code",
      "execution_count": null,
      "metadata": {
        "id": "v4JXk0iKCeS3"
      },
      "outputs": [],
      "source": [
        "y_pred_xgb = clf_xgb.predict(X_test)\n",
        "\n",
        "y_pred_xgb_sw = clf_xgb_sw.predict(X_test)"
      ]
    },
    {
      "cell_type": "markdown",
      "metadata": {
        "id": "zrgqPwupCeS3"
      },
      "source": [
        "#### Predicción (Probabilidad)"
      ]
    },
    {
      "cell_type": "code",
      "execution_count": null,
      "metadata": {
        "id": "3ue8LGhsCeS3"
      },
      "outputs": [],
      "source": [
        "y_pred_xgb_proba = clf_xgb.predict_proba(X_test)\n",
        "\n",
        "y_pred_xgb_sw_proba = clf_xgb_sw.predict_proba(X_test)"
      ]
    },
    {
      "cell_type": "markdown",
      "metadata": {
        "id": "2lU4Lna9CeS3"
      },
      "source": [
        "#### Evaluación"
      ]
    },
    {
      "cell_type": "code",
      "execution_count": null,
      "metadata": {
        "id": "iy_4TZnJCeS3",
        "outputId": "18b0a736-0a54-4026-9a24-3894f589f47d",
        "colab": {
          "base_uri": "https://localhost:8080/"
        }
      },
      "outputs": [
        {
          "output_type": "stream",
          "name": "stdout",
          "text": [
            "Accuracy: 58.25%\n",
            "\n",
            "F1 Score: 58.25\n",
            "\n",
            "Confusion Matrix:\n",
            " [[30  8]\n",
            " [35 30]]\n"
          ]
        }
      ],
      "source": [
        "print(\"Accuracy: {:.2f}%\".format(accuracy_score(y_test_gb, y_pred_xgb_sw) * 100))\n",
        "print(\"\\nF1 Score: {:.2f}\".format(f1_score(y_test_gb, y_pred_xgb_sw, average='weighted') * 100))\n",
        "print(\"\\nConfusion Matrix:\\n\", confusion_matrix(y_test_gb, y_pred_xgb_sw))"
      ]
    },
    {
      "cell_type": "markdown",
      "metadata": {
        "id": "9rIhYHlBCeS4"
      },
      "source": [
        "#### Remapeo de etiquetas"
      ]
    },
    {
      "cell_type": "code",
      "execution_count": null,
      "metadata": {
        "id": "UcX-q0l9CeS4"
      },
      "outputs": [],
      "source": [
        "y_pred_xgb = [map_value(value) for value in y_pred_xgb]\n",
        "y_pred_xgb_sw = [map_value(value) for value in y_pred_xgb_sw]"
      ]
    },
    {
      "cell_type": "markdown",
      "metadata": {
        "id": "0LH-0UzzCeS4"
      },
      "source": [
        "### LightGBM"
      ]
    },
    {
      "cell_type": "markdown",
      "metadata": {
        "id": "l9We4l4dCeS4"
      },
      "source": [
        "#### Pipeline"
      ]
    },
    {
      "cell_type": "code",
      "execution_count": null,
      "metadata": {
        "id": "yAvbDMLnCeS5"
      },
      "outputs": [],
      "source": [
        "clf_lgbm = Pipeline([\n",
        "    ('vect' , CountVectorizer()),\n",
        "    ('tfidf', TfidfTransformer()),\n",
        "    ('clf'  , LGBMClassifier())\n",
        "])\n",
        "\n",
        "clf_lgbm_sw = Pipeline([\n",
        "    ('vect' , CountVectorizer(stop_words=stopwords_custom)),\n",
        "    ('tfidf', TfidfTransformer()),\n",
        "    ('clf'  , LGBMClassifier())\n",
        "])"
      ]
    },
    {
      "cell_type": "markdown",
      "metadata": {
        "id": "tzoau_6wCeS5"
      },
      "source": [
        "#### Entrenamiento"
      ]
    },
    {
      "cell_type": "code",
      "execution_count": null,
      "metadata": {
        "id": "1PvlEAplCeS5",
        "outputId": "a367165d-1a3d-4c0b-df52-703a177ee49b",
        "colab": {
          "base_uri": "https://localhost:8080/"
        }
      },
      "outputs": [
        {
          "output_type": "stream",
          "name": "stdout",
          "text": [
            "[LightGBM] [Info] Number of positive: 180, number of negative: 128\n",
            "[LightGBM] [Info] Auto-choosing col-wise multi-threading, the overhead of testing was 0.000282 seconds.\n",
            "You can set `force_col_wise=true` to remove the overhead.\n",
            "[LightGBM] [Info] Total Bins 1209\n",
            "[LightGBM] [Info] Number of data points in the train set: 308, number of used features: 71\n",
            "[LightGBM] [Info] [binary:BoostFromScore]: pavg=0.584416 -> initscore=0.340927\n",
            "[LightGBM] [Info] Start training from score 0.340927\n",
            "[LightGBM] [Warning] No further splits with positive gain, best gain: -inf\n",
            "[LightGBM] [Warning] No further splits with positive gain, best gain: -inf\n",
            "[LightGBM] [Warning] No further splits with positive gain, best gain: -inf\n",
            "[LightGBM] [Warning] No further splits with positive gain, best gain: -inf\n",
            "[LightGBM] [Warning] No further splits with positive gain, best gain: -inf\n",
            "[LightGBM] [Warning] No further splits with positive gain, best gain: -inf\n",
            "[LightGBM] [Warning] No further splits with positive gain, best gain: -inf\n",
            "[LightGBM] [Warning] No further splits with positive gain, best gain: -inf\n",
            "[LightGBM] [Warning] No further splits with positive gain, best gain: -inf\n",
            "[LightGBM] [Warning] No further splits with positive gain, best gain: -inf\n",
            "[LightGBM] [Warning] No further splits with positive gain, best gain: -inf\n",
            "[LightGBM] [Warning] No further splits with positive gain, best gain: -inf\n",
            "[LightGBM] [Warning] No further splits with positive gain, best gain: -inf\n",
            "[LightGBM] [Warning] No further splits with positive gain, best gain: -inf\n",
            "[LightGBM] [Warning] No further splits with positive gain, best gain: -inf\n",
            "[LightGBM] [Warning] No further splits with positive gain, best gain: -inf\n",
            "[LightGBM] [Warning] No further splits with positive gain, best gain: -inf\n",
            "[LightGBM] [Warning] No further splits with positive gain, best gain: -inf\n",
            "[LightGBM] [Warning] No further splits with positive gain, best gain: -inf\n",
            "[LightGBM] [Warning] No further splits with positive gain, best gain: -inf\n",
            "[LightGBM] [Warning] No further splits with positive gain, best gain: -inf\n",
            "[LightGBM] [Warning] No further splits with positive gain, best gain: -inf\n",
            "[LightGBM] [Warning] No further splits with positive gain, best gain: -inf\n",
            "[LightGBM] [Warning] No further splits with positive gain, best gain: -inf\n",
            "[LightGBM] [Warning] No further splits with positive gain, best gain: -inf\n",
            "[LightGBM] [Warning] No further splits with positive gain, best gain: -inf\n",
            "[LightGBM] [Warning] No further splits with positive gain, best gain: -inf\n",
            "[LightGBM] [Warning] No further splits with positive gain, best gain: -inf\n",
            "[LightGBM] [Warning] No further splits with positive gain, best gain: -inf\n",
            "[LightGBM] [Warning] No further splits with positive gain, best gain: -inf\n",
            "[LightGBM] [Warning] No further splits with positive gain, best gain: -inf\n",
            "[LightGBM] [Warning] No further splits with positive gain, best gain: -inf\n",
            "[LightGBM] [Warning] No further splits with positive gain, best gain: -inf\n",
            "[LightGBM] [Warning] No further splits with positive gain, best gain: -inf\n",
            "[LightGBM] [Warning] No further splits with positive gain, best gain: -inf\n",
            "[LightGBM] [Warning] No further splits with positive gain, best gain: -inf\n",
            "[LightGBM] [Warning] No further splits with positive gain, best gain: -inf\n",
            "[LightGBM] [Warning] No further splits with positive gain, best gain: -inf\n",
            "[LightGBM] [Warning] No further splits with positive gain, best gain: -inf\n",
            "[LightGBM] [Warning] No further splits with positive gain, best gain: -inf\n",
            "[LightGBM] [Warning] No further splits with positive gain, best gain: -inf\n",
            "[LightGBM] [Warning] No further splits with positive gain, best gain: -inf\n",
            "[LightGBM] [Warning] No further splits with positive gain, best gain: -inf\n",
            "[LightGBM] [Warning] No further splits with positive gain, best gain: -inf\n",
            "[LightGBM] [Warning] No further splits with positive gain, best gain: -inf\n",
            "[LightGBM] [Warning] No further splits with positive gain, best gain: -inf\n",
            "[LightGBM] [Warning] No further splits with positive gain, best gain: -inf\n",
            "[LightGBM] [Warning] No further splits with positive gain, best gain: -inf\n",
            "[LightGBM] [Warning] No further splits with positive gain, best gain: -inf\n",
            "[LightGBM] [Warning] No further splits with positive gain, best gain: -inf\n",
            "[LightGBM] [Warning] No further splits with positive gain, best gain: -inf\n",
            "[LightGBM] [Warning] No further splits with positive gain, best gain: -inf\n",
            "[LightGBM] [Warning] No further splits with positive gain, best gain: -inf\n",
            "[LightGBM] [Warning] No further splits with positive gain, best gain: -inf\n",
            "[LightGBM] [Warning] No further splits with positive gain, best gain: -inf\n",
            "[LightGBM] [Warning] No further splits with positive gain, best gain: -inf\n",
            "[LightGBM] [Warning] No further splits with positive gain, best gain: -inf\n",
            "[LightGBM] [Warning] No further splits with positive gain, best gain: -inf\n",
            "[LightGBM] [Warning] No further splits with positive gain, best gain: -inf\n",
            "[LightGBM] [Warning] No further splits with positive gain, best gain: -inf\n",
            "[LightGBM] [Warning] No further splits with positive gain, best gain: -inf\n",
            "[LightGBM] [Warning] No further splits with positive gain, best gain: -inf\n",
            "[LightGBM] [Warning] No further splits with positive gain, best gain: -inf\n",
            "[LightGBM] [Warning] No further splits with positive gain, best gain: -inf\n",
            "[LightGBM] [Warning] No further splits with positive gain, best gain: -inf\n",
            "[LightGBM] [Warning] No further splits with positive gain, best gain: -inf\n",
            "[LightGBM] [Warning] No further splits with positive gain, best gain: -inf\n",
            "[LightGBM] [Warning] No further splits with positive gain, best gain: -inf\n",
            "[LightGBM] [Warning] No further splits with positive gain, best gain: -inf\n",
            "[LightGBM] [Warning] No further splits with positive gain, best gain: -inf\n",
            "[LightGBM] [Warning] No further splits with positive gain, best gain: -inf\n",
            "[LightGBM] [Warning] No further splits with positive gain, best gain: -inf\n",
            "[LightGBM] [Warning] No further splits with positive gain, best gain: -inf\n",
            "[LightGBM] [Warning] No further splits with positive gain, best gain: -inf\n",
            "[LightGBM] [Warning] No further splits with positive gain, best gain: -inf\n",
            "[LightGBM] [Warning] No further splits with positive gain, best gain: -inf\n",
            "[LightGBM] [Warning] No further splits with positive gain, best gain: -inf\n",
            "[LightGBM] [Warning] No further splits with positive gain, best gain: -inf\n",
            "[LightGBM] [Warning] No further splits with positive gain, best gain: -inf\n",
            "[LightGBM] [Warning] No further splits with positive gain, best gain: -inf\n",
            "[LightGBM] [Warning] No further splits with positive gain, best gain: -inf\n",
            "[LightGBM] [Warning] No further splits with positive gain, best gain: -inf\n",
            "[LightGBM] [Warning] No further splits with positive gain, best gain: -inf\n",
            "[LightGBM] [Warning] No further splits with positive gain, best gain: -inf\n",
            "[LightGBM] [Warning] No further splits with positive gain, best gain: -inf\n",
            "[LightGBM] [Warning] No further splits with positive gain, best gain: -inf\n",
            "[LightGBM] [Warning] No further splits with positive gain, best gain: -inf\n",
            "[LightGBM] [Warning] No further splits with positive gain, best gain: -inf\n",
            "[LightGBM] [Warning] No further splits with positive gain, best gain: -inf\n",
            "[LightGBM] [Warning] No further splits with positive gain, best gain: -inf\n",
            "[LightGBM] [Warning] No further splits with positive gain, best gain: -inf\n",
            "[LightGBM] [Warning] No further splits with positive gain, best gain: -inf\n",
            "[LightGBM] [Warning] No further splits with positive gain, best gain: -inf\n",
            "[LightGBM] [Warning] No further splits with positive gain, best gain: -inf\n",
            "[LightGBM] [Warning] No further splits with positive gain, best gain: -inf\n",
            "[LightGBM] [Warning] No further splits with positive gain, best gain: -inf\n",
            "[LightGBM] [Warning] No further splits with positive gain, best gain: -inf\n",
            "[LightGBM] [Warning] No further splits with positive gain, best gain: -inf\n",
            "[LightGBM] [Warning] No further splits with positive gain, best gain: -inf\n",
            "[LightGBM] [Warning] No further splits with positive gain, best gain: -inf\n",
            "[LightGBM] [Info] Number of positive: 180, number of negative: 128\n",
            "[LightGBM] [Info] Auto-choosing row-wise multi-threading, the overhead of testing was 0.000201 seconds.\n",
            "You can set `force_row_wise=true` to remove the overhead.\n",
            "And if memory is not enough, you can set `force_col_wise=true`.\n",
            "[LightGBM] [Info] Total Bins 592\n",
            "[LightGBM] [Info] Number of data points in the train set: 308, number of used features: 39\n",
            "[LightGBM] [Info] [binary:BoostFromScore]: pavg=0.584416 -> initscore=0.340927\n",
            "[LightGBM] [Info] Start training from score 0.340927\n",
            "[LightGBM] [Warning] No further splits with positive gain, best gain: -inf\n",
            "[LightGBM] [Warning] No further splits with positive gain, best gain: -inf\n",
            "[LightGBM] [Warning] No further splits with positive gain, best gain: -inf\n",
            "[LightGBM] [Warning] No further splits with positive gain, best gain: -inf\n",
            "[LightGBM] [Warning] No further splits with positive gain, best gain: -inf\n",
            "[LightGBM] [Warning] No further splits with positive gain, best gain: -inf\n",
            "[LightGBM] [Warning] No further splits with positive gain, best gain: -inf\n",
            "[LightGBM] [Warning] No further splits with positive gain, best gain: -inf\n",
            "[LightGBM] [Warning] No further splits with positive gain, best gain: -inf\n",
            "[LightGBM] [Warning] No further splits with positive gain, best gain: -inf\n",
            "[LightGBM] [Warning] No further splits with positive gain, best gain: -inf\n",
            "[LightGBM] [Warning] No further splits with positive gain, best gain: -inf\n",
            "[LightGBM] [Warning] No further splits with positive gain, best gain: -inf\n",
            "[LightGBM] [Warning] No further splits with positive gain, best gain: -inf\n",
            "[LightGBM] [Warning] No further splits with positive gain, best gain: -inf\n",
            "[LightGBM] [Warning] No further splits with positive gain, best gain: -inf\n",
            "[LightGBM] [Warning] No further splits with positive gain, best gain: -inf\n",
            "[LightGBM] [Warning] No further splits with positive gain, best gain: -inf\n",
            "[LightGBM] [Warning] No further splits with positive gain, best gain: -inf\n",
            "[LightGBM] [Warning] No further splits with positive gain, best gain: -inf\n",
            "[LightGBM] [Warning] No further splits with positive gain, best gain: -inf\n",
            "[LightGBM] [Warning] No further splits with positive gain, best gain: -inf\n",
            "[LightGBM] [Warning] No further splits with positive gain, best gain: -inf\n",
            "[LightGBM] [Warning] No further splits with positive gain, best gain: -inf\n",
            "[LightGBM] [Warning] No further splits with positive gain, best gain: -inf\n",
            "[LightGBM] [Warning] No further splits with positive gain, best gain: -inf\n",
            "[LightGBM] [Warning] No further splits with positive gain, best gain: -inf\n",
            "[LightGBM] [Warning] No further splits with positive gain, best gain: -inf\n",
            "[LightGBM] [Warning] No further splits with positive gain, best gain: -inf\n",
            "[LightGBM] [Warning] No further splits with positive gain, best gain: -inf\n",
            "[LightGBM] [Warning] No further splits with positive gain, best gain: -inf\n",
            "[LightGBM] [Warning] No further splits with positive gain, best gain: -inf\n",
            "[LightGBM] [Warning] No further splits with positive gain, best gain: -inf\n",
            "[LightGBM] [Warning] No further splits with positive gain, best gain: -inf\n",
            "[LightGBM] [Warning] No further splits with positive gain, best gain: -inf\n",
            "[LightGBM] [Warning] No further splits with positive gain, best gain: -inf\n",
            "[LightGBM] [Warning] No further splits with positive gain, best gain: -inf\n",
            "[LightGBM] [Warning] No further splits with positive gain, best gain: -inf\n",
            "[LightGBM] [Warning] No further splits with positive gain, best gain: -inf\n",
            "[LightGBM] [Warning] No further splits with positive gain, best gain: -inf\n",
            "[LightGBM] [Warning] No further splits with positive gain, best gain: -inf\n",
            "[LightGBM] [Warning] No further splits with positive gain, best gain: -inf\n",
            "[LightGBM] [Warning] No further splits with positive gain, best gain: -inf\n",
            "[LightGBM] [Warning] No further splits with positive gain, best gain: -inf\n",
            "[LightGBM] [Warning] No further splits with positive gain, best gain: -inf\n",
            "[LightGBM] [Warning] No further splits with positive gain, best gain: -inf\n",
            "[LightGBM] [Warning] No further splits with positive gain, best gain: -inf\n",
            "[LightGBM] [Warning] No further splits with positive gain, best gain: -inf\n",
            "[LightGBM] [Warning] No further splits with positive gain, best gain: -inf\n",
            "[LightGBM] [Warning] No further splits with positive gain, best gain: -inf\n",
            "[LightGBM] [Warning] No further splits with positive gain, best gain: -inf\n",
            "[LightGBM] [Warning] No further splits with positive gain, best gain: -inf\n",
            "[LightGBM] [Warning] No further splits with positive gain, best gain: -inf\n",
            "[LightGBM] [Warning] No further splits with positive gain, best gain: -inf\n",
            "[LightGBM] [Warning] No further splits with positive gain, best gain: -inf\n",
            "[LightGBM] [Warning] No further splits with positive gain, best gain: -inf\n",
            "[LightGBM] [Warning] No further splits with positive gain, best gain: -inf\n",
            "[LightGBM] [Warning] No further splits with positive gain, best gain: -inf\n",
            "[LightGBM] [Warning] No further splits with positive gain, best gain: -inf\n",
            "[LightGBM] [Warning] No further splits with positive gain, best gain: -inf\n",
            "[LightGBM] [Warning] No further splits with positive gain, best gain: -inf\n",
            "[LightGBM] [Warning] No further splits with positive gain, best gain: -inf\n",
            "[LightGBM] [Warning] No further splits with positive gain, best gain: -inf\n",
            "[LightGBM] [Warning] No further splits with positive gain, best gain: -inf\n",
            "[LightGBM] [Warning] No further splits with positive gain, best gain: -inf\n",
            "[LightGBM] [Warning] No further splits with positive gain, best gain: -inf\n",
            "[LightGBM] [Warning] No further splits with positive gain, best gain: -inf\n",
            "[LightGBM] [Warning] No further splits with positive gain, best gain: -inf\n",
            "[LightGBM] [Warning] No further splits with positive gain, best gain: -inf\n",
            "[LightGBM] [Warning] No further splits with positive gain, best gain: -inf\n",
            "[LightGBM] [Warning] No further splits with positive gain, best gain: -inf\n",
            "[LightGBM] [Warning] No further splits with positive gain, best gain: -inf\n",
            "[LightGBM] [Warning] No further splits with positive gain, best gain: -inf\n",
            "[LightGBM] [Warning] No further splits with positive gain, best gain: -inf\n",
            "[LightGBM] [Warning] No further splits with positive gain, best gain: -inf\n",
            "[LightGBM] [Warning] No further splits with positive gain, best gain: -inf\n",
            "[LightGBM] [Warning] No further splits with positive gain, best gain: -inf\n",
            "[LightGBM] [Warning] No further splits with positive gain, best gain: -inf\n",
            "[LightGBM] [Warning] No further splits with positive gain, best gain: -inf\n",
            "[LightGBM] [Warning] No further splits with positive gain, best gain: -inf\n",
            "[LightGBM] [Warning] No further splits with positive gain, best gain: -inf\n",
            "[LightGBM] [Warning] No further splits with positive gain, best gain: -inf\n",
            "[LightGBM] [Warning] No further splits with positive gain, best gain: -inf\n",
            "[LightGBM] [Warning] No further splits with positive gain, best gain: -inf\n",
            "[LightGBM] [Warning] No further splits with positive gain, best gain: -inf\n",
            "[LightGBM] [Warning] No further splits with positive gain, best gain: -inf\n",
            "[LightGBM] [Warning] No further splits with positive gain, best gain: -inf\n",
            "[LightGBM] [Warning] No further splits with positive gain, best gain: -inf\n",
            "[LightGBM] [Warning] No further splits with positive gain, best gain: -inf\n",
            "[LightGBM] [Warning] No further splits with positive gain, best gain: -inf\n",
            "[LightGBM] [Warning] No further splits with positive gain, best gain: -inf\n",
            "[LightGBM] [Warning] No further splits with positive gain, best gain: -inf\n",
            "[LightGBM] [Warning] No further splits with positive gain, best gain: -inf\n",
            "[LightGBM] [Warning] No further splits with positive gain, best gain: -inf\n",
            "[LightGBM] [Warning] No further splits with positive gain, best gain: -inf\n",
            "[LightGBM] [Warning] No further splits with positive gain, best gain: -inf\n",
            "[LightGBM] [Warning] No further splits with positive gain, best gain: -inf\n",
            "[LightGBM] [Warning] No further splits with positive gain, best gain: -inf\n",
            "[LightGBM] [Warning] No further splits with positive gain, best gain: -inf\n",
            "[LightGBM] [Warning] No further splits with positive gain, best gain: -inf\n"
          ]
        }
      ],
      "source": [
        "clf_lgbm = clf_lgbm.fit(X_train, y_train_gb)\n",
        "\n",
        "clf_lgbm_sw = clf_lgbm_sw.fit(X_train, y_train_gb)"
      ]
    },
    {
      "cell_type": "markdown",
      "metadata": {
        "id": "IzJgJ2ExCeS5"
      },
      "source": [
        "#### Predicción (Etiquetas)"
      ]
    },
    {
      "cell_type": "code",
      "execution_count": null,
      "metadata": {
        "id": "z8Gqehe0CeS5"
      },
      "outputs": [],
      "source": [
        "y_pred_lgbm = clf_lgbm.predict(X_test)\n",
        "\n",
        "y_pred_lgbm_sw = clf_lgbm_sw.predict(X_test)"
      ]
    },
    {
      "cell_type": "markdown",
      "metadata": {
        "id": "wHEl_xZ0CeS6"
      },
      "source": [
        "#### Predicción (Probabilidad)"
      ]
    },
    {
      "cell_type": "code",
      "execution_count": null,
      "metadata": {
        "id": "oj36mQbYCeS6"
      },
      "outputs": [],
      "source": [
        "y_pred_lgbm_proba = clf_lgbm.predict_proba(X_test)\n",
        "\n",
        "y_pred_lgbm_sw_proba = clf_lgbm_sw.predict_proba(X_test)"
      ]
    },
    {
      "cell_type": "markdown",
      "metadata": {
        "id": "QCt_UkuvCeS6"
      },
      "source": [
        "#### Evaluación"
      ]
    },
    {
      "cell_type": "code",
      "execution_count": null,
      "metadata": {
        "id": "EszDCezdCeS6",
        "outputId": "2c757e44-d1f5-4853-da74-d0935dc7b509",
        "colab": {
          "base_uri": "https://localhost:8080/"
        }
      },
      "outputs": [
        {
          "output_type": "stream",
          "name": "stdout",
          "text": [
            "Accuracy: 62.14%\n",
            "\n",
            "F1 Score: 62.68\n",
            "\n",
            "Confusion Matrix:\n",
            " [[28 10]\n",
            " [29 36]]\n"
          ]
        }
      ],
      "source": [
        "print(\"Accuracy: {:.2f}%\".format(accuracy_score(y_test_gb, y_pred_lgbm_sw) * 100))\n",
        "print(\"\\nF1 Score: {:.2f}\".format(f1_score(y_test_gb, y_pred_lgbm_sw, average='weighted') * 100))\n",
        "print(\"\\nConfusion Matrix:\\n\", confusion_matrix(y_test_gb, y_pred_lgbm_sw))"
      ]
    },
    {
      "cell_type": "markdown",
      "metadata": {
        "id": "8i-gGxesCeS7"
      },
      "source": [
        "#### Remapeo de etiquetas"
      ]
    },
    {
      "cell_type": "code",
      "execution_count": null,
      "metadata": {
        "id": "DCttBIC8CeS7"
      },
      "outputs": [],
      "source": [
        "y_pred_lgbm = [map_value(value) for value in y_pred_lgbm]\n",
        "y_pred_lgbm_sw = [map_value(value) for value in y_pred_lgbm_sw]"
      ]
    },
    {
      "cell_type": "markdown",
      "metadata": {
        "id": "SYWt_oATCeS7"
      },
      "source": [
        "### Word2Vec"
      ]
    },
    {
      "cell_type": "code",
      "source": [
        "import gensim\n",
        "from google.colab import drive"
      ],
      "metadata": {
        "id": "5xdNRxFy-aTF"
      },
      "execution_count": null,
      "outputs": []
    },
    {
      "cell_type": "code",
      "source": [
        "drive.mount('/content/drive')\n",
        "path_to_model = '/content/drive/My Drive/GoogleNews-vectors-negative300.bin.gz'"
      ],
      "metadata": {
        "id": "eWQriI0w-fQe",
        "outputId": "fe8a996b-baf8-41e1-9892-c99168e230f9",
        "colab": {
          "base_uri": "https://localhost:8080/"
        }
      },
      "execution_count": null,
      "outputs": [
        {
          "output_type": "stream",
          "name": "stdout",
          "text": [
            "Mounted at /content/drive\n"
          ]
        }
      ]
    },
    {
      "cell_type": "code",
      "execution_count": null,
      "metadata": {
        "id": "xeI_c1VdCeS8"
      },
      "outputs": [],
      "source": [
        "GoogleModel = gensim.models.KeyedVectors.load_word2vec_format(path_to_model, binary = True)"
      ]
    },
    {
      "cell_type": "code",
      "execution_count": null,
      "metadata": {
        "id": "3Fn7I2zRCeS8"
      },
      "outputs": [],
      "source": [
        "\n",
        "corpus = data['Text'].values\n",
        "\n",
        "vectorizer = CountVectorizer(stop_words = stopwords_custom)\n",
        "\n",
        "X = vectorizer.fit_transform(corpus)\n",
        "\n",
        "CountVectorizedData = pd.DataFrame(X.toarray(), columns = vectorizer.get_feature_names_out())\n",
        "CountVectorizedData['Category'] = data['Category']\n",
        "CountVectorizedData['Split'] = data['Train/Test']\n",
        "\n",
        "WordsVocab = CountVectorizedData.columns[:-2]"
      ]
    },
    {
      "cell_type": "code",
      "execution_count": null,
      "metadata": {
        "id": "XzmoMScMCeS8"
      },
      "outputs": [],
      "source": [
        "def FunctionText2Vec(inpTextData):\n",
        "    X = vectorizer.transform(inpTextData)\n",
        "    CountVecData=pd.DataFrame(X.toarray(), columns=vectorizer.get_feature_names_out())\n",
        "\n",
        "    W2Vec_Data=pd.DataFrame()\n",
        "\n",
        "    for i in range(CountVecData.shape[0]):\n",
        "\n",
        "        Sentence = np.zeros(300)\n",
        "\n",
        "        for word in WordsVocab[CountVecData.iloc[i , :]>=1]:\n",
        "            if word in GoogleModel.key_to_index.keys():\n",
        "                Sentence = Sentence+GoogleModel[word]\n",
        "        #W2Vec_Data=W2Vec_Data.concat(pd.DataFrame([Sentence])) #Original\n",
        "        W2Vec_Data = pd.concat([W2Vec_Data, pd.DataFrame([Sentence])], ignore_index = True) #New pandas\n",
        "    return(W2Vec_Data)"
      ]
    },
    {
      "cell_type": "code",
      "execution_count": null,
      "metadata": {
        "id": "sPdLKEqYCeS8"
      },
      "outputs": [],
      "source": [
        "W2Vec_Data = FunctionText2Vec(data['Text'])"
      ]
    },
    {
      "cell_type": "code",
      "execution_count": null,
      "metadata": {
        "id": "W-bwk31OCeS9",
        "outputId": "5b24a63f-fe2e-42e4-9154-1ef66df02ccd",
        "colab": {
          "base_uri": "https://localhost:8080/",
          "height": 256
        }
      },
      "outputs": [
        {
          "output_type": "execute_result",
          "data": {
            "text/plain": [
              "          0         1         2         3         4         5         6  \\\n",
              "0  0.993988  1.377808  1.045593  1.776993 -1.308594 -2.801086  0.631714   \n",
              "1  0.056824  0.181641 -0.694702  1.498047 -0.327393 -1.120605  0.333801   \n",
              "2 -0.704102  0.524414  0.216064  0.533813  0.538696  0.310791  0.036621   \n",
              "3 -0.646301 -0.078735 -0.648926  0.744873 -0.374451 -0.617096 -0.742462   \n",
              "4  0.058350 -0.302002 -0.020386  0.177002 -0.319519 -0.115234 -0.181396   \n",
              "\n",
              "          7         8         9  ...       292       293       294       295  \\\n",
              "0 -1.137207  1.877014  1.959991  ... -0.158020 -0.013189 -1.119232  0.331848   \n",
              "1 -0.985718  1.250687 -0.786865  ... -0.937500 -0.596313 -0.131592 -0.105347   \n",
              "2 -0.936646  0.510941  1.198730  ... -0.263672  0.795654 -0.270874  0.714478   \n",
              "3 -0.669250  2.727539  1.087158  ... -0.792389  0.043381 -0.130150 -0.974213   \n",
              "4  0.215790  0.025589 -0.168213  ... -0.454418  0.795898  0.188599 -0.175293   \n",
              "\n",
              "        296       297       298       299  Category  Split  \n",
              "0  0.115206 -0.099426  0.951538  1.363281    Neutro   Test  \n",
              "1 -0.073975  1.543640 -0.341553 -0.730591    Neutro   Test  \n",
              "2  0.007568 -0.228027  0.162048  0.403198    Compra   Test  \n",
              "3 -0.103516  0.737793  0.214661 -0.104492    Compra   Test  \n",
              "4 -0.145020 -0.206543 -0.597595  0.203598    Compra   Test  \n",
              "\n",
              "[5 rows x 302 columns]"
            ],
            "text/html": [
              "\n",
              "  <div id=\"df-9952cba3-18dd-41ba-a1d7-ba8b1dc03e03\" class=\"colab-df-container\">\n",
              "    <div>\n",
              "<style scoped>\n",
              "    .dataframe tbody tr th:only-of-type {\n",
              "        vertical-align: middle;\n",
              "    }\n",
              "\n",
              "    .dataframe tbody tr th {\n",
              "        vertical-align: top;\n",
              "    }\n",
              "\n",
              "    .dataframe thead th {\n",
              "        text-align: right;\n",
              "    }\n",
              "</style>\n",
              "<table border=\"1\" class=\"dataframe\">\n",
              "  <thead>\n",
              "    <tr style=\"text-align: right;\">\n",
              "      <th></th>\n",
              "      <th>0</th>\n",
              "      <th>1</th>\n",
              "      <th>2</th>\n",
              "      <th>3</th>\n",
              "      <th>4</th>\n",
              "      <th>5</th>\n",
              "      <th>6</th>\n",
              "      <th>7</th>\n",
              "      <th>8</th>\n",
              "      <th>9</th>\n",
              "      <th>...</th>\n",
              "      <th>292</th>\n",
              "      <th>293</th>\n",
              "      <th>294</th>\n",
              "      <th>295</th>\n",
              "      <th>296</th>\n",
              "      <th>297</th>\n",
              "      <th>298</th>\n",
              "      <th>299</th>\n",
              "      <th>Category</th>\n",
              "      <th>Split</th>\n",
              "    </tr>\n",
              "  </thead>\n",
              "  <tbody>\n",
              "    <tr>\n",
              "      <th>0</th>\n",
              "      <td>0.993988</td>\n",
              "      <td>1.377808</td>\n",
              "      <td>1.045593</td>\n",
              "      <td>1.776993</td>\n",
              "      <td>-1.308594</td>\n",
              "      <td>-2.801086</td>\n",
              "      <td>0.631714</td>\n",
              "      <td>-1.137207</td>\n",
              "      <td>1.877014</td>\n",
              "      <td>1.959991</td>\n",
              "      <td>...</td>\n",
              "      <td>-0.158020</td>\n",
              "      <td>-0.013189</td>\n",
              "      <td>-1.119232</td>\n",
              "      <td>0.331848</td>\n",
              "      <td>0.115206</td>\n",
              "      <td>-0.099426</td>\n",
              "      <td>0.951538</td>\n",
              "      <td>1.363281</td>\n",
              "      <td>Neutro</td>\n",
              "      <td>Test</td>\n",
              "    </tr>\n",
              "    <tr>\n",
              "      <th>1</th>\n",
              "      <td>0.056824</td>\n",
              "      <td>0.181641</td>\n",
              "      <td>-0.694702</td>\n",
              "      <td>1.498047</td>\n",
              "      <td>-0.327393</td>\n",
              "      <td>-1.120605</td>\n",
              "      <td>0.333801</td>\n",
              "      <td>-0.985718</td>\n",
              "      <td>1.250687</td>\n",
              "      <td>-0.786865</td>\n",
              "      <td>...</td>\n",
              "      <td>-0.937500</td>\n",
              "      <td>-0.596313</td>\n",
              "      <td>-0.131592</td>\n",
              "      <td>-0.105347</td>\n",
              "      <td>-0.073975</td>\n",
              "      <td>1.543640</td>\n",
              "      <td>-0.341553</td>\n",
              "      <td>-0.730591</td>\n",
              "      <td>Neutro</td>\n",
              "      <td>Test</td>\n",
              "    </tr>\n",
              "    <tr>\n",
              "      <th>2</th>\n",
              "      <td>-0.704102</td>\n",
              "      <td>0.524414</td>\n",
              "      <td>0.216064</td>\n",
              "      <td>0.533813</td>\n",
              "      <td>0.538696</td>\n",
              "      <td>0.310791</td>\n",
              "      <td>0.036621</td>\n",
              "      <td>-0.936646</td>\n",
              "      <td>0.510941</td>\n",
              "      <td>1.198730</td>\n",
              "      <td>...</td>\n",
              "      <td>-0.263672</td>\n",
              "      <td>0.795654</td>\n",
              "      <td>-0.270874</td>\n",
              "      <td>0.714478</td>\n",
              "      <td>0.007568</td>\n",
              "      <td>-0.228027</td>\n",
              "      <td>0.162048</td>\n",
              "      <td>0.403198</td>\n",
              "      <td>Compra</td>\n",
              "      <td>Test</td>\n",
              "    </tr>\n",
              "    <tr>\n",
              "      <th>3</th>\n",
              "      <td>-0.646301</td>\n",
              "      <td>-0.078735</td>\n",
              "      <td>-0.648926</td>\n",
              "      <td>0.744873</td>\n",
              "      <td>-0.374451</td>\n",
              "      <td>-0.617096</td>\n",
              "      <td>-0.742462</td>\n",
              "      <td>-0.669250</td>\n",
              "      <td>2.727539</td>\n",
              "      <td>1.087158</td>\n",
              "      <td>...</td>\n",
              "      <td>-0.792389</td>\n",
              "      <td>0.043381</td>\n",
              "      <td>-0.130150</td>\n",
              "      <td>-0.974213</td>\n",
              "      <td>-0.103516</td>\n",
              "      <td>0.737793</td>\n",
              "      <td>0.214661</td>\n",
              "      <td>-0.104492</td>\n",
              "      <td>Compra</td>\n",
              "      <td>Test</td>\n",
              "    </tr>\n",
              "    <tr>\n",
              "      <th>4</th>\n",
              "      <td>0.058350</td>\n",
              "      <td>-0.302002</td>\n",
              "      <td>-0.020386</td>\n",
              "      <td>0.177002</td>\n",
              "      <td>-0.319519</td>\n",
              "      <td>-0.115234</td>\n",
              "      <td>-0.181396</td>\n",
              "      <td>0.215790</td>\n",
              "      <td>0.025589</td>\n",
              "      <td>-0.168213</td>\n",
              "      <td>...</td>\n",
              "      <td>-0.454418</td>\n",
              "      <td>0.795898</td>\n",
              "      <td>0.188599</td>\n",
              "      <td>-0.175293</td>\n",
              "      <td>-0.145020</td>\n",
              "      <td>-0.206543</td>\n",
              "      <td>-0.597595</td>\n",
              "      <td>0.203598</td>\n",
              "      <td>Compra</td>\n",
              "      <td>Test</td>\n",
              "    </tr>\n",
              "  </tbody>\n",
              "</table>\n",
              "<p>5 rows × 302 columns</p>\n",
              "</div>\n",
              "    <div class=\"colab-df-buttons\">\n",
              "\n",
              "  <div class=\"colab-df-container\">\n",
              "    <button class=\"colab-df-convert\" onclick=\"convertToInteractive('df-9952cba3-18dd-41ba-a1d7-ba8b1dc03e03')\"\n",
              "            title=\"Convert this dataframe to an interactive table.\"\n",
              "            style=\"display:none;\">\n",
              "\n",
              "  <svg xmlns=\"http://www.w3.org/2000/svg\" height=\"24px\" viewBox=\"0 -960 960 960\">\n",
              "    <path d=\"M120-120v-720h720v720H120Zm60-500h600v-160H180v160Zm220 220h160v-160H400v160Zm0 220h160v-160H400v160ZM180-400h160v-160H180v160Zm440 0h160v-160H620v160ZM180-180h160v-160H180v160Zm440 0h160v-160H620v160Z\"/>\n",
              "  </svg>\n",
              "    </button>\n",
              "\n",
              "  <style>\n",
              "    .colab-df-container {\n",
              "      display:flex;\n",
              "      gap: 12px;\n",
              "    }\n",
              "\n",
              "    .colab-df-convert {\n",
              "      background-color: #E8F0FE;\n",
              "      border: none;\n",
              "      border-radius: 50%;\n",
              "      cursor: pointer;\n",
              "      display: none;\n",
              "      fill: #1967D2;\n",
              "      height: 32px;\n",
              "      padding: 0 0 0 0;\n",
              "      width: 32px;\n",
              "    }\n",
              "\n",
              "    .colab-df-convert:hover {\n",
              "      background-color: #E2EBFA;\n",
              "      box-shadow: 0px 1px 2px rgba(60, 64, 67, 0.3), 0px 1px 3px 1px rgba(60, 64, 67, 0.15);\n",
              "      fill: #174EA6;\n",
              "    }\n",
              "\n",
              "    .colab-df-buttons div {\n",
              "      margin-bottom: 4px;\n",
              "    }\n",
              "\n",
              "    [theme=dark] .colab-df-convert {\n",
              "      background-color: #3B4455;\n",
              "      fill: #D2E3FC;\n",
              "    }\n",
              "\n",
              "    [theme=dark] .colab-df-convert:hover {\n",
              "      background-color: #434B5C;\n",
              "      box-shadow: 0px 1px 3px 1px rgba(0, 0, 0, 0.15);\n",
              "      filter: drop-shadow(0px 1px 2px rgba(0, 0, 0, 0.3));\n",
              "      fill: #FFFFFF;\n",
              "    }\n",
              "  </style>\n",
              "\n",
              "    <script>\n",
              "      const buttonEl =\n",
              "        document.querySelector('#df-9952cba3-18dd-41ba-a1d7-ba8b1dc03e03 button.colab-df-convert');\n",
              "      buttonEl.style.display =\n",
              "        google.colab.kernel.accessAllowed ? 'block' : 'none';\n",
              "\n",
              "      async function convertToInteractive(key) {\n",
              "        const element = document.querySelector('#df-9952cba3-18dd-41ba-a1d7-ba8b1dc03e03');\n",
              "        const dataTable =\n",
              "          await google.colab.kernel.invokeFunction('convertToInteractive',\n",
              "                                                    [key], {});\n",
              "        if (!dataTable) return;\n",
              "\n",
              "        const docLinkHtml = 'Like what you see? Visit the ' +\n",
              "          '<a target=\"_blank\" href=https://colab.research.google.com/notebooks/data_table.ipynb>data table notebook</a>'\n",
              "          + ' to learn more about interactive tables.';\n",
              "        element.innerHTML = '';\n",
              "        dataTable['output_type'] = 'display_data';\n",
              "        await google.colab.output.renderOutput(dataTable, element);\n",
              "        const docLink = document.createElement('div');\n",
              "        docLink.innerHTML = docLinkHtml;\n",
              "        element.appendChild(docLink);\n",
              "      }\n",
              "    </script>\n",
              "  </div>\n",
              "\n",
              "\n",
              "<div id=\"df-f0736912-9ec5-4c89-bdce-2721ee689408\">\n",
              "  <button class=\"colab-df-quickchart\" onclick=\"quickchart('df-f0736912-9ec5-4c89-bdce-2721ee689408')\"\n",
              "            title=\"Suggest charts\"\n",
              "            style=\"display:none;\">\n",
              "\n",
              "<svg xmlns=\"http://www.w3.org/2000/svg\" height=\"24px\"viewBox=\"0 0 24 24\"\n",
              "     width=\"24px\">\n",
              "    <g>\n",
              "        <path d=\"M19 3H5c-1.1 0-2 .9-2 2v14c0 1.1.9 2 2 2h14c1.1 0 2-.9 2-2V5c0-1.1-.9-2-2-2zM9 17H7v-7h2v7zm4 0h-2V7h2v10zm4 0h-2v-4h2v4z\"/>\n",
              "    </g>\n",
              "</svg>\n",
              "  </button>\n",
              "\n",
              "<style>\n",
              "  .colab-df-quickchart {\n",
              "      --bg-color: #E8F0FE;\n",
              "      --fill-color: #1967D2;\n",
              "      --hover-bg-color: #E2EBFA;\n",
              "      --hover-fill-color: #174EA6;\n",
              "      --disabled-fill-color: #AAA;\n",
              "      --disabled-bg-color: #DDD;\n",
              "  }\n",
              "\n",
              "  [theme=dark] .colab-df-quickchart {\n",
              "      --bg-color: #3B4455;\n",
              "      --fill-color: #D2E3FC;\n",
              "      --hover-bg-color: #434B5C;\n",
              "      --hover-fill-color: #FFFFFF;\n",
              "      --disabled-bg-color: #3B4455;\n",
              "      --disabled-fill-color: #666;\n",
              "  }\n",
              "\n",
              "  .colab-df-quickchart {\n",
              "    background-color: var(--bg-color);\n",
              "    border: none;\n",
              "    border-radius: 50%;\n",
              "    cursor: pointer;\n",
              "    display: none;\n",
              "    fill: var(--fill-color);\n",
              "    height: 32px;\n",
              "    padding: 0;\n",
              "    width: 32px;\n",
              "  }\n",
              "\n",
              "  .colab-df-quickchart:hover {\n",
              "    background-color: var(--hover-bg-color);\n",
              "    box-shadow: 0 1px 2px rgba(60, 64, 67, 0.3), 0 1px 3px 1px rgba(60, 64, 67, 0.15);\n",
              "    fill: var(--button-hover-fill-color);\n",
              "  }\n",
              "\n",
              "  .colab-df-quickchart-complete:disabled,\n",
              "  .colab-df-quickchart-complete:disabled:hover {\n",
              "    background-color: var(--disabled-bg-color);\n",
              "    fill: var(--disabled-fill-color);\n",
              "    box-shadow: none;\n",
              "  }\n",
              "\n",
              "  .colab-df-spinner {\n",
              "    border: 2px solid var(--fill-color);\n",
              "    border-color: transparent;\n",
              "    border-bottom-color: var(--fill-color);\n",
              "    animation:\n",
              "      spin 1s steps(1) infinite;\n",
              "  }\n",
              "\n",
              "  @keyframes spin {\n",
              "    0% {\n",
              "      border-color: transparent;\n",
              "      border-bottom-color: var(--fill-color);\n",
              "      border-left-color: var(--fill-color);\n",
              "    }\n",
              "    20% {\n",
              "      border-color: transparent;\n",
              "      border-left-color: var(--fill-color);\n",
              "      border-top-color: var(--fill-color);\n",
              "    }\n",
              "    30% {\n",
              "      border-color: transparent;\n",
              "      border-left-color: var(--fill-color);\n",
              "      border-top-color: var(--fill-color);\n",
              "      border-right-color: var(--fill-color);\n",
              "    }\n",
              "    40% {\n",
              "      border-color: transparent;\n",
              "      border-right-color: var(--fill-color);\n",
              "      border-top-color: var(--fill-color);\n",
              "    }\n",
              "    60% {\n",
              "      border-color: transparent;\n",
              "      border-right-color: var(--fill-color);\n",
              "    }\n",
              "    80% {\n",
              "      border-color: transparent;\n",
              "      border-right-color: var(--fill-color);\n",
              "      border-bottom-color: var(--fill-color);\n",
              "    }\n",
              "    90% {\n",
              "      border-color: transparent;\n",
              "      border-bottom-color: var(--fill-color);\n",
              "    }\n",
              "  }\n",
              "</style>\n",
              "\n",
              "  <script>\n",
              "    async function quickchart(key) {\n",
              "      const quickchartButtonEl =\n",
              "        document.querySelector('#' + key + ' button');\n",
              "      quickchartButtonEl.disabled = true;  // To prevent multiple clicks.\n",
              "      quickchartButtonEl.classList.add('colab-df-spinner');\n",
              "      try {\n",
              "        const charts = await google.colab.kernel.invokeFunction(\n",
              "            'suggestCharts', [key], {});\n",
              "      } catch (error) {\n",
              "        console.error('Error during call to suggestCharts:', error);\n",
              "      }\n",
              "      quickchartButtonEl.classList.remove('colab-df-spinner');\n",
              "      quickchartButtonEl.classList.add('colab-df-quickchart-complete');\n",
              "    }\n",
              "    (() => {\n",
              "      let quickchartButtonEl =\n",
              "        document.querySelector('#df-f0736912-9ec5-4c89-bdce-2721ee689408 button');\n",
              "      quickchartButtonEl.style.display =\n",
              "        google.colab.kernel.accessAllowed ? 'block' : 'none';\n",
              "    })();\n",
              "  </script>\n",
              "</div>\n",
              "\n",
              "    </div>\n",
              "  </div>\n"
            ],
            "application/vnd.google.colaboratory.intrinsic+json": {
              "type": "dataframe",
              "variable_name": "DataForML"
            }
          },
          "metadata": {},
          "execution_count": 63
        }
      ],
      "source": [
        "W2Vec_Data.reset_index(inplace = True, drop = True)\n",
        "W2Vec_Data['Category'] = CountVectorizedData['Category']\n",
        "W2Vec_Data['Split'] = CountVectorizedData['Split']\n",
        "\n",
        "#Guardo en una nueva variable\n",
        "DataForML = W2Vec_Data\n",
        "DataForML.head()"
      ]
    },
    {
      "cell_type": "code",
      "execution_count": null,
      "metadata": {
        "id": "GZoaosEGCeS9"
      },
      "outputs": [],
      "source": [
        "TargetVariable = DataForML.columns[-2]\n",
        "Predictors = DataForML.columns[:-2]\n",
        "\n",
        "X = DataForML[Predictors].values\n",
        "y = DataForML[TargetVariable].values\n",
        "\n",
        "train_mask = DataForML['Split'] == 'Train'\n",
        "test_mask = DataForML['Split'] == 'Test'\n",
        "\n",
        "X_train = DataForML[train_mask][Predictors].values\n",
        "y_train = DataForML[train_mask][TargetVariable].values\n",
        "X_test = DataForML[test_mask][Predictors].values\n",
        "y_test = DataForML[test_mask][TargetVariable].values\n",
        "\n",
        "#Normalizo para los modelos de ML\n",
        "scaler = MinMaxScaler()\n",
        "\n",
        "X_train = scaler.fit_transform(X_train)\n",
        "X_test = scaler.transform(X_test)"
      ]
    },
    {
      "cell_type": "code",
      "execution_count": null,
      "metadata": {
        "id": "-iPgNahfCeS9"
      },
      "outputs": [],
      "source": [
        "w2v_results = {}"
      ]
    },
    {
      "cell_type": "markdown",
      "metadata": {
        "id": "Vbq1_sv1CeTA"
      },
      "source": [
        "#### Naive Bayes"
      ]
    },
    {
      "cell_type": "code",
      "execution_count": null,
      "metadata": {
        "id": "R5sMNrGLCeTA",
        "outputId": "a5dff90f-fda5-40b3-f636-01e01532e716",
        "colab": {
          "base_uri": "https://localhost:8080/"
        }
      },
      "outputs": [
        {
          "output_type": "stream",
          "name": "stdout",
          "text": [
            "              precision    recall  f1-score   support\n",
            "\n",
            "      Compra       0.46      0.55      0.50        38\n",
            "      Neutro       0.70      0.62      0.66        65\n",
            "\n",
            "    accuracy                           0.59       103\n",
            "   macro avg       0.58      0.58      0.58       103\n",
            "weighted avg       0.61      0.59      0.60       103\n",
            "\n",
            "-----------------------------------------------------\n",
            "[[21 25]\n",
            " [17 40]]\n",
            "-----------------------------------------------------\n",
            "Accuracy en TEST data: 0.6\n"
          ]
        }
      ],
      "source": [
        "clf = MultinomialNB()\n",
        "\n",
        "#Entranamiento y predicción\n",
        "NB = clf.fit(X_train, y_train)\n",
        "prediction = NB.predict(X_test)\n",
        "\n",
        "print(classification_report(y_test, prediction))\n",
        "print('-----------------------------------------------------')\n",
        "print(confusion_matrix(prediction, y_test))\n",
        "print('-----------------------------------------------------')\n",
        "F1_Score = f1_score(y_test, prediction, average = 'weighted')\n",
        "print('Accuracy en TEST data:', round(F1_Score,2))\n",
        "\n",
        "w2v_results['Naive Bayes'] = round(F1_Score,2)"
      ]
    },
    {
      "cell_type": "markdown",
      "metadata": {
        "id": "ay8_5J66CeTA"
      },
      "source": [
        "#### KNN (K-Nearest Neighbor)"
      ]
    },
    {
      "cell_type": "code",
      "execution_count": null,
      "metadata": {
        "id": "PakywrbmCeTA",
        "outputId": "5a329910-2d0d-4e99-ac82-e73ca0435afd",
        "colab": {
          "base_uri": "https://localhost:8080/"
        }
      },
      "outputs": [
        {
          "output_type": "stream",
          "name": "stdout",
          "text": [
            "              precision    recall  f1-score   support\n",
            "\n",
            "      Compra       0.55      0.63      0.59        38\n",
            "      Neutro       0.76      0.69      0.73        65\n",
            "\n",
            "    accuracy                           0.67       103\n",
            "   macro avg       0.65      0.66      0.66       103\n",
            "weighted avg       0.68      0.67      0.67       103\n",
            "\n",
            "-----------------------------------------------------\n",
            "[[24 20]\n",
            " [14 45]]\n",
            "-----------------------------------------------------\n",
            "Accuracy en TEST data: 0.67\n"
          ]
        }
      ],
      "source": [
        "clf = KNeighborsClassifier(n_neighbors=15)\n",
        "\n",
        "#Entranamiento y predicción\n",
        "KNN = clf.fit(X_train,y_train)\n",
        "prediction = KNN.predict(X_test)\n",
        "\n",
        "print(classification_report(y_test, prediction))\n",
        "print('-----------------------------------------------------')\n",
        "print(confusion_matrix(prediction, y_test))\n",
        "print('-----------------------------------------------------')\n",
        "F1_Score = f1_score(y_test, prediction, average = 'weighted')\n",
        "print('Accuracy en TEST data:', round(F1_Score,2))\n",
        "\n",
        "w2v_results['KNN'] = round(F1_Score,2)"
      ]
    },
    {
      "cell_type": "markdown",
      "metadata": {
        "id": "JcACy-59CeTB"
      },
      "source": [
        "#### Regresión Logística"
      ]
    },
    {
      "cell_type": "code",
      "execution_count": null,
      "metadata": {
        "id": "tDUaK7h7CeTB",
        "outputId": "ca29f1af-7c8b-444f-f136-89829a1959b8",
        "colab": {
          "base_uri": "https://localhost:8080/"
        }
      },
      "outputs": [
        {
          "output_type": "stream",
          "name": "stdout",
          "text": [
            "              precision    recall  f1-score   support\n",
            "\n",
            "      Compra       0.65      0.58      0.61        38\n",
            "      Neutro       0.77      0.82      0.79        65\n",
            "\n",
            "    accuracy                           0.73       103\n",
            "   macro avg       0.71      0.70      0.70       103\n",
            "weighted avg       0.72      0.73      0.72       103\n",
            "\n",
            "-----------------------------------------------------\n",
            "[[22 12]\n",
            " [16 53]]\n",
            "-----------------------------------------------------\n",
            "Accuracy en TEST data: 0.72\n"
          ]
        }
      ],
      "source": [
        "#'newton-cg', 'lbfgs', 'liblinear', 'sag', 'saga'\n",
        "clf = LogisticRegression(C=10,penalty='l2', solver='newton-cg')\n",
        "\n",
        "LOG = clf.fit(X_train,y_train)\n",
        "prediction = LOG.predict(X_test)\n",
        "\n",
        "print(classification_report(y_test, prediction))\n",
        "print('-----------------------------------------------------')\n",
        "print(confusion_matrix(prediction, y_test))\n",
        "print('-----------------------------------------------------')\n",
        "F1_Score = f1_score(y_test, prediction, average = 'weighted')\n",
        "print('Accuracy en TEST data:', round(F1_Score,2))\n",
        "\n",
        "w2v_results['Logistic Regression'] = round(F1_Score,2)"
      ]
    },
    {
      "cell_type": "markdown",
      "metadata": {
        "id": "ZhvyME4qCeTB"
      },
      "source": [
        "#### Árbol de Decisión"
      ]
    },
    {
      "cell_type": "code",
      "execution_count": null,
      "metadata": {
        "id": "ejqSJx96CeTC",
        "outputId": "aba97e12-50e4-4cae-c676-d33941cb5fee",
        "colab": {
          "base_uri": "https://localhost:8080/"
        }
      },
      "outputs": [
        {
          "output_type": "stream",
          "name": "stdout",
          "text": [
            "              precision    recall  f1-score   support\n",
            "\n",
            "      Compra       0.40      0.47      0.43        38\n",
            "      Neutro       0.66      0.58      0.62        65\n",
            "\n",
            "    accuracy                           0.54       103\n",
            "   macro avg       0.53      0.53      0.53       103\n",
            "weighted avg       0.56      0.54      0.55       103\n",
            "\n",
            "-----------------------------------------------------\n",
            "[[18 27]\n",
            " [20 38]]\n",
            "-----------------------------------------------------\n",
            "Accuracy en TEST data: 0.55\n"
          ]
        }
      ],
      "source": [
        "clf = DecisionTreeClassifier(max_depth = 20, criterion = 'gini')\n",
        "\n",
        "DTree = clf.fit(X_train,y_train)\n",
        "prediction = DTree.predict(X_test)\n",
        "\n",
        "print(classification_report(y_test, prediction))\n",
        "print('-----------------------------------------------------')\n",
        "print(confusion_matrix(prediction, y_test))\n",
        "print('-----------------------------------------------------')\n",
        "F1_Score = f1_score(y_test, prediction, average = 'weighted')\n",
        "print('Accuracy en TEST data:', round(F1_Score,2))\n",
        "\n",
        "w2v_results['Decision Tree'] = round(F1_Score,2)"
      ]
    },
    {
      "cell_type": "markdown",
      "metadata": {
        "id": "i3I8ciEGCeTC"
      },
      "source": [
        "#### Random Forest"
      ]
    },
    {
      "cell_type": "code",
      "execution_count": null,
      "metadata": {
        "id": "BQ4yOFjGCeTC",
        "outputId": "b71e6f27-ca48-4bcf-e379-8c0a7846dc4b",
        "colab": {
          "base_uri": "https://localhost:8080/"
        }
      },
      "outputs": [
        {
          "output_type": "stream",
          "name": "stdout",
          "text": [
            "              precision    recall  f1-score   support\n",
            "\n",
            "      Compra       0.40      0.47      0.43        38\n",
            "      Neutro       0.66      0.58      0.62        65\n",
            "\n",
            "    accuracy                           0.54       103\n",
            "   macro avg       0.53      0.53      0.53       103\n",
            "weighted avg       0.56      0.54      0.55       103\n",
            "\n",
            "-----------------------------------------------------\n",
            "[[18 27]\n",
            " [20 38]]\n",
            "-----------------------------------------------------\n",
            "Accuracy en TEST data: 0.55\n"
          ]
        }
      ],
      "source": [
        "clf = RandomForestClassifier(max_depth = 20)\n",
        "\n",
        "RF = clf.fit(X_train,y_train)\n",
        "prediction = DTree.predict(X_test)\n",
        "\n",
        "print(classification_report(y_test, prediction))\n",
        "print('-----------------------------------------------------')\n",
        "print(confusion_matrix(prediction, y_test))\n",
        "print('-----------------------------------------------------')\n",
        "F1_Score = f1_score(y_test, prediction, average = 'weighted')\n",
        "print('Accuracy en TEST data:', round(F1_Score,2))\n",
        "\n",
        "w2v_results['Random Forest'] = round(F1_Score,2)"
      ]
    },
    {
      "cell_type": "markdown",
      "metadata": {
        "id": "l9cbooMACeTC"
      },
      "source": [
        "#### XGBoost"
      ]
    },
    {
      "cell_type": "code",
      "execution_count": null,
      "metadata": {
        "id": "KQIXX03yCeTD",
        "outputId": "c2fe9cf4-cbea-4d9e-a7f7-d63bd2d75a49",
        "colab": {
          "base_uri": "https://localhost:8080/"
        }
      },
      "outputs": [
        {
          "output_type": "stream",
          "name": "stdout",
          "text": [
            "              precision    recall  f1-score   support\n",
            "\n",
            "           0       0.63      0.45      0.52        38\n",
            "           1       0.72      0.85      0.78        65\n",
            "\n",
            "    accuracy                           0.70       103\n",
            "   macro avg       0.68      0.65      0.65       103\n",
            "weighted avg       0.69      0.70      0.69       103\n",
            "\n",
            "-----------------------------------------------------\n",
            "[[17 10]\n",
            " [21 55]]\n",
            "-----------------------------------------------------\n",
            "Accuracy en TEST data: 0.69\n"
          ]
        }
      ],
      "source": [
        "#Necesito codificar las etiquetas\n",
        "cat_encoded = LabelEncoder()\n",
        "y_train_encoded = cat_encoded.fit_transform(y_train)\n",
        "y_test_encoded = cat_encoded.transform(y_test)\n",
        "\n",
        "clf = XGBClassifier()\n",
        "\n",
        "XGB = clf.fit(X_train, y_train_encoded)\n",
        "prediction = XGB.predict(X_test)\n",
        "\n",
        "print(classification_report(y_test_encoded, prediction))\n",
        "print('-----------------------------------------------------')\n",
        "print(confusion_matrix(prediction, y_test_encoded))\n",
        "print('-----------------------------------------------------')\n",
        "F1_Score = f1_score(y_test_encoded, prediction, average = 'weighted')\n",
        "print('Accuracy en TEST data:', round(F1_Score,2))\n",
        "\n",
        "w2v_results['XGBoost'] = round(F1_Score,2)"
      ]
    },
    {
      "cell_type": "markdown",
      "metadata": {
        "id": "4P3XdmmVCeTD"
      },
      "source": [
        "#### LightGBM"
      ]
    },
    {
      "cell_type": "code",
      "execution_count": null,
      "metadata": {
        "id": "hRHwImZ_CeTD",
        "outputId": "91443ad6-6f71-410f-86a0-2fd91862294d",
        "colab": {
          "base_uri": "https://localhost:8080/"
        }
      },
      "outputs": [
        {
          "output_type": "stream",
          "name": "stdout",
          "text": [
            "              precision    recall  f1-score   support\n",
            "\n",
            "      Compra       0.62      0.39      0.48        38\n",
            "      Neutro       0.71      0.86      0.78        65\n",
            "\n",
            "    accuracy                           0.69       103\n",
            "   macro avg       0.67      0.63      0.63       103\n",
            "weighted avg       0.68      0.69      0.67       103\n",
            "\n",
            "-----------------------------------------------------\n",
            "[[15  9]\n",
            " [23 56]]\n",
            "-----------------------------------------------------\n",
            "Accuracy en TEST data: 0.67\n"
          ]
        }
      ],
      "source": [
        "# Set the verbosity level to suppress messages\n",
        "lgbm_params = {\n",
        "    'verbosity': -1  # Set verbosity to -1 to suppress all messages\n",
        "}\n",
        "\n",
        "clf = LGBMClassifier(**lgbm_params)\n",
        "\n",
        "LGBM = clf.fit(X_train,y_train)\n",
        "prediction = LGBM.predict(X_test)\n",
        "y_pred_w2v_lgbm = prediction\n",
        "y_pred_w2v_lgbm_proba = LGBM.predict_proba(X_test)\n",
        "\n",
        "print(classification_report(y_test, prediction))\n",
        "print('-----------------------------------------------------')\n",
        "print(confusion_matrix(prediction, y_test))\n",
        "print('-----------------------------------------------------')\n",
        "F1_Score = f1_score(y_test, prediction, average = 'weighted')\n",
        "print('Accuracy en TEST data:', round(F1_Score,2))\n",
        "\n",
        "w2v_results['LightGBM'] = round(F1_Score,2)"
      ]
    },
    {
      "cell_type": "markdown",
      "metadata": {
        "id": "AKERCmxCCeTD"
      },
      "source": [
        "#### AdaBoost"
      ]
    },
    {
      "cell_type": "code",
      "execution_count": null,
      "metadata": {
        "id": "ya9N8vY3CeTE",
        "outputId": "6a28f72a-bfd2-481c-fda3-89c9a10f8f94",
        "colab": {
          "base_uri": "https://localhost:8080/"
        }
      },
      "outputs": [
        {
          "output_type": "stream",
          "name": "stdout",
          "text": [
            "              precision    recall  f1-score   support\n",
            "\n",
            "      Compra       0.47      0.45      0.46        38\n",
            "      Neutro       0.69      0.71      0.70        65\n",
            "\n",
            "    accuracy                           0.61       103\n",
            "   macro avg       0.58      0.58      0.58       103\n",
            "weighted avg       0.61      0.61      0.61       103\n",
            "\n",
            "-----------------------------------------------------\n",
            "[[17 19]\n",
            " [21 46]]\n",
            "-----------------------------------------------------\n",
            "Accuracy en TEST data: 0.61\n"
          ]
        }
      ],
      "source": [
        "DTC = DecisionTreeClassifier(max_depth = 2)\n",
        "clf = AdaBoostClassifier(n_estimators = 20, base_estimator = DTC , learning_rate = 0.01)\n",
        "\n",
        "\n",
        "AB = clf.fit(X_train,y_train)\n",
        "prediction = AB.predict(X_test)\n",
        "\n",
        "print(classification_report(y_test, prediction))\n",
        "print('-----------------------------------------------------')\n",
        "print(confusion_matrix(prediction, y_test))\n",
        "print('-----------------------------------------------------')\n",
        "F1_Score = f1_score(y_test, prediction, average = 'weighted')\n",
        "print('Accuracy en TEST data:', round(F1_Score,2))\n",
        "\n",
        "w2v_results['AdaBoost'] = round(F1_Score,2)"
      ]
    },
    {
      "cell_type": "code",
      "execution_count": null,
      "metadata": {
        "id": "V7QXU5fXCeTE",
        "outputId": "eee79634-24f1-4c98-a2a9-7c08c75a48eb",
        "colab": {
          "base_uri": "https://localhost:8080/"
        }
      },
      "outputs": [
        {
          "output_type": "execute_result",
          "data": {
            "text/plain": [
              "{'Naive Bayes': 0.6,\n",
              " 'KNN': 0.67,\n",
              " 'Logistic Regression': 0.72,\n",
              " 'Decision Tree': 0.55,\n",
              " 'Random Forest': 0.55,\n",
              " 'XGBoost': 0.69,\n",
              " 'LightGBM': 0.67,\n",
              " 'AdaBoost': 0.61}"
            ]
          },
          "metadata": {},
          "execution_count": 74
        }
      ],
      "source": [
        "w2v_results"
      ]
    },
    {
      "cell_type": "markdown",
      "metadata": {
        "id": "MhI00l7KCeTE"
      },
      "source": [
        "### BERT"
      ]
    },
    {
      "cell_type": "markdown",
      "metadata": {
        "id": "G5LgNzVfCeTE"
      },
      "source": [
        "#### Librerias"
      ]
    },
    {
      "cell_type": "code",
      "execution_count": null,
      "metadata": {
        "id": "qSfyHv87CeTE"
      },
      "outputs": [],
      "source": [
        "import torch\n",
        "from torch import nn\n",
        "from torch.utils.data import DataLoader, Dataset\n",
        "from transformers import BertTokenizer, BertModel, AdamW, get_linear_schedule_with_warmup"
      ]
    },
    {
      "cell_type": "markdown",
      "metadata": {
        "id": "Bv8lnL0NCeTE"
      },
      "source": [
        "#### Funciones"
      ]
    },
    {
      "cell_type": "code",
      "execution_count": null,
      "metadata": {
        "id": "73_x0eKbCeTF"
      },
      "outputs": [],
      "source": [
        "class TextClassificationDataset(Dataset):\n",
        "    def __init__(self, texts, labels, tokenizer, max_length):\n",
        "            self.texts = texts\n",
        "            self.labels = labels\n",
        "            self.tokenizer = tokenizer\n",
        "            self.max_length = max_length\n",
        "\n",
        "    def __len__(self):\n",
        "            return len(self.texts)\n",
        "\n",
        "    def __getitem__(self, idx):\n",
        "            text = self.texts[idx]\n",
        "            label = self.labels[idx]\n",
        "            encoding = self.tokenizer(text, return_tensors='pt', max_length=self.max_length, padding='max_length', truncation=True)\n",
        "            return {'input_ids': encoding['input_ids'].flatten(), 'attention_mask': encoding['attention_mask'].flatten(), 'label': torch.tensor(label)}"
      ]
    },
    {
      "cell_type": "code",
      "execution_count": null,
      "metadata": {
        "id": "ER3c7nwACeTF"
      },
      "outputs": [],
      "source": [
        "class BERTClassifier(nn.Module):\n",
        "    def __init__(self, bert_model_name, num_classes):\n",
        "        super(BERTClassifier, self).__init__()\n",
        "        self.bert = BertModel.from_pretrained(bert_model_name)\n",
        "        self.dropout = nn.Dropout(0.1)\n",
        "        self.fc = nn.Linear(self.bert.config.hidden_size, num_classes)\n",
        "\n",
        "    def forward(self, input_ids, attention_mask):\n",
        "        outputs = self.bert(input_ids=input_ids, attention_mask=attention_mask)\n",
        "        pooled_output = outputs.pooler_output\n",
        "        x = self.dropout(pooled_output)\n",
        "        logits = self.fc(x)\n",
        "        return logits"
      ]
    },
    {
      "cell_type": "code",
      "execution_count": null,
      "metadata": {
        "id": "9jXeVrpuCeTG"
      },
      "outputs": [],
      "source": [
        "def train(model, data_loader, optimizer, scheduler, device):\n",
        "    model.train()\n",
        "    for batch in data_loader:\n",
        "        optimizer.zero_grad()\n",
        "        input_ids = batch['input_ids'].to(device)\n",
        "        attention_mask = batch['attention_mask'].to(device)\n",
        "        labels = batch['label'].to(device)\n",
        "        outputs = model(input_ids=input_ids, attention_mask=attention_mask)\n",
        "        loss = nn.CrossEntropyLoss()(outputs, labels)\n",
        "        loss.backward()\n",
        "        optimizer.step()\n",
        "        scheduler.step()"
      ]
    },
    {
      "cell_type": "code",
      "execution_count": null,
      "metadata": {
        "id": "ONCM55WECeTG"
      },
      "outputs": [],
      "source": [
        "def evaluate(model, data_loader, device):\n",
        "    model.eval()\n",
        "    predictions = []\n",
        "    actual_labels = []\n",
        "    with torch.no_grad():\n",
        "        for batch in data_loader:\n",
        "            input_ids = batch['input_ids'].to(device)\n",
        "            attention_mask = batch['attention_mask'].to(device)\n",
        "            labels = batch['label'].to(device)\n",
        "            outputs = model(input_ids=input_ids, attention_mask=attention_mask)\n",
        "            _, preds = torch.max(outputs, dim=1)\n",
        "            predictions.extend(preds.cpu().tolist())\n",
        "            actual_labels.extend(labels.cpu().tolist())\n",
        "    return accuracy_score(actual_labels, predictions), classification_report(actual_labels, predictions)"
      ]
    },
    {
      "cell_type": "code",
      "execution_count": null,
      "metadata": {
        "id": "UE2iJJMJCeTG"
      },
      "outputs": [],
      "source": [
        "def predict_sentiment(text, model, tokenizer, device, max_length=128):\n",
        "    model.eval()\n",
        "    encoding = tokenizer(text, return_tensors='pt', max_length=max_length, padding='max_length', truncation=True)\n",
        "    input_ids = encoding['input_ids'].to(device)\n",
        "    attention_mask = encoding['attention_mask'].to(device)\n",
        "\n",
        "    with torch.no_grad():\n",
        "        outputs = model(input_ids=input_ids, attention_mask=attention_mask)\n",
        "        _, preds = torch.max(outputs, dim=1)\n",
        "    return \"Neutro\" if preds.item() == 1 else \"Compra\""
      ]
    },
    {
      "cell_type": "code",
      "execution_count": null,
      "metadata": {
        "id": "5Cwux7sPCeTG"
      },
      "outputs": [],
      "source": [
        "def predict_sentiment_with_probabilities(text, model, tokenizer, device, max_length=128):\n",
        "    model.eval()\n",
        "    encoding = tokenizer(text, return_tensors='pt', max_length=max_length, padding='max_length', truncation=True)\n",
        "    input_ids = encoding['input_ids'].to(device)\n",
        "    attention_mask = encoding['attention_mask'].to(device)\n",
        "\n",
        "    with torch.no_grad():\n",
        "        outputs = model(input_ids=input_ids, attention_mask=attention_mask)\n",
        "        probabilities = torch.softmax(outputs, dim=1)\n",
        "\n",
        "    label_probabilities = {\n",
        "        \"Compra\": probabilities[0][0].item(),\n",
        "        \"Neutro\": probabilities[0][1].item()\n",
        "    }\n",
        "\n",
        "    return label_probabilities"
      ]
    },
    {
      "cell_type": "markdown",
      "metadata": {
        "id": "MR28bmrbCeTH"
      },
      "source": [
        "#### Parámetros"
      ]
    },
    {
      "cell_type": "code",
      "execution_count": null,
      "metadata": {
        "id": "Y_prqbIxCeTH"
      },
      "outputs": [],
      "source": [
        "# Set up parameters\n",
        "bert_model_name = 'bert-base-uncased'\n",
        "num_classes = 2\n",
        "max_length = 128\n",
        "batch_size = 16\n",
        "num_epochs = 4\n",
        "learning_rate = 2e-5"
      ]
    },
    {
      "cell_type": "markdown",
      "metadata": {
        "id": "c770PN04CeTH"
      },
      "source": [
        "#### Entrenamiento"
      ]
    },
    {
      "cell_type": "code",
      "execution_count": null,
      "metadata": {
        "id": "0d-KTvqdCeTH"
      },
      "outputs": [],
      "source": [
        "train_texts = data_train['Text'].tolist()\n",
        "train_labels = [0 if sentiment == \"Compra\" else 1 for sentiment in data_train['Category'].tolist()]\n",
        "\n",
        "val_texts = data_test['Text'].tolist()\n",
        "val_labels = [0 if sentiment == \"Compra\" else 1 for sentiment in data_test['Category'].tolist()]"
      ]
    },
    {
      "cell_type": "markdown",
      "metadata": {
        "id": "dad9_l-eCeTI"
      },
      "source": [
        "#### Pipeline"
      ]
    },
    {
      "cell_type": "code",
      "execution_count": null,
      "metadata": {
        "id": "mvxZ063aCeTI",
        "outputId": "a1257646-e5b1-418a-b616-c147a3589bf2",
        "colab": {
          "base_uri": "https://localhost:8080/",
          "height": 145,
          "referenced_widgets": [
            "b452e9b3acb240aa831fe87c134951af",
            "48df9dc4618345b992086aa34f4f17ef",
            "830d6f5aaff84a1ab937576ea1bab415",
            "384a3ebfe3aa46ac9df99f6e5331de2d",
            "7ebc386b326b4f93997689f2e30fe028",
            "dc15631683bf4a8fa8db29f69ff57d24",
            "e9c0a056dce94610a1dacfc77a3a7b0f",
            "7e713d2acb7340ca9ceb40ddbe72eeff",
            "95b3e73f7c93470aac46cae56da69acc",
            "878aa8115dcd4e09baa227ff831a3ca3",
            "398ac2dba9544a259c1836b87301fe13",
            "8c4dff5b849b4a909e8d8f98fa2795e2",
            "526415221abf4d14888c76b0fe641ee8",
            "27429dda2d084c85a0f3f1012c30856e",
            "ffeac6ca73e748fb84ded56f62ceeeca",
            "1093da720f924554a0cd6856724356b2",
            "648194a5ba4246c49bd072827cac1c43",
            "1d31d684879d43a0bb48a51b99f2df5b",
            "ff213d967d8b43f99d09e2f6f63f897c",
            "ee75221dd126435e920af1ac6fafd579",
            "6d1baa06bb774bc18eb4e2a49fc50fa1",
            "6dafa3d298e4463f84d5c8c2b8e3203e",
            "0fb8314162664915b36d6716ab420097",
            "bde1cfc000814ec598bd7164712080df",
            "f608074254994641bffdccf84dd055d9",
            "53bb9c95253c4722b5c7f4b032f48b81",
            "0b1b8c7a58d64898bf284e6a55292165",
            "65fa3cfb26f14da2b804283545b6db30",
            "5667666fd5d14451857676ff2fe8a29d",
            "6d91a891136f415fbf6b4201d8379063",
            "9b77faa4a6044db7987905317bb7da12",
            "01c2693ddb734eac9717529bf85c2ead",
            "77e54e207d724514a5192b825e66fa8a",
            "9857b43a0cb8412bacfed9e7dfe409ad",
            "06bef4cf2ff64067bf56ef34ad9601a7",
            "01298c72e4a84b12b2f648936c8e414a",
            "ec6201ec8bb44cb9920b8dae2712a934",
            "c09e33c3754649e3829bfdf79dd400e0",
            "272d3a28e11644359669b6b0a1f643f9",
            "51402cf5306849b1bc2ff58ba2007e85",
            "5491b56028214c258125ace1d4457b90",
            "5d519a1dbfb643b29f86ce2f1db367e5",
            "141085f5d0034237a0808c98ab18c234",
            "94e8031f22884e85bc9a5732e0c41a56"
          ]
        }
      },
      "outputs": [
        {
          "output_type": "display_data",
          "data": {
            "text/plain": [
              "tokenizer_config.json:   0%|          | 0.00/48.0 [00:00<?, ?B/s]"
            ],
            "application/vnd.jupyter.widget-view+json": {
              "version_major": 2,
              "version_minor": 0,
              "model_id": "b452e9b3acb240aa831fe87c134951af"
            }
          },
          "metadata": {}
        },
        {
          "output_type": "display_data",
          "data": {
            "text/plain": [
              "vocab.txt:   0%|          | 0.00/232k [00:00<?, ?B/s]"
            ],
            "application/vnd.jupyter.widget-view+json": {
              "version_major": 2,
              "version_minor": 0,
              "model_id": "8c4dff5b849b4a909e8d8f98fa2795e2"
            }
          },
          "metadata": {}
        },
        {
          "output_type": "display_data",
          "data": {
            "text/plain": [
              "tokenizer.json:   0%|          | 0.00/466k [00:00<?, ?B/s]"
            ],
            "application/vnd.jupyter.widget-view+json": {
              "version_major": 2,
              "version_minor": 0,
              "model_id": "0fb8314162664915b36d6716ab420097"
            }
          },
          "metadata": {}
        },
        {
          "output_type": "display_data",
          "data": {
            "text/plain": [
              "config.json:   0%|          | 0.00/570 [00:00<?, ?B/s]"
            ],
            "application/vnd.jupyter.widget-view+json": {
              "version_major": 2,
              "version_minor": 0,
              "model_id": "9857b43a0cb8412bacfed9e7dfe409ad"
            }
          },
          "metadata": {}
        }
      ],
      "source": [
        "tokenizer = BertTokenizer.from_pretrained(bert_model_name)\n",
        "train_dataset = TextClassificationDataset(train_texts, train_labels, tokenizer, max_length)\n",
        "val_dataset = TextClassificationDataset(val_texts, val_labels, tokenizer, max_length)\n",
        "train_dataloader = DataLoader(train_dataset, batch_size=batch_size, shuffle=True)\n",
        "val_dataloader = DataLoader(val_dataset, batch_size=batch_size)"
      ]
    },
    {
      "cell_type": "markdown",
      "metadata": {
        "id": "zDhpQRQfCeTI"
      },
      "source": [
        "#### Modelado"
      ]
    },
    {
      "cell_type": "code",
      "execution_count": null,
      "metadata": {
        "id": "fMgKzYpECeTI",
        "outputId": "c3b03bd9-8d7d-460b-e22f-65821f8ae1c6",
        "colab": {
          "base_uri": "https://localhost:8080/",
          "height": 49,
          "referenced_widgets": [
            "ebc26542b0c14a77921b0b6544e83dd5",
            "76fcfddeee58447da8732742e70069ce",
            "05191d54792b4d179c1d41b786471b2c",
            "42901037a65a493cacc1c085b0669154",
            "4eb67988b6474860b5b1e8be8131d77f",
            "2a7dee8c704b4d758559de255f380f65",
            "bc7aa9fbf93b421488dae6d1f74262c9",
            "2bbb3ab3fdf14800b4031bfcc44c1c00",
            "7caf66f431de4db19f2a3a5ef504ac1a",
            "6a2ccb5ce3704b9a8ba4f47f335c3c18",
            "51ac945c04674f5b95a1b701b6c6590d"
          ]
        }
      },
      "outputs": [
        {
          "output_type": "display_data",
          "data": {
            "text/plain": [
              "model.safetensors:   0%|          | 0.00/440M [00:00<?, ?B/s]"
            ],
            "application/vnd.jupyter.widget-view+json": {
              "version_major": 2,
              "version_minor": 0,
              "model_id": "ebc26542b0c14a77921b0b6544e83dd5"
            }
          },
          "metadata": {}
        }
      ],
      "source": [
        "device = torch.device(\"cuda\" if torch.cuda.is_available() else \"cpu\")\n",
        "model = BERTClassifier(bert_model_name, num_classes).to(device)"
      ]
    },
    {
      "cell_type": "markdown",
      "metadata": {
        "id": "kCRXk2AzCeTI"
      },
      "source": [
        "#### Optimizador"
      ]
    },
    {
      "cell_type": "code",
      "execution_count": null,
      "metadata": {
        "id": "FxoPWPH7CeTI"
      },
      "outputs": [],
      "source": [
        "optimizer = AdamW(model.parameters(), lr=learning_rate)\n",
        "total_steps = len(train_dataloader) * num_epochs\n",
        "scheduler = get_linear_schedule_with_warmup(optimizer, num_warmup_steps=0, num_training_steps=total_steps)"
      ]
    },
    {
      "cell_type": "markdown",
      "metadata": {
        "id": "517bk2CyCeTJ"
      },
      "source": [
        "#### Entrenamiento"
      ]
    },
    {
      "cell_type": "code",
      "execution_count": null,
      "metadata": {
        "id": "QXVhtWWZCeTJ",
        "outputId": "8a7828e6-0f5e-48f8-cadd-693fc0d20ec4",
        "colab": {
          "base_uri": "https://localhost:8080/"
        }
      },
      "outputs": [
        {
          "output_type": "stream",
          "name": "stdout",
          "text": [
            "Epoch 1/4\n",
            "Validation Accuracy: 0.6990\n",
            "              precision    recall  f1-score   support\n",
            "\n",
            "           0       0.82      0.24      0.37        38\n",
            "           1       0.68      0.97      0.80        65\n",
            "\n",
            "    accuracy                           0.70       103\n",
            "   macro avg       0.75      0.60      0.58       103\n",
            "weighted avg       0.73      0.70      0.64       103\n",
            "\n",
            "Epoch 2/4\n",
            "Validation Accuracy: 0.7670\n",
            "              precision    recall  f1-score   support\n",
            "\n",
            "           0       0.72      0.61      0.66        38\n",
            "           1       0.79      0.86      0.82        65\n",
            "\n",
            "    accuracy                           0.77       103\n",
            "   macro avg       0.75      0.73      0.74       103\n",
            "weighted avg       0.76      0.77      0.76       103\n",
            "\n",
            "Epoch 3/4\n",
            "Validation Accuracy: 0.7573\n",
            "              precision    recall  f1-score   support\n",
            "\n",
            "           0       0.69      0.63      0.66        38\n",
            "           1       0.79      0.83      0.81        65\n",
            "\n",
            "    accuracy                           0.76       103\n",
            "   macro avg       0.74      0.73      0.73       103\n",
            "weighted avg       0.75      0.76      0.76       103\n",
            "\n",
            "Epoch 4/4\n",
            "Validation Accuracy: 0.7476\n",
            "              precision    recall  f1-score   support\n",
            "\n",
            "           0       0.66      0.66      0.66        38\n",
            "           1       0.80      0.80      0.80        65\n",
            "\n",
            "    accuracy                           0.75       103\n",
            "   macro avg       0.73      0.73      0.73       103\n",
            "weighted avg       0.75      0.75      0.75       103\n",
            "\n"
          ]
        }
      ],
      "source": [
        "for epoch in range(num_epochs):\n",
        "        print(f\"Epoch {epoch + 1}/{num_epochs}\")\n",
        "        train(model, train_dataloader, optimizer, scheduler, device)\n",
        "        accuracy, report = evaluate(model, val_dataloader, device)\n",
        "        print(f\"Validation Accuracy: {accuracy:.4f}\")\n",
        "        print(report)"
      ]
    },
    {
      "cell_type": "markdown",
      "metadata": {
        "id": "6bQYI9v9CeTJ"
      },
      "source": [
        "#### Guardo el modelo"
      ]
    },
    {
      "cell_type": "code",
      "execution_count": null,
      "metadata": {
        "id": "uxtKg6BGCeTJ"
      },
      "outputs": [],
      "source": [
        "torch.save(model.state_dict(), \"bert_classifier_wm_20042024.pth\")"
      ]
    },
    {
      "cell_type": "markdown",
      "metadata": {
        "id": "P-8hTcc7CeTJ"
      },
      "source": [
        "#### Predicción"
      ]
    },
    {
      "cell_type": "code",
      "execution_count": null,
      "metadata": {
        "id": "HR4qIvajCeTK",
        "outputId": "724ead70-8be7-477a-efa4-a75bda063b67",
        "colab": {
          "base_uri": "https://localhost:8080/"
        }
      },
      "outputs": [
        {
          "output_type": "stream",
          "name": "stdout",
          "text": [
            "Prediccion:\n",
            "Compra: 0.2712\n",
            "Neutro: 0.7288\n"
          ]
        }
      ],
      "source": [
        "test_text = \"YPF call volume above normal and directionally bullish\"\n",
        "label_probabilities  = predict_sentiment_with_probabilities(test_text, model, tokenizer, device)\n",
        "print(\"Prediccion:\")\n",
        "for label, probability in label_probabilities.items():\n",
        "    print(f\"{label}: {probability:.4f}\")"
      ]
    },
    {
      "cell_type": "markdown",
      "metadata": {
        "id": "qqfTyAM_CeTK"
      },
      "source": [
        "#### Predicción (Probabilidad)"
      ]
    },
    {
      "cell_type": "code",
      "execution_count": null,
      "metadata": {
        "id": "2It5K6OBCeTK"
      },
      "outputs": [],
      "source": [
        "X_test = data_test['Text'].tolist()\n",
        "\n",
        "y_pred_bert = []\n",
        "predicted_probabilities = []\n",
        "\n",
        "for text in X_test:\n",
        "    label_probabilities = predict_sentiment_with_probabilities(text, model, tokenizer, device)\n",
        "\n",
        "    predicted_label = max(label_probabilities, key=label_probabilities.get)\n",
        "\n",
        "    y_pred_bert.append(predicted_label)\n",
        "\n",
        "    predicted_probabilities.append([label_probabilities[\"Compra\"], label_probabilities[\"Neutro\"]])\n",
        "\n",
        "y_pred_bert_proba = np.array(predicted_probabilities)"
      ]
    },
    {
      "cell_type": "markdown",
      "metadata": {
        "id": "g4nMTWdXCeTK"
      },
      "source": [
        "## Resultados"
      ]
    },
    {
      "cell_type": "code",
      "execution_count": null,
      "metadata": {
        "id": "txrCUkgDCeTL"
      },
      "outputs": [],
      "source": [
        "models_pred = pd.DataFrame(\n",
        "    {\n",
        "        'X_test': data_test['Text'].tolist(),\n",
        "        'y_test': data_test['Category'].tolist(),\n",
        "        'RegLog': y_pred_lr,\n",
        "        'RegLog_SW': y_pred_lr_sw,\n",
        "        'MultinomialNB': y_pred_nb,\n",
        "        'MultinomialNB_SW': y_pred_nb_sw,\n",
        "        'SVC': y_pred_svc,\n",
        "        'SVC_SW': y_pred_svc_sw,\n",
        "        'RF':y_pred_rf,\n",
        "        'RF_SW': y_pred_rf_sw,\n",
        "        'XGB': y_pred_xgb,\n",
        "        'XGB_SW': y_pred_xgb_sw,\n",
        "        'LightGBM': y_pred_lgbm,\n",
        "        'LightGBM_SW': y_pred_lgbm_sw,\n",
        "        'Word2Vec_LGBM': y_pred_w2v_lgbm,\n",
        "        'BERT': y_pred_bert\n",
        "    }\n",
        ")"
      ]
    },
    {
      "cell_type": "code",
      "execution_count": null,
      "metadata": {
        "id": "6XQK-f8hCeTL",
        "outputId": "179cf67d-971b-4a4f-c920-7bb789941c1a",
        "colab": {
          "base_uri": "https://localhost:8080/",
          "height": 695
        }
      },
      "outputs": [
        {
          "output_type": "execute_result",
          "data": {
            "text/plain": [
              "                                              X_test  y_test  RegLog  \\\n",
              "0  Milei Seeks Second Chance From Congress With S...  Neutro  Compra   \n",
              "1  Javier Milei Races to Ease Argentina Inflation...  Neutro  Neutro   \n",
              "2  Argentina builds case for exporting natgas to ...  Compra  Neutro   \n",
              "3  YPF Sociedad Anonima (YPF) Gains As Market Dip...  Compra  Compra   \n",
              "4  Milei takes a chainsaw to Argentina’s state co...  Compra  Compra   \n",
              "\n",
              "  RegLog_SW MultinomialNB MultinomialNB_SW     SVC  SVC_SW      RF   RF_SW  \\\n",
              "0    Neutro        Compra           Compra  Compra  Compra  Compra  Compra   \n",
              "1    Compra        Compra           Compra  Compra  Compra  Compra  Compra   \n",
              "2    Neutro        Neutro           Neutro  Neutro  Neutro  Neutro  Neutro   \n",
              "3    Compra        Compra           Compra  Compra  Compra  Compra  Compra   \n",
              "4    Neutro        Compra           Compra  Compra  Compra  Compra  Compra   \n",
              "\n",
              "      XGB  XGB_SW LightGBM LightGBM_SW Word2Vec_LGBM    BERT  \n",
              "0  Compra  Compra   Compra      Compra        Neutro  Neutro  \n",
              "1  Neutro  Compra   Neutro      Compra        Compra  Neutro  \n",
              "2  Compra  Compra   Compra      Compra        Compra  Compra  \n",
              "3  Compra  Compra   Compra      Compra        Compra  Compra  \n",
              "4  Compra  Compra   Compra      Compra        Neutro  Compra  "
            ],
            "text/html": [
              "\n",
              "  <div id=\"df-d55630b8-7d2b-4f79-a6ba-80a2cab6c541\" class=\"colab-df-container\">\n",
              "    <div>\n",
              "<style scoped>\n",
              "    .dataframe tbody tr th:only-of-type {\n",
              "        vertical-align: middle;\n",
              "    }\n",
              "\n",
              "    .dataframe tbody tr th {\n",
              "        vertical-align: top;\n",
              "    }\n",
              "\n",
              "    .dataframe thead th {\n",
              "        text-align: right;\n",
              "    }\n",
              "</style>\n",
              "<table border=\"1\" class=\"dataframe\">\n",
              "  <thead>\n",
              "    <tr style=\"text-align: right;\">\n",
              "      <th></th>\n",
              "      <th>X_test</th>\n",
              "      <th>y_test</th>\n",
              "      <th>RegLog</th>\n",
              "      <th>RegLog_SW</th>\n",
              "      <th>MultinomialNB</th>\n",
              "      <th>MultinomialNB_SW</th>\n",
              "      <th>SVC</th>\n",
              "      <th>SVC_SW</th>\n",
              "      <th>RF</th>\n",
              "      <th>RF_SW</th>\n",
              "      <th>XGB</th>\n",
              "      <th>XGB_SW</th>\n",
              "      <th>LightGBM</th>\n",
              "      <th>LightGBM_SW</th>\n",
              "      <th>Word2Vec_LGBM</th>\n",
              "      <th>BERT</th>\n",
              "    </tr>\n",
              "  </thead>\n",
              "  <tbody>\n",
              "    <tr>\n",
              "      <th>0</th>\n",
              "      <td>Milei Seeks Second Chance From Congress With S...</td>\n",
              "      <td>Neutro</td>\n",
              "      <td>Compra</td>\n",
              "      <td>Neutro</td>\n",
              "      <td>Compra</td>\n",
              "      <td>Compra</td>\n",
              "      <td>Compra</td>\n",
              "      <td>Compra</td>\n",
              "      <td>Compra</td>\n",
              "      <td>Compra</td>\n",
              "      <td>Compra</td>\n",
              "      <td>Compra</td>\n",
              "      <td>Compra</td>\n",
              "      <td>Compra</td>\n",
              "      <td>Neutro</td>\n",
              "      <td>Neutro</td>\n",
              "    </tr>\n",
              "    <tr>\n",
              "      <th>1</th>\n",
              "      <td>Javier Milei Races to Ease Argentina Inflation...</td>\n",
              "      <td>Neutro</td>\n",
              "      <td>Neutro</td>\n",
              "      <td>Compra</td>\n",
              "      <td>Compra</td>\n",
              "      <td>Compra</td>\n",
              "      <td>Compra</td>\n",
              "      <td>Compra</td>\n",
              "      <td>Compra</td>\n",
              "      <td>Compra</td>\n",
              "      <td>Neutro</td>\n",
              "      <td>Compra</td>\n",
              "      <td>Neutro</td>\n",
              "      <td>Compra</td>\n",
              "      <td>Compra</td>\n",
              "      <td>Neutro</td>\n",
              "    </tr>\n",
              "    <tr>\n",
              "      <th>2</th>\n",
              "      <td>Argentina builds case for exporting natgas to ...</td>\n",
              "      <td>Compra</td>\n",
              "      <td>Neutro</td>\n",
              "      <td>Neutro</td>\n",
              "      <td>Neutro</td>\n",
              "      <td>Neutro</td>\n",
              "      <td>Neutro</td>\n",
              "      <td>Neutro</td>\n",
              "      <td>Neutro</td>\n",
              "      <td>Neutro</td>\n",
              "      <td>Compra</td>\n",
              "      <td>Compra</td>\n",
              "      <td>Compra</td>\n",
              "      <td>Compra</td>\n",
              "      <td>Compra</td>\n",
              "      <td>Compra</td>\n",
              "    </tr>\n",
              "    <tr>\n",
              "      <th>3</th>\n",
              "      <td>YPF Sociedad Anonima (YPF) Gains As Market Dip...</td>\n",
              "      <td>Compra</td>\n",
              "      <td>Compra</td>\n",
              "      <td>Compra</td>\n",
              "      <td>Compra</td>\n",
              "      <td>Compra</td>\n",
              "      <td>Compra</td>\n",
              "      <td>Compra</td>\n",
              "      <td>Compra</td>\n",
              "      <td>Compra</td>\n",
              "      <td>Compra</td>\n",
              "      <td>Compra</td>\n",
              "      <td>Compra</td>\n",
              "      <td>Compra</td>\n",
              "      <td>Compra</td>\n",
              "      <td>Compra</td>\n",
              "    </tr>\n",
              "    <tr>\n",
              "      <th>4</th>\n",
              "      <td>Milei takes a chainsaw to Argentina’s state co...</td>\n",
              "      <td>Compra</td>\n",
              "      <td>Compra</td>\n",
              "      <td>Neutro</td>\n",
              "      <td>Compra</td>\n",
              "      <td>Compra</td>\n",
              "      <td>Compra</td>\n",
              "      <td>Compra</td>\n",
              "      <td>Compra</td>\n",
              "      <td>Compra</td>\n",
              "      <td>Compra</td>\n",
              "      <td>Compra</td>\n",
              "      <td>Compra</td>\n",
              "      <td>Compra</td>\n",
              "      <td>Neutro</td>\n",
              "      <td>Compra</td>\n",
              "    </tr>\n",
              "  </tbody>\n",
              "</table>\n",
              "</div>\n",
              "    <div class=\"colab-df-buttons\">\n",
              "\n",
              "  <div class=\"colab-df-container\">\n",
              "    <button class=\"colab-df-convert\" onclick=\"convertToInteractive('df-d55630b8-7d2b-4f79-a6ba-80a2cab6c541')\"\n",
              "            title=\"Convert this dataframe to an interactive table.\"\n",
              "            style=\"display:none;\">\n",
              "\n",
              "  <svg xmlns=\"http://www.w3.org/2000/svg\" height=\"24px\" viewBox=\"0 -960 960 960\">\n",
              "    <path d=\"M120-120v-720h720v720H120Zm60-500h600v-160H180v160Zm220 220h160v-160H400v160Zm0 220h160v-160H400v160ZM180-400h160v-160H180v160Zm440 0h160v-160H620v160ZM180-180h160v-160H180v160Zm440 0h160v-160H620v160Z\"/>\n",
              "  </svg>\n",
              "    </button>\n",
              "\n",
              "  <style>\n",
              "    .colab-df-container {\n",
              "      display:flex;\n",
              "      gap: 12px;\n",
              "    }\n",
              "\n",
              "    .colab-df-convert {\n",
              "      background-color: #E8F0FE;\n",
              "      border: none;\n",
              "      border-radius: 50%;\n",
              "      cursor: pointer;\n",
              "      display: none;\n",
              "      fill: #1967D2;\n",
              "      height: 32px;\n",
              "      padding: 0 0 0 0;\n",
              "      width: 32px;\n",
              "    }\n",
              "\n",
              "    .colab-df-convert:hover {\n",
              "      background-color: #E2EBFA;\n",
              "      box-shadow: 0px 1px 2px rgba(60, 64, 67, 0.3), 0px 1px 3px 1px rgba(60, 64, 67, 0.15);\n",
              "      fill: #174EA6;\n",
              "    }\n",
              "\n",
              "    .colab-df-buttons div {\n",
              "      margin-bottom: 4px;\n",
              "    }\n",
              "\n",
              "    [theme=dark] .colab-df-convert {\n",
              "      background-color: #3B4455;\n",
              "      fill: #D2E3FC;\n",
              "    }\n",
              "\n",
              "    [theme=dark] .colab-df-convert:hover {\n",
              "      background-color: #434B5C;\n",
              "      box-shadow: 0px 1px 3px 1px rgba(0, 0, 0, 0.15);\n",
              "      filter: drop-shadow(0px 1px 2px rgba(0, 0, 0, 0.3));\n",
              "      fill: #FFFFFF;\n",
              "    }\n",
              "  </style>\n",
              "\n",
              "    <script>\n",
              "      const buttonEl =\n",
              "        document.querySelector('#df-d55630b8-7d2b-4f79-a6ba-80a2cab6c541 button.colab-df-convert');\n",
              "      buttonEl.style.display =\n",
              "        google.colab.kernel.accessAllowed ? 'block' : 'none';\n",
              "\n",
              "      async function convertToInteractive(key) {\n",
              "        const element = document.querySelector('#df-d55630b8-7d2b-4f79-a6ba-80a2cab6c541');\n",
              "        const dataTable =\n",
              "          await google.colab.kernel.invokeFunction('convertToInteractive',\n",
              "                                                    [key], {});\n",
              "        if (!dataTable) return;\n",
              "\n",
              "        const docLinkHtml = 'Like what you see? Visit the ' +\n",
              "          '<a target=\"_blank\" href=https://colab.research.google.com/notebooks/data_table.ipynb>data table notebook</a>'\n",
              "          + ' to learn more about interactive tables.';\n",
              "        element.innerHTML = '';\n",
              "        dataTable['output_type'] = 'display_data';\n",
              "        await google.colab.output.renderOutput(dataTable, element);\n",
              "        const docLink = document.createElement('div');\n",
              "        docLink.innerHTML = docLinkHtml;\n",
              "        element.appendChild(docLink);\n",
              "      }\n",
              "    </script>\n",
              "  </div>\n",
              "\n",
              "\n",
              "<div id=\"df-bb6a6ca5-968b-4fdb-b687-0d3eee098b53\">\n",
              "  <button class=\"colab-df-quickchart\" onclick=\"quickchart('df-bb6a6ca5-968b-4fdb-b687-0d3eee098b53')\"\n",
              "            title=\"Suggest charts\"\n",
              "            style=\"display:none;\">\n",
              "\n",
              "<svg xmlns=\"http://www.w3.org/2000/svg\" height=\"24px\"viewBox=\"0 0 24 24\"\n",
              "     width=\"24px\">\n",
              "    <g>\n",
              "        <path d=\"M19 3H5c-1.1 0-2 .9-2 2v14c0 1.1.9 2 2 2h14c1.1 0 2-.9 2-2V5c0-1.1-.9-2-2-2zM9 17H7v-7h2v7zm4 0h-2V7h2v10zm4 0h-2v-4h2v4z\"/>\n",
              "    </g>\n",
              "</svg>\n",
              "  </button>\n",
              "\n",
              "<style>\n",
              "  .colab-df-quickchart {\n",
              "      --bg-color: #E8F0FE;\n",
              "      --fill-color: #1967D2;\n",
              "      --hover-bg-color: #E2EBFA;\n",
              "      --hover-fill-color: #174EA6;\n",
              "      --disabled-fill-color: #AAA;\n",
              "      --disabled-bg-color: #DDD;\n",
              "  }\n",
              "\n",
              "  [theme=dark] .colab-df-quickchart {\n",
              "      --bg-color: #3B4455;\n",
              "      --fill-color: #D2E3FC;\n",
              "      --hover-bg-color: #434B5C;\n",
              "      --hover-fill-color: #FFFFFF;\n",
              "      --disabled-bg-color: #3B4455;\n",
              "      --disabled-fill-color: #666;\n",
              "  }\n",
              "\n",
              "  .colab-df-quickchart {\n",
              "    background-color: var(--bg-color);\n",
              "    border: none;\n",
              "    border-radius: 50%;\n",
              "    cursor: pointer;\n",
              "    display: none;\n",
              "    fill: var(--fill-color);\n",
              "    height: 32px;\n",
              "    padding: 0;\n",
              "    width: 32px;\n",
              "  }\n",
              "\n",
              "  .colab-df-quickchart:hover {\n",
              "    background-color: var(--hover-bg-color);\n",
              "    box-shadow: 0 1px 2px rgba(60, 64, 67, 0.3), 0 1px 3px 1px rgba(60, 64, 67, 0.15);\n",
              "    fill: var(--button-hover-fill-color);\n",
              "  }\n",
              "\n",
              "  .colab-df-quickchart-complete:disabled,\n",
              "  .colab-df-quickchart-complete:disabled:hover {\n",
              "    background-color: var(--disabled-bg-color);\n",
              "    fill: var(--disabled-fill-color);\n",
              "    box-shadow: none;\n",
              "  }\n",
              "\n",
              "  .colab-df-spinner {\n",
              "    border: 2px solid var(--fill-color);\n",
              "    border-color: transparent;\n",
              "    border-bottom-color: var(--fill-color);\n",
              "    animation:\n",
              "      spin 1s steps(1) infinite;\n",
              "  }\n",
              "\n",
              "  @keyframes spin {\n",
              "    0% {\n",
              "      border-color: transparent;\n",
              "      border-bottom-color: var(--fill-color);\n",
              "      border-left-color: var(--fill-color);\n",
              "    }\n",
              "    20% {\n",
              "      border-color: transparent;\n",
              "      border-left-color: var(--fill-color);\n",
              "      border-top-color: var(--fill-color);\n",
              "    }\n",
              "    30% {\n",
              "      border-color: transparent;\n",
              "      border-left-color: var(--fill-color);\n",
              "      border-top-color: var(--fill-color);\n",
              "      border-right-color: var(--fill-color);\n",
              "    }\n",
              "    40% {\n",
              "      border-color: transparent;\n",
              "      border-right-color: var(--fill-color);\n",
              "      border-top-color: var(--fill-color);\n",
              "    }\n",
              "    60% {\n",
              "      border-color: transparent;\n",
              "      border-right-color: var(--fill-color);\n",
              "    }\n",
              "    80% {\n",
              "      border-color: transparent;\n",
              "      border-right-color: var(--fill-color);\n",
              "      border-bottom-color: var(--fill-color);\n",
              "    }\n",
              "    90% {\n",
              "      border-color: transparent;\n",
              "      border-bottom-color: var(--fill-color);\n",
              "    }\n",
              "  }\n",
              "</style>\n",
              "\n",
              "  <script>\n",
              "    async function quickchart(key) {\n",
              "      const quickchartButtonEl =\n",
              "        document.querySelector('#' + key + ' button');\n",
              "      quickchartButtonEl.disabled = true;  // To prevent multiple clicks.\n",
              "      quickchartButtonEl.classList.add('colab-df-spinner');\n",
              "      try {\n",
              "        const charts = await google.colab.kernel.invokeFunction(\n",
              "            'suggestCharts', [key], {});\n",
              "      } catch (error) {\n",
              "        console.error('Error during call to suggestCharts:', error);\n",
              "      }\n",
              "      quickchartButtonEl.classList.remove('colab-df-spinner');\n",
              "      quickchartButtonEl.classList.add('colab-df-quickchart-complete');\n",
              "    }\n",
              "    (() => {\n",
              "      let quickchartButtonEl =\n",
              "        document.querySelector('#df-bb6a6ca5-968b-4fdb-b687-0d3eee098b53 button');\n",
              "      quickchartButtonEl.style.display =\n",
              "        google.colab.kernel.accessAllowed ? 'block' : 'none';\n",
              "    })();\n",
              "  </script>\n",
              "</div>\n",
              "\n",
              "    </div>\n",
              "  </div>\n"
            ],
            "application/vnd.google.colaboratory.intrinsic+json": {
              "type": "dataframe",
              "variable_name": "models_pred",
              "summary": "{\n  \"name\": \"models_pred\",\n  \"rows\": 103,\n  \"fields\": [\n    {\n      \"column\": \"X_test\",\n      \"properties\": {\n        \"dtype\": \"string\",\n        \"num_unique_values\": 103,\n        \"samples\": [\n          \"Best Value Stocks to Buy for January 31st YPF, AMWD and SCS made it to the Zacks Rank #1 (Strong Buy) value stocks list on January 31, 2024.. \",\n          \"T. Rowe Ditches Risky Sovereign Debt to Snap Up Corporate Bonds. T. Rowe Price is embracing corporate debt from the Philippines to Brazil and Mexico as the new year kicks off, while ditching the risky frontier-market bonds that outperformed in 2023.\",\n          \"Argentina Requests Relief From Burford\\u2019s Intent to Seize Assets. Argentina has asked a Manhattan court to stop Burford Capital from immediately trying to seize its foreign assets as the hedge fund seeks to collect on billions of dollars that a judge ruled it is owed by the South American country.\"\n        ],\n        \"semantic_type\": \"\",\n        \"description\": \"\"\n      }\n    },\n    {\n      \"column\": \"y_test\",\n      \"properties\": {\n        \"dtype\": \"category\",\n        \"num_unique_values\": 2,\n        \"samples\": [\n          \"Compra\",\n          \"Neutro\"\n        ],\n        \"semantic_type\": \"\",\n        \"description\": \"\"\n      }\n    },\n    {\n      \"column\": \"RegLog\",\n      \"properties\": {\n        \"dtype\": \"category\",\n        \"num_unique_values\": 2,\n        \"samples\": [\n          \"Neutro\",\n          \"Compra\"\n        ],\n        \"semantic_type\": \"\",\n        \"description\": \"\"\n      }\n    },\n    {\n      \"column\": \"RegLog_SW\",\n      \"properties\": {\n        \"dtype\": \"category\",\n        \"num_unique_values\": 2,\n        \"samples\": [\n          \"Compra\",\n          \"Neutro\"\n        ],\n        \"semantic_type\": \"\",\n        \"description\": \"\"\n      }\n    },\n    {\n      \"column\": \"MultinomialNB\",\n      \"properties\": {\n        \"dtype\": \"category\",\n        \"num_unique_values\": 2,\n        \"samples\": [\n          \"Neutro\",\n          \"Compra\"\n        ],\n        \"semantic_type\": \"\",\n        \"description\": \"\"\n      }\n    },\n    {\n      \"column\": \"MultinomialNB_SW\",\n      \"properties\": {\n        \"dtype\": \"category\",\n        \"num_unique_values\": 2,\n        \"samples\": [\n          \"Neutro\",\n          \"Compra\"\n        ],\n        \"semantic_type\": \"\",\n        \"description\": \"\"\n      }\n    },\n    {\n      \"column\": \"SVC\",\n      \"properties\": {\n        \"dtype\": \"category\",\n        \"num_unique_values\": 2,\n        \"samples\": [\n          \"Neutro\",\n          \"Compra\"\n        ],\n        \"semantic_type\": \"\",\n        \"description\": \"\"\n      }\n    },\n    {\n      \"column\": \"SVC_SW\",\n      \"properties\": {\n        \"dtype\": \"category\",\n        \"num_unique_values\": 2,\n        \"samples\": [\n          \"Neutro\",\n          \"Compra\"\n        ],\n        \"semantic_type\": \"\",\n        \"description\": \"\"\n      }\n    },\n    {\n      \"column\": \"RF\",\n      \"properties\": {\n        \"dtype\": \"category\",\n        \"num_unique_values\": 2,\n        \"samples\": [\n          \"Neutro\",\n          \"Compra\"\n        ],\n        \"semantic_type\": \"\",\n        \"description\": \"\"\n      }\n    },\n    {\n      \"column\": \"RF_SW\",\n      \"properties\": {\n        \"dtype\": \"category\",\n        \"num_unique_values\": 2,\n        \"samples\": [\n          \"Neutro\",\n          \"Compra\"\n        ],\n        \"semantic_type\": \"\",\n        \"description\": \"\"\n      }\n    },\n    {\n      \"column\": \"XGB\",\n      \"properties\": {\n        \"dtype\": \"category\",\n        \"num_unique_values\": 2,\n        \"samples\": [\n          \"Neutro\",\n          \"Compra\"\n        ],\n        \"semantic_type\": \"\",\n        \"description\": \"\"\n      }\n    },\n    {\n      \"column\": \"XGB_SW\",\n      \"properties\": {\n        \"dtype\": \"category\",\n        \"num_unique_values\": 2,\n        \"samples\": [\n          \"Neutro\",\n          \"Compra\"\n        ],\n        \"semantic_type\": \"\",\n        \"description\": \"\"\n      }\n    },\n    {\n      \"column\": \"LightGBM\",\n      \"properties\": {\n        \"dtype\": \"category\",\n        \"num_unique_values\": 2,\n        \"samples\": [\n          \"Neutro\",\n          \"Compra\"\n        ],\n        \"semantic_type\": \"\",\n        \"description\": \"\"\n      }\n    },\n    {\n      \"column\": \"LightGBM_SW\",\n      \"properties\": {\n        \"dtype\": \"category\",\n        \"num_unique_values\": 2,\n        \"samples\": [\n          \"Neutro\",\n          \"Compra\"\n        ],\n        \"semantic_type\": \"\",\n        \"description\": \"\"\n      }\n    },\n    {\n      \"column\": \"Word2Vec_LGBM\",\n      \"properties\": {\n        \"dtype\": \"category\",\n        \"num_unique_values\": 2,\n        \"samples\": [\n          \"Compra\",\n          \"Neutro\"\n        ],\n        \"semantic_type\": \"\",\n        \"description\": \"\"\n      }\n    },\n    {\n      \"column\": \"BERT\",\n      \"properties\": {\n        \"dtype\": \"category\",\n        \"num_unique_values\": 2,\n        \"samples\": [\n          \"Compra\",\n          \"Neutro\"\n        ],\n        \"semantic_type\": \"\",\n        \"description\": \"\"\n      }\n    }\n  ]\n}"
            }
          },
          "metadata": {},
          "execution_count": 94
        }
      ],
      "source": [
        "models_pred.head()"
      ]
    },
    {
      "cell_type": "code",
      "execution_count": null,
      "metadata": {
        "id": "dcWqk4qjCeTL"
      },
      "outputs": [],
      "source": [
        "models_pred.to_excel('ypf_predicciones_modelos.xlsx', index=False)"
      ]
    },
    {
      "cell_type": "markdown",
      "metadata": {
        "id": "OcYX-fuoCeTL"
      },
      "source": [
        "### Probabilidades"
      ]
    },
    {
      "cell_type": "code",
      "execution_count": null,
      "metadata": {
        "id": "W1UEw3EsCeTM"
      },
      "outputs": [],
      "source": [
        "probas = [\n",
        "    y_pred_lr_proba,\n",
        "    y_pred_lr_sw_proba,\n",
        "    y_pred_nb_proba,\n",
        "    y_pred_nb_sw_proba,\n",
        "    y_pred_svc_proba,\n",
        "    y_pred_svc_sw_proba,\n",
        "    y_pred_rf_proba,\n",
        "    y_pred_rf_sw_proba,\n",
        "    y_pred_xgb_proba,\n",
        "    y_pred_xgb_sw_proba,\n",
        "    y_pred_lgbm_proba,\n",
        "    y_pred_lgbm_sw_proba,\n",
        "    y_pred_w2v_lgbm_proba,\n",
        "    y_pred_bert_proba\n",
        "]"
      ]
    },
    {
      "cell_type": "markdown",
      "metadata": {
        "id": "-wa8KnnmCeTM"
      },
      "source": [
        "## Ensemble"
      ]
    },
    {
      "cell_type": "code",
      "execution_count": null,
      "metadata": {
        "id": "ewKeNkWECeTN"
      },
      "outputs": [],
      "source": [
        "v_probas = len(probas)\n",
        "v_length = len(probas[0])\n",
        "\n",
        "y_pred_ensemble_proba = [[0] * 2 for _ in range(v_length)]\n",
        "\n",
        "for proba in range(0,v_probas):\n",
        "    for row in range(0,v_length):\n",
        "        for category in range(0,2):\n",
        "            y_pred_ensemble_proba[row][category] += probas[proba][row][category]\n",
        "\n",
        "for row in range(0,v_length):\n",
        "    for category in range(0,2):\n",
        "        y_pred_ensemble_proba[row][category] = y_pred_ensemble_proba[row][category]/v_probas"
      ]
    },
    {
      "cell_type": "code",
      "execution_count": null,
      "metadata": {
        "id": "WauN0SiSCeTN"
      },
      "outputs": [],
      "source": [
        "v_data = {}\n",
        "for i in range(2):\n",
        "    column_name = chr(65 + i)\n",
        "    v_data[column_name] = [inner_list[i] for inner_list in y_pred_ensemble_proba]\n",
        "\n",
        "df = pd.DataFrame(v_data)"
      ]
    },
    {
      "cell_type": "code",
      "execution_count": null,
      "metadata": {
        "id": "DAH6Q4dVCeTN"
      },
      "outputs": [],
      "source": [
        "prob_ensemble = pd.DataFrame(\n",
        "    {\n",
        "        'X_test': data_test['Text'].tolist(),\n",
        "        'y_test': data_test['Category'].tolist(),\n",
        "        'Compra': df['A'].values.tolist(),\n",
        "        'Neutro': df['B'].values.tolist()\n",
        "    }\n",
        ")"
      ]
    },
    {
      "cell_type": "code",
      "execution_count": null,
      "metadata": {
        "id": "pbJDsCjUCeTO",
        "outputId": "e3d2fdb1-f223-4baa-e335-3597fd4c34f1",
        "colab": {
          "base_uri": "https://localhost:8080/",
          "height": 424
        }
      },
      "outputs": [
        {
          "output_type": "execute_result",
          "data": {
            "text/plain": [
              "                                                X_test  y_test    Compra  \\\n",
              "0    Milei Seeks Second Chance From Congress With S...  Neutro  0.576320   \n",
              "1    Javier Milei Races to Ease Argentina Inflation...  Neutro  0.569971   \n",
              "2    Argentina builds case for exporting natgas to ...  Compra  0.490334   \n",
              "3    YPF Sociedad Anonima (YPF) Gains As Market Dip...  Compra  0.852338   \n",
              "4    Milei takes a chainsaw to Argentina’s state co...  Compra  0.614544   \n",
              "..                                                 ...     ...       ...   \n",
              "98         Transcript: Argentina is in its Milei era.   Neutro  0.633569   \n",
              "99   Argentina will not face $16.1 billion YPF judg...  Neutro  0.315586   \n",
              "100  Argentina's black market peso slides with eyes...  Neutro  0.587660   \n",
              "101  Zacks Investment Ideas feature highlights: YPF...  Neutro  0.480304   \n",
              "102  Argentine Stocks Soar, Bonds Climb as Investor...  Compra  0.649251   \n",
              "\n",
              "       Neutro  \n",
              "0    0.423680  \n",
              "1    0.430029  \n",
              "2    0.509666  \n",
              "3    0.147662  \n",
              "4    0.385456  \n",
              "..        ...  \n",
              "98   0.366431  \n",
              "99   0.684414  \n",
              "100  0.412340  \n",
              "101  0.519696  \n",
              "102  0.350749  \n",
              "\n",
              "[103 rows x 4 columns]"
            ],
            "text/html": [
              "\n",
              "  <div id=\"df-585353e3-3299-4570-a4ef-69cc5db0297b\" class=\"colab-df-container\">\n",
              "    <div>\n",
              "<style scoped>\n",
              "    .dataframe tbody tr th:only-of-type {\n",
              "        vertical-align: middle;\n",
              "    }\n",
              "\n",
              "    .dataframe tbody tr th {\n",
              "        vertical-align: top;\n",
              "    }\n",
              "\n",
              "    .dataframe thead th {\n",
              "        text-align: right;\n",
              "    }\n",
              "</style>\n",
              "<table border=\"1\" class=\"dataframe\">\n",
              "  <thead>\n",
              "    <tr style=\"text-align: right;\">\n",
              "      <th></th>\n",
              "      <th>X_test</th>\n",
              "      <th>y_test</th>\n",
              "      <th>Compra</th>\n",
              "      <th>Neutro</th>\n",
              "    </tr>\n",
              "  </thead>\n",
              "  <tbody>\n",
              "    <tr>\n",
              "      <th>0</th>\n",
              "      <td>Milei Seeks Second Chance From Congress With S...</td>\n",
              "      <td>Neutro</td>\n",
              "      <td>0.576320</td>\n",
              "      <td>0.423680</td>\n",
              "    </tr>\n",
              "    <tr>\n",
              "      <th>1</th>\n",
              "      <td>Javier Milei Races to Ease Argentina Inflation...</td>\n",
              "      <td>Neutro</td>\n",
              "      <td>0.569971</td>\n",
              "      <td>0.430029</td>\n",
              "    </tr>\n",
              "    <tr>\n",
              "      <th>2</th>\n",
              "      <td>Argentina builds case for exporting natgas to ...</td>\n",
              "      <td>Compra</td>\n",
              "      <td>0.490334</td>\n",
              "      <td>0.509666</td>\n",
              "    </tr>\n",
              "    <tr>\n",
              "      <th>3</th>\n",
              "      <td>YPF Sociedad Anonima (YPF) Gains As Market Dip...</td>\n",
              "      <td>Compra</td>\n",
              "      <td>0.852338</td>\n",
              "      <td>0.147662</td>\n",
              "    </tr>\n",
              "    <tr>\n",
              "      <th>4</th>\n",
              "      <td>Milei takes a chainsaw to Argentina’s state co...</td>\n",
              "      <td>Compra</td>\n",
              "      <td>0.614544</td>\n",
              "      <td>0.385456</td>\n",
              "    </tr>\n",
              "    <tr>\n",
              "      <th>...</th>\n",
              "      <td>...</td>\n",
              "      <td>...</td>\n",
              "      <td>...</td>\n",
              "      <td>...</td>\n",
              "    </tr>\n",
              "    <tr>\n",
              "      <th>98</th>\n",
              "      <td>Transcript: Argentina is in its Milei era.</td>\n",
              "      <td>Neutro</td>\n",
              "      <td>0.633569</td>\n",
              "      <td>0.366431</td>\n",
              "    </tr>\n",
              "    <tr>\n",
              "      <th>99</th>\n",
              "      <td>Argentina will not face $16.1 billion YPF judg...</td>\n",
              "      <td>Neutro</td>\n",
              "      <td>0.315586</td>\n",
              "      <td>0.684414</td>\n",
              "    </tr>\n",
              "    <tr>\n",
              "      <th>100</th>\n",
              "      <td>Argentina's black market peso slides with eyes...</td>\n",
              "      <td>Neutro</td>\n",
              "      <td>0.587660</td>\n",
              "      <td>0.412340</td>\n",
              "    </tr>\n",
              "    <tr>\n",
              "      <th>101</th>\n",
              "      <td>Zacks Investment Ideas feature highlights: YPF...</td>\n",
              "      <td>Neutro</td>\n",
              "      <td>0.480304</td>\n",
              "      <td>0.519696</td>\n",
              "    </tr>\n",
              "    <tr>\n",
              "      <th>102</th>\n",
              "      <td>Argentine Stocks Soar, Bonds Climb as Investor...</td>\n",
              "      <td>Compra</td>\n",
              "      <td>0.649251</td>\n",
              "      <td>0.350749</td>\n",
              "    </tr>\n",
              "  </tbody>\n",
              "</table>\n",
              "<p>103 rows × 4 columns</p>\n",
              "</div>\n",
              "    <div class=\"colab-df-buttons\">\n",
              "\n",
              "  <div class=\"colab-df-container\">\n",
              "    <button class=\"colab-df-convert\" onclick=\"convertToInteractive('df-585353e3-3299-4570-a4ef-69cc5db0297b')\"\n",
              "            title=\"Convert this dataframe to an interactive table.\"\n",
              "            style=\"display:none;\">\n",
              "\n",
              "  <svg xmlns=\"http://www.w3.org/2000/svg\" height=\"24px\" viewBox=\"0 -960 960 960\">\n",
              "    <path d=\"M120-120v-720h720v720H120Zm60-500h600v-160H180v160Zm220 220h160v-160H400v160Zm0 220h160v-160H400v160ZM180-400h160v-160H180v160Zm440 0h160v-160H620v160ZM180-180h160v-160H180v160Zm440 0h160v-160H620v160Z\"/>\n",
              "  </svg>\n",
              "    </button>\n",
              "\n",
              "  <style>\n",
              "    .colab-df-container {\n",
              "      display:flex;\n",
              "      gap: 12px;\n",
              "    }\n",
              "\n",
              "    .colab-df-convert {\n",
              "      background-color: #E8F0FE;\n",
              "      border: none;\n",
              "      border-radius: 50%;\n",
              "      cursor: pointer;\n",
              "      display: none;\n",
              "      fill: #1967D2;\n",
              "      height: 32px;\n",
              "      padding: 0 0 0 0;\n",
              "      width: 32px;\n",
              "    }\n",
              "\n",
              "    .colab-df-convert:hover {\n",
              "      background-color: #E2EBFA;\n",
              "      box-shadow: 0px 1px 2px rgba(60, 64, 67, 0.3), 0px 1px 3px 1px rgba(60, 64, 67, 0.15);\n",
              "      fill: #174EA6;\n",
              "    }\n",
              "\n",
              "    .colab-df-buttons div {\n",
              "      margin-bottom: 4px;\n",
              "    }\n",
              "\n",
              "    [theme=dark] .colab-df-convert {\n",
              "      background-color: #3B4455;\n",
              "      fill: #D2E3FC;\n",
              "    }\n",
              "\n",
              "    [theme=dark] .colab-df-convert:hover {\n",
              "      background-color: #434B5C;\n",
              "      box-shadow: 0px 1px 3px 1px rgba(0, 0, 0, 0.15);\n",
              "      filter: drop-shadow(0px 1px 2px rgba(0, 0, 0, 0.3));\n",
              "      fill: #FFFFFF;\n",
              "    }\n",
              "  </style>\n",
              "\n",
              "    <script>\n",
              "      const buttonEl =\n",
              "        document.querySelector('#df-585353e3-3299-4570-a4ef-69cc5db0297b button.colab-df-convert');\n",
              "      buttonEl.style.display =\n",
              "        google.colab.kernel.accessAllowed ? 'block' : 'none';\n",
              "\n",
              "      async function convertToInteractive(key) {\n",
              "        const element = document.querySelector('#df-585353e3-3299-4570-a4ef-69cc5db0297b');\n",
              "        const dataTable =\n",
              "          await google.colab.kernel.invokeFunction('convertToInteractive',\n",
              "                                                    [key], {});\n",
              "        if (!dataTable) return;\n",
              "\n",
              "        const docLinkHtml = 'Like what you see? Visit the ' +\n",
              "          '<a target=\"_blank\" href=https://colab.research.google.com/notebooks/data_table.ipynb>data table notebook</a>'\n",
              "          + ' to learn more about interactive tables.';\n",
              "        element.innerHTML = '';\n",
              "        dataTable['output_type'] = 'display_data';\n",
              "        await google.colab.output.renderOutput(dataTable, element);\n",
              "        const docLink = document.createElement('div');\n",
              "        docLink.innerHTML = docLinkHtml;\n",
              "        element.appendChild(docLink);\n",
              "      }\n",
              "    </script>\n",
              "  </div>\n",
              "\n",
              "\n",
              "<div id=\"df-8d5d2a73-3f38-4c79-9e4c-58cc2c6f1c95\">\n",
              "  <button class=\"colab-df-quickchart\" onclick=\"quickchart('df-8d5d2a73-3f38-4c79-9e4c-58cc2c6f1c95')\"\n",
              "            title=\"Suggest charts\"\n",
              "            style=\"display:none;\">\n",
              "\n",
              "<svg xmlns=\"http://www.w3.org/2000/svg\" height=\"24px\"viewBox=\"0 0 24 24\"\n",
              "     width=\"24px\">\n",
              "    <g>\n",
              "        <path d=\"M19 3H5c-1.1 0-2 .9-2 2v14c0 1.1.9 2 2 2h14c1.1 0 2-.9 2-2V5c0-1.1-.9-2-2-2zM9 17H7v-7h2v7zm4 0h-2V7h2v10zm4 0h-2v-4h2v4z\"/>\n",
              "    </g>\n",
              "</svg>\n",
              "  </button>\n",
              "\n",
              "<style>\n",
              "  .colab-df-quickchart {\n",
              "      --bg-color: #E8F0FE;\n",
              "      --fill-color: #1967D2;\n",
              "      --hover-bg-color: #E2EBFA;\n",
              "      --hover-fill-color: #174EA6;\n",
              "      --disabled-fill-color: #AAA;\n",
              "      --disabled-bg-color: #DDD;\n",
              "  }\n",
              "\n",
              "  [theme=dark] .colab-df-quickchart {\n",
              "      --bg-color: #3B4455;\n",
              "      --fill-color: #D2E3FC;\n",
              "      --hover-bg-color: #434B5C;\n",
              "      --hover-fill-color: #FFFFFF;\n",
              "      --disabled-bg-color: #3B4455;\n",
              "      --disabled-fill-color: #666;\n",
              "  }\n",
              "\n",
              "  .colab-df-quickchart {\n",
              "    background-color: var(--bg-color);\n",
              "    border: none;\n",
              "    border-radius: 50%;\n",
              "    cursor: pointer;\n",
              "    display: none;\n",
              "    fill: var(--fill-color);\n",
              "    height: 32px;\n",
              "    padding: 0;\n",
              "    width: 32px;\n",
              "  }\n",
              "\n",
              "  .colab-df-quickchart:hover {\n",
              "    background-color: var(--hover-bg-color);\n",
              "    box-shadow: 0 1px 2px rgba(60, 64, 67, 0.3), 0 1px 3px 1px rgba(60, 64, 67, 0.15);\n",
              "    fill: var(--button-hover-fill-color);\n",
              "  }\n",
              "\n",
              "  .colab-df-quickchart-complete:disabled,\n",
              "  .colab-df-quickchart-complete:disabled:hover {\n",
              "    background-color: var(--disabled-bg-color);\n",
              "    fill: var(--disabled-fill-color);\n",
              "    box-shadow: none;\n",
              "  }\n",
              "\n",
              "  .colab-df-spinner {\n",
              "    border: 2px solid var(--fill-color);\n",
              "    border-color: transparent;\n",
              "    border-bottom-color: var(--fill-color);\n",
              "    animation:\n",
              "      spin 1s steps(1) infinite;\n",
              "  }\n",
              "\n",
              "  @keyframes spin {\n",
              "    0% {\n",
              "      border-color: transparent;\n",
              "      border-bottom-color: var(--fill-color);\n",
              "      border-left-color: var(--fill-color);\n",
              "    }\n",
              "    20% {\n",
              "      border-color: transparent;\n",
              "      border-left-color: var(--fill-color);\n",
              "      border-top-color: var(--fill-color);\n",
              "    }\n",
              "    30% {\n",
              "      border-color: transparent;\n",
              "      border-left-color: var(--fill-color);\n",
              "      border-top-color: var(--fill-color);\n",
              "      border-right-color: var(--fill-color);\n",
              "    }\n",
              "    40% {\n",
              "      border-color: transparent;\n",
              "      border-right-color: var(--fill-color);\n",
              "      border-top-color: var(--fill-color);\n",
              "    }\n",
              "    60% {\n",
              "      border-color: transparent;\n",
              "      border-right-color: var(--fill-color);\n",
              "    }\n",
              "    80% {\n",
              "      border-color: transparent;\n",
              "      border-right-color: var(--fill-color);\n",
              "      border-bottom-color: var(--fill-color);\n",
              "    }\n",
              "    90% {\n",
              "      border-color: transparent;\n",
              "      border-bottom-color: var(--fill-color);\n",
              "    }\n",
              "  }\n",
              "</style>\n",
              "\n",
              "  <script>\n",
              "    async function quickchart(key) {\n",
              "      const quickchartButtonEl =\n",
              "        document.querySelector('#' + key + ' button');\n",
              "      quickchartButtonEl.disabled = true;  // To prevent multiple clicks.\n",
              "      quickchartButtonEl.classList.add('colab-df-spinner');\n",
              "      try {\n",
              "        const charts = await google.colab.kernel.invokeFunction(\n",
              "            'suggestCharts', [key], {});\n",
              "      } catch (error) {\n",
              "        console.error('Error during call to suggestCharts:', error);\n",
              "      }\n",
              "      quickchartButtonEl.classList.remove('colab-df-spinner');\n",
              "      quickchartButtonEl.classList.add('colab-df-quickchart-complete');\n",
              "    }\n",
              "    (() => {\n",
              "      let quickchartButtonEl =\n",
              "        document.querySelector('#df-8d5d2a73-3f38-4c79-9e4c-58cc2c6f1c95 button');\n",
              "      quickchartButtonEl.style.display =\n",
              "        google.colab.kernel.accessAllowed ? 'block' : 'none';\n",
              "    })();\n",
              "  </script>\n",
              "</div>\n",
              "\n",
              "  <div id=\"id_62cfe7d8-9b75-4e97-baf5-be2ff355cf3b\">\n",
              "    <style>\n",
              "      .colab-df-generate {\n",
              "        background-color: #E8F0FE;\n",
              "        border: none;\n",
              "        border-radius: 50%;\n",
              "        cursor: pointer;\n",
              "        display: none;\n",
              "        fill: #1967D2;\n",
              "        height: 32px;\n",
              "        padding: 0 0 0 0;\n",
              "        width: 32px;\n",
              "      }\n",
              "\n",
              "      .colab-df-generate:hover {\n",
              "        background-color: #E2EBFA;\n",
              "        box-shadow: 0px 1px 2px rgba(60, 64, 67, 0.3), 0px 1px 3px 1px rgba(60, 64, 67, 0.15);\n",
              "        fill: #174EA6;\n",
              "      }\n",
              "\n",
              "      [theme=dark] .colab-df-generate {\n",
              "        background-color: #3B4455;\n",
              "        fill: #D2E3FC;\n",
              "      }\n",
              "\n",
              "      [theme=dark] .colab-df-generate:hover {\n",
              "        background-color: #434B5C;\n",
              "        box-shadow: 0px 1px 3px 1px rgba(0, 0, 0, 0.15);\n",
              "        filter: drop-shadow(0px 1px 2px rgba(0, 0, 0, 0.3));\n",
              "        fill: #FFFFFF;\n",
              "      }\n",
              "    </style>\n",
              "    <button class=\"colab-df-generate\" onclick=\"generateWithVariable('prob_ensemble')\"\n",
              "            title=\"Generate code using this dataframe.\"\n",
              "            style=\"display:none;\">\n",
              "\n",
              "  <svg xmlns=\"http://www.w3.org/2000/svg\" height=\"24px\"viewBox=\"0 0 24 24\"\n",
              "       width=\"24px\">\n",
              "    <path d=\"M7,19H8.4L18.45,9,17,7.55,7,17.6ZM5,21V16.75L18.45,3.32a2,2,0,0,1,2.83,0l1.4,1.43a1.91,1.91,0,0,1,.58,1.4,1.91,1.91,0,0,1-.58,1.4L9.25,21ZM18.45,9,17,7.55Zm-12,3A5.31,5.31,0,0,0,4.9,8.1,5.31,5.31,0,0,0,1,6.5,5.31,5.31,0,0,0,4.9,4.9,5.31,5.31,0,0,0,6.5,1,5.31,5.31,0,0,0,8.1,4.9,5.31,5.31,0,0,0,12,6.5,5.46,5.46,0,0,0,6.5,12Z\"/>\n",
              "  </svg>\n",
              "    </button>\n",
              "    <script>\n",
              "      (() => {\n",
              "      const buttonEl =\n",
              "        document.querySelector('#id_62cfe7d8-9b75-4e97-baf5-be2ff355cf3b button.colab-df-generate');\n",
              "      buttonEl.style.display =\n",
              "        google.colab.kernel.accessAllowed ? 'block' : 'none';\n",
              "\n",
              "      buttonEl.onclick = () => {\n",
              "        google.colab.notebook.generateWithVariable('prob_ensemble');\n",
              "      }\n",
              "      })();\n",
              "    </script>\n",
              "  </div>\n",
              "\n",
              "    </div>\n",
              "  </div>\n"
            ],
            "application/vnd.google.colaboratory.intrinsic+json": {
              "type": "dataframe",
              "variable_name": "prob_ensemble",
              "summary": "{\n  \"name\": \"prob_ensemble\",\n  \"rows\": 103,\n  \"fields\": [\n    {\n      \"column\": \"X_test\",\n      \"properties\": {\n        \"dtype\": \"string\",\n        \"num_unique_values\": 103,\n        \"samples\": [\n          \"Best Value Stocks to Buy for January 31st YPF, AMWD and SCS made it to the Zacks Rank #1 (Strong Buy) value stocks list on January 31, 2024.. \",\n          \"T. Rowe Ditches Risky Sovereign Debt to Snap Up Corporate Bonds. T. Rowe Price is embracing corporate debt from the Philippines to Brazil and Mexico as the new year kicks off, while ditching the risky frontier-market bonds that outperformed in 2023.\",\n          \"Argentina Requests Relief From Burford\\u2019s Intent to Seize Assets. Argentina has asked a Manhattan court to stop Burford Capital from immediately trying to seize its foreign assets as the hedge fund seeks to collect on billions of dollars that a judge ruled it is owed by the South American country.\"\n        ],\n        \"semantic_type\": \"\",\n        \"description\": \"\"\n      }\n    },\n    {\n      \"column\": \"y_test\",\n      \"properties\": {\n        \"dtype\": \"category\",\n        \"num_unique_values\": 2,\n        \"samples\": [\n          \"Compra\",\n          \"Neutro\"\n        ],\n        \"semantic_type\": \"\",\n        \"description\": \"\"\n      }\n    },\n    {\n      \"column\": \"Compra\",\n      \"properties\": {\n        \"dtype\": \"number\",\n        \"std\": 0.2059071488383691,\n        \"min\": 0.05337266783272169,\n        \"max\": 0.8904876847957058,\n        \"num_unique_values\": 103,\n        \"samples\": [\n          0.8378003386533788,\n          0.3218262866305275\n        ],\n        \"semantic_type\": \"\",\n        \"description\": \"\"\n      }\n    },\n    {\n      \"column\": \"Neutro\",\n      \"properties\": {\n        \"dtype\": \"number\",\n        \"std\": 0.2059071485103502,\n        \"min\": 0.10951231334164904,\n        \"max\": 0.9466273300385407,\n        \"num_unique_values\": 103,\n        \"samples\": [\n          0.16219966134662125,\n          0.6781737123051039\n        ],\n        \"semantic_type\": \"\",\n        \"description\": \"\"\n      }\n    }\n  ]\n}"
            }
          },
          "metadata": {},
          "execution_count": 100
        }
      ],
      "source": [
        "prob_ensemble"
      ]
    },
    {
      "cell_type": "code",
      "execution_count": null,
      "metadata": {
        "id": "YlAPTPWJCeTO"
      },
      "outputs": [],
      "source": [
        "prob_ensemble['Ensemble Label'] = prob_ensemble[['Compra', 'Neutro']].idxmax(axis=1)"
      ]
    },
    {
      "cell_type": "code",
      "execution_count": null,
      "metadata": {
        "id": "Uu0aKhpFCeTO",
        "outputId": "9cbe495f-6150-4760-abae-13bca39faf0e",
        "colab": {
          "base_uri": "https://localhost:8080/",
          "height": 424
        }
      },
      "outputs": [
        {
          "output_type": "execute_result",
          "data": {
            "text/plain": [
              "                                                X_test  y_test    Compra  \\\n",
              "0    Milei Seeks Second Chance From Congress With S...  Neutro  0.576320   \n",
              "1    Javier Milei Races to Ease Argentina Inflation...  Neutro  0.569971   \n",
              "2    Argentina builds case for exporting natgas to ...  Compra  0.490334   \n",
              "3    YPF Sociedad Anonima (YPF) Gains As Market Dip...  Compra  0.852338   \n",
              "4    Milei takes a chainsaw to Argentina’s state co...  Compra  0.614544   \n",
              "..                                                 ...     ...       ...   \n",
              "98         Transcript: Argentina is in its Milei era.   Neutro  0.633569   \n",
              "99   Argentina will not face $16.1 billion YPF judg...  Neutro  0.315586   \n",
              "100  Argentina's black market peso slides with eyes...  Neutro  0.587660   \n",
              "101  Zacks Investment Ideas feature highlights: YPF...  Neutro  0.480304   \n",
              "102  Argentine Stocks Soar, Bonds Climb as Investor...  Compra  0.649251   \n",
              "\n",
              "       Neutro Ensemble Label  \n",
              "0    0.423680         Compra  \n",
              "1    0.430029         Compra  \n",
              "2    0.509666         Neutro  \n",
              "3    0.147662         Compra  \n",
              "4    0.385456         Compra  \n",
              "..        ...            ...  \n",
              "98   0.366431         Compra  \n",
              "99   0.684414         Neutro  \n",
              "100  0.412340         Compra  \n",
              "101  0.519696         Neutro  \n",
              "102  0.350749         Compra  \n",
              "\n",
              "[103 rows x 5 columns]"
            ],
            "text/html": [
              "\n",
              "  <div id=\"df-37f97bc5-0ba6-40f6-a5a3-69bdcb691a41\" class=\"colab-df-container\">\n",
              "    <div>\n",
              "<style scoped>\n",
              "    .dataframe tbody tr th:only-of-type {\n",
              "        vertical-align: middle;\n",
              "    }\n",
              "\n",
              "    .dataframe tbody tr th {\n",
              "        vertical-align: top;\n",
              "    }\n",
              "\n",
              "    .dataframe thead th {\n",
              "        text-align: right;\n",
              "    }\n",
              "</style>\n",
              "<table border=\"1\" class=\"dataframe\">\n",
              "  <thead>\n",
              "    <tr style=\"text-align: right;\">\n",
              "      <th></th>\n",
              "      <th>X_test</th>\n",
              "      <th>y_test</th>\n",
              "      <th>Compra</th>\n",
              "      <th>Neutro</th>\n",
              "      <th>Ensemble Label</th>\n",
              "    </tr>\n",
              "  </thead>\n",
              "  <tbody>\n",
              "    <tr>\n",
              "      <th>0</th>\n",
              "      <td>Milei Seeks Second Chance From Congress With S...</td>\n",
              "      <td>Neutro</td>\n",
              "      <td>0.576320</td>\n",
              "      <td>0.423680</td>\n",
              "      <td>Compra</td>\n",
              "    </tr>\n",
              "    <tr>\n",
              "      <th>1</th>\n",
              "      <td>Javier Milei Races to Ease Argentina Inflation...</td>\n",
              "      <td>Neutro</td>\n",
              "      <td>0.569971</td>\n",
              "      <td>0.430029</td>\n",
              "      <td>Compra</td>\n",
              "    </tr>\n",
              "    <tr>\n",
              "      <th>2</th>\n",
              "      <td>Argentina builds case for exporting natgas to ...</td>\n",
              "      <td>Compra</td>\n",
              "      <td>0.490334</td>\n",
              "      <td>0.509666</td>\n",
              "      <td>Neutro</td>\n",
              "    </tr>\n",
              "    <tr>\n",
              "      <th>3</th>\n",
              "      <td>YPF Sociedad Anonima (YPF) Gains As Market Dip...</td>\n",
              "      <td>Compra</td>\n",
              "      <td>0.852338</td>\n",
              "      <td>0.147662</td>\n",
              "      <td>Compra</td>\n",
              "    </tr>\n",
              "    <tr>\n",
              "      <th>4</th>\n",
              "      <td>Milei takes a chainsaw to Argentina’s state co...</td>\n",
              "      <td>Compra</td>\n",
              "      <td>0.614544</td>\n",
              "      <td>0.385456</td>\n",
              "      <td>Compra</td>\n",
              "    </tr>\n",
              "    <tr>\n",
              "      <th>...</th>\n",
              "      <td>...</td>\n",
              "      <td>...</td>\n",
              "      <td>...</td>\n",
              "      <td>...</td>\n",
              "      <td>...</td>\n",
              "    </tr>\n",
              "    <tr>\n",
              "      <th>98</th>\n",
              "      <td>Transcript: Argentina is in its Milei era.</td>\n",
              "      <td>Neutro</td>\n",
              "      <td>0.633569</td>\n",
              "      <td>0.366431</td>\n",
              "      <td>Compra</td>\n",
              "    </tr>\n",
              "    <tr>\n",
              "      <th>99</th>\n",
              "      <td>Argentina will not face $16.1 billion YPF judg...</td>\n",
              "      <td>Neutro</td>\n",
              "      <td>0.315586</td>\n",
              "      <td>0.684414</td>\n",
              "      <td>Neutro</td>\n",
              "    </tr>\n",
              "    <tr>\n",
              "      <th>100</th>\n",
              "      <td>Argentina's black market peso slides with eyes...</td>\n",
              "      <td>Neutro</td>\n",
              "      <td>0.587660</td>\n",
              "      <td>0.412340</td>\n",
              "      <td>Compra</td>\n",
              "    </tr>\n",
              "    <tr>\n",
              "      <th>101</th>\n",
              "      <td>Zacks Investment Ideas feature highlights: YPF...</td>\n",
              "      <td>Neutro</td>\n",
              "      <td>0.480304</td>\n",
              "      <td>0.519696</td>\n",
              "      <td>Neutro</td>\n",
              "    </tr>\n",
              "    <tr>\n",
              "      <th>102</th>\n",
              "      <td>Argentine Stocks Soar, Bonds Climb as Investor...</td>\n",
              "      <td>Compra</td>\n",
              "      <td>0.649251</td>\n",
              "      <td>0.350749</td>\n",
              "      <td>Compra</td>\n",
              "    </tr>\n",
              "  </tbody>\n",
              "</table>\n",
              "<p>103 rows × 5 columns</p>\n",
              "</div>\n",
              "    <div class=\"colab-df-buttons\">\n",
              "\n",
              "  <div class=\"colab-df-container\">\n",
              "    <button class=\"colab-df-convert\" onclick=\"convertToInteractive('df-37f97bc5-0ba6-40f6-a5a3-69bdcb691a41')\"\n",
              "            title=\"Convert this dataframe to an interactive table.\"\n",
              "            style=\"display:none;\">\n",
              "\n",
              "  <svg xmlns=\"http://www.w3.org/2000/svg\" height=\"24px\" viewBox=\"0 -960 960 960\">\n",
              "    <path d=\"M120-120v-720h720v720H120Zm60-500h600v-160H180v160Zm220 220h160v-160H400v160Zm0 220h160v-160H400v160ZM180-400h160v-160H180v160Zm440 0h160v-160H620v160ZM180-180h160v-160H180v160Zm440 0h160v-160H620v160Z\"/>\n",
              "  </svg>\n",
              "    </button>\n",
              "\n",
              "  <style>\n",
              "    .colab-df-container {\n",
              "      display:flex;\n",
              "      gap: 12px;\n",
              "    }\n",
              "\n",
              "    .colab-df-convert {\n",
              "      background-color: #E8F0FE;\n",
              "      border: none;\n",
              "      border-radius: 50%;\n",
              "      cursor: pointer;\n",
              "      display: none;\n",
              "      fill: #1967D2;\n",
              "      height: 32px;\n",
              "      padding: 0 0 0 0;\n",
              "      width: 32px;\n",
              "    }\n",
              "\n",
              "    .colab-df-convert:hover {\n",
              "      background-color: #E2EBFA;\n",
              "      box-shadow: 0px 1px 2px rgba(60, 64, 67, 0.3), 0px 1px 3px 1px rgba(60, 64, 67, 0.15);\n",
              "      fill: #174EA6;\n",
              "    }\n",
              "\n",
              "    .colab-df-buttons div {\n",
              "      margin-bottom: 4px;\n",
              "    }\n",
              "\n",
              "    [theme=dark] .colab-df-convert {\n",
              "      background-color: #3B4455;\n",
              "      fill: #D2E3FC;\n",
              "    }\n",
              "\n",
              "    [theme=dark] .colab-df-convert:hover {\n",
              "      background-color: #434B5C;\n",
              "      box-shadow: 0px 1px 3px 1px rgba(0, 0, 0, 0.15);\n",
              "      filter: drop-shadow(0px 1px 2px rgba(0, 0, 0, 0.3));\n",
              "      fill: #FFFFFF;\n",
              "    }\n",
              "  </style>\n",
              "\n",
              "    <script>\n",
              "      const buttonEl =\n",
              "        document.querySelector('#df-37f97bc5-0ba6-40f6-a5a3-69bdcb691a41 button.colab-df-convert');\n",
              "      buttonEl.style.display =\n",
              "        google.colab.kernel.accessAllowed ? 'block' : 'none';\n",
              "\n",
              "      async function convertToInteractive(key) {\n",
              "        const element = document.querySelector('#df-37f97bc5-0ba6-40f6-a5a3-69bdcb691a41');\n",
              "        const dataTable =\n",
              "          await google.colab.kernel.invokeFunction('convertToInteractive',\n",
              "                                                    [key], {});\n",
              "        if (!dataTable) return;\n",
              "\n",
              "        const docLinkHtml = 'Like what you see? Visit the ' +\n",
              "          '<a target=\"_blank\" href=https://colab.research.google.com/notebooks/data_table.ipynb>data table notebook</a>'\n",
              "          + ' to learn more about interactive tables.';\n",
              "        element.innerHTML = '';\n",
              "        dataTable['output_type'] = 'display_data';\n",
              "        await google.colab.output.renderOutput(dataTable, element);\n",
              "        const docLink = document.createElement('div');\n",
              "        docLink.innerHTML = docLinkHtml;\n",
              "        element.appendChild(docLink);\n",
              "      }\n",
              "    </script>\n",
              "  </div>\n",
              "\n",
              "\n",
              "<div id=\"df-4b8e8458-2ffd-4cfd-9b99-8e1a5387bf8b\">\n",
              "  <button class=\"colab-df-quickchart\" onclick=\"quickchart('df-4b8e8458-2ffd-4cfd-9b99-8e1a5387bf8b')\"\n",
              "            title=\"Suggest charts\"\n",
              "            style=\"display:none;\">\n",
              "\n",
              "<svg xmlns=\"http://www.w3.org/2000/svg\" height=\"24px\"viewBox=\"0 0 24 24\"\n",
              "     width=\"24px\">\n",
              "    <g>\n",
              "        <path d=\"M19 3H5c-1.1 0-2 .9-2 2v14c0 1.1.9 2 2 2h14c1.1 0 2-.9 2-2V5c0-1.1-.9-2-2-2zM9 17H7v-7h2v7zm4 0h-2V7h2v10zm4 0h-2v-4h2v4z\"/>\n",
              "    </g>\n",
              "</svg>\n",
              "  </button>\n",
              "\n",
              "<style>\n",
              "  .colab-df-quickchart {\n",
              "      --bg-color: #E8F0FE;\n",
              "      --fill-color: #1967D2;\n",
              "      --hover-bg-color: #E2EBFA;\n",
              "      --hover-fill-color: #174EA6;\n",
              "      --disabled-fill-color: #AAA;\n",
              "      --disabled-bg-color: #DDD;\n",
              "  }\n",
              "\n",
              "  [theme=dark] .colab-df-quickchart {\n",
              "      --bg-color: #3B4455;\n",
              "      --fill-color: #D2E3FC;\n",
              "      --hover-bg-color: #434B5C;\n",
              "      --hover-fill-color: #FFFFFF;\n",
              "      --disabled-bg-color: #3B4455;\n",
              "      --disabled-fill-color: #666;\n",
              "  }\n",
              "\n",
              "  .colab-df-quickchart {\n",
              "    background-color: var(--bg-color);\n",
              "    border: none;\n",
              "    border-radius: 50%;\n",
              "    cursor: pointer;\n",
              "    display: none;\n",
              "    fill: var(--fill-color);\n",
              "    height: 32px;\n",
              "    padding: 0;\n",
              "    width: 32px;\n",
              "  }\n",
              "\n",
              "  .colab-df-quickchart:hover {\n",
              "    background-color: var(--hover-bg-color);\n",
              "    box-shadow: 0 1px 2px rgba(60, 64, 67, 0.3), 0 1px 3px 1px rgba(60, 64, 67, 0.15);\n",
              "    fill: var(--button-hover-fill-color);\n",
              "  }\n",
              "\n",
              "  .colab-df-quickchart-complete:disabled,\n",
              "  .colab-df-quickchart-complete:disabled:hover {\n",
              "    background-color: var(--disabled-bg-color);\n",
              "    fill: var(--disabled-fill-color);\n",
              "    box-shadow: none;\n",
              "  }\n",
              "\n",
              "  .colab-df-spinner {\n",
              "    border: 2px solid var(--fill-color);\n",
              "    border-color: transparent;\n",
              "    border-bottom-color: var(--fill-color);\n",
              "    animation:\n",
              "      spin 1s steps(1) infinite;\n",
              "  }\n",
              "\n",
              "  @keyframes spin {\n",
              "    0% {\n",
              "      border-color: transparent;\n",
              "      border-bottom-color: var(--fill-color);\n",
              "      border-left-color: var(--fill-color);\n",
              "    }\n",
              "    20% {\n",
              "      border-color: transparent;\n",
              "      border-left-color: var(--fill-color);\n",
              "      border-top-color: var(--fill-color);\n",
              "    }\n",
              "    30% {\n",
              "      border-color: transparent;\n",
              "      border-left-color: var(--fill-color);\n",
              "      border-top-color: var(--fill-color);\n",
              "      border-right-color: var(--fill-color);\n",
              "    }\n",
              "    40% {\n",
              "      border-color: transparent;\n",
              "      border-right-color: var(--fill-color);\n",
              "      border-top-color: var(--fill-color);\n",
              "    }\n",
              "    60% {\n",
              "      border-color: transparent;\n",
              "      border-right-color: var(--fill-color);\n",
              "    }\n",
              "    80% {\n",
              "      border-color: transparent;\n",
              "      border-right-color: var(--fill-color);\n",
              "      border-bottom-color: var(--fill-color);\n",
              "    }\n",
              "    90% {\n",
              "      border-color: transparent;\n",
              "      border-bottom-color: var(--fill-color);\n",
              "    }\n",
              "  }\n",
              "</style>\n",
              "\n",
              "  <script>\n",
              "    async function quickchart(key) {\n",
              "      const quickchartButtonEl =\n",
              "        document.querySelector('#' + key + ' button');\n",
              "      quickchartButtonEl.disabled = true;  // To prevent multiple clicks.\n",
              "      quickchartButtonEl.classList.add('colab-df-spinner');\n",
              "      try {\n",
              "        const charts = await google.colab.kernel.invokeFunction(\n",
              "            'suggestCharts', [key], {});\n",
              "      } catch (error) {\n",
              "        console.error('Error during call to suggestCharts:', error);\n",
              "      }\n",
              "      quickchartButtonEl.classList.remove('colab-df-spinner');\n",
              "      quickchartButtonEl.classList.add('colab-df-quickchart-complete');\n",
              "    }\n",
              "    (() => {\n",
              "      let quickchartButtonEl =\n",
              "        document.querySelector('#df-4b8e8458-2ffd-4cfd-9b99-8e1a5387bf8b button');\n",
              "      quickchartButtonEl.style.display =\n",
              "        google.colab.kernel.accessAllowed ? 'block' : 'none';\n",
              "    })();\n",
              "  </script>\n",
              "</div>\n",
              "\n",
              "  <div id=\"id_a889ddbf-9343-4353-ae2b-33cead15e7f7\">\n",
              "    <style>\n",
              "      .colab-df-generate {\n",
              "        background-color: #E8F0FE;\n",
              "        border: none;\n",
              "        border-radius: 50%;\n",
              "        cursor: pointer;\n",
              "        display: none;\n",
              "        fill: #1967D2;\n",
              "        height: 32px;\n",
              "        padding: 0 0 0 0;\n",
              "        width: 32px;\n",
              "      }\n",
              "\n",
              "      .colab-df-generate:hover {\n",
              "        background-color: #E2EBFA;\n",
              "        box-shadow: 0px 1px 2px rgba(60, 64, 67, 0.3), 0px 1px 3px 1px rgba(60, 64, 67, 0.15);\n",
              "        fill: #174EA6;\n",
              "      }\n",
              "\n",
              "      [theme=dark] .colab-df-generate {\n",
              "        background-color: #3B4455;\n",
              "        fill: #D2E3FC;\n",
              "      }\n",
              "\n",
              "      [theme=dark] .colab-df-generate:hover {\n",
              "        background-color: #434B5C;\n",
              "        box-shadow: 0px 1px 3px 1px rgba(0, 0, 0, 0.15);\n",
              "        filter: drop-shadow(0px 1px 2px rgba(0, 0, 0, 0.3));\n",
              "        fill: #FFFFFF;\n",
              "      }\n",
              "    </style>\n",
              "    <button class=\"colab-df-generate\" onclick=\"generateWithVariable('prob_ensemble')\"\n",
              "            title=\"Generate code using this dataframe.\"\n",
              "            style=\"display:none;\">\n",
              "\n",
              "  <svg xmlns=\"http://www.w3.org/2000/svg\" height=\"24px\"viewBox=\"0 0 24 24\"\n",
              "       width=\"24px\">\n",
              "    <path d=\"M7,19H8.4L18.45,9,17,7.55,7,17.6ZM5,21V16.75L18.45,3.32a2,2,0,0,1,2.83,0l1.4,1.43a1.91,1.91,0,0,1,.58,1.4,1.91,1.91,0,0,1-.58,1.4L9.25,21ZM18.45,9,17,7.55Zm-12,3A5.31,5.31,0,0,0,4.9,8.1,5.31,5.31,0,0,0,1,6.5,5.31,5.31,0,0,0,4.9,4.9,5.31,5.31,0,0,0,6.5,1,5.31,5.31,0,0,0,8.1,4.9,5.31,5.31,0,0,0,12,6.5,5.46,5.46,0,0,0,6.5,12Z\"/>\n",
              "  </svg>\n",
              "    </button>\n",
              "    <script>\n",
              "      (() => {\n",
              "      const buttonEl =\n",
              "        document.querySelector('#id_a889ddbf-9343-4353-ae2b-33cead15e7f7 button.colab-df-generate');\n",
              "      buttonEl.style.display =\n",
              "        google.colab.kernel.accessAllowed ? 'block' : 'none';\n",
              "\n",
              "      buttonEl.onclick = () => {\n",
              "        google.colab.notebook.generateWithVariable('prob_ensemble');\n",
              "      }\n",
              "      })();\n",
              "    </script>\n",
              "  </div>\n",
              "\n",
              "    </div>\n",
              "  </div>\n"
            ],
            "application/vnd.google.colaboratory.intrinsic+json": {
              "type": "dataframe",
              "variable_name": "prob_ensemble",
              "summary": "{\n  \"name\": \"prob_ensemble\",\n  \"rows\": 103,\n  \"fields\": [\n    {\n      \"column\": \"X_test\",\n      \"properties\": {\n        \"dtype\": \"string\",\n        \"num_unique_values\": 103,\n        \"samples\": [\n          \"Best Value Stocks to Buy for January 31st YPF, AMWD and SCS made it to the Zacks Rank #1 (Strong Buy) value stocks list on January 31, 2024.. \",\n          \"T. Rowe Ditches Risky Sovereign Debt to Snap Up Corporate Bonds. T. Rowe Price is embracing corporate debt from the Philippines to Brazil and Mexico as the new year kicks off, while ditching the risky frontier-market bonds that outperformed in 2023.\",\n          \"Argentina Requests Relief From Burford\\u2019s Intent to Seize Assets. Argentina has asked a Manhattan court to stop Burford Capital from immediately trying to seize its foreign assets as the hedge fund seeks to collect on billions of dollars that a judge ruled it is owed by the South American country.\"\n        ],\n        \"semantic_type\": \"\",\n        \"description\": \"\"\n      }\n    },\n    {\n      \"column\": \"y_test\",\n      \"properties\": {\n        \"dtype\": \"category\",\n        \"num_unique_values\": 2,\n        \"samples\": [\n          \"Compra\",\n          \"Neutro\"\n        ],\n        \"semantic_type\": \"\",\n        \"description\": \"\"\n      }\n    },\n    {\n      \"column\": \"Compra\",\n      \"properties\": {\n        \"dtype\": \"number\",\n        \"std\": 0.2059071488383691,\n        \"min\": 0.05337266783272169,\n        \"max\": 0.8904876847957058,\n        \"num_unique_values\": 103,\n        \"samples\": [\n          0.8378003386533788,\n          0.3218262866305275\n        ],\n        \"semantic_type\": \"\",\n        \"description\": \"\"\n      }\n    },\n    {\n      \"column\": \"Neutro\",\n      \"properties\": {\n        \"dtype\": \"number\",\n        \"std\": 0.2059071485103502,\n        \"min\": 0.10951231334164904,\n        \"max\": 0.9466273300385407,\n        \"num_unique_values\": 103,\n        \"samples\": [\n          0.16219966134662125,\n          0.6781737123051039\n        ],\n        \"semantic_type\": \"\",\n        \"description\": \"\"\n      }\n    },\n    {\n      \"column\": \"Ensemble Label\",\n      \"properties\": {\n        \"dtype\": \"category\",\n        \"num_unique_values\": 2,\n        \"samples\": [\n          \"Neutro\",\n          \"Compra\"\n        ],\n        \"semantic_type\": \"\",\n        \"description\": \"\"\n      }\n    }\n  ]\n}"
            }
          },
          "metadata": {},
          "execution_count": 103
        }
      ],
      "source": [
        "prob_ensemble"
      ]
    },
    {
      "cell_type": "markdown",
      "metadata": {
        "id": "vYsSWmNnCeTO"
      },
      "source": [
        "## Métricas"
      ]
    },
    {
      "cell_type": "markdown",
      "metadata": {
        "id": "IezNk2LlCeTO"
      },
      "source": [
        "### AUC/ROC"
      ]
    },
    {
      "cell_type": "code",
      "execution_count": null,
      "metadata": {
        "id": "unLEr_5NCeTO"
      },
      "outputs": [],
      "source": [
        "probas = [\n",
        "    y_pred_lr_proba,\n",
        "    y_pred_lr_sw_proba,\n",
        "    y_pred_nb_proba,\n",
        "    y_pred_nb_sw_proba,\n",
        "    y_pred_svc_proba,\n",
        "    y_pred_svc_sw_proba,\n",
        "    y_pred_rf_proba,\n",
        "    y_pred_rf_sw_proba,\n",
        "    y_pred_xgb_proba,\n",
        "    y_pred_xgb_sw_proba,\n",
        "    y_pred_lgbm_proba,\n",
        "    y_pred_lgbm_sw_proba,\n",
        "    y_pred_w2v_lgbm_proba,\n",
        "    y_pred_bert_proba,\n",
        "    np.array(y_pred_ensemble_proba)\n",
        "]\n",
        "\n",
        "model_names = [\"RegLog\",\n",
        "               \"RegLog*\",\n",
        "               \"NaiveB\",\n",
        "               \"NaiveB*\",\n",
        "               \"SVC\",\n",
        "               \"SVC*\",\n",
        "               \"RandF\",\n",
        "               \"RandF*\",\n",
        "               \"XGB\",\n",
        "               \"XGB*\",\n",
        "               \"LGBM\",\n",
        "               \"LGBM*\",\n",
        "               \"W2V_Lgbm\",\n",
        "               \"Bert\",\n",
        "               \"Ensemble\",\n",
        "               ]"
      ]
    },
    {
      "cell_type": "code",
      "execution_count": null,
      "metadata": {
        "id": "6KJIV5CSCeTP"
      },
      "outputs": [],
      "source": [
        "class_labels = ['Compra', 'Neutro']\n",
        "\n",
        "label_encoder = LabelEncoder()\n",
        "y_true_encoded = label_encoder.fit_transform(y_test)"
      ]
    },
    {
      "cell_type": "code",
      "execution_count": null,
      "metadata": {
        "id": "R5C7aHdbCeTP",
        "outputId": "b512a57b-b4ba-4d99-ba99-9bbb1a7e1b76",
        "colab": {
          "base_uri": "https://localhost:8080/",
          "height": 564
        }
      },
      "outputs": [
        {
          "output_type": "display_data",
          "data": {
            "text/plain": [
              "<Figure size 800x600 with 1 Axes>"
            ],
            "image/png": "[encoded data removed]"
          },
          "metadata": {}
        }
      ],
      "source": [
        "plt.figure(figsize=(8, 6))\n",
        "\n",
        "for i, y_pred_probabilities in enumerate(probas):\n",
        "    fpr = dict()\n",
        "    tpr = dict()\n",
        "    roc_auc = dict()\n",
        "\n",
        "    n_classes = len(class_labels)\n",
        "    for j in range(n_classes):\n",
        "        y_true_class = (y_true_encoded == j).astype(int)\n",
        "        fpr[j], tpr[j], _ = roc_curve(y_true_class, y_pred_probabilities[:, j])\n",
        "        roc_auc[j] = auc(fpr[j], tpr[j])\n",
        "\n",
        "    all_fpr = np.unique(np.concatenate([fpr[j] for j in range(n_classes)]))\n",
        "    mean_tpr = np.zeros_like(all_fpr)\n",
        "\n",
        "    for j in range(n_classes):\n",
        "        mean_tpr += np.interp(all_fpr, fpr[j], tpr[j])\n",
        "\n",
        "    mean_tpr /= n_classes\n",
        "    roc_auc_micro = auc(all_fpr, mean_tpr)\n",
        "\n",
        "    if i == len(probas) - 1:\n",
        "        plt.plot(all_fpr, mean_tpr, lw=2, label=f'{model_names[i]} (AUC = {roc_auc_micro:.2f})', color='purple')\n",
        "    else:\n",
        "        plt.plot(all_fpr, mean_tpr, lw=1, label=f'{model_names[i]} (AUC = {roc_auc_micro:.2f})', color='lightgray')\n",
        "\n",
        "\n",
        "plt.plot([0, 1], [0, 1], color='gray', linestyle='--')\n",
        "plt.xlim([0.0, 1.0])\n",
        "plt.ylim([0.0, 1.05])\n",
        "plt.xlabel('False Positive Rate')\n",
        "plt.ylabel('True Positive Rate')\n",
        "plt.title('Micro-Average ROC')\n",
        "plt.legend(loc='lower right')\n",
        "plt.grid(True)\n",
        "plt.show()\n"
      ]
    },
    {
      "cell_type": "markdown",
      "metadata": {
        "id": "wbkONuM1CeTT"
      },
      "source": [
        "### Evaluación"
      ]
    },
    {
      "cell_type": "code",
      "execution_count": null,
      "metadata": {
        "id": "2rhqNu5eCeTT",
        "outputId": "395772a0-7bf5-4847-e80b-71f45c2a917e",
        "colab": {
          "base_uri": "https://localhost:8080/"
        }
      },
      "outputs": [
        {
          "output_type": "stream",
          "name": "stdout",
          "text": [
            "Accuracy: 66.02%\n",
            "\n",
            "F1 Score: 66.49\n",
            "\n",
            "Confusion Matrix:\n",
            " [[24 14]\n",
            " [21 44]]\n"
          ]
        }
      ],
      "source": [
        "print(\"Accuracy: {:.2f}%\".format(accuracy_score(y_test, prob_ensemble[\"Ensemble Label\"].to_list()) * 100))\n",
        "print(\"\\nF1 Score: {:.2f}\".format(f1_score(y_test, prob_ensemble[\"Ensemble Label\"].to_list(), average='weighted') * 100))\n",
        "print(\"\\nConfusion Matrix:\\n\", confusion_matrix(y_test, prob_ensemble[\"Ensemble Label\"].to_list()))"
      ]
    },
    {
      "cell_type": "code",
      "execution_count": null,
      "metadata": {
        "id": "Gu8uGB4GCeTU"
      },
      "outputs": [],
      "source": [
        "prob_ensemble.to_excel('ypf_predicciones_ensemble_power.xlsx', index=False)"
      ]
    }
  ],
  "metadata": {
    "kernelspec": {
      "display_name": "Python 3",
      "name": "python3"
    },
    "language_info": {
      "codemirror_mode": {
        "name": "ipython",
        "version": 3
      },
      "file_extension": ".py",
      "mimetype": "text/x-python",
      "name": "python",
      "nbconvert_exporter": "python",
      "pygments_lexer": "ipython3",
      "version": "3.12.0"
    },
    "orig_nbformat": 4,
    "colab": {
      "provenance": [],
      "gpuType": "T4"
    },
    "widgets": {
      "application/vnd.jupyter.widget-state+json": {
        "b452e9b3acb240aa831fe87c134951af": {
          "model_module": "@jupyter-widgets/controls",
          "model_name": "HBoxModel",
          "model_module_version": "1.5.0",
          "state": {
            "_dom_classes": [],
            "_model_module": "@jupyter-widgets/controls",
            "_model_module_version": "1.5.0",
            "_model_name": "HBoxModel",
            "_view_count": null,
            "_view_module": "@jupyter-widgets/controls",
            "_view_module_version": "1.5.0",
            "_view_name": "HBoxView",
            "box_style": "",
            "children": [
              "IPY_MODEL_48df9dc4618345b992086aa34f4f17ef",
              "IPY_MODEL_830d6f5aaff84a1ab937576ea1bab415",
              "IPY_MODEL_384a3ebfe3aa46ac9df99f6e5331de2d"
            ],
            "layout": "IPY_MODEL_7ebc386b326b4f93997689f2e30fe028"
          }
        },
        "48df9dc4618345b992086aa34f4f17ef": {
          "model_module": "@jupyter-widgets/controls",
          "model_name": "HTMLModel",
          "model_module_version": "1.5.0",
          "state": {
            "_dom_classes": [],
            "_model_module": "@jupyter-widgets/controls",
            "_model_module_version": "1.5.0",
            "_model_name": "HTMLModel",
            "_view_count": null,
            "_view_module": "@jupyter-widgets/controls",
            "_view_module_version": "1.5.0",
            "_view_name": "HTMLView",
            "description": "",
            "description_tooltip": null,
            "layout": "IPY_MODEL_dc15631683bf4a8fa8db29f69ff57d24",
            "placeholder": "​",
            "style": "IPY_MODEL_e9c0a056dce94610a1dacfc77a3a7b0f",
            "value": "tokenizer_config.json: 100%"
          }
        },
        "830d6f5aaff84a1ab937576ea1bab415": {
          "model_module": "@jupyter-widgets/controls",
          "model_name": "FloatProgressModel",
          "model_module_version": "1.5.0",
          "state": {
            "_dom_classes": [],
            "_model_module": "@jupyter-widgets/controls",
            "_model_module_version": "1.5.0",
            "_model_name": "FloatProgressModel",
            "_view_count": null,
            "_view_module": "@jupyter-widgets/controls",
            "_view_module_version": "1.5.0",
            "_view_name": "ProgressView",
            "bar_style": "success",
            "description": "",
            "description_tooltip": null,
            "layout": "IPY_MODEL_7e713d2acb7340ca9ceb40ddbe72eeff",
            "max": 48,
            "min": 0,
            "orientation": "horizontal",
            "style": "IPY_MODEL_95b3e73f7c93470aac46cae56da69acc",
            "value": 48
          }
        },
        "384a3ebfe3aa46ac9df99f6e5331de2d": {
          "model_module": "@jupyter-widgets/controls",
          "model_name": "HTMLModel",
          "model_module_version": "1.5.0",
          "state": {
            "_dom_classes": [],
            "_model_module": "@jupyter-widgets/controls",
            "_model_module_version": "1.5.0",
            "_model_name": "HTMLModel",
            "_view_count": null,
            "_view_module": "@jupyter-widgets/controls",
            "_view_module_version": "1.5.0",
            "_view_name": "HTMLView",
            "description": "",
            "description_tooltip": null,
            "layout": "IPY_MODEL_878aa8115dcd4e09baa227ff831a3ca3",
            "placeholder": "​",
            "style": "IPY_MODEL_398ac2dba9544a259c1836b87301fe13",
            "value": " 48.0/48.0 [00:00&lt;00:00, 3.42kB/s]"
          }
        },
        "7ebc386b326b4f93997689f2e30fe028": {
          "model_module": "@jupyter-widgets/base",
          "model_name": "LayoutModel",
          "model_module_version": "1.2.0",
          "state": {
            "_model_module": "@jupyter-widgets/base",
            "_model_module_version": "1.2.0",
            "_model_name": "LayoutModel",
            "_view_count": null,
            "_view_module": "@jupyter-widgets/base",
            "_view_module_version": "1.2.0",
            "_view_name": "LayoutView",
            "align_content": null,
            "align_items": null,
            "align_self": null,
            "border": null,
            "bottom": null,
            "display": null,
            "flex": null,
            "flex_flow": null,
            "grid_area": null,
            "grid_auto_columns": null,
            "grid_auto_flow": null,
            "grid_auto_rows": null,
            "grid_column": null,
            "grid_gap": null,
            "grid_row": null,
            "grid_template_areas": null,
            "grid_template_columns": null,
            "grid_template_rows": null,
            "height": null,
            "justify_content": null,
            "justify_items": null,
            "left": null,
            "margin": null,
            "max_height": null,
            "max_width": null,
            "min_height": null,
            "min_width": null,
            "object_fit": null,
            "object_position": null,
            "order": null,
            "overflow": null,
            "overflow_x": null,
            "overflow_y": null,
            "padding": null,
            "right": null,
            "top": null,
            "visibility": null,
            "width": null
          }
        },
        "dc15631683bf4a8fa8db29f69ff57d24": {
          "model_module": "@jupyter-widgets/base",
          "model_name": "LayoutModel",
          "model_module_version": "1.2.0",
          "state": {
            "_model_module": "@jupyter-widgets/base",
            "_model_module_version": "1.2.0",
            "_model_name": "LayoutModel",
            "_view_count": null,
            "_view_module": "@jupyter-widgets/base",
            "_view_module_version": "1.2.0",
            "_view_name": "LayoutView",
            "align_content": null,
            "align_items": null,
            "align_self": null,
            "border": null,
            "bottom": null,
            "display": null,
            "flex": null,
            "flex_flow": null,
            "grid_area": null,
            "grid_auto_columns": null,
            "grid_auto_flow": null,
            "grid_auto_rows": null,
            "grid_column": null,
            "grid_gap": null,
            "grid_row": null,
            "grid_template_areas": null,
            "grid_template_columns": null,
            "grid_template_rows": null,
            "height": null,
            "justify_content": null,
            "justify_items": null,
            "left": null,
            "margin": null,
            "max_height": null,
            "max_width": null,
            "min_height": null,
            "min_width": null,
            "object_fit": null,
            "object_position": null,
            "order": null,
            "overflow": null,
            "overflow_x": null,
            "overflow_y": null,
            "padding": null,
            "right": null,
            "top": null,
            "visibility": null,
            "width": null
          }
        },
        "e9c0a056dce94610a1dacfc77a3a7b0f": {
          "model_module": "@jupyter-widgets/controls",
          "model_name": "DescriptionStyleModel",
          "model_module_version": "1.5.0",
          "state": {
            "_model_module": "@jupyter-widgets/controls",
            "_model_module_version": "1.5.0",
            "_model_name": "DescriptionStyleModel",
            "_view_count": null,
            "_view_module": "@jupyter-widgets/base",
            "_view_module_version": "1.2.0",
            "_view_name": "StyleView",
            "description_width": ""
          }
        },
        "7e713d2acb7340ca9ceb40ddbe72eeff": {
          "model_module": "@jupyter-widgets/base",
          "model_name": "LayoutModel",
          "model_module_version": "1.2.0",
          "state": {
            "_model_module": "@jupyter-widgets/base",
            "_model_module_version": "1.2.0",
            "_model_name": "LayoutModel",
            "_view_count": null,
            "_view_module": "@jupyter-widgets/base",
            "_view_module_version": "1.2.0",
            "_view_name": "LayoutView",
            "align_content": null,
            "align_items": null,
            "align_self": null,
            "border": null,
            "bottom": null,
            "display": null,
            "flex": null,
            "flex_flow": null,
            "grid_area": null,
            "grid_auto_columns": null,
            "grid_auto_flow": null,
            "grid_auto_rows": null,
            "grid_column": null,
            "grid_gap": null,
            "grid_row": null,
            "grid_template_areas": null,
            "grid_template_columns": null,
            "grid_template_rows": null,
            "height": null,
            "justify_content": null,
            "justify_items": null,
            "left": null,
            "margin": null,
            "max_height": null,
            "max_width": null,
            "min_height": null,
            "min_width": null,
            "object_fit": null,
            "object_position": null,
            "order": null,
            "overflow": null,
            "overflow_x": null,
            "overflow_y": null,
            "padding": null,
            "right": null,
            "top": null,
            "visibility": null,
            "width": null
          }
        },
        "95b3e73f7c93470aac46cae56da69acc": {
          "model_module": "@jupyter-widgets/controls",
          "model_name": "ProgressStyleModel",
          "model_module_version": "1.5.0",
          "state": {
            "_model_module": "@jupyter-widgets/controls",
            "_model_module_version": "1.5.0",
            "_model_name": "ProgressStyleModel",
            "_view_count": null,
            "_view_module": "@jupyter-widgets/base",
            "_view_module_version": "1.2.0",
            "_view_name": "StyleView",
            "bar_color": null,
            "description_width": ""
          }
        },
        "878aa8115dcd4e09baa227ff831a3ca3": {
          "model_module": "@jupyter-widgets/base",
          "model_name": "LayoutModel",
          "model_module_version": "1.2.0",
          "state": {
            "_model_module": "@jupyter-widgets/base",
            "_model_module_version": "1.2.0",
            "_model_name": "LayoutModel",
            "_view_count": null,
            "_view_module": "@jupyter-widgets/base",
            "_view_module_version": "1.2.0",
            "_view_name": "LayoutView",
            "align_content": null,
            "align_items": null,
            "align_self": null,
            "border": null,
            "bottom": null,
            "display": null,
            "flex": null,
            "flex_flow": null,
            "grid_area": null,
            "grid_auto_columns": null,
            "grid_auto_flow": null,
            "grid_auto_rows": null,
            "grid_column": null,
            "grid_gap": null,
            "grid_row": null,
            "grid_template_areas": null,
            "grid_template_columns": null,
            "grid_template_rows": null,
            "height": null,
            "justify_content": null,
            "justify_items": null,
            "left": null,
            "margin": null,
            "max_height": null,
            "max_width": null,
            "min_height": null,
            "min_width": null,
            "object_fit": null,
            "object_position": null,
            "order": null,
            "overflow": null,
            "overflow_x": null,
            "overflow_y": null,
            "padding": null,
            "right": null,
            "top": null,
            "visibility": null,
            "width": null
          }
        },
        "398ac2dba9544a259c1836b87301fe13": {
          "model_module": "@jupyter-widgets/controls",
          "model_name": "DescriptionStyleModel",
          "model_module_version": "1.5.0",
          "state": {
            "_model_module": "@jupyter-widgets/controls",
            "_model_module_version": "1.5.0",
            "_model_name": "DescriptionStyleModel",
            "_view_count": null,
            "_view_module": "@jupyter-widgets/base",
            "_view_module_version": "1.2.0",
            "_view_name": "StyleView",
            "description_width": ""
          }
        },
        "8c4dff5b849b4a909e8d8f98fa2795e2": {
          "model_module": "@jupyter-widgets/controls",
          "model_name": "HBoxModel",
          "model_module_version": "1.5.0",
          "state": {
            "_dom_classes": [],
            "_model_module": "@jupyter-widgets/controls",
            "_model_module_version": "1.5.0",
            "_model_name": "HBoxModel",
            "_view_count": null,
            "_view_module": "@jupyter-widgets/controls",
            "_view_module_version": "1.5.0",
            "_view_name": "HBoxView",
            "box_style": "",
            "children": [
              "IPY_MODEL_526415221abf4d14888c76b0fe641ee8",
              "IPY_MODEL_27429dda2d084c85a0f3f1012c30856e",
              "IPY_MODEL_ffeac6ca73e748fb84ded56f62ceeeca"
            ],
            "layout": "IPY_MODEL_1093da720f924554a0cd6856724356b2"
          }
        },
        "526415221abf4d14888c76b0fe641ee8": {
          "model_module": "@jupyter-widgets/controls",
          "model_name": "HTMLModel",
          "model_module_version": "1.5.0",
          "state": {
            "_dom_classes": [],
            "_model_module": "@jupyter-widgets/controls",
            "_model_module_version": "1.5.0",
            "_model_name": "HTMLModel",
            "_view_count": null,
            "_view_module": "@jupyter-widgets/controls",
            "_view_module_version": "1.5.0",
            "_view_name": "HTMLView",
            "description": "",
            "description_tooltip": null,
            "layout": "IPY_MODEL_648194a5ba4246c49bd072827cac1c43",
            "placeholder": "​",
            "style": "IPY_MODEL_1d31d684879d43a0bb48a51b99f2df5b",
            "value": "vocab.txt: 100%"
          }
        },
        "27429dda2d084c85a0f3f1012c30856e": {
          "model_module": "@jupyter-widgets/controls",
          "model_name": "FloatProgressModel",
          "model_module_version": "1.5.0",
          "state": {
            "_dom_classes": [],
            "_model_module": "@jupyter-widgets/controls",
            "_model_module_version": "1.5.0",
            "_model_name": "FloatProgressModel",
            "_view_count": null,
            "_view_module": "@jupyter-widgets/controls",
            "_view_module_version": "1.5.0",
            "_view_name": "ProgressView",
            "bar_style": "success",
            "description": "",
            "description_tooltip": null,
            "layout": "IPY_MODEL_ff213d967d8b43f99d09e2f6f63f897c",
            "max": 231508,
            "min": 0,
            "orientation": "horizontal",
            "style": "IPY_MODEL_ee75221dd126435e920af1ac6fafd579",
            "value": 231508
          }
        },
        "ffeac6ca73e748fb84ded56f62ceeeca": {
          "model_module": "@jupyter-widgets/controls",
          "model_name": "HTMLModel",
          "model_module_version": "1.5.0",
          "state": {
            "_dom_classes": [],
            "_model_module": "@jupyter-widgets/controls",
            "_model_module_version": "1.5.0",
            "_model_name": "HTMLModel",
            "_view_count": null,
            "_view_module": "@jupyter-widgets/controls",
            "_view_module_version": "1.5.0",
            "_view_name": "HTMLView",
            "description": "",
            "description_tooltip": null,
            "layout": "IPY_MODEL_6d1baa06bb774bc18eb4e2a49fc50fa1",
            "placeholder": "​",
            "style": "IPY_MODEL_6dafa3d298e4463f84d5c8c2b8e3203e",
            "value": " 232k/232k [00:00&lt;00:00, 3.93MB/s]"
          }
        },
        "1093da720f924554a0cd6856724356b2": {
          "model_module": "@jupyter-widgets/base",
          "model_name": "LayoutModel",
          "model_module_version": "1.2.0",
          "state": {
            "_model_module": "@jupyter-widgets/base",
            "_model_module_version": "1.2.0",
            "_model_name": "LayoutModel",
            "_view_count": null,
            "_view_module": "@jupyter-widgets/base",
            "_view_module_version": "1.2.0",
            "_view_name": "LayoutView",
            "align_content": null,
            "align_items": null,
            "align_self": null,
            "border": null,
            "bottom": null,
            "display": null,
            "flex": null,
            "flex_flow": null,
            "grid_area": null,
            "grid_auto_columns": null,
            "grid_auto_flow": null,
            "grid_auto_rows": null,
            "grid_column": null,
            "grid_gap": null,
            "grid_row": null,
            "grid_template_areas": null,
            "grid_template_columns": null,
            "grid_template_rows": null,
            "height": null,
            "justify_content": null,
            "justify_items": null,
            "left": null,
            "margin": null,
            "max_height": null,
            "max_width": null,
            "min_height": null,
            "min_width": null,
            "object_fit": null,
            "object_position": null,
            "order": null,
            "overflow": null,
            "overflow_x": null,
            "overflow_y": null,
            "padding": null,
            "right": null,
            "top": null,
            "visibility": null,
            "width": null
          }
        },
        "648194a5ba4246c49bd072827cac1c43": {
          "model_module": "@jupyter-widgets/base",
          "model_name": "LayoutModel",
          "model_module_version": "1.2.0",
          "state": {
            "_model_module": "@jupyter-widgets/base",
            "_model_module_version": "1.2.0",
            "_model_name": "LayoutModel",
            "_view_count": null,
            "_view_module": "@jupyter-widgets/base",
            "_view_module_version": "1.2.0",
            "_view_name": "LayoutView",
            "align_content": null,
            "align_items": null,
            "align_self": null,
            "border": null,
            "bottom": null,
            "display": null,
            "flex": null,
            "flex_flow": null,
            "grid_area": null,
            "grid_auto_columns": null,
            "grid_auto_flow": null,
            "grid_auto_rows": null,
            "grid_column": null,
            "grid_gap": null,
            "grid_row": null,
            "grid_template_areas": null,
            "grid_template_columns": null,
            "grid_template_rows": null,
            "height": null,
            "justify_content": null,
            "justify_items": null,
            "left": null,
            "margin": null,
            "max_height": null,
            "max_width": null,
            "min_height": null,
            "min_width": null,
            "object_fit": null,
            "object_position": null,
            "order": null,
            "overflow": null,
            "overflow_x": null,
            "overflow_y": null,
            "padding": null,
            "right": null,
            "top": null,
            "visibility": null,
            "width": null
          }
        },
        "1d31d684879d43a0bb48a51b99f2df5b": {
          "model_module": "@jupyter-widgets/controls",
          "model_name": "DescriptionStyleModel",
          "model_module_version": "1.5.0",
          "state": {
            "_model_module": "@jupyter-widgets/controls",
            "_model_module_version": "1.5.0",
            "_model_name": "DescriptionStyleModel",
            "_view_count": null,
            "_view_module": "@jupyter-widgets/base",
            "_view_module_version": "1.2.0",
            "_view_name": "StyleView",
            "description_width": ""
          }
        },
        "ff213d967d8b43f99d09e2f6f63f897c": {
          "model_module": "@jupyter-widgets/base",
          "model_name": "LayoutModel",
          "model_module_version": "1.2.0",
          "state": {
            "_model_module": "@jupyter-widgets/base",
            "_model_module_version": "1.2.0",
            "_model_name": "LayoutModel",
            "_view_count": null,
            "_view_module": "@jupyter-widgets/base",
            "_view_module_version": "1.2.0",
            "_view_name": "LayoutView",
            "align_content": null,
            "align_items": null,
            "align_self": null,
            "border": null,
            "bottom": null,
            "display": null,
            "flex": null,
            "flex_flow": null,
            "grid_area": null,
            "grid_auto_columns": null,
            "grid_auto_flow": null,
            "grid_auto_rows": null,
            "grid_column": null,
            "grid_gap": null,
            "grid_row": null,
            "grid_template_areas": null,
            "grid_template_columns": null,
            "grid_template_rows": null,
            "height": null,
            "justify_content": null,
            "justify_items": null,
            "left": null,
            "margin": null,
            "max_height": null,
            "max_width": null,
            "min_height": null,
            "min_width": null,
            "object_fit": null,
            "object_position": null,
            "order": null,
            "overflow": null,
            "overflow_x": null,
            "overflow_y": null,
            "padding": null,
            "right": null,
            "top": null,
            "visibility": null,
            "width": null
          }
        },
        "ee75221dd126435e920af1ac6fafd579": {
          "model_module": "@jupyter-widgets/controls",
          "model_name": "ProgressStyleModel",
          "model_module_version": "1.5.0",
          "state": {
            "_model_module": "@jupyter-widgets/controls",
            "_model_module_version": "1.5.0",
            "_model_name": "ProgressStyleModel",
            "_view_count": null,
            "_view_module": "@jupyter-widgets/base",
            "_view_module_version": "1.2.0",
            "_view_name": "StyleView",
            "bar_color": null,
            "description_width": ""
          }
        },
        "6d1baa06bb774bc18eb4e2a49fc50fa1": {
          "model_module": "@jupyter-widgets/base",
          "model_name": "LayoutModel",
          "model_module_version": "1.2.0",
          "state": {
            "_model_module": "@jupyter-widgets/base",
            "_model_module_version": "1.2.0",
            "_model_name": "LayoutModel",
            "_view_count": null,
            "_view_module": "@jupyter-widgets/base",
            "_view_module_version": "1.2.0",
            "_view_name": "LayoutView",
            "align_content": null,
            "align_items": null,
            "align_self": null,
            "border": null,
            "bottom": null,
            "display": null,
            "flex": null,
            "flex_flow": null,
            "grid_area": null,
            "grid_auto_columns": null,
            "grid_auto_flow": null,
            "grid_auto_rows": null,
            "grid_column": null,
            "grid_gap": null,
            "grid_row": null,
            "grid_template_areas": null,
            "grid_template_columns": null,
            "grid_template_rows": null,
            "height": null,
            "justify_content": null,
            "justify_items": null,
            "left": null,
            "margin": null,
            "max_height": null,
            "max_width": null,
            "min_height": null,
            "min_width": null,
            "object_fit": null,
            "object_position": null,
            "order": null,
            "overflow": null,
            "overflow_x": null,
            "overflow_y": null,
            "padding": null,
            "right": null,
            "top": null,
            "visibility": null,
            "width": null
          }
        },
        "6dafa3d298e4463f84d5c8c2b8e3203e": {
          "model_module": "@jupyter-widgets/controls",
          "model_name": "DescriptionStyleModel",
          "model_module_version": "1.5.0",
          "state": {
            "_model_module": "@jupyter-widgets/controls",
            "_model_module_version": "1.5.0",
            "_model_name": "DescriptionStyleModel",
            "_view_count": null,
            "_view_module": "@jupyter-widgets/base",
            "_view_module_version": "1.2.0",
            "_view_name": "StyleView",
            "description_width": ""
          }
        },
        "0fb8314162664915b36d6716ab420097": {
          "model_module": "@jupyter-widgets/controls",
          "model_name": "HBoxModel",
          "model_module_version": "1.5.0",
          "state": {
            "_dom_classes": [],
            "_model_module": "@jupyter-widgets/controls",
            "_model_module_version": "1.5.0",
            "_model_name": "HBoxModel",
            "_view_count": null,
            "_view_module": "@jupyter-widgets/controls",
            "_view_module_version": "1.5.0",
            "_view_name": "HBoxView",
            "box_style": "",
            "children": [
              "IPY_MODEL_bde1cfc000814ec598bd7164712080df",
              "IPY_MODEL_f608074254994641bffdccf84dd055d9",
              "IPY_MODEL_53bb9c95253c4722b5c7f4b032f48b81"
            ],
            "layout": "IPY_MODEL_0b1b8c7a58d64898bf284e6a55292165"
          }
        },
        "bde1cfc000814ec598bd7164712080df": {
          "model_module": "@jupyter-widgets/controls",
          "model_name": "HTMLModel",
          "model_module_version": "1.5.0",
          "state": {
            "_dom_classes": [],
            "_model_module": "@jupyter-widgets/controls",
            "_model_module_version": "1.5.0",
            "_model_name": "HTMLModel",
            "_view_count": null,
            "_view_module": "@jupyter-widgets/controls",
            "_view_module_version": "1.5.0",
            "_view_name": "HTMLView",
            "description": "",
            "description_tooltip": null,
            "layout": "IPY_MODEL_65fa3cfb26f14da2b804283545b6db30",
            "placeholder": "​",
            "style": "IPY_MODEL_5667666fd5d14451857676ff2fe8a29d",
            "value": "tokenizer.json: 100%"
          }
        },
        "f608074254994641bffdccf84dd055d9": {
          "model_module": "@jupyter-widgets/controls",
          "model_name": "FloatProgressModel",
          "model_module_version": "1.5.0",
          "state": {
            "_dom_classes": [],
            "_model_module": "@jupyter-widgets/controls",
            "_model_module_version": "1.5.0",
            "_model_name": "FloatProgressModel",
            "_view_count": null,
            "_view_module": "@jupyter-widgets/controls",
            "_view_module_version": "1.5.0",
            "_view_name": "ProgressView",
            "bar_style": "success",
            "description": "",
            "description_tooltip": null,
            "layout": "IPY_MODEL_6d91a891136f415fbf6b4201d8379063",
            "max": 466062,
            "min": 0,
            "orientation": "horizontal",
            "style": "IPY_MODEL_9b77faa4a6044db7987905317bb7da12",
            "value": 466062
          }
        },
        "53bb9c95253c4722b5c7f4b032f48b81": {
          "model_module": "@jupyter-widgets/controls",
          "model_name": "HTMLModel",
          "model_module_version": "1.5.0",
          "state": {
            "_dom_classes": [],
            "_model_module": "@jupyter-widgets/controls",
            "_model_module_version": "1.5.0",
            "_model_name": "HTMLModel",
            "_view_count": null,
            "_view_module": "@jupyter-widgets/controls",
            "_view_module_version": "1.5.0",
            "_view_name": "HTMLView",
            "description": "",
            "description_tooltip": null,
            "layout": "IPY_MODEL_01c2693ddb734eac9717529bf85c2ead",
            "placeholder": "​",
            "style": "IPY_MODEL_77e54e207d724514a5192b825e66fa8a",
            "value": " 466k/466k [00:00&lt;00:00, 24.5MB/s]"
          }
        },
        "0b1b8c7a58d64898bf284e6a55292165": {
          "model_module": "@jupyter-widgets/base",
          "model_name": "LayoutModel",
          "model_module_version": "1.2.0",
          "state": {
            "_model_module": "@jupyter-widgets/base",
            "_model_module_version": "1.2.0",
            "_model_name": "LayoutModel",
            "_view_count": null,
            "_view_module": "@jupyter-widgets/base",
            "_view_module_version": "1.2.0",
            "_view_name": "LayoutView",
            "align_content": null,
            "align_items": null,
            "align_self": null,
            "border": null,
            "bottom": null,
            "display": null,
            "flex": null,
            "flex_flow": null,
            "grid_area": null,
            "grid_auto_columns": null,
            "grid_auto_flow": null,
            "grid_auto_rows": null,
            "grid_column": null,
            "grid_gap": null,
            "grid_row": null,
            "grid_template_areas": null,
            "grid_template_columns": null,
            "grid_template_rows": null,
            "height": null,
            "justify_content": null,
            "justify_items": null,
            "left": null,
            "margin": null,
            "max_height": null,
            "max_width": null,
            "min_height": null,
            "min_width": null,
            "object_fit": null,
            "object_position": null,
            "order": null,
            "overflow": null,
            "overflow_x": null,
            "overflow_y": null,
            "padding": null,
            "right": null,
            "top": null,
            "visibility": null,
            "width": null
          }
        },
        "65fa3cfb26f14da2b804283545b6db30": {
          "model_module": "@jupyter-widgets/base",
          "model_name": "LayoutModel",
          "model_module_version": "1.2.0",
          "state": {
            "_model_module": "@jupyter-widgets/base",
            "_model_module_version": "1.2.0",
            "_model_name": "LayoutModel",
            "_view_count": null,
            "_view_module": "@jupyter-widgets/base",
            "_view_module_version": "1.2.0",
            "_view_name": "LayoutView",
            "align_content": null,
            "align_items": null,
            "align_self": null,
            "border": null,
            "bottom": null,
            "display": null,
            "flex": null,
            "flex_flow": null,
            "grid_area": null,
            "grid_auto_columns": null,
            "grid_auto_flow": null,
            "grid_auto_rows": null,
            "grid_column": null,
            "grid_gap": null,
            "grid_row": null,
            "grid_template_areas": null,
            "grid_template_columns": null,
            "grid_template_rows": null,
            "height": null,
            "justify_content": null,
            "justify_items": null,
            "left": null,
            "margin": null,
            "max_height": null,
            "max_width": null,
            "min_height": null,
            "min_width": null,
            "object_fit": null,
            "object_position": null,
            "order": null,
            "overflow": null,
            "overflow_x": null,
            "overflow_y": null,
            "padding": null,
            "right": null,
            "top": null,
            "visibility": null,
            "width": null
          }
        },
        "5667666fd5d14451857676ff2fe8a29d": {
          "model_module": "@jupyter-widgets/controls",
          "model_name": "DescriptionStyleModel",
          "model_module_version": "1.5.0",
          "state": {
            "_model_module": "@jupyter-widgets/controls",
            "_model_module_version": "1.5.0",
            "_model_name": "DescriptionStyleModel",
            "_view_count": null,
            "_view_module": "@jupyter-widgets/base",
            "_view_module_version": "1.2.0",
            "_view_name": "StyleView",
            "description_width": ""
          }
        },
        "6d91a891136f415fbf6b4201d8379063": {
          "model_module": "@jupyter-widgets/base",
          "model_name": "LayoutModel",
          "model_module_version": "1.2.0",
          "state": {
            "_model_module": "@jupyter-widgets/base",
            "_model_module_version": "1.2.0",
            "_model_name": "LayoutModel",
            "_view_count": null,
            "_view_module": "@jupyter-widgets/base",
            "_view_module_version": "1.2.0",
            "_view_name": "LayoutView",
            "align_content": null,
            "align_items": null,
            "align_self": null,
            "border": null,
            "bottom": null,
            "display": null,
            "flex": null,
            "flex_flow": null,
            "grid_area": null,
            "grid_auto_columns": null,
            "grid_auto_flow": null,
            "grid_auto_rows": null,
            "grid_column": null,
            "grid_gap": null,
            "grid_row": null,
            "grid_template_areas": null,
            "grid_template_columns": null,
            "grid_template_rows": null,
            "height": null,
            "justify_content": null,
            "justify_items": null,
            "left": null,
            "margin": null,
            "max_height": null,
            "max_width": null,
            "min_height": null,
            "min_width": null,
            "object_fit": null,
            "object_position": null,
            "order": null,
            "overflow": null,
            "overflow_x": null,
            "overflow_y": null,
            "padding": null,
            "right": null,
            "top": null,
            "visibility": null,
            "width": null
          }
        },
        "9b77faa4a6044db7987905317bb7da12": {
          "model_module": "@jupyter-widgets/controls",
          "model_name": "ProgressStyleModel",
          "model_module_version": "1.5.0",
          "state": {
            "_model_module": "@jupyter-widgets/controls",
            "_model_module_version": "1.5.0",
            "_model_name": "ProgressStyleModel",
            "_view_count": null,
            "_view_module": "@jupyter-widgets/base",
            "_view_module_version": "1.2.0",
            "_view_name": "StyleView",
            "bar_color": null,
            "description_width": ""
          }
        },
        "01c2693ddb734eac9717529bf85c2ead": {
          "model_module": "@jupyter-widgets/base",
          "model_name": "LayoutModel",
          "model_module_version": "1.2.0",
          "state": {
            "_model_module": "@jupyter-widgets/base",
            "_model_module_version": "1.2.0",
            "_model_name": "LayoutModel",
            "_view_count": null,
            "_view_module": "@jupyter-widgets/base",
            "_view_module_version": "1.2.0",
            "_view_name": "LayoutView",
            "align_content": null,
            "align_items": null,
            "align_self": null,
            "border": null,
            "bottom": null,
            "display": null,
            "flex": null,
            "flex_flow": null,
            "grid_area": null,
            "grid_auto_columns": null,
            "grid_auto_flow": null,
            "grid_auto_rows": null,
            "grid_column": null,
            "grid_gap": null,
            "grid_row": null,
            "grid_template_areas": null,
            "grid_template_columns": null,
            "grid_template_rows": null,
            "height": null,
            "justify_content": null,
            "justify_items": null,
            "left": null,
            "margin": null,
            "max_height": null,
            "max_width": null,
            "min_height": null,
            "min_width": null,
            "object_fit": null,
            "object_position": null,
            "order": null,
            "overflow": null,
            "overflow_x": null,
            "overflow_y": null,
            "padding": null,
            "right": null,
            "top": null,
            "visibility": null,
            "width": null
          }
        },
        "77e54e207d724514a5192b825e66fa8a": {
          "model_module": "@jupyter-widgets/controls",
          "model_name": "DescriptionStyleModel",
          "model_module_version": "1.5.0",
          "state": {
            "_model_module": "@jupyter-widgets/controls",
            "_model_module_version": "1.5.0",
            "_model_name": "DescriptionStyleModel",
            "_view_count": null,
            "_view_module": "@jupyter-widgets/base",
            "_view_module_version": "1.2.0",
            "_view_name": "StyleView",
            "description_width": ""
          }
        },
        "9857b43a0cb8412bacfed9e7dfe409ad": {
          "model_module": "@jupyter-widgets/controls",
          "model_name": "HBoxModel",
          "model_module_version": "1.5.0",
          "state": {
            "_dom_classes": [],
            "_model_module": "@jupyter-widgets/controls",
            "_model_module_version": "1.5.0",
            "_model_name": "HBoxModel",
            "_view_count": null,
            "_view_module": "@jupyter-widgets/controls",
            "_view_module_version": "1.5.0",
            "_view_name": "HBoxView",
            "box_style": "",
            "children": [
              "IPY_MODEL_06bef4cf2ff64067bf56ef34ad9601a7",
              "IPY_MODEL_01298c72e4a84b12b2f648936c8e414a",
              "IPY_MODEL_ec6201ec8bb44cb9920b8dae2712a934"
            ],
            "layout": "IPY_MODEL_c09e33c3754649e3829bfdf79dd400e0"
          }
        },
        "06bef4cf2ff64067bf56ef34ad9601a7": {
          "model_module": "@jupyter-widgets/controls",
          "model_name": "HTMLModel",
          "model_module_version": "1.5.0",
          "state": {
            "_dom_classes": [],
            "_model_module": "@jupyter-widgets/controls",
            "_model_module_version": "1.5.0",
            "_model_name": "HTMLModel",
            "_view_count": null,
            "_view_module": "@jupyter-widgets/controls",
            "_view_module_version": "1.5.0",
            "_view_name": "HTMLView",
            "description": "",
            "description_tooltip": null,
            "layout": "IPY_MODEL_272d3a28e11644359669b6b0a1f643f9",
            "placeholder": "​",
            "style": "IPY_MODEL_51402cf5306849b1bc2ff58ba2007e85",
            "value": "config.json: 100%"
          }
        },
        "01298c72e4a84b12b2f648936c8e414a": {
          "model_module": "@jupyter-widgets/controls",
          "model_name": "FloatProgressModel",
          "model_module_version": "1.5.0",
          "state": {
            "_dom_classes": [],
            "_model_module": "@jupyter-widgets/controls",
            "_model_module_version": "1.5.0",
            "_model_name": "FloatProgressModel",
            "_view_count": null,
            "_view_module": "@jupyter-widgets/controls",
            "_view_module_version": "1.5.0",
            "_view_name": "ProgressView",
            "bar_style": "success",
            "description": "",
            "description_tooltip": null,
            "layout": "IPY_MODEL_5491b56028214c258125ace1d4457b90",
            "max": 570,
            "min": 0,
            "orientation": "horizontal",
            "style": "IPY_MODEL_5d519a1dbfb643b29f86ce2f1db367e5",
            "value": 570
          }
        },
        "ec6201ec8bb44cb9920b8dae2712a934": {
          "model_module": "@jupyter-widgets/controls",
          "model_name": "HTMLModel",
          "model_module_version": "1.5.0",
          "state": {
            "_dom_classes": [],
            "_model_module": "@jupyter-widgets/controls",
            "_model_module_version": "1.5.0",
            "_model_name": "HTMLModel",
            "_view_count": null,
            "_view_module": "@jupyter-widgets/controls",
            "_view_module_version": "1.5.0",
            "_view_name": "HTMLView",
            "description": "",
            "description_tooltip": null,
            "layout": "IPY_MODEL_141085f5d0034237a0808c98ab18c234",
            "placeholder": "​",
            "style": "IPY_MODEL_94e8031f22884e85bc9a5732e0c41a56",
            "value": " 570/570 [00:00&lt;00:00, 39.3kB/s]"
          }
        },
        "c09e33c3754649e3829bfdf79dd400e0": {
          "model_module": "@jupyter-widgets/base",
          "model_name": "LayoutModel",
          "model_module_version": "1.2.0",
          "state": {
            "_model_module": "@jupyter-widgets/base",
            "_model_module_version": "1.2.0",
            "_model_name": "LayoutModel",
            "_view_count": null,
            "_view_module": "@jupyter-widgets/base",
            "_view_module_version": "1.2.0",
            "_view_name": "LayoutView",
            "align_content": null,
            "align_items": null,
            "align_self": null,
            "border": null,
            "bottom": null,
            "display": null,
            "flex": null,
            "flex_flow": null,
            "grid_area": null,
            "grid_auto_columns": null,
            "grid_auto_flow": null,
            "grid_auto_rows": null,
            "grid_column": null,
            "grid_gap": null,
            "grid_row": null,
            "grid_template_areas": null,
            "grid_template_columns": null,
            "grid_template_rows": null,
            "height": null,
            "justify_content": null,
            "justify_items": null,
            "left": null,
            "margin": null,
            "max_height": null,
            "max_width": null,
            "min_height": null,
            "min_width": null,
            "object_fit": null,
            "object_position": null,
            "order": null,
            "overflow": null,
            "overflow_x": null,
            "overflow_y": null,
            "padding": null,
            "right": null,
            "top": null,
            "visibility": null,
            "width": null
          }
        },
        "272d3a28e11644359669b6b0a1f643f9": {
          "model_module": "@jupyter-widgets/base",
          "model_name": "LayoutModel",
          "model_module_version": "1.2.0",
          "state": {
            "_model_module": "@jupyter-widgets/base",
            "_model_module_version": "1.2.0",
            "_model_name": "LayoutModel",
            "_view_count": null,
            "_view_module": "@jupyter-widgets/base",
            "_view_module_version": "1.2.0",
            "_view_name": "LayoutView",
            "align_content": null,
            "align_items": null,
            "align_self": null,
            "border": null,
            "bottom": null,
            "display": null,
            "flex": null,
            "flex_flow": null,
            "grid_area": null,
            "grid_auto_columns": null,
            "grid_auto_flow": null,
            "grid_auto_rows": null,
            "grid_column": null,
            "grid_gap": null,
            "grid_row": null,
            "grid_template_areas": null,
            "grid_template_columns": null,
            "grid_template_rows": null,
            "height": null,
            "justify_content": null,
            "justify_items": null,
            "left": null,
            "margin": null,
            "max_height": null,
            "max_width": null,
            "min_height": null,
            "min_width": null,
            "object_fit": null,
            "object_position": null,
            "order": null,
            "overflow": null,
            "overflow_x": null,
            "overflow_y": null,
            "padding": null,
            "right": null,
            "top": null,
            "visibility": null,
            "width": null
          }
        },
        "51402cf5306849b1bc2ff58ba2007e85": {
          "model_module": "@jupyter-widgets/controls",
          "model_name": "DescriptionStyleModel",
          "model_module_version": "1.5.0",
          "state": {
            "_model_module": "@jupyter-widgets/controls",
            "_model_module_version": "1.5.0",
            "_model_name": "DescriptionStyleModel",
            "_view_count": null,
            "_view_module": "@jupyter-widgets/base",
            "_view_module_version": "1.2.0",
            "_view_name": "StyleView",
            "description_width": ""
          }
        },
        "5491b56028214c258125ace1d4457b90": {
          "model_module": "@jupyter-widgets/base",
          "model_name": "LayoutModel",
          "model_module_version": "1.2.0",
          "state": {
            "_model_module": "@jupyter-widgets/base",
            "_model_module_version": "1.2.0",
            "_model_name": "LayoutModel",
            "_view_count": null,
            "_view_module": "@jupyter-widgets/base",
            "_view_module_version": "1.2.0",
            "_view_name": "LayoutView",
            "align_content": null,
            "align_items": null,
            "align_self": null,
            "border": null,
            "bottom": null,
            "display": null,
            "flex": null,
            "flex_flow": null,
            "grid_area": null,
            "grid_auto_columns": null,
            "grid_auto_flow": null,
            "grid_auto_rows": null,
            "grid_column": null,
            "grid_gap": null,
            "grid_row": null,
            "grid_template_areas": null,
            "grid_template_columns": null,
            "grid_template_rows": null,
            "height": null,
            "justify_content": null,
            "justify_items": null,
            "left": null,
            "margin": null,
            "max_height": null,
            "max_width": null,
            "min_height": null,
            "min_width": null,
            "object_fit": null,
            "object_position": null,
            "order": null,
            "overflow": null,
            "overflow_x": null,
            "overflow_y": null,
            "padding": null,
            "right": null,
            "top": null,
            "visibility": null,
            "width": null
          }
        },
        "5d519a1dbfb643b29f86ce2f1db367e5": {
          "model_module": "@jupyter-widgets/controls",
          "model_name": "ProgressStyleModel",
          "model_module_version": "1.5.0",
          "state": {
            "_model_module": "@jupyter-widgets/controls",
            "_model_module_version": "1.5.0",
            "_model_name": "ProgressStyleModel",
            "_view_count": null,
            "_view_module": "@jupyter-widgets/base",
            "_view_module_version": "1.2.0",
            "_view_name": "StyleView",
            "bar_color": null,
            "description_width": ""
          }
        },
        "141085f5d0034237a0808c98ab18c234": {
          "model_module": "@jupyter-widgets/base",
          "model_name": "LayoutModel",
          "model_module_version": "1.2.0",
          "state": {
            "_model_module": "@jupyter-widgets/base",
            "_model_module_version": "1.2.0",
            "_model_name": "LayoutModel",
            "_view_count": null,
            "_view_module": "@jupyter-widgets/base",
            "_view_module_version": "1.2.0",
            "_view_name": "LayoutView",
            "align_content": null,
            "align_items": null,
            "align_self": null,
            "border": null,
            "bottom": null,
            "display": null,
            "flex": null,
            "flex_flow": null,
            "grid_area": null,
            "grid_auto_columns": null,
            "grid_auto_flow": null,
            "grid_auto_rows": null,
            "grid_column": null,
            "grid_gap": null,
            "grid_row": null,
            "grid_template_areas": null,
            "grid_template_columns": null,
            "grid_template_rows": null,
            "height": null,
            "justify_content": null,
            "justify_items": null,
            "left": null,
            "margin": null,
            "max_height": null,
            "max_width": null,
            "min_height": null,
            "min_width": null,
            "object_fit": null,
            "object_position": null,
            "order": null,
            "overflow": null,
            "overflow_x": null,
            "overflow_y": null,
            "padding": null,
            "right": null,
            "top": null,
            "visibility": null,
            "width": null
          }
        },
        "94e8031f22884e85bc9a5732e0c41a56": {
          "model_module": "@jupyter-widgets/controls",
          "model_name": "DescriptionStyleModel",
          "model_module_version": "1.5.0",
          "state": {
            "_model_module": "@jupyter-widgets/controls",
            "_model_module_version": "1.5.0",
            "_model_name": "DescriptionStyleModel",
            "_view_count": null,
            "_view_module": "@jupyter-widgets/base",
            "_view_module_version": "1.2.0",
            "_view_name": "StyleView",
            "description_width": ""
          }
        },
        "ebc26542b0c14a77921b0b6544e83dd5": {
          "model_module": "@jupyter-widgets/controls",
          "model_name": "HBoxModel",
          "model_module_version": "1.5.0",
          "state": {
            "_dom_classes": [],
            "_model_module": "@jupyter-widgets/controls",
            "_model_module_version": "1.5.0",
            "_model_name": "HBoxModel",
            "_view_count": null,
            "_view_module": "@jupyter-widgets/controls",
            "_view_module_version": "1.5.0",
            "_view_name": "HBoxView",
            "box_style": "",
            "children": [
              "IPY_MODEL_76fcfddeee58447da8732742e70069ce",
              "IPY_MODEL_05191d54792b4d179c1d41b786471b2c",
              "IPY_MODEL_42901037a65a493cacc1c085b0669154"
            ],
            "layout": "IPY_MODEL_4eb67988b6474860b5b1e8be8131d77f"
          }
        },
        "76fcfddeee58447da8732742e70069ce": {
          "model_module": "@jupyter-widgets/controls",
          "model_name": "HTMLModel",
          "model_module_version": "1.5.0",
          "state": {
            "_dom_classes": [],
            "_model_module": "@jupyter-widgets/controls",
            "_model_module_version": "1.5.0",
            "_model_name": "HTMLModel",
            "_view_count": null,
            "_view_module": "@jupyter-widgets/controls",
            "_view_module_version": "1.5.0",
            "_view_name": "HTMLView",
            "description": "",
            "description_tooltip": null,
            "layout": "IPY_MODEL_2a7dee8c704b4d758559de255f380f65",
            "placeholder": "​",
            "style": "IPY_MODEL_bc7aa9fbf93b421488dae6d1f74262c9",
            "value": "model.safetensors: 100%"
          }
        },
        "05191d54792b4d179c1d41b786471b2c": {
          "model_module": "@jupyter-widgets/controls",
          "model_name": "FloatProgressModel",
          "model_module_version": "1.5.0",
          "state": {
            "_dom_classes": [],
            "_model_module": "@jupyter-widgets/controls",
            "_model_module_version": "1.5.0",
            "_model_name": "FloatProgressModel",
            "_view_count": null,
            "_view_module": "@jupyter-widgets/controls",
            "_view_module_version": "1.5.0",
            "_view_name": "ProgressView",
            "bar_style": "success",
            "description": "",
            "description_tooltip": null,
            "layout": "IPY_MODEL_2bbb3ab3fdf14800b4031bfcc44c1c00",
            "max": 440449768,
            "min": 0,
            "orientation": "horizontal",
            "style": "IPY_MODEL_7caf66f431de4db19f2a3a5ef504ac1a",
            "value": 440449768
          }
        },
        "42901037a65a493cacc1c085b0669154": {
          "model_module": "@jupyter-widgets/controls",
          "model_name": "HTMLModel",
          "model_module_version": "1.5.0",
          "state": {
            "_dom_classes": [],
            "_model_module": "@jupyter-widgets/controls",
            "_model_module_version": "1.5.0",
            "_model_name": "HTMLModel",
            "_view_count": null,
            "_view_module": "@jupyter-widgets/controls",
            "_view_module_version": "1.5.0",
            "_view_name": "HTMLView",
            "description": "",
            "description_tooltip": null,
            "layout": "IPY_MODEL_6a2ccb5ce3704b9a8ba4f47f335c3c18",
            "placeholder": "​",
            "style": "IPY_MODEL_51ac945c04674f5b95a1b701b6c6590d",
            "value": " 440M/440M [00:05&lt;00:00, 73.2MB/s]"
          }
        },
        "4eb67988b6474860b5b1e8be8131d77f": {
          "model_module": "@jupyter-widgets/base",
          "model_name": "LayoutModel",
          "model_module_version": "1.2.0",
          "state": {
            "_model_module": "@jupyter-widgets/base",
            "_model_module_version": "1.2.0",
            "_model_name": "LayoutModel",
            "_view_count": null,
            "_view_module": "@jupyter-widgets/base",
            "_view_module_version": "1.2.0",
            "_view_name": "LayoutView",
            "align_content": null,
            "align_items": null,
            "align_self": null,
            "border": null,
            "bottom": null,
            "display": null,
            "flex": null,
            "flex_flow": null,
            "grid_area": null,
            "grid_auto_columns": null,
            "grid_auto_flow": null,
            "grid_auto_rows": null,
            "grid_column": null,
            "grid_gap": null,
            "grid_row": null,
            "grid_template_areas": null,
            "grid_template_columns": null,
            "grid_template_rows": null,
            "height": null,
            "justify_content": null,
            "justify_items": null,
            "left": null,
            "margin": null,
            "max_height": null,
            "max_width": null,
            "min_height": null,
            "min_width": null,
            "object_fit": null,
            "object_position": null,
            "order": null,
            "overflow": null,
            "overflow_x": null,
            "overflow_y": null,
            "padding": null,
            "right": null,
            "top": null,
            "visibility": null,
            "width": null
          }
        },
        "2a7dee8c704b4d758559de255f380f65": {
          "model_module": "@jupyter-widgets/base",
          "model_name": "LayoutModel",
          "model_module_version": "1.2.0",
          "state": {
            "_model_module": "@jupyter-widgets/base",
            "_model_module_version": "1.2.0",
            "_model_name": "LayoutModel",
            "_view_count": null,
            "_view_module": "@jupyter-widgets/base",
            "_view_module_version": "1.2.0",
            "_view_name": "LayoutView",
            "align_content": null,
            "align_items": null,
            "align_self": null,
            "border": null,
            "bottom": null,
            "display": null,
            "flex": null,
            "flex_flow": null,
            "grid_area": null,
            "grid_auto_columns": null,
            "grid_auto_flow": null,
            "grid_auto_rows": null,
            "grid_column": null,
            "grid_gap": null,
            "grid_row": null,
            "grid_template_areas": null,
            "grid_template_columns": null,
            "grid_template_rows": null,
            "height": null,
            "justify_content": null,
            "justify_items": null,
            "left": null,
            "margin": null,
            "max_height": null,
            "max_width": null,
            "min_height": null,
            "min_width": null,
            "object_fit": null,
            "object_position": null,
            "order": null,
            "overflow": null,
            "overflow_x": null,
            "overflow_y": null,
            "padding": null,
            "right": null,
            "top": null,
            "visibility": null,
            "width": null
          }
        },
        "bc7aa9fbf93b421488dae6d1f74262c9": {
          "model_module": "@jupyter-widgets/controls",
          "model_name": "DescriptionStyleModel",
          "model_module_version": "1.5.0",
          "state": {
            "_model_module": "@jupyter-widgets/controls",
            "_model_module_version": "1.5.0",
            "_model_name": "DescriptionStyleModel",
            "_view_count": null,
            "_view_module": "@jupyter-widgets/base",
            "_view_module_version": "1.2.0",
            "_view_name": "StyleView",
            "description_width": ""
          }
        },
        "2bbb3ab3fdf14800b4031bfcc44c1c00": {
          "model_module": "@jupyter-widgets/base",
          "model_name": "LayoutModel",
          "model_module_version": "1.2.0",
          "state": {
            "_model_module": "@jupyter-widgets/base",
            "_model_module_version": "1.2.0",
            "_model_name": "LayoutModel",
            "_view_count": null,
            "_view_module": "@jupyter-widgets/base",
            "_view_module_version": "1.2.0",
            "_view_name": "LayoutView",
            "align_content": null,
            "align_items": null,
            "align_self": null,
            "border": null,
            "bottom": null,
            "display": null,
            "flex": null,
            "flex_flow": null,
            "grid_area": null,
            "grid_auto_columns": null,
            "grid_auto_flow": null,
            "grid_auto_rows": null,
            "grid_column": null,
            "grid_gap": null,
            "grid_row": null,
            "grid_template_areas": null,
            "grid_template_columns": null,
            "grid_template_rows": null,
            "height": null,
            "justify_content": null,
            "justify_items": null,
            "left": null,
            "margin": null,
            "max_height": null,
            "max_width": null,
            "min_height": null,
            "min_width": null,
            "object_fit": null,
            "object_position": null,
            "order": null,
            "overflow": null,
            "overflow_x": null,
            "overflow_y": null,
            "padding": null,
            "right": null,
            "top": null,
            "visibility": null,
            "width": null
          }
        },
        "7caf66f431de4db19f2a3a5ef504ac1a": {
          "model_module": "@jupyter-widgets/controls",
          "model_name": "ProgressStyleModel",
          "model_module_version": "1.5.0",
          "state": {
            "_model_module": "@jupyter-widgets/controls",
            "_model_module_version": "1.5.0",
            "_model_name": "ProgressStyleModel",
            "_view_count": null,
            "_view_module": "@jupyter-widgets/base",
            "_view_module_version": "1.2.0",
            "_view_name": "StyleView",
            "bar_color": null,
            "description_width": ""
          }
        },
        "6a2ccb5ce3704b9a8ba4f47f335c3c18": {
          "model_module": "@jupyter-widgets/base",
          "model_name": "LayoutModel",
          "model_module_version": "1.2.0",
          "state": {
            "_model_module": "@jupyter-widgets/base",
            "_model_module_version": "1.2.0",
            "_model_name": "LayoutModel",
            "_view_count": null,
            "_view_module": "@jupyter-widgets/base",
            "_view_module_version": "1.2.0",
            "_view_name": "LayoutView",
            "align_content": null,
            "align_items": null,
            "align_self": null,
            "border": null,
            "bottom": null,
            "display": null,
            "flex": null,
            "flex_flow": null,
            "grid_area": null,
            "grid_auto_columns": null,
            "grid_auto_flow": null,
            "grid_auto_rows": null,
            "grid_column": null,
            "grid_gap": null,
            "grid_row": null,
            "grid_template_areas": null,
            "grid_template_columns": null,
            "grid_template_rows": null,
            "height": null,
            "justify_content": null,
            "justify_items": null,
            "left": null,
            "margin": null,
            "max_height": null,
            "max_width": null,
            "min_height": null,
            "min_width": null,
            "object_fit": null,
            "object_position": null,
            "order": null,
            "overflow": null,
            "overflow_x": null,
            "overflow_y": null,
            "padding": null,
            "right": null,
            "top": null,
            "visibility": null,
            "width": null
          }
        },
        "51ac945c04674f5b95a1b701b6c6590d": {
          "model_module": "@jupyter-widgets/controls",
          "model_name": "DescriptionStyleModel",
          "model_module_version": "1.5.0",
          "state": {
            "_model_module": "@jupyter-widgets/controls",
            "_model_module_version": "1.5.0",
            "_model_name": "DescriptionStyleModel",
            "_view_count": null,
            "_view_module": "@jupyter-widgets/base",
            "_view_module_version": "1.2.0",
            "_view_name": "StyleView",
            "description_width": ""
          }
        }
      }
    },
    "accelerator": "GPU"
  },
  "nbformat": 4,
  "nbformat_minor": 0
}