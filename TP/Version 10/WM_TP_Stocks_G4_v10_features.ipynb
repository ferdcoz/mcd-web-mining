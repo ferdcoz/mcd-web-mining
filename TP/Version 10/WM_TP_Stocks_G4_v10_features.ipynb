{
  "cells": [
    {
      "cell_type": "markdown",
      "metadata": {
        "id": "H7oSSyQvCeSU"
      },
      "source": [
        "## Web Mining - TP Stocks - Grupo 4"
      ]
    },
    {
      "cell_type": "markdown",
      "metadata": {
        "id": "ROeLVArVCeSY"
      },
      "source": [
        "### Librerias"
      ]
    },
    {
      "cell_type": "code",
      "execution_count": null,
      "metadata": {
        "id": "mrAUkdymCeSZ",
        "outputId": "8b095e0a-8a5c-4871-af88-9a9a5beb83bc",
        "colab": {
          "base_uri": "https://localhost:8080/"
        }
      },
      "outputs": [
        {
          "output_type": "stream",
          "name": "stderr",
          "text": [
            "[nltk_data] Downloading package stopwords to /root/nltk_data...\n",
            "[nltk_data]   Package stopwords is already up-to-date!\n"
          ]
        }
      ],
      "source": [
        "import pandas as pd\n",
        "import nltk\n",
        "nltk.download('stopwords')\n",
        "import spacy # Python 3.12\n",
        "import numpy as np\n",
        "import matplotlib.pyplot as plt\n",
        "from datetime import datetime\n",
        "from xgboost import XGBClassifier\n",
        "from lightgbm import LGBMClassifier\n",
        "from nltk.corpus import stopwords\n",
        "from sklearn.feature_extraction.text import CountVectorizer, TfidfTransformer\n",
        "from sklearn.naive_bayes import MultinomialNB\n",
        "from sklearn.svm import LinearSVC\n",
        "from sklearn.ensemble import RandomForestClassifier, AdaBoostClassifier\n",
        "from sklearn.pipeline import Pipeline\n",
        "from sklearn.metrics import accuracy_score, f1_score, confusion_matrix, roc_curve, auc, classification_report\n",
        "from sklearn.calibration import CalibratedClassifierCV\n",
        "from sklearn.preprocessing import LabelEncoder, MinMaxScaler, MaxAbsScaler\n",
        "from sklearn.linear_model import LogisticRegression\n",
        "from sklearn.model_selection import cross_val_score\n",
        "from sklearn.neighbors import KNeighborsClassifier\n",
        "from sklearn.tree import DecisionTreeClassifier\n",
        "from sklearn.metrics.pairwise import cosine_similarity\n",
        "\n",
        "import warnings\n",
        "warnings.filterwarnings('ignore')"
      ]
    },
    {
      "cell_type": "markdown",
      "metadata": {
        "id": "e2kBYqFDCeSc"
      },
      "source": [
        "### Archivo entrenamiento"
      ]
    },
    {
      "cell_type": "code",
      "execution_count": null,
      "metadata": {
        "id": "23uRbtXfCeSd"
      },
      "outputs": [],
      "source": [
        "data = pd.read_excel('YPF UNIFICADO VERIFICADO V10.xlsx', sheet_name= 'NOTICIAS')"
      ]
    },
    {
      "cell_type": "markdown",
      "metadata": {
        "id": "liKvslETCeSe"
      },
      "source": [
        "## Preprocesamiento"
      ]
    },
    {
      "cell_type": "code",
      "source": [
        "def get_day_of_week(date_string):\n",
        "    date_object = datetime.strptime(date_string, '%d-%m-%Y')\n",
        "\n",
        "    day_of_week = date_object.weekday()\n",
        "\n",
        "    days = [\"Lunes\", \"Martes\", \"Miércoles\", \"Jueves\", \"Viernes\", \"Sábado\", \"Domingo\"]\n",
        "    day_of_week_string = days[day_of_week]\n",
        "\n",
        "    return day_of_week_string"
      ],
      "metadata": {
        "id": "MVltOOlExOf6"
      },
      "execution_count": null,
      "outputs": []
    },
    {
      "cell_type": "code",
      "source": [
        "data['DIA'] = data['DIA'].dt.day_name()"
      ],
      "metadata": {
        "id": "2T6eER_WxK6p"
      },
      "execution_count": null,
      "outputs": []
    },
    {
      "cell_type": "markdown",
      "metadata": {
        "id": "QSwx9hEZCeSe"
      },
      "source": [
        "### Stopwords"
      ]
    },
    {
      "cell_type": "code",
      "execution_count": null,
      "metadata": {
        "id": "jo5-iqkuCeSf"
      },
      "outputs": [],
      "source": [
        "stopwords_en = set(stopwords.words('english'))"
      ]
    },
    {
      "cell_type": "code",
      "execution_count": null,
      "metadata": {
        "id": "1p8HhIpaCeSg"
      },
      "outputs": [],
      "source": [
        "# Listado de stopwords propio\n",
        "stopwords_personales = ['Refinitiv','Zacks','Rystad','Andrew','Rocco','Nilanjan','Benerjee','CERAWEEK','Tirthankar','Chakraborty','Anindya','Barman','Scott','Squires','Jonathan','Gilbert','Yvonne','Yue','Li'\n",
        "                        'Laura','Millan','Jorgelina','Do','Rosario']\n",
        "\n",
        "stopwords_personales = [x.lower() for x in stopwords_personales]\n",
        "\n",
        "stopwords_custom = list(stopwords_en.union(stopwords_personales))"
      ]
    },
    {
      "cell_type": "markdown",
      "metadata": {
        "id": "BZ4NRv-cCeSg"
      },
      "source": [
        "### Bag Of Words"
      ]
    },
    {
      "cell_type": "code",
      "execution_count": null,
      "metadata": {
        "id": "1oh6ViLbCeSh"
      },
      "outputs": [],
      "source": [
        "word_count = {}\n",
        "\n",
        "for sentence in data[data['Category'].isin(['Compra'])]['Text'].to_list():\n",
        "    words = sentence.split()\n",
        "\n",
        "    for word in words:\n",
        "        word = word.strip(\".,!?()\").lower()\n",
        "\n",
        "        if word in word_count:\n",
        "            word_count[word] += 1\n",
        "        else:\n",
        "            word_count[word] = 1"
      ]
    },
    {
      "cell_type": "code",
      "execution_count": null,
      "metadata": {
        "id": "OdLxbN2pCeSh"
      },
      "outputs": [],
      "source": [
        "word_count_filtro = {word: count for word, count in word_count.items() if word not in stopwords_en}"
      ]
    },
    {
      "cell_type": "code",
      "execution_count": null,
      "metadata": {
        "id": "iaXkWYyqCeSh"
      },
      "outputs": [],
      "source": [
        "word_counts_orden = dict(sorted(word_count_filtro.items(), key=lambda x: x[1], reverse=True))"
      ]
    },
    {
      "cell_type": "code",
      "execution_count": null,
      "metadata": {
        "id": "w7DPq-SGCeSi"
      },
      "outputs": [],
      "source": [
        "df = pd.DataFrame(list(word_counts_orden.items()), columns=['Palabra', 'Frecuencia'])\n",
        "file_path = 'bag_of_words.xlsx'\n",
        "df.to_excel(file_path, index=False)"
      ]
    },
    {
      "cell_type": "markdown",
      "metadata": {
        "id": "LPN2r-c3CeSj"
      },
      "source": [
        "### Función de Lematización"
      ]
    },
    {
      "cell_type": "code",
      "execution_count": null,
      "metadata": {
        "id": "h0q2goSvCeSk"
      },
      "outputs": [],
      "source": [
        "import en_core_web_sm"
      ]
    },
    {
      "cell_type": "code",
      "execution_count": null,
      "metadata": {
        "id": "I51B476SCeSk"
      },
      "outputs": [],
      "source": [
        "def func_lemma(X_train, dicc_stopwords):\n",
        "\n",
        "    nlp = spacy.load(\"en_core_web_sm\")\n",
        "    #pip3 install https://github.com/explosion/spacy-models/releases/download/en_core_web_sm-2.2.0/en_core_web_sm-2.2.0.tar.gz\n",
        "\n",
        "    X_train_lemma = []\n",
        "\n",
        "    for noticia in X_train:\n",
        "        l_doc = nlp(noticia)\n",
        "        v_lema = \" \".join([token.lemma_.lower() for token in l_doc if token.text.lower() not in dicc_stopwords and not token.is_punct])\n",
        "        X_train_lemma.append(v_lema)\n",
        "\n",
        "    return X_train_lemma"
      ]
    },
    {
      "cell_type": "markdown",
      "metadata": {
        "id": "5a21pu38CeSk"
      },
      "source": [
        "### Split Train / Test"
      ]
    },
    {
      "cell_type": "code",
      "execution_count": null,
      "metadata": {
        "id": "fwrX3BeRCeSk"
      },
      "outputs": [],
      "source": [
        "data_train = data[data['Train/Test'].isin(['Train'])]\n",
        "data_test = data[data['Train/Test'].isin(['Test'])]"
      ]
    },
    {
      "cell_type": "code",
      "source": [
        "data_train"
      ],
      "metadata": {
        "colab": {
          "base_uri": "https://localhost:8080/",
          "height": 424
        },
        "id": "5AdH84TvwRMQ",
        "outputId": "3e2252f6-a845-4266-9197-6895a32fcdcc"
      },
      "execution_count": null,
      "outputs": [
        {
          "output_type": "execute_result",
          "data": {
            "text/plain": [
              "        Pagina                                               Text        DIA  \\\n",
              "0        ZACKS  Do Options Traders Know Something About YPF So...  Wednesday   \n",
              "1    BLOOMBERG  Crop U-Turn in Argentina Ruffles Importers, La...   Thursday   \n",
              "2    BLOOMBERG  Oaktree, BlackRock Are Said to Be Among YPF Cr...     Monday   \n",
              "3    BLOOMBERG  YPF Stuns Bondholders as Argentina Runs Out of...    Tuesday   \n",
              "4    BLOOMBERG  Bitesize Podcast: Argentina's YPF Faces First ...  Wednesday   \n",
              "..         ...                                                ...        ...   \n",
              "304    REUTERS  Stocks, bonds rally over Argentina's President...     Monday   \n",
              "305    REUTERS  Argentine ETF surges after election, led by sm...     Monday   \n",
              "306    REUTERS  Argentina's Milei must learn political game to...     Monday   \n",
              "307    REUTERS  Shares in Argentina's YPF soar as Milei hints ...     Monday   \n",
              "308      ZACKS  3 Reasons Bitcoin's Momentum is just Beginning...     Monday   \n",
              "\n",
              "    YPF?      Fecha  Balance Category Train/Test  \n",
              "0     SI 2021-01-06        0   Compra      Train  \n",
              "1     NO 2021-01-14        0   Neutro      Train  \n",
              "2     SI 2021-01-18        0   Neutro      Train  \n",
              "3     SI 2021-01-19        0   Neutro      Train  \n",
              "4     SI 2021-01-20        0   Neutro      Train  \n",
              "..   ...        ...      ...      ...        ...  \n",
              "304   SI 2023-11-20        0   Compra      Train  \n",
              "305   SI 2023-11-20        0   Compra      Train  \n",
              "306   NO 2023-11-20        0   Compra      Train  \n",
              "307   SI 2023-11-20        0   Compra      Train  \n",
              "308   NO 2023-11-20        0   Compra      Train  \n",
              "\n",
              "[308 rows x 8 columns]"
            ],
            "text/html": [
              "\n",
              "  <div id=\"df-b1864b7e-3485-4239-8c65-6ee8778a4fbe\" class=\"colab-df-container\">\n",
              "    <div>\n",
              "<style scoped>\n",
              "    .dataframe tbody tr th:only-of-type {\n",
              "        vertical-align: middle;\n",
              "    }\n",
              "\n",
              "    .dataframe tbody tr th {\n",
              "        vertical-align: top;\n",
              "    }\n",
              "\n",
              "    .dataframe thead th {\n",
              "        text-align: right;\n",
              "    }\n",
              "</style>\n",
              "<table border=\"1\" class=\"dataframe\">\n",
              "  <thead>\n",
              "    <tr style=\"text-align: right;\">\n",
              "      <th></th>\n",
              "      <th>Pagina</th>\n",
              "      <th>Text</th>\n",
              "      <th>DIA</th>\n",
              "      <th>YPF?</th>\n",
              "      <th>Fecha</th>\n",
              "      <th>Balance</th>\n",
              "      <th>Category</th>\n",
              "      <th>Train/Test</th>\n",
              "    </tr>\n",
              "  </thead>\n",
              "  <tbody>\n",
              "    <tr>\n",
              "      <th>0</th>\n",
              "      <td>ZACKS</td>\n",
              "      <td>Do Options Traders Know Something About YPF So...</td>\n",
              "      <td>Wednesday</td>\n",
              "      <td>SI</td>\n",
              "      <td>2021-01-06</td>\n",
              "      <td>0</td>\n",
              "      <td>Compra</td>\n",
              "      <td>Train</td>\n",
              "    </tr>\n",
              "    <tr>\n",
              "      <th>1</th>\n",
              "      <td>BLOOMBERG</td>\n",
              "      <td>Crop U-Turn in Argentina Ruffles Importers, La...</td>\n",
              "      <td>Thursday</td>\n",
              "      <td>NO</td>\n",
              "      <td>2021-01-14</td>\n",
              "      <td>0</td>\n",
              "      <td>Neutro</td>\n",
              "      <td>Train</td>\n",
              "    </tr>\n",
              "    <tr>\n",
              "      <th>2</th>\n",
              "      <td>BLOOMBERG</td>\n",
              "      <td>Oaktree, BlackRock Are Said to Be Among YPF Cr...</td>\n",
              "      <td>Monday</td>\n",
              "      <td>SI</td>\n",
              "      <td>2021-01-18</td>\n",
              "      <td>0</td>\n",
              "      <td>Neutro</td>\n",
              "      <td>Train</td>\n",
              "    </tr>\n",
              "    <tr>\n",
              "      <th>3</th>\n",
              "      <td>BLOOMBERG</td>\n",
              "      <td>YPF Stuns Bondholders as Argentina Runs Out of...</td>\n",
              "      <td>Tuesday</td>\n",
              "      <td>SI</td>\n",
              "      <td>2021-01-19</td>\n",
              "      <td>0</td>\n",
              "      <td>Neutro</td>\n",
              "      <td>Train</td>\n",
              "    </tr>\n",
              "    <tr>\n",
              "      <th>4</th>\n",
              "      <td>BLOOMBERG</td>\n",
              "      <td>Bitesize Podcast: Argentina's YPF Faces First ...</td>\n",
              "      <td>Wednesday</td>\n",
              "      <td>SI</td>\n",
              "      <td>2021-01-20</td>\n",
              "      <td>0</td>\n",
              "      <td>Neutro</td>\n",
              "      <td>Train</td>\n",
              "    </tr>\n",
              "    <tr>\n",
              "      <th>...</th>\n",
              "      <td>...</td>\n",
              "      <td>...</td>\n",
              "      <td>...</td>\n",
              "      <td>...</td>\n",
              "      <td>...</td>\n",
              "      <td>...</td>\n",
              "      <td>...</td>\n",
              "      <td>...</td>\n",
              "    </tr>\n",
              "    <tr>\n",
              "      <th>304</th>\n",
              "      <td>REUTERS</td>\n",
              "      <td>Stocks, bonds rally over Argentina's President...</td>\n",
              "      <td>Monday</td>\n",
              "      <td>SI</td>\n",
              "      <td>2023-11-20</td>\n",
              "      <td>0</td>\n",
              "      <td>Compra</td>\n",
              "      <td>Train</td>\n",
              "    </tr>\n",
              "    <tr>\n",
              "      <th>305</th>\n",
              "      <td>REUTERS</td>\n",
              "      <td>Argentine ETF surges after election, led by sm...</td>\n",
              "      <td>Monday</td>\n",
              "      <td>SI</td>\n",
              "      <td>2023-11-20</td>\n",
              "      <td>0</td>\n",
              "      <td>Compra</td>\n",
              "      <td>Train</td>\n",
              "    </tr>\n",
              "    <tr>\n",
              "      <th>306</th>\n",
              "      <td>REUTERS</td>\n",
              "      <td>Argentina's Milei must learn political game to...</td>\n",
              "      <td>Monday</td>\n",
              "      <td>NO</td>\n",
              "      <td>2023-11-20</td>\n",
              "      <td>0</td>\n",
              "      <td>Compra</td>\n",
              "      <td>Train</td>\n",
              "    </tr>\n",
              "    <tr>\n",
              "      <th>307</th>\n",
              "      <td>REUTERS</td>\n",
              "      <td>Shares in Argentina's YPF soar as Milei hints ...</td>\n",
              "      <td>Monday</td>\n",
              "      <td>SI</td>\n",
              "      <td>2023-11-20</td>\n",
              "      <td>0</td>\n",
              "      <td>Compra</td>\n",
              "      <td>Train</td>\n",
              "    </tr>\n",
              "    <tr>\n",
              "      <th>308</th>\n",
              "      <td>ZACKS</td>\n",
              "      <td>3 Reasons Bitcoin's Momentum is just Beginning...</td>\n",
              "      <td>Monday</td>\n",
              "      <td>NO</td>\n",
              "      <td>2023-11-20</td>\n",
              "      <td>0</td>\n",
              "      <td>Compra</td>\n",
              "      <td>Train</td>\n",
              "    </tr>\n",
              "  </tbody>\n",
              "</table>\n",
              "<p>308 rows × 8 columns</p>\n",
              "</div>\n",
              "    <div class=\"colab-df-buttons\">\n",
              "\n",
              "  <div class=\"colab-df-container\">\n",
              "    <button class=\"colab-df-convert\" onclick=\"convertToInteractive('df-b1864b7e-3485-4239-8c65-6ee8778a4fbe')\"\n",
              "            title=\"Convert this dataframe to an interactive table.\"\n",
              "            style=\"display:none;\">\n",
              "\n",
              "  <svg xmlns=\"http://www.w3.org/2000/svg\" height=\"24px\" viewBox=\"0 -960 960 960\">\n",
              "    <path d=\"M120-120v-720h720v720H120Zm60-500h600v-160H180v160Zm220 220h160v-160H400v160Zm0 220h160v-160H400v160ZM180-400h160v-160H180v160Zm440 0h160v-160H620v160ZM180-180h160v-160H180v160Zm440 0h160v-160H620v160Z\"/>\n",
              "  </svg>\n",
              "    </button>\n",
              "\n",
              "  <style>\n",
              "    .colab-df-container {\n",
              "      display:flex;\n",
              "      gap: 12px;\n",
              "    }\n",
              "\n",
              "    .colab-df-convert {\n",
              "      background-color: #E8F0FE;\n",
              "      border: none;\n",
              "      border-radius: 50%;\n",
              "      cursor: pointer;\n",
              "      display: none;\n",
              "      fill: #1967D2;\n",
              "      height: 32px;\n",
              "      padding: 0 0 0 0;\n",
              "      width: 32px;\n",
              "    }\n",
              "\n",
              "    .colab-df-convert:hover {\n",
              "      background-color: #E2EBFA;\n",
              "      box-shadow: 0px 1px 2px rgba(60, 64, 67, 0.3), 0px 1px 3px 1px rgba(60, 64, 67, 0.15);\n",
              "      fill: #174EA6;\n",
              "    }\n",
              "\n",
              "    .colab-df-buttons div {\n",
              "      margin-bottom: 4px;\n",
              "    }\n",
              "\n",
              "    [theme=dark] .colab-df-convert {\n",
              "      background-color: #3B4455;\n",
              "      fill: #D2E3FC;\n",
              "    }\n",
              "\n",
              "    [theme=dark] .colab-df-convert:hover {\n",
              "      background-color: #434B5C;\n",
              "      box-shadow: 0px 1px 3px 1px rgba(0, 0, 0, 0.15);\n",
              "      filter: drop-shadow(0px 1px 2px rgba(0, 0, 0, 0.3));\n",
              "      fill: #FFFFFF;\n",
              "    }\n",
              "  </style>\n",
              "\n",
              "    <script>\n",
              "      const buttonEl =\n",
              "        document.querySelector('#df-b1864b7e-3485-4239-8c65-6ee8778a4fbe button.colab-df-convert');\n",
              "      buttonEl.style.display =\n",
              "        google.colab.kernel.accessAllowed ? 'block' : 'none';\n",
              "\n",
              "      async function convertToInteractive(key) {\n",
              "        const element = document.querySelector('#df-b1864b7e-3485-4239-8c65-6ee8778a4fbe');\n",
              "        const dataTable =\n",
              "          await google.colab.kernel.invokeFunction('convertToInteractive',\n",
              "                                                    [key], {});\n",
              "        if (!dataTable) return;\n",
              "\n",
              "        const docLinkHtml = 'Like what you see? Visit the ' +\n",
              "          '<a target=\"_blank\" href=https://colab.research.google.com/notebooks/data_table.ipynb>data table notebook</a>'\n",
              "          + ' to learn more about interactive tables.';\n",
              "        element.innerHTML = '';\n",
              "        dataTable['output_type'] = 'display_data';\n",
              "        await google.colab.output.renderOutput(dataTable, element);\n",
              "        const docLink = document.createElement('div');\n",
              "        docLink.innerHTML = docLinkHtml;\n",
              "        element.appendChild(docLink);\n",
              "      }\n",
              "    </script>\n",
              "  </div>\n",
              "\n",
              "\n",
              "<div id=\"df-e68b5d8e-1173-4dee-bc5a-bb253d118684\">\n",
              "  <button class=\"colab-df-quickchart\" onclick=\"quickchart('df-e68b5d8e-1173-4dee-bc5a-bb253d118684')\"\n",
              "            title=\"Suggest charts\"\n",
              "            style=\"display:none;\">\n",
              "\n",
              "<svg xmlns=\"http://www.w3.org/2000/svg\" height=\"24px\"viewBox=\"0 0 24 24\"\n",
              "     width=\"24px\">\n",
              "    <g>\n",
              "        <path d=\"M19 3H5c-1.1 0-2 .9-2 2v14c0 1.1.9 2 2 2h14c1.1 0 2-.9 2-2V5c0-1.1-.9-2-2-2zM9 17H7v-7h2v7zm4 0h-2V7h2v10zm4 0h-2v-4h2v4z\"/>\n",
              "    </g>\n",
              "</svg>\n",
              "  </button>\n",
              "\n",
              "<style>\n",
              "  .colab-df-quickchart {\n",
              "      --bg-color: #E8F0FE;\n",
              "      --fill-color: #1967D2;\n",
              "      --hover-bg-color: #E2EBFA;\n",
              "      --hover-fill-color: #174EA6;\n",
              "      --disabled-fill-color: #AAA;\n",
              "      --disabled-bg-color: #DDD;\n",
              "  }\n",
              "\n",
              "  [theme=dark] .colab-df-quickchart {\n",
              "      --bg-color: #3B4455;\n",
              "      --fill-color: #D2E3FC;\n",
              "      --hover-bg-color: #434B5C;\n",
              "      --hover-fill-color: #FFFFFF;\n",
              "      --disabled-bg-color: #3B4455;\n",
              "      --disabled-fill-color: #666;\n",
              "  }\n",
              "\n",
              "  .colab-df-quickchart {\n",
              "    background-color: var(--bg-color);\n",
              "    border: none;\n",
              "    border-radius: 50%;\n",
              "    cursor: pointer;\n",
              "    display: none;\n",
              "    fill: var(--fill-color);\n",
              "    height: 32px;\n",
              "    padding: 0;\n",
              "    width: 32px;\n",
              "  }\n",
              "\n",
              "  .colab-df-quickchart:hover {\n",
              "    background-color: var(--hover-bg-color);\n",
              "    box-shadow: 0 1px 2px rgba(60, 64, 67, 0.3), 0 1px 3px 1px rgba(60, 64, 67, 0.15);\n",
              "    fill: var(--button-hover-fill-color);\n",
              "  }\n",
              "\n",
              "  .colab-df-quickchart-complete:disabled,\n",
              "  .colab-df-quickchart-complete:disabled:hover {\n",
              "    background-color: var(--disabled-bg-color);\n",
              "    fill: var(--disabled-fill-color);\n",
              "    box-shadow: none;\n",
              "  }\n",
              "\n",
              "  .colab-df-spinner {\n",
              "    border: 2px solid var(--fill-color);\n",
              "    border-color: transparent;\n",
              "    border-bottom-color: var(--fill-color);\n",
              "    animation:\n",
              "      spin 1s steps(1) infinite;\n",
              "  }\n",
              "\n",
              "  @keyframes spin {\n",
              "    0% {\n",
              "      border-color: transparent;\n",
              "      border-bottom-color: var(--fill-color);\n",
              "      border-left-color: var(--fill-color);\n",
              "    }\n",
              "    20% {\n",
              "      border-color: transparent;\n",
              "      border-left-color: var(--fill-color);\n",
              "      border-top-color: var(--fill-color);\n",
              "    }\n",
              "    30% {\n",
              "      border-color: transparent;\n",
              "      border-left-color: var(--fill-color);\n",
              "      border-top-color: var(--fill-color);\n",
              "      border-right-color: var(--fill-color);\n",
              "    }\n",
              "    40% {\n",
              "      border-color: transparent;\n",
              "      border-right-color: var(--fill-color);\n",
              "      border-top-color: var(--fill-color);\n",
              "    }\n",
              "    60% {\n",
              "      border-color: transparent;\n",
              "      border-right-color: var(--fill-color);\n",
              "    }\n",
              "    80% {\n",
              "      border-color: transparent;\n",
              "      border-right-color: var(--fill-color);\n",
              "      border-bottom-color: var(--fill-color);\n",
              "    }\n",
              "    90% {\n",
              "      border-color: transparent;\n",
              "      border-bottom-color: var(--fill-color);\n",
              "    }\n",
              "  }\n",
              "</style>\n",
              "\n",
              "  <script>\n",
              "    async function quickchart(key) {\n",
              "      const quickchartButtonEl =\n",
              "        document.querySelector('#' + key + ' button');\n",
              "      quickchartButtonEl.disabled = true;  // To prevent multiple clicks.\n",
              "      quickchartButtonEl.classList.add('colab-df-spinner');\n",
              "      try {\n",
              "        const charts = await google.colab.kernel.invokeFunction(\n",
              "            'suggestCharts', [key], {});\n",
              "      } catch (error) {\n",
              "        console.error('Error during call to suggestCharts:', error);\n",
              "      }\n",
              "      quickchartButtonEl.classList.remove('colab-df-spinner');\n",
              "      quickchartButtonEl.classList.add('colab-df-quickchart-complete');\n",
              "    }\n",
              "    (() => {\n",
              "      let quickchartButtonEl =\n",
              "        document.querySelector('#df-e68b5d8e-1173-4dee-bc5a-bb253d118684 button');\n",
              "      quickchartButtonEl.style.display =\n",
              "        google.colab.kernel.accessAllowed ? 'block' : 'none';\n",
              "    })();\n",
              "  </script>\n",
              "</div>\n",
              "\n",
              "  <div id=\"id_c9253cb7-eaaf-4d3b-9420-0f4f717f53ec\">\n",
              "    <style>\n",
              "      .colab-df-generate {\n",
              "        background-color: #E8F0FE;\n",
              "        border: none;\n",
              "        border-radius: 50%;\n",
              "        cursor: pointer;\n",
              "        display: none;\n",
              "        fill: #1967D2;\n",
              "        height: 32px;\n",
              "        padding: 0 0 0 0;\n",
              "        width: 32px;\n",
              "      }\n",
              "\n",
              "      .colab-df-generate:hover {\n",
              "        background-color: #E2EBFA;\n",
              "        box-shadow: 0px 1px 2px rgba(60, 64, 67, 0.3), 0px 1px 3px 1px rgba(60, 64, 67, 0.15);\n",
              "        fill: #174EA6;\n",
              "      }\n",
              "\n",
              "      [theme=dark] .colab-df-generate {\n",
              "        background-color: #3B4455;\n",
              "        fill: #D2E3FC;\n",
              "      }\n",
              "\n",
              "      [theme=dark] .colab-df-generate:hover {\n",
              "        background-color: #434B5C;\n",
              "        box-shadow: 0px 1px 3px 1px rgba(0, 0, 0, 0.15);\n",
              "        filter: drop-shadow(0px 1px 2px rgba(0, 0, 0, 0.3));\n",
              "        fill: #FFFFFF;\n",
              "      }\n",
              "    </style>\n",
              "    <button class=\"colab-df-generate\" onclick=\"generateWithVariable('data_train')\"\n",
              "            title=\"Generate code using this dataframe.\"\n",
              "            style=\"display:none;\">\n",
              "\n",
              "  <svg xmlns=\"http://www.w3.org/2000/svg\" height=\"24px\"viewBox=\"0 0 24 24\"\n",
              "       width=\"24px\">\n",
              "    <path d=\"M7,19H8.4L18.45,9,17,7.55,7,17.6ZM5,21V16.75L18.45,3.32a2,2,0,0,1,2.83,0l1.4,1.43a1.91,1.91,0,0,1,.58,1.4,1.91,1.91,0,0,1-.58,1.4L9.25,21ZM18.45,9,17,7.55Zm-12,3A5.31,5.31,0,0,0,4.9,8.1,5.31,5.31,0,0,0,1,6.5,5.31,5.31,0,0,0,4.9,4.9,5.31,5.31,0,0,0,6.5,1,5.31,5.31,0,0,0,8.1,4.9,5.31,5.31,0,0,0,12,6.5,5.46,5.46,0,0,0,6.5,12Z\"/>\n",
              "  </svg>\n",
              "    </button>\n",
              "    <script>\n",
              "      (() => {\n",
              "      const buttonEl =\n",
              "        document.querySelector('#id_c9253cb7-eaaf-4d3b-9420-0f4f717f53ec button.colab-df-generate');\n",
              "      buttonEl.style.display =\n",
              "        google.colab.kernel.accessAllowed ? 'block' : 'none';\n",
              "\n",
              "      buttonEl.onclick = () => {\n",
              "        google.colab.notebook.generateWithVariable('data_train');\n",
              "      }\n",
              "      })();\n",
              "    </script>\n",
              "  </div>\n",
              "\n",
              "    </div>\n",
              "  </div>\n"
            ],
            "application/vnd.google.colaboratory.intrinsic+json": {
              "type": "dataframe",
              "variable_name": "data_train",
              "summary": "{\n  \"name\": \"data_train\",\n  \"rows\": 308,\n  \"fields\": [\n    {\n      \"column\": \"Pagina\",\n      \"properties\": {\n        \"dtype\": \"category\",\n        \"num_unique_values\": 4,\n        \"samples\": [\n          \"BLOOMBERG\",\n          \"REUTERS\",\n          \"ZACKS\"\n        ],\n        \"semantic_type\": \"\",\n        \"description\": \"\"\n      }\n    },\n    {\n      \"column\": \"Text\",\n      \"properties\": {\n        \"dtype\": \"string\",\n        \"num_unique_values\": 299,\n        \"samples\": [\n          \"Contrarian Who Rode $36 Billion Petrobras Rally Set for Key Test. Rajiv Jain has become the biggest minority shareholder in Petrobras, often by snapping up shares when other investors were fleeing the stock. Now his confidence in the state-owned Brazilian oil company faces one of its biggest tests yet.\",\n          \"Billionaire Rocca\\u2019s Tecpetrol Has Other Lithium Options If Alpha Bid Fails. Billionaire Paolo Rocca\\u2019s steel and energy group will enter the lithium business one way or another \\u2014 saying it\\u2019s lining up other options in case it fails with a $1 billion plan to develop a project in Argentina.\",\n          \"YPF Sociedad Anonima (YPF) Outpaces Stock Market Gains: What You Should Know In the latest trading session, YPF Sociedad Anonima (YPF) closed at $11.43, marking a +1.78% move from the previous day.. \"\n        ],\n        \"semantic_type\": \"\",\n        \"description\": \"\"\n      }\n    },\n    {\n      \"column\": \"DIA\",\n      \"properties\": {\n        \"dtype\": \"category\",\n        \"num_unique_values\": 7,\n        \"samples\": [\n          \"Wednesday\",\n          \"Thursday\",\n          \"Sunday\"\n        ],\n        \"semantic_type\": \"\",\n        \"description\": \"\"\n      }\n    },\n    {\n      \"column\": \"YPF?\",\n      \"properties\": {\n        \"dtype\": \"category\",\n        \"num_unique_values\": 2,\n        \"samples\": [\n          \"NO\",\n          \"SI\"\n        ],\n        \"semantic_type\": \"\",\n        \"description\": \"\"\n      }\n    },\n    {\n      \"column\": \"Fecha\",\n      \"properties\": {\n        \"dtype\": \"date\",\n        \"min\": \"2021-01-06 00:00:00\",\n        \"max\": \"2023-11-20 00:00:00\",\n        \"num_unique_values\": 223,\n        \"samples\": [\n          \"2021-02-08 00:00:00\",\n          \"2022-10-12 00:00:00\"\n        ],\n        \"semantic_type\": \"\",\n        \"description\": \"\"\n      }\n    },\n    {\n      \"column\": \"Balance\",\n      \"properties\": {\n        \"dtype\": \"number\",\n        \"std\": 0,\n        \"min\": 0,\n        \"max\": 1,\n        \"num_unique_values\": 2,\n        \"samples\": [\n          1,\n          0\n        ],\n        \"semantic_type\": \"\",\n        \"description\": \"\"\n      }\n    },\n    {\n      \"column\": \"Category\",\n      \"properties\": {\n        \"dtype\": \"category\",\n        \"num_unique_values\": 2,\n        \"samples\": [\n          \"Neutro\",\n          \"Compra\"\n        ],\n        \"semantic_type\": \"\",\n        \"description\": \"\"\n      }\n    },\n    {\n      \"column\": \"Train/Test\",\n      \"properties\": {\n        \"dtype\": \"category\",\n        \"num_unique_values\": 1,\n        \"samples\": [\n          \"Train\"\n        ],\n        \"semantic_type\": \"\",\n        \"description\": \"\"\n      }\n    }\n  ]\n}"
            }
          },
          "metadata": {},
          "execution_count": 29
        }
      ]
    },
    {
      "cell_type": "code",
      "execution_count": null,
      "metadata": {
        "id": "VEPfPD6kCeSk"
      },
      "outputs": [],
      "source": [
        "#X_train = data_train['Text'].tolist()\n",
        "X_train_combined = data_train[['Text', 'DIA', 'YPF?', 'Balance']]\n",
        "y_train = data_train['Category'].tolist()"
      ]
    },
    {
      "cell_type": "code",
      "execution_count": null,
      "metadata": {
        "id": "M0-ghnFcCeSk"
      },
      "outputs": [],
      "source": [
        "#X_test = data_test['Text'].tolist()\n",
        "X_test_combined = data_test[['Text', 'DIA', 'YPF?', 'Balance']]\n",
        "y_test = data_test['Category'].tolist()"
      ]
    },
    {
      "cell_type": "markdown",
      "metadata": {
        "id": "pkn04wPuCeSl"
      },
      "source": [
        "### Lemma (Similitud del Coseno y Jaccard)"
      ]
    },
    {
      "cell_type": "markdown",
      "metadata": {
        "id": "JGvfAPQVCeSl"
      },
      "source": [
        "Queremos verificar si aplicar lematización realmente cambia la composición del texto y si el texto transformado se reduce."
      ]
    },
    {
      "cell_type": "code",
      "execution_count": null,
      "metadata": {
        "id": "ZeeTuhdnCeSl"
      },
      "outputs": [],
      "source": [
        "list1 = X_train_combined['Text']\n",
        "list2 = func_lemma(X_train_combined['Text'], stopwords_custom)\n",
        "vectorizer = CountVectorizer()\n",
        "\n",
        "data_lemma = []\n",
        "\n",
        "for str1, str2 in zip(list1, list2):\n",
        "    tokens1 = str1.split()\n",
        "    tokens2 = str2.split()\n",
        "\n",
        "    matrix1 = vectorizer.fit_transform([\" \".join(tokens1)])\n",
        "    matrix2 = vectorizer.transform([\" \".join(tokens2)])\n",
        "\n",
        "    cosine_sim = cosine_similarity(matrix1, matrix2)[0][0]\n",
        "\n",
        "    data_lemma.append([str1, str2, cosine_sim])\n",
        "\n",
        "df_lemma = pd.DataFrame(data_lemma, columns=[\"Original\", \"Lemma\", \"Sim_Coseno\"])"
      ]
    },
    {
      "cell_type": "code",
      "execution_count": null,
      "metadata": {
        "id": "8Bkw_hysCeSl",
        "outputId": "acaaf636-6527-4315-caa8-75b33727fbe2",
        "colab": {
          "base_uri": "https://localhost:8080/",
          "height": 206
        }
      },
      "outputs": [
        {
          "output_type": "execute_result",
          "data": {
            "text/plain": [
              "                                            Original  \\\n",
              "0  Do Options Traders Know Something About YPF So...   \n",
              "1  Crop U-Turn in Argentina Ruffles Importers, La...   \n",
              "2  Oaktree, BlackRock Are Said to Be Among YPF Cr...   \n",
              "3  YPF Stuns Bondholders as Argentina Runs Out of...   \n",
              "4  Bitesize Podcast: Argentina's YPF Faces First ...   \n",
              "\n",
              "                                               Lemma  Sim_Coseno  \n",
              "0  options trader know something ypf sociedad ypf...    0.805425  \n",
              "1  crop u turn argentina ruffles importers lays b...    0.800641  \n",
              "2  oaktree blackrock say among ypf creditors orga...    0.678146  \n",
              "3  ypf stuns bondholders argentina runs dollars 9...    0.603909  \n",
              "4  bitesize podcast argentina 's ypf face first l...    0.957427  "
            ],
            "text/html": [
              "\n",
              "  <div id=\"df-b9ea7074-391a-4bd5-b7f1-9cfd89389244\" class=\"colab-df-container\">\n",
              "    <div>\n",
              "<style scoped>\n",
              "    .dataframe tbody tr th:only-of-type {\n",
              "        vertical-align: middle;\n",
              "    }\n",
              "\n",
              "    .dataframe tbody tr th {\n",
              "        vertical-align: top;\n",
              "    }\n",
              "\n",
              "    .dataframe thead th {\n",
              "        text-align: right;\n",
              "    }\n",
              "</style>\n",
              "<table border=\"1\" class=\"dataframe\">\n",
              "  <thead>\n",
              "    <tr style=\"text-align: right;\">\n",
              "      <th></th>\n",
              "      <th>Original</th>\n",
              "      <th>Lemma</th>\n",
              "      <th>Sim_Coseno</th>\n",
              "    </tr>\n",
              "  </thead>\n",
              "  <tbody>\n",
              "    <tr>\n",
              "      <th>0</th>\n",
              "      <td>Do Options Traders Know Something About YPF So...</td>\n",
              "      <td>options trader know something ypf sociedad ypf...</td>\n",
              "      <td>0.805425</td>\n",
              "    </tr>\n",
              "    <tr>\n",
              "      <th>1</th>\n",
              "      <td>Crop U-Turn in Argentina Ruffles Importers, La...</td>\n",
              "      <td>crop u turn argentina ruffles importers lays b...</td>\n",
              "      <td>0.800641</td>\n",
              "    </tr>\n",
              "    <tr>\n",
              "      <th>2</th>\n",
              "      <td>Oaktree, BlackRock Are Said to Be Among YPF Cr...</td>\n",
              "      <td>oaktree blackrock say among ypf creditors orga...</td>\n",
              "      <td>0.678146</td>\n",
              "    </tr>\n",
              "    <tr>\n",
              "      <th>3</th>\n",
              "      <td>YPF Stuns Bondholders as Argentina Runs Out of...</td>\n",
              "      <td>ypf stuns bondholders argentina runs dollars 9...</td>\n",
              "      <td>0.603909</td>\n",
              "    </tr>\n",
              "    <tr>\n",
              "      <th>4</th>\n",
              "      <td>Bitesize Podcast: Argentina's YPF Faces First ...</td>\n",
              "      <td>bitesize podcast argentina 's ypf face first l...</td>\n",
              "      <td>0.957427</td>\n",
              "    </tr>\n",
              "  </tbody>\n",
              "</table>\n",
              "</div>\n",
              "    <div class=\"colab-df-buttons\">\n",
              "\n",
              "  <div class=\"colab-df-container\">\n",
              "    <button class=\"colab-df-convert\" onclick=\"convertToInteractive('df-b9ea7074-391a-4bd5-b7f1-9cfd89389244')\"\n",
              "            title=\"Convert this dataframe to an interactive table.\"\n",
              "            style=\"display:none;\">\n",
              "\n",
              "  <svg xmlns=\"http://www.w3.org/2000/svg\" height=\"24px\" viewBox=\"0 -960 960 960\">\n",
              "    <path d=\"M120-120v-720h720v720H120Zm60-500h600v-160H180v160Zm220 220h160v-160H400v160Zm0 220h160v-160H400v160ZM180-400h160v-160H180v160Zm440 0h160v-160H620v160ZM180-180h160v-160H180v160Zm440 0h160v-160H620v160Z\"/>\n",
              "  </svg>\n",
              "    </button>\n",
              "\n",
              "  <style>\n",
              "    .colab-df-container {\n",
              "      display:flex;\n",
              "      gap: 12px;\n",
              "    }\n",
              "\n",
              "    .colab-df-convert {\n",
              "      background-color: #E8F0FE;\n",
              "      border: none;\n",
              "      border-radius: 50%;\n",
              "      cursor: pointer;\n",
              "      display: none;\n",
              "      fill: #1967D2;\n",
              "      height: 32px;\n",
              "      padding: 0 0 0 0;\n",
              "      width: 32px;\n",
              "    }\n",
              "\n",
              "    .colab-df-convert:hover {\n",
              "      background-color: #E2EBFA;\n",
              "      box-shadow: 0px 1px 2px rgba(60, 64, 67, 0.3), 0px 1px 3px 1px rgba(60, 64, 67, 0.15);\n",
              "      fill: #174EA6;\n",
              "    }\n",
              "\n",
              "    .colab-df-buttons div {\n",
              "      margin-bottom: 4px;\n",
              "    }\n",
              "\n",
              "    [theme=dark] .colab-df-convert {\n",
              "      background-color: #3B4455;\n",
              "      fill: #D2E3FC;\n",
              "    }\n",
              "\n",
              "    [theme=dark] .colab-df-convert:hover {\n",
              "      background-color: #434B5C;\n",
              "      box-shadow: 0px 1px 3px 1px rgba(0, 0, 0, 0.15);\n",
              "      filter: drop-shadow(0px 1px 2px rgba(0, 0, 0, 0.3));\n",
              "      fill: #FFFFFF;\n",
              "    }\n",
              "  </style>\n",
              "\n",
              "    <script>\n",
              "      const buttonEl =\n",
              "        document.querySelector('#df-b9ea7074-391a-4bd5-b7f1-9cfd89389244 button.colab-df-convert');\n",
              "      buttonEl.style.display =\n",
              "        google.colab.kernel.accessAllowed ? 'block' : 'none';\n",
              "\n",
              "      async function convertToInteractive(key) {\n",
              "        const element = document.querySelector('#df-b9ea7074-391a-4bd5-b7f1-9cfd89389244');\n",
              "        const dataTable =\n",
              "          await google.colab.kernel.invokeFunction('convertToInteractive',\n",
              "                                                    [key], {});\n",
              "        if (!dataTable) return;\n",
              "\n",
              "        const docLinkHtml = 'Like what you see? Visit the ' +\n",
              "          '<a target=\"_blank\" href=https://colab.research.google.com/notebooks/data_table.ipynb>data table notebook</a>'\n",
              "          + ' to learn more about interactive tables.';\n",
              "        element.innerHTML = '';\n",
              "        dataTable['output_type'] = 'display_data';\n",
              "        await google.colab.output.renderOutput(dataTable, element);\n",
              "        const docLink = document.createElement('div');\n",
              "        docLink.innerHTML = docLinkHtml;\n",
              "        element.appendChild(docLink);\n",
              "      }\n",
              "    </script>\n",
              "  </div>\n",
              "\n",
              "\n",
              "<div id=\"df-4c7a599f-fa5c-4953-9ca1-dc5f43f102ff\">\n",
              "  <button class=\"colab-df-quickchart\" onclick=\"quickchart('df-4c7a599f-fa5c-4953-9ca1-dc5f43f102ff')\"\n",
              "            title=\"Suggest charts\"\n",
              "            style=\"display:none;\">\n",
              "\n",
              "<svg xmlns=\"http://www.w3.org/2000/svg\" height=\"24px\"viewBox=\"0 0 24 24\"\n",
              "     width=\"24px\">\n",
              "    <g>\n",
              "        <path d=\"M19 3H5c-1.1 0-2 .9-2 2v14c0 1.1.9 2 2 2h14c1.1 0 2-.9 2-2V5c0-1.1-.9-2-2-2zM9 17H7v-7h2v7zm4 0h-2V7h2v10zm4 0h-2v-4h2v4z\"/>\n",
              "    </g>\n",
              "</svg>\n",
              "  </button>\n",
              "\n",
              "<style>\n",
              "  .colab-df-quickchart {\n",
              "      --bg-color: #E8F0FE;\n",
              "      --fill-color: #1967D2;\n",
              "      --hover-bg-color: #E2EBFA;\n",
              "      --hover-fill-color: #174EA6;\n",
              "      --disabled-fill-color: #AAA;\n",
              "      --disabled-bg-color: #DDD;\n",
              "  }\n",
              "\n",
              "  [theme=dark] .colab-df-quickchart {\n",
              "      --bg-color: #3B4455;\n",
              "      --fill-color: #D2E3FC;\n",
              "      --hover-bg-color: #434B5C;\n",
              "      --hover-fill-color: #FFFFFF;\n",
              "      --disabled-bg-color: #3B4455;\n",
              "      --disabled-fill-color: #666;\n",
              "  }\n",
              "\n",
              "  .colab-df-quickchart {\n",
              "    background-color: var(--bg-color);\n",
              "    border: none;\n",
              "    border-radius: 50%;\n",
              "    cursor: pointer;\n",
              "    display: none;\n",
              "    fill: var(--fill-color);\n",
              "    height: 32px;\n",
              "    padding: 0;\n",
              "    width: 32px;\n",
              "  }\n",
              "\n",
              "  .colab-df-quickchart:hover {\n",
              "    background-color: var(--hover-bg-color);\n",
              "    box-shadow: 0 1px 2px rgba(60, 64, 67, 0.3), 0 1px 3px 1px rgba(60, 64, 67, 0.15);\n",
              "    fill: var(--button-hover-fill-color);\n",
              "  }\n",
              "\n",
              "  .colab-df-quickchart-complete:disabled,\n",
              "  .colab-df-quickchart-complete:disabled:hover {\n",
              "    background-color: var(--disabled-bg-color);\n",
              "    fill: var(--disabled-fill-color);\n",
              "    box-shadow: none;\n",
              "  }\n",
              "\n",
              "  .colab-df-spinner {\n",
              "    border: 2px solid var(--fill-color);\n",
              "    border-color: transparent;\n",
              "    border-bottom-color: var(--fill-color);\n",
              "    animation:\n",
              "      spin 1s steps(1) infinite;\n",
              "  }\n",
              "\n",
              "  @keyframes spin {\n",
              "    0% {\n",
              "      border-color: transparent;\n",
              "      border-bottom-color: var(--fill-color);\n",
              "      border-left-color: var(--fill-color);\n",
              "    }\n",
              "    20% {\n",
              "      border-color: transparent;\n",
              "      border-left-color: var(--fill-color);\n",
              "      border-top-color: var(--fill-color);\n",
              "    }\n",
              "    30% {\n",
              "      border-color: transparent;\n",
              "      border-left-color: var(--fill-color);\n",
              "      border-top-color: var(--fill-color);\n",
              "      border-right-color: var(--fill-color);\n",
              "    }\n",
              "    40% {\n",
              "      border-color: transparent;\n",
              "      border-right-color: var(--fill-color);\n",
              "      border-top-color: var(--fill-color);\n",
              "    }\n",
              "    60% {\n",
              "      border-color: transparent;\n",
              "      border-right-color: var(--fill-color);\n",
              "    }\n",
              "    80% {\n",
              "      border-color: transparent;\n",
              "      border-right-color: var(--fill-color);\n",
              "      border-bottom-color: var(--fill-color);\n",
              "    }\n",
              "    90% {\n",
              "      border-color: transparent;\n",
              "      border-bottom-color: var(--fill-color);\n",
              "    }\n",
              "  }\n",
              "</style>\n",
              "\n",
              "  <script>\n",
              "    async function quickchart(key) {\n",
              "      const quickchartButtonEl =\n",
              "        document.querySelector('#' + key + ' button');\n",
              "      quickchartButtonEl.disabled = true;  // To prevent multiple clicks.\n",
              "      quickchartButtonEl.classList.add('colab-df-spinner');\n",
              "      try {\n",
              "        const charts = await google.colab.kernel.invokeFunction(\n",
              "            'suggestCharts', [key], {});\n",
              "      } catch (error) {\n",
              "        console.error('Error during call to suggestCharts:', error);\n",
              "      }\n",
              "      quickchartButtonEl.classList.remove('colab-df-spinner');\n",
              "      quickchartButtonEl.classList.add('colab-df-quickchart-complete');\n",
              "    }\n",
              "    (() => {\n",
              "      let quickchartButtonEl =\n",
              "        document.querySelector('#df-4c7a599f-fa5c-4953-9ca1-dc5f43f102ff button');\n",
              "      quickchartButtonEl.style.display =\n",
              "        google.colab.kernel.accessAllowed ? 'block' : 'none';\n",
              "    })();\n",
              "  </script>\n",
              "</div>\n",
              "\n",
              "    </div>\n",
              "  </div>\n"
            ],
            "application/vnd.google.colaboratory.intrinsic+json": {
              "type": "dataframe",
              "variable_name": "df_lemma",
              "summary": "{\n  \"name\": \"df_lemma\",\n  \"rows\": 308,\n  \"fields\": [\n    {\n      \"column\": \"Original\",\n      \"properties\": {\n        \"dtype\": \"string\",\n        \"num_unique_values\": 299,\n        \"samples\": [\n          \"Contrarian Who Rode $36 Billion Petrobras Rally Set for Key Test. Rajiv Jain has become the biggest minority shareholder in Petrobras, often by snapping up shares when other investors were fleeing the stock. Now his confidence in the state-owned Brazilian oil company faces one of its biggest tests yet.\",\n          \"Billionaire Rocca\\u2019s Tecpetrol Has Other Lithium Options If Alpha Bid Fails. Billionaire Paolo Rocca\\u2019s steel and energy group will enter the lithium business one way or another \\u2014 saying it\\u2019s lining up other options in case it fails with a $1 billion plan to develop a project in Argentina.\",\n          \"YPF Sociedad Anonima (YPF) Outpaces Stock Market Gains: What You Should Know In the latest trading session, YPF Sociedad Anonima (YPF) closed at $11.43, marking a +1.78% move from the previous day.. \"\n        ],\n        \"semantic_type\": \"\",\n        \"description\": \"\"\n      }\n    },\n    {\n      \"column\": \"Lemma\",\n      \"properties\": {\n        \"dtype\": \"string\",\n        \"num_unique_values\": 299,\n        \"samples\": [\n          \"contrarian ride $ 36 billion petrobras rally set key test rajiv jain become big minority shareholder petrobras often snap share investor flee stock confidence state own brazilian oil company face one big test yet\",\n          \"billionaire rocca \\u2019s tecpetrol lithium options alpha bid fail billionaire paolo rocca \\u2019s steel energy group enter lithium business one way another say \\u2019s line option case fail $ 1 billion plan develop project argentina\",\n          \"ypf sociedad anonima ypf outpaces stock market gains know late trading session ypf sociedad anonima ypf close $ 11.43 mark +1.78 move previous day\"\n        ],\n        \"semantic_type\": \"\",\n        \"description\": \"\"\n      }\n    },\n    {\n      \"column\": \"Sim_Coseno\",\n      \"properties\": {\n        \"dtype\": \"number\",\n        \"std\": 0.09579997901615503,\n        \"min\": 0.507253164941173,\n        \"max\": 0.960768922830523,\n        \"num_unique_values\": 198,\n        \"samples\": [\n          0.7629479354705706,\n          0.7713356685664039,\n          0.7844645405527361\n        ],\n        \"semantic_type\": \"\",\n        \"description\": \"\"\n      }\n    }\n  ]\n}"
            }
          },
          "metadata": {},
          "execution_count": 33
        }
      ],
      "source": [
        "df_lemma.head()"
      ]
    },
    {
      "cell_type": "code",
      "execution_count": null,
      "metadata": {
        "id": "bs7iwG1hCeSl",
        "outputId": "92601cbd-d077-4bd9-c4d2-0dee5d14df65",
        "colab": {
          "base_uri": "https://localhost:8080/"
        }
      },
      "outputs": [
        {
          "output_type": "stream",
          "name": "stdout",
          "text": [
            "Diccionario original: 2343\n",
            "Diccionario lematizado: 1569\n"
          ]
        }
      ],
      "source": [
        "def remove_stopwords(tokens):\n",
        "    filtered_tokens = [word for word in tokens if word.lower() not in stopwords_custom]\n",
        "    return filtered_tokens\n",
        "\n",
        "original_text = \" \".join(list1)\n",
        "lemmatized_text = \" \".join(list2)\n",
        "\n",
        "original_tokens = original_text.split()\n",
        "lemmatized_tokens = lemmatized_text.split()\n",
        "\n",
        "filtered_original_tokens = remove_stopwords(original_tokens)\n",
        "filtered_lemmatized_tokens = remove_stopwords(lemmatized_tokens)\n",
        "\n",
        "original_unique_words = set(filtered_original_tokens)\n",
        "lemmatized_unique_words = set(filtered_lemmatized_tokens)\n",
        "\n",
        "total_unique_words_original = len(original_unique_words)\n",
        "total_unique_words_lemmatized = len(lemmatized_unique_words)\n",
        "\n",
        "print(f\"Diccionario original: {total_unique_words_original}\")\n",
        "print(f\"Diccionario lematizado: {total_unique_words_lemmatized}\")"
      ]
    },
    {
      "cell_type": "markdown",
      "metadata": {
        "id": "PZRpMlDZCeSm"
      },
      "source": [
        "Vemos que el diccionario de términos luego de la lematización no se reduce significativamente."
      ]
    },
    {
      "cell_type": "markdown",
      "metadata": {
        "id": "76jHFHwcCeSm"
      },
      "source": [
        "## Entrenamiento"
      ]
    },
    {
      "cell_type": "markdown",
      "metadata": {
        "id": "Eapd9-svCeSm"
      },
      "source": [
        "### Regresión Logistica"
      ]
    },
    {
      "cell_type": "markdown",
      "metadata": {
        "id": "KZG_gsm1CeSn"
      },
      "source": [
        "#### Pipeline"
      ]
    },
    {
      "cell_type": "code",
      "source": [
        "from sklearn.base import BaseEstimator, TransformerMixin\n",
        "from sklearn.compose import ColumnTransformer\n",
        "from sklearn.preprocessing import StandardScaler, OneHotEncoder\n",
        "from sklearn.pipeline import Pipeline, FeatureUnion"
      ],
      "metadata": {
        "id": "6bWd3ZUqVAmz"
      },
      "execution_count": null,
      "outputs": []
    },
    {
      "cell_type": "code",
      "source": [
        "# Custom transformer for extracting text features\n",
        "class TextFeatureExtractor(BaseEstimator, TransformerMixin):\n",
        "    def fit(self, X, y=None):\n",
        "        return self\n",
        "\n",
        "    def transform(self, X):\n",
        "        return X['Text'].tolist()"
      ],
      "metadata": {
        "id": "mhaOhdIObyAg"
      },
      "execution_count": null,
      "outputs": []
    },
    {
      "cell_type": "code",
      "source": [
        "class CategoricalFeatureExtractor(BaseEstimator, TransformerMixin):\n",
        "    def fit(self, X, y=None):\n",
        "        return self\n",
        "\n",
        "    def transform(self, X):\n",
        "        return X[['DIA', 'Balance', 'YPF?']].values"
      ],
      "metadata": {
        "id": "Jt9YVU8ZVCiN"
      },
      "execution_count": null,
      "outputs": []
    },
    {
      "cell_type": "code",
      "source": [
        "clf_lr = Pipeline([\n",
        "    ('features', FeatureUnion([\n",
        "        ('text', Pipeline([\n",
        "            ('text_extractor', TextFeatureExtractor()),\n",
        "            ('vect', CountVectorizer()),\n",
        "            ('tfidf', TfidfTransformer())\n",
        "        ])),\n",
        "        ('categorical', Pipeline([\n",
        "            ('cat_extractor', CategoricalFeatureExtractor()),\n",
        "            ('onehot', OneHotEncoder())\n",
        "        ]))\n",
        "    ])),\n",
        "    ('clf', LogisticRegression())\n",
        "])\n",
        "\n",
        "clf_lr_sw = Pipeline([\n",
        "    ('features', FeatureUnion([\n",
        "        ('text', Pipeline([\n",
        "            ('text_extractor', TextFeatureExtractor()),\n",
        "            ('vect', CountVectorizer(stop_words=stopwords_custom)),\n",
        "            ('tfidf', TfidfTransformer())\n",
        "        ])),\n",
        "        ('categorical', Pipeline([\n",
        "            ('cat_extractor', CategoricalFeatureExtractor()),\n",
        "            ('onehot', OneHotEncoder())\n",
        "        ]))\n",
        "    ])),\n",
        "    ('clf', LogisticRegression())\n",
        "])"
      ],
      "metadata": {
        "id": "ost4BgsTVhj3"
      },
      "execution_count": null,
      "outputs": []
    },
    {
      "cell_type": "markdown",
      "metadata": {
        "id": "iVB6bwuJCeSn"
      },
      "source": [
        "#### Entrenamiento"
      ]
    },
    {
      "cell_type": "code",
      "source": [
        "X_train_combined_lema = X_train_combined\n",
        "X_train_combined_lema['Text'] = func_lemma(X_train_combined['Text'], stopwords_custom)"
      ],
      "metadata": {
        "id": "AT_TjOHgz2uL"
      },
      "execution_count": null,
      "outputs": []
    },
    {
      "cell_type": "code",
      "execution_count": null,
      "metadata": {
        "id": "PoaEjGLvCeSn"
      },
      "outputs": [],
      "source": [
        "clf_lr = clf_lr.fit(X_train_combined, y_train)\n",
        "\n",
        "clf_lr_sw = clf_lr_sw.fit(X_train_combined, y_train)\n",
        "\n",
        "clf_lr_lema = clf_lr.fit(X_train_combined_lema, y_train)"
      ]
    },
    {
      "cell_type": "markdown",
      "metadata": {
        "id": "uaZpm25RCeSn"
      },
      "source": [
        "#### Predicción ( Etiquetas )"
      ]
    },
    {
      "cell_type": "code",
      "execution_count": null,
      "metadata": {
        "id": "0qso-FWrCeSn"
      },
      "outputs": [],
      "source": [
        "y_pred_lr = clf_lr.predict(X_test_combined)\n",
        "\n",
        "y_pred_lr_sw = clf_lr_sw.predict(X_test_combined)\n",
        "\n",
        "y_pred_lr_lema = clf_lr_lema.predict(X_test_combined)"
      ]
    },
    {
      "cell_type": "markdown",
      "metadata": {
        "id": "eOgL5eZ9CeSo"
      },
      "source": [
        "#### Predicción ( Probabilidad )"
      ]
    },
    {
      "cell_type": "code",
      "execution_count": null,
      "metadata": {
        "id": "h8YAArhZCeSq"
      },
      "outputs": [],
      "source": [
        "y_pred_lr_proba = clf_lr.predict_proba(X_test_combined)\n",
        "\n",
        "y_pred_lr_sw_proba = clf_lr_sw.predict_proba(X_test_combined)\n",
        "\n",
        "y_pred_lr_lema_proba = clf_lr_lema.predict_proba(X_test_combined)"
      ]
    },
    {
      "cell_type": "markdown",
      "metadata": {
        "id": "GgwXDR9VCeSq"
      },
      "source": [
        "#### Evaluación"
      ]
    },
    {
      "cell_type": "code",
      "execution_count": null,
      "metadata": {
        "id": "0cO0zq6ECeSq",
        "outputId": "e9a0f64a-f0e5-468e-a13b-8ee68a111958",
        "colab": {
          "base_uri": "https://localhost:8080/"
        }
      },
      "outputs": [
        {
          "output_type": "stream",
          "name": "stdout",
          "text": [
            "Accuracy: 65.05%\n",
            "\n",
            "F1 Score: 63.09\n",
            "\n",
            "Confusion Matrix:\n",
            " [[52 11]\n",
            " [25 15]]\n"
          ]
        }
      ],
      "source": [
        "print(\"Accuracy: {:.2f}%\".format(accuracy_score(y_test, y_pred_lr_sw) * 100))\n",
        "print(\"\\nF1 Score: {:.2f}\".format(f1_score(y_test, y_pred_lr_sw, average='weighted') * 100))\n",
        "print(\"\\nConfusion Matrix:\\n\", confusion_matrix(y_test, y_pred_lr_sw))"
      ]
    },
    {
      "cell_type": "markdown",
      "metadata": {
        "id": "5VQ-iyhACeSq"
      },
      "source": [
        "### Naive Bayes Multinomial"
      ]
    },
    {
      "cell_type": "markdown",
      "metadata": {
        "id": "2mOQu4xxCeSq"
      },
      "source": [
        "#### Pipeline"
      ]
    },
    {
      "cell_type": "code",
      "execution_count": null,
      "metadata": {
        "id": "6ToQNXmzCeSr"
      },
      "outputs": [],
      "source": [
        "clf_nb = Pipeline([\n",
        "    ('features', FeatureUnion([\n",
        "        ('text', Pipeline([\n",
        "            ('text_extractor', TextFeatureExtractor()),\n",
        "            ('vect', CountVectorizer()),\n",
        "            ('tfidf', TfidfTransformer())\n",
        "        ])),\n",
        "        ('categorical', Pipeline([\n",
        "            ('cat_extractor', CategoricalFeatureExtractor()),\n",
        "            ('onehot', OneHotEncoder())\n",
        "        ]))\n",
        "    ])),\n",
        "    ('clf', MultinomialNB())\n",
        "])\n",
        "\n",
        "clf_nb_sw = Pipeline([\n",
        "    ('features', FeatureUnion([\n",
        "        ('text', Pipeline([\n",
        "            ('text_extractor', TextFeatureExtractor()),\n",
        "            ('vect', CountVectorizer(stop_words=stopwords_custom)),\n",
        "            ('tfidf', TfidfTransformer())\n",
        "        ])),\n",
        "        ('categorical', Pipeline([\n",
        "            ('cat_extractor', CategoricalFeatureExtractor()),\n",
        "            ('onehot', OneHotEncoder())\n",
        "        ]))\n",
        "    ])),\n",
        "    ('clf', MultinomialNB())\n",
        "])"
      ]
    },
    {
      "cell_type": "markdown",
      "metadata": {
        "id": "8lSoqCerCeSr"
      },
      "source": [
        "#### Entrenamiento"
      ]
    },
    {
      "cell_type": "code",
      "execution_count": null,
      "metadata": {
        "id": "LSoyfK9rCeSr"
      },
      "outputs": [],
      "source": [
        "clf_nb = clf_nb.fit(X_train_combined, y_train)\n",
        "\n",
        "clf_nb_sw = clf_nb_sw.fit(X_train_combined, y_train)\n",
        "\n",
        "clf_nb_lema = clf_nb.fit(X_train_combined_lema, y_train)"
      ]
    },
    {
      "cell_type": "markdown",
      "metadata": {
        "id": "MuAFhh8aCeSr"
      },
      "source": [
        "#### Predicción ( Etiquetas )"
      ]
    },
    {
      "cell_type": "code",
      "execution_count": null,
      "metadata": {
        "id": "xr-ECkLrCeSr"
      },
      "outputs": [],
      "source": [
        "y_pred_nb = clf_nb.predict(X_test_combined)\n",
        "\n",
        "y_pred_nb_sw = clf_nb_sw.predict(X_test_combined)\n",
        "\n",
        "y_pred_nb_lema = clf_nb_lema.predict(X_test_combined)"
      ]
    },
    {
      "cell_type": "markdown",
      "metadata": {
        "id": "s1GE9K_iCeSs"
      },
      "source": [
        "#### Predicción ( Probabilidad )"
      ]
    },
    {
      "cell_type": "code",
      "execution_count": null,
      "metadata": {
        "id": "2TDUJya0CeSs"
      },
      "outputs": [],
      "source": [
        "y_pred_nb_proba = clf_nb.predict_proba(X_test_combined)\n",
        "\n",
        "y_pred_nb_sw_proba = clf_nb_sw.predict_proba(X_test_combined)\n",
        "\n",
        "y_pred_nb_lema_proba = clf_nb_lema.predict_proba(X_test_combined)"
      ]
    },
    {
      "cell_type": "markdown",
      "metadata": {
        "id": "_LpVepd4CeSs"
      },
      "source": [
        "#### Evaluación"
      ]
    },
    {
      "cell_type": "code",
      "execution_count": null,
      "metadata": {
        "id": "dwlC5AITCeSt",
        "outputId": "1f69d1e1-52eb-488d-d08a-27533c5b036e",
        "colab": {
          "base_uri": "https://localhost:8080/"
        }
      },
      "outputs": [
        {
          "output_type": "stream",
          "name": "stdout",
          "text": [
            "Accuracy: 65.05%\n",
            "\n",
            "F1 Score: 56.94\n",
            "\n",
            "Confusion Matrix:\n",
            " [[61  2]\n",
            " [34  6]]\n"
          ]
        }
      ],
      "source": [
        "print(\"Accuracy: {:.2f}%\".format(accuracy_score(y_test, y_pred_nb) * 100))\n",
        "print(\"\\nF1 Score: {:.2f}\".format(f1_score(y_test, y_pred_nb, average='weighted') * 100))\n",
        "print(\"\\nConfusion Matrix:\\n\", confusion_matrix(y_test, y_pred_nb))"
      ]
    },
    {
      "cell_type": "code",
      "execution_count": null,
      "metadata": {
        "id": "s2V0XhUmCeSt",
        "outputId": "4115e58d-8837-402b-ec39-92d36bb24484",
        "colab": {
          "base_uri": "https://localhost:8080/"
        }
      },
      "outputs": [
        {
          "output_type": "stream",
          "name": "stdout",
          "text": [
            "Accuracy: 65.05%\n",
            "\n",
            "F1 Score: 56.94\n",
            "\n",
            "Confusion Matrix:\n",
            " [[61  2]\n",
            " [34  6]]\n"
          ]
        }
      ],
      "source": [
        "print(\"Accuracy: {:.2f}%\".format(accuracy_score(y_test, y_pred_nb_sw) * 100))\n",
        "print(\"\\nF1 Score: {:.2f}\".format(f1_score(y_test, y_pred_nb_sw, average='weighted') * 100))\n",
        "print(\"\\nConfusion Matrix:\\n\", confusion_matrix(y_test, y_pred_nb_sw))"
      ]
    },
    {
      "cell_type": "code",
      "execution_count": null,
      "metadata": {
        "id": "g1AkDYu0CeSt",
        "outputId": "4584acd5-c9b7-4353-96c3-6087edee103b",
        "colab": {
          "base_uri": "https://localhost:8080/"
        }
      },
      "outputs": [
        {
          "output_type": "stream",
          "name": "stdout",
          "text": [
            "Accuracy: 65.05%\n",
            "\n",
            "F1 Score: 56.94\n",
            "\n",
            "Confusion Matrix:\n",
            " [[61  2]\n",
            " [34  6]]\n"
          ]
        }
      ],
      "source": [
        "print(\"Accuracy: {:.2f}%\".format(accuracy_score(y_test, y_pred_nb_lema) * 100))\n",
        "print(\"\\nF1 Score: {:.2f}\".format(f1_score(y_test, y_pred_nb_lema, average='weighted') * 100))\n",
        "print(\"\\nConfusion Matrix:\\n\", confusion_matrix(y_test, y_pred_nb_lema))"
      ]
    },
    {
      "cell_type": "markdown",
      "metadata": {
        "id": "dJCJorGkCeSu"
      },
      "source": [
        "### Support Vector Classifier"
      ]
    },
    {
      "cell_type": "markdown",
      "metadata": {
        "id": "bRYOTXf1CeSu"
      },
      "source": [
        "#### Pipeline"
      ]
    },
    {
      "cell_type": "code",
      "execution_count": null,
      "metadata": {
        "id": "nvWkrbnyCeSu"
      },
      "outputs": [],
      "source": [
        "clf_svc = Pipeline([\n",
        "    ('features', FeatureUnion([\n",
        "        ('text', Pipeline([\n",
        "            ('text_extractor', TextFeatureExtractor()),\n",
        "            ('vect', CountVectorizer()),\n",
        "            ('tfidf', TfidfTransformer())\n",
        "        ])),\n",
        "        ('categorical', Pipeline([\n",
        "            ('cat_extractor', CategoricalFeatureExtractor()),\n",
        "            ('onehot', OneHotEncoder())\n",
        "        ]))\n",
        "    ])),\n",
        "    ('clf',LinearSVC())\n",
        "])\n",
        "\n",
        "clf_svc_sw = Pipeline([\n",
        "    ('features', FeatureUnion([\n",
        "        ('text', Pipeline([\n",
        "            ('text_extractor', TextFeatureExtractor()),\n",
        "            ('vect', CountVectorizer(stop_words=stopwords_custom)),\n",
        "            ('tfidf', TfidfTransformer())\n",
        "        ])),\n",
        "        ('categorical', Pipeline([\n",
        "            ('cat_extractor', CategoricalFeatureExtractor()),\n",
        "            ('onehot', OneHotEncoder())\n",
        "        ]))\n",
        "    ])),\n",
        "    ('clf', LinearSVC())\n",
        "])\n",
        "\n",
        "clf_svc_proba = Pipeline([\n",
        "    ('features', FeatureUnion([\n",
        "        ('text', Pipeline([\n",
        "            ('text_extractor', TextFeatureExtractor()),\n",
        "            ('vect', CountVectorizer()),\n",
        "            ('tfidf', TfidfTransformer())\n",
        "        ])),\n",
        "        ('categorical', Pipeline([\n",
        "            ('cat_extractor', CategoricalFeatureExtractor()),\n",
        "            ('onehot', OneHotEncoder())\n",
        "        ]))\n",
        "    ])),\n",
        "    ('clf', CalibratedClassifierCV(LinearSVC()))\n",
        "])\n",
        "\n",
        "clf_svc_sw_proba = Pipeline([\n",
        "    ('features', FeatureUnion([\n",
        "        ('text', Pipeline([\n",
        "            ('text_extractor', TextFeatureExtractor()),\n",
        "            ('vect', CountVectorizer(stop_words=stopwords_custom)),\n",
        "            ('tfidf', TfidfTransformer())\n",
        "        ])),\n",
        "        ('categorical', Pipeline([\n",
        "            ('cat_extractor', CategoricalFeatureExtractor()),\n",
        "            ('onehot', OneHotEncoder())\n",
        "        ]))\n",
        "    ])),\n",
        "    ('clf', CalibratedClassifierCV(LinearSVC()))\n",
        "])"
      ]
    },
    {
      "cell_type": "markdown",
      "metadata": {
        "id": "yCDqx4oKCeSv"
      },
      "source": [
        "#### Entrenamiento"
      ]
    },
    {
      "cell_type": "code",
      "execution_count": null,
      "metadata": {
        "id": "SOQYNVEJCeSv"
      },
      "outputs": [],
      "source": [
        "clf_svc = clf_svc.fit(X_train_combined, y_train)\n",
        "\n",
        "clf_svc_sw = clf_svc_sw.fit(X_train_combined, y_train)\n",
        "\n",
        "clf_svc_lema = clf_svc.fit(X_train_combined_lema, y_train)"
      ]
    },
    {
      "cell_type": "markdown",
      "metadata": {
        "id": "dE6UPS9NCeSv"
      },
      "source": [
        "#### Predicción ( Etiquetas )"
      ]
    },
    {
      "cell_type": "code",
      "execution_count": null,
      "metadata": {
        "id": "K4oDDbrVCeSv"
      },
      "outputs": [],
      "source": [
        "y_pred_svc = clf_svc.predict(X_test_combined)\n",
        "\n",
        "y_pred_svc_sw = clf_svc_sw.predict(X_test_combined)\n",
        "\n",
        "y_pred_svc_lema = clf_svc_lema.predict(X_test_combined)"
      ]
    },
    {
      "cell_type": "markdown",
      "metadata": {
        "id": "ycizotZiCeSw"
      },
      "source": [
        "#### Predicción ( Probabilidad )"
      ]
    },
    {
      "cell_type": "code",
      "execution_count": null,
      "metadata": {
        "id": "HmdpH945CeSw"
      },
      "outputs": [],
      "source": [
        "clf_svc = clf_svc_proba.fit(X_train_combined, y_train)\n",
        "\n",
        "clf_svc_sw = clf_svc_sw_proba.fit(X_train_combined, y_train)\n",
        "\n",
        "clf_svc_lema = clf_svc_proba.fit(X_train_combined_lema, y_train)"
      ]
    },
    {
      "cell_type": "code",
      "execution_count": null,
      "metadata": {
        "id": "_BbFoYyDCeSw"
      },
      "outputs": [],
      "source": [
        "y_pred_svc_proba = clf_svc.predict_proba(X_test_combined)\n",
        "\n",
        "y_pred_svc_sw_proba = clf_svc_sw.predict_proba(X_test_combined)\n",
        "\n",
        "y_pred_svc_lema_proba = clf_svc_lema.predict_proba(X_test_combined)"
      ]
    },
    {
      "cell_type": "markdown",
      "metadata": {
        "id": "ZnDC4yL8CeSx"
      },
      "source": [
        "#### Evaluación"
      ]
    },
    {
      "cell_type": "code",
      "execution_count": null,
      "metadata": {
        "id": "k_B0iPmVCeSx",
        "outputId": "5e5d350c-4eb6-42f4-ab5a-ca043fa45d90",
        "colab": {
          "base_uri": "https://localhost:8080/"
        }
      },
      "outputs": [
        {
          "output_type": "stream",
          "name": "stdout",
          "text": [
            "Accuracy: 62.14%\n",
            "\n",
            "F1 Score: 61.00\n",
            "\n",
            "Confusion Matrix:\n",
            " [[48 15]\n",
            " [24 16]]\n"
          ]
        }
      ],
      "source": [
        "print(\"Accuracy: {:.2f}%\".format(accuracy_score(y_test, y_pred_svc) * 100))\n",
        "print(\"\\nF1 Score: {:.2f}\".format(f1_score(y_test, y_pred_svc, average='weighted') * 100))\n",
        "print(\"\\nConfusion Matrix:\\n\", confusion_matrix(y_test, y_pred_svc))"
      ]
    },
    {
      "cell_type": "code",
      "execution_count": null,
      "metadata": {
        "id": "kys470NJCeSx",
        "outputId": "ec335fb1-359d-4773-d6ce-f05cc7108fd0",
        "colab": {
          "base_uri": "https://localhost:8080/"
        }
      },
      "outputs": [
        {
          "output_type": "stream",
          "name": "stdout",
          "text": [
            "Accuracy: 62.14%\n",
            "\n",
            "F1 Score: 61.00\n",
            "\n",
            "Confusion Matrix:\n",
            " [[48 15]\n",
            " [24 16]]\n"
          ]
        }
      ],
      "source": [
        "print(\"Accuracy: {:.2f}%\".format(accuracy_score(y_test, y_pred_svc_sw) * 100))\n",
        "print(\"\\nF1 Score: {:.2f}\".format(f1_score(y_test, y_pred_svc_sw, average='weighted') * 100))\n",
        "print(\"\\nConfusion Matrix:\\n\", confusion_matrix(y_test, y_pred_svc_sw))"
      ]
    },
    {
      "cell_type": "code",
      "execution_count": null,
      "metadata": {
        "id": "Ani0Z4vgCeSx",
        "outputId": "9647d6b8-d6c6-495a-8516-5bc87b239913",
        "colab": {
          "base_uri": "https://localhost:8080/"
        }
      },
      "outputs": [
        {
          "output_type": "stream",
          "name": "stdout",
          "text": [
            "Accuracy: 62.14%\n",
            "\n",
            "F1 Score: 61.00\n",
            "\n",
            "Confusion Matrix:\n",
            " [[48 15]\n",
            " [24 16]]\n"
          ]
        }
      ],
      "source": [
        "print(\"Accuracy: {:.2f}%\".format(accuracy_score(y_test, y_pred_svc_lema) * 100))\n",
        "print(\"\\nF1 Score: {:.2f}\".format(f1_score(y_test, y_pred_svc_lema, average='weighted') * 100))\n",
        "print(\"\\nConfusion Matrix:\\n\", confusion_matrix(y_test, y_pred_svc_lema))"
      ]
    },
    {
      "cell_type": "markdown",
      "metadata": {
        "id": "DRuRu2bnCeSy"
      },
      "source": [
        "### Random Forest"
      ]
    },
    {
      "cell_type": "markdown",
      "metadata": {
        "id": "Tx5L1sGqCeSy"
      },
      "source": [
        "#### Pipeline"
      ]
    },
    {
      "cell_type": "code",
      "execution_count": null,
      "metadata": {
        "id": "yP4ZCKj6CeSy"
      },
      "outputs": [],
      "source": [
        "clf_rf = Pipeline([\n",
        "    ('features', FeatureUnion([\n",
        "        ('text', Pipeline([\n",
        "            ('text_extractor', TextFeatureExtractor()),\n",
        "            ('vect', CountVectorizer()),\n",
        "            ('tfidf', TfidfTransformer())\n",
        "        ])),\n",
        "        ('categorical', Pipeline([\n",
        "            ('cat_extractor', CategoricalFeatureExtractor()),\n",
        "            ('onehot', OneHotEncoder())\n",
        "        ]))\n",
        "    ])),\n",
        "    ('clf',RandomForestClassifier())\n",
        "])\n",
        "\n",
        "clf_rf_sw = Pipeline([\n",
        "    ('features', FeatureUnion([\n",
        "        ('text', Pipeline([\n",
        "            ('text_extractor', TextFeatureExtractor()),\n",
        "            ('vect', CountVectorizer(stop_words=stopwords_custom)),\n",
        "            ('tfidf', TfidfTransformer())\n",
        "        ])),\n",
        "        ('categorical', Pipeline([\n",
        "            ('cat_extractor', CategoricalFeatureExtractor()),\n",
        "            ('onehot', OneHotEncoder())\n",
        "        ]))\n",
        "    ])),\n",
        "    ('clf', RandomForestClassifier())\n",
        "])"
      ]
    },
    {
      "cell_type": "markdown",
      "metadata": {
        "id": "qz24iHVOCeSy"
      },
      "source": [
        "#### Entrenamiento"
      ]
    },
    {
      "cell_type": "code",
      "execution_count": null,
      "metadata": {
        "id": "QK_4hEXpCeSy"
      },
      "outputs": [],
      "source": [
        "clf_rf = clf_rf.fit(X_train_combined, y_train)\n",
        "\n",
        "clf_rf_sw = clf_rf_sw.fit(X_train_combined, y_train)"
      ]
    },
    {
      "cell_type": "markdown",
      "metadata": {
        "id": "XPEOKRqBCeSz"
      },
      "source": [
        "#### Predicción (Etiquetas)"
      ]
    },
    {
      "cell_type": "code",
      "execution_count": null,
      "metadata": {
        "id": "9HnRcWWECeSz"
      },
      "outputs": [],
      "source": [
        "y_pred_rf = clf_rf.predict(X_test_combined)\n",
        "\n",
        "y_pred_rf_sw = clf_rf_sw.predict(X_test_combined)"
      ]
    },
    {
      "cell_type": "markdown",
      "metadata": {
        "id": "NOKoZ8jtCeS0"
      },
      "source": [
        "#### Predicción (Probabilidad)"
      ]
    },
    {
      "cell_type": "code",
      "execution_count": null,
      "metadata": {
        "id": "7ncVXhpaCeS0"
      },
      "outputs": [],
      "source": [
        "y_pred_rf_proba = clf_rf.predict_proba(X_test_combined)\n",
        "\n",
        "y_pred_rf_sw_proba = clf_rf_sw.predict_proba(X_test_combined)"
      ]
    },
    {
      "cell_type": "code",
      "execution_count": null,
      "metadata": {
        "id": "ynn4ZggfCeS0",
        "outputId": "b740e8af-619b-4ae8-b6f2-8845a0e65f09",
        "colab": {
          "base_uri": "https://localhost:8080/"
        }
      },
      "outputs": [
        {
          "output_type": "stream",
          "name": "stdout",
          "text": [
            "Accuracy: 63.11%\n",
            "\n",
            "F1 Score: 55.59\n",
            "\n",
            "Confusion Matrix:\n",
            " [[59  4]\n",
            " [34  6]]\n"
          ]
        }
      ],
      "source": [
        "print(\"Accuracy: {:.2f}%\".format(accuracy_score(y_test, y_pred_rf) * 100))\n",
        "print(\"\\nF1 Score: {:.2f}\".format(f1_score(y_test, y_pred_rf, average='weighted') * 100))\n",
        "print(\"\\nConfusion Matrix:\\n\", confusion_matrix(y_test, y_pred_rf))"
      ]
    },
    {
      "cell_type": "markdown",
      "metadata": {
        "id": "ACTJZDUVCeS1"
      },
      "source": [
        "### XGBoost"
      ]
    },
    {
      "cell_type": "markdown",
      "metadata": {
        "id": "LT1VrEQeCeS1"
      },
      "source": [
        "#### Mapeo etiquetas"
      ]
    },
    {
      "cell_type": "code",
      "execution_count": null,
      "metadata": {
        "id": "Mmz4_2o4CeS1"
      },
      "outputs": [],
      "source": [
        "y_train_gb = data_train[\"Category\"].map({'Neutro': 1, 'Compra': 0}).to_list()\n",
        "y_test_gb = data_test[\"Category\"].map({'Neutro': 1, 'Compra': 0}).to_list()"
      ]
    },
    {
      "cell_type": "code",
      "execution_count": null,
      "metadata": {
        "id": "E7d9nj7XCeS1"
      },
      "outputs": [],
      "source": [
        "def map_value(value):\n",
        "    if value == 0:\n",
        "        return \"Compra\"\n",
        "    else:\n",
        "        return \"Neutro\""
      ]
    },
    {
      "cell_type": "markdown",
      "metadata": {
        "id": "oWowmK-zCeS1"
      },
      "source": [
        "#### Pipeline"
      ]
    },
    {
      "cell_type": "code",
      "execution_count": null,
      "metadata": {
        "id": "CGwoDhHGCeS2"
      },
      "outputs": [],
      "source": [
        "clf_xgb = Pipeline([\n",
        "    ('features', FeatureUnion([\n",
        "        ('text', Pipeline([\n",
        "            ('text_extractor', TextFeatureExtractor()),\n",
        "            ('vect', CountVectorizer()),\n",
        "            ('tfidf', TfidfTransformer())\n",
        "        ])),\n",
        "        ('categorical', Pipeline([\n",
        "            ('cat_extractor', CategoricalFeatureExtractor()),\n",
        "            ('onehot', OneHotEncoder())\n",
        "        ]))\n",
        "    ])),\n",
        "    ('clf',XGBClassifier())\n",
        "])\n",
        "\n",
        "clf_xgb_sw = Pipeline([\n",
        "    ('features', FeatureUnion([\n",
        "        ('text', Pipeline([\n",
        "            ('text_extractor', TextFeatureExtractor()),\n",
        "            ('vect', CountVectorizer(stop_words=stopwords_custom)),\n",
        "            ('tfidf', TfidfTransformer())\n",
        "        ])),\n",
        "        ('categorical', Pipeline([\n",
        "            ('cat_extractor', CategoricalFeatureExtractor()),\n",
        "            ('onehot', OneHotEncoder())\n",
        "        ]))\n",
        "    ])),\n",
        "    ('clf', XGBClassifier())\n",
        "])"
      ]
    },
    {
      "cell_type": "markdown",
      "metadata": {
        "id": "MH_G77mmCeS2"
      },
      "source": [
        "#### Entrenamiento"
      ]
    },
    {
      "cell_type": "code",
      "execution_count": null,
      "metadata": {
        "id": "bfvIVcZLCeS2"
      },
      "outputs": [],
      "source": [
        "clf_xgb = clf_xgb.fit(X_train_combined, y_train_gb)\n",
        "\n",
        "clf_xgb_sw = clf_xgb_sw.fit(X_train_combined, y_train_gb)"
      ]
    },
    {
      "cell_type": "markdown",
      "metadata": {
        "id": "J_VVYGuwCeS2"
      },
      "source": [
        "#### Predicción (Etiquetas)"
      ]
    },
    {
      "cell_type": "code",
      "execution_count": null,
      "metadata": {
        "id": "v4JXk0iKCeS3"
      },
      "outputs": [],
      "source": [
        "y_pred_xgb = clf_xgb.predict(X_test_combined)\n",
        "\n",
        "y_pred_xgb_sw = clf_xgb_sw.predict(X_test_combined)"
      ]
    },
    {
      "cell_type": "markdown",
      "metadata": {
        "id": "zrgqPwupCeS3"
      },
      "source": [
        "#### Predicción (Probabilidad)"
      ]
    },
    {
      "cell_type": "code",
      "execution_count": null,
      "metadata": {
        "id": "3ue8LGhsCeS3"
      },
      "outputs": [],
      "source": [
        "y_pred_xgb_proba = clf_xgb.predict_proba(X_test_combined)\n",
        "\n",
        "y_pred_xgb_sw_proba = clf_xgb_sw.predict_proba(X_test_combined)"
      ]
    },
    {
      "cell_type": "markdown",
      "metadata": {
        "id": "2lU4Lna9CeS3"
      },
      "source": [
        "#### Evaluación"
      ]
    },
    {
      "cell_type": "code",
      "execution_count": null,
      "metadata": {
        "id": "iy_4TZnJCeS3",
        "outputId": "9cf2c5af-3517-4063-fa02-a44025529784",
        "colab": {
          "base_uri": "https://localhost:8080/"
        }
      },
      "outputs": [
        {
          "output_type": "stream",
          "name": "stdout",
          "text": [
            "Accuracy: 64.08%\n",
            "\n",
            "F1 Score: 60.84\n",
            "\n",
            "Confusion Matrix:\n",
            " [[54  9]\n",
            " [28 12]]\n"
          ]
        }
      ],
      "source": [
        "print(\"Accuracy: {:.2f}%\".format(accuracy_score(y_test_gb, y_pred_xgb_sw) * 100))\n",
        "print(\"\\nF1 Score: {:.2f}\".format(f1_score(y_test_gb, y_pred_xgb_sw, average='weighted') * 100))\n",
        "print(\"\\nConfusion Matrix:\\n\", confusion_matrix(y_test_gb, y_pred_xgb_sw))"
      ]
    },
    {
      "cell_type": "markdown",
      "metadata": {
        "id": "9rIhYHlBCeS4"
      },
      "source": [
        "#### Remapeo de etiquetas"
      ]
    },
    {
      "cell_type": "code",
      "execution_count": null,
      "metadata": {
        "id": "UcX-q0l9CeS4"
      },
      "outputs": [],
      "source": [
        "y_pred_xgb = [map_value(value) for value in y_pred_xgb]\n",
        "y_pred_xgb_sw = [map_value(value) for value in y_pred_xgb_sw]"
      ]
    },
    {
      "cell_type": "markdown",
      "metadata": {
        "id": "0LH-0UzzCeS4"
      },
      "source": [
        "### LightGBM"
      ]
    },
    {
      "cell_type": "markdown",
      "metadata": {
        "id": "l9We4l4dCeS4"
      },
      "source": [
        "#### Pipeline"
      ]
    },
    {
      "cell_type": "code",
      "execution_count": null,
      "metadata": {
        "id": "yAvbDMLnCeS5"
      },
      "outputs": [],
      "source": [
        "clf_lgbm = Pipeline([\n",
        "    ('features', FeatureUnion([\n",
        "        ('text', Pipeline([\n",
        "            ('text_extractor', TextFeatureExtractor()),\n",
        "            ('vect', CountVectorizer()),\n",
        "            ('tfidf', TfidfTransformer())\n",
        "        ])),\n",
        "        ('categorical', Pipeline([\n",
        "            ('cat_extractor', CategoricalFeatureExtractor()),\n",
        "            ('onehot', OneHotEncoder())\n",
        "        ]))\n",
        "    ])),\n",
        "    ('clf', LGBMClassifier())\n",
        "])\n",
        "\n",
        "clf_lgbm_sw = Pipeline([\n",
        "    ('features', FeatureUnion([\n",
        "        ('text', Pipeline([\n",
        "            ('text_extractor', TextFeatureExtractor()),\n",
        "            ('vect', CountVectorizer(stop_words=stopwords_custom)),\n",
        "            ('tfidf', TfidfTransformer())\n",
        "        ])),\n",
        "        ('categorical', Pipeline([\n",
        "            ('cat_extractor', CategoricalFeatureExtractor()),\n",
        "            ('onehot', OneHotEncoder())\n",
        "        ]))\n",
        "    ])),\n",
        "    ('clf', LGBMClassifier())\n",
        "])"
      ]
    },
    {
      "cell_type": "markdown",
      "metadata": {
        "id": "tzoau_6wCeS5"
      },
      "source": [
        "#### Entrenamiento"
      ]
    },
    {
      "cell_type": "code",
      "execution_count": null,
      "metadata": {
        "id": "1PvlEAplCeS5",
        "outputId": "023810ae-6991-452f-fb23-83f26e77149c",
        "colab": {
          "base_uri": "https://localhost:8080/"
        }
      },
      "outputs": [
        {
          "output_type": "stream",
          "name": "stdout",
          "text": [
            "[LightGBM] [Info] Number of positive: 131, number of negative: 177\n",
            "[LightGBM] [Info] Auto-choosing row-wise multi-threading, the overhead of testing was 0.000451 seconds.\n",
            "You can set `force_row_wise=true` to remove the overhead.\n",
            "And if memory is not enough, you can set `force_col_wise=true`.\n",
            "[LightGBM] [Info] Total Bins 655\n",
            "[LightGBM] [Info] Number of data points in the train set: 308, number of used features: 52\n",
            "[LightGBM] [Info] [binary:BoostFromScore]: pavg=0.425325 -> initscore=-0.300952\n",
            "[LightGBM] [Info] Start training from score -0.300952\n",
            "[LightGBM] [Warning] No further splits with positive gain, best gain: -inf\n",
            "[LightGBM] [Warning] No further splits with positive gain, best gain: -inf\n",
            "[LightGBM] [Warning] No further splits with positive gain, best gain: -inf\n",
            "[LightGBM] [Warning] No further splits with positive gain, best gain: -inf\n",
            "[LightGBM] [Warning] No further splits with positive gain, best gain: -inf\n",
            "[LightGBM] [Warning] No further splits with positive gain, best gain: -inf\n",
            "[LightGBM] [Warning] No further splits with positive gain, best gain: -inf\n",
            "[LightGBM] [Warning] No further splits with positive gain, best gain: -inf\n",
            "[LightGBM] [Warning] No further splits with positive gain, best gain: -inf\n",
            "[LightGBM] [Warning] No further splits with positive gain, best gain: -inf\n",
            "[LightGBM] [Warning] No further splits with positive gain, best gain: -inf\n",
            "[LightGBM] [Warning] No further splits with positive gain, best gain: -inf\n",
            "[LightGBM] [Warning] No further splits with positive gain, best gain: -inf\n",
            "[LightGBM] [Warning] No further splits with positive gain, best gain: -inf\n",
            "[LightGBM] [Warning] No further splits with positive gain, best gain: -inf\n",
            "[LightGBM] [Warning] No further splits with positive gain, best gain: -inf\n",
            "[LightGBM] [Warning] No further splits with positive gain, best gain: -inf\n",
            "[LightGBM] [Warning] No further splits with positive gain, best gain: -inf\n",
            "[LightGBM] [Warning] No further splits with positive gain, best gain: -inf\n",
            "[LightGBM] [Warning] No further splits with positive gain, best gain: -inf\n",
            "[LightGBM] [Warning] No further splits with positive gain, best gain: -inf\n",
            "[LightGBM] [Warning] No further splits with positive gain, best gain: -inf\n",
            "[LightGBM] [Warning] No further splits with positive gain, best gain: -inf\n",
            "[LightGBM] [Warning] No further splits with positive gain, best gain: -inf\n",
            "[LightGBM] [Warning] No further splits with positive gain, best gain: -inf\n",
            "[LightGBM] [Warning] No further splits with positive gain, best gain: -inf\n",
            "[LightGBM] [Warning] No further splits with positive gain, best gain: -inf\n",
            "[LightGBM] [Warning] No further splits with positive gain, best gain: -inf\n",
            "[LightGBM] [Warning] No further splits with positive gain, best gain: -inf\n",
            "[LightGBM] [Warning] No further splits with positive gain, best gain: -inf\n",
            "[LightGBM] [Warning] No further splits with positive gain, best gain: -inf\n",
            "[LightGBM] [Warning] No further splits with positive gain, best gain: -inf\n",
            "[LightGBM] [Warning] No further splits with positive gain, best gain: -inf\n",
            "[LightGBM] [Warning] No further splits with positive gain, best gain: -inf\n",
            "[LightGBM] [Warning] No further splits with positive gain, best gain: -inf\n",
            "[LightGBM] [Warning] No further splits with positive gain, best gain: -inf\n",
            "[LightGBM] [Warning] No further splits with positive gain, best gain: -inf\n",
            "[LightGBM] [Warning] No further splits with positive gain, best gain: -inf\n",
            "[LightGBM] [Warning] No further splits with positive gain, best gain: -inf\n",
            "[LightGBM] [Warning] No further splits with positive gain, best gain: -inf\n",
            "[LightGBM] [Warning] No further splits with positive gain, best gain: -inf\n",
            "[LightGBM] [Warning] No further splits with positive gain, best gain: -inf\n",
            "[LightGBM] [Warning] No further splits with positive gain, best gain: -inf\n",
            "[LightGBM] [Warning] No further splits with positive gain, best gain: -inf\n",
            "[LightGBM] [Warning] No further splits with positive gain, best gain: -inf\n",
            "[LightGBM] [Warning] No further splits with positive gain, best gain: -inf\n",
            "[LightGBM] [Warning] No further splits with positive gain, best gain: -inf\n",
            "[LightGBM] [Warning] No further splits with positive gain, best gain: -inf\n",
            "[LightGBM] [Warning] No further splits with positive gain, best gain: -inf\n",
            "[LightGBM] [Warning] No further splits with positive gain, best gain: -inf\n",
            "[LightGBM] [Warning] No further splits with positive gain, best gain: -inf\n",
            "[LightGBM] [Warning] No further splits with positive gain, best gain: -inf\n",
            "[LightGBM] [Warning] No further splits with positive gain, best gain: -inf\n",
            "[LightGBM] [Warning] No further splits with positive gain, best gain: -inf\n",
            "[LightGBM] [Warning] No further splits with positive gain, best gain: -inf\n",
            "[LightGBM] [Warning] No further splits with positive gain, best gain: -inf\n",
            "[LightGBM] [Warning] No further splits with positive gain, best gain: -inf\n",
            "[LightGBM] [Warning] No further splits with positive gain, best gain: -inf\n",
            "[LightGBM] [Warning] No further splits with positive gain, best gain: -inf\n",
            "[LightGBM] [Warning] No further splits with positive gain, best gain: -inf\n",
            "[LightGBM] [Warning] No further splits with positive gain, best gain: -inf\n",
            "[LightGBM] [Warning] No further splits with positive gain, best gain: -inf\n",
            "[LightGBM] [Warning] No further splits with positive gain, best gain: -inf\n",
            "[LightGBM] [Warning] No further splits with positive gain, best gain: -inf\n",
            "[LightGBM] [Warning] No further splits with positive gain, best gain: -inf\n",
            "[LightGBM] [Warning] No further splits with positive gain, best gain: -inf\n",
            "[LightGBM] [Warning] No further splits with positive gain, best gain: -inf\n",
            "[LightGBM] [Warning] No further splits with positive gain, best gain: -inf\n",
            "[LightGBM] [Warning] No further splits with positive gain, best gain: -inf\n",
            "[LightGBM] [Warning] No further splits with positive gain, best gain: -inf\n",
            "[LightGBM] [Warning] No further splits with positive gain, best gain: -inf\n",
            "[LightGBM] [Warning] No further splits with positive gain, best gain: -inf\n",
            "[LightGBM] [Warning] No further splits with positive gain, best gain: -inf\n",
            "[LightGBM] [Warning] No further splits with positive gain, best gain: -inf\n",
            "[LightGBM] [Warning] No further splits with positive gain, best gain: -inf\n",
            "[LightGBM] [Warning] No further splits with positive gain, best gain: -inf\n",
            "[LightGBM] [Warning] No further splits with positive gain, best gain: -inf\n",
            "[LightGBM] [Warning] No further splits with positive gain, best gain: -inf\n",
            "[LightGBM] [Warning] No further splits with positive gain, best gain: -inf\n",
            "[LightGBM] [Warning] No further splits with positive gain, best gain: -inf\n",
            "[LightGBM] [Warning] No further splits with positive gain, best gain: -inf\n",
            "[LightGBM] [Warning] No further splits with positive gain, best gain: -inf\n",
            "[LightGBM] [Warning] No further splits with positive gain, best gain: -inf\n",
            "[LightGBM] [Warning] No further splits with positive gain, best gain: -inf\n",
            "[LightGBM] [Warning] No further splits with positive gain, best gain: -inf\n",
            "[LightGBM] [Warning] No further splits with positive gain, best gain: -inf\n",
            "[LightGBM] [Warning] No further splits with positive gain, best gain: -inf\n",
            "[LightGBM] [Warning] No further splits with positive gain, best gain: -inf\n",
            "[LightGBM] [Warning] No further splits with positive gain, best gain: -inf\n",
            "[LightGBM] [Warning] No further splits with positive gain, best gain: -inf\n",
            "[LightGBM] [Warning] No further splits with positive gain, best gain: -inf\n",
            "[LightGBM] [Warning] No further splits with positive gain, best gain: -inf\n",
            "[LightGBM] [Warning] No further splits with positive gain, best gain: -inf\n",
            "[LightGBM] [Warning] No further splits with positive gain, best gain: -inf\n",
            "[LightGBM] [Warning] No further splits with positive gain, best gain: -inf\n",
            "[LightGBM] [Warning] No further splits with positive gain, best gain: -inf\n",
            "[LightGBM] [Warning] No further splits with positive gain, best gain: -inf\n",
            "[LightGBM] [Warning] No further splits with positive gain, best gain: -inf\n",
            "[LightGBM] [Warning] No further splits with positive gain, best gain: -inf\n",
            "[LightGBM] [Warning] No further splits with positive gain, best gain: -inf\n",
            "[LightGBM] [Info] Number of positive: 131, number of negative: 177\n",
            "[LightGBM] [Info] Auto-choosing row-wise multi-threading, the overhead of testing was 0.000241 seconds.\n",
            "You can set `force_row_wise=true` to remove the overhead.\n",
            "And if memory is not enough, you can set `force_col_wise=true`.\n",
            "[LightGBM] [Info] Total Bins 654\n",
            "[LightGBM] [Info] Number of data points in the train set: 308, number of used features: 52\n",
            "[LightGBM] [Info] [binary:BoostFromScore]: pavg=0.425325 -> initscore=-0.300952\n",
            "[LightGBM] [Info] Start training from score -0.300952\n",
            "[LightGBM] [Warning] No further splits with positive gain, best gain: -inf\n",
            "[LightGBM] [Warning] No further splits with positive gain, best gain: -inf\n",
            "[LightGBM] [Warning] No further splits with positive gain, best gain: -inf\n",
            "[LightGBM] [Warning] No further splits with positive gain, best gain: -inf\n",
            "[LightGBM] [Warning] No further splits with positive gain, best gain: -inf\n",
            "[LightGBM] [Warning] No further splits with positive gain, best gain: -inf\n",
            "[LightGBM] [Warning] No further splits with positive gain, best gain: -inf\n",
            "[LightGBM] [Warning] No further splits with positive gain, best gain: -inf\n",
            "[LightGBM] [Warning] No further splits with positive gain, best gain: -inf\n",
            "[LightGBM] [Warning] No further splits with positive gain, best gain: -inf\n",
            "[LightGBM] [Warning] No further splits with positive gain, best gain: -inf\n",
            "[LightGBM] [Warning] No further splits with positive gain, best gain: -inf\n",
            "[LightGBM] [Warning] No further splits with positive gain, best gain: -inf\n",
            "[LightGBM] [Warning] No further splits with positive gain, best gain: -inf\n",
            "[LightGBM] [Warning] No further splits with positive gain, best gain: -inf\n",
            "[LightGBM] [Warning] No further splits with positive gain, best gain: -inf\n",
            "[LightGBM] [Warning] No further splits with positive gain, best gain: -inf\n",
            "[LightGBM] [Warning] No further splits with positive gain, best gain: -inf\n",
            "[LightGBM] [Warning] No further splits with positive gain, best gain: -inf\n",
            "[LightGBM] [Warning] No further splits with positive gain, best gain: -inf\n",
            "[LightGBM] [Warning] No further splits with positive gain, best gain: -inf\n",
            "[LightGBM] [Warning] No further splits with positive gain, best gain: -inf\n",
            "[LightGBM] [Warning] No further splits with positive gain, best gain: -inf\n",
            "[LightGBM] [Warning] No further splits with positive gain, best gain: -inf\n",
            "[LightGBM] [Warning] No further splits with positive gain, best gain: -inf\n",
            "[LightGBM] [Warning] No further splits with positive gain, best gain: -inf\n",
            "[LightGBM] [Warning] No further splits with positive gain, best gain: -inf\n",
            "[LightGBM] [Warning] No further splits with positive gain, best gain: -inf\n",
            "[LightGBM] [Warning] No further splits with positive gain, best gain: -inf\n",
            "[LightGBM] [Warning] No further splits with positive gain, best gain: -inf\n",
            "[LightGBM] [Warning] No further splits with positive gain, best gain: -inf\n",
            "[LightGBM] [Warning] No further splits with positive gain, best gain: -inf\n",
            "[LightGBM] [Warning] No further splits with positive gain, best gain: -inf\n",
            "[LightGBM] [Warning] No further splits with positive gain, best gain: -inf\n",
            "[LightGBM] [Warning] No further splits with positive gain, best gain: -inf\n",
            "[LightGBM] [Warning] No further splits with positive gain, best gain: -inf\n",
            "[LightGBM] [Warning] No further splits with positive gain, best gain: -inf\n",
            "[LightGBM] [Warning] No further splits with positive gain, best gain: -inf\n",
            "[LightGBM] [Warning] No further splits with positive gain, best gain: -inf\n",
            "[LightGBM] [Warning] No further splits with positive gain, best gain: -inf\n",
            "[LightGBM] [Warning] No further splits with positive gain, best gain: -inf\n",
            "[LightGBM] [Warning] No further splits with positive gain, best gain: -inf\n",
            "[LightGBM] [Warning] No further splits with positive gain, best gain: -inf\n",
            "[LightGBM] [Warning] No further splits with positive gain, best gain: -inf\n",
            "[LightGBM] [Warning] No further splits with positive gain, best gain: -inf\n",
            "[LightGBM] [Warning] No further splits with positive gain, best gain: -inf\n",
            "[LightGBM] [Warning] No further splits with positive gain, best gain: -inf\n",
            "[LightGBM] [Warning] No further splits with positive gain, best gain: -inf\n",
            "[LightGBM] [Warning] No further splits with positive gain, best gain: -inf\n",
            "[LightGBM] [Warning] No further splits with positive gain, best gain: -inf\n",
            "[LightGBM] [Warning] No further splits with positive gain, best gain: -inf\n",
            "[LightGBM] [Warning] No further splits with positive gain, best gain: -inf\n",
            "[LightGBM] [Warning] No further splits with positive gain, best gain: -inf\n",
            "[LightGBM] [Warning] No further splits with positive gain, best gain: -inf\n",
            "[LightGBM] [Warning] No further splits with positive gain, best gain: -inf\n",
            "[LightGBM] [Warning] No further splits with positive gain, best gain: -inf\n",
            "[LightGBM] [Warning] No further splits with positive gain, best gain: -inf\n",
            "[LightGBM] [Warning] No further splits with positive gain, best gain: -inf\n",
            "[LightGBM] [Warning] No further splits with positive gain, best gain: -inf\n",
            "[LightGBM] [Warning] No further splits with positive gain, best gain: -inf\n",
            "[LightGBM] [Warning] No further splits with positive gain, best gain: -inf\n",
            "[LightGBM] [Warning] No further splits with positive gain, best gain: -inf\n",
            "[LightGBM] [Warning] No further splits with positive gain, best gain: -inf\n",
            "[LightGBM] [Warning] No further splits with positive gain, best gain: -inf\n",
            "[LightGBM] [Warning] No further splits with positive gain, best gain: -inf\n",
            "[LightGBM] [Warning] No further splits with positive gain, best gain: -inf\n",
            "[LightGBM] [Warning] No further splits with positive gain, best gain: -inf\n",
            "[LightGBM] [Warning] No further splits with positive gain, best gain: -inf\n",
            "[LightGBM] [Warning] No further splits with positive gain, best gain: -inf\n",
            "[LightGBM] [Warning] No further splits with positive gain, best gain: -inf\n",
            "[LightGBM] [Warning] No further splits with positive gain, best gain: -inf\n",
            "[LightGBM] [Warning] No further splits with positive gain, best gain: -inf\n",
            "[LightGBM] [Warning] No further splits with positive gain, best gain: -inf\n",
            "[LightGBM] [Warning] No further splits with positive gain, best gain: -inf\n",
            "[LightGBM] [Warning] No further splits with positive gain, best gain: -inf\n",
            "[LightGBM] [Warning] No further splits with positive gain, best gain: -inf\n",
            "[LightGBM] [Warning] No further splits with positive gain, best gain: -inf\n",
            "[LightGBM] [Warning] No further splits with positive gain, best gain: -inf\n",
            "[LightGBM] [Warning] No further splits with positive gain, best gain: -inf\n",
            "[LightGBM] [Warning] No further splits with positive gain, best gain: -inf\n",
            "[LightGBM] [Warning] No further splits with positive gain, best gain: -inf\n",
            "[LightGBM] [Warning] No further splits with positive gain, best gain: -inf\n",
            "[LightGBM] [Warning] No further splits with positive gain, best gain: -inf\n",
            "[LightGBM] [Warning] No further splits with positive gain, best gain: -inf\n",
            "[LightGBM] [Warning] No further splits with positive gain, best gain: -inf\n",
            "[LightGBM] [Warning] No further splits with positive gain, best gain: -inf\n",
            "[LightGBM] [Warning] No further splits with positive gain, best gain: -inf\n",
            "[LightGBM] [Warning] No further splits with positive gain, best gain: -inf\n",
            "[LightGBM] [Warning] No further splits with positive gain, best gain: -inf\n",
            "[LightGBM] [Warning] No further splits with positive gain, best gain: -inf\n",
            "[LightGBM] [Warning] No further splits with positive gain, best gain: -inf\n",
            "[LightGBM] [Warning] No further splits with positive gain, best gain: -inf\n",
            "[LightGBM] [Warning] No further splits with positive gain, best gain: -inf\n",
            "[LightGBM] [Warning] No further splits with positive gain, best gain: -inf\n",
            "[LightGBM] [Warning] No further splits with positive gain, best gain: -inf\n",
            "[LightGBM] [Warning] No further splits with positive gain, best gain: -inf\n",
            "[LightGBM] [Warning] No further splits with positive gain, best gain: -inf\n",
            "[LightGBM] [Warning] No further splits with positive gain, best gain: -inf\n",
            "[LightGBM] [Warning] No further splits with positive gain, best gain: -inf\n",
            "[LightGBM] [Warning] No further splits with positive gain, best gain: -inf\n"
          ]
        }
      ],
      "source": [
        "clf_lgbm = clf_lgbm.fit(X_train_combined, y_train_gb)\n",
        "\n",
        "clf_lgbm_sw = clf_lgbm_sw.fit(X_train_combined, y_train_gb)"
      ]
    },
    {
      "cell_type": "markdown",
      "metadata": {
        "id": "IzJgJ2ExCeS5"
      },
      "source": [
        "#### Predicción (Etiquetas)"
      ]
    },
    {
      "cell_type": "code",
      "execution_count": null,
      "metadata": {
        "id": "z8Gqehe0CeS5"
      },
      "outputs": [],
      "source": [
        "y_pred_lgbm = clf_lgbm.predict(X_test_combined)\n",
        "\n",
        "y_pred_lgbm_sw = clf_lgbm_sw.predict(X_test_combined)"
      ]
    },
    {
      "cell_type": "markdown",
      "metadata": {
        "id": "wHEl_xZ0CeS6"
      },
      "source": [
        "#### Predicción (Probabilidad)"
      ]
    },
    {
      "cell_type": "code",
      "execution_count": null,
      "metadata": {
        "id": "oj36mQbYCeS6"
      },
      "outputs": [],
      "source": [
        "y_pred_lgbm_proba = clf_lgbm.predict_proba(X_test_combined)\n",
        "\n",
        "y_pred_lgbm_sw_proba = clf_lgbm_sw.predict_proba(X_test_combined)"
      ]
    },
    {
      "cell_type": "markdown",
      "metadata": {
        "id": "QCt_UkuvCeS6"
      },
      "source": [
        "#### Evaluación"
      ]
    },
    {
      "cell_type": "code",
      "execution_count": null,
      "metadata": {
        "id": "EszDCezdCeS6",
        "outputId": "7fc5d4a6-aedb-4745-d631-aa7186844a58",
        "colab": {
          "base_uri": "https://localhost:8080/"
        }
      },
      "outputs": [
        {
          "output_type": "stream",
          "name": "stdout",
          "text": [
            "Accuracy: 56.31%\n",
            "\n",
            "F1 Score: 56.21\n",
            "\n",
            "Confusion Matrix:\n",
            " [[41 22]\n",
            " [23 17]]\n"
          ]
        }
      ],
      "source": [
        "print(\"Accuracy: {:.2f}%\".format(accuracy_score(y_test_gb, y_pred_lgbm_sw) * 100))\n",
        "print(\"\\nF1 Score: {:.2f}\".format(f1_score(y_test_gb, y_pred_lgbm_sw, average='weighted') * 100))\n",
        "print(\"\\nConfusion Matrix:\\n\", confusion_matrix(y_test_gb, y_pred_lgbm_sw))"
      ]
    },
    {
      "cell_type": "markdown",
      "metadata": {
        "id": "8i-gGxesCeS7"
      },
      "source": [
        "#### Remapeo de etiquetas"
      ]
    },
    {
      "cell_type": "code",
      "execution_count": null,
      "metadata": {
        "id": "DCttBIC8CeS7"
      },
      "outputs": [],
      "source": [
        "y_pred_lgbm = [map_value(value) for value in y_pred_lgbm]\n",
        "y_pred_lgbm_sw = [map_value(value) for value in y_pred_lgbm_sw]"
      ]
    },
    {
      "cell_type": "markdown",
      "metadata": {
        "id": "SYWt_oATCeS7"
      },
      "source": [
        "### Word2Vec"
      ]
    },
    {
      "cell_type": "code",
      "source": [
        "import gensim\n",
        "from google.colab import drive"
      ],
      "metadata": {
        "id": "5xdNRxFy-aTF"
      },
      "execution_count": null,
      "outputs": []
    },
    {
      "cell_type": "code",
      "source": [
        "drive.mount('/content/drive')\n",
        "path_to_model = '/content/drive/My Drive/GoogleNews-vectors-negative300.bin.gz'"
      ],
      "metadata": {
        "id": "eWQriI0w-fQe",
        "outputId": "a822516f-5750-4e4b-d780-0484e0818e70",
        "colab": {
          "base_uri": "https://localhost:8080/"
        }
      },
      "execution_count": null,
      "outputs": [
        {
          "output_type": "stream",
          "name": "stdout",
          "text": [
            "Mounted at /content/drive\n"
          ]
        }
      ]
    },
    {
      "cell_type": "code",
      "execution_count": null,
      "metadata": {
        "id": "xeI_c1VdCeS8"
      },
      "outputs": [],
      "source": [
        "GoogleModel = gensim.models.KeyedVectors.load_word2vec_format(path_to_model, binary = True)"
      ]
    },
    {
      "cell_type": "code",
      "execution_count": null,
      "metadata": {
        "id": "-iPgNahfCeS9"
      },
      "outputs": [],
      "source": [
        "w2v_results = {}"
      ]
    },
    {
      "cell_type": "code",
      "source": [
        "class FunctionText2Vec(BaseEstimator, TransformerMixin):\n",
        "    def __init__(self, model):\n",
        "        self.model = model\n",
        "\n",
        "    def fit(self, X, y=None):\n",
        "        return self\n",
        "\n",
        "    def transform(self, X):\n",
        "        W2Vec_Data = pd.DataFrame()\n",
        "\n",
        "        for row in X:\n",
        "            sentence = ' '.join(row.split()) if isinstance(row, str) else ' '.join(row.toarray()[0].astype(str))\n",
        "            sentence_vec = np.zeros(300)\n",
        "\n",
        "            for word in sentence.split():\n",
        "                if word in self.model.key_to_index:\n",
        "                    sentence_vec += self.model[word]\n",
        "\n",
        "            W2Vec_Data = pd.concat([W2Vec_Data, pd.DataFrame([sentence_vec])], ignore_index=True)\n",
        "\n",
        "        return W2Vec_Data"
      ],
      "metadata": {
        "id": "wST5TgDi5_jg"
      },
      "execution_count": null,
      "outputs": []
    },
    {
      "cell_type": "code",
      "source": [
        "text_pipeline = Pipeline([\n",
        "    ('text_extractor', TextFeatureExtractor()),\n",
        "    ('vectorizer', CountVectorizer(stop_words=stopwords_custom)),\n",
        "    ('scaler', MaxAbsScaler()),\n",
        "    ('word2vec', FunctionText2Vec(GoogleModel))\n",
        "])\n",
        "\n",
        "combined_features = FeatureUnion([\n",
        "    ('text_pipeline', text_pipeline),\n",
        "    ('categorical', Pipeline([\n",
        "        ('cat_extractor', CategoricalFeatureExtractor()),\n",
        "        ('onehot', OneHotEncoder())\n",
        "    ]))\n",
        "])\n",
        "\n",
        "NB_clf = Pipeline([\n",
        "    ('features', combined_features),\n",
        "    ('scaler', MaxAbsScaler()),\n",
        "    ('clf', MultinomialNB())\n",
        "])\n",
        "\n",
        "KNN_clf = Pipeline([\n",
        "    ('features', combined_features),\n",
        "    ('clf', KNeighborsClassifier(n_neighbors=15))\n",
        "])\n",
        "\n",
        "LR_clf = Pipeline([\n",
        "    ('features', combined_features),\n",
        "    ('clf', LogisticRegression(C=10,penalty='l2', solver='newton-cg')) #'newton-cg', 'lbfgs', 'liblinear', 'sag', 'saga'\n",
        "])\n",
        "\n",
        "DT_clf = Pipeline([\n",
        "    ('features', combined_features),\n",
        "    ('clf', DecisionTreeClassifier(max_depth = 20, criterion = 'gini'))\n",
        "])\n",
        "\n",
        "RF_clf = Pipeline([\n",
        "    ('features', combined_features),\n",
        "    ('clf', RandomForestClassifier(max_depth = 20))\n",
        "])\n",
        "\n",
        "XGB_clf = Pipeline([\n",
        "    ('features', combined_features),\n",
        "    ('clf', XGBClassifier())\n",
        "])\n",
        "\n",
        "lgbm_params = {\n",
        "    'verbosity': -1  # Set verbosity to -1 to suppress all messages\n",
        "}\n",
        "LGBM_clf = Pipeline([\n",
        "    ('features', combined_features),\n",
        "    ('clf', LGBMClassifier(**lgbm_params))\n",
        "])\n",
        "\n",
        "DTC_clf = Pipeline([\n",
        "    ('features', combined_features),\n",
        "    ('clf', AdaBoostClassifier(n_estimators = 20, base_estimator = DecisionTreeClassifier(max_depth = 2) , learning_rate = 0.01))\n",
        "])"
      ],
      "metadata": {
        "id": "fKSn0Rsr6Ayx"
      },
      "execution_count": null,
      "outputs": []
    },
    {
      "cell_type": "code",
      "source": [
        "# Split data into features and target\n",
        "X_train = data[data['Train/Test'] == 'Train']\n",
        "y_train = X_train['Category']\n",
        "X_test = data[data['Train/Test'] == 'Test']\n",
        "y_test = X_test['Category']\n",
        "\n",
        "X_train = X_train[['Text', 'DIA', 'YPF?', 'Balance']]\n",
        "X_test = X_test[['Text', 'DIA', 'YPF?', 'Balance']]"
      ],
      "metadata": {
        "id": "LiHEdY_w-SUt"
      },
      "execution_count": null,
      "outputs": []
    },
    {
      "cell_type": "markdown",
      "metadata": {
        "id": "Vbq1_sv1CeTA"
      },
      "source": [
        "#### Naive Bayes"
      ]
    },
    {
      "cell_type": "code",
      "execution_count": null,
      "metadata": {
        "id": "R5sMNrGLCeTA",
        "outputId": "e522e43f-66d0-4fc4-d34e-6f4dc3b6ecf0",
        "colab": {
          "base_uri": "https://localhost:8080/"
        }
      },
      "outputs": [
        {
          "output_type": "stream",
          "name": "stdout",
          "text": [
            "              precision    recall  f1-score   support\n",
            "\n",
            "      Compra       0.64      0.92      0.76        63\n",
            "      Neutro       0.62      0.20      0.30        40\n",
            "\n",
            "    accuracy                           0.64       103\n",
            "   macro avg       0.63      0.56      0.53       103\n",
            "weighted avg       0.63      0.64      0.58       103\n",
            "\n",
            "-----------------------------------------------------\n",
            "[[58 32]\n",
            " [ 5  8]]\n",
            "-----------------------------------------------------\n",
            "Accuracy en TEST data: 0.58\n"
          ]
        }
      ],
      "source": [
        "#Entranamiento y predicción\n",
        "NB = NB_clf.fit(X_train, y_train)\n",
        "prediction = NB.predict(X_test)\n",
        "\n",
        "print(classification_report(y_test, prediction))\n",
        "print('-----------------------------------------------------')\n",
        "print(confusion_matrix(prediction, y_test))\n",
        "print('-----------------------------------------------------')\n",
        "F1_Score = f1_score(y_test, prediction, average = 'weighted')\n",
        "print('Accuracy en TEST data:', round(F1_Score,2))\n",
        "\n",
        "w2v_results['Naive Bayes'] = round(F1_Score,2)"
      ]
    },
    {
      "cell_type": "markdown",
      "metadata": {
        "id": "ay8_5J66CeTA"
      },
      "source": [
        "#### KNN (K-Nearest Neighbor)"
      ]
    },
    {
      "cell_type": "code",
      "execution_count": null,
      "metadata": {
        "id": "PakywrbmCeTA",
        "outputId": "92a2b20c-f000-4191-d547-e223d70f0c06",
        "colab": {
          "base_uri": "https://localhost:8080/"
        }
      },
      "outputs": [
        {
          "output_type": "stream",
          "name": "stdout",
          "text": [
            "              precision    recall  f1-score   support\n",
            "\n",
            "      Compra       0.67      0.83      0.74        63\n",
            "      Neutro       0.56      0.35      0.43        40\n",
            "\n",
            "    accuracy                           0.64       103\n",
            "   macro avg       0.61      0.59      0.58       103\n",
            "weighted avg       0.63      0.64      0.62       103\n",
            "\n",
            "-----------------------------------------------------\n",
            "[[52 26]\n",
            " [11 14]]\n",
            "-----------------------------------------------------\n",
            "Accuracy en TEST data: 0.62\n"
          ]
        }
      ],
      "source": [
        "#Entranamiento y predicción\n",
        "KNN = KNN_clf.fit(X_train,y_train)\n",
        "prediction = KNN.predict(X_test)\n",
        "\n",
        "print(classification_report(y_test, prediction))\n",
        "print('-----------------------------------------------------')\n",
        "print(confusion_matrix(prediction, y_test))\n",
        "print('-----------------------------------------------------')\n",
        "F1_Score = f1_score(y_test, prediction, average = 'weighted')\n",
        "print('Accuracy en TEST data:', round(F1_Score,2))\n",
        "\n",
        "w2v_results['KNN'] = round(F1_Score,2)"
      ]
    },
    {
      "cell_type": "markdown",
      "metadata": {
        "id": "JcACy-59CeTB"
      },
      "source": [
        "#### Regresión Logística"
      ]
    },
    {
      "cell_type": "code",
      "execution_count": null,
      "metadata": {
        "id": "tDUaK7h7CeTB",
        "outputId": "61cf9ef9-4369-4e72-9595-b4a548feb89c",
        "colab": {
          "base_uri": "https://localhost:8080/"
        }
      },
      "outputs": [
        {
          "output_type": "stream",
          "name": "stdout",
          "text": [
            "              precision    recall  f1-score   support\n",
            "\n",
            "      Compra       0.71      0.76      0.73        63\n",
            "      Neutro       0.57      0.50      0.53        40\n",
            "\n",
            "    accuracy                           0.66       103\n",
            "   macro avg       0.64      0.63      0.63       103\n",
            "weighted avg       0.65      0.66      0.66       103\n",
            "\n",
            "-----------------------------------------------------\n",
            "[[48 20]\n",
            " [15 20]]\n",
            "-----------------------------------------------------\n",
            "Accuracy en TEST data: 0.66\n"
          ]
        }
      ],
      "source": [
        "LOG = LR_clf.fit(X_train,y_train)\n",
        "prediction = LOG.predict(X_test)\n",
        "\n",
        "print(classification_report(y_test, prediction))\n",
        "print('-----------------------------------------------------')\n",
        "print(confusion_matrix(prediction, y_test))\n",
        "print('-----------------------------------------------------')\n",
        "F1_Score = f1_score(y_test, prediction, average = 'weighted')\n",
        "print('Accuracy en TEST data:', round(F1_Score,2))\n",
        "\n",
        "w2v_results['Logistic Regression'] = round(F1_Score,2)"
      ]
    },
    {
      "cell_type": "markdown",
      "metadata": {
        "id": "ZhvyME4qCeTB"
      },
      "source": [
        "#### Árbol de Decisión"
      ]
    },
    {
      "cell_type": "code",
      "execution_count": null,
      "metadata": {
        "id": "ejqSJx96CeTC",
        "outputId": "42782314-620a-4cf0-f423-43bedd0343a0",
        "colab": {
          "base_uri": "https://localhost:8080/"
        }
      },
      "outputs": [
        {
          "output_type": "stream",
          "name": "stdout",
          "text": [
            "              precision    recall  f1-score   support\n",
            "\n",
            "      Compra       0.67      0.76      0.71        63\n",
            "      Neutro       0.52      0.40      0.45        40\n",
            "\n",
            "    accuracy                           0.62       103\n",
            "   macro avg       0.59      0.58      0.58       103\n",
            "weighted avg       0.61      0.62      0.61       103\n",
            "\n",
            "-----------------------------------------------------\n",
            "[[48 24]\n",
            " [15 16]]\n",
            "-----------------------------------------------------\n",
            "Accuracy en TEST data: 0.61\n"
          ]
        }
      ],
      "source": [
        "DTree = DT_clf.fit(X_train,y_train)\n",
        "prediction = DTree.predict(X_test)\n",
        "\n",
        "print(classification_report(y_test, prediction))\n",
        "print('-----------------------------------------------------')\n",
        "print(confusion_matrix(prediction, y_test))\n",
        "print('-----------------------------------------------------')\n",
        "F1_Score = f1_score(y_test, prediction, average = 'weighted')\n",
        "print('Accuracy en TEST data:', round(F1_Score,2))\n",
        "\n",
        "w2v_results['Decision Tree'] = round(F1_Score,2)"
      ]
    },
    {
      "cell_type": "markdown",
      "metadata": {
        "id": "i3I8ciEGCeTC"
      },
      "source": [
        "#### Random Forest"
      ]
    },
    {
      "cell_type": "code",
      "execution_count": null,
      "metadata": {
        "id": "BQ4yOFjGCeTC",
        "outputId": "93ede091-72c7-40a5-f4c5-d2e2fcd5b0d7",
        "colab": {
          "base_uri": "https://localhost:8080/"
        }
      },
      "outputs": [
        {
          "output_type": "stream",
          "name": "stdout",
          "text": [
            "              precision    recall  f1-score   support\n",
            "\n",
            "      Compra       0.67      0.76      0.71        63\n",
            "      Neutro       0.52      0.40      0.45        40\n",
            "\n",
            "    accuracy                           0.62       103\n",
            "   macro avg       0.59      0.58      0.58       103\n",
            "weighted avg       0.61      0.62      0.61       103\n",
            "\n",
            "-----------------------------------------------------\n",
            "[[48 24]\n",
            " [15 16]]\n",
            "-----------------------------------------------------\n",
            "Accuracy en TEST data: 0.61\n"
          ]
        }
      ],
      "source": [
        "RF = RF_clf.fit(X_train,y_train)\n",
        "prediction = DTree.predict(X_test)\n",
        "\n",
        "print(classification_report(y_test, prediction))\n",
        "print('-----------------------------------------------------')\n",
        "print(confusion_matrix(prediction, y_test))\n",
        "print('-----------------------------------------------------')\n",
        "F1_Score = f1_score(y_test, prediction, average = 'weighted')\n",
        "print('Accuracy en TEST data:', round(F1_Score,2))\n",
        "\n",
        "w2v_results['Random Forest'] = round(F1_Score,2)"
      ]
    },
    {
      "cell_type": "markdown",
      "metadata": {
        "id": "l9cbooMACeTC"
      },
      "source": [
        "#### XGBoost"
      ]
    },
    {
      "cell_type": "code",
      "execution_count": null,
      "metadata": {
        "id": "KQIXX03yCeTD",
        "outputId": "7a02cd3c-abc3-461c-e2ed-0130de378353",
        "colab": {
          "base_uri": "https://localhost:8080/"
        }
      },
      "outputs": [
        {
          "output_type": "stream",
          "name": "stdout",
          "text": [
            "              precision    recall  f1-score   support\n",
            "\n",
            "           0       0.67      0.76      0.71        63\n",
            "           1       0.52      0.40      0.45        40\n",
            "\n",
            "    accuracy                           0.62       103\n",
            "   macro avg       0.59      0.58      0.58       103\n",
            "weighted avg       0.61      0.62      0.61       103\n",
            "\n",
            "-----------------------------------------------------\n",
            "[[48 24]\n",
            " [15 16]]\n",
            "-----------------------------------------------------\n",
            "Accuracy en TEST data: 0.61\n"
          ]
        }
      ],
      "source": [
        "#Necesito codificar las etiquetas\n",
        "cat_encoded = LabelEncoder()\n",
        "y_train_encoded = cat_encoded.fit_transform(y_train)\n",
        "y_test_encoded = cat_encoded.transform(y_test)\n",
        "\n",
        "XGB = XGB_clf.fit(X_train, y_train_encoded)\n",
        "prediction = XGB.predict(X_test)\n",
        "\n",
        "print(classification_report(y_test_encoded, prediction))\n",
        "print('-----------------------------------------------------')\n",
        "print(confusion_matrix(prediction, y_test_encoded))\n",
        "print('-----------------------------------------------------')\n",
        "F1_Score = f1_score(y_test_encoded, prediction, average = 'weighted')\n",
        "print('Accuracy en TEST data:', round(F1_Score,2))\n",
        "\n",
        "w2v_results['XGBoost'] = round(F1_Score,2)"
      ]
    },
    {
      "cell_type": "markdown",
      "metadata": {
        "id": "4P3XdmmVCeTD"
      },
      "source": [
        "#### LightGBM"
      ]
    },
    {
      "cell_type": "code",
      "execution_count": null,
      "metadata": {
        "id": "hRHwImZ_CeTD",
        "outputId": "d9f74362-fcbc-435a-aa84-478134a98932",
        "colab": {
          "base_uri": "https://localhost:8080/"
        }
      },
      "outputs": [
        {
          "output_type": "stream",
          "name": "stdout",
          "text": [
            "              precision    recall  f1-score   support\n",
            "\n",
            "      Compra       0.68      0.76      0.72        63\n",
            "      Neutro       0.53      0.42      0.47        40\n",
            "\n",
            "    accuracy                           0.63       103\n",
            "   macro avg       0.60      0.59      0.59       103\n",
            "weighted avg       0.62      0.63      0.62       103\n",
            "\n",
            "-----------------------------------------------------\n",
            "[[48 23]\n",
            " [15 17]]\n",
            "-----------------------------------------------------\n",
            "Accuracy en TEST data: 0.62\n"
          ]
        }
      ],
      "source": [
        "LGBM = LGBM_clf.fit(X_train,y_train)\n",
        "prediction = LGBM.predict(X_test)\n",
        "y_pred_w2v_lgbm = prediction\n",
        "y_pred_w2v_lgbm_proba = LGBM.predict_proba(X_test)\n",
        "\n",
        "print(classification_report(y_test, prediction))\n",
        "print('-----------------------------------------------------')\n",
        "print(confusion_matrix(prediction, y_test))\n",
        "print('-----------------------------------------------------')\n",
        "F1_Score = f1_score(y_test, prediction, average = 'weighted')\n",
        "print('Accuracy en TEST data:', round(F1_Score,2))\n",
        "\n",
        "w2v_results['LightGBM'] = round(F1_Score,2)"
      ]
    },
    {
      "cell_type": "markdown",
      "metadata": {
        "id": "AKERCmxCCeTD"
      },
      "source": [
        "#### AdaBoost"
      ]
    },
    {
      "cell_type": "code",
      "execution_count": null,
      "metadata": {
        "id": "ya9N8vY3CeTE",
        "outputId": "11e95f54-9a80-4918-e9c1-41aee13dd111",
        "colab": {
          "base_uri": "https://localhost:8080/"
        }
      },
      "outputs": [
        {
          "output_type": "stream",
          "name": "stdout",
          "text": [
            "              precision    recall  f1-score   support\n",
            "\n",
            "      Compra       0.70      0.84      0.76        63\n",
            "      Neutro       0.63      0.42      0.51        40\n",
            "\n",
            "    accuracy                           0.68       103\n",
            "   macro avg       0.66      0.63      0.64       103\n",
            "weighted avg       0.67      0.68      0.66       103\n",
            "\n",
            "-----------------------------------------------------\n",
            "[[53 23]\n",
            " [10 17]]\n",
            "-----------------------------------------------------\n",
            "Accuracy en TEST data: 0.66\n"
          ]
        }
      ],
      "source": [
        "AB = DTC_clf.fit(X_train,y_train)\n",
        "prediction = AB.predict(X_test)\n",
        "\n",
        "print(classification_report(y_test, prediction))\n",
        "print('-----------------------------------------------------')\n",
        "print(confusion_matrix(prediction, y_test))\n",
        "print('-----------------------------------------------------')\n",
        "F1_Score = f1_score(y_test, prediction, average = 'weighted')\n",
        "print('Accuracy en TEST data:', round(F1_Score,2))\n",
        "\n",
        "w2v_results['AdaBoost'] = round(F1_Score,2)"
      ]
    },
    {
      "cell_type": "code",
      "execution_count": null,
      "metadata": {
        "id": "V7QXU5fXCeTE",
        "outputId": "5f72cfb6-f3ef-4c04-8f62-e80ef51a9f75",
        "colab": {
          "base_uri": "https://localhost:8080/"
        }
      },
      "outputs": [
        {
          "output_type": "execute_result",
          "data": {
            "text/plain": [
              "{'Naive Bayes': 0.58,\n",
              " 'KNN': 0.62,\n",
              " 'Logistic Regression': 0.66,\n",
              " 'Decision Tree': 0.61,\n",
              " 'Random Forest': 0.61,\n",
              " 'XGBoost': 0.61,\n",
              " 'LightGBM': 0.62,\n",
              " 'AdaBoost': 0.66}"
            ]
          },
          "metadata": {},
          "execution_count": 150
        }
      ],
      "source": [
        "w2v_results"
      ]
    },
    {
      "cell_type": "markdown",
      "metadata": {
        "id": "MhI00l7KCeTE"
      },
      "source": [
        "### BERT"
      ]
    },
    {
      "cell_type": "markdown",
      "metadata": {
        "id": "G5LgNzVfCeTE"
      },
      "source": [
        "#### Librerias"
      ]
    },
    {
      "cell_type": "code",
      "execution_count": null,
      "metadata": {
        "id": "qSfyHv87CeTE"
      },
      "outputs": [],
      "source": [
        "import torch\n",
        "from torch import nn\n",
        "from torch.utils.data import DataLoader, Dataset\n",
        "from transformers import BertTokenizer, BertModel, AdamW, get_linear_schedule_with_warmup"
      ]
    },
    {
      "cell_type": "markdown",
      "metadata": {
        "id": "Bv8lnL0NCeTE"
      },
      "source": [
        "#### Funciones"
      ]
    },
    {
      "cell_type": "code",
      "execution_count": null,
      "metadata": {
        "id": "73_x0eKbCeTF"
      },
      "outputs": [],
      "source": [
        "class TextClassificationDataset(Dataset):\n",
        "    def __init__(self, texts, labels, tokenizer, max_length):\n",
        "            self.texts = texts\n",
        "            self.labels = labels\n",
        "            self.tokenizer = tokenizer\n",
        "            self.max_length = max_length\n",
        "\n",
        "    def __len__(self):\n",
        "            return len(self.texts)\n",
        "\n",
        "    def __getitem__(self, idx):\n",
        "            text = self.texts[idx]\n",
        "            label = self.labels[idx]\n",
        "            encoding = self.tokenizer(text, return_tensors='pt', max_length=self.max_length, padding='max_length', truncation=True)\n",
        "            return {'input_ids': encoding['input_ids'].flatten(), 'attention_mask': encoding['attention_mask'].flatten(), 'label': torch.tensor(label)}"
      ]
    },
    {
      "cell_type": "code",
      "execution_count": null,
      "metadata": {
        "id": "ER3c7nwACeTF"
      },
      "outputs": [],
      "source": [
        "class BERTClassifier(nn.Module):\n",
        "    def __init__(self, bert_model_name, num_classes):\n",
        "        super(BERTClassifier, self).__init__()\n",
        "        self.bert = BertModel.from_pretrained(bert_model_name)\n",
        "        self.dropout = nn.Dropout(0.1)\n",
        "        self.fc = nn.Linear(self.bert.config.hidden_size, num_classes)\n",
        "\n",
        "    def forward(self, input_ids, attention_mask):\n",
        "        outputs = self.bert(input_ids=input_ids, attention_mask=attention_mask)\n",
        "        pooled_output = outputs.pooler_output\n",
        "        x = self.dropout(pooled_output)\n",
        "        logits = self.fc(x)\n",
        "        return logits"
      ]
    },
    {
      "cell_type": "code",
      "execution_count": null,
      "metadata": {
        "id": "9jXeVrpuCeTG"
      },
      "outputs": [],
      "source": [
        "def train(model, data_loader, optimizer, scheduler, device):\n",
        "    model.train()\n",
        "    for batch in data_loader:\n",
        "        optimizer.zero_grad()\n",
        "        input_ids = batch['input_ids'].to(device)\n",
        "        attention_mask = batch['attention_mask'].to(device)\n",
        "        labels = batch['label'].to(device)\n",
        "        outputs = model(input_ids=input_ids, attention_mask=attention_mask)\n",
        "        loss = nn.CrossEntropyLoss()(outputs, labels)\n",
        "        loss.backward()\n",
        "        optimizer.step()\n",
        "        scheduler.step()"
      ]
    },
    {
      "cell_type": "code",
      "execution_count": null,
      "metadata": {
        "id": "ONCM55WECeTG"
      },
      "outputs": [],
      "source": [
        "def evaluate(model, data_loader, device):\n",
        "    model.eval()\n",
        "    predictions = []\n",
        "    actual_labels = []\n",
        "    with torch.no_grad():\n",
        "        for batch in data_loader:\n",
        "            input_ids = batch['input_ids'].to(device)\n",
        "            attention_mask = batch['attention_mask'].to(device)\n",
        "            labels = batch['label'].to(device)\n",
        "            outputs = model(input_ids=input_ids, attention_mask=attention_mask)\n",
        "            _, preds = torch.max(outputs, dim=1)\n",
        "            predictions.extend(preds.cpu().tolist())\n",
        "            actual_labels.extend(labels.cpu().tolist())\n",
        "    return accuracy_score(actual_labels, predictions), classification_report(actual_labels, predictions)"
      ]
    },
    {
      "cell_type": "code",
      "execution_count": null,
      "metadata": {
        "id": "UE2iJJMJCeTG"
      },
      "outputs": [],
      "source": [
        "def predict_sentiment(text, model, tokenizer, device, max_length=128):\n",
        "    model.eval()\n",
        "    encoding = tokenizer(text, return_tensors='pt', max_length=max_length, padding='max_length', truncation=True)\n",
        "    input_ids = encoding['input_ids'].to(device)\n",
        "    attention_mask = encoding['attention_mask'].to(device)\n",
        "\n",
        "    with torch.no_grad():\n",
        "        outputs = model(input_ids=input_ids, attention_mask=attention_mask)\n",
        "        _, preds = torch.max(outputs, dim=1)\n",
        "    return \"Neutro\" if preds.item() == 1 else \"Compra\""
      ]
    },
    {
      "cell_type": "code",
      "execution_count": null,
      "metadata": {
        "id": "5Cwux7sPCeTG"
      },
      "outputs": [],
      "source": [
        "def predict_sentiment_with_probabilities(text, model, tokenizer, device, max_length=128):\n",
        "    model.eval()\n",
        "    encoding = tokenizer(text, return_tensors='pt', max_length=max_length, padding='max_length', truncation=True)\n",
        "    input_ids = encoding['input_ids'].to(device)\n",
        "    attention_mask = encoding['attention_mask'].to(device)\n",
        "\n",
        "    with torch.no_grad():\n",
        "        outputs = model(input_ids=input_ids, attention_mask=attention_mask)\n",
        "        probabilities = torch.softmax(outputs, dim=1)\n",
        "\n",
        "    label_probabilities = {\n",
        "        \"Compra\": probabilities[0][0].item(),\n",
        "        \"Neutro\": probabilities[0][1].item()\n",
        "    }\n",
        "\n",
        "    return label_probabilities"
      ]
    },
    {
      "cell_type": "markdown",
      "metadata": {
        "id": "MR28bmrbCeTH"
      },
      "source": [
        "#### Parámetros"
      ]
    },
    {
      "cell_type": "code",
      "execution_count": null,
      "metadata": {
        "id": "Y_prqbIxCeTH"
      },
      "outputs": [],
      "source": [
        "# Set up parameters\n",
        "bert_model_name = 'bert-base-uncased'\n",
        "num_classes = 2\n",
        "max_length = 128\n",
        "batch_size = 16\n",
        "num_epochs = 4\n",
        "learning_rate = 2e-5"
      ]
    },
    {
      "cell_type": "markdown",
      "metadata": {
        "id": "c770PN04CeTH"
      },
      "source": [
        "#### Entrenamiento"
      ]
    },
    {
      "cell_type": "code",
      "execution_count": null,
      "metadata": {
        "id": "0d-KTvqdCeTH"
      },
      "outputs": [],
      "source": [
        "train_texts = data_train['Text'].tolist()\n",
        "train_labels = [0 if sentiment == \"Compra\" else 1 for sentiment in data_train['Category'].tolist()]\n",
        "\n",
        "val_texts = data_test['Text'].tolist()\n",
        "val_labels = [0 if sentiment == \"Compra\" else 1 for sentiment in data_test['Category'].tolist()]"
      ]
    },
    {
      "cell_type": "markdown",
      "metadata": {
        "id": "dad9_l-eCeTI"
      },
      "source": [
        "#### Pipeline"
      ]
    },
    {
      "cell_type": "code",
      "execution_count": null,
      "metadata": {
        "id": "mvxZ063aCeTI",
        "outputId": "368e7f21-07c0-40a3-8f1e-4d7f22933d51",
        "colab": {
          "base_uri": "https://localhost:8080/",
          "height": 145,
          "referenced_widgets": [
            "8eb13c8c8f8b4db4b1bdca68148019cd",
            "03e1f0eb56b24f59b44c43939e36cb62",
            "8cea696bfa524286b4648b5fc5f5d1a2",
            "f0860404a59d4b988afec56aac214201",
            "1927c51a9d304612a891748fbea3247d",
            "83e09e9331fb47eba82c1d6a8af3e99e",
            "d24469971123487897bff37241ada842",
            "5d31a19e54594e4ca09b72661518e04e",
            "06f4d2d43d8e4aacb2959fbd64dc8ace",
            "0c8155adc4a944c3a1ec130424df2fb4",
            "0cb03d7ef44e4296b7ca3452a2f9cde3",
            "21eb788bb0f54cc69cfd7b36fa2c2d4b",
            "fe49e3df70204a89a2bffb8a43c05645",
            "94258fa75b1d4f2ca228df3b0f713e6a",
            "d6f2d17b5cc04693ada356cb9ec23bee",
            "bb6d50f30f7a442babb25c1681deb1c6",
            "3114134c74744990965ecd0dca371feb",
            "4134148e39ef49198c8c4e644495d2a4",
            "d33db2ae45da49f4b8f75e2314f81e05",
            "4485cf79f2284a6a947a0e1c3dff7162",
            "21e071de500e4d1aa3a818cd86f45d32",
            "7b69210d6e444e979a04d795c5bba1ea",
            "dfe9b807cc9a4e36a70e2c6a81df8d68",
            "4b2e14f4145b4e4998b5ab9e45237b34",
            "4399240d86f54cc38252c96dc0870296",
            "c7c88ce7df674a6882a8961f4fce457f",
            "4a95eb5f42db416da73fdafbd017df6d",
            "6debcf4fe3d240e0979a0c995da1b9f8",
            "fca8e2ad05b9424ca8756bbe886c3670",
            "aed41bcd57b443a0b7ce66834e8252d8",
            "35ea38c14b164eada860afd422b976c0",
            "b46b4c08351441e79b137101559e8ebd",
            "89f69d5cf8fd4e208e47af972eed54e9",
            "838ffb00d779499ea4116f00942dab7e",
            "dd1496413ba14361a6bd8a8bdfed100c",
            "98511b7d96034b0baaae9757b784ac44",
            "ab85f94159c24f8f89cb57c32e0a4190",
            "2ab08fc682734af89c546b852d47fa94",
            "641706e82f23459da092fd0dccd0896d",
            "fd2e256cc1424f8db7adfa522ea25485",
            "6d8f3372e8b04301b7687b912c75c672",
            "2cb22b4bd5d845e18736a249f71caaec",
            "a439eec9c1574b1ba95448c950e783d2",
            "1c5b705d5c8d478aa1e7f4cdafc08ea1"
          ]
        }
      },
      "outputs": [
        {
          "output_type": "display_data",
          "data": {
            "text/plain": [
              "tokenizer_config.json:   0%|          | 0.00/48.0 [00:00<?, ?B/s]"
            ],
            "application/vnd.jupyter.widget-view+json": {
              "version_major": 2,
              "version_minor": 0,
              "model_id": "8eb13c8c8f8b4db4b1bdca68148019cd"
            }
          },
          "metadata": {}
        },
        {
          "output_type": "display_data",
          "data": {
            "text/plain": [
              "vocab.txt:   0%|          | 0.00/232k [00:00<?, ?B/s]"
            ],
            "application/vnd.jupyter.widget-view+json": {
              "version_major": 2,
              "version_minor": 0,
              "model_id": "21eb788bb0f54cc69cfd7b36fa2c2d4b"
            }
          },
          "metadata": {}
        },
        {
          "output_type": "display_data",
          "data": {
            "text/plain": [
              "tokenizer.json:   0%|          | 0.00/466k [00:00<?, ?B/s]"
            ],
            "application/vnd.jupyter.widget-view+json": {
              "version_major": 2,
              "version_minor": 0,
              "model_id": "dfe9b807cc9a4e36a70e2c6a81df8d68"
            }
          },
          "metadata": {}
        },
        {
          "output_type": "display_data",
          "data": {
            "text/plain": [
              "config.json:   0%|          | 0.00/570 [00:00<?, ?B/s]"
            ],
            "application/vnd.jupyter.widget-view+json": {
              "version_major": 2,
              "version_minor": 0,
              "model_id": "838ffb00d779499ea4116f00942dab7e"
            }
          },
          "metadata": {}
        }
      ],
      "source": [
        "tokenizer = BertTokenizer.from_pretrained(bert_model_name)\n",
        "train_dataset = TextClassificationDataset(train_texts, train_labels, tokenizer, max_length)\n",
        "val_dataset = TextClassificationDataset(val_texts, val_labels, tokenizer, max_length)\n",
        "train_dataloader = DataLoader(train_dataset, batch_size=batch_size, shuffle=True)\n",
        "val_dataloader = DataLoader(val_dataset, batch_size=batch_size)"
      ]
    },
    {
      "cell_type": "markdown",
      "metadata": {
        "id": "zDhpQRQfCeTI"
      },
      "source": [
        "#### Modelado"
      ]
    },
    {
      "cell_type": "code",
      "execution_count": null,
      "metadata": {
        "id": "fMgKzYpECeTI",
        "outputId": "d7793c86-adcd-4b43-f6c9-9da882cddb8f",
        "colab": {
          "base_uri": "https://localhost:8080/",
          "height": 49,
          "referenced_widgets": [
            "0dc65d7852a24a3ba040ee0dfff3b035",
            "a50212f5de1b49ce989ee70284193608",
            "f17901c9c3a54e90bfe7565fda7f1a00",
            "913b4353078242218927f49a391abbd7",
            "6dce52bf21df4327b1f17b440377a066",
            "efeed4e30aff4cdd9f2484cdc861efdd",
            "37e0743a1d00409d9bd4bde2e9982f47",
            "b22083b874ad4843bed30a96293b54d6",
            "390070dba7ce49598433da1ca207b685",
            "fb2326b55e1b4223a6f3c35bc7be6851",
            "42357e5713e84abb889083b7cfd8ac33"
          ]
        }
      },
      "outputs": [
        {
          "output_type": "display_data",
          "data": {
            "text/plain": [
              "model.safetensors:   0%|          | 0.00/440M [00:00<?, ?B/s]"
            ],
            "application/vnd.jupyter.widget-view+json": {
              "version_major": 2,
              "version_minor": 0,
              "model_id": "0dc65d7852a24a3ba040ee0dfff3b035"
            }
          },
          "metadata": {}
        }
      ],
      "source": [
        "device = torch.device(\"cuda\" if torch.cuda.is_available() else \"cpu\")\n",
        "model = BERTClassifier(bert_model_name, num_classes).to(device)"
      ]
    },
    {
      "cell_type": "markdown",
      "metadata": {
        "id": "kCRXk2AzCeTI"
      },
      "source": [
        "#### Optimizador"
      ]
    },
    {
      "cell_type": "code",
      "execution_count": null,
      "metadata": {
        "id": "FxoPWPH7CeTI"
      },
      "outputs": [],
      "source": [
        "optimizer = AdamW(model.parameters(), lr=learning_rate)\n",
        "total_steps = len(train_dataloader) * num_epochs\n",
        "scheduler = get_linear_schedule_with_warmup(optimizer, num_warmup_steps=0, num_training_steps=total_steps)"
      ]
    },
    {
      "cell_type": "markdown",
      "metadata": {
        "id": "517bk2CyCeTJ"
      },
      "source": [
        "#### Entrenamiento"
      ]
    },
    {
      "cell_type": "code",
      "execution_count": null,
      "metadata": {
        "id": "QXVhtWWZCeTJ",
        "outputId": "e823ba0d-7dc9-451f-a14e-f9c051b2620f",
        "colab": {
          "base_uri": "https://localhost:8080/"
        }
      },
      "outputs": [
        {
          "output_type": "stream",
          "name": "stdout",
          "text": [
            "Epoch 1/4\n",
            "Validation Accuracy: 0.6117\n",
            "              precision    recall  f1-score   support\n",
            "\n",
            "           0       0.61      1.00      0.76        63\n",
            "           1       0.00      0.00      0.00        40\n",
            "\n",
            "    accuracy                           0.61       103\n",
            "   macro avg       0.31      0.50      0.38       103\n",
            "weighted avg       0.37      0.61      0.46       103\n",
            "\n",
            "Epoch 2/4\n",
            "Validation Accuracy: 0.6117\n",
            "              precision    recall  f1-score   support\n",
            "\n",
            "           0       0.61      1.00      0.76        63\n",
            "           1       0.00      0.00      0.00        40\n",
            "\n",
            "    accuracy                           0.61       103\n",
            "   macro avg       0.31      0.50      0.38       103\n",
            "weighted avg       0.37      0.61      0.46       103\n",
            "\n",
            "Epoch 3/4\n",
            "Validation Accuracy: 0.6214\n",
            "              precision    recall  f1-score   support\n",
            "\n",
            "           0       0.64      0.87      0.74        63\n",
            "           1       0.53      0.23      0.32        40\n",
            "\n",
            "    accuracy                           0.62       103\n",
            "   macro avg       0.58      0.55      0.53       103\n",
            "weighted avg       0.60      0.62      0.57       103\n",
            "\n",
            "Epoch 4/4\n",
            "Validation Accuracy: 0.6214\n",
            "              precision    recall  f1-score   support\n",
            "\n",
            "           0       0.64      0.89      0.74        63\n",
            "           1       0.53      0.20      0.29        40\n",
            "\n",
            "    accuracy                           0.62       103\n",
            "   macro avg       0.58      0.54      0.52       103\n",
            "weighted avg       0.60      0.62      0.57       103\n",
            "\n"
          ]
        }
      ],
      "source": [
        "for epoch in range(num_epochs):\n",
        "        print(f\"Epoch {epoch + 1}/{num_epochs}\")\n",
        "        train(model, train_dataloader, optimizer, scheduler, device)\n",
        "        accuracy, report = evaluate(model, val_dataloader, device)\n",
        "        print(f\"Validation Accuracy: {accuracy:.4f}\")\n",
        "        print(report)"
      ]
    },
    {
      "cell_type": "markdown",
      "metadata": {
        "id": "6bQYI9v9CeTJ"
      },
      "source": [
        "#### Guardo el modelo"
      ]
    },
    {
      "cell_type": "code",
      "execution_count": null,
      "metadata": {
        "id": "uxtKg6BGCeTJ"
      },
      "outputs": [],
      "source": [
        "#torch.save(model.state_dict(), \"bert_classifier_wm_20042024.pth\")"
      ]
    },
    {
      "cell_type": "markdown",
      "metadata": {
        "id": "P-8hTcc7CeTJ"
      },
      "source": [
        "#### Predicción"
      ]
    },
    {
      "cell_type": "code",
      "execution_count": null,
      "metadata": {
        "id": "HR4qIvajCeTK",
        "outputId": "55dfafdb-4a82-49f5-fb72-edb6686240d6",
        "colab": {
          "base_uri": "https://localhost:8080/"
        }
      },
      "outputs": [
        {
          "output_type": "stream",
          "name": "stdout",
          "text": [
            "Prediccion:\n",
            "Compra: 0.6139\n",
            "Neutro: 0.3861\n"
          ]
        }
      ],
      "source": [
        "test_text = \"YPF call volume above normal and directionally bullish\"\n",
        "label_probabilities  = predict_sentiment_with_probabilities(test_text, model, tokenizer, device)\n",
        "print(\"Prediccion:\")\n",
        "for label, probability in label_probabilities.items():\n",
        "    print(f\"{label}: {probability:.4f}\")"
      ]
    },
    {
      "cell_type": "markdown",
      "metadata": {
        "id": "qqfTyAM_CeTK"
      },
      "source": [
        "#### Predicción (Probabilidad)"
      ]
    },
    {
      "cell_type": "code",
      "execution_count": null,
      "metadata": {
        "id": "2It5K6OBCeTK"
      },
      "outputs": [],
      "source": [
        "X_test = data_test['Text'].tolist()\n",
        "\n",
        "y_pred_bert = []\n",
        "predicted_probabilities = []\n",
        "\n",
        "for text in X_test:\n",
        "    label_probabilities = predict_sentiment_with_probabilities(text, model, tokenizer, device)\n",
        "\n",
        "    predicted_label = max(label_probabilities, key=label_probabilities.get)\n",
        "\n",
        "    y_pred_bert.append(predicted_label)\n",
        "\n",
        "    predicted_probabilities.append([label_probabilities[\"Compra\"], label_probabilities[\"Neutro\"]])\n",
        "\n",
        "y_pred_bert_proba = np.array(predicted_probabilities)"
      ]
    },
    {
      "cell_type": "markdown",
      "metadata": {
        "id": "g4nMTWdXCeTK"
      },
      "source": [
        "## Resultados"
      ]
    },
    {
      "cell_type": "code",
      "execution_count": null,
      "metadata": {
        "id": "txrCUkgDCeTL"
      },
      "outputs": [],
      "source": [
        "models_pred = pd.DataFrame(\n",
        "    {\n",
        "        'X_test': data_test['Text'].tolist(),\n",
        "        'y_test': data_test['Category'].tolist(),\n",
        "        'RegLog': y_pred_lr,\n",
        "        'RegLog_SW': y_pred_lr_sw,\n",
        "        'MultinomialNB': y_pred_nb,\n",
        "        'MultinomialNB_SW': y_pred_nb_sw,\n",
        "        'SVC': y_pred_svc,\n",
        "        'SVC_SW': y_pred_svc_sw,\n",
        "        'RF':y_pred_rf,\n",
        "        'RF_SW': y_pred_rf_sw,\n",
        "        'XGB': y_pred_xgb,\n",
        "        'XGB_SW': y_pred_xgb_sw,\n",
        "        'LightGBM': y_pred_lgbm,\n",
        "        'LightGBM_SW': y_pred_lgbm_sw,\n",
        "        'Word2Vec_LGBM': y_pred_w2v_lgbm,\n",
        "        'BERT': y_pred_bert\n",
        "    }\n",
        ")"
      ]
    },
    {
      "cell_type": "code",
      "execution_count": null,
      "metadata": {
        "id": "6XQK-f8hCeTL",
        "outputId": "d8626c15-d306-4ee7-d144-ff89325a0296",
        "colab": {
          "base_uri": "https://localhost:8080/",
          "height": 206
        }
      },
      "outputs": [
        {
          "output_type": "execute_result",
          "data": {
            "text/plain": [
              "                                              X_test  y_test  RegLog  \\\n",
              "0  Argentine Stocks Soar, Bonds Climb as Investor...  Compra  Compra   \n",
              "1  Argentina Gets Delay on Payment of $16.1 Billi...  Compra  Compra   \n",
              "2  Emerging Market Debt: Zambia's $3 Billion Impa...  Compra  Compra   \n",
              "3  Argentine stocks surge as markets open after p...  Compra  Compra   \n",
              "4    FirstFT: OpenAI’s future hangs in the balance.   Compra  Compra   \n",
              "\n",
              "  RegLog_SW MultinomialNB MultinomialNB_SW     SVC  SVC_SW      RF   RF_SW  \\\n",
              "0    Compra        Compra           Compra  Compra  Compra  Compra  Compra   \n",
              "1    Compra        Compra           Compra  Compra  Compra  Compra  Compra   \n",
              "2    Compra        Compra           Compra  Compra  Compra  Compra  Compra   \n",
              "3    Compra        Compra           Compra  Compra  Compra  Compra  Compra   \n",
              "4    Compra        Compra           Compra  Compra  Compra  Compra  Compra   \n",
              "\n",
              "      XGB  XGB_SW LightGBM LightGBM_SW Word2Vec_LGBM    BERT  \n",
              "0  Compra  Compra   Neutro      Compra        Compra  Neutro  \n",
              "1  Compra  Compra   Compra      Compra        Compra  Compra  \n",
              "2  Compra  Compra   Compra      Compra        Compra  Compra  \n",
              "3  Compra  Compra   Compra      Compra        Compra  Compra  \n",
              "4  Compra  Compra   Compra      Compra        Compra  Compra  "
            ],
            "text/html": [
              "\n",
              "  <div id=\"df-612bef3f-e6fd-4edb-9176-9e46e437115b\" class=\"colab-df-container\">\n",
              "    <div>\n",
              "<style scoped>\n",
              "    .dataframe tbody tr th:only-of-type {\n",
              "        vertical-align: middle;\n",
              "    }\n",
              "\n",
              "    .dataframe tbody tr th {\n",
              "        vertical-align: top;\n",
              "    }\n",
              "\n",
              "    .dataframe thead th {\n",
              "        text-align: right;\n",
              "    }\n",
              "</style>\n",
              "<table border=\"1\" class=\"dataframe\">\n",
              "  <thead>\n",
              "    <tr style=\"text-align: right;\">\n",
              "      <th></th>\n",
              "      <th>X_test</th>\n",
              "      <th>y_test</th>\n",
              "      <th>RegLog</th>\n",
              "      <th>RegLog_SW</th>\n",
              "      <th>MultinomialNB</th>\n",
              "      <th>MultinomialNB_SW</th>\n",
              "      <th>SVC</th>\n",
              "      <th>SVC_SW</th>\n",
              "      <th>RF</th>\n",
              "      <th>RF_SW</th>\n",
              "      <th>XGB</th>\n",
              "      <th>XGB_SW</th>\n",
              "      <th>LightGBM</th>\n",
              "      <th>LightGBM_SW</th>\n",
              "      <th>Word2Vec_LGBM</th>\n",
              "      <th>BERT</th>\n",
              "    </tr>\n",
              "  </thead>\n",
              "  <tbody>\n",
              "    <tr>\n",
              "      <th>0</th>\n",
              "      <td>Argentine Stocks Soar, Bonds Climb as Investor...</td>\n",
              "      <td>Compra</td>\n",
              "      <td>Compra</td>\n",
              "      <td>Compra</td>\n",
              "      <td>Compra</td>\n",
              "      <td>Compra</td>\n",
              "      <td>Compra</td>\n",
              "      <td>Compra</td>\n",
              "      <td>Compra</td>\n",
              "      <td>Compra</td>\n",
              "      <td>Compra</td>\n",
              "      <td>Compra</td>\n",
              "      <td>Neutro</td>\n",
              "      <td>Compra</td>\n",
              "      <td>Compra</td>\n",
              "      <td>Neutro</td>\n",
              "    </tr>\n",
              "    <tr>\n",
              "      <th>1</th>\n",
              "      <td>Argentina Gets Delay on Payment of $16.1 Billi...</td>\n",
              "      <td>Compra</td>\n",
              "      <td>Compra</td>\n",
              "      <td>Compra</td>\n",
              "      <td>Compra</td>\n",
              "      <td>Compra</td>\n",
              "      <td>Compra</td>\n",
              "      <td>Compra</td>\n",
              "      <td>Compra</td>\n",
              "      <td>Compra</td>\n",
              "      <td>Compra</td>\n",
              "      <td>Compra</td>\n",
              "      <td>Compra</td>\n",
              "      <td>Compra</td>\n",
              "      <td>Compra</td>\n",
              "      <td>Compra</td>\n",
              "    </tr>\n",
              "    <tr>\n",
              "      <th>2</th>\n",
              "      <td>Emerging Market Debt: Zambia's $3 Billion Impa...</td>\n",
              "      <td>Compra</td>\n",
              "      <td>Compra</td>\n",
              "      <td>Compra</td>\n",
              "      <td>Compra</td>\n",
              "      <td>Compra</td>\n",
              "      <td>Compra</td>\n",
              "      <td>Compra</td>\n",
              "      <td>Compra</td>\n",
              "      <td>Compra</td>\n",
              "      <td>Compra</td>\n",
              "      <td>Compra</td>\n",
              "      <td>Compra</td>\n",
              "      <td>Compra</td>\n",
              "      <td>Compra</td>\n",
              "      <td>Compra</td>\n",
              "    </tr>\n",
              "    <tr>\n",
              "      <th>3</th>\n",
              "      <td>Argentine stocks surge as markets open after p...</td>\n",
              "      <td>Compra</td>\n",
              "      <td>Compra</td>\n",
              "      <td>Compra</td>\n",
              "      <td>Compra</td>\n",
              "      <td>Compra</td>\n",
              "      <td>Compra</td>\n",
              "      <td>Compra</td>\n",
              "      <td>Compra</td>\n",
              "      <td>Compra</td>\n",
              "      <td>Compra</td>\n",
              "      <td>Compra</td>\n",
              "      <td>Compra</td>\n",
              "      <td>Compra</td>\n",
              "      <td>Compra</td>\n",
              "      <td>Compra</td>\n",
              "    </tr>\n",
              "    <tr>\n",
              "      <th>4</th>\n",
              "      <td>FirstFT: OpenAI’s future hangs in the balance.</td>\n",
              "      <td>Compra</td>\n",
              "      <td>Compra</td>\n",
              "      <td>Compra</td>\n",
              "      <td>Compra</td>\n",
              "      <td>Compra</td>\n",
              "      <td>Compra</td>\n",
              "      <td>Compra</td>\n",
              "      <td>Compra</td>\n",
              "      <td>Compra</td>\n",
              "      <td>Compra</td>\n",
              "      <td>Compra</td>\n",
              "      <td>Compra</td>\n",
              "      <td>Compra</td>\n",
              "      <td>Compra</td>\n",
              "      <td>Compra</td>\n",
              "    </tr>\n",
              "  </tbody>\n",
              "</table>\n",
              "</div>\n",
              "    <div class=\"colab-df-buttons\">\n",
              "\n",
              "  <div class=\"colab-df-container\">\n",
              "    <button class=\"colab-df-convert\" onclick=\"convertToInteractive('df-612bef3f-e6fd-4edb-9176-9e46e437115b')\"\n",
              "            title=\"Convert this dataframe to an interactive table.\"\n",
              "            style=\"display:none;\">\n",
              "\n",
              "  <svg xmlns=\"http://www.w3.org/2000/svg\" height=\"24px\" viewBox=\"0 -960 960 960\">\n",
              "    <path d=\"M120-120v-720h720v720H120Zm60-500h600v-160H180v160Zm220 220h160v-160H400v160Zm0 220h160v-160H400v160ZM180-400h160v-160H180v160Zm440 0h160v-160H620v160ZM180-180h160v-160H180v160Zm440 0h160v-160H620v160Z\"/>\n",
              "  </svg>\n",
              "    </button>\n",
              "\n",
              "  <style>\n",
              "    .colab-df-container {\n",
              "      display:flex;\n",
              "      gap: 12px;\n",
              "    }\n",
              "\n",
              "    .colab-df-convert {\n",
              "      background-color: #E8F0FE;\n",
              "      border: none;\n",
              "      border-radius: 50%;\n",
              "      cursor: pointer;\n",
              "      display: none;\n",
              "      fill: #1967D2;\n",
              "      height: 32px;\n",
              "      padding: 0 0 0 0;\n",
              "      width: 32px;\n",
              "    }\n",
              "\n",
              "    .colab-df-convert:hover {\n",
              "      background-color: #E2EBFA;\n",
              "      box-shadow: 0px 1px 2px rgba(60, 64, 67, 0.3), 0px 1px 3px 1px rgba(60, 64, 67, 0.15);\n",
              "      fill: #174EA6;\n",
              "    }\n",
              "\n",
              "    .colab-df-buttons div {\n",
              "      margin-bottom: 4px;\n",
              "    }\n",
              "\n",
              "    [theme=dark] .colab-df-convert {\n",
              "      background-color: #3B4455;\n",
              "      fill: #D2E3FC;\n",
              "    }\n",
              "\n",
              "    [theme=dark] .colab-df-convert:hover {\n",
              "      background-color: #434B5C;\n",
              "      box-shadow: 0px 1px 3px 1px rgba(0, 0, 0, 0.15);\n",
              "      filter: drop-shadow(0px 1px 2px rgba(0, 0, 0, 0.3));\n",
              "      fill: #FFFFFF;\n",
              "    }\n",
              "  </style>\n",
              "\n",
              "    <script>\n",
              "      const buttonEl =\n",
              "        document.querySelector('#df-612bef3f-e6fd-4edb-9176-9e46e437115b button.colab-df-convert');\n",
              "      buttonEl.style.display =\n",
              "        google.colab.kernel.accessAllowed ? 'block' : 'none';\n",
              "\n",
              "      async function convertToInteractive(key) {\n",
              "        const element = document.querySelector('#df-612bef3f-e6fd-4edb-9176-9e46e437115b');\n",
              "        const dataTable =\n",
              "          await google.colab.kernel.invokeFunction('convertToInteractive',\n",
              "                                                    [key], {});\n",
              "        if (!dataTable) return;\n",
              "\n",
              "        const docLinkHtml = 'Like what you see? Visit the ' +\n",
              "          '<a target=\"_blank\" href=https://colab.research.google.com/notebooks/data_table.ipynb>data table notebook</a>'\n",
              "          + ' to learn more about interactive tables.';\n",
              "        element.innerHTML = '';\n",
              "        dataTable['output_type'] = 'display_data';\n",
              "        await google.colab.output.renderOutput(dataTable, element);\n",
              "        const docLink = document.createElement('div');\n",
              "        docLink.innerHTML = docLinkHtml;\n",
              "        element.appendChild(docLink);\n",
              "      }\n",
              "    </script>\n",
              "  </div>\n",
              "\n",
              "\n",
              "<div id=\"df-2ade78f5-2984-40ce-a8c2-e4ad4fb82483\">\n",
              "  <button class=\"colab-df-quickchart\" onclick=\"quickchart('df-2ade78f5-2984-40ce-a8c2-e4ad4fb82483')\"\n",
              "            title=\"Suggest charts\"\n",
              "            style=\"display:none;\">\n",
              "\n",
              "<svg xmlns=\"http://www.w3.org/2000/svg\" height=\"24px\"viewBox=\"0 0 24 24\"\n",
              "     width=\"24px\">\n",
              "    <g>\n",
              "        <path d=\"M19 3H5c-1.1 0-2 .9-2 2v14c0 1.1.9 2 2 2h14c1.1 0 2-.9 2-2V5c0-1.1-.9-2-2-2zM9 17H7v-7h2v7zm4 0h-2V7h2v10zm4 0h-2v-4h2v4z\"/>\n",
              "    </g>\n",
              "</svg>\n",
              "  </button>\n",
              "\n",
              "<style>\n",
              "  .colab-df-quickchart {\n",
              "      --bg-color: #E8F0FE;\n",
              "      --fill-color: #1967D2;\n",
              "      --hover-bg-color: #E2EBFA;\n",
              "      --hover-fill-color: #174EA6;\n",
              "      --disabled-fill-color: #AAA;\n",
              "      --disabled-bg-color: #DDD;\n",
              "  }\n",
              "\n",
              "  [theme=dark] .colab-df-quickchart {\n",
              "      --bg-color: #3B4455;\n",
              "      --fill-color: #D2E3FC;\n",
              "      --hover-bg-color: #434B5C;\n",
              "      --hover-fill-color: #FFFFFF;\n",
              "      --disabled-bg-color: #3B4455;\n",
              "      --disabled-fill-color: #666;\n",
              "  }\n",
              "\n",
              "  .colab-df-quickchart {\n",
              "    background-color: var(--bg-color);\n",
              "    border: none;\n",
              "    border-radius: 50%;\n",
              "    cursor: pointer;\n",
              "    display: none;\n",
              "    fill: var(--fill-color);\n",
              "    height: 32px;\n",
              "    padding: 0;\n",
              "    width: 32px;\n",
              "  }\n",
              "\n",
              "  .colab-df-quickchart:hover {\n",
              "    background-color: var(--hover-bg-color);\n",
              "    box-shadow: 0 1px 2px rgba(60, 64, 67, 0.3), 0 1px 3px 1px rgba(60, 64, 67, 0.15);\n",
              "    fill: var(--button-hover-fill-color);\n",
              "  }\n",
              "\n",
              "  .colab-df-quickchart-complete:disabled,\n",
              "  .colab-df-quickchart-complete:disabled:hover {\n",
              "    background-color: var(--disabled-bg-color);\n",
              "    fill: var(--disabled-fill-color);\n",
              "    box-shadow: none;\n",
              "  }\n",
              "\n",
              "  .colab-df-spinner {\n",
              "    border: 2px solid var(--fill-color);\n",
              "    border-color: transparent;\n",
              "    border-bottom-color: var(--fill-color);\n",
              "    animation:\n",
              "      spin 1s steps(1) infinite;\n",
              "  }\n",
              "\n",
              "  @keyframes spin {\n",
              "    0% {\n",
              "      border-color: transparent;\n",
              "      border-bottom-color: var(--fill-color);\n",
              "      border-left-color: var(--fill-color);\n",
              "    }\n",
              "    20% {\n",
              "      border-color: transparent;\n",
              "      border-left-color: var(--fill-color);\n",
              "      border-top-color: var(--fill-color);\n",
              "    }\n",
              "    30% {\n",
              "      border-color: transparent;\n",
              "      border-left-color: var(--fill-color);\n",
              "      border-top-color: var(--fill-color);\n",
              "      border-right-color: var(--fill-color);\n",
              "    }\n",
              "    40% {\n",
              "      border-color: transparent;\n",
              "      border-right-color: var(--fill-color);\n",
              "      border-top-color: var(--fill-color);\n",
              "    }\n",
              "    60% {\n",
              "      border-color: transparent;\n",
              "      border-right-color: var(--fill-color);\n",
              "    }\n",
              "    80% {\n",
              "      border-color: transparent;\n",
              "      border-right-color: var(--fill-color);\n",
              "      border-bottom-color: var(--fill-color);\n",
              "    }\n",
              "    90% {\n",
              "      border-color: transparent;\n",
              "      border-bottom-color: var(--fill-color);\n",
              "    }\n",
              "  }\n",
              "</style>\n",
              "\n",
              "  <script>\n",
              "    async function quickchart(key) {\n",
              "      const quickchartButtonEl =\n",
              "        document.querySelector('#' + key + ' button');\n",
              "      quickchartButtonEl.disabled = true;  // To prevent multiple clicks.\n",
              "      quickchartButtonEl.classList.add('colab-df-spinner');\n",
              "      try {\n",
              "        const charts = await google.colab.kernel.invokeFunction(\n",
              "            'suggestCharts', [key], {});\n",
              "      } catch (error) {\n",
              "        console.error('Error during call to suggestCharts:', error);\n",
              "      }\n",
              "      quickchartButtonEl.classList.remove('colab-df-spinner');\n",
              "      quickchartButtonEl.classList.add('colab-df-quickchart-complete');\n",
              "    }\n",
              "    (() => {\n",
              "      let quickchartButtonEl =\n",
              "        document.querySelector('#df-2ade78f5-2984-40ce-a8c2-e4ad4fb82483 button');\n",
              "      quickchartButtonEl.style.display =\n",
              "        google.colab.kernel.accessAllowed ? 'block' : 'none';\n",
              "    })();\n",
              "  </script>\n",
              "</div>\n",
              "\n",
              "    </div>\n",
              "  </div>\n"
            ],
            "application/vnd.google.colaboratory.intrinsic+json": {
              "type": "dataframe",
              "variable_name": "models_pred",
              "summary": "{\n  \"name\": \"models_pred\",\n  \"rows\": 103,\n  \"fields\": [\n    {\n      \"column\": \"X_test\",\n      \"properties\": {\n        \"dtype\": \"string\",\n        \"num_unique_values\": 103,\n        \"samples\": [\n          \"Perpetual Bonds Unlikely to Be the Answer for Indebted Argentina. President Javier Milei\\u2019s suggestion that Argentina could issue debt to comply with a $16 billion lawsuit award related to the nationalization of oil company YPF was met with skepticism from investors who have been repeatedly burned by the serial defaulter.\",\n          \"Is YPF Sociedad Anonima (YPF) Stock Undervalued Right Now? Here at Zacks, our focus is on the proven Zacks Rank system, which emphasizes earnings estimates and estimate revisions to find great stocks. Nevertheless, we are always paying attention to the latest value, growth, and momentum trends to underscore strong picks.. \",\n          \"Milei's Argentina 'omnibus' bill faces gauntlet after clearing first hurdle. \"\n        ],\n        \"semantic_type\": \"\",\n        \"description\": \"\"\n      }\n    },\n    {\n      \"column\": \"y_test\",\n      \"properties\": {\n        \"dtype\": \"category\",\n        \"num_unique_values\": 2,\n        \"samples\": [\n          \"Neutro\",\n          \"Compra\"\n        ],\n        \"semantic_type\": \"\",\n        \"description\": \"\"\n      }\n    },\n    {\n      \"column\": \"RegLog\",\n      \"properties\": {\n        \"dtype\": \"category\",\n        \"num_unique_values\": 2,\n        \"samples\": [\n          \"Neutro\",\n          \"Compra\"\n        ],\n        \"semantic_type\": \"\",\n        \"description\": \"\"\n      }\n    },\n    {\n      \"column\": \"RegLog_SW\",\n      \"properties\": {\n        \"dtype\": \"category\",\n        \"num_unique_values\": 2,\n        \"samples\": [\n          \"Neutro\",\n          \"Compra\"\n        ],\n        \"semantic_type\": \"\",\n        \"description\": \"\"\n      }\n    },\n    {\n      \"column\": \"MultinomialNB\",\n      \"properties\": {\n        \"dtype\": \"category\",\n        \"num_unique_values\": 2,\n        \"samples\": [\n          \"Neutro\",\n          \"Compra\"\n        ],\n        \"semantic_type\": \"\",\n        \"description\": \"\"\n      }\n    },\n    {\n      \"column\": \"MultinomialNB_SW\",\n      \"properties\": {\n        \"dtype\": \"category\",\n        \"num_unique_values\": 2,\n        \"samples\": [\n          \"Neutro\",\n          \"Compra\"\n        ],\n        \"semantic_type\": \"\",\n        \"description\": \"\"\n      }\n    },\n    {\n      \"column\": \"SVC\",\n      \"properties\": {\n        \"dtype\": \"category\",\n        \"num_unique_values\": 2,\n        \"samples\": [\n          \"Neutro\",\n          \"Compra\"\n        ],\n        \"semantic_type\": \"\",\n        \"description\": \"\"\n      }\n    },\n    {\n      \"column\": \"SVC_SW\",\n      \"properties\": {\n        \"dtype\": \"category\",\n        \"num_unique_values\": 2,\n        \"samples\": [\n          \"Neutro\",\n          \"Compra\"\n        ],\n        \"semantic_type\": \"\",\n        \"description\": \"\"\n      }\n    },\n    {\n      \"column\": \"RF\",\n      \"properties\": {\n        \"dtype\": \"category\",\n        \"num_unique_values\": 2,\n        \"samples\": [\n          \"Neutro\",\n          \"Compra\"\n        ],\n        \"semantic_type\": \"\",\n        \"description\": \"\"\n      }\n    },\n    {\n      \"column\": \"RF_SW\",\n      \"properties\": {\n        \"dtype\": \"category\",\n        \"num_unique_values\": 2,\n        \"samples\": [\n          \"Neutro\",\n          \"Compra\"\n        ],\n        \"semantic_type\": \"\",\n        \"description\": \"\"\n      }\n    },\n    {\n      \"column\": \"XGB\",\n      \"properties\": {\n        \"dtype\": \"category\",\n        \"num_unique_values\": 2,\n        \"samples\": [\n          \"Neutro\",\n          \"Compra\"\n        ],\n        \"semantic_type\": \"\",\n        \"description\": \"\"\n      }\n    },\n    {\n      \"column\": \"XGB_SW\",\n      \"properties\": {\n        \"dtype\": \"category\",\n        \"num_unique_values\": 2,\n        \"samples\": [\n          \"Neutro\",\n          \"Compra\"\n        ],\n        \"semantic_type\": \"\",\n        \"description\": \"\"\n      }\n    },\n    {\n      \"column\": \"LightGBM\",\n      \"properties\": {\n        \"dtype\": \"category\",\n        \"num_unique_values\": 2,\n        \"samples\": [\n          \"Compra\",\n          \"Neutro\"\n        ],\n        \"semantic_type\": \"\",\n        \"description\": \"\"\n      }\n    },\n    {\n      \"column\": \"LightGBM_SW\",\n      \"properties\": {\n        \"dtype\": \"category\",\n        \"num_unique_values\": 2,\n        \"samples\": [\n          \"Neutro\",\n          \"Compra\"\n        ],\n        \"semantic_type\": \"\",\n        \"description\": \"\"\n      }\n    },\n    {\n      \"column\": \"Word2Vec_LGBM\",\n      \"properties\": {\n        \"dtype\": \"category\",\n        \"num_unique_values\": 2,\n        \"samples\": [\n          \"Neutro\",\n          \"Compra\"\n        ],\n        \"semantic_type\": \"\",\n        \"description\": \"\"\n      }\n    },\n    {\n      \"column\": \"BERT\",\n      \"properties\": {\n        \"dtype\": \"category\",\n        \"num_unique_values\": 2,\n        \"samples\": [\n          \"Compra\",\n          \"Neutro\"\n        ],\n        \"semantic_type\": \"\",\n        \"description\": \"\"\n      }\n    }\n  ]\n}"
            }
          },
          "metadata": {},
          "execution_count": 167
        }
      ],
      "source": [
        "models_pred.head()"
      ]
    },
    {
      "cell_type": "code",
      "execution_count": null,
      "metadata": {
        "id": "dcWqk4qjCeTL"
      },
      "outputs": [],
      "source": [
        "models_pred.to_excel('ypf_predicciones_modelos_v2.5.xlsx', index=False)"
      ]
    },
    {
      "cell_type": "markdown",
      "metadata": {
        "id": "OcYX-fuoCeTL"
      },
      "source": [
        "### Probabilidades"
      ]
    },
    {
      "cell_type": "code",
      "execution_count": null,
      "metadata": {
        "id": "W1UEw3EsCeTM"
      },
      "outputs": [],
      "source": [
        "probas = [\n",
        "    y_pred_lr_proba,\n",
        "    y_pred_lr_sw_proba,\n",
        "    y_pred_nb_proba,\n",
        "    y_pred_nb_sw_proba,\n",
        "    y_pred_svc_proba,\n",
        "    y_pred_svc_sw_proba,\n",
        "    y_pred_rf_proba,\n",
        "    y_pred_rf_sw_proba,\n",
        "    y_pred_xgb_proba,\n",
        "    y_pred_xgb_sw_proba,\n",
        "    y_pred_lgbm_proba,\n",
        "    y_pred_lgbm_sw_proba,\n",
        "    y_pred_w2v_lgbm_proba,\n",
        "    y_pred_bert_proba\n",
        "]"
      ]
    },
    {
      "cell_type": "markdown",
      "metadata": {
        "id": "-wa8KnnmCeTM"
      },
      "source": [
        "## Ensemble"
      ]
    },
    {
      "cell_type": "code",
      "execution_count": null,
      "metadata": {
        "id": "ewKeNkWECeTN"
      },
      "outputs": [],
      "source": [
        "v_probas = len(probas)\n",
        "v_length = len(probas[0])\n",
        "\n",
        "y_pred_ensemble_proba = [[0] * 2 for _ in range(v_length)]\n",
        "\n",
        "for proba in range(0,v_probas):\n",
        "    for row in range(0,v_length):\n",
        "        for category in range(0,2):\n",
        "            y_pred_ensemble_proba[row][category] += probas[proba][row][category]\n",
        "\n",
        "for row in range(0,v_length):\n",
        "    for category in range(0,2):\n",
        "        y_pred_ensemble_proba[row][category] = y_pred_ensemble_proba[row][category]/v_probas"
      ]
    },
    {
      "cell_type": "code",
      "execution_count": null,
      "metadata": {
        "id": "WauN0SiSCeTN"
      },
      "outputs": [],
      "source": [
        "v_data = {}\n",
        "for i in range(2):\n",
        "    column_name = chr(65 + i)\n",
        "    v_data[column_name] = [inner_list[i] for inner_list in y_pred_ensemble_proba]\n",
        "\n",
        "df = pd.DataFrame(v_data)"
      ]
    },
    {
      "cell_type": "code",
      "execution_count": null,
      "metadata": {
        "id": "DAH6Q4dVCeTN"
      },
      "outputs": [],
      "source": [
        "prob_ensemble = pd.DataFrame(\n",
        "    {\n",
        "        'X_test': data_test['Text'].tolist(),\n",
        "        'y_test': data_test['Category'].tolist(),\n",
        "        'Compra': df['A'].values.tolist(),\n",
        "        'Neutro': df['B'].values.tolist()\n",
        "    }\n",
        ")"
      ]
    },
    {
      "cell_type": "code",
      "execution_count": null,
      "metadata": {
        "id": "pbJDsCjUCeTO",
        "outputId": "1a2cc0ac-aab0-4af3-e4e0-71f718e231a9",
        "colab": {
          "base_uri": "https://localhost:8080/",
          "height": 424
        }
      },
      "outputs": [
        {
          "output_type": "execute_result",
          "data": {
            "text/plain": [
              "                                                X_test  y_test    Compra  \\\n",
              "0    Argentine Stocks Soar, Bonds Climb as Investor...  Compra  0.680689   \n",
              "1    Argentina Gets Delay on Payment of $16.1 Billi...  Compra  0.760059   \n",
              "2    Emerging Market Debt: Zambia's $3 Billion Impa...  Compra  0.737279   \n",
              "3    Argentine stocks surge as markets open after p...  Compra  0.658805   \n",
              "4      FirstFT: OpenAI’s future hangs in the balance.   Compra  0.728813   \n",
              "..                                                 ...     ...       ...   \n",
              "98   Milei takes a chainsaw to Argentina’s state co...  Compra  0.777818   \n",
              "99   YPF Sociedad Anonima (YPF) Gains As Market Dip...  Compra  0.744443   \n",
              "100  Argentina builds case for exporting natgas to ...  Neutro  0.598752   \n",
              "101  Javier Milei Races to Ease Argentina Inflation...  Compra  0.272646   \n",
              "102  Milei Seeks Second Chance From Congress With S...  Neutro  0.548169   \n",
              "\n",
              "       Neutro  \n",
              "0    0.319311  \n",
              "1    0.239941  \n",
              "2    0.262721  \n",
              "3    0.341195  \n",
              "4    0.271187  \n",
              "..        ...  \n",
              "98   0.222182  \n",
              "99   0.255557  \n",
              "100  0.401248  \n",
              "101  0.727354  \n",
              "102  0.451831  \n",
              "\n",
              "[103 rows x 4 columns]"
            ],
            "text/html": [
              "\n",
              "  <div id=\"df-e4e1c933-6a2c-4ef9-a736-0fdc4ec08885\" class=\"colab-df-container\">\n",
              "    <div>\n",
              "<style scoped>\n",
              "    .dataframe tbody tr th:only-of-type {\n",
              "        vertical-align: middle;\n",
              "    }\n",
              "\n",
              "    .dataframe tbody tr th {\n",
              "        vertical-align: top;\n",
              "    }\n",
              "\n",
              "    .dataframe thead th {\n",
              "        text-align: right;\n",
              "    }\n",
              "</style>\n",
              "<table border=\"1\" class=\"dataframe\">\n",
              "  <thead>\n",
              "    <tr style=\"text-align: right;\">\n",
              "      <th></th>\n",
              "      <th>X_test</th>\n",
              "      <th>y_test</th>\n",
              "      <th>Compra</th>\n",
              "      <th>Neutro</th>\n",
              "    </tr>\n",
              "  </thead>\n",
              "  <tbody>\n",
              "    <tr>\n",
              "      <th>0</th>\n",
              "      <td>Argentine Stocks Soar, Bonds Climb as Investor...</td>\n",
              "      <td>Compra</td>\n",
              "      <td>0.680689</td>\n",
              "      <td>0.319311</td>\n",
              "    </tr>\n",
              "    <tr>\n",
              "      <th>1</th>\n",
              "      <td>Argentina Gets Delay on Payment of $16.1 Billi...</td>\n",
              "      <td>Compra</td>\n",
              "      <td>0.760059</td>\n",
              "      <td>0.239941</td>\n",
              "    </tr>\n",
              "    <tr>\n",
              "      <th>2</th>\n",
              "      <td>Emerging Market Debt: Zambia's $3 Billion Impa...</td>\n",
              "      <td>Compra</td>\n",
              "      <td>0.737279</td>\n",
              "      <td>0.262721</td>\n",
              "    </tr>\n",
              "    <tr>\n",
              "      <th>3</th>\n",
              "      <td>Argentine stocks surge as markets open after p...</td>\n",
              "      <td>Compra</td>\n",
              "      <td>0.658805</td>\n",
              "      <td>0.341195</td>\n",
              "    </tr>\n",
              "    <tr>\n",
              "      <th>4</th>\n",
              "      <td>FirstFT: OpenAI’s future hangs in the balance.</td>\n",
              "      <td>Compra</td>\n",
              "      <td>0.728813</td>\n",
              "      <td>0.271187</td>\n",
              "    </tr>\n",
              "    <tr>\n",
              "      <th>...</th>\n",
              "      <td>...</td>\n",
              "      <td>...</td>\n",
              "      <td>...</td>\n",
              "      <td>...</td>\n",
              "    </tr>\n",
              "    <tr>\n",
              "      <th>98</th>\n",
              "      <td>Milei takes a chainsaw to Argentina’s state co...</td>\n",
              "      <td>Compra</td>\n",
              "      <td>0.777818</td>\n",
              "      <td>0.222182</td>\n",
              "    </tr>\n",
              "    <tr>\n",
              "      <th>99</th>\n",
              "      <td>YPF Sociedad Anonima (YPF) Gains As Market Dip...</td>\n",
              "      <td>Compra</td>\n",
              "      <td>0.744443</td>\n",
              "      <td>0.255557</td>\n",
              "    </tr>\n",
              "    <tr>\n",
              "      <th>100</th>\n",
              "      <td>Argentina builds case for exporting natgas to ...</td>\n",
              "      <td>Neutro</td>\n",
              "      <td>0.598752</td>\n",
              "      <td>0.401248</td>\n",
              "    </tr>\n",
              "    <tr>\n",
              "      <th>101</th>\n",
              "      <td>Javier Milei Races to Ease Argentina Inflation...</td>\n",
              "      <td>Compra</td>\n",
              "      <td>0.272646</td>\n",
              "      <td>0.727354</td>\n",
              "    </tr>\n",
              "    <tr>\n",
              "      <th>102</th>\n",
              "      <td>Milei Seeks Second Chance From Congress With S...</td>\n",
              "      <td>Neutro</td>\n",
              "      <td>0.548169</td>\n",
              "      <td>0.451831</td>\n",
              "    </tr>\n",
              "  </tbody>\n",
              "</table>\n",
              "<p>103 rows × 4 columns</p>\n",
              "</div>\n",
              "    <div class=\"colab-df-buttons\">\n",
              "\n",
              "  <div class=\"colab-df-container\">\n",
              "    <button class=\"colab-df-convert\" onclick=\"convertToInteractive('df-e4e1c933-6a2c-4ef9-a736-0fdc4ec08885')\"\n",
              "            title=\"Convert this dataframe to an interactive table.\"\n",
              "            style=\"display:none;\">\n",
              "\n",
              "  <svg xmlns=\"http://www.w3.org/2000/svg\" height=\"24px\" viewBox=\"0 -960 960 960\">\n",
              "    <path d=\"M120-120v-720h720v720H120Zm60-500h600v-160H180v160Zm220 220h160v-160H400v160Zm0 220h160v-160H400v160ZM180-400h160v-160H180v160Zm440 0h160v-160H620v160ZM180-180h160v-160H180v160Zm440 0h160v-160H620v160Z\"/>\n",
              "  </svg>\n",
              "    </button>\n",
              "\n",
              "  <style>\n",
              "    .colab-df-container {\n",
              "      display:flex;\n",
              "      gap: 12px;\n",
              "    }\n",
              "\n",
              "    .colab-df-convert {\n",
              "      background-color: #E8F0FE;\n",
              "      border: none;\n",
              "      border-radius: 50%;\n",
              "      cursor: pointer;\n",
              "      display: none;\n",
              "      fill: #1967D2;\n",
              "      height: 32px;\n",
              "      padding: 0 0 0 0;\n",
              "      width: 32px;\n",
              "    }\n",
              "\n",
              "    .colab-df-convert:hover {\n",
              "      background-color: #E2EBFA;\n",
              "      box-shadow: 0px 1px 2px rgba(60, 64, 67, 0.3), 0px 1px 3px 1px rgba(60, 64, 67, 0.15);\n",
              "      fill: #174EA6;\n",
              "    }\n",
              "\n",
              "    .colab-df-buttons div {\n",
              "      margin-bottom: 4px;\n",
              "    }\n",
              "\n",
              "    [theme=dark] .colab-df-convert {\n",
              "      background-color: #3B4455;\n",
              "      fill: #D2E3FC;\n",
              "    }\n",
              "\n",
              "    [theme=dark] .colab-df-convert:hover {\n",
              "      background-color: #434B5C;\n",
              "      box-shadow: 0px 1px 3px 1px rgba(0, 0, 0, 0.15);\n",
              "      filter: drop-shadow(0px 1px 2px rgba(0, 0, 0, 0.3));\n",
              "      fill: #FFFFFF;\n",
              "    }\n",
              "  </style>\n",
              "\n",
              "    <script>\n",
              "      const buttonEl =\n",
              "        document.querySelector('#df-e4e1c933-6a2c-4ef9-a736-0fdc4ec08885 button.colab-df-convert');\n",
              "      buttonEl.style.display =\n",
              "        google.colab.kernel.accessAllowed ? 'block' : 'none';\n",
              "\n",
              "      async function convertToInteractive(key) {\n",
              "        const element = document.querySelector('#df-e4e1c933-6a2c-4ef9-a736-0fdc4ec08885');\n",
              "        const dataTable =\n",
              "          await google.colab.kernel.invokeFunction('convertToInteractive',\n",
              "                                                    [key], {});\n",
              "        if (!dataTable) return;\n",
              "\n",
              "        const docLinkHtml = 'Like what you see? Visit the ' +\n",
              "          '<a target=\"_blank\" href=https://colab.research.google.com/notebooks/data_table.ipynb>data table notebook</a>'\n",
              "          + ' to learn more about interactive tables.';\n",
              "        element.innerHTML = '';\n",
              "        dataTable['output_type'] = 'display_data';\n",
              "        await google.colab.output.renderOutput(dataTable, element);\n",
              "        const docLink = document.createElement('div');\n",
              "        docLink.innerHTML = docLinkHtml;\n",
              "        element.appendChild(docLink);\n",
              "      }\n",
              "    </script>\n",
              "  </div>\n",
              "\n",
              "\n",
              "<div id=\"df-fc2c7072-3bc5-49c0-b77a-8e14aff00e04\">\n",
              "  <button class=\"colab-df-quickchart\" onclick=\"quickchart('df-fc2c7072-3bc5-49c0-b77a-8e14aff00e04')\"\n",
              "            title=\"Suggest charts\"\n",
              "            style=\"display:none;\">\n",
              "\n",
              "<svg xmlns=\"http://www.w3.org/2000/svg\" height=\"24px\"viewBox=\"0 0 24 24\"\n",
              "     width=\"24px\">\n",
              "    <g>\n",
              "        <path d=\"M19 3H5c-1.1 0-2 .9-2 2v14c0 1.1.9 2 2 2h14c1.1 0 2-.9 2-2V5c0-1.1-.9-2-2-2zM9 17H7v-7h2v7zm4 0h-2V7h2v10zm4 0h-2v-4h2v4z\"/>\n",
              "    </g>\n",
              "</svg>\n",
              "  </button>\n",
              "\n",
              "<style>\n",
              "  .colab-df-quickchart {\n",
              "      --bg-color: #E8F0FE;\n",
              "      --fill-color: #1967D2;\n",
              "      --hover-bg-color: #E2EBFA;\n",
              "      --hover-fill-color: #174EA6;\n",
              "      --disabled-fill-color: #AAA;\n",
              "      --disabled-bg-color: #DDD;\n",
              "  }\n",
              "\n",
              "  [theme=dark] .colab-df-quickchart {\n",
              "      --bg-color: #3B4455;\n",
              "      --fill-color: #D2E3FC;\n",
              "      --hover-bg-color: #434B5C;\n",
              "      --hover-fill-color: #FFFFFF;\n",
              "      --disabled-bg-color: #3B4455;\n",
              "      --disabled-fill-color: #666;\n",
              "  }\n",
              "\n",
              "  .colab-df-quickchart {\n",
              "    background-color: var(--bg-color);\n",
              "    border: none;\n",
              "    border-radius: 50%;\n",
              "    cursor: pointer;\n",
              "    display: none;\n",
              "    fill: var(--fill-color);\n",
              "    height: 32px;\n",
              "    padding: 0;\n",
              "    width: 32px;\n",
              "  }\n",
              "\n",
              "  .colab-df-quickchart:hover {\n",
              "    background-color: var(--hover-bg-color);\n",
              "    box-shadow: 0 1px 2px rgba(60, 64, 67, 0.3), 0 1px 3px 1px rgba(60, 64, 67, 0.15);\n",
              "    fill: var(--button-hover-fill-color);\n",
              "  }\n",
              "\n",
              "  .colab-df-quickchart-complete:disabled,\n",
              "  .colab-df-quickchart-complete:disabled:hover {\n",
              "    background-color: var(--disabled-bg-color);\n",
              "    fill: var(--disabled-fill-color);\n",
              "    box-shadow: none;\n",
              "  }\n",
              "\n",
              "  .colab-df-spinner {\n",
              "    border: 2px solid var(--fill-color);\n",
              "    border-color: transparent;\n",
              "    border-bottom-color: var(--fill-color);\n",
              "    animation:\n",
              "      spin 1s steps(1) infinite;\n",
              "  }\n",
              "\n",
              "  @keyframes spin {\n",
              "    0% {\n",
              "      border-color: transparent;\n",
              "      border-bottom-color: var(--fill-color);\n",
              "      border-left-color: var(--fill-color);\n",
              "    }\n",
              "    20% {\n",
              "      border-color: transparent;\n",
              "      border-left-color: var(--fill-color);\n",
              "      border-top-color: var(--fill-color);\n",
              "    }\n",
              "    30% {\n",
              "      border-color: transparent;\n",
              "      border-left-color: var(--fill-color);\n",
              "      border-top-color: var(--fill-color);\n",
              "      border-right-color: var(--fill-color);\n",
              "    }\n",
              "    40% {\n",
              "      border-color: transparent;\n",
              "      border-right-color: var(--fill-color);\n",
              "      border-top-color: var(--fill-color);\n",
              "    }\n",
              "    60% {\n",
              "      border-color: transparent;\n",
              "      border-right-color: var(--fill-color);\n",
              "    }\n",
              "    80% {\n",
              "      border-color: transparent;\n",
              "      border-right-color: var(--fill-color);\n",
              "      border-bottom-color: var(--fill-color);\n",
              "    }\n",
              "    90% {\n",
              "      border-color: transparent;\n",
              "      border-bottom-color: var(--fill-color);\n",
              "    }\n",
              "  }\n",
              "</style>\n",
              "\n",
              "  <script>\n",
              "    async function quickchart(key) {\n",
              "      const quickchartButtonEl =\n",
              "        document.querySelector('#' + key + ' button');\n",
              "      quickchartButtonEl.disabled = true;  // To prevent multiple clicks.\n",
              "      quickchartButtonEl.classList.add('colab-df-spinner');\n",
              "      try {\n",
              "        const charts = await google.colab.kernel.invokeFunction(\n",
              "            'suggestCharts', [key], {});\n",
              "      } catch (error) {\n",
              "        console.error('Error during call to suggestCharts:', error);\n",
              "      }\n",
              "      quickchartButtonEl.classList.remove('colab-df-spinner');\n",
              "      quickchartButtonEl.classList.add('colab-df-quickchart-complete');\n",
              "    }\n",
              "    (() => {\n",
              "      let quickchartButtonEl =\n",
              "        document.querySelector('#df-fc2c7072-3bc5-49c0-b77a-8e14aff00e04 button');\n",
              "      quickchartButtonEl.style.display =\n",
              "        google.colab.kernel.accessAllowed ? 'block' : 'none';\n",
              "    })();\n",
              "  </script>\n",
              "</div>\n",
              "\n",
              "  <div id=\"id_4a42eaf1-e5fc-46df-8ca2-034ccb75392f\">\n",
              "    <style>\n",
              "      .colab-df-generate {\n",
              "        background-color: #E8F0FE;\n",
              "        border: none;\n",
              "        border-radius: 50%;\n",
              "        cursor: pointer;\n",
              "        display: none;\n",
              "        fill: #1967D2;\n",
              "        height: 32px;\n",
              "        padding: 0 0 0 0;\n",
              "        width: 32px;\n",
              "      }\n",
              "\n",
              "      .colab-df-generate:hover {\n",
              "        background-color: #E2EBFA;\n",
              "        box-shadow: 0px 1px 2px rgba(60, 64, 67, 0.3), 0px 1px 3px 1px rgba(60, 64, 67, 0.15);\n",
              "        fill: #174EA6;\n",
              "      }\n",
              "\n",
              "      [theme=dark] .colab-df-generate {\n",
              "        background-color: #3B4455;\n",
              "        fill: #D2E3FC;\n",
              "      }\n",
              "\n",
              "      [theme=dark] .colab-df-generate:hover {\n",
              "        background-color: #434B5C;\n",
              "        box-shadow: 0px 1px 3px 1px rgba(0, 0, 0, 0.15);\n",
              "        filter: drop-shadow(0px 1px 2px rgba(0, 0, 0, 0.3));\n",
              "        fill: #FFFFFF;\n",
              "      }\n",
              "    </style>\n",
              "    <button class=\"colab-df-generate\" onclick=\"generateWithVariable('prob_ensemble')\"\n",
              "            title=\"Generate code using this dataframe.\"\n",
              "            style=\"display:none;\">\n",
              "\n",
              "  <svg xmlns=\"http://www.w3.org/2000/svg\" height=\"24px\"viewBox=\"0 0 24 24\"\n",
              "       width=\"24px\">\n",
              "    <path d=\"M7,19H8.4L18.45,9,17,7.55,7,17.6ZM5,21V16.75L18.45,3.32a2,2,0,0,1,2.83,0l1.4,1.43a1.91,1.91,0,0,1,.58,1.4,1.91,1.91,0,0,1-.58,1.4L9.25,21ZM18.45,9,17,7.55Zm-12,3A5.31,5.31,0,0,0,4.9,8.1,5.31,5.31,0,0,0,1,6.5,5.31,5.31,0,0,0,4.9,4.9,5.31,5.31,0,0,0,6.5,1,5.31,5.31,0,0,0,8.1,4.9,5.31,5.31,0,0,0,12,6.5,5.46,5.46,0,0,0,6.5,12Z\"/>\n",
              "  </svg>\n",
              "    </button>\n",
              "    <script>\n",
              "      (() => {\n",
              "      const buttonEl =\n",
              "        document.querySelector('#id_4a42eaf1-e5fc-46df-8ca2-034ccb75392f button.colab-df-generate');\n",
              "      buttonEl.style.display =\n",
              "        google.colab.kernel.accessAllowed ? 'block' : 'none';\n",
              "\n",
              "      buttonEl.onclick = () => {\n",
              "        google.colab.notebook.generateWithVariable('prob_ensemble');\n",
              "      }\n",
              "      })();\n",
              "    </script>\n",
              "  </div>\n",
              "\n",
              "    </div>\n",
              "  </div>\n"
            ],
            "application/vnd.google.colaboratory.intrinsic+json": {
              "type": "dataframe",
              "variable_name": "prob_ensemble",
              "summary": "{\n  \"name\": \"prob_ensemble\",\n  \"rows\": 103,\n  \"fields\": [\n    {\n      \"column\": \"X_test\",\n      \"properties\": {\n        \"dtype\": \"string\",\n        \"num_unique_values\": 103,\n        \"samples\": [\n          \"Perpetual Bonds Unlikely to Be the Answer for Indebted Argentina. President Javier Milei\\u2019s suggestion that Argentina could issue debt to comply with a $16 billion lawsuit award related to the nationalization of oil company YPF was met with skepticism from investors who have been repeatedly burned by the serial defaulter.\",\n          \"Is YPF Sociedad Anonima (YPF) Stock Undervalued Right Now? Here at Zacks, our focus is on the proven Zacks Rank system, which emphasizes earnings estimates and estimate revisions to find great stocks. Nevertheless, we are always paying attention to the latest value, growth, and momentum trends to underscore strong picks.. \",\n          \"Milei's Argentina 'omnibus' bill faces gauntlet after clearing first hurdle. \"\n        ],\n        \"semantic_type\": \"\",\n        \"description\": \"\"\n      }\n    },\n    {\n      \"column\": \"y_test\",\n      \"properties\": {\n        \"dtype\": \"category\",\n        \"num_unique_values\": 2,\n        \"samples\": [\n          \"Neutro\",\n          \"Compra\"\n        ],\n        \"semantic_type\": \"\",\n        \"description\": \"\"\n      }\n    },\n    {\n      \"column\": \"Compra\",\n      \"properties\": {\n        \"dtype\": \"number\",\n        \"std\": 0.12580887648114825,\n        \"min\": 0.27264637392529734,\n        \"max\": 0.8305813070211847,\n        \"num_unique_values\": 103,\n        \"samples\": [\n          0.408111910808071,\n          0.7370981594704878\n        ],\n        \"semantic_type\": \"\",\n        \"description\": \"\"\n      }\n    },\n    {\n      \"column\": \"Neutro\",\n      \"properties\": {\n        \"dtype\": \"number\",\n        \"std\": 0.1258088766944267,\n        \"min\": 0.16941869860001257,\n        \"max\": 0.7273536303321774,\n        \"num_unique_values\": 103,\n        \"samples\": [\n          0.5918880891919288,\n          0.262901839066005\n        ],\n        \"semantic_type\": \"\",\n        \"description\": \"\"\n      }\n    }\n  ]\n}"
            }
          },
          "metadata": {},
          "execution_count": 173
        }
      ],
      "source": [
        "prob_ensemble"
      ]
    },
    {
      "cell_type": "code",
      "execution_count": null,
      "metadata": {
        "id": "YlAPTPWJCeTO"
      },
      "outputs": [],
      "source": [
        "prob_ensemble['Ensemble Label'] = prob_ensemble[['Compra', 'Neutro']].idxmax(axis=1)"
      ]
    },
    {
      "cell_type": "code",
      "execution_count": null,
      "metadata": {
        "id": "Uu0aKhpFCeTO",
        "outputId": "cbe489e0-c421-4005-fe5b-816d8d9e33f6",
        "colab": {
          "base_uri": "https://localhost:8080/",
          "height": 424
        }
      },
      "outputs": [
        {
          "output_type": "execute_result",
          "data": {
            "text/plain": [
              "                                                X_test  y_test    Compra  \\\n",
              "0    Argentine Stocks Soar, Bonds Climb as Investor...  Compra  0.680689   \n",
              "1    Argentina Gets Delay on Payment of $16.1 Billi...  Compra  0.760059   \n",
              "2    Emerging Market Debt: Zambia's $3 Billion Impa...  Compra  0.737279   \n",
              "3    Argentine stocks surge as markets open after p...  Compra  0.658805   \n",
              "4      FirstFT: OpenAI’s future hangs in the balance.   Compra  0.728813   \n",
              "..                                                 ...     ...       ...   \n",
              "98   Milei takes a chainsaw to Argentina’s state co...  Compra  0.777818   \n",
              "99   YPF Sociedad Anonima (YPF) Gains As Market Dip...  Compra  0.744443   \n",
              "100  Argentina builds case for exporting natgas to ...  Neutro  0.598752   \n",
              "101  Javier Milei Races to Ease Argentina Inflation...  Compra  0.272646   \n",
              "102  Milei Seeks Second Chance From Congress With S...  Neutro  0.548169   \n",
              "\n",
              "       Neutro Ensemble Label  \n",
              "0    0.319311         Compra  \n",
              "1    0.239941         Compra  \n",
              "2    0.262721         Compra  \n",
              "3    0.341195         Compra  \n",
              "4    0.271187         Compra  \n",
              "..        ...            ...  \n",
              "98   0.222182         Compra  \n",
              "99   0.255557         Compra  \n",
              "100  0.401248         Compra  \n",
              "101  0.727354         Neutro  \n",
              "102  0.451831         Compra  \n",
              "\n",
              "[103 rows x 5 columns]"
            ],
            "text/html": [
              "\n",
              "  <div id=\"df-97e27f56-e730-4a27-9817-f726eb0ea3e8\" class=\"colab-df-container\">\n",
              "    <div>\n",
              "<style scoped>\n",
              "    .dataframe tbody tr th:only-of-type {\n",
              "        vertical-align: middle;\n",
              "    }\n",
              "\n",
              "    .dataframe tbody tr th {\n",
              "        vertical-align: top;\n",
              "    }\n",
              "\n",
              "    .dataframe thead th {\n",
              "        text-align: right;\n",
              "    }\n",
              "</style>\n",
              "<table border=\"1\" class=\"dataframe\">\n",
              "  <thead>\n",
              "    <tr style=\"text-align: right;\">\n",
              "      <th></th>\n",
              "      <th>X_test</th>\n",
              "      <th>y_test</th>\n",
              "      <th>Compra</th>\n",
              "      <th>Neutro</th>\n",
              "      <th>Ensemble Label</th>\n",
              "    </tr>\n",
              "  </thead>\n",
              "  <tbody>\n",
              "    <tr>\n",
              "      <th>0</th>\n",
              "      <td>Argentine Stocks Soar, Bonds Climb as Investor...</td>\n",
              "      <td>Compra</td>\n",
              "      <td>0.680689</td>\n",
              "      <td>0.319311</td>\n",
              "      <td>Compra</td>\n",
              "    </tr>\n",
              "    <tr>\n",
              "      <th>1</th>\n",
              "      <td>Argentina Gets Delay on Payment of $16.1 Billi...</td>\n",
              "      <td>Compra</td>\n",
              "      <td>0.760059</td>\n",
              "      <td>0.239941</td>\n",
              "      <td>Compra</td>\n",
              "    </tr>\n",
              "    <tr>\n",
              "      <th>2</th>\n",
              "      <td>Emerging Market Debt: Zambia's $3 Billion Impa...</td>\n",
              "      <td>Compra</td>\n",
              "      <td>0.737279</td>\n",
              "      <td>0.262721</td>\n",
              "      <td>Compra</td>\n",
              "    </tr>\n",
              "    <tr>\n",
              "      <th>3</th>\n",
              "      <td>Argentine stocks surge as markets open after p...</td>\n",
              "      <td>Compra</td>\n",
              "      <td>0.658805</td>\n",
              "      <td>0.341195</td>\n",
              "      <td>Compra</td>\n",
              "    </tr>\n",
              "    <tr>\n",
              "      <th>4</th>\n",
              "      <td>FirstFT: OpenAI’s future hangs in the balance.</td>\n",
              "      <td>Compra</td>\n",
              "      <td>0.728813</td>\n",
              "      <td>0.271187</td>\n",
              "      <td>Compra</td>\n",
              "    </tr>\n",
              "    <tr>\n",
              "      <th>...</th>\n",
              "      <td>...</td>\n",
              "      <td>...</td>\n",
              "      <td>...</td>\n",
              "      <td>...</td>\n",
              "      <td>...</td>\n",
              "    </tr>\n",
              "    <tr>\n",
              "      <th>98</th>\n",
              "      <td>Milei takes a chainsaw to Argentina’s state co...</td>\n",
              "      <td>Compra</td>\n",
              "      <td>0.777818</td>\n",
              "      <td>0.222182</td>\n",
              "      <td>Compra</td>\n",
              "    </tr>\n",
              "    <tr>\n",
              "      <th>99</th>\n",
              "      <td>YPF Sociedad Anonima (YPF) Gains As Market Dip...</td>\n",
              "      <td>Compra</td>\n",
              "      <td>0.744443</td>\n",
              "      <td>0.255557</td>\n",
              "      <td>Compra</td>\n",
              "    </tr>\n",
              "    <tr>\n",
              "      <th>100</th>\n",
              "      <td>Argentina builds case for exporting natgas to ...</td>\n",
              "      <td>Neutro</td>\n",
              "      <td>0.598752</td>\n",
              "      <td>0.401248</td>\n",
              "      <td>Compra</td>\n",
              "    </tr>\n",
              "    <tr>\n",
              "      <th>101</th>\n",
              "      <td>Javier Milei Races to Ease Argentina Inflation...</td>\n",
              "      <td>Compra</td>\n",
              "      <td>0.272646</td>\n",
              "      <td>0.727354</td>\n",
              "      <td>Neutro</td>\n",
              "    </tr>\n",
              "    <tr>\n",
              "      <th>102</th>\n",
              "      <td>Milei Seeks Second Chance From Congress With S...</td>\n",
              "      <td>Neutro</td>\n",
              "      <td>0.548169</td>\n",
              "      <td>0.451831</td>\n",
              "      <td>Compra</td>\n",
              "    </tr>\n",
              "  </tbody>\n",
              "</table>\n",
              "<p>103 rows × 5 columns</p>\n",
              "</div>\n",
              "    <div class=\"colab-df-buttons\">\n",
              "\n",
              "  <div class=\"colab-df-container\">\n",
              "    <button class=\"colab-df-convert\" onclick=\"convertToInteractive('df-97e27f56-e730-4a27-9817-f726eb0ea3e8')\"\n",
              "            title=\"Convert this dataframe to an interactive table.\"\n",
              "            style=\"display:none;\">\n",
              "\n",
              "  <svg xmlns=\"http://www.w3.org/2000/svg\" height=\"24px\" viewBox=\"0 -960 960 960\">\n",
              "    <path d=\"M120-120v-720h720v720H120Zm60-500h600v-160H180v160Zm220 220h160v-160H400v160Zm0 220h160v-160H400v160ZM180-400h160v-160H180v160Zm440 0h160v-160H620v160ZM180-180h160v-160H180v160Zm440 0h160v-160H620v160Z\"/>\n",
              "  </svg>\n",
              "    </button>\n",
              "\n",
              "  <style>\n",
              "    .colab-df-container {\n",
              "      display:flex;\n",
              "      gap: 12px;\n",
              "    }\n",
              "\n",
              "    .colab-df-convert {\n",
              "      background-color: #E8F0FE;\n",
              "      border: none;\n",
              "      border-radius: 50%;\n",
              "      cursor: pointer;\n",
              "      display: none;\n",
              "      fill: #1967D2;\n",
              "      height: 32px;\n",
              "      padding: 0 0 0 0;\n",
              "      width: 32px;\n",
              "    }\n",
              "\n",
              "    .colab-df-convert:hover {\n",
              "      background-color: #E2EBFA;\n",
              "      box-shadow: 0px 1px 2px rgba(60, 64, 67, 0.3), 0px 1px 3px 1px rgba(60, 64, 67, 0.15);\n",
              "      fill: #174EA6;\n",
              "    }\n",
              "\n",
              "    .colab-df-buttons div {\n",
              "      margin-bottom: 4px;\n",
              "    }\n",
              "\n",
              "    [theme=dark] .colab-df-convert {\n",
              "      background-color: #3B4455;\n",
              "      fill: #D2E3FC;\n",
              "    }\n",
              "\n",
              "    [theme=dark] .colab-df-convert:hover {\n",
              "      background-color: #434B5C;\n",
              "      box-shadow: 0px 1px 3px 1px rgba(0, 0, 0, 0.15);\n",
              "      filter: drop-shadow(0px 1px 2px rgba(0, 0, 0, 0.3));\n",
              "      fill: #FFFFFF;\n",
              "    }\n",
              "  </style>\n",
              "\n",
              "    <script>\n",
              "      const buttonEl =\n",
              "        document.querySelector('#df-97e27f56-e730-4a27-9817-f726eb0ea3e8 button.colab-df-convert');\n",
              "      buttonEl.style.display =\n",
              "        google.colab.kernel.accessAllowed ? 'block' : 'none';\n",
              "\n",
              "      async function convertToInteractive(key) {\n",
              "        const element = document.querySelector('#df-97e27f56-e730-4a27-9817-f726eb0ea3e8');\n",
              "        const dataTable =\n",
              "          await google.colab.kernel.invokeFunction('convertToInteractive',\n",
              "                                                    [key], {});\n",
              "        if (!dataTable) return;\n",
              "\n",
              "        const docLinkHtml = 'Like what you see? Visit the ' +\n",
              "          '<a target=\"_blank\" href=https://colab.research.google.com/notebooks/data_table.ipynb>data table notebook</a>'\n",
              "          + ' to learn more about interactive tables.';\n",
              "        element.innerHTML = '';\n",
              "        dataTable['output_type'] = 'display_data';\n",
              "        await google.colab.output.renderOutput(dataTable, element);\n",
              "        const docLink = document.createElement('div');\n",
              "        docLink.innerHTML = docLinkHtml;\n",
              "        element.appendChild(docLink);\n",
              "      }\n",
              "    </script>\n",
              "  </div>\n",
              "\n",
              "\n",
              "<div id=\"df-5a223b27-73eb-4fc0-856f-d884cc8eeaf9\">\n",
              "  <button class=\"colab-df-quickchart\" onclick=\"quickchart('df-5a223b27-73eb-4fc0-856f-d884cc8eeaf9')\"\n",
              "            title=\"Suggest charts\"\n",
              "            style=\"display:none;\">\n",
              "\n",
              "<svg xmlns=\"http://www.w3.org/2000/svg\" height=\"24px\"viewBox=\"0 0 24 24\"\n",
              "     width=\"24px\">\n",
              "    <g>\n",
              "        <path d=\"M19 3H5c-1.1 0-2 .9-2 2v14c0 1.1.9 2 2 2h14c1.1 0 2-.9 2-2V5c0-1.1-.9-2-2-2zM9 17H7v-7h2v7zm4 0h-2V7h2v10zm4 0h-2v-4h2v4z\"/>\n",
              "    </g>\n",
              "</svg>\n",
              "  </button>\n",
              "\n",
              "<style>\n",
              "  .colab-df-quickchart {\n",
              "      --bg-color: #E8F0FE;\n",
              "      --fill-color: #1967D2;\n",
              "      --hover-bg-color: #E2EBFA;\n",
              "      --hover-fill-color: #174EA6;\n",
              "      --disabled-fill-color: #AAA;\n",
              "      --disabled-bg-color: #DDD;\n",
              "  }\n",
              "\n",
              "  [theme=dark] .colab-df-quickchart {\n",
              "      --bg-color: #3B4455;\n",
              "      --fill-color: #D2E3FC;\n",
              "      --hover-bg-color: #434B5C;\n",
              "      --hover-fill-color: #FFFFFF;\n",
              "      --disabled-bg-color: #3B4455;\n",
              "      --disabled-fill-color: #666;\n",
              "  }\n",
              "\n",
              "  .colab-df-quickchart {\n",
              "    background-color: var(--bg-color);\n",
              "    border: none;\n",
              "    border-radius: 50%;\n",
              "    cursor: pointer;\n",
              "    display: none;\n",
              "    fill: var(--fill-color);\n",
              "    height: 32px;\n",
              "    padding: 0;\n",
              "    width: 32px;\n",
              "  }\n",
              "\n",
              "  .colab-df-quickchart:hover {\n",
              "    background-color: var(--hover-bg-color);\n",
              "    box-shadow: 0 1px 2px rgba(60, 64, 67, 0.3), 0 1px 3px 1px rgba(60, 64, 67, 0.15);\n",
              "    fill: var(--button-hover-fill-color);\n",
              "  }\n",
              "\n",
              "  .colab-df-quickchart-complete:disabled,\n",
              "  .colab-df-quickchart-complete:disabled:hover {\n",
              "    background-color: var(--disabled-bg-color);\n",
              "    fill: var(--disabled-fill-color);\n",
              "    box-shadow: none;\n",
              "  }\n",
              "\n",
              "  .colab-df-spinner {\n",
              "    border: 2px solid var(--fill-color);\n",
              "    border-color: transparent;\n",
              "    border-bottom-color: var(--fill-color);\n",
              "    animation:\n",
              "      spin 1s steps(1) infinite;\n",
              "  }\n",
              "\n",
              "  @keyframes spin {\n",
              "    0% {\n",
              "      border-color: transparent;\n",
              "      border-bottom-color: var(--fill-color);\n",
              "      border-left-color: var(--fill-color);\n",
              "    }\n",
              "    20% {\n",
              "      border-color: transparent;\n",
              "      border-left-color: var(--fill-color);\n",
              "      border-top-color: var(--fill-color);\n",
              "    }\n",
              "    30% {\n",
              "      border-color: transparent;\n",
              "      border-left-color: var(--fill-color);\n",
              "      border-top-color: var(--fill-color);\n",
              "      border-right-color: var(--fill-color);\n",
              "    }\n",
              "    40% {\n",
              "      border-color: transparent;\n",
              "      border-right-color: var(--fill-color);\n",
              "      border-top-color: var(--fill-color);\n",
              "    }\n",
              "    60% {\n",
              "      border-color: transparent;\n",
              "      border-right-color: var(--fill-color);\n",
              "    }\n",
              "    80% {\n",
              "      border-color: transparent;\n",
              "      border-right-color: var(--fill-color);\n",
              "      border-bottom-color: var(--fill-color);\n",
              "    }\n",
              "    90% {\n",
              "      border-color: transparent;\n",
              "      border-bottom-color: var(--fill-color);\n",
              "    }\n",
              "  }\n",
              "</style>\n",
              "\n",
              "  <script>\n",
              "    async function quickchart(key) {\n",
              "      const quickchartButtonEl =\n",
              "        document.querySelector('#' + key + ' button');\n",
              "      quickchartButtonEl.disabled = true;  // To prevent multiple clicks.\n",
              "      quickchartButtonEl.classList.add('colab-df-spinner');\n",
              "      try {\n",
              "        const charts = await google.colab.kernel.invokeFunction(\n",
              "            'suggestCharts', [key], {});\n",
              "      } catch (error) {\n",
              "        console.error('Error during call to suggestCharts:', error);\n",
              "      }\n",
              "      quickchartButtonEl.classList.remove('colab-df-spinner');\n",
              "      quickchartButtonEl.classList.add('colab-df-quickchart-complete');\n",
              "    }\n",
              "    (() => {\n",
              "      let quickchartButtonEl =\n",
              "        document.querySelector('#df-5a223b27-73eb-4fc0-856f-d884cc8eeaf9 button');\n",
              "      quickchartButtonEl.style.display =\n",
              "        google.colab.kernel.accessAllowed ? 'block' : 'none';\n",
              "    })();\n",
              "  </script>\n",
              "</div>\n",
              "\n",
              "  <div id=\"id_5070b2b8-7b39-4d25-90fd-1dfc3e0eb0ec\">\n",
              "    <style>\n",
              "      .colab-df-generate {\n",
              "        background-color: #E8F0FE;\n",
              "        border: none;\n",
              "        border-radius: 50%;\n",
              "        cursor: pointer;\n",
              "        display: none;\n",
              "        fill: #1967D2;\n",
              "        height: 32px;\n",
              "        padding: 0 0 0 0;\n",
              "        width: 32px;\n",
              "      }\n",
              "\n",
              "      .colab-df-generate:hover {\n",
              "        background-color: #E2EBFA;\n",
              "        box-shadow: 0px 1px 2px rgba(60, 64, 67, 0.3), 0px 1px 3px 1px rgba(60, 64, 67, 0.15);\n",
              "        fill: #174EA6;\n",
              "      }\n",
              "\n",
              "      [theme=dark] .colab-df-generate {\n",
              "        background-color: #3B4455;\n",
              "        fill: #D2E3FC;\n",
              "      }\n",
              "\n",
              "      [theme=dark] .colab-df-generate:hover {\n",
              "        background-color: #434B5C;\n",
              "        box-shadow: 0px 1px 3px 1px rgba(0, 0, 0, 0.15);\n",
              "        filter: drop-shadow(0px 1px 2px rgba(0, 0, 0, 0.3));\n",
              "        fill: #FFFFFF;\n",
              "      }\n",
              "    </style>\n",
              "    <button class=\"colab-df-generate\" onclick=\"generateWithVariable('prob_ensemble')\"\n",
              "            title=\"Generate code using this dataframe.\"\n",
              "            style=\"display:none;\">\n",
              "\n",
              "  <svg xmlns=\"http://www.w3.org/2000/svg\" height=\"24px\"viewBox=\"0 0 24 24\"\n",
              "       width=\"24px\">\n",
              "    <path d=\"M7,19H8.4L18.45,9,17,7.55,7,17.6ZM5,21V16.75L18.45,3.32a2,2,0,0,1,2.83,0l1.4,1.43a1.91,1.91,0,0,1,.58,1.4,1.91,1.91,0,0,1-.58,1.4L9.25,21ZM18.45,9,17,7.55Zm-12,3A5.31,5.31,0,0,0,4.9,8.1,5.31,5.31,0,0,0,1,6.5,5.31,5.31,0,0,0,4.9,4.9,5.31,5.31,0,0,0,6.5,1,5.31,5.31,0,0,0,8.1,4.9,5.31,5.31,0,0,0,12,6.5,5.46,5.46,0,0,0,6.5,12Z\"/>\n",
              "  </svg>\n",
              "    </button>\n",
              "    <script>\n",
              "      (() => {\n",
              "      const buttonEl =\n",
              "        document.querySelector('#id_5070b2b8-7b39-4d25-90fd-1dfc3e0eb0ec button.colab-df-generate');\n",
              "      buttonEl.style.display =\n",
              "        google.colab.kernel.accessAllowed ? 'block' : 'none';\n",
              "\n",
              "      buttonEl.onclick = () => {\n",
              "        google.colab.notebook.generateWithVariable('prob_ensemble');\n",
              "      }\n",
              "      })();\n",
              "    </script>\n",
              "  </div>\n",
              "\n",
              "    </div>\n",
              "  </div>\n"
            ],
            "application/vnd.google.colaboratory.intrinsic+json": {
              "type": "dataframe",
              "variable_name": "prob_ensemble",
              "summary": "{\n  \"name\": \"prob_ensemble\",\n  \"rows\": 103,\n  \"fields\": [\n    {\n      \"column\": \"X_test\",\n      \"properties\": {\n        \"dtype\": \"string\",\n        \"num_unique_values\": 103,\n        \"samples\": [\n          \"Perpetual Bonds Unlikely to Be the Answer for Indebted Argentina. President Javier Milei\\u2019s suggestion that Argentina could issue debt to comply with a $16 billion lawsuit award related to the nationalization of oil company YPF was met with skepticism from investors who have been repeatedly burned by the serial defaulter.\",\n          \"Is YPF Sociedad Anonima (YPF) Stock Undervalued Right Now? Here at Zacks, our focus is on the proven Zacks Rank system, which emphasizes earnings estimates and estimate revisions to find great stocks. Nevertheless, we are always paying attention to the latest value, growth, and momentum trends to underscore strong picks.. \",\n          \"Milei's Argentina 'omnibus' bill faces gauntlet after clearing first hurdle. \"\n        ],\n        \"semantic_type\": \"\",\n        \"description\": \"\"\n      }\n    },\n    {\n      \"column\": \"y_test\",\n      \"properties\": {\n        \"dtype\": \"category\",\n        \"num_unique_values\": 2,\n        \"samples\": [\n          \"Neutro\",\n          \"Compra\"\n        ],\n        \"semantic_type\": \"\",\n        \"description\": \"\"\n      }\n    },\n    {\n      \"column\": \"Compra\",\n      \"properties\": {\n        \"dtype\": \"number\",\n        \"std\": 0.12580887648114825,\n        \"min\": 0.27264637392529734,\n        \"max\": 0.8305813070211847,\n        \"num_unique_values\": 103,\n        \"samples\": [\n          0.408111910808071,\n          0.7370981594704878\n        ],\n        \"semantic_type\": \"\",\n        \"description\": \"\"\n      }\n    },\n    {\n      \"column\": \"Neutro\",\n      \"properties\": {\n        \"dtype\": \"number\",\n        \"std\": 0.1258088766944267,\n        \"min\": 0.16941869860001257,\n        \"max\": 0.7273536303321774,\n        \"num_unique_values\": 103,\n        \"samples\": [\n          0.5918880891919288,\n          0.262901839066005\n        ],\n        \"semantic_type\": \"\",\n        \"description\": \"\"\n      }\n    },\n    {\n      \"column\": \"Ensemble Label\",\n      \"properties\": {\n        \"dtype\": \"category\",\n        \"num_unique_values\": 2,\n        \"samples\": [\n          \"Neutro\",\n          \"Compra\"\n        ],\n        \"semantic_type\": \"\",\n        \"description\": \"\"\n      }\n    }\n  ]\n}"
            }
          },
          "metadata": {},
          "execution_count": 175
        }
      ],
      "source": [
        "prob_ensemble"
      ]
    },
    {
      "cell_type": "markdown",
      "metadata": {
        "id": "vYsSWmNnCeTO"
      },
      "source": [
        "## Métricas"
      ]
    },
    {
      "cell_type": "markdown",
      "metadata": {
        "id": "IezNk2LlCeTO"
      },
      "source": [
        "### AUC/ROC"
      ]
    },
    {
      "cell_type": "code",
      "execution_count": null,
      "metadata": {
        "id": "unLEr_5NCeTO"
      },
      "outputs": [],
      "source": [
        "probas = [\n",
        "    y_pred_lr_proba,\n",
        "    y_pred_lr_sw_proba,\n",
        "    y_pred_nb_proba,\n",
        "    y_pred_nb_sw_proba,\n",
        "    y_pred_svc_proba,\n",
        "    y_pred_svc_sw_proba,\n",
        "    y_pred_rf_proba,\n",
        "    y_pred_rf_sw_proba,\n",
        "    y_pred_xgb_proba,\n",
        "    y_pred_xgb_sw_proba,\n",
        "    y_pred_lgbm_proba,\n",
        "    y_pred_lgbm_sw_proba,\n",
        "    y_pred_w2v_lgbm_proba,\n",
        "    y_pred_bert_proba,\n",
        "    np.array(y_pred_ensemble_proba)\n",
        "]\n",
        "\n",
        "model_names = [\"RegLog\",\n",
        "               \"RegLog*\",\n",
        "               \"NaiveB\",\n",
        "               \"NaiveB*\",\n",
        "               \"SVC\",\n",
        "               \"SVC*\",\n",
        "               \"RandF\",\n",
        "               \"RandF*\",\n",
        "               \"XGB\",\n",
        "               \"XGB*\",\n",
        "               \"LGBM\",\n",
        "               \"LGBM*\",\n",
        "               \"W2V_Lgbm\",\n",
        "               \"Bert\",\n",
        "               \"Ensemble\",\n",
        "               ]"
      ]
    },
    {
      "cell_type": "code",
      "execution_count": null,
      "metadata": {
        "id": "6KJIV5CSCeTP"
      },
      "outputs": [],
      "source": [
        "class_labels = ['Compra', 'Neutro']\n",
        "\n",
        "label_encoder = LabelEncoder()\n",
        "y_true_encoded = label_encoder.fit_transform(y_test)"
      ]
    },
    {
      "cell_type": "code",
      "execution_count": null,
      "metadata": {
        "id": "R5C7aHdbCeTP",
        "outputId": "1b754295-4cd9-41d6-f115-5ead755c86d8",
        "colab": {
          "base_uri": "https://localhost:8080/",
          "height": 564
        }
      },
      "outputs": [
        {
          "output_type": "display_data",
          "data": {
            "text/plain": [
              "<Figure size 800x600 with 1 Axes>"
            ],
            "image/png": "[encoded data removed]"
          },
          "metadata": {}
        }
      ],
      "source": [
        "plt.figure(figsize=(8, 6))\n",
        "\n",
        "for i, y_pred_probabilities in enumerate(probas):\n",
        "    fpr = dict()\n",
        "    tpr = dict()\n",
        "    roc_auc = dict()\n",
        "\n",
        "    n_classes = len(class_labels)\n",
        "    for j in range(n_classes):\n",
        "        y_true_class = (y_true_encoded == j).astype(int)\n",
        "        fpr[j], tpr[j], _ = roc_curve(y_true_class, y_pred_probabilities[:, j])\n",
        "        roc_auc[j] = auc(fpr[j], tpr[j])\n",
        "\n",
        "    all_fpr = np.unique(np.concatenate([fpr[j] for j in range(n_classes)]))\n",
        "    mean_tpr = np.zeros_like(all_fpr)\n",
        "\n",
        "    for j in range(n_classes):\n",
        "        mean_tpr += np.interp(all_fpr, fpr[j], tpr[j])\n",
        "\n",
        "    mean_tpr /= n_classes\n",
        "    roc_auc_micro = auc(all_fpr, mean_tpr)\n",
        "\n",
        "    if i == len(probas) - 1:\n",
        "        plt.plot(all_fpr, mean_tpr, lw=2, label=f'{model_names[i]} (AUC = {roc_auc_micro:.2f})', color='purple')\n",
        "    else:\n",
        "        plt.plot(all_fpr, mean_tpr, lw=1, label=f'{model_names[i]} (AUC = {roc_auc_micro:.2f})', color='lightgray')\n",
        "\n",
        "\n",
        "plt.plot([0, 1], [0, 1], color='gray', linestyle='--')\n",
        "plt.xlim([0.0, 1.0])\n",
        "plt.ylim([0.0, 1.05])\n",
        "plt.xlabel('False Positive Rate')\n",
        "plt.ylabel('True Positive Rate')\n",
        "plt.title('Micro-Average ROC')\n",
        "plt.legend(loc='lower right')\n",
        "plt.grid(True)\n",
        "plt.show()\n"
      ]
    },
    {
      "cell_type": "markdown",
      "metadata": {
        "id": "wbkONuM1CeTT"
      },
      "source": [
        "### Evaluación"
      ]
    },
    {
      "cell_type": "code",
      "execution_count": null,
      "metadata": {
        "id": "2rhqNu5eCeTT",
        "outputId": "8643ea95-24f5-49c6-ba2a-2f070e7defef",
        "colab": {
          "base_uri": "https://localhost:8080/"
        }
      },
      "outputs": [
        {
          "output_type": "stream",
          "name": "stdout",
          "text": [
            "Accuracy: 66.99%\n",
            "\n",
            "F1 Score: 63.18\n",
            "\n",
            "Confusion Matrix:\n",
            " [[57  6]\n",
            " [28 12]]\n"
          ]
        }
      ],
      "source": [
        "print(\"Accuracy: {:.2f}%\".format(accuracy_score(y_test, prob_ensemble[\"Ensemble Label\"].to_list()) * 100))\n",
        "print(\"\\nF1 Score: {:.2f}\".format(f1_score(y_test, prob_ensemble[\"Ensemble Label\"].to_list(), average='weighted') * 100))\n",
        "print(\"\\nConfusion Matrix:\\n\", confusion_matrix(y_test, prob_ensemble[\"Ensemble Label\"].to_list()))"
      ]
    },
    {
      "cell_type": "code",
      "execution_count": null,
      "metadata": {
        "id": "Gu8uGB4GCeTU"
      },
      "outputs": [],
      "source": [
        "prob_ensemble.to_excel('ypf_predicciones_ensemble_power.xlsx', index=False)"
      ]
    }
  ],
  "metadata": {
    "kernelspec": {
      "display_name": "Python 3",
      "name": "python3"
    },
    "language_info": {
      "codemirror_mode": {
        "name": "ipython",
        "version": 3
      },
      "file_extension": ".py",
      "mimetype": "text/x-python",
      "name": "python",
      "nbconvert_exporter": "python",
      "pygments_lexer": "ipython3",
      "version": "3.12.0"
    },
    "orig_nbformat": 4,
    "colab": {
      "provenance": [],
      "gpuType": "T4"
    },
    "widgets": {
      "application/vnd.jupyter.widget-state+json": {
        "8eb13c8c8f8b4db4b1bdca68148019cd": {
          "model_module": "@jupyter-widgets/controls",
          "model_name": "HBoxModel",
          "model_module_version": "1.5.0",
          "state": {
            "_dom_classes": [],
            "_model_module": "@jupyter-widgets/controls",
            "_model_module_version": "1.5.0",
            "_model_name": "HBoxModel",
            "_view_count": null,
            "_view_module": "@jupyter-widgets/controls",
            "_view_module_version": "1.5.0",
            "_view_name": "HBoxView",
            "box_style": "",
            "children": [
              "IPY_MODEL_03e1f0eb56b24f59b44c43939e36cb62",
              "IPY_MODEL_8cea696bfa524286b4648b5fc5f5d1a2",
              "IPY_MODEL_f0860404a59d4b988afec56aac214201"
            ],
            "layout": "IPY_MODEL_1927c51a9d304612a891748fbea3247d"
          }
        },
        "03e1f0eb56b24f59b44c43939e36cb62": {
          "model_module": "@jupyter-widgets/controls",
          "model_name": "HTMLModel",
          "model_module_version": "1.5.0",
          "state": {
            "_dom_classes": [],
            "_model_module": "@jupyter-widgets/controls",
            "_model_module_version": "1.5.0",
            "_model_name": "HTMLModel",
            "_view_count": null,
            "_view_module": "@jupyter-widgets/controls",
            "_view_module_version": "1.5.0",
            "_view_name": "HTMLView",
            "description": "",
            "description_tooltip": null,
            "layout": "IPY_MODEL_83e09e9331fb47eba82c1d6a8af3e99e",
            "placeholder": "​",
            "style": "IPY_MODEL_d24469971123487897bff37241ada842",
            "value": "tokenizer_config.json: 100%"
          }
        },
        "8cea696bfa524286b4648b5fc5f5d1a2": {
          "model_module": "@jupyter-widgets/controls",
          "model_name": "FloatProgressModel",
          "model_module_version": "1.5.0",
          "state": {
            "_dom_classes": [],
            "_model_module": "@jupyter-widgets/controls",
            "_model_module_version": "1.5.0",
            "_model_name": "FloatProgressModel",
            "_view_count": null,
            "_view_module": "@jupyter-widgets/controls",
            "_view_module_version": "1.5.0",
            "_view_name": "ProgressView",
            "bar_style": "success",
            "description": "",
            "description_tooltip": null,
            "layout": "IPY_MODEL_5d31a19e54594e4ca09b72661518e04e",
            "max": 48,
            "min": 0,
            "orientation": "horizontal",
            "style": "IPY_MODEL_06f4d2d43d8e4aacb2959fbd64dc8ace",
            "value": 48
          }
        },
        "f0860404a59d4b988afec56aac214201": {
          "model_module": "@jupyter-widgets/controls",
          "model_name": "HTMLModel",
          "model_module_version": "1.5.0",
          "state": {
            "_dom_classes": [],
            "_model_module": "@jupyter-widgets/controls",
            "_model_module_version": "1.5.0",
            "_model_name": "HTMLModel",
            "_view_count": null,
            "_view_module": "@jupyter-widgets/controls",
            "_view_module_version": "1.5.0",
            "_view_name": "HTMLView",
            "description": "",
            "description_tooltip": null,
            "layout": "IPY_MODEL_0c8155adc4a944c3a1ec130424df2fb4",
            "placeholder": "​",
            "style": "IPY_MODEL_0cb03d7ef44e4296b7ca3452a2f9cde3",
            "value": " 48.0/48.0 [00:00&lt;00:00, 3.23kB/s]"
          }
        },
        "1927c51a9d304612a891748fbea3247d": {
          "model_module": "@jupyter-widgets/base",
          "model_name": "LayoutModel",
          "model_module_version": "1.2.0",
          "state": {
            "_model_module": "@jupyter-widgets/base",
            "_model_module_version": "1.2.0",
            "_model_name": "LayoutModel",
            "_view_count": null,
            "_view_module": "@jupyter-widgets/base",
            "_view_module_version": "1.2.0",
            "_view_name": "LayoutView",
            "align_content": null,
            "align_items": null,
            "align_self": null,
            "border": null,
            "bottom": null,
            "display": null,
            "flex": null,
            "flex_flow": null,
            "grid_area": null,
            "grid_auto_columns": null,
            "grid_auto_flow": null,
            "grid_auto_rows": null,
            "grid_column": null,
            "grid_gap": null,
            "grid_row": null,
            "grid_template_areas": null,
            "grid_template_columns": null,
            "grid_template_rows": null,
            "height": null,
            "justify_content": null,
            "justify_items": null,
            "left": null,
            "margin": null,
            "max_height": null,
            "max_width": null,
            "min_height": null,
            "min_width": null,
            "object_fit": null,
            "object_position": null,
            "order": null,
            "overflow": null,
            "overflow_x": null,
            "overflow_y": null,
            "padding": null,
            "right": null,
            "top": null,
            "visibility": null,
            "width": null
          }
        },
        "83e09e9331fb47eba82c1d6a8af3e99e": {
          "model_module": "@jupyter-widgets/base",
          "model_name": "LayoutModel",
          "model_module_version": "1.2.0",
          "state": {
            "_model_module": "@jupyter-widgets/base",
            "_model_module_version": "1.2.0",
            "_model_name": "LayoutModel",
            "_view_count": null,
            "_view_module": "@jupyter-widgets/base",
            "_view_module_version": "1.2.0",
            "_view_name": "LayoutView",
            "align_content": null,
            "align_items": null,
            "align_self": null,
            "border": null,
            "bottom": null,
            "display": null,
            "flex": null,
            "flex_flow": null,
            "grid_area": null,
            "grid_auto_columns": null,
            "grid_auto_flow": null,
            "grid_auto_rows": null,
            "grid_column": null,
            "grid_gap": null,
            "grid_row": null,
            "grid_template_areas": null,
            "grid_template_columns": null,
            "grid_template_rows": null,
            "height": null,
            "justify_content": null,
            "justify_items": null,
            "left": null,
            "margin": null,
            "max_height": null,
            "max_width": null,
            "min_height": null,
            "min_width": null,
            "object_fit": null,
            "object_position": null,
            "order": null,
            "overflow": null,
            "overflow_x": null,
            "overflow_y": null,
            "padding": null,
            "right": null,
            "top": null,
            "visibility": null,
            "width": null
          }
        },
        "d24469971123487897bff37241ada842": {
          "model_module": "@jupyter-widgets/controls",
          "model_name": "DescriptionStyleModel",
          "model_module_version": "1.5.0",
          "state": {
            "_model_module": "@jupyter-widgets/controls",
            "_model_module_version": "1.5.0",
            "_model_name": "DescriptionStyleModel",
            "_view_count": null,
            "_view_module": "@jupyter-widgets/base",
            "_view_module_version": "1.2.0",
            "_view_name": "StyleView",
            "description_width": ""
          }
        },
        "5d31a19e54594e4ca09b72661518e04e": {
          "model_module": "@jupyter-widgets/base",
          "model_name": "LayoutModel",
          "model_module_version": "1.2.0",
          "state": {
            "_model_module": "@jupyter-widgets/base",
            "_model_module_version": "1.2.0",
            "_model_name": "LayoutModel",
            "_view_count": null,
            "_view_module": "@jupyter-widgets/base",
            "_view_module_version": "1.2.0",
            "_view_name": "LayoutView",
            "align_content": null,
            "align_items": null,
            "align_self": null,
            "border": null,
            "bottom": null,
            "display": null,
            "flex": null,
            "flex_flow": null,
            "grid_area": null,
            "grid_auto_columns": null,
            "grid_auto_flow": null,
            "grid_auto_rows": null,
            "grid_column": null,
            "grid_gap": null,
            "grid_row": null,
            "grid_template_areas": null,
            "grid_template_columns": null,
            "grid_template_rows": null,
            "height": null,
            "justify_content": null,
            "justify_items": null,
            "left": null,
            "margin": null,
            "max_height": null,
            "max_width": null,
            "min_height": null,
            "min_width": null,
            "object_fit": null,
            "object_position": null,
            "order": null,
            "overflow": null,
            "overflow_x": null,
            "overflow_y": null,
            "padding": null,
            "right": null,
            "top": null,
            "visibility": null,
            "width": null
          }
        },
        "06f4d2d43d8e4aacb2959fbd64dc8ace": {
          "model_module": "@jupyter-widgets/controls",
          "model_name": "ProgressStyleModel",
          "model_module_version": "1.5.0",
          "state": {
            "_model_module": "@jupyter-widgets/controls",
            "_model_module_version": "1.5.0",
            "_model_name": "ProgressStyleModel",
            "_view_count": null,
            "_view_module": "@jupyter-widgets/base",
            "_view_module_version": "1.2.0",
            "_view_name": "StyleView",
            "bar_color": null,
            "description_width": ""
          }
        },
        "0c8155adc4a944c3a1ec130424df2fb4": {
          "model_module": "@jupyter-widgets/base",
          "model_name": "LayoutModel",
          "model_module_version": "1.2.0",
          "state": {
            "_model_module": "@jupyter-widgets/base",
            "_model_module_version": "1.2.0",
            "_model_name": "LayoutModel",
            "_view_count": null,
            "_view_module": "@jupyter-widgets/base",
            "_view_module_version": "1.2.0",
            "_view_name": "LayoutView",
            "align_content": null,
            "align_items": null,
            "align_self": null,
            "border": null,
            "bottom": null,
            "display": null,
            "flex": null,
            "flex_flow": null,
            "grid_area": null,
            "grid_auto_columns": null,
            "grid_auto_flow": null,
            "grid_auto_rows": null,
            "grid_column": null,
            "grid_gap": null,
            "grid_row": null,
            "grid_template_areas": null,
            "grid_template_columns": null,
            "grid_template_rows": null,
            "height": null,
            "justify_content": null,
            "justify_items": null,
            "left": null,
            "margin": null,
            "max_height": null,
            "max_width": null,
            "min_height": null,
            "min_width": null,
            "object_fit": null,
            "object_position": null,
            "order": null,
            "overflow": null,
            "overflow_x": null,
            "overflow_y": null,
            "padding": null,
            "right": null,
            "top": null,
            "visibility": null,
            "width": null
          }
        },
        "0cb03d7ef44e4296b7ca3452a2f9cde3": {
          "model_module": "@jupyter-widgets/controls",
          "model_name": "DescriptionStyleModel",
          "model_module_version": "1.5.0",
          "state": {
            "_model_module": "@jupyter-widgets/controls",
            "_model_module_version": "1.5.0",
            "_model_name": "DescriptionStyleModel",
            "_view_count": null,
            "_view_module": "@jupyter-widgets/base",
            "_view_module_version": "1.2.0",
            "_view_name": "StyleView",
            "description_width": ""
          }
        },
        "21eb788bb0f54cc69cfd7b36fa2c2d4b": {
          "model_module": "@jupyter-widgets/controls",
          "model_name": "HBoxModel",
          "model_module_version": "1.5.0",
          "state": {
            "_dom_classes": [],
            "_model_module": "@jupyter-widgets/controls",
            "_model_module_version": "1.5.0",
            "_model_name": "HBoxModel",
            "_view_count": null,
            "_view_module": "@jupyter-widgets/controls",
            "_view_module_version": "1.5.0",
            "_view_name": "HBoxView",
            "box_style": "",
            "children": [
              "IPY_MODEL_fe49e3df70204a89a2bffb8a43c05645",
              "IPY_MODEL_94258fa75b1d4f2ca228df3b0f713e6a",
              "IPY_MODEL_d6f2d17b5cc04693ada356cb9ec23bee"
            ],
            "layout": "IPY_MODEL_bb6d50f30f7a442babb25c1681deb1c6"
          }
        },
        "fe49e3df70204a89a2bffb8a43c05645": {
          "model_module": "@jupyter-widgets/controls",
          "model_name": "HTMLModel",
          "model_module_version": "1.5.0",
          "state": {
            "_dom_classes": [],
            "_model_module": "@jupyter-widgets/controls",
            "_model_module_version": "1.5.0",
            "_model_name": "HTMLModel",
            "_view_count": null,
            "_view_module": "@jupyter-widgets/controls",
            "_view_module_version": "1.5.0",
            "_view_name": "HTMLView",
            "description": "",
            "description_tooltip": null,
            "layout": "IPY_MODEL_3114134c74744990965ecd0dca371feb",
            "placeholder": "​",
            "style": "IPY_MODEL_4134148e39ef49198c8c4e644495d2a4",
            "value": "vocab.txt: 100%"
          }
        },
        "94258fa75b1d4f2ca228df3b0f713e6a": {
          "model_module": "@jupyter-widgets/controls",
          "model_name": "FloatProgressModel",
          "model_module_version": "1.5.0",
          "state": {
            "_dom_classes": [],
            "_model_module": "@jupyter-widgets/controls",
            "_model_module_version": "1.5.0",
            "_model_name": "FloatProgressModel",
            "_view_count": null,
            "_view_module": "@jupyter-widgets/controls",
            "_view_module_version": "1.5.0",
            "_view_name": "ProgressView",
            "bar_style": "success",
            "description": "",
            "description_tooltip": null,
            "layout": "IPY_MODEL_d33db2ae45da49f4b8f75e2314f81e05",
            "max": 231508,
            "min": 0,
            "orientation": "horizontal",
            "style": "IPY_MODEL_4485cf79f2284a6a947a0e1c3dff7162",
            "value": 231508
          }
        },
        "d6f2d17b5cc04693ada356cb9ec23bee": {
          "model_module": "@jupyter-widgets/controls",
          "model_name": "HTMLModel",
          "model_module_version": "1.5.0",
          "state": {
            "_dom_classes": [],
            "_model_module": "@jupyter-widgets/controls",
            "_model_module_version": "1.5.0",
            "_model_name": "HTMLModel",
            "_view_count": null,
            "_view_module": "@jupyter-widgets/controls",
            "_view_module_version": "1.5.0",
            "_view_name": "HTMLView",
            "description": "",
            "description_tooltip": null,
            "layout": "IPY_MODEL_21e071de500e4d1aa3a818cd86f45d32",
            "placeholder": "​",
            "style": "IPY_MODEL_7b69210d6e444e979a04d795c5bba1ea",
            "value": " 232k/232k [00:00&lt;00:00, 7.13MB/s]"
          }
        },
        "bb6d50f30f7a442babb25c1681deb1c6": {
          "model_module": "@jupyter-widgets/base",
          "model_name": "LayoutModel",
          "model_module_version": "1.2.0",
          "state": {
            "_model_module": "@jupyter-widgets/base",
            "_model_module_version": "1.2.0",
            "_model_name": "LayoutModel",
            "_view_count": null,
            "_view_module": "@jupyter-widgets/base",
            "_view_module_version": "1.2.0",
            "_view_name": "LayoutView",
            "align_content": null,
            "align_items": null,
            "align_self": null,
            "border": null,
            "bottom": null,
            "display": null,
            "flex": null,
            "flex_flow": null,
            "grid_area": null,
            "grid_auto_columns": null,
            "grid_auto_flow": null,
            "grid_auto_rows": null,
            "grid_column": null,
            "grid_gap": null,
            "grid_row": null,
            "grid_template_areas": null,
            "grid_template_columns": null,
            "grid_template_rows": null,
            "height": null,
            "justify_content": null,
            "justify_items": null,
            "left": null,
            "margin": null,
            "max_height": null,
            "max_width": null,
            "min_height": null,
            "min_width": null,
            "object_fit": null,
            "object_position": null,
            "order": null,
            "overflow": null,
            "overflow_x": null,
            "overflow_y": null,
            "padding": null,
            "right": null,
            "top": null,
            "visibility": null,
            "width": null
          }
        },
        "3114134c74744990965ecd0dca371feb": {
          "model_module": "@jupyter-widgets/base",
          "model_name": "LayoutModel",
          "model_module_version": "1.2.0",
          "state": {
            "_model_module": "@jupyter-widgets/base",
            "_model_module_version": "1.2.0",
            "_model_name": "LayoutModel",
            "_view_count": null,
            "_view_module": "@jupyter-widgets/base",
            "_view_module_version": "1.2.0",
            "_view_name": "LayoutView",
            "align_content": null,
            "align_items": null,
            "align_self": null,
            "border": null,
            "bottom": null,
            "display": null,
            "flex": null,
            "flex_flow": null,
            "grid_area": null,
            "grid_auto_columns": null,
            "grid_auto_flow": null,
            "grid_auto_rows": null,
            "grid_column": null,
            "grid_gap": null,
            "grid_row": null,
            "grid_template_areas": null,
            "grid_template_columns": null,
            "grid_template_rows": null,
            "height": null,
            "justify_content": null,
            "justify_items": null,
            "left": null,
            "margin": null,
            "max_height": null,
            "max_width": null,
            "min_height": null,
            "min_width": null,
            "object_fit": null,
            "object_position": null,
            "order": null,
            "overflow": null,
            "overflow_x": null,
            "overflow_y": null,
            "padding": null,
            "right": null,
            "top": null,
            "visibility": null,
            "width": null
          }
        },
        "4134148e39ef49198c8c4e644495d2a4": {
          "model_module": "@jupyter-widgets/controls",
          "model_name": "DescriptionStyleModel",
          "model_module_version": "1.5.0",
          "state": {
            "_model_module": "@jupyter-widgets/controls",
            "_model_module_version": "1.5.0",
            "_model_name": "DescriptionStyleModel",
            "_view_count": null,
            "_view_module": "@jupyter-widgets/base",
            "_view_module_version": "1.2.0",
            "_view_name": "StyleView",
            "description_width": ""
          }
        },
        "d33db2ae45da49f4b8f75e2314f81e05": {
          "model_module": "@jupyter-widgets/base",
          "model_name": "LayoutModel",
          "model_module_version": "1.2.0",
          "state": {
            "_model_module": "@jupyter-widgets/base",
            "_model_module_version": "1.2.0",
            "_model_name": "LayoutModel",
            "_view_count": null,
            "_view_module": "@jupyter-widgets/base",
            "_view_module_version": "1.2.0",
            "_view_name": "LayoutView",
            "align_content": null,
            "align_items": null,
            "align_self": null,
            "border": null,
            "bottom": null,
            "display": null,
            "flex": null,
            "flex_flow": null,
            "grid_area": null,
            "grid_auto_columns": null,
            "grid_auto_flow": null,
            "grid_auto_rows": null,
            "grid_column": null,
            "grid_gap": null,
            "grid_row": null,
            "grid_template_areas": null,
            "grid_template_columns": null,
            "grid_template_rows": null,
            "height": null,
            "justify_content": null,
            "justify_items": null,
            "left": null,
            "margin": null,
            "max_height": null,
            "max_width": null,
            "min_height": null,
            "min_width": null,
            "object_fit": null,
            "object_position": null,
            "order": null,
            "overflow": null,
            "overflow_x": null,
            "overflow_y": null,
            "padding": null,
            "right": null,
            "top": null,
            "visibility": null,
            "width": null
          }
        },
        "4485cf79f2284a6a947a0e1c3dff7162": {
          "model_module": "@jupyter-widgets/controls",
          "model_name": "ProgressStyleModel",
          "model_module_version": "1.5.0",
          "state": {
            "_model_module": "@jupyter-widgets/controls",
            "_model_module_version": "1.5.0",
            "_model_name": "ProgressStyleModel",
            "_view_count": null,
            "_view_module": "@jupyter-widgets/base",
            "_view_module_version": "1.2.0",
            "_view_name": "StyleView",
            "bar_color": null,
            "description_width": ""
          }
        },
        "21e071de500e4d1aa3a818cd86f45d32": {
          "model_module": "@jupyter-widgets/base",
          "model_name": "LayoutModel",
          "model_module_version": "1.2.0",
          "state": {
            "_model_module": "@jupyter-widgets/base",
            "_model_module_version": "1.2.0",
            "_model_name": "LayoutModel",
            "_view_count": null,
            "_view_module": "@jupyter-widgets/base",
            "_view_module_version": "1.2.0",
            "_view_name": "LayoutView",
            "align_content": null,
            "align_items": null,
            "align_self": null,
            "border": null,
            "bottom": null,
            "display": null,
            "flex": null,
            "flex_flow": null,
            "grid_area": null,
            "grid_auto_columns": null,
            "grid_auto_flow": null,
            "grid_auto_rows": null,
            "grid_column": null,
            "grid_gap": null,
            "grid_row": null,
            "grid_template_areas": null,
            "grid_template_columns": null,
            "grid_template_rows": null,
            "height": null,
            "justify_content": null,
            "justify_items": null,
            "left": null,
            "margin": null,
            "max_height": null,
            "max_width": null,
            "min_height": null,
            "min_width": null,
            "object_fit": null,
            "object_position": null,
            "order": null,
            "overflow": null,
            "overflow_x": null,
            "overflow_y": null,
            "padding": null,
            "right": null,
            "top": null,
            "visibility": null,
            "width": null
          }
        },
        "7b69210d6e444e979a04d795c5bba1ea": {
          "model_module": "@jupyter-widgets/controls",
          "model_name": "DescriptionStyleModel",
          "model_module_version": "1.5.0",
          "state": {
            "_model_module": "@jupyter-widgets/controls",
            "_model_module_version": "1.5.0",
            "_model_name": "DescriptionStyleModel",
            "_view_count": null,
            "_view_module": "@jupyter-widgets/base",
            "_view_module_version": "1.2.0",
            "_view_name": "StyleView",
            "description_width": ""
          }
        },
        "dfe9b807cc9a4e36a70e2c6a81df8d68": {
          "model_module": "@jupyter-widgets/controls",
          "model_name": "HBoxModel",
          "model_module_version": "1.5.0",
          "state": {
            "_dom_classes": [],
            "_model_module": "@jupyter-widgets/controls",
            "_model_module_version": "1.5.0",
            "_model_name": "HBoxModel",
            "_view_count": null,
            "_view_module": "@jupyter-widgets/controls",
            "_view_module_version": "1.5.0",
            "_view_name": "HBoxView",
            "box_style": "",
            "children": [
              "IPY_MODEL_4b2e14f4145b4e4998b5ab9e45237b34",
              "IPY_MODEL_4399240d86f54cc38252c96dc0870296",
              "IPY_MODEL_c7c88ce7df674a6882a8961f4fce457f"
            ],
            "layout": "IPY_MODEL_4a95eb5f42db416da73fdafbd017df6d"
          }
        },
        "4b2e14f4145b4e4998b5ab9e45237b34": {
          "model_module": "@jupyter-widgets/controls",
          "model_name": "HTMLModel",
          "model_module_version": "1.5.0",
          "state": {
            "_dom_classes": [],
            "_model_module": "@jupyter-widgets/controls",
            "_model_module_version": "1.5.0",
            "_model_name": "HTMLModel",
            "_view_count": null,
            "_view_module": "@jupyter-widgets/controls",
            "_view_module_version": "1.5.0",
            "_view_name": "HTMLView",
            "description": "",
            "description_tooltip": null,
            "layout": "IPY_MODEL_6debcf4fe3d240e0979a0c995da1b9f8",
            "placeholder": "​",
            "style": "IPY_MODEL_fca8e2ad05b9424ca8756bbe886c3670",
            "value": "tokenizer.json: 100%"
          }
        },
        "4399240d86f54cc38252c96dc0870296": {
          "model_module": "@jupyter-widgets/controls",
          "model_name": "FloatProgressModel",
          "model_module_version": "1.5.0",
          "state": {
            "_dom_classes": [],
            "_model_module": "@jupyter-widgets/controls",
            "_model_module_version": "1.5.0",
            "_model_name": "FloatProgressModel",
            "_view_count": null,
            "_view_module": "@jupyter-widgets/controls",
            "_view_module_version": "1.5.0",
            "_view_name": "ProgressView",
            "bar_style": "success",
            "description": "",
            "description_tooltip": null,
            "layout": "IPY_MODEL_aed41bcd57b443a0b7ce66834e8252d8",
            "max": 466062,
            "min": 0,
            "orientation": "horizontal",
            "style": "IPY_MODEL_35ea38c14b164eada860afd422b976c0",
            "value": 466062
          }
        },
        "c7c88ce7df674a6882a8961f4fce457f": {
          "model_module": "@jupyter-widgets/controls",
          "model_name": "HTMLModel",
          "model_module_version": "1.5.0",
          "state": {
            "_dom_classes": [],
            "_model_module": "@jupyter-widgets/controls",
            "_model_module_version": "1.5.0",
            "_model_name": "HTMLModel",
            "_view_count": null,
            "_view_module": "@jupyter-widgets/controls",
            "_view_module_version": "1.5.0",
            "_view_name": "HTMLView",
            "description": "",
            "description_tooltip": null,
            "layout": "IPY_MODEL_b46b4c08351441e79b137101559e8ebd",
            "placeholder": "​",
            "style": "IPY_MODEL_89f69d5cf8fd4e208e47af972eed54e9",
            "value": " 466k/466k [00:00&lt;00:00, 3.45MB/s]"
          }
        },
        "4a95eb5f42db416da73fdafbd017df6d": {
          "model_module": "@jupyter-widgets/base",
          "model_name": "LayoutModel",
          "model_module_version": "1.2.0",
          "state": {
            "_model_module": "@jupyter-widgets/base",
            "_model_module_version": "1.2.0",
            "_model_name": "LayoutModel",
            "_view_count": null,
            "_view_module": "@jupyter-widgets/base",
            "_view_module_version": "1.2.0",
            "_view_name": "LayoutView",
            "align_content": null,
            "align_items": null,
            "align_self": null,
            "border": null,
            "bottom": null,
            "display": null,
            "flex": null,
            "flex_flow": null,
            "grid_area": null,
            "grid_auto_columns": null,
            "grid_auto_flow": null,
            "grid_auto_rows": null,
            "grid_column": null,
            "grid_gap": null,
            "grid_row": null,
            "grid_template_areas": null,
            "grid_template_columns": null,
            "grid_template_rows": null,
            "height": null,
            "justify_content": null,
            "justify_items": null,
            "left": null,
            "margin": null,
            "max_height": null,
            "max_width": null,
            "min_height": null,
            "min_width": null,
            "object_fit": null,
            "object_position": null,
            "order": null,
            "overflow": null,
            "overflow_x": null,
            "overflow_y": null,
            "padding": null,
            "right": null,
            "top": null,
            "visibility": null,
            "width": null
          }
        },
        "6debcf4fe3d240e0979a0c995da1b9f8": {
          "model_module": "@jupyter-widgets/base",
          "model_name": "LayoutModel",
          "model_module_version": "1.2.0",
          "state": {
            "_model_module": "@jupyter-widgets/base",
            "_model_module_version": "1.2.0",
            "_model_name": "LayoutModel",
            "_view_count": null,
            "_view_module": "@jupyter-widgets/base",
            "_view_module_version": "1.2.0",
            "_view_name": "LayoutView",
            "align_content": null,
            "align_items": null,
            "align_self": null,
            "border": null,
            "bottom": null,
            "display": null,
            "flex": null,
            "flex_flow": null,
            "grid_area": null,
            "grid_auto_columns": null,
            "grid_auto_flow": null,
            "grid_auto_rows": null,
            "grid_column": null,
            "grid_gap": null,
            "grid_row": null,
            "grid_template_areas": null,
            "grid_template_columns": null,
            "grid_template_rows": null,
            "height": null,
            "justify_content": null,
            "justify_items": null,
            "left": null,
            "margin": null,
            "max_height": null,
            "max_width": null,
            "min_height": null,
            "min_width": null,
            "object_fit": null,
            "object_position": null,
            "order": null,
            "overflow": null,
            "overflow_x": null,
            "overflow_y": null,
            "padding": null,
            "right": null,
            "top": null,
            "visibility": null,
            "width": null
          }
        },
        "fca8e2ad05b9424ca8756bbe886c3670": {
          "model_module": "@jupyter-widgets/controls",
          "model_name": "DescriptionStyleModel",
          "model_module_version": "1.5.0",
          "state": {
            "_model_module": "@jupyter-widgets/controls",
            "_model_module_version": "1.5.0",
            "_model_name": "DescriptionStyleModel",
            "_view_count": null,
            "_view_module": "@jupyter-widgets/base",
            "_view_module_version": "1.2.0",
            "_view_name": "StyleView",
            "description_width": ""
          }
        },
        "aed41bcd57b443a0b7ce66834e8252d8": {
          "model_module": "@jupyter-widgets/base",
          "model_name": "LayoutModel",
          "model_module_version": "1.2.0",
          "state": {
            "_model_module": "@jupyter-widgets/base",
            "_model_module_version": "1.2.0",
            "_model_name": "LayoutModel",
            "_view_count": null,
            "_view_module": "@jupyter-widgets/base",
            "_view_module_version": "1.2.0",
            "_view_name": "LayoutView",
            "align_content": null,
            "align_items": null,
            "align_self": null,
            "border": null,
            "bottom": null,
            "display": null,
            "flex": null,
            "flex_flow": null,
            "grid_area": null,
            "grid_auto_columns": null,
            "grid_auto_flow": null,
            "grid_auto_rows": null,
            "grid_column": null,
            "grid_gap": null,
            "grid_row": null,
            "grid_template_areas": null,
            "grid_template_columns": null,
            "grid_template_rows": null,
            "height": null,
            "justify_content": null,
            "justify_items": null,
            "left": null,
            "margin": null,
            "max_height": null,
            "max_width": null,
            "min_height": null,
            "min_width": null,
            "object_fit": null,
            "object_position": null,
            "order": null,
            "overflow": null,
            "overflow_x": null,
            "overflow_y": null,
            "padding": null,
            "right": null,
            "top": null,
            "visibility": null,
            "width": null
          }
        },
        "35ea38c14b164eada860afd422b976c0": {
          "model_module": "@jupyter-widgets/controls",
          "model_name": "ProgressStyleModel",
          "model_module_version": "1.5.0",
          "state": {
            "_model_module": "@jupyter-widgets/controls",
            "_model_module_version": "1.5.0",
            "_model_name": "ProgressStyleModel",
            "_view_count": null,
            "_view_module": "@jupyter-widgets/base",
            "_view_module_version": "1.2.0",
            "_view_name": "StyleView",
            "bar_color": null,
            "description_width": ""
          }
        },
        "b46b4c08351441e79b137101559e8ebd": {
          "model_module": "@jupyter-widgets/base",
          "model_name": "LayoutModel",
          "model_module_version": "1.2.0",
          "state": {
            "_model_module": "@jupyter-widgets/base",
            "_model_module_version": "1.2.0",
            "_model_name": "LayoutModel",
            "_view_count": null,
            "_view_module": "@jupyter-widgets/base",
            "_view_module_version": "1.2.0",
            "_view_name": "LayoutView",
            "align_content": null,
            "align_items": null,
            "align_self": null,
            "border": null,
            "bottom": null,
            "display": null,
            "flex": null,
            "flex_flow": null,
            "grid_area": null,
            "grid_auto_columns": null,
            "grid_auto_flow": null,
            "grid_auto_rows": null,
            "grid_column": null,
            "grid_gap": null,
            "grid_row": null,
            "grid_template_areas": null,
            "grid_template_columns": null,
            "grid_template_rows": null,
            "height": null,
            "justify_content": null,
            "justify_items": null,
            "left": null,
            "margin": null,
            "max_height": null,
            "max_width": null,
            "min_height": null,
            "min_width": null,
            "object_fit": null,
            "object_position": null,
            "order": null,
            "overflow": null,
            "overflow_x": null,
            "overflow_y": null,
            "padding": null,
            "right": null,
            "top": null,
            "visibility": null,
            "width": null
          }
        },
        "89f69d5cf8fd4e208e47af972eed54e9": {
          "model_module": "@jupyter-widgets/controls",
          "model_name": "DescriptionStyleModel",
          "model_module_version": "1.5.0",
          "state": {
            "_model_module": "@jupyter-widgets/controls",
            "_model_module_version": "1.5.0",
            "_model_name": "DescriptionStyleModel",
            "_view_count": null,
            "_view_module": "@jupyter-widgets/base",
            "_view_module_version": "1.2.0",
            "_view_name": "StyleView",
            "description_width": ""
          }
        },
        "838ffb00d779499ea4116f00942dab7e": {
          "model_module": "@jupyter-widgets/controls",
          "model_name": "HBoxModel",
          "model_module_version": "1.5.0",
          "state": {
            "_dom_classes": [],
            "_model_module": "@jupyter-widgets/controls",
            "_model_module_version": "1.5.0",
            "_model_name": "HBoxModel",
            "_view_count": null,
            "_view_module": "@jupyter-widgets/controls",
            "_view_module_version": "1.5.0",
            "_view_name": "HBoxView",
            "box_style": "",
            "children": [
              "IPY_MODEL_dd1496413ba14361a6bd8a8bdfed100c",
              "IPY_MODEL_98511b7d96034b0baaae9757b784ac44",
              "IPY_MODEL_ab85f94159c24f8f89cb57c32e0a4190"
            ],
            "layout": "IPY_MODEL_2ab08fc682734af89c546b852d47fa94"
          }
        },
        "dd1496413ba14361a6bd8a8bdfed100c": {
          "model_module": "@jupyter-widgets/controls",
          "model_name": "HTMLModel",
          "model_module_version": "1.5.0",
          "state": {
            "_dom_classes": [],
            "_model_module": "@jupyter-widgets/controls",
            "_model_module_version": "1.5.0",
            "_model_name": "HTMLModel",
            "_view_count": null,
            "_view_module": "@jupyter-widgets/controls",
            "_view_module_version": "1.5.0",
            "_view_name": "HTMLView",
            "description": "",
            "description_tooltip": null,
            "layout": "IPY_MODEL_641706e82f23459da092fd0dccd0896d",
            "placeholder": "​",
            "style": "IPY_MODEL_fd2e256cc1424f8db7adfa522ea25485",
            "value": "config.json: 100%"
          }
        },
        "98511b7d96034b0baaae9757b784ac44": {
          "model_module": "@jupyter-widgets/controls",
          "model_name": "FloatProgressModel",
          "model_module_version": "1.5.0",
          "state": {
            "_dom_classes": [],
            "_model_module": "@jupyter-widgets/controls",
            "_model_module_version": "1.5.0",
            "_model_name": "FloatProgressModel",
            "_view_count": null,
            "_view_module": "@jupyter-widgets/controls",
            "_view_module_version": "1.5.0",
            "_view_name": "ProgressView",
            "bar_style": "success",
            "description": "",
            "description_tooltip": null,
            "layout": "IPY_MODEL_6d8f3372e8b04301b7687b912c75c672",
            "max": 570,
            "min": 0,
            "orientation": "horizontal",
            "style": "IPY_MODEL_2cb22b4bd5d845e18736a249f71caaec",
            "value": 570
          }
        },
        "ab85f94159c24f8f89cb57c32e0a4190": {
          "model_module": "@jupyter-widgets/controls",
          "model_name": "HTMLModel",
          "model_module_version": "1.5.0",
          "state": {
            "_dom_classes": [],
            "_model_module": "@jupyter-widgets/controls",
            "_model_module_version": "1.5.0",
            "_model_name": "HTMLModel",
            "_view_count": null,
            "_view_module": "@jupyter-widgets/controls",
            "_view_module_version": "1.5.0",
            "_view_name": "HTMLView",
            "description": "",
            "description_tooltip": null,
            "layout": "IPY_MODEL_a439eec9c1574b1ba95448c950e783d2",
            "placeholder": "​",
            "style": "IPY_MODEL_1c5b705d5c8d478aa1e7f4cdafc08ea1",
            "value": " 570/570 [00:00&lt;00:00, 35.8kB/s]"
          }
        },
        "2ab08fc682734af89c546b852d47fa94": {
          "model_module": "@jupyter-widgets/base",
          "model_name": "LayoutModel",
          "model_module_version": "1.2.0",
          "state": {
            "_model_module": "@jupyter-widgets/base",
            "_model_module_version": "1.2.0",
            "_model_name": "LayoutModel",
            "_view_count": null,
            "_view_module": "@jupyter-widgets/base",
            "_view_module_version": "1.2.0",
            "_view_name": "LayoutView",
            "align_content": null,
            "align_items": null,
            "align_self": null,
            "border": null,
            "bottom": null,
            "display": null,
            "flex": null,
            "flex_flow": null,
            "grid_area": null,
            "grid_auto_columns": null,
            "grid_auto_flow": null,
            "grid_auto_rows": null,
            "grid_column": null,
            "grid_gap": null,
            "grid_row": null,
            "grid_template_areas": null,
            "grid_template_columns": null,
            "grid_template_rows": null,
            "height": null,
            "justify_content": null,
            "justify_items": null,
            "left": null,
            "margin": null,
            "max_height": null,
            "max_width": null,
            "min_height": null,
            "min_width": null,
            "object_fit": null,
            "object_position": null,
            "order": null,
            "overflow": null,
            "overflow_x": null,
            "overflow_y": null,
            "padding": null,
            "right": null,
            "top": null,
            "visibility": null,
            "width": null
          }
        },
        "641706e82f23459da092fd0dccd0896d": {
          "model_module": "@jupyter-widgets/base",
          "model_name": "LayoutModel",
          "model_module_version": "1.2.0",
          "state": {
            "_model_module": "@jupyter-widgets/base",
            "_model_module_version": "1.2.0",
            "_model_name": "LayoutModel",
            "_view_count": null,
            "_view_module": "@jupyter-widgets/base",
            "_view_module_version": "1.2.0",
            "_view_name": "LayoutView",
            "align_content": null,
            "align_items": null,
            "align_self": null,
            "border": null,
            "bottom": null,
            "display": null,
            "flex": null,
            "flex_flow": null,
            "grid_area": null,
            "grid_auto_columns": null,
            "grid_auto_flow": null,
            "grid_auto_rows": null,
            "grid_column": null,
            "grid_gap": null,
            "grid_row": null,
            "grid_template_areas": null,
            "grid_template_columns": null,
            "grid_template_rows": null,
            "height": null,
            "justify_content": null,
            "justify_items": null,
            "left": null,
            "margin": null,
            "max_height": null,
            "max_width": null,
            "min_height": null,
            "min_width": null,
            "object_fit": null,
            "object_position": null,
            "order": null,
            "overflow": null,
            "overflow_x": null,
            "overflow_y": null,
            "padding": null,
            "right": null,
            "top": null,
            "visibility": null,
            "width": null
          }
        },
        "fd2e256cc1424f8db7adfa522ea25485": {
          "model_module": "@jupyter-widgets/controls",
          "model_name": "DescriptionStyleModel",
          "model_module_version": "1.5.0",
          "state": {
            "_model_module": "@jupyter-widgets/controls",
            "_model_module_version": "1.5.0",
            "_model_name": "DescriptionStyleModel",
            "_view_count": null,
            "_view_module": "@jupyter-widgets/base",
            "_view_module_version": "1.2.0",
            "_view_name": "StyleView",
            "description_width": ""
          }
        },
        "6d8f3372e8b04301b7687b912c75c672": {
          "model_module": "@jupyter-widgets/base",
          "model_name": "LayoutModel",
          "model_module_version": "1.2.0",
          "state": {
            "_model_module": "@jupyter-widgets/base",
            "_model_module_version": "1.2.0",
            "_model_name": "LayoutModel",
            "_view_count": null,
            "_view_module": "@jupyter-widgets/base",
            "_view_module_version": "1.2.0",
            "_view_name": "LayoutView",
            "align_content": null,
            "align_items": null,
            "align_self": null,
            "border": null,
            "bottom": null,
            "display": null,
            "flex": null,
            "flex_flow": null,
            "grid_area": null,
            "grid_auto_columns": null,
            "grid_auto_flow": null,
            "grid_auto_rows": null,
            "grid_column": null,
            "grid_gap": null,
            "grid_row": null,
            "grid_template_areas": null,
            "grid_template_columns": null,
            "grid_template_rows": null,
            "height": null,
            "justify_content": null,
            "justify_items": null,
            "left": null,
            "margin": null,
            "max_height": null,
            "max_width": null,
            "min_height": null,
            "min_width": null,
            "object_fit": null,
            "object_position": null,
            "order": null,
            "overflow": null,
            "overflow_x": null,
            "overflow_y": null,
            "padding": null,
            "right": null,
            "top": null,
            "visibility": null,
            "width": null
          }
        },
        "2cb22b4bd5d845e18736a249f71caaec": {
          "model_module": "@jupyter-widgets/controls",
          "model_name": "ProgressStyleModel",
          "model_module_version": "1.5.0",
          "state": {
            "_model_module": "@jupyter-widgets/controls",
            "_model_module_version": "1.5.0",
            "_model_name": "ProgressStyleModel",
            "_view_count": null,
            "_view_module": "@jupyter-widgets/base",
            "_view_module_version": "1.2.0",
            "_view_name": "StyleView",
            "bar_color": null,
            "description_width": ""
          }
        },
        "a439eec9c1574b1ba95448c950e783d2": {
          "model_module": "@jupyter-widgets/base",
          "model_name": "LayoutModel",
          "model_module_version": "1.2.0",
          "state": {
            "_model_module": "@jupyter-widgets/base",
            "_model_module_version": "1.2.0",
            "_model_name": "LayoutModel",
            "_view_count": null,
            "_view_module": "@jupyter-widgets/base",
            "_view_module_version": "1.2.0",
            "_view_name": "LayoutView",
            "align_content": null,
            "align_items": null,
            "align_self": null,
            "border": null,
            "bottom": null,
            "display": null,
            "flex": null,
            "flex_flow": null,
            "grid_area": null,
            "grid_auto_columns": null,
            "grid_auto_flow": null,
            "grid_auto_rows": null,
            "grid_column": null,
            "grid_gap": null,
            "grid_row": null,
            "grid_template_areas": null,
            "grid_template_columns": null,
            "grid_template_rows": null,
            "height": null,
            "justify_content": null,
            "justify_items": null,
            "left": null,
            "margin": null,
            "max_height": null,
            "max_width": null,
            "min_height": null,
            "min_width": null,
            "object_fit": null,
            "object_position": null,
            "order": null,
            "overflow": null,
            "overflow_x": null,
            "overflow_y": null,
            "padding": null,
            "right": null,
            "top": null,
            "visibility": null,
            "width": null
          }
        },
        "1c5b705d5c8d478aa1e7f4cdafc08ea1": {
          "model_module": "@jupyter-widgets/controls",
          "model_name": "DescriptionStyleModel",
          "model_module_version": "1.5.0",
          "state": {
            "_model_module": "@jupyter-widgets/controls",
            "_model_module_version": "1.5.0",
            "_model_name": "DescriptionStyleModel",
            "_view_count": null,
            "_view_module": "@jupyter-widgets/base",
            "_view_module_version": "1.2.0",
            "_view_name": "StyleView",
            "description_width": ""
          }
        },
        "0dc65d7852a24a3ba040ee0dfff3b035": {
          "model_module": "@jupyter-widgets/controls",
          "model_name": "HBoxModel",
          "model_module_version": "1.5.0",
          "state": {
            "_dom_classes": [],
            "_model_module": "@jupyter-widgets/controls",
            "_model_module_version": "1.5.0",
            "_model_name": "HBoxModel",
            "_view_count": null,
            "_view_module": "@jupyter-widgets/controls",
            "_view_module_version": "1.5.0",
            "_view_name": "HBoxView",
            "box_style": "",
            "children": [
              "IPY_MODEL_a50212f5de1b49ce989ee70284193608",
              "IPY_MODEL_f17901c9c3a54e90bfe7565fda7f1a00",
              "IPY_MODEL_913b4353078242218927f49a391abbd7"
            ],
            "layout": "IPY_MODEL_6dce52bf21df4327b1f17b440377a066"
          }
        },
        "a50212f5de1b49ce989ee70284193608": {
          "model_module": "@jupyter-widgets/controls",
          "model_name": "HTMLModel",
          "model_module_version": "1.5.0",
          "state": {
            "_dom_classes": [],
            "_model_module": "@jupyter-widgets/controls",
            "_model_module_version": "1.5.0",
            "_model_name": "HTMLModel",
            "_view_count": null,
            "_view_module": "@jupyter-widgets/controls",
            "_view_module_version": "1.5.0",
            "_view_name": "HTMLView",
            "description": "",
            "description_tooltip": null,
            "layout": "IPY_MODEL_efeed4e30aff4cdd9f2484cdc861efdd",
            "placeholder": "​",
            "style": "IPY_MODEL_37e0743a1d00409d9bd4bde2e9982f47",
            "value": "model.safetensors: 100%"
          }
        },
        "f17901c9c3a54e90bfe7565fda7f1a00": {
          "model_module": "@jupyter-widgets/controls",
          "model_name": "FloatProgressModel",
          "model_module_version": "1.5.0",
          "state": {
            "_dom_classes": [],
            "_model_module": "@jupyter-widgets/controls",
            "_model_module_version": "1.5.0",
            "_model_name": "FloatProgressModel",
            "_view_count": null,
            "_view_module": "@jupyter-widgets/controls",
            "_view_module_version": "1.5.0",
            "_view_name": "ProgressView",
            "bar_style": "success",
            "description": "",
            "description_tooltip": null,
            "layout": "IPY_MODEL_b22083b874ad4843bed30a96293b54d6",
            "max": 440449768,
            "min": 0,
            "orientation": "horizontal",
            "style": "IPY_MODEL_390070dba7ce49598433da1ca207b685",
            "value": 440449768
          }
        },
        "913b4353078242218927f49a391abbd7": {
          "model_module": "@jupyter-widgets/controls",
          "model_name": "HTMLModel",
          "model_module_version": "1.5.0",
          "state": {
            "_dom_classes": [],
            "_model_module": "@jupyter-widgets/controls",
            "_model_module_version": "1.5.0",
            "_model_name": "HTMLModel",
            "_view_count": null,
            "_view_module": "@jupyter-widgets/controls",
            "_view_module_version": "1.5.0",
            "_view_name": "HTMLView",
            "description": "",
            "description_tooltip": null,
            "layout": "IPY_MODEL_fb2326b55e1b4223a6f3c35bc7be6851",
            "placeholder": "​",
            "style": "IPY_MODEL_42357e5713e84abb889083b7cfd8ac33",
            "value": " 440M/440M [00:05&lt;00:00, 62.1MB/s]"
          }
        },
        "6dce52bf21df4327b1f17b440377a066": {
          "model_module": "@jupyter-widgets/base",
          "model_name": "LayoutModel",
          "model_module_version": "1.2.0",
          "state": {
            "_model_module": "@jupyter-widgets/base",
            "_model_module_version": "1.2.0",
            "_model_name": "LayoutModel",
            "_view_count": null,
            "_view_module": "@jupyter-widgets/base",
            "_view_module_version": "1.2.0",
            "_view_name": "LayoutView",
            "align_content": null,
            "align_items": null,
            "align_self": null,
            "border": null,
            "bottom": null,
            "display": null,
            "flex": null,
            "flex_flow": null,
            "grid_area": null,
            "grid_auto_columns": null,
            "grid_auto_flow": null,
            "grid_auto_rows": null,
            "grid_column": null,
            "grid_gap": null,
            "grid_row": null,
            "grid_template_areas": null,
            "grid_template_columns": null,
            "grid_template_rows": null,
            "height": null,
            "justify_content": null,
            "justify_items": null,
            "left": null,
            "margin": null,
            "max_height": null,
            "max_width": null,
            "min_height": null,
            "min_width": null,
            "object_fit": null,
            "object_position": null,
            "order": null,
            "overflow": null,
            "overflow_x": null,
            "overflow_y": null,
            "padding": null,
            "right": null,
            "top": null,
            "visibility": null,
            "width": null
          }
        },
        "efeed4e30aff4cdd9f2484cdc861efdd": {
          "model_module": "@jupyter-widgets/base",
          "model_name": "LayoutModel",
          "model_module_version": "1.2.0",
          "state": {
            "_model_module": "@jupyter-widgets/base",
            "_model_module_version": "1.2.0",
            "_model_name": "LayoutModel",
            "_view_count": null,
            "_view_module": "@jupyter-widgets/base",
            "_view_module_version": "1.2.0",
            "_view_name": "LayoutView",
            "align_content": null,
            "align_items": null,
            "align_self": null,
            "border": null,
            "bottom": null,
            "display": null,
            "flex": null,
            "flex_flow": null,
            "grid_area": null,
            "grid_auto_columns": null,
            "grid_auto_flow": null,
            "grid_auto_rows": null,
            "grid_column": null,
            "grid_gap": null,
            "grid_row": null,
            "grid_template_areas": null,
            "grid_template_columns": null,
            "grid_template_rows": null,
            "height": null,
            "justify_content": null,
            "justify_items": null,
            "left": null,
            "margin": null,
            "max_height": null,
            "max_width": null,
            "min_height": null,
            "min_width": null,
            "object_fit": null,
            "object_position": null,
            "order": null,
            "overflow": null,
            "overflow_x": null,
            "overflow_y": null,
            "padding": null,
            "right": null,
            "top": null,
            "visibility": null,
            "width": null
          }
        },
        "37e0743a1d00409d9bd4bde2e9982f47": {
          "model_module": "@jupyter-widgets/controls",
          "model_name": "DescriptionStyleModel",
          "model_module_version": "1.5.0",
          "state": {
            "_model_module": "@jupyter-widgets/controls",
            "_model_module_version": "1.5.0",
            "_model_name": "DescriptionStyleModel",
            "_view_count": null,
            "_view_module": "@jupyter-widgets/base",
            "_view_module_version": "1.2.0",
            "_view_name": "StyleView",
            "description_width": ""
          }
        },
        "b22083b874ad4843bed30a96293b54d6": {
          "model_module": "@jupyter-widgets/base",
          "model_name": "LayoutModel",
          "model_module_version": "1.2.0",
          "state": {
            "_model_module": "@jupyter-widgets/base",
            "_model_module_version": "1.2.0",
            "_model_name": "LayoutModel",
            "_view_count": null,
            "_view_module": "@jupyter-widgets/base",
            "_view_module_version": "1.2.0",
            "_view_name": "LayoutView",
            "align_content": null,
            "align_items": null,
            "align_self": null,
            "border": null,
            "bottom": null,
            "display": null,
            "flex": null,
            "flex_flow": null,
            "grid_area": null,
            "grid_auto_columns": null,
            "grid_auto_flow": null,
            "grid_auto_rows": null,
            "grid_column": null,
            "grid_gap": null,
            "grid_row": null,
            "grid_template_areas": null,
            "grid_template_columns": null,
            "grid_template_rows": null,
            "height": null,
            "justify_content": null,
            "justify_items": null,
            "left": null,
            "margin": null,
            "max_height": null,
            "max_width": null,
            "min_height": null,
            "min_width": null,
            "object_fit": null,
            "object_position": null,
            "order": null,
            "overflow": null,
            "overflow_x": null,
            "overflow_y": null,
            "padding": null,
            "right": null,
            "top": null,
            "visibility": null,
            "width": null
          }
        },
        "390070dba7ce49598433da1ca207b685": {
          "model_module": "@jupyter-widgets/controls",
          "model_name": "ProgressStyleModel",
          "model_module_version": "1.5.0",
          "state": {
            "_model_module": "@jupyter-widgets/controls",
            "_model_module_version": "1.5.0",
            "_model_name": "ProgressStyleModel",
            "_view_count": null,
            "_view_module": "@jupyter-widgets/base",
            "_view_module_version": "1.2.0",
            "_view_name": "StyleView",
            "bar_color": null,
            "description_width": ""
          }
        },
        "fb2326b55e1b4223a6f3c35bc7be6851": {
          "model_module": "@jupyter-widgets/base",
          "model_name": "LayoutModel",
          "model_module_version": "1.2.0",
          "state": {
            "_model_module": "@jupyter-widgets/base",
            "_model_module_version": "1.2.0",
            "_model_name": "LayoutModel",
            "_view_count": null,
            "_view_module": "@jupyter-widgets/base",
            "_view_module_version": "1.2.0",
            "_view_name": "LayoutView",
            "align_content": null,
            "align_items": null,
            "align_self": null,
            "border": null,
            "bottom": null,
            "display": null,
            "flex": null,
            "flex_flow": null,
            "grid_area": null,
            "grid_auto_columns": null,
            "grid_auto_flow": null,
            "grid_auto_rows": null,
            "grid_column": null,
            "grid_gap": null,
            "grid_row": null,
            "grid_template_areas": null,
            "grid_template_columns": null,
            "grid_template_rows": null,
            "height": null,
            "justify_content": null,
            "justify_items": null,
            "left": null,
            "margin": null,
            "max_height": null,
            "max_width": null,
            "min_height": null,
            "min_width": null,
            "object_fit": null,
            "object_position": null,
            "order": null,
            "overflow": null,
            "overflow_x": null,
            "overflow_y": null,
            "padding": null,
            "right": null,
            "top": null,
            "visibility": null,
            "width": null
          }
        },
        "42357e5713e84abb889083b7cfd8ac33": {
          "model_module": "@jupyter-widgets/controls",
          "model_name": "DescriptionStyleModel",
          "model_module_version": "1.5.0",
          "state": {
            "_model_module": "@jupyter-widgets/controls",
            "_model_module_version": "1.5.0",
            "_model_name": "DescriptionStyleModel",
            "_view_count": null,
            "_view_module": "@jupyter-widgets/base",
            "_view_module_version": "1.2.0",
            "_view_name": "StyleView",
            "description_width": ""
          }
        }
      }
    },
    "accelerator": "GPU"
  },
  "nbformat": 4,
  "nbformat_minor": 0
}