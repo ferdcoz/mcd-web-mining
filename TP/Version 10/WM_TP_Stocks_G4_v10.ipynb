{
  "cells": [
    {
      "cell_type": "markdown",
      "metadata": {
        "id": "H7oSSyQvCeSU"
      },
      "source": [
        "## Web Mining - TP Stocks - Grupo 4"
      ]
    },
    {
      "cell_type": "markdown",
      "metadata": {
        "id": "ROeLVArVCeSY"
      },
      "source": [
        "### Librerias"
      ]
    },
    {
      "cell_type": "code",
      "execution_count": null,
      "metadata": {
        "id": "mrAUkdymCeSZ",
        "outputId": "5bfe2601-b097-4163-8285-6e2086fc351f",
        "colab": {
          "base_uri": "https://localhost:8080/"
        }
      },
      "outputs": [
        {
          "output_type": "stream",
          "name": "stderr",
          "text": [
            "[nltk_data] Downloading package stopwords to /root/nltk_data...\n",
            "[nltk_data]   Unzipping corpora/stopwords.zip.\n"
          ]
        }
      ],
      "source": [
        "import pandas as pd\n",
        "import nltk\n",
        "nltk.download('stopwords')\n",
        "import spacy # Python 3.12\n",
        "import numpy as np\n",
        "import matplotlib.pyplot as plt\n",
        "from xgboost import XGBClassifier\n",
        "from lightgbm import LGBMClassifier\n",
        "from nltk.corpus import stopwords\n",
        "from sklearn.feature_extraction.text import CountVectorizer, TfidfTransformer\n",
        "from sklearn.naive_bayes import MultinomialNB\n",
        "from sklearn.svm import LinearSVC\n",
        "from sklearn.ensemble import RandomForestClassifier, AdaBoostClassifier\n",
        "from sklearn.pipeline import Pipeline\n",
        "from sklearn.metrics import accuracy_score, f1_score, confusion_matrix, roc_curve, auc, classification_report\n",
        "from sklearn.calibration import CalibratedClassifierCV\n",
        "from sklearn.preprocessing import LabelEncoder, MinMaxScaler\n",
        "from sklearn.linear_model import LogisticRegression\n",
        "from sklearn.model_selection import cross_val_score\n",
        "from sklearn.neighbors import KNeighborsClassifier\n",
        "from sklearn.tree import DecisionTreeClassifier\n",
        "from sklearn.metrics.pairwise import cosine_similarity\n",
        "\n",
        "import warnings\n",
        "warnings.filterwarnings('ignore')"
      ]
    },
    {
      "cell_type": "markdown",
      "metadata": {
        "id": "e2kBYqFDCeSc"
      },
      "source": [
        "### Archivo entrenamiento"
      ]
    },
    {
      "cell_type": "code",
      "execution_count": null,
      "metadata": {
        "id": "23uRbtXfCeSd"
      },
      "outputs": [],
      "source": [
        "data = pd.read_excel('YPF UNIFICADO VERIFICADO V10.xlsx', sheet_name= 'NOTICIAS')"
      ]
    },
    {
      "cell_type": "markdown",
      "metadata": {
        "id": "liKvslETCeSe"
      },
      "source": [
        "## Preprocesamiento"
      ]
    },
    {
      "cell_type": "markdown",
      "metadata": {
        "id": "QSwx9hEZCeSe"
      },
      "source": [
        "### Stopwords"
      ]
    },
    {
      "cell_type": "code",
      "execution_count": null,
      "metadata": {
        "id": "jo5-iqkuCeSf"
      },
      "outputs": [],
      "source": [
        "stopwords_en = set(stopwords.words('english'))"
      ]
    },
    {
      "cell_type": "code",
      "execution_count": null,
      "metadata": {
        "id": "1p8HhIpaCeSg"
      },
      "outputs": [],
      "source": [
        "# Listado de stopwords propio\n",
        "stopwords_personales = ['Refinitiv','Zacks','Rystad','Andrew','Rocco','Nilanjan','Benerjee','CERAWEEK','Tirthankar','Chakraborty','Anindya','Barman','Scott','Squires','Jonathan','Gilbert','Yvonne','Yue','Li'\n",
        "                        'Laura','Millan','Jorgelina','Do','Rosario']\n",
        "\n",
        "stopwords_personales = [x.lower() for x in stopwords_personales]\n",
        "\n",
        "stopwords_custom = list(stopwords_en.union(stopwords_personales))"
      ]
    },
    {
      "cell_type": "markdown",
      "metadata": {
        "id": "BZ4NRv-cCeSg"
      },
      "source": [
        "### Bag Of Words"
      ]
    },
    {
      "cell_type": "code",
      "execution_count": null,
      "metadata": {
        "id": "1oh6ViLbCeSh"
      },
      "outputs": [],
      "source": [
        "word_count = {}\n",
        "\n",
        "for sentence in data[data['Category'].isin(['Compra'])]['Text'].to_list():\n",
        "    words = sentence.split()\n",
        "\n",
        "    for word in words:\n",
        "        word = word.strip(\".,!?()\").lower()\n",
        "\n",
        "        if word in word_count:\n",
        "            word_count[word] += 1\n",
        "        else:\n",
        "            word_count[word] = 1"
      ]
    },
    {
      "cell_type": "code",
      "execution_count": null,
      "metadata": {
        "id": "OdLxbN2pCeSh"
      },
      "outputs": [],
      "source": [
        "word_count_filtro = {word: count for word, count in word_count.items() if word not in stopwords_en}"
      ]
    },
    {
      "cell_type": "code",
      "execution_count": null,
      "metadata": {
        "id": "iaXkWYyqCeSh"
      },
      "outputs": [],
      "source": [
        "word_counts_orden = dict(sorted(word_count_filtro.items(), key=lambda x: x[1], reverse=True))"
      ]
    },
    {
      "cell_type": "code",
      "execution_count": null,
      "metadata": {
        "id": "w7DPq-SGCeSi"
      },
      "outputs": [],
      "source": [
        "df = pd.DataFrame(list(word_counts_orden.items()), columns=['Palabra', 'Frecuencia'])\n",
        "file_path = 'bag_of_words.xlsx'\n",
        "df.to_excel(file_path, index=False)"
      ]
    },
    {
      "cell_type": "markdown",
      "metadata": {
        "id": "LPN2r-c3CeSj"
      },
      "source": [
        "### Función de Lematización"
      ]
    },
    {
      "cell_type": "code",
      "execution_count": null,
      "metadata": {
        "id": "h0q2goSvCeSk"
      },
      "outputs": [],
      "source": [
        "import en_core_web_sm"
      ]
    },
    {
      "cell_type": "code",
      "execution_count": null,
      "metadata": {
        "id": "I51B476SCeSk"
      },
      "outputs": [],
      "source": [
        "def func_lemma(X_train, dicc_stopwords):\n",
        "\n",
        "    nlp = spacy.load(\"en_core_web_sm\")\n",
        "    #pip3 install https://github.com/explosion/spacy-models/releases/download/en_core_web_sm-2.2.0/en_core_web_sm-2.2.0.tar.gz\n",
        "\n",
        "    X_train_lemma = []\n",
        "\n",
        "    for noticia in X_train:\n",
        "        l_doc = nlp(noticia)\n",
        "        v_lema = \" \".join([token.lemma_.lower() for token in l_doc if token.text.lower() not in dicc_stopwords and not token.is_punct])\n",
        "        X_train_lemma.append(v_lema)\n",
        "\n",
        "    return X_train_lemma"
      ]
    },
    {
      "cell_type": "markdown",
      "metadata": {
        "id": "5a21pu38CeSk"
      },
      "source": [
        "### Split Train / Test"
      ]
    },
    {
      "cell_type": "code",
      "execution_count": null,
      "metadata": {
        "id": "fwrX3BeRCeSk"
      },
      "outputs": [],
      "source": [
        "data_train = data[data['Train/Test'].isin(['Train'])]\n",
        "data_test = data[data['Train/Test'].isin(['Test'])]"
      ]
    },
    {
      "cell_type": "code",
      "execution_count": null,
      "metadata": {
        "id": "VEPfPD6kCeSk"
      },
      "outputs": [],
      "source": [
        "X_train = data_train['Text'].tolist()\n",
        "y_train = data_train['Category'].tolist()"
      ]
    },
    {
      "cell_type": "code",
      "execution_count": null,
      "metadata": {
        "id": "M0-ghnFcCeSk"
      },
      "outputs": [],
      "source": [
        "X_test = data_test['Text'].tolist()\n",
        "y_test = data_test['Category'].tolist()"
      ]
    },
    {
      "cell_type": "markdown",
      "metadata": {
        "id": "pkn04wPuCeSl"
      },
      "source": [
        "### Lemma (Similitud del Coseno y Jaccard)"
      ]
    },
    {
      "cell_type": "markdown",
      "metadata": {
        "id": "JGvfAPQVCeSl"
      },
      "source": [
        "Queremos verificar si aplicar lematización realmente cambia la composición del texto y si el texto transformado se reduce."
      ]
    },
    {
      "cell_type": "code",
      "execution_count": null,
      "metadata": {
        "id": "ZeeTuhdnCeSl"
      },
      "outputs": [],
      "source": [
        "list1 = X_train\n",
        "list2 = func_lemma(X_train, stopwords_custom)\n",
        "vectorizer = CountVectorizer()\n",
        "\n",
        "data_lemma = []\n",
        "\n",
        "for str1, str2 in zip(list1, list2):\n",
        "    tokens1 = str1.split()\n",
        "    tokens2 = str2.split()\n",
        "\n",
        "    matrix1 = vectorizer.fit_transform([\" \".join(tokens1)])\n",
        "    matrix2 = vectorizer.transform([\" \".join(tokens2)])\n",
        "\n",
        "    cosine_sim = cosine_similarity(matrix1, matrix2)[0][0]\n",
        "\n",
        "    data_lemma.append([str1, str2, cosine_sim])\n",
        "\n",
        "df_lemma = pd.DataFrame(data_lemma, columns=[\"Original\", \"Lemma\", \"Sim_Coseno\"])"
      ]
    },
    {
      "cell_type": "code",
      "execution_count": null,
      "metadata": {
        "id": "8Bkw_hysCeSl",
        "outputId": "0c559837-5d36-493c-a498-25ec19b80505",
        "colab": {
          "base_uri": "https://localhost:8080/",
          "height": 258
        }
      },
      "outputs": [
        {
          "output_type": "execute_result",
          "data": {
            "text/plain": [
              "                                            Original  \\\n",
              "0  Do Options Traders Know Something About YPF So...   \n",
              "1  Crop U-Turn in Argentina Ruffles Importers, La...   \n",
              "2  Oaktree, BlackRock Are Said to Be Among YPF Cr...   \n",
              "3  YPF Stuns Bondholders as Argentina Runs Out of...   \n",
              "4  Bitesize Podcast: Argentina's YPF Faces First ...   \n",
              "\n",
              "                                               Lemma  Sim_Coseno  \n",
              "0  options trader know something ypf sociedad ypf...    0.805425  \n",
              "1  crop u turn argentina ruffles importers lays b...    0.800641  \n",
              "2  oaktree blackrock say among ypf creditors orga...    0.678146  \n",
              "3  ypf stuns bondholders argentina runs dollars 9...    0.603909  \n",
              "4  bitesize podcast argentina 's ypf face first l...    0.957427  "
            ],
            "text/html": [
              "\n",
              "  <div id=\"df-26375a45-5816-4117-a397-ec552e0d46e7\" class=\"colab-df-container\">\n",
              "    <div>\n",
              "<style scoped>\n",
              "    .dataframe tbody tr th:only-of-type {\n",
              "        vertical-align: middle;\n",
              "    }\n",
              "\n",
              "    .dataframe tbody tr th {\n",
              "        vertical-align: top;\n",
              "    }\n",
              "\n",
              "    .dataframe thead th {\n",
              "        text-align: right;\n",
              "    }\n",
              "</style>\n",
              "<table border=\"1\" class=\"dataframe\">\n",
              "  <thead>\n",
              "    <tr style=\"text-align: right;\">\n",
              "      <th></th>\n",
              "      <th>Original</th>\n",
              "      <th>Lemma</th>\n",
              "      <th>Sim_Coseno</th>\n",
              "    </tr>\n",
              "  </thead>\n",
              "  <tbody>\n",
              "    <tr>\n",
              "      <th>0</th>\n",
              "      <td>Do Options Traders Know Something About YPF So...</td>\n",
              "      <td>options trader know something ypf sociedad ypf...</td>\n",
              "      <td>0.805425</td>\n",
              "    </tr>\n",
              "    <tr>\n",
              "      <th>1</th>\n",
              "      <td>Crop U-Turn in Argentina Ruffles Importers, La...</td>\n",
              "      <td>crop u turn argentina ruffles importers lays b...</td>\n",
              "      <td>0.800641</td>\n",
              "    </tr>\n",
              "    <tr>\n",
              "      <th>2</th>\n",
              "      <td>Oaktree, BlackRock Are Said to Be Among YPF Cr...</td>\n",
              "      <td>oaktree blackrock say among ypf creditors orga...</td>\n",
              "      <td>0.678146</td>\n",
              "    </tr>\n",
              "    <tr>\n",
              "      <th>3</th>\n",
              "      <td>YPF Stuns Bondholders as Argentina Runs Out of...</td>\n",
              "      <td>ypf stuns bondholders argentina runs dollars 9...</td>\n",
              "      <td>0.603909</td>\n",
              "    </tr>\n",
              "    <tr>\n",
              "      <th>4</th>\n",
              "      <td>Bitesize Podcast: Argentina's YPF Faces First ...</td>\n",
              "      <td>bitesize podcast argentina 's ypf face first l...</td>\n",
              "      <td>0.957427</td>\n",
              "    </tr>\n",
              "  </tbody>\n",
              "</table>\n",
              "</div>\n",
              "    <div class=\"colab-df-buttons\">\n",
              "\n",
              "  <div class=\"colab-df-container\">\n",
              "    <button class=\"colab-df-convert\" onclick=\"convertToInteractive('df-26375a45-5816-4117-a397-ec552e0d46e7')\"\n",
              "            title=\"Convert this dataframe to an interactive table.\"\n",
              "            style=\"display:none;\">\n",
              "\n",
              "  <svg xmlns=\"http://www.w3.org/2000/svg\" height=\"24px\" viewBox=\"0 -960 960 960\">\n",
              "    <path d=\"M120-120v-720h720v720H120Zm60-500h600v-160H180v160Zm220 220h160v-160H400v160Zm0 220h160v-160H400v160ZM180-400h160v-160H180v160Zm440 0h160v-160H620v160ZM180-180h160v-160H180v160Zm440 0h160v-160H620v160Z\"/>\n",
              "  </svg>\n",
              "    </button>\n",
              "\n",
              "  <style>\n",
              "    .colab-df-container {\n",
              "      display:flex;\n",
              "      gap: 12px;\n",
              "    }\n",
              "\n",
              "    .colab-df-convert {\n",
              "      background-color: #E8F0FE;\n",
              "      border: none;\n",
              "      border-radius: 50%;\n",
              "      cursor: pointer;\n",
              "      display: none;\n",
              "      fill: #1967D2;\n",
              "      height: 32px;\n",
              "      padding: 0 0 0 0;\n",
              "      width: 32px;\n",
              "    }\n",
              "\n",
              "    .colab-df-convert:hover {\n",
              "      background-color: #E2EBFA;\n",
              "      box-shadow: 0px 1px 2px rgba(60, 64, 67, 0.3), 0px 1px 3px 1px rgba(60, 64, 67, 0.15);\n",
              "      fill: #174EA6;\n",
              "    }\n",
              "\n",
              "    .colab-df-buttons div {\n",
              "      margin-bottom: 4px;\n",
              "    }\n",
              "\n",
              "    [theme=dark] .colab-df-convert {\n",
              "      background-color: #3B4455;\n",
              "      fill: #D2E3FC;\n",
              "    }\n",
              "\n",
              "    [theme=dark] .colab-df-convert:hover {\n",
              "      background-color: #434B5C;\n",
              "      box-shadow: 0px 1px 3px 1px rgba(0, 0, 0, 0.15);\n",
              "      filter: drop-shadow(0px 1px 2px rgba(0, 0, 0, 0.3));\n",
              "      fill: #FFFFFF;\n",
              "    }\n",
              "  </style>\n",
              "\n",
              "    <script>\n",
              "      const buttonEl =\n",
              "        document.querySelector('#df-26375a45-5816-4117-a397-ec552e0d46e7 button.colab-df-convert');\n",
              "      buttonEl.style.display =\n",
              "        google.colab.kernel.accessAllowed ? 'block' : 'none';\n",
              "\n",
              "      async function convertToInteractive(key) {\n",
              "        const element = document.querySelector('#df-26375a45-5816-4117-a397-ec552e0d46e7');\n",
              "        const dataTable =\n",
              "          await google.colab.kernel.invokeFunction('convertToInteractive',\n",
              "                                                    [key], {});\n",
              "        if (!dataTable) return;\n",
              "\n",
              "        const docLinkHtml = 'Like what you see? Visit the ' +\n",
              "          '<a target=\"_blank\" href=https://colab.research.google.com/notebooks/data_table.ipynb>data table notebook</a>'\n",
              "          + ' to learn more about interactive tables.';\n",
              "        element.innerHTML = '';\n",
              "        dataTable['output_type'] = 'display_data';\n",
              "        await google.colab.output.renderOutput(dataTable, element);\n",
              "        const docLink = document.createElement('div');\n",
              "        docLink.innerHTML = docLinkHtml;\n",
              "        element.appendChild(docLink);\n",
              "      }\n",
              "    </script>\n",
              "  </div>\n",
              "\n",
              "\n",
              "<div id=\"df-989647c0-5850-4a9c-a376-c43cab3b65fb\">\n",
              "  <button class=\"colab-df-quickchart\" onclick=\"quickchart('df-989647c0-5850-4a9c-a376-c43cab3b65fb')\"\n",
              "            title=\"Suggest charts\"\n",
              "            style=\"display:none;\">\n",
              "\n",
              "<svg xmlns=\"http://www.w3.org/2000/svg\" height=\"24px\"viewBox=\"0 0 24 24\"\n",
              "     width=\"24px\">\n",
              "    <g>\n",
              "        <path d=\"M19 3H5c-1.1 0-2 .9-2 2v14c0 1.1.9 2 2 2h14c1.1 0 2-.9 2-2V5c0-1.1-.9-2-2-2zM9 17H7v-7h2v7zm4 0h-2V7h2v10zm4 0h-2v-4h2v4z\"/>\n",
              "    </g>\n",
              "</svg>\n",
              "  </button>\n",
              "\n",
              "<style>\n",
              "  .colab-df-quickchart {\n",
              "      --bg-color: #E8F0FE;\n",
              "      --fill-color: #1967D2;\n",
              "      --hover-bg-color: #E2EBFA;\n",
              "      --hover-fill-color: #174EA6;\n",
              "      --disabled-fill-color: #AAA;\n",
              "      --disabled-bg-color: #DDD;\n",
              "  }\n",
              "\n",
              "  [theme=dark] .colab-df-quickchart {\n",
              "      --bg-color: #3B4455;\n",
              "      --fill-color: #D2E3FC;\n",
              "      --hover-bg-color: #434B5C;\n",
              "      --hover-fill-color: #FFFFFF;\n",
              "      --disabled-bg-color: #3B4455;\n",
              "      --disabled-fill-color: #666;\n",
              "  }\n",
              "\n",
              "  .colab-df-quickchart {\n",
              "    background-color: var(--bg-color);\n",
              "    border: none;\n",
              "    border-radius: 50%;\n",
              "    cursor: pointer;\n",
              "    display: none;\n",
              "    fill: var(--fill-color);\n",
              "    height: 32px;\n",
              "    padding: 0;\n",
              "    width: 32px;\n",
              "  }\n",
              "\n",
              "  .colab-df-quickchart:hover {\n",
              "    background-color: var(--hover-bg-color);\n",
              "    box-shadow: 0 1px 2px rgba(60, 64, 67, 0.3), 0 1px 3px 1px rgba(60, 64, 67, 0.15);\n",
              "    fill: var(--button-hover-fill-color);\n",
              "  }\n",
              "\n",
              "  .colab-df-quickchart-complete:disabled,\n",
              "  .colab-df-quickchart-complete:disabled:hover {\n",
              "    background-color: var(--disabled-bg-color);\n",
              "    fill: var(--disabled-fill-color);\n",
              "    box-shadow: none;\n",
              "  }\n",
              "\n",
              "  .colab-df-spinner {\n",
              "    border: 2px solid var(--fill-color);\n",
              "    border-color: transparent;\n",
              "    border-bottom-color: var(--fill-color);\n",
              "    animation:\n",
              "      spin 1s steps(1) infinite;\n",
              "  }\n",
              "\n",
              "  @keyframes spin {\n",
              "    0% {\n",
              "      border-color: transparent;\n",
              "      border-bottom-color: var(--fill-color);\n",
              "      border-left-color: var(--fill-color);\n",
              "    }\n",
              "    20% {\n",
              "      border-color: transparent;\n",
              "      border-left-color: var(--fill-color);\n",
              "      border-top-color: var(--fill-color);\n",
              "    }\n",
              "    30% {\n",
              "      border-color: transparent;\n",
              "      border-left-color: var(--fill-color);\n",
              "      border-top-color: var(--fill-color);\n",
              "      border-right-color: var(--fill-color);\n",
              "    }\n",
              "    40% {\n",
              "      border-color: transparent;\n",
              "      border-right-color: var(--fill-color);\n",
              "      border-top-color: var(--fill-color);\n",
              "    }\n",
              "    60% {\n",
              "      border-color: transparent;\n",
              "      border-right-color: var(--fill-color);\n",
              "    }\n",
              "    80% {\n",
              "      border-color: transparent;\n",
              "      border-right-color: var(--fill-color);\n",
              "      border-bottom-color: var(--fill-color);\n",
              "    }\n",
              "    90% {\n",
              "      border-color: transparent;\n",
              "      border-bottom-color: var(--fill-color);\n",
              "    }\n",
              "  }\n",
              "</style>\n",
              "\n",
              "  <script>\n",
              "    async function quickchart(key) {\n",
              "      const quickchartButtonEl =\n",
              "        document.querySelector('#' + key + ' button');\n",
              "      quickchartButtonEl.disabled = true;  // To prevent multiple clicks.\n",
              "      quickchartButtonEl.classList.add('colab-df-spinner');\n",
              "      try {\n",
              "        const charts = await google.colab.kernel.invokeFunction(\n",
              "            'suggestCharts', [key], {});\n",
              "      } catch (error) {\n",
              "        console.error('Error during call to suggestCharts:', error);\n",
              "      }\n",
              "      quickchartButtonEl.classList.remove('colab-df-spinner');\n",
              "      quickchartButtonEl.classList.add('colab-df-quickchart-complete');\n",
              "    }\n",
              "    (() => {\n",
              "      let quickchartButtonEl =\n",
              "        document.querySelector('#df-989647c0-5850-4a9c-a376-c43cab3b65fb button');\n",
              "      quickchartButtonEl.style.display =\n",
              "        google.colab.kernel.accessAllowed ? 'block' : 'none';\n",
              "    })();\n",
              "  </script>\n",
              "</div>\n",
              "\n",
              "    </div>\n",
              "  </div>\n"
            ],
            "application/vnd.google.colaboratory.intrinsic+json": {
              "type": "dataframe",
              "variable_name": "df_lemma",
              "summary": "{\n  \"name\": \"df_lemma\",\n  \"rows\": 308,\n  \"fields\": [\n    {\n      \"column\": \"Original\",\n      \"properties\": {\n        \"dtype\": \"string\",\n        \"num_unique_values\": 299,\n        \"samples\": [\n          \"Contrarian Who Rode $36 Billion Petrobras Rally Set for Key Test. Rajiv Jain has become the biggest minority shareholder in Petrobras, often by snapping up shares when other investors were fleeing the stock. Now his confidence in the state-owned Brazilian oil company faces one of its biggest tests yet.\",\n          \"Billionaire Rocca\\u2019s Tecpetrol Has Other Lithium Options If Alpha Bid Fails. Billionaire Paolo Rocca\\u2019s steel and energy group will enter the lithium business one way or another \\u2014 saying it\\u2019s lining up other options in case it fails with a $1 billion plan to develop a project in Argentina.\",\n          \"YPF Sociedad Anonima (YPF) Outpaces Stock Market Gains: What You Should Know In the latest trading session, YPF Sociedad Anonima (YPF) closed at $11.43, marking a +1.78% move from the previous day.. \"\n        ],\n        \"semantic_type\": \"\",\n        \"description\": \"\"\n      }\n    },\n    {\n      \"column\": \"Lemma\",\n      \"properties\": {\n        \"dtype\": \"string\",\n        \"num_unique_values\": 299,\n        \"samples\": [\n          \"contrarian ride $ 36 billion petrobras rally set key test rajiv jain become big minority shareholder petrobras often snap share investor flee stock confidence state own brazilian oil company face one big test yet\",\n          \"billionaire rocca \\u2019s tecpetrol lithium options alpha bid fail billionaire paolo rocca \\u2019s steel energy group enter lithium business one way another say \\u2019s line option case fail $ 1 billion plan develop project argentina\",\n          \"ypf sociedad anonima ypf outpaces stock market gains know late trading session ypf sociedad anonima ypf close $ 11.43 mark +1.78 move previous day\"\n        ],\n        \"semantic_type\": \"\",\n        \"description\": \"\"\n      }\n    },\n    {\n      \"column\": \"Sim_Coseno\",\n      \"properties\": {\n        \"dtype\": \"number\",\n        \"std\": 0.09579997901615503,\n        \"min\": 0.507253164941173,\n        \"max\": 0.960768922830523,\n        \"num_unique_values\": 198,\n        \"samples\": [\n          0.7629479354705706,\n          0.7713356685664039,\n          0.7844645405527361\n        ],\n        \"semantic_type\": \"\",\n        \"description\": \"\"\n      }\n    }\n  ]\n}"
            }
          },
          "metadata": {},
          "execution_count": 15
        }
      ],
      "source": [
        "df_lemma.head()"
      ]
    },
    {
      "cell_type": "code",
      "execution_count": null,
      "metadata": {
        "id": "bs7iwG1hCeSl",
        "outputId": "25ae1dc8-f5a7-4f8a-cf92-75d83cb7b17c",
        "colab": {
          "base_uri": "https://localhost:8080/"
        }
      },
      "outputs": [
        {
          "output_type": "stream",
          "name": "stdout",
          "text": [
            "Diccionario original: 2343\n",
            "Diccionario lematizado: 1569\n"
          ]
        }
      ],
      "source": [
        "def remove_stopwords(tokens):\n",
        "    filtered_tokens = [word for word in tokens if word.lower() not in stopwords_custom]\n",
        "    return filtered_tokens\n",
        "\n",
        "original_text = \" \".join(list1)\n",
        "lemmatized_text = \" \".join(list2)\n",
        "\n",
        "original_tokens = original_text.split()\n",
        "lemmatized_tokens = lemmatized_text.split()\n",
        "\n",
        "filtered_original_tokens = remove_stopwords(original_tokens)\n",
        "filtered_lemmatized_tokens = remove_stopwords(lemmatized_tokens)\n",
        "\n",
        "original_unique_words = set(filtered_original_tokens)\n",
        "lemmatized_unique_words = set(filtered_lemmatized_tokens)\n",
        "\n",
        "total_unique_words_original = len(original_unique_words)\n",
        "total_unique_words_lemmatized = len(lemmatized_unique_words)\n",
        "\n",
        "print(f\"Diccionario original: {total_unique_words_original}\")\n",
        "print(f\"Diccionario lematizado: {total_unique_words_lemmatized}\")"
      ]
    },
    {
      "cell_type": "markdown",
      "metadata": {
        "id": "PZRpMlDZCeSm"
      },
      "source": [
        "Vemos que el diccionario de términos luego de la lematización no se reduce significativamente."
      ]
    },
    {
      "cell_type": "markdown",
      "metadata": {
        "id": "76jHFHwcCeSm"
      },
      "source": [
        "## Entrenamiento"
      ]
    },
    {
      "cell_type": "markdown",
      "metadata": {
        "id": "Eapd9-svCeSm"
      },
      "source": [
        "### Regresión Logistica"
      ]
    },
    {
      "cell_type": "markdown",
      "metadata": {
        "id": "KZG_gsm1CeSn"
      },
      "source": [
        "#### Pipeline"
      ]
    },
    {
      "cell_type": "code",
      "execution_count": null,
      "metadata": {
        "id": "4pCPTlIiCeSn"
      },
      "outputs": [],
      "source": [
        "clf_lr = Pipeline([\n",
        "    ('vect' , CountVectorizer()),\n",
        "    ('tfidf', TfidfTransformer()),\n",
        "    ('clf'  , LogisticRegression())\n",
        "])\n",
        "\n",
        "clf_lr_sw = Pipeline([\n",
        "    ('vect' , CountVectorizer(stop_words=stopwords_custom)),\n",
        "    ('tfidf', TfidfTransformer()),\n",
        "    ('clf'  , LogisticRegression())\n",
        "])"
      ]
    },
    {
      "cell_type": "markdown",
      "metadata": {
        "id": "iVB6bwuJCeSn"
      },
      "source": [
        "#### Entrenamiento"
      ]
    },
    {
      "cell_type": "code",
      "execution_count": null,
      "metadata": {
        "id": "PoaEjGLvCeSn"
      },
      "outputs": [],
      "source": [
        "clf_lr = clf_lr.fit(X_train, y_train)\n",
        "\n",
        "clf_lr_sw = clf_lr_sw.fit(X_train, y_train)\n",
        "\n",
        "clf_lr_lema = clf_lr.fit(func_lemma(X_train,stopwords_custom), y_train)"
      ]
    },
    {
      "cell_type": "markdown",
      "metadata": {
        "id": "uaZpm25RCeSn"
      },
      "source": [
        "#### Predicción ( Etiquetas )"
      ]
    },
    {
      "cell_type": "code",
      "execution_count": null,
      "metadata": {
        "id": "0qso-FWrCeSn"
      },
      "outputs": [],
      "source": [
        "y_pred_lr = clf_lr.predict(X_test)\n",
        "\n",
        "y_pred_lr_sw = clf_lr_sw.predict(X_test)\n",
        "\n",
        "y_pred_lr_lema = clf_lr_lema.predict(X_test)"
      ]
    },
    {
      "cell_type": "markdown",
      "metadata": {
        "id": "eOgL5eZ9CeSo"
      },
      "source": [
        "#### Predicción ( Probabilidad )"
      ]
    },
    {
      "cell_type": "code",
      "execution_count": null,
      "metadata": {
        "id": "h8YAArhZCeSq"
      },
      "outputs": [],
      "source": [
        "y_pred_lr_proba = clf_lr.predict_proba(X_test)\n",
        "\n",
        "y_pred_lr_sw_proba = clf_lr_sw.predict_proba(X_test)\n",
        "\n",
        "y_pred_lr_lema_proba = clf_lr_lema.predict_proba(X_test)"
      ]
    },
    {
      "cell_type": "markdown",
      "metadata": {
        "id": "GgwXDR9VCeSq"
      },
      "source": [
        "#### Evaluación"
      ]
    },
    {
      "cell_type": "code",
      "execution_count": null,
      "metadata": {
        "id": "0cO0zq6ECeSq",
        "outputId": "8e50460c-5a4d-4ec0-aa49-2079e8349f2c",
        "colab": {
          "base_uri": "https://localhost:8080/"
        }
      },
      "outputs": [
        {
          "output_type": "stream",
          "name": "stdout",
          "text": [
            "Accuracy: 59.22%\n",
            "\n",
            "F1 Score: 47.07\n",
            "\n",
            "Confusion Matrix:\n",
            " [[60  3]\n",
            " [39  1]]\n"
          ]
        }
      ],
      "source": [
        "print(\"Accuracy: {:.2f}%\".format(accuracy_score(y_test, y_pred_lr_sw) * 100))\n",
        "print(\"\\nF1 Score: {:.2f}\".format(f1_score(y_test, y_pred_lr_sw, average='weighted') * 100))\n",
        "print(\"\\nConfusion Matrix:\\n\", confusion_matrix(y_test, y_pred_lr_sw))"
      ]
    },
    {
      "cell_type": "markdown",
      "metadata": {
        "id": "5VQ-iyhACeSq"
      },
      "source": [
        "### Naive Bayes Multinomial"
      ]
    },
    {
      "cell_type": "markdown",
      "metadata": {
        "id": "2mOQu4xxCeSq"
      },
      "source": [
        "#### Pipeline"
      ]
    },
    {
      "cell_type": "code",
      "execution_count": null,
      "metadata": {
        "id": "6ToQNXmzCeSr"
      },
      "outputs": [],
      "source": [
        "clf_nb = Pipeline([\n",
        "    ('vect' , CountVectorizer()),\n",
        "    ('tfidf', TfidfTransformer()),\n",
        "    ('clf'  , MultinomialNB())\n",
        "])\n",
        "\n",
        "clf_nb_sw = Pipeline([\n",
        "    ('vect' , CountVectorizer(stop_words=stopwords_custom)),\n",
        "    ('tfidf', TfidfTransformer()),\n",
        "    ('clf'  , MultinomialNB())\n",
        "])"
      ]
    },
    {
      "cell_type": "markdown",
      "metadata": {
        "id": "8lSoqCerCeSr"
      },
      "source": [
        "#### Entrenamiento"
      ]
    },
    {
      "cell_type": "code",
      "execution_count": null,
      "metadata": {
        "id": "LSoyfK9rCeSr"
      },
      "outputs": [],
      "source": [
        "clf_nb = clf_nb.fit(X_train, y_train)\n",
        "\n",
        "clf_nb_sw = clf_nb_sw.fit(X_train, y_train)\n",
        "\n",
        "clf_nb_lema = clf_nb.fit(func_lemma(X_train,stopwords_custom), y_train)"
      ]
    },
    {
      "cell_type": "markdown",
      "metadata": {
        "id": "MuAFhh8aCeSr"
      },
      "source": [
        "#### Predicción ( Etiquetas )"
      ]
    },
    {
      "cell_type": "code",
      "execution_count": null,
      "metadata": {
        "id": "xr-ECkLrCeSr"
      },
      "outputs": [],
      "source": [
        "y_pred_nb = clf_nb.predict(X_test)\n",
        "\n",
        "y_pred_nb_sw = clf_nb_sw.predict(X_test)\n",
        "\n",
        "y_pred_nb_lema = clf_nb_lema.predict(X_test)"
      ]
    },
    {
      "cell_type": "markdown",
      "metadata": {
        "id": "s1GE9K_iCeSs"
      },
      "source": [
        "#### Predicción ( Probabilidad )"
      ]
    },
    {
      "cell_type": "code",
      "execution_count": null,
      "metadata": {
        "id": "2TDUJya0CeSs"
      },
      "outputs": [],
      "source": [
        "y_pred_nb_proba = clf_nb.predict_proba(X_test)\n",
        "\n",
        "y_pred_nb_sw_proba = clf_nb_sw.predict_proba(X_test)\n",
        "\n",
        "y_pred_nb_lema_proba = clf_nb_lema.predict_proba(X_test)"
      ]
    },
    {
      "cell_type": "markdown",
      "metadata": {
        "id": "_LpVepd4CeSs"
      },
      "source": [
        "#### Evaluación"
      ]
    },
    {
      "cell_type": "code",
      "execution_count": null,
      "metadata": {
        "id": "dwlC5AITCeSt",
        "outputId": "7f2e1584-a09e-471c-f86b-8ecd583c977c",
        "colab": {
          "base_uri": "https://localhost:8080/"
        }
      },
      "outputs": [
        {
          "output_type": "stream",
          "name": "stdout",
          "text": [
            "Accuracy: 59.22%\n",
            "\n",
            "F1 Score: 48.49\n",
            "\n",
            "Confusion Matrix:\n",
            " [[59  4]\n",
            " [38  2]]\n"
          ]
        }
      ],
      "source": [
        "print(\"Accuracy: {:.2f}%\".format(accuracy_score(y_test, y_pred_nb) * 100))\n",
        "print(\"\\nF1 Score: {:.2f}\".format(f1_score(y_test, y_pred_nb, average='weighted') * 100))\n",
        "print(\"\\nConfusion Matrix:\\n\", confusion_matrix(y_test, y_pred_nb))"
      ]
    },
    {
      "cell_type": "code",
      "execution_count": null,
      "metadata": {
        "id": "s2V0XhUmCeSt",
        "outputId": "91d97445-ac58-4b70-f91e-7b0d3b3a9ff2",
        "colab": {
          "base_uri": "https://localhost:8080/"
        }
      },
      "outputs": [
        {
          "output_type": "stream",
          "name": "stdout",
          "text": [
            "Accuracy: 57.28%\n",
            "\n",
            "F1 Score: 46.03\n",
            "\n",
            "Confusion Matrix:\n",
            " [[58  5]\n",
            " [39  1]]\n"
          ]
        }
      ],
      "source": [
        "print(\"Accuracy: {:.2f}%\".format(accuracy_score(y_test, y_pred_nb_sw) * 100))\n",
        "print(\"\\nF1 Score: {:.2f}\".format(f1_score(y_test, y_pred_nb_sw, average='weighted') * 100))\n",
        "print(\"\\nConfusion Matrix:\\n\", confusion_matrix(y_test, y_pred_nb_sw))"
      ]
    },
    {
      "cell_type": "code",
      "execution_count": null,
      "metadata": {
        "id": "g1AkDYu0CeSt",
        "outputId": "37e68e66-38b7-4914-e6c7-045fd971adf6",
        "colab": {
          "base_uri": "https://localhost:8080/"
        }
      },
      "outputs": [
        {
          "output_type": "stream",
          "name": "stdout",
          "text": [
            "Accuracy: 59.22%\n",
            "\n",
            "F1 Score: 48.49\n",
            "\n",
            "Confusion Matrix:\n",
            " [[59  4]\n",
            " [38  2]]\n"
          ]
        }
      ],
      "source": [
        "print(\"Accuracy: {:.2f}%\".format(accuracy_score(y_test, y_pred_nb_lema) * 100))\n",
        "print(\"\\nF1 Score: {:.2f}\".format(f1_score(y_test, y_pred_nb_lema, average='weighted') * 100))\n",
        "print(\"\\nConfusion Matrix:\\n\", confusion_matrix(y_test, y_pred_nb_lema))"
      ]
    },
    {
      "cell_type": "markdown",
      "metadata": {
        "id": "dJCJorGkCeSu"
      },
      "source": [
        "### Support Vector Classifier"
      ]
    },
    {
      "cell_type": "markdown",
      "metadata": {
        "id": "bRYOTXf1CeSu"
      },
      "source": [
        "#### Pipeline"
      ]
    },
    {
      "cell_type": "code",
      "execution_count": null,
      "metadata": {
        "id": "nvWkrbnyCeSu"
      },
      "outputs": [],
      "source": [
        "clf_svc = Pipeline([\n",
        "    ('vect' , CountVectorizer()),\n",
        "    ('tfidf', TfidfTransformer()),\n",
        "    ('clf'  , LinearSVC())\n",
        "])\n",
        "\n",
        "clf_svc_sw = Pipeline([\n",
        "    ('vect' , CountVectorizer(stop_words=stopwords_custom)),\n",
        "    ('tfidf', TfidfTransformer()),\n",
        "    ('clf'  , LinearSVC())\n",
        "])\n",
        "\n",
        "clf_svc_proba = Pipeline([\n",
        "    ('vect' , CountVectorizer()),\n",
        "    ('tfidf', TfidfTransformer()),\n",
        "    ('clf'  , CalibratedClassifierCV(LinearSVC()))\n",
        "])\n",
        "\n",
        "clf_svc_sw_proba = Pipeline([\n",
        "    ('vect' , CountVectorizer(stop_words=stopwords_custom)),\n",
        "    ('tfidf', TfidfTransformer()),\n",
        "    ('clf'  , CalibratedClassifierCV(LinearSVC()))\n",
        "])"
      ]
    },
    {
      "cell_type": "markdown",
      "metadata": {
        "id": "yCDqx4oKCeSv"
      },
      "source": [
        "#### Entrenamiento"
      ]
    },
    {
      "cell_type": "code",
      "execution_count": null,
      "metadata": {
        "id": "SOQYNVEJCeSv"
      },
      "outputs": [],
      "source": [
        "clf_svc = clf_svc.fit(X_train, y_train)\n",
        "\n",
        "clf_svc_sw = clf_svc_sw.fit(X_train, y_train)\n",
        "\n",
        "clf_svc_lema = clf_svc.fit(func_lemma(X_train,stopwords_custom), y_train)"
      ]
    },
    {
      "cell_type": "markdown",
      "metadata": {
        "id": "dE6UPS9NCeSv"
      },
      "source": [
        "#### Predicción ( Etiquetas )"
      ]
    },
    {
      "cell_type": "code",
      "execution_count": null,
      "metadata": {
        "id": "K4oDDbrVCeSv"
      },
      "outputs": [],
      "source": [
        "y_pred_svc = clf_svc.predict(X_test)\n",
        "\n",
        "y_pred_svc_sw = clf_svc_sw.predict(X_test)\n",
        "\n",
        "y_pred_svc_lema = clf_svc_lema.predict(X_test)"
      ]
    },
    {
      "cell_type": "markdown",
      "metadata": {
        "id": "ycizotZiCeSw"
      },
      "source": [
        "#### Predicción ( Probabilidad )"
      ]
    },
    {
      "cell_type": "code",
      "execution_count": null,
      "metadata": {
        "id": "HmdpH945CeSw"
      },
      "outputs": [],
      "source": [
        "clf_svc = clf_svc_proba.fit(X_train, y_train)\n",
        "\n",
        "clf_svc_sw = clf_svc_sw_proba.fit(X_train, y_train)\n",
        "\n",
        "clf_svc_lema = clf_svc_proba.fit(func_lemma(X_train,stopwords_custom), y_train)"
      ]
    },
    {
      "cell_type": "code",
      "execution_count": null,
      "metadata": {
        "id": "_BbFoYyDCeSw"
      },
      "outputs": [],
      "source": [
        "y_pred_svc_proba = clf_svc.predict_proba(X_test)\n",
        "\n",
        "y_pred_svc_sw_proba = clf_svc_sw.predict_proba(X_test)\n",
        "\n",
        "y_pred_svc_lema_proba = clf_svc_lema.predict_proba(X_test)"
      ]
    },
    {
      "cell_type": "markdown",
      "metadata": {
        "id": "ZnDC4yL8CeSx"
      },
      "source": [
        "#### Evaluación"
      ]
    },
    {
      "cell_type": "code",
      "execution_count": null,
      "metadata": {
        "id": "k_B0iPmVCeSx",
        "outputId": "605385ee-0e40-457f-82f3-feef86306fa5",
        "colab": {
          "base_uri": "https://localhost:8080/"
        }
      },
      "outputs": [
        {
          "output_type": "stream",
          "name": "stdout",
          "text": [
            "Accuracy: 59.22%\n",
            "\n",
            "F1 Score: 55.85\n",
            "\n",
            "Confusion Matrix:\n",
            " [[51 12]\n",
            " [30 10]]\n"
          ]
        }
      ],
      "source": [
        "print(\"Accuracy: {:.2f}%\".format(accuracy_score(y_test, y_pred_svc) * 100))\n",
        "print(\"\\nF1 Score: {:.2f}\".format(f1_score(y_test, y_pred_svc, average='weighted') * 100))\n",
        "print(\"\\nConfusion Matrix:\\n\", confusion_matrix(y_test, y_pred_svc))"
      ]
    },
    {
      "cell_type": "code",
      "execution_count": null,
      "metadata": {
        "id": "kys470NJCeSx",
        "outputId": "70b18cb8-9443-4f8d-b105-4880173f902d",
        "colab": {
          "base_uri": "https://localhost:8080/"
        }
      },
      "outputs": [
        {
          "output_type": "stream",
          "name": "stdout",
          "text": [
            "Accuracy: 59.22%\n",
            "\n",
            "F1 Score: 54.52\n",
            "\n",
            "Confusion Matrix:\n",
            " [[53 10]\n",
            " [32  8]]\n"
          ]
        }
      ],
      "source": [
        "print(\"Accuracy: {:.2f}%\".format(accuracy_score(y_test, y_pred_svc_sw) * 100))\n",
        "print(\"\\nF1 Score: {:.2f}\".format(f1_score(y_test, y_pred_svc_sw, average='weighted') * 100))\n",
        "print(\"\\nConfusion Matrix:\\n\", confusion_matrix(y_test, y_pred_svc_sw))"
      ]
    },
    {
      "cell_type": "code",
      "execution_count": null,
      "metadata": {
        "id": "Ani0Z4vgCeSx",
        "outputId": "25e6ecab-793d-45e0-eb47-6e6c8e048d4d",
        "colab": {
          "base_uri": "https://localhost:8080/"
        }
      },
      "outputs": [
        {
          "output_type": "stream",
          "name": "stdout",
          "text": [
            "Accuracy: 59.22%\n",
            "\n",
            "F1 Score: 55.85\n",
            "\n",
            "Confusion Matrix:\n",
            " [[51 12]\n",
            " [30 10]]\n"
          ]
        }
      ],
      "source": [
        "print(\"Accuracy: {:.2f}%\".format(accuracy_score(y_test, y_pred_svc_lema) * 100))\n",
        "print(\"\\nF1 Score: {:.2f}\".format(f1_score(y_test, y_pred_svc_lema, average='weighted') * 100))\n",
        "print(\"\\nConfusion Matrix:\\n\", confusion_matrix(y_test, y_pred_svc_lema))"
      ]
    },
    {
      "cell_type": "markdown",
      "metadata": {
        "id": "DRuRu2bnCeSy"
      },
      "source": [
        "### Random Forest"
      ]
    },
    {
      "cell_type": "markdown",
      "metadata": {
        "id": "Tx5L1sGqCeSy"
      },
      "source": [
        "#### Pipeline"
      ]
    },
    {
      "cell_type": "code",
      "execution_count": null,
      "metadata": {
        "id": "yP4ZCKj6CeSy"
      },
      "outputs": [],
      "source": [
        "clf_rf = Pipeline([\n",
        "    ('vect' , CountVectorizer()),\n",
        "    ('tfidf', TfidfTransformer()),\n",
        "    ('clf'  , RandomForestClassifier())\n",
        "])\n",
        "\n",
        "clf_rf_sw = Pipeline([\n",
        "    ('vect' , CountVectorizer(stop_words=stopwords_custom)),\n",
        "    ('tfidf', TfidfTransformer()),\n",
        "    ('clf'  , RandomForestClassifier())\n",
        "])"
      ]
    },
    {
      "cell_type": "markdown",
      "metadata": {
        "id": "qz24iHVOCeSy"
      },
      "source": [
        "#### Entrenamiento"
      ]
    },
    {
      "cell_type": "code",
      "execution_count": null,
      "metadata": {
        "id": "QK_4hEXpCeSy"
      },
      "outputs": [],
      "source": [
        "clf_rf = clf_rf.fit(X_train, y_train)\n",
        "\n",
        "clf_rf_sw = clf_rf_sw.fit(X_train, y_train)"
      ]
    },
    {
      "cell_type": "markdown",
      "metadata": {
        "id": "XPEOKRqBCeSz"
      },
      "source": [
        "#### Predicción (Etiquetas)"
      ]
    },
    {
      "cell_type": "code",
      "execution_count": null,
      "metadata": {
        "id": "9HnRcWWECeSz"
      },
      "outputs": [],
      "source": [
        "y_pred_rf = clf_rf.predict(X_test)\n",
        "\n",
        "y_pred_rf_sw = clf_rf_sw.predict(X_test)"
      ]
    },
    {
      "cell_type": "markdown",
      "metadata": {
        "id": "NOKoZ8jtCeS0"
      },
      "source": [
        "#### Predicción (Probabilidad)"
      ]
    },
    {
      "cell_type": "code",
      "execution_count": null,
      "metadata": {
        "id": "7ncVXhpaCeS0"
      },
      "outputs": [],
      "source": [
        "y_pred_rf_proba = clf_rf.predict_proba(X_test)\n",
        "\n",
        "y_pred_rf_sw_proba = clf_rf_sw.predict_proba(X_test)"
      ]
    },
    {
      "cell_type": "code",
      "execution_count": null,
      "metadata": {
        "id": "ynn4ZggfCeS0",
        "outputId": "eace6eb5-7c2f-49f6-e340-7f48e2449834",
        "colab": {
          "base_uri": "https://localhost:8080/"
        }
      },
      "outputs": [
        {
          "output_type": "stream",
          "name": "stdout",
          "text": [
            "Accuracy: 65.05%\n",
            "\n",
            "F1 Score: 57.92\n",
            "\n",
            "Confusion Matrix:\n",
            " [[60  3]\n",
            " [33  7]]\n"
          ]
        }
      ],
      "source": [
        "print(\"Accuracy: {:.2f}%\".format(accuracy_score(y_test, y_pred_rf) * 100))\n",
        "print(\"\\nF1 Score: {:.2f}\".format(f1_score(y_test, y_pred_rf, average='weighted') * 100))\n",
        "print(\"\\nConfusion Matrix:\\n\", confusion_matrix(y_test, y_pred_rf))"
      ]
    },
    {
      "cell_type": "markdown",
      "metadata": {
        "id": "ACTJZDUVCeS1"
      },
      "source": [
        "### XGBoost"
      ]
    },
    {
      "cell_type": "markdown",
      "metadata": {
        "id": "LT1VrEQeCeS1"
      },
      "source": [
        "#### Mapeo etiquetas"
      ]
    },
    {
      "cell_type": "code",
      "execution_count": null,
      "metadata": {
        "id": "Mmz4_2o4CeS1"
      },
      "outputs": [],
      "source": [
        "y_train_gb = data_train[\"Category\"].map({'Neutro': 1, 'Compra': 0}).to_list()\n",
        "y_test_gb = data_test[\"Category\"].map({'Neutro': 1, 'Compra': 0}).to_list()"
      ]
    },
    {
      "cell_type": "code",
      "execution_count": null,
      "metadata": {
        "id": "E7d9nj7XCeS1"
      },
      "outputs": [],
      "source": [
        "def map_value(value):\n",
        "    if value == 0:\n",
        "        return \"Compra\"\n",
        "    else:\n",
        "        return \"Neutro\""
      ]
    },
    {
      "cell_type": "markdown",
      "metadata": {
        "id": "oWowmK-zCeS1"
      },
      "source": [
        "#### Pipeline"
      ]
    },
    {
      "cell_type": "code",
      "execution_count": null,
      "metadata": {
        "id": "CGwoDhHGCeS2"
      },
      "outputs": [],
      "source": [
        "clf_xgb = Pipeline([\n",
        "    ('vect' , CountVectorizer()),\n",
        "    ('tfidf', TfidfTransformer()),\n",
        "    ('clf'  , XGBClassifier())\n",
        "])\n",
        "\n",
        "clf_xgb_sw = Pipeline([\n",
        "    ('vect' , CountVectorizer(stop_words=stopwords_custom)),\n",
        "    ('tfidf', TfidfTransformer()),\n",
        "    ('clf'  , XGBClassifier())\n",
        "])"
      ]
    },
    {
      "cell_type": "markdown",
      "metadata": {
        "id": "MH_G77mmCeS2"
      },
      "source": [
        "#### Entrenamiento"
      ]
    },
    {
      "cell_type": "code",
      "execution_count": null,
      "metadata": {
        "id": "bfvIVcZLCeS2"
      },
      "outputs": [],
      "source": [
        "clf_xgb = clf_xgb.fit(X_train, y_train_gb)\n",
        "\n",
        "clf_xgb_sw = clf_xgb_sw.fit(X_train, y_train_gb)"
      ]
    },
    {
      "cell_type": "markdown",
      "metadata": {
        "id": "J_VVYGuwCeS2"
      },
      "source": [
        "#### Predicción (Etiquetas)"
      ]
    },
    {
      "cell_type": "code",
      "execution_count": null,
      "metadata": {
        "id": "v4JXk0iKCeS3"
      },
      "outputs": [],
      "source": [
        "y_pred_xgb = clf_xgb.predict(X_test)\n",
        "\n",
        "y_pred_xgb_sw = clf_xgb_sw.predict(X_test)"
      ]
    },
    {
      "cell_type": "markdown",
      "metadata": {
        "id": "zrgqPwupCeS3"
      },
      "source": [
        "#### Predicción (Probabilidad)"
      ]
    },
    {
      "cell_type": "code",
      "execution_count": null,
      "metadata": {
        "id": "3ue8LGhsCeS3"
      },
      "outputs": [],
      "source": [
        "y_pred_xgb_proba = clf_xgb.predict_proba(X_test)\n",
        "\n",
        "y_pred_xgb_sw_proba = clf_xgb_sw.predict_proba(X_test)"
      ]
    },
    {
      "cell_type": "markdown",
      "metadata": {
        "id": "2lU4Lna9CeS3"
      },
      "source": [
        "#### Evaluación"
      ]
    },
    {
      "cell_type": "code",
      "execution_count": null,
      "metadata": {
        "id": "iy_4TZnJCeS3",
        "outputId": "2538a2cc-67a2-4d1f-cf1a-918c540bafee",
        "colab": {
          "base_uri": "https://localhost:8080/"
        }
      },
      "outputs": [
        {
          "output_type": "stream",
          "name": "stdout",
          "text": [
            "Accuracy: 61.17%\n",
            "\n",
            "F1 Score: 57.35\n",
            "\n",
            "Confusion Matrix:\n",
            " [[53 10]\n",
            " [30 10]]\n"
          ]
        }
      ],
      "source": [
        "print(\"Accuracy: {:.2f}%\".format(accuracy_score(y_test_gb, y_pred_xgb_sw) * 100))\n",
        "print(\"\\nF1 Score: {:.2f}\".format(f1_score(y_test_gb, y_pred_xgb_sw, average='weighted') * 100))\n",
        "print(\"\\nConfusion Matrix:\\n\", confusion_matrix(y_test_gb, y_pred_xgb_sw))"
      ]
    },
    {
      "cell_type": "markdown",
      "metadata": {
        "id": "9rIhYHlBCeS4"
      },
      "source": [
        "#### Remapeo de etiquetas"
      ]
    },
    {
      "cell_type": "code",
      "execution_count": null,
      "metadata": {
        "id": "UcX-q0l9CeS4"
      },
      "outputs": [],
      "source": [
        "y_pred_xgb = [map_value(value) for value in y_pred_xgb]\n",
        "y_pred_xgb_sw = [map_value(value) for value in y_pred_xgb_sw]"
      ]
    },
    {
      "cell_type": "markdown",
      "metadata": {
        "id": "0LH-0UzzCeS4"
      },
      "source": [
        "### LightGBM"
      ]
    },
    {
      "cell_type": "markdown",
      "metadata": {
        "id": "l9We4l4dCeS4"
      },
      "source": [
        "#### Pipeline"
      ]
    },
    {
      "cell_type": "code",
      "execution_count": null,
      "metadata": {
        "id": "yAvbDMLnCeS5"
      },
      "outputs": [],
      "source": [
        "clf_lgbm = Pipeline([\n",
        "    ('vect' , CountVectorizer()),\n",
        "    ('tfidf', TfidfTransformer()),\n",
        "    ('clf'  , LGBMClassifier())\n",
        "])\n",
        "\n",
        "clf_lgbm_sw = Pipeline([\n",
        "    ('vect' , CountVectorizer(stop_words=stopwords_custom)),\n",
        "    ('tfidf', TfidfTransformer()),\n",
        "    ('clf'  , LGBMClassifier())\n",
        "])"
      ]
    },
    {
      "cell_type": "markdown",
      "metadata": {
        "id": "tzoau_6wCeS5"
      },
      "source": [
        "#### Entrenamiento"
      ]
    },
    {
      "cell_type": "code",
      "execution_count": null,
      "metadata": {
        "id": "1PvlEAplCeS5",
        "outputId": "cd6cc4e9-c452-40c2-9fd7-57dc90980199",
        "colab": {
          "base_uri": "https://localhost:8080/"
        }
      },
      "outputs": [
        {
          "output_type": "stream",
          "name": "stdout",
          "text": [
            "[LightGBM] [Info] Number of positive: 131, number of negative: 177\n",
            "[LightGBM] [Info] Auto-choosing col-wise multi-threading, the overhead of testing was 0.000288 seconds.\n",
            "You can set `force_col_wise=true` to remove the overhead.\n",
            "[LightGBM] [Info] Total Bins 1209\n",
            "[LightGBM] [Info] Number of data points in the train set: 308, number of used features: 71\n",
            "[LightGBM] [Info] [binary:BoostFromScore]: pavg=0.425325 -> initscore=-0.300952\n",
            "[LightGBM] [Info] Start training from score -0.300952\n",
            "[LightGBM] [Warning] No further splits with positive gain, best gain: -inf\n",
            "[LightGBM] [Warning] No further splits with positive gain, best gain: -inf\n",
            "[LightGBM] [Warning] No further splits with positive gain, best gain: -inf\n",
            "[LightGBM] [Warning] No further splits with positive gain, best gain: -inf\n",
            "[LightGBM] [Warning] No further splits with positive gain, best gain: -inf\n",
            "[LightGBM] [Warning] No further splits with positive gain, best gain: -inf\n",
            "[LightGBM] [Warning] No further splits with positive gain, best gain: -inf\n",
            "[LightGBM] [Warning] No further splits with positive gain, best gain: -inf\n",
            "[LightGBM] [Warning] No further splits with positive gain, best gain: -inf\n",
            "[LightGBM] [Warning] No further splits with positive gain, best gain: -inf\n",
            "[LightGBM] [Warning] No further splits with positive gain, best gain: -inf\n",
            "[LightGBM] [Warning] No further splits with positive gain, best gain: -inf\n",
            "[LightGBM] [Warning] No further splits with positive gain, best gain: -inf\n",
            "[LightGBM] [Warning] No further splits with positive gain, best gain: -inf\n",
            "[LightGBM] [Warning] No further splits with positive gain, best gain: -inf\n",
            "[LightGBM] [Warning] No further splits with positive gain, best gain: -inf\n",
            "[LightGBM] [Warning] No further splits with positive gain, best gain: -inf\n",
            "[LightGBM] [Warning] No further splits with positive gain, best gain: -inf\n",
            "[LightGBM] [Warning] No further splits with positive gain, best gain: -inf\n",
            "[LightGBM] [Warning] No further splits with positive gain, best gain: -inf\n",
            "[LightGBM] [Warning] No further splits with positive gain, best gain: -inf\n",
            "[LightGBM] [Warning] No further splits with positive gain, best gain: -inf\n",
            "[LightGBM] [Warning] No further splits with positive gain, best gain: -inf\n",
            "[LightGBM] [Warning] No further splits with positive gain, best gain: -inf\n",
            "[LightGBM] [Warning] No further splits with positive gain, best gain: -inf\n",
            "[LightGBM] [Warning] No further splits with positive gain, best gain: -inf\n",
            "[LightGBM] [Warning] No further splits with positive gain, best gain: -inf\n",
            "[LightGBM] [Warning] No further splits with positive gain, best gain: -inf\n",
            "[LightGBM] [Warning] No further splits with positive gain, best gain: -inf\n",
            "[LightGBM] [Warning] No further splits with positive gain, best gain: -inf\n",
            "[LightGBM] [Warning] No further splits with positive gain, best gain: -inf\n",
            "[LightGBM] [Warning] No further splits with positive gain, best gain: -inf\n",
            "[LightGBM] [Warning] No further splits with positive gain, best gain: -inf\n",
            "[LightGBM] [Warning] No further splits with positive gain, best gain: -inf\n",
            "[LightGBM] [Warning] No further splits with positive gain, best gain: -inf\n",
            "[LightGBM] [Warning] No further splits with positive gain, best gain: -inf\n",
            "[LightGBM] [Warning] No further splits with positive gain, best gain: -inf\n",
            "[LightGBM] [Warning] No further splits with positive gain, best gain: -inf\n",
            "[LightGBM] [Warning] No further splits with positive gain, best gain: -inf\n",
            "[LightGBM] [Warning] No further splits with positive gain, best gain: -inf\n",
            "[LightGBM] [Warning] No further splits with positive gain, best gain: -inf\n",
            "[LightGBM] [Warning] No further splits with positive gain, best gain: -inf\n",
            "[LightGBM] [Warning] No further splits with positive gain, best gain: -inf\n",
            "[LightGBM] [Warning] No further splits with positive gain, best gain: -inf\n",
            "[LightGBM] [Warning] No further splits with positive gain, best gain: -inf\n",
            "[LightGBM] [Warning] No further splits with positive gain, best gain: -inf\n",
            "[LightGBM] [Warning] No further splits with positive gain, best gain: -inf\n",
            "[LightGBM] [Warning] No further splits with positive gain, best gain: -inf\n",
            "[LightGBM] [Warning] No further splits with positive gain, best gain: -inf\n",
            "[LightGBM] [Warning] No further splits with positive gain, best gain: -inf\n",
            "[LightGBM] [Warning] No further splits with positive gain, best gain: -inf\n",
            "[LightGBM] [Warning] No further splits with positive gain, best gain: -inf\n",
            "[LightGBM] [Warning] No further splits with positive gain, best gain: -inf\n",
            "[LightGBM] [Warning] No further splits with positive gain, best gain: -inf\n",
            "[LightGBM] [Warning] No further splits with positive gain, best gain: -inf\n",
            "[LightGBM] [Warning] No further splits with positive gain, best gain: -inf\n",
            "[LightGBM] [Warning] No further splits with positive gain, best gain: -inf\n",
            "[LightGBM] [Warning] No further splits with positive gain, best gain: -inf\n",
            "[LightGBM] [Warning] No further splits with positive gain, best gain: -inf\n",
            "[LightGBM] [Warning] No further splits with positive gain, best gain: -inf\n",
            "[LightGBM] [Warning] No further splits with positive gain, best gain: -inf\n",
            "[LightGBM] [Warning] No further splits with positive gain, best gain: -inf\n",
            "[LightGBM] [Warning] No further splits with positive gain, best gain: -inf\n",
            "[LightGBM] [Warning] No further splits with positive gain, best gain: -inf\n",
            "[LightGBM] [Warning] No further splits with positive gain, best gain: -inf\n",
            "[LightGBM] [Warning] No further splits with positive gain, best gain: -inf\n",
            "[LightGBM] [Warning] No further splits with positive gain, best gain: -inf\n",
            "[LightGBM] [Warning] No further splits with positive gain, best gain: -inf\n",
            "[LightGBM] [Warning] No further splits with positive gain, best gain: -inf\n",
            "[LightGBM] [Warning] No further splits with positive gain, best gain: -inf\n",
            "[LightGBM] [Warning] No further splits with positive gain, best gain: -inf\n",
            "[LightGBM] [Warning] No further splits with positive gain, best gain: -inf\n",
            "[LightGBM] [Warning] No further splits with positive gain, best gain: -inf\n",
            "[LightGBM] [Warning] No further splits with positive gain, best gain: -inf\n",
            "[LightGBM] [Warning] No further splits with positive gain, best gain: -inf\n",
            "[LightGBM] [Warning] No further splits with positive gain, best gain: -inf\n",
            "[LightGBM] [Warning] No further splits with positive gain, best gain: -inf\n",
            "[LightGBM] [Warning] No further splits with positive gain, best gain: -inf\n",
            "[LightGBM] [Warning] No further splits with positive gain, best gain: -inf\n",
            "[LightGBM] [Warning] No further splits with positive gain, best gain: -inf\n",
            "[LightGBM] [Warning] No further splits with positive gain, best gain: -inf\n",
            "[LightGBM] [Warning] No further splits with positive gain, best gain: -inf\n",
            "[LightGBM] [Warning] No further splits with positive gain, best gain: -inf\n",
            "[LightGBM] [Warning] No further splits with positive gain, best gain: -inf\n",
            "[LightGBM] [Warning] No further splits with positive gain, best gain: -inf\n",
            "[LightGBM] [Warning] No further splits with positive gain, best gain: -inf\n",
            "[LightGBM] [Warning] No further splits with positive gain, best gain: -inf\n",
            "[LightGBM] [Warning] No further splits with positive gain, best gain: -inf\n",
            "[LightGBM] [Warning] No further splits with positive gain, best gain: -inf\n",
            "[LightGBM] [Warning] No further splits with positive gain, best gain: -inf\n",
            "[LightGBM] [Warning] No further splits with positive gain, best gain: -inf\n",
            "[LightGBM] [Warning] No further splits with positive gain, best gain: -inf\n",
            "[LightGBM] [Warning] No further splits with positive gain, best gain: -inf\n",
            "[LightGBM] [Warning] No further splits with positive gain, best gain: -inf\n",
            "[LightGBM] [Warning] No further splits with positive gain, best gain: -inf\n",
            "[LightGBM] [Warning] No further splits with positive gain, best gain: -inf\n",
            "[LightGBM] [Warning] No further splits with positive gain, best gain: -inf\n",
            "[LightGBM] [Warning] No further splits with positive gain, best gain: -inf\n",
            "[LightGBM] [Warning] No further splits with positive gain, best gain: -inf\n",
            "[LightGBM] [Warning] No further splits with positive gain, best gain: -inf\n",
            "[LightGBM] [Info] Number of positive: 131, number of negative: 177\n",
            "[LightGBM] [Info] Auto-choosing row-wise multi-threading, the overhead of testing was 0.000187 seconds.\n",
            "You can set `force_row_wise=true` to remove the overhead.\n",
            "And if memory is not enough, you can set `force_col_wise=true`.\n",
            "[LightGBM] [Info] Total Bins 592\n",
            "[LightGBM] [Info] Number of data points in the train set: 308, number of used features: 39\n",
            "[LightGBM] [Info] [binary:BoostFromScore]: pavg=0.425325 -> initscore=-0.300952\n",
            "[LightGBM] [Info] Start training from score -0.300952\n",
            "[LightGBM] [Warning] No further splits with positive gain, best gain: -inf\n",
            "[LightGBM] [Warning] No further splits with positive gain, best gain: -inf\n",
            "[LightGBM] [Warning] No further splits with positive gain, best gain: -inf\n",
            "[LightGBM] [Warning] No further splits with positive gain, best gain: -inf\n",
            "[LightGBM] [Warning] No further splits with positive gain, best gain: -inf\n",
            "[LightGBM] [Warning] No further splits with positive gain, best gain: -inf\n",
            "[LightGBM] [Warning] No further splits with positive gain, best gain: -inf\n",
            "[LightGBM] [Warning] No further splits with positive gain, best gain: -inf\n",
            "[LightGBM] [Warning] No further splits with positive gain, best gain: -inf\n",
            "[LightGBM] [Warning] No further splits with positive gain, best gain: -inf\n",
            "[LightGBM] [Warning] No further splits with positive gain, best gain: -inf\n",
            "[LightGBM] [Warning] No further splits with positive gain, best gain: -inf\n",
            "[LightGBM] [Warning] No further splits with positive gain, best gain: -inf\n",
            "[LightGBM] [Warning] No further splits with positive gain, best gain: -inf\n",
            "[LightGBM] [Warning] No further splits with positive gain, best gain: -inf\n",
            "[LightGBM] [Warning] No further splits with positive gain, best gain: -inf\n",
            "[LightGBM] [Warning] No further splits with positive gain, best gain: -inf\n",
            "[LightGBM] [Warning] No further splits with positive gain, best gain: -inf\n",
            "[LightGBM] [Warning] No further splits with positive gain, best gain: -inf\n",
            "[LightGBM] [Warning] No further splits with positive gain, best gain: -inf\n",
            "[LightGBM] [Warning] No further splits with positive gain, best gain: -inf\n",
            "[LightGBM] [Warning] No further splits with positive gain, best gain: -inf\n",
            "[LightGBM] [Warning] No further splits with positive gain, best gain: -inf\n",
            "[LightGBM] [Warning] No further splits with positive gain, best gain: -inf\n",
            "[LightGBM] [Warning] No further splits with positive gain, best gain: -inf\n",
            "[LightGBM] [Warning] No further splits with positive gain, best gain: -inf\n",
            "[LightGBM] [Warning] No further splits with positive gain, best gain: -inf\n",
            "[LightGBM] [Warning] No further splits with positive gain, best gain: -inf\n",
            "[LightGBM] [Warning] No further splits with positive gain, best gain: -inf\n",
            "[LightGBM] [Warning] No further splits with positive gain, best gain: -inf\n",
            "[LightGBM] [Warning] No further splits with positive gain, best gain: -inf\n",
            "[LightGBM] [Warning] No further splits with positive gain, best gain: -inf\n",
            "[LightGBM] [Warning] No further splits with positive gain, best gain: -inf\n",
            "[LightGBM] [Warning] No further splits with positive gain, best gain: -inf\n",
            "[LightGBM] [Warning] No further splits with positive gain, best gain: -inf\n",
            "[LightGBM] [Warning] No further splits with positive gain, best gain: -inf\n",
            "[LightGBM] [Warning] No further splits with positive gain, best gain: -inf\n",
            "[LightGBM] [Warning] No further splits with positive gain, best gain: -inf\n",
            "[LightGBM] [Warning] No further splits with positive gain, best gain: -inf\n",
            "[LightGBM] [Warning] No further splits with positive gain, best gain: -inf\n",
            "[LightGBM] [Warning] No further splits with positive gain, best gain: -inf\n",
            "[LightGBM] [Warning] No further splits with positive gain, best gain: -inf\n",
            "[LightGBM] [Warning] No further splits with positive gain, best gain: -inf\n",
            "[LightGBM] [Warning] No further splits with positive gain, best gain: -inf\n",
            "[LightGBM] [Warning] No further splits with positive gain, best gain: -inf\n",
            "[LightGBM] [Warning] No further splits with positive gain, best gain: -inf\n",
            "[LightGBM] [Warning] No further splits with positive gain, best gain: -inf\n",
            "[LightGBM] [Warning] No further splits with positive gain, best gain: -inf\n",
            "[LightGBM] [Warning] No further splits with positive gain, best gain: -inf\n",
            "[LightGBM] [Warning] No further splits with positive gain, best gain: -inf\n",
            "[LightGBM] [Warning] No further splits with positive gain, best gain: -inf\n",
            "[LightGBM] [Warning] No further splits with positive gain, best gain: -inf\n",
            "[LightGBM] [Warning] No further splits with positive gain, best gain: -inf\n",
            "[LightGBM] [Warning] No further splits with positive gain, best gain: -inf\n",
            "[LightGBM] [Warning] No further splits with positive gain, best gain: -inf\n",
            "[LightGBM] [Warning] No further splits with positive gain, best gain: -inf\n",
            "[LightGBM] [Warning] No further splits with positive gain, best gain: -inf\n",
            "[LightGBM] [Warning] No further splits with positive gain, best gain: -inf\n",
            "[LightGBM] [Warning] No further splits with positive gain, best gain: -inf\n",
            "[LightGBM] [Warning] No further splits with positive gain, best gain: -inf\n",
            "[LightGBM] [Warning] No further splits with positive gain, best gain: -inf\n",
            "[LightGBM] [Warning] No further splits with positive gain, best gain: -inf\n",
            "[LightGBM] [Warning] No further splits with positive gain, best gain: -inf\n",
            "[LightGBM] [Warning] No further splits with positive gain, best gain: -inf\n",
            "[LightGBM] [Warning] No further splits with positive gain, best gain: -inf\n",
            "[LightGBM] [Warning] No further splits with positive gain, best gain: -inf\n",
            "[LightGBM] [Warning] No further splits with positive gain, best gain: -inf\n",
            "[LightGBM] [Warning] No further splits with positive gain, best gain: -inf\n",
            "[LightGBM] [Warning] No further splits with positive gain, best gain: -inf\n",
            "[LightGBM] [Warning] No further splits with positive gain, best gain: -inf\n",
            "[LightGBM] [Warning] No further splits with positive gain, best gain: -inf\n",
            "[LightGBM] [Warning] No further splits with positive gain, best gain: -inf\n",
            "[LightGBM] [Warning] No further splits with positive gain, best gain: -inf\n",
            "[LightGBM] [Warning] No further splits with positive gain, best gain: -inf\n",
            "[LightGBM] [Warning] No further splits with positive gain, best gain: -inf\n",
            "[LightGBM] [Warning] No further splits with positive gain, best gain: -inf\n",
            "[LightGBM] [Warning] No further splits with positive gain, best gain: -inf\n",
            "[LightGBM] [Warning] No further splits with positive gain, best gain: -inf\n",
            "[LightGBM] [Warning] No further splits with positive gain, best gain: -inf\n",
            "[LightGBM] [Warning] No further splits with positive gain, best gain: -inf\n",
            "[LightGBM] [Warning] No further splits with positive gain, best gain: -inf\n",
            "[LightGBM] [Warning] No further splits with positive gain, best gain: -inf\n",
            "[LightGBM] [Warning] No further splits with positive gain, best gain: -inf\n",
            "[LightGBM] [Warning] No further splits with positive gain, best gain: -inf\n",
            "[LightGBM] [Warning] No further splits with positive gain, best gain: -inf\n",
            "[LightGBM] [Warning] No further splits with positive gain, best gain: -inf\n",
            "[LightGBM] [Warning] No further splits with positive gain, best gain: -inf\n",
            "[LightGBM] [Warning] No further splits with positive gain, best gain: -inf\n",
            "[LightGBM] [Warning] No further splits with positive gain, best gain: -inf\n",
            "[LightGBM] [Warning] No further splits with positive gain, best gain: -inf\n",
            "[LightGBM] [Warning] No further splits with positive gain, best gain: -inf\n",
            "[LightGBM] [Warning] No further splits with positive gain, best gain: -inf\n",
            "[LightGBM] [Warning] No further splits with positive gain, best gain: -inf\n",
            "[LightGBM] [Warning] No further splits with positive gain, best gain: -inf\n",
            "[LightGBM] [Warning] No further splits with positive gain, best gain: -inf\n",
            "[LightGBM] [Warning] No further splits with positive gain, best gain: -inf\n",
            "[LightGBM] [Warning] No further splits with positive gain, best gain: -inf\n",
            "[LightGBM] [Warning] No further splits with positive gain, best gain: -inf\n",
            "[LightGBM] [Warning] No further splits with positive gain, best gain: -inf\n",
            "[LightGBM] [Warning] No further splits with positive gain, best gain: -inf\n"
          ]
        }
      ],
      "source": [
        "clf_lgbm = clf_lgbm.fit(X_train, y_train_gb)\n",
        "\n",
        "clf_lgbm_sw = clf_lgbm_sw.fit(X_train, y_train_gb)"
      ]
    },
    {
      "cell_type": "markdown",
      "metadata": {
        "id": "IzJgJ2ExCeS5"
      },
      "source": [
        "#### Predicción (Etiquetas)"
      ]
    },
    {
      "cell_type": "code",
      "execution_count": null,
      "metadata": {
        "id": "z8Gqehe0CeS5"
      },
      "outputs": [],
      "source": [
        "y_pred_lgbm = clf_lgbm.predict(X_test)\n",
        "\n",
        "y_pred_lgbm_sw = clf_lgbm_sw.predict(X_test)"
      ]
    },
    {
      "cell_type": "markdown",
      "metadata": {
        "id": "wHEl_xZ0CeS6"
      },
      "source": [
        "#### Predicción (Probabilidad)"
      ]
    },
    {
      "cell_type": "code",
      "execution_count": null,
      "metadata": {
        "id": "oj36mQbYCeS6"
      },
      "outputs": [],
      "source": [
        "y_pred_lgbm_proba = clf_lgbm.predict_proba(X_test)\n",
        "\n",
        "y_pred_lgbm_sw_proba = clf_lgbm_sw.predict_proba(X_test)"
      ]
    },
    {
      "cell_type": "markdown",
      "metadata": {
        "id": "QCt_UkuvCeS6"
      },
      "source": [
        "#### Evaluación"
      ]
    },
    {
      "cell_type": "code",
      "execution_count": null,
      "metadata": {
        "id": "EszDCezdCeS6",
        "outputId": "bdb5019e-2993-4622-c29d-64f1ac4ffbe8",
        "colab": {
          "base_uri": "https://localhost:8080/"
        }
      },
      "outputs": [
        {
          "output_type": "stream",
          "name": "stdout",
          "text": [
            "Accuracy: 57.28%\n",
            "\n",
            "F1 Score: 54.35\n",
            "\n",
            "Confusion Matrix:\n",
            " [[49 14]\n",
            " [30 10]]\n"
          ]
        }
      ],
      "source": [
        "print(\"Accuracy: {:.2f}%\".format(accuracy_score(y_test_gb, y_pred_lgbm_sw) * 100))\n",
        "print(\"\\nF1 Score: {:.2f}\".format(f1_score(y_test_gb, y_pred_lgbm_sw, average='weighted') * 100))\n",
        "print(\"\\nConfusion Matrix:\\n\", confusion_matrix(y_test_gb, y_pred_lgbm_sw))"
      ]
    },
    {
      "cell_type": "markdown",
      "metadata": {
        "id": "8i-gGxesCeS7"
      },
      "source": [
        "#### Remapeo de etiquetas"
      ]
    },
    {
      "cell_type": "code",
      "execution_count": null,
      "metadata": {
        "id": "DCttBIC8CeS7"
      },
      "outputs": [],
      "source": [
        "y_pred_lgbm = [map_value(value) for value in y_pred_lgbm]\n",
        "y_pred_lgbm_sw = [map_value(value) for value in y_pred_lgbm_sw]"
      ]
    },
    {
      "cell_type": "markdown",
      "metadata": {
        "id": "SYWt_oATCeS7"
      },
      "source": [
        "### Word2Vec"
      ]
    },
    {
      "cell_type": "code",
      "source": [
        "import gensim\n",
        "from google.colab import drive"
      ],
      "metadata": {
        "id": "5xdNRxFy-aTF"
      },
      "execution_count": null,
      "outputs": []
    },
    {
      "cell_type": "code",
      "source": [
        "drive.mount('/content/drive')\n",
        "path_to_model = '/content/drive/My Drive/GoogleNews-vectors-negative300.bin.gz'"
      ],
      "metadata": {
        "id": "eWQriI0w-fQe",
        "outputId": "267b77f7-6d87-4857-c489-8942cbc3471d",
        "colab": {
          "base_uri": "https://localhost:8080/"
        }
      },
      "execution_count": null,
      "outputs": [
        {
          "output_type": "stream",
          "name": "stdout",
          "text": [
            "Mounted at /content/drive\n"
          ]
        }
      ]
    },
    {
      "cell_type": "code",
      "execution_count": null,
      "metadata": {
        "id": "xeI_c1VdCeS8"
      },
      "outputs": [],
      "source": [
        "GoogleModel = gensim.models.KeyedVectors.load_word2vec_format(path_to_model, binary = True)"
      ]
    },
    {
      "cell_type": "code",
      "execution_count": null,
      "metadata": {
        "id": "3Fn7I2zRCeS8"
      },
      "outputs": [],
      "source": [
        "\n",
        "corpus = data['Text'].values\n",
        "\n",
        "vectorizer = CountVectorizer(stop_words = stopwords_custom)\n",
        "\n",
        "X = vectorizer.fit_transform(corpus)\n",
        "\n",
        "CountVectorizedData = pd.DataFrame(X.toarray(), columns = vectorizer.get_feature_names_out())\n",
        "CountVectorizedData['Category'] = data['Category']\n",
        "CountVectorizedData['Split'] = data['Train/Test']\n",
        "\n",
        "WordsVocab = CountVectorizedData.columns[:-2]"
      ]
    },
    {
      "cell_type": "code",
      "execution_count": null,
      "metadata": {
        "id": "XzmoMScMCeS8"
      },
      "outputs": [],
      "source": [
        "def FunctionText2Vec(inpTextData):\n",
        "    X = vectorizer.transform(inpTextData)\n",
        "    CountVecData=pd.DataFrame(X.toarray(), columns=vectorizer.get_feature_names_out())\n",
        "\n",
        "    W2Vec_Data=pd.DataFrame()\n",
        "\n",
        "    for i in range(CountVecData.shape[0]):\n",
        "\n",
        "        Sentence = np.zeros(300)\n",
        "\n",
        "        for word in WordsVocab[CountVecData.iloc[i , :]>=1]:\n",
        "            if word in GoogleModel.key_to_index.keys():\n",
        "                Sentence = Sentence+GoogleModel[word]\n",
        "        #W2Vec_Data=W2Vec_Data.concat(pd.DataFrame([Sentence])) #Original\n",
        "        W2Vec_Data = pd.concat([W2Vec_Data, pd.DataFrame([Sentence])], ignore_index = True) #New pandas\n",
        "    return(W2Vec_Data)"
      ]
    },
    {
      "cell_type": "code",
      "execution_count": null,
      "metadata": {
        "id": "sPdLKEqYCeS8"
      },
      "outputs": [],
      "source": [
        "W2Vec_Data = FunctionText2Vec(data['Text'])"
      ]
    },
    {
      "cell_type": "code",
      "execution_count": null,
      "metadata": {
        "id": "W-bwk31OCeS9",
        "outputId": "3821ae53-c229-4553-d6eb-d4dcf5450b04",
        "colab": {
          "base_uri": "https://localhost:8080/",
          "height": 256
        }
      },
      "outputs": [
        {
          "output_type": "execute_result",
          "data": {
            "text/plain": [
              "          0         1         2         3         4         5         6  \\\n",
              "0  0.704742  0.123962 -0.329865  1.512207 -0.938599 -0.164551  0.758057   \n",
              "1  0.462173  1.174133 -0.854599  3.259815  0.027222 -1.480225 -0.077595   \n",
              "2 -0.506256  1.399048 -0.139923  1.187988  0.985992 -0.651932  0.527161   \n",
              "3  0.521179  3.576294 -0.840271  2.756531 -0.318878 -1.422962 -0.738220   \n",
              "4 -0.395264 -0.218018 -0.333374  0.566162 -0.039185 -0.017822 -0.126831   \n",
              "\n",
              "          7         8         9  ...       292       293       294       295  \\\n",
              "0 -1.396729  1.588715  0.363380  ... -1.055359 -0.042969  1.245850  0.340347   \n",
              "1 -2.732178  1.316330  3.248169  ... -1.841553  0.503105  0.040226  0.099289   \n",
              "2 -1.870514  2.762037  0.674011  ... -2.046478  1.026718  0.534546  1.308350   \n",
              "3 -4.835449  4.320343  1.637817  ... -3.883850  0.669556 -1.292068  1.516602   \n",
              "4 -0.508163  1.509720  0.551758  ...  0.451538  0.445801  0.049438  0.282715   \n",
              "\n",
              "        296       297       298       299  Category  Split  \n",
              "0  1.127197  0.627106  0.462524  0.579224    Compra  Train  \n",
              "1 -0.667847 -0.017151  2.397980  0.920532    Neutro  Train  \n",
              "2  0.417847  0.715240  0.165283 -0.604919    Neutro  Train  \n",
              "3 -2.763733  0.919098  2.354431  0.460266    Neutro  Train  \n",
              "4 -0.964966 -0.007996 -0.302246 -0.191772    Neutro  Train  \n",
              "\n",
              "[5 rows x 302 columns]"
            ],
            "text/html": [
              "\n",
              "  <div id=\"df-dfe613a3-aaac-4c79-b8f4-e2338eab8005\" class=\"colab-df-container\">\n",
              "    <div>\n",
              "<style scoped>\n",
              "    .dataframe tbody tr th:only-of-type {\n",
              "        vertical-align: middle;\n",
              "    }\n",
              "\n",
              "    .dataframe tbody tr th {\n",
              "        vertical-align: top;\n",
              "    }\n",
              "\n",
              "    .dataframe thead th {\n",
              "        text-align: right;\n",
              "    }\n",
              "</style>\n",
              "<table border=\"1\" class=\"dataframe\">\n",
              "  <thead>\n",
              "    <tr style=\"text-align: right;\">\n",
              "      <th></th>\n",
              "      <th>0</th>\n",
              "      <th>1</th>\n",
              "      <th>2</th>\n",
              "      <th>3</th>\n",
              "      <th>4</th>\n",
              "      <th>5</th>\n",
              "      <th>6</th>\n",
              "      <th>7</th>\n",
              "      <th>8</th>\n",
              "      <th>9</th>\n",
              "      <th>...</th>\n",
              "      <th>292</th>\n",
              "      <th>293</th>\n",
              "      <th>294</th>\n",
              "      <th>295</th>\n",
              "      <th>296</th>\n",
              "      <th>297</th>\n",
              "      <th>298</th>\n",
              "      <th>299</th>\n",
              "      <th>Category</th>\n",
              "      <th>Split</th>\n",
              "    </tr>\n",
              "  </thead>\n",
              "  <tbody>\n",
              "    <tr>\n",
              "      <th>0</th>\n",
              "      <td>0.704742</td>\n",
              "      <td>0.123962</td>\n",
              "      <td>-0.329865</td>\n",
              "      <td>1.512207</td>\n",
              "      <td>-0.938599</td>\n",
              "      <td>-0.164551</td>\n",
              "      <td>0.758057</td>\n",
              "      <td>-1.396729</td>\n",
              "      <td>1.588715</td>\n",
              "      <td>0.363380</td>\n",
              "      <td>...</td>\n",
              "      <td>-1.055359</td>\n",
              "      <td>-0.042969</td>\n",
              "      <td>1.245850</td>\n",
              "      <td>0.340347</td>\n",
              "      <td>1.127197</td>\n",
              "      <td>0.627106</td>\n",
              "      <td>0.462524</td>\n",
              "      <td>0.579224</td>\n",
              "      <td>Compra</td>\n",
              "      <td>Train</td>\n",
              "    </tr>\n",
              "    <tr>\n",
              "      <th>1</th>\n",
              "      <td>0.462173</td>\n",
              "      <td>1.174133</td>\n",
              "      <td>-0.854599</td>\n",
              "      <td>3.259815</td>\n",
              "      <td>0.027222</td>\n",
              "      <td>-1.480225</td>\n",
              "      <td>-0.077595</td>\n",
              "      <td>-2.732178</td>\n",
              "      <td>1.316330</td>\n",
              "      <td>3.248169</td>\n",
              "      <td>...</td>\n",
              "      <td>-1.841553</td>\n",
              "      <td>0.503105</td>\n",
              "      <td>0.040226</td>\n",
              "      <td>0.099289</td>\n",
              "      <td>-0.667847</td>\n",
              "      <td>-0.017151</td>\n",
              "      <td>2.397980</td>\n",
              "      <td>0.920532</td>\n",
              "      <td>Neutro</td>\n",
              "      <td>Train</td>\n",
              "    </tr>\n",
              "    <tr>\n",
              "      <th>2</th>\n",
              "      <td>-0.506256</td>\n",
              "      <td>1.399048</td>\n",
              "      <td>-0.139923</td>\n",
              "      <td>1.187988</td>\n",
              "      <td>0.985992</td>\n",
              "      <td>-0.651932</td>\n",
              "      <td>0.527161</td>\n",
              "      <td>-1.870514</td>\n",
              "      <td>2.762037</td>\n",
              "      <td>0.674011</td>\n",
              "      <td>...</td>\n",
              "      <td>-2.046478</td>\n",
              "      <td>1.026718</td>\n",
              "      <td>0.534546</td>\n",
              "      <td>1.308350</td>\n",
              "      <td>0.417847</td>\n",
              "      <td>0.715240</td>\n",
              "      <td>0.165283</td>\n",
              "      <td>-0.604919</td>\n",
              "      <td>Neutro</td>\n",
              "      <td>Train</td>\n",
              "    </tr>\n",
              "    <tr>\n",
              "      <th>3</th>\n",
              "      <td>0.521179</td>\n",
              "      <td>3.576294</td>\n",
              "      <td>-0.840271</td>\n",
              "      <td>2.756531</td>\n",
              "      <td>-0.318878</td>\n",
              "      <td>-1.422962</td>\n",
              "      <td>-0.738220</td>\n",
              "      <td>-4.835449</td>\n",
              "      <td>4.320343</td>\n",
              "      <td>1.637817</td>\n",
              "      <td>...</td>\n",
              "      <td>-3.883850</td>\n",
              "      <td>0.669556</td>\n",
              "      <td>-1.292068</td>\n",
              "      <td>1.516602</td>\n",
              "      <td>-2.763733</td>\n",
              "      <td>0.919098</td>\n",
              "      <td>2.354431</td>\n",
              "      <td>0.460266</td>\n",
              "      <td>Neutro</td>\n",
              "      <td>Train</td>\n",
              "    </tr>\n",
              "    <tr>\n",
              "      <th>4</th>\n",
              "      <td>-0.395264</td>\n",
              "      <td>-0.218018</td>\n",
              "      <td>-0.333374</td>\n",
              "      <td>0.566162</td>\n",
              "      <td>-0.039185</td>\n",
              "      <td>-0.017822</td>\n",
              "      <td>-0.126831</td>\n",
              "      <td>-0.508163</td>\n",
              "      <td>1.509720</td>\n",
              "      <td>0.551758</td>\n",
              "      <td>...</td>\n",
              "      <td>0.451538</td>\n",
              "      <td>0.445801</td>\n",
              "      <td>0.049438</td>\n",
              "      <td>0.282715</td>\n",
              "      <td>-0.964966</td>\n",
              "      <td>-0.007996</td>\n",
              "      <td>-0.302246</td>\n",
              "      <td>-0.191772</td>\n",
              "      <td>Neutro</td>\n",
              "      <td>Train</td>\n",
              "    </tr>\n",
              "  </tbody>\n",
              "</table>\n",
              "<p>5 rows × 302 columns</p>\n",
              "</div>\n",
              "    <div class=\"colab-df-buttons\">\n",
              "\n",
              "  <div class=\"colab-df-container\">\n",
              "    <button class=\"colab-df-convert\" onclick=\"convertToInteractive('df-dfe613a3-aaac-4c79-b8f4-e2338eab8005')\"\n",
              "            title=\"Convert this dataframe to an interactive table.\"\n",
              "            style=\"display:none;\">\n",
              "\n",
              "  <svg xmlns=\"http://www.w3.org/2000/svg\" height=\"24px\" viewBox=\"0 -960 960 960\">\n",
              "    <path d=\"M120-120v-720h720v720H120Zm60-500h600v-160H180v160Zm220 220h160v-160H400v160Zm0 220h160v-160H400v160ZM180-400h160v-160H180v160Zm440 0h160v-160H620v160ZM180-180h160v-160H180v160Zm440 0h160v-160H620v160Z\"/>\n",
              "  </svg>\n",
              "    </button>\n",
              "\n",
              "  <style>\n",
              "    .colab-df-container {\n",
              "      display:flex;\n",
              "      gap: 12px;\n",
              "    }\n",
              "\n",
              "    .colab-df-convert {\n",
              "      background-color: #E8F0FE;\n",
              "      border: none;\n",
              "      border-radius: 50%;\n",
              "      cursor: pointer;\n",
              "      display: none;\n",
              "      fill: #1967D2;\n",
              "      height: 32px;\n",
              "      padding: 0 0 0 0;\n",
              "      width: 32px;\n",
              "    }\n",
              "\n",
              "    .colab-df-convert:hover {\n",
              "      background-color: #E2EBFA;\n",
              "      box-shadow: 0px 1px 2px rgba(60, 64, 67, 0.3), 0px 1px 3px 1px rgba(60, 64, 67, 0.15);\n",
              "      fill: #174EA6;\n",
              "    }\n",
              "\n",
              "    .colab-df-buttons div {\n",
              "      margin-bottom: 4px;\n",
              "    }\n",
              "\n",
              "    [theme=dark] .colab-df-convert {\n",
              "      background-color: #3B4455;\n",
              "      fill: #D2E3FC;\n",
              "    }\n",
              "\n",
              "    [theme=dark] .colab-df-convert:hover {\n",
              "      background-color: #434B5C;\n",
              "      box-shadow: 0px 1px 3px 1px rgba(0, 0, 0, 0.15);\n",
              "      filter: drop-shadow(0px 1px 2px rgba(0, 0, 0, 0.3));\n",
              "      fill: #FFFFFF;\n",
              "    }\n",
              "  </style>\n",
              "\n",
              "    <script>\n",
              "      const buttonEl =\n",
              "        document.querySelector('#df-dfe613a3-aaac-4c79-b8f4-e2338eab8005 button.colab-df-convert');\n",
              "      buttonEl.style.display =\n",
              "        google.colab.kernel.accessAllowed ? 'block' : 'none';\n",
              "\n",
              "      async function convertToInteractive(key) {\n",
              "        const element = document.querySelector('#df-dfe613a3-aaac-4c79-b8f4-e2338eab8005');\n",
              "        const dataTable =\n",
              "          await google.colab.kernel.invokeFunction('convertToInteractive',\n",
              "                                                    [key], {});\n",
              "        if (!dataTable) return;\n",
              "\n",
              "        const docLinkHtml = 'Like what you see? Visit the ' +\n",
              "          '<a target=\"_blank\" href=https://colab.research.google.com/notebooks/data_table.ipynb>data table notebook</a>'\n",
              "          + ' to learn more about interactive tables.';\n",
              "        element.innerHTML = '';\n",
              "        dataTable['output_type'] = 'display_data';\n",
              "        await google.colab.output.renderOutput(dataTable, element);\n",
              "        const docLink = document.createElement('div');\n",
              "        docLink.innerHTML = docLinkHtml;\n",
              "        element.appendChild(docLink);\n",
              "      }\n",
              "    </script>\n",
              "  </div>\n",
              "\n",
              "\n",
              "<div id=\"df-31e45baa-b191-46ae-a953-57754f780823\">\n",
              "  <button class=\"colab-df-quickchart\" onclick=\"quickchart('df-31e45baa-b191-46ae-a953-57754f780823')\"\n",
              "            title=\"Suggest charts\"\n",
              "            style=\"display:none;\">\n",
              "\n",
              "<svg xmlns=\"http://www.w3.org/2000/svg\" height=\"24px\"viewBox=\"0 0 24 24\"\n",
              "     width=\"24px\">\n",
              "    <g>\n",
              "        <path d=\"M19 3H5c-1.1 0-2 .9-2 2v14c0 1.1.9 2 2 2h14c1.1 0 2-.9 2-2V5c0-1.1-.9-2-2-2zM9 17H7v-7h2v7zm4 0h-2V7h2v10zm4 0h-2v-4h2v4z\"/>\n",
              "    </g>\n",
              "</svg>\n",
              "  </button>\n",
              "\n",
              "<style>\n",
              "  .colab-df-quickchart {\n",
              "      --bg-color: #E8F0FE;\n",
              "      --fill-color: #1967D2;\n",
              "      --hover-bg-color: #E2EBFA;\n",
              "      --hover-fill-color: #174EA6;\n",
              "      --disabled-fill-color: #AAA;\n",
              "      --disabled-bg-color: #DDD;\n",
              "  }\n",
              "\n",
              "  [theme=dark] .colab-df-quickchart {\n",
              "      --bg-color: #3B4455;\n",
              "      --fill-color: #D2E3FC;\n",
              "      --hover-bg-color: #434B5C;\n",
              "      --hover-fill-color: #FFFFFF;\n",
              "      --disabled-bg-color: #3B4455;\n",
              "      --disabled-fill-color: #666;\n",
              "  }\n",
              "\n",
              "  .colab-df-quickchart {\n",
              "    background-color: var(--bg-color);\n",
              "    border: none;\n",
              "    border-radius: 50%;\n",
              "    cursor: pointer;\n",
              "    display: none;\n",
              "    fill: var(--fill-color);\n",
              "    height: 32px;\n",
              "    padding: 0;\n",
              "    width: 32px;\n",
              "  }\n",
              "\n",
              "  .colab-df-quickchart:hover {\n",
              "    background-color: var(--hover-bg-color);\n",
              "    box-shadow: 0 1px 2px rgba(60, 64, 67, 0.3), 0 1px 3px 1px rgba(60, 64, 67, 0.15);\n",
              "    fill: var(--button-hover-fill-color);\n",
              "  }\n",
              "\n",
              "  .colab-df-quickchart-complete:disabled,\n",
              "  .colab-df-quickchart-complete:disabled:hover {\n",
              "    background-color: var(--disabled-bg-color);\n",
              "    fill: var(--disabled-fill-color);\n",
              "    box-shadow: none;\n",
              "  }\n",
              "\n",
              "  .colab-df-spinner {\n",
              "    border: 2px solid var(--fill-color);\n",
              "    border-color: transparent;\n",
              "    border-bottom-color: var(--fill-color);\n",
              "    animation:\n",
              "      spin 1s steps(1) infinite;\n",
              "  }\n",
              "\n",
              "  @keyframes spin {\n",
              "    0% {\n",
              "      border-color: transparent;\n",
              "      border-bottom-color: var(--fill-color);\n",
              "      border-left-color: var(--fill-color);\n",
              "    }\n",
              "    20% {\n",
              "      border-color: transparent;\n",
              "      border-left-color: var(--fill-color);\n",
              "      border-top-color: var(--fill-color);\n",
              "    }\n",
              "    30% {\n",
              "      border-color: transparent;\n",
              "      border-left-color: var(--fill-color);\n",
              "      border-top-color: var(--fill-color);\n",
              "      border-right-color: var(--fill-color);\n",
              "    }\n",
              "    40% {\n",
              "      border-color: transparent;\n",
              "      border-right-color: var(--fill-color);\n",
              "      border-top-color: var(--fill-color);\n",
              "    }\n",
              "    60% {\n",
              "      border-color: transparent;\n",
              "      border-right-color: var(--fill-color);\n",
              "    }\n",
              "    80% {\n",
              "      border-color: transparent;\n",
              "      border-right-color: var(--fill-color);\n",
              "      border-bottom-color: var(--fill-color);\n",
              "    }\n",
              "    90% {\n",
              "      border-color: transparent;\n",
              "      border-bottom-color: var(--fill-color);\n",
              "    }\n",
              "  }\n",
              "</style>\n",
              "\n",
              "  <script>\n",
              "    async function quickchart(key) {\n",
              "      const quickchartButtonEl =\n",
              "        document.querySelector('#' + key + ' button');\n",
              "      quickchartButtonEl.disabled = true;  // To prevent multiple clicks.\n",
              "      quickchartButtonEl.classList.add('colab-df-spinner');\n",
              "      try {\n",
              "        const charts = await google.colab.kernel.invokeFunction(\n",
              "            'suggestCharts', [key], {});\n",
              "      } catch (error) {\n",
              "        console.error('Error during call to suggestCharts:', error);\n",
              "      }\n",
              "      quickchartButtonEl.classList.remove('colab-df-spinner');\n",
              "      quickchartButtonEl.classList.add('colab-df-quickchart-complete');\n",
              "    }\n",
              "    (() => {\n",
              "      let quickchartButtonEl =\n",
              "        document.querySelector('#df-31e45baa-b191-46ae-a953-57754f780823 button');\n",
              "      quickchartButtonEl.style.display =\n",
              "        google.colab.kernel.accessAllowed ? 'block' : 'none';\n",
              "    })();\n",
              "  </script>\n",
              "</div>\n",
              "\n",
              "    </div>\n",
              "  </div>\n"
            ],
            "application/vnd.google.colaboratory.intrinsic+json": {
              "type": "dataframe",
              "variable_name": "DataForML"
            }
          },
          "metadata": {},
          "execution_count": 62
        }
      ],
      "source": [
        "W2Vec_Data.reset_index(inplace = True, drop = True)\n",
        "W2Vec_Data['Category'] = CountVectorizedData['Category']\n",
        "W2Vec_Data['Split'] = CountVectorizedData['Split']\n",
        "\n",
        "#Guardo en una nueva variable\n",
        "DataForML = W2Vec_Data\n",
        "DataForML.head()"
      ]
    },
    {
      "cell_type": "code",
      "execution_count": null,
      "metadata": {
        "id": "GZoaosEGCeS9"
      },
      "outputs": [],
      "source": [
        "TargetVariable = DataForML.columns[-2]\n",
        "Predictors = DataForML.columns[:-2]\n",
        "\n",
        "X = DataForML[Predictors].values\n",
        "y = DataForML[TargetVariable].values\n",
        "\n",
        "train_mask = DataForML['Split'] == 'Train'\n",
        "test_mask = DataForML['Split'] == 'Test'\n",
        "\n",
        "X_train = DataForML[train_mask][Predictors].values\n",
        "y_train = DataForML[train_mask][TargetVariable].values\n",
        "X_test = DataForML[test_mask][Predictors].values\n",
        "y_test = DataForML[test_mask][TargetVariable].values\n",
        "\n",
        "#Normalizo para los modelos de ML\n",
        "scaler = MinMaxScaler()\n",
        "\n",
        "X_train = scaler.fit_transform(X_train)\n",
        "X_test = scaler.transform(X_test)"
      ]
    },
    {
      "cell_type": "code",
      "execution_count": null,
      "metadata": {
        "id": "-iPgNahfCeS9"
      },
      "outputs": [],
      "source": [
        "w2v_results = {}"
      ]
    },
    {
      "cell_type": "markdown",
      "metadata": {
        "id": "Vbq1_sv1CeTA"
      },
      "source": [
        "#### Naive Bayes"
      ]
    },
    {
      "cell_type": "code",
      "execution_count": null,
      "metadata": {
        "id": "R5sMNrGLCeTA",
        "outputId": "290c365d-a43c-4078-e90c-f46dc3ab8ff1",
        "colab": {
          "base_uri": "https://localhost:8080/"
        }
      },
      "outputs": [
        {
          "output_type": "stream",
          "name": "stdout",
          "text": [
            "              precision    recall  f1-score   support\n",
            "\n",
            "      Compra       0.65      0.92      0.76        63\n",
            "      Neutro       0.64      0.23      0.33        40\n",
            "\n",
            "    accuracy                           0.65       103\n",
            "   macro avg       0.65      0.57      0.55       103\n",
            "weighted avg       0.65      0.65      0.60       103\n",
            "\n",
            "-----------------------------------------------------\n",
            "[[58 31]\n",
            " [ 5  9]]\n",
            "-----------------------------------------------------\n",
            "Accuracy en TEST data: 0.6\n"
          ]
        }
      ],
      "source": [
        "clf = MultinomialNB()\n",
        "\n",
        "#Entranamiento y predicción\n",
        "NB = clf.fit(X_train, y_train)\n",
        "prediction = NB.predict(X_test)\n",
        "\n",
        "print(classification_report(y_test, prediction))\n",
        "print('-----------------------------------------------------')\n",
        "print(confusion_matrix(prediction, y_test))\n",
        "print('-----------------------------------------------------')\n",
        "F1_Score = f1_score(y_test, prediction, average = 'weighted')\n",
        "print('Accuracy en TEST data:', round(F1_Score,2))\n",
        "\n",
        "w2v_results['Naive Bayes'] = round(F1_Score,2)"
      ]
    },
    {
      "cell_type": "markdown",
      "metadata": {
        "id": "ay8_5J66CeTA"
      },
      "source": [
        "#### KNN (K-Nearest Neighbor)"
      ]
    },
    {
      "cell_type": "code",
      "execution_count": null,
      "metadata": {
        "id": "PakywrbmCeTA",
        "outputId": "96c918f4-03ac-4fbd-8cbf-ef5bd3ed7cdf",
        "colab": {
          "base_uri": "https://localhost:8080/"
        }
      },
      "outputs": [
        {
          "output_type": "stream",
          "name": "stdout",
          "text": [
            "              precision    recall  f1-score   support\n",
            "\n",
            "      Compra       0.64      0.97      0.77        63\n",
            "      Neutro       0.75      0.15      0.25        40\n",
            "\n",
            "    accuracy                           0.65       103\n",
            "   macro avg       0.70      0.56      0.51       103\n",
            "weighted avg       0.68      0.65      0.57       103\n",
            "\n",
            "-----------------------------------------------------\n",
            "[[61 34]\n",
            " [ 2  6]]\n",
            "-----------------------------------------------------\n",
            "Accuracy en TEST data: 0.57\n"
          ]
        }
      ],
      "source": [
        "clf = KNeighborsClassifier(n_neighbors=15)\n",
        "\n",
        "#Entranamiento y predicción\n",
        "KNN = clf.fit(X_train,y_train)\n",
        "prediction = KNN.predict(X_test)\n",
        "\n",
        "print(classification_report(y_test, prediction))\n",
        "print('-----------------------------------------------------')\n",
        "print(confusion_matrix(prediction, y_test))\n",
        "print('-----------------------------------------------------')\n",
        "F1_Score = f1_score(y_test, prediction, average = 'weighted')\n",
        "print('Accuracy en TEST data:', round(F1_Score,2))\n",
        "\n",
        "w2v_results['KNN'] = round(F1_Score,2)"
      ]
    },
    {
      "cell_type": "markdown",
      "metadata": {
        "id": "JcACy-59CeTB"
      },
      "source": [
        "#### Regresión Logística"
      ]
    },
    {
      "cell_type": "code",
      "execution_count": null,
      "metadata": {
        "id": "tDUaK7h7CeTB",
        "outputId": "4230b846-d587-40f6-a41a-4245de5f6fe9",
        "colab": {
          "base_uri": "https://localhost:8080/"
        }
      },
      "outputs": [
        {
          "output_type": "stream",
          "name": "stdout",
          "text": [
            "              precision    recall  f1-score   support\n",
            "\n",
            "      Compra       0.65      0.73      0.69        63\n",
            "      Neutro       0.47      0.38      0.42        40\n",
            "\n",
            "    accuracy                           0.59       103\n",
            "   macro avg       0.56      0.55      0.55       103\n",
            "weighted avg       0.58      0.59      0.58       103\n",
            "\n",
            "-----------------------------------------------------\n",
            "[[46 25]\n",
            " [17 15]]\n",
            "-----------------------------------------------------\n",
            "Accuracy en TEST data: 0.58\n"
          ]
        }
      ],
      "source": [
        "#'newton-cg', 'lbfgs', 'liblinear', 'sag', 'saga'\n",
        "clf = LogisticRegression(C=10,penalty='l2', solver='newton-cg')\n",
        "\n",
        "LOG = clf.fit(X_train,y_train)\n",
        "prediction = LOG.predict(X_test)\n",
        "\n",
        "print(classification_report(y_test, prediction))\n",
        "print('-----------------------------------------------------')\n",
        "print(confusion_matrix(prediction, y_test))\n",
        "print('-----------------------------------------------------')\n",
        "F1_Score = f1_score(y_test, prediction, average = 'weighted')\n",
        "print('Accuracy en TEST data:', round(F1_Score,2))\n",
        "\n",
        "w2v_results['Logistic Regression'] = round(F1_Score,2)"
      ]
    },
    {
      "cell_type": "markdown",
      "metadata": {
        "id": "ZhvyME4qCeTB"
      },
      "source": [
        "#### Árbol de Decisión"
      ]
    },
    {
      "cell_type": "code",
      "execution_count": null,
      "metadata": {
        "id": "ejqSJx96CeTC",
        "outputId": "bc735dfc-06e2-41dd-e83a-87b78da7d3d0",
        "colab": {
          "base_uri": "https://localhost:8080/"
        }
      },
      "outputs": [
        {
          "output_type": "stream",
          "name": "stdout",
          "text": [
            "              precision    recall  f1-score   support\n",
            "\n",
            "      Compra       0.70      0.68      0.69        63\n",
            "      Neutro       0.52      0.55      0.54        40\n",
            "\n",
            "    accuracy                           0.63       103\n",
            "   macro avg       0.61      0.62      0.62       103\n",
            "weighted avg       0.63      0.63      0.63       103\n",
            "\n",
            "-----------------------------------------------------\n",
            "[[43 18]\n",
            " [20 22]]\n",
            "-----------------------------------------------------\n",
            "Accuracy en TEST data: 0.63\n"
          ]
        }
      ],
      "source": [
        "clf = DecisionTreeClassifier(max_depth = 20, criterion = 'gini')\n",
        "\n",
        "DTree = clf.fit(X_train,y_train)\n",
        "prediction = DTree.predict(X_test)\n",
        "\n",
        "print(classification_report(y_test, prediction))\n",
        "print('-----------------------------------------------------')\n",
        "print(confusion_matrix(prediction, y_test))\n",
        "print('-----------------------------------------------------')\n",
        "F1_Score = f1_score(y_test, prediction, average = 'weighted')\n",
        "print('Accuracy en TEST data:', round(F1_Score,2))\n",
        "\n",
        "w2v_results['Decision Tree'] = round(F1_Score,2)"
      ]
    },
    {
      "cell_type": "markdown",
      "metadata": {
        "id": "i3I8ciEGCeTC"
      },
      "source": [
        "#### Random Forest"
      ]
    },
    {
      "cell_type": "code",
      "execution_count": null,
      "metadata": {
        "id": "BQ4yOFjGCeTC",
        "outputId": "fbb84a98-6452-4efa-ae35-fa10ab2c6a10",
        "colab": {
          "base_uri": "https://localhost:8080/"
        }
      },
      "outputs": [
        {
          "output_type": "stream",
          "name": "stdout",
          "text": [
            "              precision    recall  f1-score   support\n",
            "\n",
            "      Compra       0.70      0.68      0.69        63\n",
            "      Neutro       0.52      0.55      0.54        40\n",
            "\n",
            "    accuracy                           0.63       103\n",
            "   macro avg       0.61      0.62      0.62       103\n",
            "weighted avg       0.63      0.63      0.63       103\n",
            "\n",
            "-----------------------------------------------------\n",
            "[[43 18]\n",
            " [20 22]]\n",
            "-----------------------------------------------------\n",
            "Accuracy en TEST data: 0.63\n"
          ]
        }
      ],
      "source": [
        "clf = RandomForestClassifier(max_depth = 20)\n",
        "\n",
        "RF = clf.fit(X_train,y_train)\n",
        "prediction = DTree.predict(X_test)\n",
        "\n",
        "print(classification_report(y_test, prediction))\n",
        "print('-----------------------------------------------------')\n",
        "print(confusion_matrix(prediction, y_test))\n",
        "print('-----------------------------------------------------')\n",
        "F1_Score = f1_score(y_test, prediction, average = 'weighted')\n",
        "print('Accuracy en TEST data:', round(F1_Score,2))\n",
        "\n",
        "w2v_results['Random Forest'] = round(F1_Score,2)"
      ]
    },
    {
      "cell_type": "markdown",
      "metadata": {
        "id": "l9cbooMACeTC"
      },
      "source": [
        "#### XGBoost"
      ]
    },
    {
      "cell_type": "code",
      "execution_count": null,
      "metadata": {
        "id": "KQIXX03yCeTD",
        "outputId": "c74566ac-7681-47d3-b72b-262e96b22cad",
        "colab": {
          "base_uri": "https://localhost:8080/"
        }
      },
      "outputs": [
        {
          "output_type": "stream",
          "name": "stdout",
          "text": [
            "              precision    recall  f1-score   support\n",
            "\n",
            "           0       0.66      0.84      0.74        63\n",
            "           1       0.57      0.33      0.41        40\n",
            "\n",
            "    accuracy                           0.64       103\n",
            "   macro avg       0.61      0.58      0.58       103\n",
            "weighted avg       0.62      0.64      0.61       103\n",
            "\n",
            "-----------------------------------------------------\n",
            "[[53 27]\n",
            " [10 13]]\n",
            "-----------------------------------------------------\n",
            "Accuracy en TEST data: 0.61\n"
          ]
        }
      ],
      "source": [
        "#Necesito codificar las etiquetas\n",
        "cat_encoded = LabelEncoder()\n",
        "y_train_encoded = cat_encoded.fit_transform(y_train)\n",
        "y_test_encoded = cat_encoded.transform(y_test)\n",
        "\n",
        "clf = XGBClassifier()\n",
        "\n",
        "XGB = clf.fit(X_train, y_train_encoded)\n",
        "prediction = XGB.predict(X_test)\n",
        "\n",
        "print(classification_report(y_test_encoded, prediction))\n",
        "print('-----------------------------------------------------')\n",
        "print(confusion_matrix(prediction, y_test_encoded))\n",
        "print('-----------------------------------------------------')\n",
        "F1_Score = f1_score(y_test_encoded, prediction, average = 'weighted')\n",
        "print('Accuracy en TEST data:', round(F1_Score,2))\n",
        "\n",
        "w2v_results['XGBoost'] = round(F1_Score,2)"
      ]
    },
    {
      "cell_type": "markdown",
      "metadata": {
        "id": "4P3XdmmVCeTD"
      },
      "source": [
        "#### LightGBM"
      ]
    },
    {
      "cell_type": "code",
      "execution_count": null,
      "metadata": {
        "id": "hRHwImZ_CeTD",
        "outputId": "e94eede3-db94-4c5a-9539-29fe07feaf68",
        "colab": {
          "base_uri": "https://localhost:8080/"
        }
      },
      "outputs": [
        {
          "output_type": "stream",
          "name": "stdout",
          "text": [
            "              precision    recall  f1-score   support\n",
            "\n",
            "      Compra       0.66      0.78      0.72        63\n",
            "      Neutro       0.52      0.38      0.43        40\n",
            "\n",
            "    accuracy                           0.62       103\n",
            "   macro avg       0.59      0.58      0.58       103\n",
            "weighted avg       0.61      0.62      0.61       103\n",
            "\n",
            "-----------------------------------------------------\n",
            "[[49 25]\n",
            " [14 15]]\n",
            "-----------------------------------------------------\n",
            "Accuracy en TEST data: 0.61\n"
          ]
        }
      ],
      "source": [
        "# Set the verbosity level to suppress messages\n",
        "lgbm_params = {\n",
        "    'verbosity': -1  # Set verbosity to -1 to suppress all messages\n",
        "}\n",
        "\n",
        "clf = LGBMClassifier(**lgbm_params)\n",
        "\n",
        "LGBM = clf.fit(X_train,y_train)\n",
        "prediction = LGBM.predict(X_test)\n",
        "y_pred_w2v_lgbm = prediction\n",
        "y_pred_w2v_lgbm_proba = LGBM.predict_proba(X_test)\n",
        "\n",
        "print(classification_report(y_test, prediction))\n",
        "print('-----------------------------------------------------')\n",
        "print(confusion_matrix(prediction, y_test))\n",
        "print('-----------------------------------------------------')\n",
        "F1_Score = f1_score(y_test, prediction, average = 'weighted')\n",
        "print('Accuracy en TEST data:', round(F1_Score,2))\n",
        "\n",
        "w2v_results['LightGBM'] = round(F1_Score,2)"
      ]
    },
    {
      "cell_type": "markdown",
      "metadata": {
        "id": "AKERCmxCCeTD"
      },
      "source": [
        "#### AdaBoost"
      ]
    },
    {
      "cell_type": "code",
      "execution_count": null,
      "metadata": {
        "id": "ya9N8vY3CeTE",
        "outputId": "9edfd93b-77b9-4b1b-b495-c961e30322a4",
        "colab": {
          "base_uri": "https://localhost:8080/"
        }
      },
      "outputs": [
        {
          "output_type": "stream",
          "name": "stdout",
          "text": [
            "              precision    recall  f1-score   support\n",
            "\n",
            "      Compra       0.64      0.78      0.71        63\n",
            "      Neutro       0.48      0.33      0.39        40\n",
            "\n",
            "    accuracy                           0.60       103\n",
            "   macro avg       0.56      0.55      0.55       103\n",
            "weighted avg       0.58      0.60      0.58       103\n",
            "\n",
            "-----------------------------------------------------\n",
            "[[49 27]\n",
            " [14 13]]\n",
            "-----------------------------------------------------\n",
            "Accuracy en TEST data: 0.58\n"
          ]
        }
      ],
      "source": [
        "DTC = DecisionTreeClassifier(max_depth = 2)\n",
        "clf = AdaBoostClassifier(n_estimators = 20, base_estimator = DTC , learning_rate = 0.01)\n",
        "\n",
        "\n",
        "AB = clf.fit(X_train,y_train)\n",
        "prediction = AB.predict(X_test)\n",
        "\n",
        "print(classification_report(y_test, prediction))\n",
        "print('-----------------------------------------------------')\n",
        "print(confusion_matrix(prediction, y_test))\n",
        "print('-----------------------------------------------------')\n",
        "F1_Score = f1_score(y_test, prediction, average = 'weighted')\n",
        "print('Accuracy en TEST data:', round(F1_Score,2))\n",
        "\n",
        "w2v_results['AdaBoost'] = round(F1_Score,2)"
      ]
    },
    {
      "cell_type": "code",
      "execution_count": null,
      "metadata": {
        "id": "V7QXU5fXCeTE",
        "outputId": "24f64177-8fb5-4ff2-b448-e2f6b84bb8df",
        "colab": {
          "base_uri": "https://localhost:8080/"
        }
      },
      "outputs": [
        {
          "output_type": "execute_result",
          "data": {
            "text/plain": [
              "{'Naive Bayes': 0.6,\n",
              " 'KNN': 0.57,\n",
              " 'Logistic Regression': 0.58,\n",
              " 'Decision Tree': 0.63,\n",
              " 'Random Forest': 0.63,\n",
              " 'XGBoost': 0.61,\n",
              " 'LightGBM': 0.61,\n",
              " 'AdaBoost': 0.58}"
            ]
          },
          "metadata": {},
          "execution_count": 73
        }
      ],
      "source": [
        "w2v_results"
      ]
    },
    {
      "cell_type": "markdown",
      "metadata": {
        "id": "MhI00l7KCeTE"
      },
      "source": [
        "### BERT"
      ]
    },
    {
      "cell_type": "markdown",
      "metadata": {
        "id": "G5LgNzVfCeTE"
      },
      "source": [
        "#### Librerias"
      ]
    },
    {
      "cell_type": "code",
      "execution_count": null,
      "metadata": {
        "id": "qSfyHv87CeTE"
      },
      "outputs": [],
      "source": [
        "import torch\n",
        "from torch import nn\n",
        "from torch.utils.data import DataLoader, Dataset\n",
        "from transformers import BertTokenizer, BertModel, AdamW, get_linear_schedule_with_warmup"
      ]
    },
    {
      "cell_type": "markdown",
      "metadata": {
        "id": "Bv8lnL0NCeTE"
      },
      "source": [
        "#### Funciones"
      ]
    },
    {
      "cell_type": "code",
      "execution_count": null,
      "metadata": {
        "id": "73_x0eKbCeTF"
      },
      "outputs": [],
      "source": [
        "class TextClassificationDataset(Dataset):\n",
        "    def __init__(self, texts, labels, tokenizer, max_length):\n",
        "            self.texts = texts\n",
        "            self.labels = labels\n",
        "            self.tokenizer = tokenizer\n",
        "            self.max_length = max_length\n",
        "\n",
        "    def __len__(self):\n",
        "            return len(self.texts)\n",
        "\n",
        "    def __getitem__(self, idx):\n",
        "            text = self.texts[idx]\n",
        "            label = self.labels[idx]\n",
        "            encoding = self.tokenizer(text, return_tensors='pt', max_length=self.max_length, padding='max_length', truncation=True)\n",
        "            return {'input_ids': encoding['input_ids'].flatten(), 'attention_mask': encoding['attention_mask'].flatten(), 'label': torch.tensor(label)}"
      ]
    },
    {
      "cell_type": "code",
      "execution_count": null,
      "metadata": {
        "id": "ER3c7nwACeTF"
      },
      "outputs": [],
      "source": [
        "class BERTClassifier(nn.Module):\n",
        "    def __init__(self, bert_model_name, num_classes):\n",
        "        super(BERTClassifier, self).__init__()\n",
        "        self.bert = BertModel.from_pretrained(bert_model_name)\n",
        "        self.dropout = nn.Dropout(0.1)\n",
        "        self.fc = nn.Linear(self.bert.config.hidden_size, num_classes)\n",
        "\n",
        "    def forward(self, input_ids, attention_mask):\n",
        "        outputs = self.bert(input_ids=input_ids, attention_mask=attention_mask)\n",
        "        pooled_output = outputs.pooler_output\n",
        "        x = self.dropout(pooled_output)\n",
        "        logits = self.fc(x)\n",
        "        return logits"
      ]
    },
    {
      "cell_type": "code",
      "execution_count": null,
      "metadata": {
        "id": "9jXeVrpuCeTG"
      },
      "outputs": [],
      "source": [
        "def train(model, data_loader, optimizer, scheduler, device):\n",
        "    model.train()\n",
        "    for batch in data_loader:\n",
        "        optimizer.zero_grad()\n",
        "        input_ids = batch['input_ids'].to(device)\n",
        "        attention_mask = batch['attention_mask'].to(device)\n",
        "        labels = batch['label'].to(device)\n",
        "        outputs = model(input_ids=input_ids, attention_mask=attention_mask)\n",
        "        loss = nn.CrossEntropyLoss()(outputs, labels)\n",
        "        loss.backward()\n",
        "        optimizer.step()\n",
        "        scheduler.step()"
      ]
    },
    {
      "cell_type": "code",
      "execution_count": null,
      "metadata": {
        "id": "ONCM55WECeTG"
      },
      "outputs": [],
      "source": [
        "def evaluate(model, data_loader, device):\n",
        "    model.eval()\n",
        "    predictions = []\n",
        "    actual_labels = []\n",
        "    with torch.no_grad():\n",
        "        for batch in data_loader:\n",
        "            input_ids = batch['input_ids'].to(device)\n",
        "            attention_mask = batch['attention_mask'].to(device)\n",
        "            labels = batch['label'].to(device)\n",
        "            outputs = model(input_ids=input_ids, attention_mask=attention_mask)\n",
        "            _, preds = torch.max(outputs, dim=1)\n",
        "            predictions.extend(preds.cpu().tolist())\n",
        "            actual_labels.extend(labels.cpu().tolist())\n",
        "    return accuracy_score(actual_labels, predictions), classification_report(actual_labels, predictions)"
      ]
    },
    {
      "cell_type": "code",
      "execution_count": null,
      "metadata": {
        "id": "UE2iJJMJCeTG"
      },
      "outputs": [],
      "source": [
        "def predict_sentiment(text, model, tokenizer, device, max_length=128):\n",
        "    model.eval()\n",
        "    encoding = tokenizer(text, return_tensors='pt', max_length=max_length, padding='max_length', truncation=True)\n",
        "    input_ids = encoding['input_ids'].to(device)\n",
        "    attention_mask = encoding['attention_mask'].to(device)\n",
        "\n",
        "    with torch.no_grad():\n",
        "        outputs = model(input_ids=input_ids, attention_mask=attention_mask)\n",
        "        _, preds = torch.max(outputs, dim=1)\n",
        "    return \"Neutro\" if preds.item() == 1 else \"Compra\""
      ]
    },
    {
      "cell_type": "code",
      "execution_count": null,
      "metadata": {
        "id": "5Cwux7sPCeTG"
      },
      "outputs": [],
      "source": [
        "def predict_sentiment_with_probabilities(text, model, tokenizer, device, max_length=128):\n",
        "    model.eval()\n",
        "    encoding = tokenizer(text, return_tensors='pt', max_length=max_length, padding='max_length', truncation=True)\n",
        "    input_ids = encoding['input_ids'].to(device)\n",
        "    attention_mask = encoding['attention_mask'].to(device)\n",
        "\n",
        "    with torch.no_grad():\n",
        "        outputs = model(input_ids=input_ids, attention_mask=attention_mask)\n",
        "        probabilities = torch.softmax(outputs, dim=1)\n",
        "\n",
        "    label_probabilities = {\n",
        "        \"Compra\": probabilities[0][0].item(),\n",
        "        \"Neutro\": probabilities[0][1].item()\n",
        "    }\n",
        "\n",
        "    return label_probabilities"
      ]
    },
    {
      "cell_type": "markdown",
      "metadata": {
        "id": "MR28bmrbCeTH"
      },
      "source": [
        "#### Parámetros"
      ]
    },
    {
      "cell_type": "code",
      "execution_count": null,
      "metadata": {
        "id": "Y_prqbIxCeTH"
      },
      "outputs": [],
      "source": [
        "# Set up parameters\n",
        "bert_model_name = 'bert-base-uncased'\n",
        "num_classes = 2\n",
        "max_length = 128\n",
        "batch_size = 16\n",
        "num_epochs = 4\n",
        "learning_rate = 2e-5"
      ]
    },
    {
      "cell_type": "markdown",
      "metadata": {
        "id": "c770PN04CeTH"
      },
      "source": [
        "#### Entrenamiento"
      ]
    },
    {
      "cell_type": "code",
      "execution_count": null,
      "metadata": {
        "id": "0d-KTvqdCeTH"
      },
      "outputs": [],
      "source": [
        "train_texts = data_train['Text'].tolist()\n",
        "train_labels = [0 if sentiment == \"Compra\" else 1 for sentiment in data_train['Category'].tolist()]\n",
        "\n",
        "val_texts = data_test['Text'].tolist()\n",
        "val_labels = [0 if sentiment == \"Compra\" else 1 for sentiment in data_test['Category'].tolist()]"
      ]
    },
    {
      "cell_type": "markdown",
      "metadata": {
        "id": "dad9_l-eCeTI"
      },
      "source": [
        "#### Pipeline"
      ]
    },
    {
      "cell_type": "code",
      "execution_count": null,
      "metadata": {
        "id": "mvxZ063aCeTI",
        "outputId": "9ed66cc8-22e4-4a83-a715-fc40c5086178",
        "colab": {
          "base_uri": "https://localhost:8080/",
          "height": 145,
          "referenced_widgets": [
            "986e8af5ce0d414dbd3a73466ce75ef4",
            "d89d8289e4274a9bae15b913c402805b",
            "dea1c3cac3404c539738063d1ace9ee8",
            "203bb10dc6fc4773872b8a033cb5dc05",
            "048be236a7264160a5550019b7301a4f",
            "496663719c824da8a074f1920dac3be3",
            "1caa174e329f4ef1b165d89696dc61b7",
            "2682e2dbb395404597119b3cfdf0714b",
            "86b4e288105a4ee283b4885ecb6c8c72",
            "d31e14688bf14cf28dfaa294b9465d29",
            "0b5e1bc22d574acdb2bf0cf35f8d9dcc",
            "79b27ef54f994fc09d516dd19e43fa12",
            "c96e7bd366ff45bb8ef12f65790c616f",
            "4417abe4af0b4afebfc5201931c033e7",
            "ca4d1dbae6c743519925de1f46f287cd",
            "6a207655e07e4899acd4a30305c1273e",
            "68aaf45c8df942e289b5e2f02aa533b4",
            "9149103c87e74105bee8ab8ecab08ab3",
            "9b0ef40017eb4c1db3d2a848d6e54e9f",
            "0acd4460b6714b0baba093e15c1b3ee1",
            "fd9e540f6b974719a3f5549457484d1a",
            "8658cb491ef84d7facccca85f108d6ba",
            "ec84df47944642b2b33c21822c1e0c04",
            "af8058f371774017a560424b02e9f40c",
            "5910ded13c81452a93121efbe94b1cff",
            "dd8a2b8901c940c494d6fa49fc59bf78",
            "a2b7bbe387054554b27bcff62c31f4bc",
            "11ffbd19d15b41a28c3e38aef396b00c",
            "c19fc50a59de4edaab14553b89b46f5c",
            "64ebc9ae93944e6b8053bfdcba2ea6ae",
            "68965e011dea4d59809f55661ba34bc3",
            "2c646875183f4a959b3d1db2a00f49d4",
            "93aa3b57d31941a2bf1807822d7eb904",
            "b9594c90677a46f6adafdf853690ef34",
            "741a501fc5f34b5da646e714414a3ff3",
            "cb637ce191d14afb942c5fa33c7bfd7f",
            "9ad0b24ba1d344d18a2bc14150a9d83d",
            "a8dd122c5cb34fae8b8c580b88641b7a",
            "25a861187dd24b8cb9551b41f36e115b",
            "878f470073a5410086bc738ccfd37728",
            "6bd18cc2faff42bf940812f046eada50",
            "f143e6c5ae8545b6a19d0de6cf36ad15",
            "e9b8a37666fd4655ae07bab882f61c38",
            "aa22731969a44219b5944ecec0ed7a2a"
          ]
        }
      },
      "outputs": [
        {
          "output_type": "display_data",
          "data": {
            "text/plain": [
              "tokenizer_config.json:   0%|          | 0.00/48.0 [00:00<?, ?B/s]"
            ],
            "application/vnd.jupyter.widget-view+json": {
              "version_major": 2,
              "version_minor": 0,
              "model_id": "986e8af5ce0d414dbd3a73466ce75ef4"
            }
          },
          "metadata": {}
        },
        {
          "output_type": "display_data",
          "data": {
            "text/plain": [
              "vocab.txt:   0%|          | 0.00/232k [00:00<?, ?B/s]"
            ],
            "application/vnd.jupyter.widget-view+json": {
              "version_major": 2,
              "version_minor": 0,
              "model_id": "79b27ef54f994fc09d516dd19e43fa12"
            }
          },
          "metadata": {}
        },
        {
          "output_type": "display_data",
          "data": {
            "text/plain": [
              "tokenizer.json:   0%|          | 0.00/466k [00:00<?, ?B/s]"
            ],
            "application/vnd.jupyter.widget-view+json": {
              "version_major": 2,
              "version_minor": 0,
              "model_id": "ec84df47944642b2b33c21822c1e0c04"
            }
          },
          "metadata": {}
        },
        {
          "output_type": "display_data",
          "data": {
            "text/plain": [
              "config.json:   0%|          | 0.00/570 [00:00<?, ?B/s]"
            ],
            "application/vnd.jupyter.widget-view+json": {
              "version_major": 2,
              "version_minor": 0,
              "model_id": "b9594c90677a46f6adafdf853690ef34"
            }
          },
          "metadata": {}
        }
      ],
      "source": [
        "tokenizer = BertTokenizer.from_pretrained(bert_model_name)\n",
        "train_dataset = TextClassificationDataset(train_texts, train_labels, tokenizer, max_length)\n",
        "val_dataset = TextClassificationDataset(val_texts, val_labels, tokenizer, max_length)\n",
        "train_dataloader = DataLoader(train_dataset, batch_size=batch_size, shuffle=True)\n",
        "val_dataloader = DataLoader(val_dataset, batch_size=batch_size)"
      ]
    },
    {
      "cell_type": "markdown",
      "metadata": {
        "id": "zDhpQRQfCeTI"
      },
      "source": [
        "#### Modelado"
      ]
    },
    {
      "cell_type": "code",
      "execution_count": null,
      "metadata": {
        "id": "fMgKzYpECeTI",
        "outputId": "d4cf2946-638a-467a-dcb9-6f1779da143d",
        "colab": {
          "base_uri": "https://localhost:8080/",
          "height": 49,
          "referenced_widgets": [
            "9921263a4cfc44e490b8e8bf2ef19fe9",
            "0636e85260ca49a49f15c3f2bac6bf9a",
            "5b1c1cd72f9a46a4b4d3593befd45b38",
            "aa595bbaac0a45d0be3a9c326a086767",
            "a4910fdd8cc744b9a75b60f4e3ae71de",
            "41897ff6580b476d9a2d2a674e0d0178",
            "ad26ccc8c8e941cfbea390e5f3f3939c",
            "3b20fe558c22446cbce2c4925ad5ad96",
            "064845b6b2e746c98dd3c5db77a9020d",
            "c2f093d5ec604bab950ced11f681add2",
            "b3007720c32f4eb295d765fd7ef69b56"
          ]
        }
      },
      "outputs": [
        {
          "output_type": "display_data",
          "data": {
            "text/plain": [
              "model.safetensors:   0%|          | 0.00/440M [00:00<?, ?B/s]"
            ],
            "application/vnd.jupyter.widget-view+json": {
              "version_major": 2,
              "version_minor": 0,
              "model_id": "9921263a4cfc44e490b8e8bf2ef19fe9"
            }
          },
          "metadata": {}
        }
      ],
      "source": [
        "device = torch.device(\"cuda\" if torch.cuda.is_available() else \"cpu\")\n",
        "model = BERTClassifier(bert_model_name, num_classes).to(device)"
      ]
    },
    {
      "cell_type": "markdown",
      "metadata": {
        "id": "kCRXk2AzCeTI"
      },
      "source": [
        "#### Optimizador"
      ]
    },
    {
      "cell_type": "code",
      "execution_count": null,
      "metadata": {
        "id": "FxoPWPH7CeTI"
      },
      "outputs": [],
      "source": [
        "optimizer = AdamW(model.parameters(), lr=learning_rate)\n",
        "total_steps = len(train_dataloader) * num_epochs\n",
        "scheduler = get_linear_schedule_with_warmup(optimizer, num_warmup_steps=0, num_training_steps=total_steps)"
      ]
    },
    {
      "cell_type": "markdown",
      "metadata": {
        "id": "517bk2CyCeTJ"
      },
      "source": [
        "#### Entrenamiento"
      ]
    },
    {
      "cell_type": "code",
      "execution_count": null,
      "metadata": {
        "id": "QXVhtWWZCeTJ",
        "outputId": "b5e077c5-bab2-4a28-c49c-01efa36d5ee5",
        "colab": {
          "base_uri": "https://localhost:8080/"
        }
      },
      "outputs": [
        {
          "output_type": "stream",
          "name": "stdout",
          "text": [
            "Epoch 1/4\n",
            "Validation Accuracy: 0.6117\n",
            "              precision    recall  f1-score   support\n",
            "\n",
            "           0       0.61      1.00      0.76        63\n",
            "           1       0.00      0.00      0.00        40\n",
            "\n",
            "    accuracy                           0.61       103\n",
            "   macro avg       0.31      0.50      0.38       103\n",
            "weighted avg       0.37      0.61      0.46       103\n",
            "\n",
            "Epoch 2/4\n",
            "Validation Accuracy: 0.6117\n",
            "              precision    recall  f1-score   support\n",
            "\n",
            "           0       0.61      1.00      0.76        63\n",
            "           1       0.00      0.00      0.00        40\n",
            "\n",
            "    accuracy                           0.61       103\n",
            "   macro avg       0.31      0.50      0.38       103\n",
            "weighted avg       0.37      0.61      0.46       103\n",
            "\n",
            "Epoch 3/4\n",
            "Validation Accuracy: 0.6019\n",
            "              precision    recall  f1-score   support\n",
            "\n",
            "           0       0.61      0.97      0.75        63\n",
            "           1       0.33      0.03      0.05        40\n",
            "\n",
            "    accuracy                           0.60       103\n",
            "   macro avg       0.47      0.50      0.40       103\n",
            "weighted avg       0.50      0.60      0.48       103\n",
            "\n",
            "Epoch 4/4\n",
            "Validation Accuracy: 0.6214\n",
            "              precision    recall  f1-score   support\n",
            "\n",
            "           0       0.62      1.00      0.76        63\n",
            "           1       1.00      0.03      0.05        40\n",
            "\n",
            "    accuracy                           0.62       103\n",
            "   macro avg       0.81      0.51      0.41       103\n",
            "weighted avg       0.77      0.62      0.49       103\n",
            "\n"
          ]
        }
      ],
      "source": [
        "for epoch in range(num_epochs):\n",
        "        print(f\"Epoch {epoch + 1}/{num_epochs}\")\n",
        "        train(model, train_dataloader, optimizer, scheduler, device)\n",
        "        accuracy, report = evaluate(model, val_dataloader, device)\n",
        "        print(f\"Validation Accuracy: {accuracy:.4f}\")\n",
        "        print(report)"
      ]
    },
    {
      "cell_type": "markdown",
      "metadata": {
        "id": "6bQYI9v9CeTJ"
      },
      "source": [
        "#### Guardo el modelo"
      ]
    },
    {
      "cell_type": "code",
      "execution_count": null,
      "metadata": {
        "id": "uxtKg6BGCeTJ"
      },
      "outputs": [],
      "source": [
        "torch.save(model.state_dict(), \"bert_classifier_wm_20042024.pth\")"
      ]
    },
    {
      "cell_type": "markdown",
      "metadata": {
        "id": "P-8hTcc7CeTJ"
      },
      "source": [
        "#### Predicción"
      ]
    },
    {
      "cell_type": "code",
      "execution_count": null,
      "metadata": {
        "id": "HR4qIvajCeTK",
        "outputId": "5dd517fd-ec4c-4022-ec95-6e2e461aba0f",
        "colab": {
          "base_uri": "https://localhost:8080/"
        }
      },
      "outputs": [
        {
          "output_type": "stream",
          "name": "stdout",
          "text": [
            "Prediccion:\n",
            "Compra: 0.5710\n",
            "Neutro: 0.4290\n"
          ]
        }
      ],
      "source": [
        "test_text = \"YPF call volume above normal and directionally bullish\"\n",
        "label_probabilities  = predict_sentiment_with_probabilities(test_text, model, tokenizer, device)\n",
        "print(\"Prediccion:\")\n",
        "for label, probability in label_probabilities.items():\n",
        "    print(f\"{label}: {probability:.4f}\")"
      ]
    },
    {
      "cell_type": "markdown",
      "metadata": {
        "id": "qqfTyAM_CeTK"
      },
      "source": [
        "#### Predicción (Probabilidad)"
      ]
    },
    {
      "cell_type": "code",
      "execution_count": null,
      "metadata": {
        "id": "2It5K6OBCeTK"
      },
      "outputs": [],
      "source": [
        "X_test = data_test['Text'].tolist()\n",
        "\n",
        "y_pred_bert = []\n",
        "predicted_probabilities = []\n",
        "\n",
        "for text in X_test:\n",
        "    label_probabilities = predict_sentiment_with_probabilities(text, model, tokenizer, device)\n",
        "\n",
        "    predicted_label = max(label_probabilities, key=label_probabilities.get)\n",
        "\n",
        "    y_pred_bert.append(predicted_label)\n",
        "\n",
        "    predicted_probabilities.append([label_probabilities[\"Compra\"], label_probabilities[\"Neutro\"]])\n",
        "\n",
        "y_pred_bert_proba = np.array(predicted_probabilities)"
      ]
    },
    {
      "cell_type": "markdown",
      "metadata": {
        "id": "g4nMTWdXCeTK"
      },
      "source": [
        "## Resultados"
      ]
    },
    {
      "cell_type": "code",
      "execution_count": null,
      "metadata": {
        "id": "txrCUkgDCeTL"
      },
      "outputs": [],
      "source": [
        "models_pred = pd.DataFrame(\n",
        "    {\n",
        "        'X_test': data_test['Text'].tolist(),\n",
        "        'y_test': data_test['Category'].tolist(),\n",
        "        'RegLog': y_pred_lr,\n",
        "        'RegLog_SW': y_pred_lr_sw,\n",
        "        'MultinomialNB': y_pred_nb,\n",
        "        'MultinomialNB_SW': y_pred_nb_sw,\n",
        "        'SVC': y_pred_svc,\n",
        "        'SVC_SW': y_pred_svc_sw,\n",
        "        'RF':y_pred_rf,\n",
        "        'RF_SW': y_pred_rf_sw,\n",
        "        'XGB': y_pred_xgb,\n",
        "        'XGB_SW': y_pred_xgb_sw,\n",
        "        'LightGBM': y_pred_lgbm,\n",
        "        'LightGBM_SW': y_pred_lgbm_sw,\n",
        "        'Word2Vec_LGBM': y_pred_w2v_lgbm,\n",
        "        'BERT': y_pred_bert\n",
        "    }\n",
        ")"
      ]
    },
    {
      "cell_type": "code",
      "execution_count": null,
      "metadata": {
        "id": "6XQK-f8hCeTL",
        "outputId": "211355ef-81e7-4a95-d40a-d139f3032abe",
        "colab": {
          "base_uri": "https://localhost:8080/",
          "height": 660
        }
      },
      "outputs": [
        {
          "output_type": "execute_result",
          "data": {
            "text/plain": [
              "                                              X_test  y_test  RegLog  \\\n",
              "0  Argentine Stocks Soar, Bonds Climb as Investor...  Compra  Compra   \n",
              "1  Argentina Gets Delay on Payment of $16.1 Billi...  Compra  Compra   \n",
              "2  Emerging Market Debt: Zambia's $3 Billion Impa...  Compra  Compra   \n",
              "3  Argentine stocks surge as markets open after p...  Compra  Compra   \n",
              "4    FirstFT: OpenAI’s future hangs in the balance.   Compra  Compra   \n",
              "\n",
              "  RegLog_SW MultinomialNB MultinomialNB_SW     SVC  SVC_SW      RF   RF_SW  \\\n",
              "0    Compra        Compra           Compra  Compra  Compra  Compra  Compra   \n",
              "1    Compra        Compra           Compra  Compra  Compra  Compra  Compra   \n",
              "2    Compra        Compra           Compra  Compra  Compra  Compra  Compra   \n",
              "3    Neutro        Compra           Neutro  Neutro  Neutro  Compra  Compra   \n",
              "4    Compra        Compra           Compra  Compra  Compra  Compra  Compra   \n",
              "\n",
              "      XGB  XGB_SW LightGBM LightGBM_SW Word2Vec_LGBM    BERT  \n",
              "0  Compra  Compra   Compra      Compra        Compra  Compra  \n",
              "1  Compra  Compra   Compra      Compra        Compra  Compra  \n",
              "2  Compra  Compra   Compra      Compra        Compra  Compra  \n",
              "3  Compra  Compra   Neutro      Compra        Neutro  Compra  \n",
              "4  Neutro  Compra   Neutro      Compra        Compra  Compra  "
            ],
            "text/html": [
              "\n",
              "  <div id=\"df-f596b535-c98a-437b-ba0b-591bba276380\" class=\"colab-df-container\">\n",
              "    <div>\n",
              "<style scoped>\n",
              "    .dataframe tbody tr th:only-of-type {\n",
              "        vertical-align: middle;\n",
              "    }\n",
              "\n",
              "    .dataframe tbody tr th {\n",
              "        vertical-align: top;\n",
              "    }\n",
              "\n",
              "    .dataframe thead th {\n",
              "        text-align: right;\n",
              "    }\n",
              "</style>\n",
              "<table border=\"1\" class=\"dataframe\">\n",
              "  <thead>\n",
              "    <tr style=\"text-align: right;\">\n",
              "      <th></th>\n",
              "      <th>X_test</th>\n",
              "      <th>y_test</th>\n",
              "      <th>RegLog</th>\n",
              "      <th>RegLog_SW</th>\n",
              "      <th>MultinomialNB</th>\n",
              "      <th>MultinomialNB_SW</th>\n",
              "      <th>SVC</th>\n",
              "      <th>SVC_SW</th>\n",
              "      <th>RF</th>\n",
              "      <th>RF_SW</th>\n",
              "      <th>XGB</th>\n",
              "      <th>XGB_SW</th>\n",
              "      <th>LightGBM</th>\n",
              "      <th>LightGBM_SW</th>\n",
              "      <th>Word2Vec_LGBM</th>\n",
              "      <th>BERT</th>\n",
              "    </tr>\n",
              "  </thead>\n",
              "  <tbody>\n",
              "    <tr>\n",
              "      <th>0</th>\n",
              "      <td>Argentine Stocks Soar, Bonds Climb as Investor...</td>\n",
              "      <td>Compra</td>\n",
              "      <td>Compra</td>\n",
              "      <td>Compra</td>\n",
              "      <td>Compra</td>\n",
              "      <td>Compra</td>\n",
              "      <td>Compra</td>\n",
              "      <td>Compra</td>\n",
              "      <td>Compra</td>\n",
              "      <td>Compra</td>\n",
              "      <td>Compra</td>\n",
              "      <td>Compra</td>\n",
              "      <td>Compra</td>\n",
              "      <td>Compra</td>\n",
              "      <td>Compra</td>\n",
              "      <td>Compra</td>\n",
              "    </tr>\n",
              "    <tr>\n",
              "      <th>1</th>\n",
              "      <td>Argentina Gets Delay on Payment of $16.1 Billi...</td>\n",
              "      <td>Compra</td>\n",
              "      <td>Compra</td>\n",
              "      <td>Compra</td>\n",
              "      <td>Compra</td>\n",
              "      <td>Compra</td>\n",
              "      <td>Compra</td>\n",
              "      <td>Compra</td>\n",
              "      <td>Compra</td>\n",
              "      <td>Compra</td>\n",
              "      <td>Compra</td>\n",
              "      <td>Compra</td>\n",
              "      <td>Compra</td>\n",
              "      <td>Compra</td>\n",
              "      <td>Compra</td>\n",
              "      <td>Compra</td>\n",
              "    </tr>\n",
              "    <tr>\n",
              "      <th>2</th>\n",
              "      <td>Emerging Market Debt: Zambia's $3 Billion Impa...</td>\n",
              "      <td>Compra</td>\n",
              "      <td>Compra</td>\n",
              "      <td>Compra</td>\n",
              "      <td>Compra</td>\n",
              "      <td>Compra</td>\n",
              "      <td>Compra</td>\n",
              "      <td>Compra</td>\n",
              "      <td>Compra</td>\n",
              "      <td>Compra</td>\n",
              "      <td>Compra</td>\n",
              "      <td>Compra</td>\n",
              "      <td>Compra</td>\n",
              "      <td>Compra</td>\n",
              "      <td>Compra</td>\n",
              "      <td>Compra</td>\n",
              "    </tr>\n",
              "    <tr>\n",
              "      <th>3</th>\n",
              "      <td>Argentine stocks surge as markets open after p...</td>\n",
              "      <td>Compra</td>\n",
              "      <td>Compra</td>\n",
              "      <td>Neutro</td>\n",
              "      <td>Compra</td>\n",
              "      <td>Neutro</td>\n",
              "      <td>Neutro</td>\n",
              "      <td>Neutro</td>\n",
              "      <td>Compra</td>\n",
              "      <td>Compra</td>\n",
              "      <td>Compra</td>\n",
              "      <td>Compra</td>\n",
              "      <td>Neutro</td>\n",
              "      <td>Compra</td>\n",
              "      <td>Neutro</td>\n",
              "      <td>Compra</td>\n",
              "    </tr>\n",
              "    <tr>\n",
              "      <th>4</th>\n",
              "      <td>FirstFT: OpenAI’s future hangs in the balance.</td>\n",
              "      <td>Compra</td>\n",
              "      <td>Compra</td>\n",
              "      <td>Compra</td>\n",
              "      <td>Compra</td>\n",
              "      <td>Compra</td>\n",
              "      <td>Compra</td>\n",
              "      <td>Compra</td>\n",
              "      <td>Compra</td>\n",
              "      <td>Compra</td>\n",
              "      <td>Neutro</td>\n",
              "      <td>Compra</td>\n",
              "      <td>Neutro</td>\n",
              "      <td>Compra</td>\n",
              "      <td>Compra</td>\n",
              "      <td>Compra</td>\n",
              "    </tr>\n",
              "  </tbody>\n",
              "</table>\n",
              "</div>\n",
              "    <div class=\"colab-df-buttons\">\n",
              "\n",
              "  <div class=\"colab-df-container\">\n",
              "    <button class=\"colab-df-convert\" onclick=\"convertToInteractive('df-f596b535-c98a-437b-ba0b-591bba276380')\"\n",
              "            title=\"Convert this dataframe to an interactive table.\"\n",
              "            style=\"display:none;\">\n",
              "\n",
              "  <svg xmlns=\"http://www.w3.org/2000/svg\" height=\"24px\" viewBox=\"0 -960 960 960\">\n",
              "    <path d=\"M120-120v-720h720v720H120Zm60-500h600v-160H180v160Zm220 220h160v-160H400v160Zm0 220h160v-160H400v160ZM180-400h160v-160H180v160Zm440 0h160v-160H620v160ZM180-180h160v-160H180v160Zm440 0h160v-160H620v160Z\"/>\n",
              "  </svg>\n",
              "    </button>\n",
              "\n",
              "  <style>\n",
              "    .colab-df-container {\n",
              "      display:flex;\n",
              "      gap: 12px;\n",
              "    }\n",
              "\n",
              "    .colab-df-convert {\n",
              "      background-color: #E8F0FE;\n",
              "      border: none;\n",
              "      border-radius: 50%;\n",
              "      cursor: pointer;\n",
              "      display: none;\n",
              "      fill: #1967D2;\n",
              "      height: 32px;\n",
              "      padding: 0 0 0 0;\n",
              "      width: 32px;\n",
              "    }\n",
              "\n",
              "    .colab-df-convert:hover {\n",
              "      background-color: #E2EBFA;\n",
              "      box-shadow: 0px 1px 2px rgba(60, 64, 67, 0.3), 0px 1px 3px 1px rgba(60, 64, 67, 0.15);\n",
              "      fill: #174EA6;\n",
              "    }\n",
              "\n",
              "    .colab-df-buttons div {\n",
              "      margin-bottom: 4px;\n",
              "    }\n",
              "\n",
              "    [theme=dark] .colab-df-convert {\n",
              "      background-color: #3B4455;\n",
              "      fill: #D2E3FC;\n",
              "    }\n",
              "\n",
              "    [theme=dark] .colab-df-convert:hover {\n",
              "      background-color: #434B5C;\n",
              "      box-shadow: 0px 1px 3px 1px rgba(0, 0, 0, 0.15);\n",
              "      filter: drop-shadow(0px 1px 2px rgba(0, 0, 0, 0.3));\n",
              "      fill: #FFFFFF;\n",
              "    }\n",
              "  </style>\n",
              "\n",
              "    <script>\n",
              "      const buttonEl =\n",
              "        document.querySelector('#df-f596b535-c98a-437b-ba0b-591bba276380 button.colab-df-convert');\n",
              "      buttonEl.style.display =\n",
              "        google.colab.kernel.accessAllowed ? 'block' : 'none';\n",
              "\n",
              "      async function convertToInteractive(key) {\n",
              "        const element = document.querySelector('#df-f596b535-c98a-437b-ba0b-591bba276380');\n",
              "        const dataTable =\n",
              "          await google.colab.kernel.invokeFunction('convertToInteractive',\n",
              "                                                    [key], {});\n",
              "        if (!dataTable) return;\n",
              "\n",
              "        const docLinkHtml = 'Like what you see? Visit the ' +\n",
              "          '<a target=\"_blank\" href=https://colab.research.google.com/notebooks/data_table.ipynb>data table notebook</a>'\n",
              "          + ' to learn more about interactive tables.';\n",
              "        element.innerHTML = '';\n",
              "        dataTable['output_type'] = 'display_data';\n",
              "        await google.colab.output.renderOutput(dataTable, element);\n",
              "        const docLink = document.createElement('div');\n",
              "        docLink.innerHTML = docLinkHtml;\n",
              "        element.appendChild(docLink);\n",
              "      }\n",
              "    </script>\n",
              "  </div>\n",
              "\n",
              "\n",
              "<div id=\"df-cac9e4b1-8b8b-4aef-8c22-d0f561285e91\">\n",
              "  <button class=\"colab-df-quickchart\" onclick=\"quickchart('df-cac9e4b1-8b8b-4aef-8c22-d0f561285e91')\"\n",
              "            title=\"Suggest charts\"\n",
              "            style=\"display:none;\">\n",
              "\n",
              "<svg xmlns=\"http://www.w3.org/2000/svg\" height=\"24px\"viewBox=\"0 0 24 24\"\n",
              "     width=\"24px\">\n",
              "    <g>\n",
              "        <path d=\"M19 3H5c-1.1 0-2 .9-2 2v14c0 1.1.9 2 2 2h14c1.1 0 2-.9 2-2V5c0-1.1-.9-2-2-2zM9 17H7v-7h2v7zm4 0h-2V7h2v10zm4 0h-2v-4h2v4z\"/>\n",
              "    </g>\n",
              "</svg>\n",
              "  </button>\n",
              "\n",
              "<style>\n",
              "  .colab-df-quickchart {\n",
              "      --bg-color: #E8F0FE;\n",
              "      --fill-color: #1967D2;\n",
              "      --hover-bg-color: #E2EBFA;\n",
              "      --hover-fill-color: #174EA6;\n",
              "      --disabled-fill-color: #AAA;\n",
              "      --disabled-bg-color: #DDD;\n",
              "  }\n",
              "\n",
              "  [theme=dark] .colab-df-quickchart {\n",
              "      --bg-color: #3B4455;\n",
              "      --fill-color: #D2E3FC;\n",
              "      --hover-bg-color: #434B5C;\n",
              "      --hover-fill-color: #FFFFFF;\n",
              "      --disabled-bg-color: #3B4455;\n",
              "      --disabled-fill-color: #666;\n",
              "  }\n",
              "\n",
              "  .colab-df-quickchart {\n",
              "    background-color: var(--bg-color);\n",
              "    border: none;\n",
              "    border-radius: 50%;\n",
              "    cursor: pointer;\n",
              "    display: none;\n",
              "    fill: var(--fill-color);\n",
              "    height: 32px;\n",
              "    padding: 0;\n",
              "    width: 32px;\n",
              "  }\n",
              "\n",
              "  .colab-df-quickchart:hover {\n",
              "    background-color: var(--hover-bg-color);\n",
              "    box-shadow: 0 1px 2px rgba(60, 64, 67, 0.3), 0 1px 3px 1px rgba(60, 64, 67, 0.15);\n",
              "    fill: var(--button-hover-fill-color);\n",
              "  }\n",
              "\n",
              "  .colab-df-quickchart-complete:disabled,\n",
              "  .colab-df-quickchart-complete:disabled:hover {\n",
              "    background-color: var(--disabled-bg-color);\n",
              "    fill: var(--disabled-fill-color);\n",
              "    box-shadow: none;\n",
              "  }\n",
              "\n",
              "  .colab-df-spinner {\n",
              "    border: 2px solid var(--fill-color);\n",
              "    border-color: transparent;\n",
              "    border-bottom-color: var(--fill-color);\n",
              "    animation:\n",
              "      spin 1s steps(1) infinite;\n",
              "  }\n",
              "\n",
              "  @keyframes spin {\n",
              "    0% {\n",
              "      border-color: transparent;\n",
              "      border-bottom-color: var(--fill-color);\n",
              "      border-left-color: var(--fill-color);\n",
              "    }\n",
              "    20% {\n",
              "      border-color: transparent;\n",
              "      border-left-color: var(--fill-color);\n",
              "      border-top-color: var(--fill-color);\n",
              "    }\n",
              "    30% {\n",
              "      border-color: transparent;\n",
              "      border-left-color: var(--fill-color);\n",
              "      border-top-color: var(--fill-color);\n",
              "      border-right-color: var(--fill-color);\n",
              "    }\n",
              "    40% {\n",
              "      border-color: transparent;\n",
              "      border-right-color: var(--fill-color);\n",
              "      border-top-color: var(--fill-color);\n",
              "    }\n",
              "    60% {\n",
              "      border-color: transparent;\n",
              "      border-right-color: var(--fill-color);\n",
              "    }\n",
              "    80% {\n",
              "      border-color: transparent;\n",
              "      border-right-color: var(--fill-color);\n",
              "      border-bottom-color: var(--fill-color);\n",
              "    }\n",
              "    90% {\n",
              "      border-color: transparent;\n",
              "      border-bottom-color: var(--fill-color);\n",
              "    }\n",
              "  }\n",
              "</style>\n",
              "\n",
              "  <script>\n",
              "    async function quickchart(key) {\n",
              "      const quickchartButtonEl =\n",
              "        document.querySelector('#' + key + ' button');\n",
              "      quickchartButtonEl.disabled = true;  // To prevent multiple clicks.\n",
              "      quickchartButtonEl.classList.add('colab-df-spinner');\n",
              "      try {\n",
              "        const charts = await google.colab.kernel.invokeFunction(\n",
              "            'suggestCharts', [key], {});\n",
              "      } catch (error) {\n",
              "        console.error('Error during call to suggestCharts:', error);\n",
              "      }\n",
              "      quickchartButtonEl.classList.remove('colab-df-spinner');\n",
              "      quickchartButtonEl.classList.add('colab-df-quickchart-complete');\n",
              "    }\n",
              "    (() => {\n",
              "      let quickchartButtonEl =\n",
              "        document.querySelector('#df-cac9e4b1-8b8b-4aef-8c22-d0f561285e91 button');\n",
              "      quickchartButtonEl.style.display =\n",
              "        google.colab.kernel.accessAllowed ? 'block' : 'none';\n",
              "    })();\n",
              "  </script>\n",
              "</div>\n",
              "\n",
              "    </div>\n",
              "  </div>\n"
            ],
            "application/vnd.google.colaboratory.intrinsic+json": {
              "type": "dataframe",
              "variable_name": "models_pred",
              "summary": "{\n  \"name\": \"models_pred\",\n  \"rows\": 103,\n  \"fields\": [\n    {\n      \"column\": \"X_test\",\n      \"properties\": {\n        \"dtype\": \"string\",\n        \"num_unique_values\": 103,\n        \"samples\": [\n          \"Perpetual Bonds Unlikely to Be the Answer for Indebted Argentina. President Javier Milei\\u2019s suggestion that Argentina could issue debt to comply with a $16 billion lawsuit award related to the nationalization of oil company YPF was met with skepticism from investors who have been repeatedly burned by the serial defaulter.\",\n          \"Is YPF Sociedad Anonima (YPF) Stock Undervalued Right Now? Here at Zacks, our focus is on the proven Zacks Rank system, which emphasizes earnings estimates and estimate revisions to find great stocks. Nevertheless, we are always paying attention to the latest value, growth, and momentum trends to underscore strong picks.. \",\n          \"Milei's Argentina 'omnibus' bill faces gauntlet after clearing first hurdle. \"\n        ],\n        \"semantic_type\": \"\",\n        \"description\": \"\"\n      }\n    },\n    {\n      \"column\": \"y_test\",\n      \"properties\": {\n        \"dtype\": \"category\",\n        \"num_unique_values\": 2,\n        \"samples\": [\n          \"Neutro\",\n          \"Compra\"\n        ],\n        \"semantic_type\": \"\",\n        \"description\": \"\"\n      }\n    },\n    {\n      \"column\": \"RegLog\",\n      \"properties\": {\n        \"dtype\": \"category\",\n        \"num_unique_values\": 2,\n        \"samples\": [\n          \"Neutro\",\n          \"Compra\"\n        ],\n        \"semantic_type\": \"\",\n        \"description\": \"\"\n      }\n    },\n    {\n      \"column\": \"RegLog_SW\",\n      \"properties\": {\n        \"dtype\": \"category\",\n        \"num_unique_values\": 2,\n        \"samples\": [\n          \"Neutro\",\n          \"Compra\"\n        ],\n        \"semantic_type\": \"\",\n        \"description\": \"\"\n      }\n    },\n    {\n      \"column\": \"MultinomialNB\",\n      \"properties\": {\n        \"dtype\": \"category\",\n        \"num_unique_values\": 2,\n        \"samples\": [\n          \"Neutro\",\n          \"Compra\"\n        ],\n        \"semantic_type\": \"\",\n        \"description\": \"\"\n      }\n    },\n    {\n      \"column\": \"MultinomialNB_SW\",\n      \"properties\": {\n        \"dtype\": \"category\",\n        \"num_unique_values\": 2,\n        \"samples\": [\n          \"Neutro\",\n          \"Compra\"\n        ],\n        \"semantic_type\": \"\",\n        \"description\": \"\"\n      }\n    },\n    {\n      \"column\": \"SVC\",\n      \"properties\": {\n        \"dtype\": \"category\",\n        \"num_unique_values\": 2,\n        \"samples\": [\n          \"Neutro\",\n          \"Compra\"\n        ],\n        \"semantic_type\": \"\",\n        \"description\": \"\"\n      }\n    },\n    {\n      \"column\": \"SVC_SW\",\n      \"properties\": {\n        \"dtype\": \"category\",\n        \"num_unique_values\": 2,\n        \"samples\": [\n          \"Neutro\",\n          \"Compra\"\n        ],\n        \"semantic_type\": \"\",\n        \"description\": \"\"\n      }\n    },\n    {\n      \"column\": \"RF\",\n      \"properties\": {\n        \"dtype\": \"category\",\n        \"num_unique_values\": 2,\n        \"samples\": [\n          \"Neutro\",\n          \"Compra\"\n        ],\n        \"semantic_type\": \"\",\n        \"description\": \"\"\n      }\n    },\n    {\n      \"column\": \"RF_SW\",\n      \"properties\": {\n        \"dtype\": \"category\",\n        \"num_unique_values\": 2,\n        \"samples\": [\n          \"Neutro\",\n          \"Compra\"\n        ],\n        \"semantic_type\": \"\",\n        \"description\": \"\"\n      }\n    },\n    {\n      \"column\": \"XGB\",\n      \"properties\": {\n        \"dtype\": \"category\",\n        \"num_unique_values\": 2,\n        \"samples\": [\n          \"Neutro\",\n          \"Compra\"\n        ],\n        \"semantic_type\": \"\",\n        \"description\": \"\"\n      }\n    },\n    {\n      \"column\": \"XGB_SW\",\n      \"properties\": {\n        \"dtype\": \"category\",\n        \"num_unique_values\": 2,\n        \"samples\": [\n          \"Neutro\",\n          \"Compra\"\n        ],\n        \"semantic_type\": \"\",\n        \"description\": \"\"\n      }\n    },\n    {\n      \"column\": \"LightGBM\",\n      \"properties\": {\n        \"dtype\": \"category\",\n        \"num_unique_values\": 2,\n        \"samples\": [\n          \"Neutro\",\n          \"Compra\"\n        ],\n        \"semantic_type\": \"\",\n        \"description\": \"\"\n      }\n    },\n    {\n      \"column\": \"LightGBM_SW\",\n      \"properties\": {\n        \"dtype\": \"category\",\n        \"num_unique_values\": 2,\n        \"samples\": [\n          \"Neutro\",\n          \"Compra\"\n        ],\n        \"semantic_type\": \"\",\n        \"description\": \"\"\n      }\n    },\n    {\n      \"column\": \"Word2Vec_LGBM\",\n      \"properties\": {\n        \"dtype\": \"category\",\n        \"num_unique_values\": 2,\n        \"samples\": [\n          \"Neutro\",\n          \"Compra\"\n        ],\n        \"semantic_type\": \"\",\n        \"description\": \"\"\n      }\n    },\n    {\n      \"column\": \"BERT\",\n      \"properties\": {\n        \"dtype\": \"category\",\n        \"num_unique_values\": 2,\n        \"samples\": [\n          \"Neutro\",\n          \"Compra\"\n        ],\n        \"semantic_type\": \"\",\n        \"description\": \"\"\n      }\n    }\n  ]\n}"
            }
          },
          "metadata": {},
          "execution_count": 91
        }
      ],
      "source": [
        "models_pred.head()"
      ]
    },
    {
      "cell_type": "code",
      "execution_count": null,
      "metadata": {
        "id": "dcWqk4qjCeTL"
      },
      "outputs": [],
      "source": [
        "models_pred.to_excel('ypf_predicciones_modelos.xlsx', index=False)"
      ]
    },
    {
      "cell_type": "markdown",
      "metadata": {
        "id": "OcYX-fuoCeTL"
      },
      "source": [
        "### Probabilidades"
      ]
    },
    {
      "cell_type": "code",
      "execution_count": null,
      "metadata": {
        "id": "W1UEw3EsCeTM"
      },
      "outputs": [],
      "source": [
        "probas = [\n",
        "    y_pred_lr_proba,\n",
        "    y_pred_lr_sw_proba,\n",
        "    y_pred_nb_proba,\n",
        "    y_pred_nb_sw_proba,\n",
        "    y_pred_svc_proba,\n",
        "    y_pred_svc_sw_proba,\n",
        "    y_pred_rf_proba,\n",
        "    y_pred_rf_sw_proba,\n",
        "    y_pred_xgb_proba,\n",
        "    y_pred_xgb_sw_proba,\n",
        "    y_pred_lgbm_proba,\n",
        "    y_pred_lgbm_sw_proba,\n",
        "    y_pred_w2v_lgbm_proba,\n",
        "    y_pred_bert_proba\n",
        "]"
      ]
    },
    {
      "cell_type": "markdown",
      "metadata": {
        "id": "-wa8KnnmCeTM"
      },
      "source": [
        "## Ensemble"
      ]
    },
    {
      "cell_type": "code",
      "execution_count": null,
      "metadata": {
        "id": "ewKeNkWECeTN"
      },
      "outputs": [],
      "source": [
        "v_probas = len(probas)\n",
        "v_length = len(probas[0])\n",
        "\n",
        "y_pred_ensemble_proba = [[0] * 2 for _ in range(v_length)]\n",
        "\n",
        "for proba in range(0,v_probas):\n",
        "    for row in range(0,v_length):\n",
        "        for category in range(0,2):\n",
        "            y_pred_ensemble_proba[row][category] += probas[proba][row][category]\n",
        "\n",
        "for row in range(0,v_length):\n",
        "    for category in range(0,2):\n",
        "        y_pred_ensemble_proba[row][category] = y_pred_ensemble_proba[row][category]/v_probas"
      ]
    },
    {
      "cell_type": "code",
      "execution_count": null,
      "metadata": {
        "id": "WauN0SiSCeTN"
      },
      "outputs": [],
      "source": [
        "v_data = {}\n",
        "for i in range(2):\n",
        "    column_name = chr(65 + i)\n",
        "    v_data[column_name] = [inner_list[i] for inner_list in y_pred_ensemble_proba]\n",
        "\n",
        "df = pd.DataFrame(v_data)"
      ]
    },
    {
      "cell_type": "code",
      "execution_count": null,
      "metadata": {
        "id": "DAH6Q4dVCeTN"
      },
      "outputs": [],
      "source": [
        "prob_ensemble = pd.DataFrame(\n",
        "    {\n",
        "        'X_test': data_test['Text'].tolist(),\n",
        "        'y_test': data_test['Category'].tolist(),\n",
        "        'Compra': df['A'].values.tolist(),\n",
        "        'Neutro': df['B'].values.tolist()\n",
        "    }\n",
        ")"
      ]
    },
    {
      "cell_type": "code",
      "execution_count": null,
      "metadata": {
        "id": "pbJDsCjUCeTO",
        "outputId": "b5000d1c-b520-4069-8488-3156783904ea",
        "colab": {
          "base_uri": "https://localhost:8080/",
          "height": 424
        }
      },
      "outputs": [
        {
          "output_type": "execute_result",
          "data": {
            "text/plain": [
              "                                                X_test  y_test    Compra  \\\n",
              "0    Argentine Stocks Soar, Bonds Climb as Investor...  Compra  0.685244   \n",
              "1    Argentina Gets Delay on Payment of $16.1 Billi...  Compra  0.687517   \n",
              "2    Emerging Market Debt: Zambia's $3 Billion Impa...  Compra  0.725381   \n",
              "3    Argentine stocks surge as markets open after p...  Compra  0.543203   \n",
              "4      FirstFT: OpenAI’s future hangs in the balance.   Compra  0.645994   \n",
              "..                                                 ...     ...       ...   \n",
              "98   Milei takes a chainsaw to Argentina’s state co...  Compra  0.711774   \n",
              "99   YPF Sociedad Anonima (YPF) Gains As Market Dip...  Compra  0.730012   \n",
              "100  Argentina builds case for exporting natgas to ...  Neutro  0.706977   \n",
              "101  Javier Milei Races to Ease Argentina Inflation...  Compra  0.749745   \n",
              "102  Milei Seeks Second Chance From Congress With S...  Neutro  0.731971   \n",
              "\n",
              "       Neutro  \n",
              "0    0.314756  \n",
              "1    0.312483  \n",
              "2    0.274619  \n",
              "3    0.456797  \n",
              "4    0.354006  \n",
              "..        ...  \n",
              "98   0.288226  \n",
              "99   0.269988  \n",
              "100  0.293023  \n",
              "101  0.250255  \n",
              "102  0.268029  \n",
              "\n",
              "[103 rows x 4 columns]"
            ],
            "text/html": [
              "\n",
              "  <div id=\"df-5d8c3b14-89a7-4417-907a-50ecad0df69e\" class=\"colab-df-container\">\n",
              "    <div>\n",
              "<style scoped>\n",
              "    .dataframe tbody tr th:only-of-type {\n",
              "        vertical-align: middle;\n",
              "    }\n",
              "\n",
              "    .dataframe tbody tr th {\n",
              "        vertical-align: top;\n",
              "    }\n",
              "\n",
              "    .dataframe thead th {\n",
              "        text-align: right;\n",
              "    }\n",
              "</style>\n",
              "<table border=\"1\" class=\"dataframe\">\n",
              "  <thead>\n",
              "    <tr style=\"text-align: right;\">\n",
              "      <th></th>\n",
              "      <th>X_test</th>\n",
              "      <th>y_test</th>\n",
              "      <th>Compra</th>\n",
              "      <th>Neutro</th>\n",
              "    </tr>\n",
              "  </thead>\n",
              "  <tbody>\n",
              "    <tr>\n",
              "      <th>0</th>\n",
              "      <td>Argentine Stocks Soar, Bonds Climb as Investor...</td>\n",
              "      <td>Compra</td>\n",
              "      <td>0.685244</td>\n",
              "      <td>0.314756</td>\n",
              "    </tr>\n",
              "    <tr>\n",
              "      <th>1</th>\n",
              "      <td>Argentina Gets Delay on Payment of $16.1 Billi...</td>\n",
              "      <td>Compra</td>\n",
              "      <td>0.687517</td>\n",
              "      <td>0.312483</td>\n",
              "    </tr>\n",
              "    <tr>\n",
              "      <th>2</th>\n",
              "      <td>Emerging Market Debt: Zambia's $3 Billion Impa...</td>\n",
              "      <td>Compra</td>\n",
              "      <td>0.725381</td>\n",
              "      <td>0.274619</td>\n",
              "    </tr>\n",
              "    <tr>\n",
              "      <th>3</th>\n",
              "      <td>Argentine stocks surge as markets open after p...</td>\n",
              "      <td>Compra</td>\n",
              "      <td>0.543203</td>\n",
              "      <td>0.456797</td>\n",
              "    </tr>\n",
              "    <tr>\n",
              "      <th>4</th>\n",
              "      <td>FirstFT: OpenAI’s future hangs in the balance.</td>\n",
              "      <td>Compra</td>\n",
              "      <td>0.645994</td>\n",
              "      <td>0.354006</td>\n",
              "    </tr>\n",
              "    <tr>\n",
              "      <th>...</th>\n",
              "      <td>...</td>\n",
              "      <td>...</td>\n",
              "      <td>...</td>\n",
              "      <td>...</td>\n",
              "    </tr>\n",
              "    <tr>\n",
              "      <th>98</th>\n",
              "      <td>Milei takes a chainsaw to Argentina’s state co...</td>\n",
              "      <td>Compra</td>\n",
              "      <td>0.711774</td>\n",
              "      <td>0.288226</td>\n",
              "    </tr>\n",
              "    <tr>\n",
              "      <th>99</th>\n",
              "      <td>YPF Sociedad Anonima (YPF) Gains As Market Dip...</td>\n",
              "      <td>Compra</td>\n",
              "      <td>0.730012</td>\n",
              "      <td>0.269988</td>\n",
              "    </tr>\n",
              "    <tr>\n",
              "      <th>100</th>\n",
              "      <td>Argentina builds case for exporting natgas to ...</td>\n",
              "      <td>Neutro</td>\n",
              "      <td>0.706977</td>\n",
              "      <td>0.293023</td>\n",
              "    </tr>\n",
              "    <tr>\n",
              "      <th>101</th>\n",
              "      <td>Javier Milei Races to Ease Argentina Inflation...</td>\n",
              "      <td>Compra</td>\n",
              "      <td>0.749745</td>\n",
              "      <td>0.250255</td>\n",
              "    </tr>\n",
              "    <tr>\n",
              "      <th>102</th>\n",
              "      <td>Milei Seeks Second Chance From Congress With S...</td>\n",
              "      <td>Neutro</td>\n",
              "      <td>0.731971</td>\n",
              "      <td>0.268029</td>\n",
              "    </tr>\n",
              "  </tbody>\n",
              "</table>\n",
              "<p>103 rows × 4 columns</p>\n",
              "</div>\n",
              "    <div class=\"colab-df-buttons\">\n",
              "\n",
              "  <div class=\"colab-df-container\">\n",
              "    <button class=\"colab-df-convert\" onclick=\"convertToInteractive('df-5d8c3b14-89a7-4417-907a-50ecad0df69e')\"\n",
              "            title=\"Convert this dataframe to an interactive table.\"\n",
              "            style=\"display:none;\">\n",
              "\n",
              "  <svg xmlns=\"http://www.w3.org/2000/svg\" height=\"24px\" viewBox=\"0 -960 960 960\">\n",
              "    <path d=\"M120-120v-720h720v720H120Zm60-500h600v-160H180v160Zm220 220h160v-160H400v160Zm0 220h160v-160H400v160ZM180-400h160v-160H180v160Zm440 0h160v-160H620v160ZM180-180h160v-160H180v160Zm440 0h160v-160H620v160Z\"/>\n",
              "  </svg>\n",
              "    </button>\n",
              "\n",
              "  <style>\n",
              "    .colab-df-container {\n",
              "      display:flex;\n",
              "      gap: 12px;\n",
              "    }\n",
              "\n",
              "    .colab-df-convert {\n",
              "      background-color: #E8F0FE;\n",
              "      border: none;\n",
              "      border-radius: 50%;\n",
              "      cursor: pointer;\n",
              "      display: none;\n",
              "      fill: #1967D2;\n",
              "      height: 32px;\n",
              "      padding: 0 0 0 0;\n",
              "      width: 32px;\n",
              "    }\n",
              "\n",
              "    .colab-df-convert:hover {\n",
              "      background-color: #E2EBFA;\n",
              "      box-shadow: 0px 1px 2px rgba(60, 64, 67, 0.3), 0px 1px 3px 1px rgba(60, 64, 67, 0.15);\n",
              "      fill: #174EA6;\n",
              "    }\n",
              "\n",
              "    .colab-df-buttons div {\n",
              "      margin-bottom: 4px;\n",
              "    }\n",
              "\n",
              "    [theme=dark] .colab-df-convert {\n",
              "      background-color: #3B4455;\n",
              "      fill: #D2E3FC;\n",
              "    }\n",
              "\n",
              "    [theme=dark] .colab-df-convert:hover {\n",
              "      background-color: #434B5C;\n",
              "      box-shadow: 0px 1px 3px 1px rgba(0, 0, 0, 0.15);\n",
              "      filter: drop-shadow(0px 1px 2px rgba(0, 0, 0, 0.3));\n",
              "      fill: #FFFFFF;\n",
              "    }\n",
              "  </style>\n",
              "\n",
              "    <script>\n",
              "      const buttonEl =\n",
              "        document.querySelector('#df-5d8c3b14-89a7-4417-907a-50ecad0df69e button.colab-df-convert');\n",
              "      buttonEl.style.display =\n",
              "        google.colab.kernel.accessAllowed ? 'block' : 'none';\n",
              "\n",
              "      async function convertToInteractive(key) {\n",
              "        const element = document.querySelector('#df-5d8c3b14-89a7-4417-907a-50ecad0df69e');\n",
              "        const dataTable =\n",
              "          await google.colab.kernel.invokeFunction('convertToInteractive',\n",
              "                                                    [key], {});\n",
              "        if (!dataTable) return;\n",
              "\n",
              "        const docLinkHtml = 'Like what you see? Visit the ' +\n",
              "          '<a target=\"_blank\" href=https://colab.research.google.com/notebooks/data_table.ipynb>data table notebook</a>'\n",
              "          + ' to learn more about interactive tables.';\n",
              "        element.innerHTML = '';\n",
              "        dataTable['output_type'] = 'display_data';\n",
              "        await google.colab.output.renderOutput(dataTable, element);\n",
              "        const docLink = document.createElement('div');\n",
              "        docLink.innerHTML = docLinkHtml;\n",
              "        element.appendChild(docLink);\n",
              "      }\n",
              "    </script>\n",
              "  </div>\n",
              "\n",
              "\n",
              "<div id=\"df-37eaf76b-3132-42ce-97bc-7287f7bb093e\">\n",
              "  <button class=\"colab-df-quickchart\" onclick=\"quickchart('df-37eaf76b-3132-42ce-97bc-7287f7bb093e')\"\n",
              "            title=\"Suggest charts\"\n",
              "            style=\"display:none;\">\n",
              "\n",
              "<svg xmlns=\"http://www.w3.org/2000/svg\" height=\"24px\"viewBox=\"0 0 24 24\"\n",
              "     width=\"24px\">\n",
              "    <g>\n",
              "        <path d=\"M19 3H5c-1.1 0-2 .9-2 2v14c0 1.1.9 2 2 2h14c1.1 0 2-.9 2-2V5c0-1.1-.9-2-2-2zM9 17H7v-7h2v7zm4 0h-2V7h2v10zm4 0h-2v-4h2v4z\"/>\n",
              "    </g>\n",
              "</svg>\n",
              "  </button>\n",
              "\n",
              "<style>\n",
              "  .colab-df-quickchart {\n",
              "      --bg-color: #E8F0FE;\n",
              "      --fill-color: #1967D2;\n",
              "      --hover-bg-color: #E2EBFA;\n",
              "      --hover-fill-color: #174EA6;\n",
              "      --disabled-fill-color: #AAA;\n",
              "      --disabled-bg-color: #DDD;\n",
              "  }\n",
              "\n",
              "  [theme=dark] .colab-df-quickchart {\n",
              "      --bg-color: #3B4455;\n",
              "      --fill-color: #D2E3FC;\n",
              "      --hover-bg-color: #434B5C;\n",
              "      --hover-fill-color: #FFFFFF;\n",
              "      --disabled-bg-color: #3B4455;\n",
              "      --disabled-fill-color: #666;\n",
              "  }\n",
              "\n",
              "  .colab-df-quickchart {\n",
              "    background-color: var(--bg-color);\n",
              "    border: none;\n",
              "    border-radius: 50%;\n",
              "    cursor: pointer;\n",
              "    display: none;\n",
              "    fill: var(--fill-color);\n",
              "    height: 32px;\n",
              "    padding: 0;\n",
              "    width: 32px;\n",
              "  }\n",
              "\n",
              "  .colab-df-quickchart:hover {\n",
              "    background-color: var(--hover-bg-color);\n",
              "    box-shadow: 0 1px 2px rgba(60, 64, 67, 0.3), 0 1px 3px 1px rgba(60, 64, 67, 0.15);\n",
              "    fill: var(--button-hover-fill-color);\n",
              "  }\n",
              "\n",
              "  .colab-df-quickchart-complete:disabled,\n",
              "  .colab-df-quickchart-complete:disabled:hover {\n",
              "    background-color: var(--disabled-bg-color);\n",
              "    fill: var(--disabled-fill-color);\n",
              "    box-shadow: none;\n",
              "  }\n",
              "\n",
              "  .colab-df-spinner {\n",
              "    border: 2px solid var(--fill-color);\n",
              "    border-color: transparent;\n",
              "    border-bottom-color: var(--fill-color);\n",
              "    animation:\n",
              "      spin 1s steps(1) infinite;\n",
              "  }\n",
              "\n",
              "  @keyframes spin {\n",
              "    0% {\n",
              "      border-color: transparent;\n",
              "      border-bottom-color: var(--fill-color);\n",
              "      border-left-color: var(--fill-color);\n",
              "    }\n",
              "    20% {\n",
              "      border-color: transparent;\n",
              "      border-left-color: var(--fill-color);\n",
              "      border-top-color: var(--fill-color);\n",
              "    }\n",
              "    30% {\n",
              "      border-color: transparent;\n",
              "      border-left-color: var(--fill-color);\n",
              "      border-top-color: var(--fill-color);\n",
              "      border-right-color: var(--fill-color);\n",
              "    }\n",
              "    40% {\n",
              "      border-color: transparent;\n",
              "      border-right-color: var(--fill-color);\n",
              "      border-top-color: var(--fill-color);\n",
              "    }\n",
              "    60% {\n",
              "      border-color: transparent;\n",
              "      border-right-color: var(--fill-color);\n",
              "    }\n",
              "    80% {\n",
              "      border-color: transparent;\n",
              "      border-right-color: var(--fill-color);\n",
              "      border-bottom-color: var(--fill-color);\n",
              "    }\n",
              "    90% {\n",
              "      border-color: transparent;\n",
              "      border-bottom-color: var(--fill-color);\n",
              "    }\n",
              "  }\n",
              "</style>\n",
              "\n",
              "  <script>\n",
              "    async function quickchart(key) {\n",
              "      const quickchartButtonEl =\n",
              "        document.querySelector('#' + key + ' button');\n",
              "      quickchartButtonEl.disabled = true;  // To prevent multiple clicks.\n",
              "      quickchartButtonEl.classList.add('colab-df-spinner');\n",
              "      try {\n",
              "        const charts = await google.colab.kernel.invokeFunction(\n",
              "            'suggestCharts', [key], {});\n",
              "      } catch (error) {\n",
              "        console.error('Error during call to suggestCharts:', error);\n",
              "      }\n",
              "      quickchartButtonEl.classList.remove('colab-df-spinner');\n",
              "      quickchartButtonEl.classList.add('colab-df-quickchart-complete');\n",
              "    }\n",
              "    (() => {\n",
              "      let quickchartButtonEl =\n",
              "        document.querySelector('#df-37eaf76b-3132-42ce-97bc-7287f7bb093e button');\n",
              "      quickchartButtonEl.style.display =\n",
              "        google.colab.kernel.accessAllowed ? 'block' : 'none';\n",
              "    })();\n",
              "  </script>\n",
              "</div>\n",
              "\n",
              "  <div id=\"id_4c41d77c-8444-4fdd-9016-8f95265b28bb\">\n",
              "    <style>\n",
              "      .colab-df-generate {\n",
              "        background-color: #E8F0FE;\n",
              "        border: none;\n",
              "        border-radius: 50%;\n",
              "        cursor: pointer;\n",
              "        display: none;\n",
              "        fill: #1967D2;\n",
              "        height: 32px;\n",
              "        padding: 0 0 0 0;\n",
              "        width: 32px;\n",
              "      }\n",
              "\n",
              "      .colab-df-generate:hover {\n",
              "        background-color: #E2EBFA;\n",
              "        box-shadow: 0px 1px 2px rgba(60, 64, 67, 0.3), 0px 1px 3px 1px rgba(60, 64, 67, 0.15);\n",
              "        fill: #174EA6;\n",
              "      }\n",
              "\n",
              "      [theme=dark] .colab-df-generate {\n",
              "        background-color: #3B4455;\n",
              "        fill: #D2E3FC;\n",
              "      }\n",
              "\n",
              "      [theme=dark] .colab-df-generate:hover {\n",
              "        background-color: #434B5C;\n",
              "        box-shadow: 0px 1px 3px 1px rgba(0, 0, 0, 0.15);\n",
              "        filter: drop-shadow(0px 1px 2px rgba(0, 0, 0, 0.3));\n",
              "        fill: #FFFFFF;\n",
              "      }\n",
              "    </style>\n",
              "    <button class=\"colab-df-generate\" onclick=\"generateWithVariable('prob_ensemble')\"\n",
              "            title=\"Generate code using this dataframe.\"\n",
              "            style=\"display:none;\">\n",
              "\n",
              "  <svg xmlns=\"http://www.w3.org/2000/svg\" height=\"24px\"viewBox=\"0 0 24 24\"\n",
              "       width=\"24px\">\n",
              "    <path d=\"M7,19H8.4L18.45,9,17,7.55,7,17.6ZM5,21V16.75L18.45,3.32a2,2,0,0,1,2.83,0l1.4,1.43a1.91,1.91,0,0,1,.58,1.4,1.91,1.91,0,0,1-.58,1.4L9.25,21ZM18.45,9,17,7.55Zm-12,3A5.31,5.31,0,0,0,4.9,8.1,5.31,5.31,0,0,0,1,6.5,5.31,5.31,0,0,0,4.9,4.9,5.31,5.31,0,0,0,6.5,1,5.31,5.31,0,0,0,8.1,4.9,5.31,5.31,0,0,0,12,6.5,5.46,5.46,0,0,0,6.5,12Z\"/>\n",
              "  </svg>\n",
              "    </button>\n",
              "    <script>\n",
              "      (() => {\n",
              "      const buttonEl =\n",
              "        document.querySelector('#id_4c41d77c-8444-4fdd-9016-8f95265b28bb button.colab-df-generate');\n",
              "      buttonEl.style.display =\n",
              "        google.colab.kernel.accessAllowed ? 'block' : 'none';\n",
              "\n",
              "      buttonEl.onclick = () => {\n",
              "        google.colab.notebook.generateWithVariable('prob_ensemble');\n",
              "      }\n",
              "      })();\n",
              "    </script>\n",
              "  </div>\n",
              "\n",
              "    </div>\n",
              "  </div>\n"
            ],
            "application/vnd.google.colaboratory.intrinsic+json": {
              "type": "dataframe",
              "variable_name": "prob_ensemble",
              "summary": "{\n  \"name\": \"prob_ensemble\",\n  \"rows\": 103,\n  \"fields\": [\n    {\n      \"column\": \"X_test\",\n      \"properties\": {\n        \"dtype\": \"string\",\n        \"num_unique_values\": 103,\n        \"samples\": [\n          \"Perpetual Bonds Unlikely to Be the Answer for Indebted Argentina. President Javier Milei\\u2019s suggestion that Argentina could issue debt to comply with a $16 billion lawsuit award related to the nationalization of oil company YPF was met with skepticism from investors who have been repeatedly burned by the serial defaulter.\",\n          \"Is YPF Sociedad Anonima (YPF) Stock Undervalued Right Now? Here at Zacks, our focus is on the proven Zacks Rank system, which emphasizes earnings estimates and estimate revisions to find great stocks. Nevertheless, we are always paying attention to the latest value, growth, and momentum trends to underscore strong picks.. \",\n          \"Milei's Argentina 'omnibus' bill faces gauntlet after clearing first hurdle. \"\n        ],\n        \"semantic_type\": \"\",\n        \"description\": \"\"\n      }\n    },\n    {\n      \"column\": \"y_test\",\n      \"properties\": {\n        \"dtype\": \"category\",\n        \"num_unique_values\": 2,\n        \"samples\": [\n          \"Neutro\",\n          \"Compra\"\n        ],\n        \"semantic_type\": \"\",\n        \"description\": \"\"\n      }\n    },\n    {\n      \"column\": \"Compra\",\n      \"properties\": {\n        \"dtype\": \"number\",\n        \"std\": 0.08762180816408481,\n        \"min\": 0.44047154911653397,\n        \"max\": 0.7922171139662203,\n        \"num_unique_values\": 103,\n        \"samples\": [\n          0.6374792994071518,\n          0.7783125665550384\n        ],\n        \"semantic_type\": \"\",\n        \"description\": \"\"\n      }\n    },\n    {\n      \"column\": \"Neutro\",\n      \"properties\": {\n        \"dtype\": \"number\",\n        \"std\": 0.08762180862237232,\n        \"min\": 0.2077828851024571,\n        \"max\": 0.5595284508834659,\n        \"num_unique_values\": 103,\n        \"samples\": [\n          0.3625206991293413,\n          0.2216874345093302\n        ],\n        \"semantic_type\": \"\",\n        \"description\": \"\"\n      }\n    }\n  ]\n}"
            }
          },
          "metadata": {},
          "execution_count": 97
        }
      ],
      "source": [
        "prob_ensemble"
      ]
    },
    {
      "cell_type": "code",
      "execution_count": null,
      "metadata": {
        "id": "YlAPTPWJCeTO"
      },
      "outputs": [],
      "source": [
        "prob_ensemble['Ensemble Label'] = prob_ensemble[['Compra', 'Neutro']].idxmax(axis=1)"
      ]
    },
    {
      "cell_type": "code",
      "execution_count": null,
      "metadata": {
        "id": "Uu0aKhpFCeTO",
        "outputId": "4ce480f4-249e-4dcd-994a-2d26b8fa34dc",
        "colab": {
          "base_uri": "https://localhost:8080/",
          "height": 424
        }
      },
      "outputs": [
        {
          "output_type": "execute_result",
          "data": {
            "text/plain": [
              "                                                X_test  y_test    Compra  \\\n",
              "0    Argentine Stocks Soar, Bonds Climb as Investor...  Compra  0.685244   \n",
              "1    Argentina Gets Delay on Payment of $16.1 Billi...  Compra  0.687517   \n",
              "2    Emerging Market Debt: Zambia's $3 Billion Impa...  Compra  0.725381   \n",
              "3    Argentine stocks surge as markets open after p...  Compra  0.543203   \n",
              "4      FirstFT: OpenAI’s future hangs in the balance.   Compra  0.645994   \n",
              "..                                                 ...     ...       ...   \n",
              "98   Milei takes a chainsaw to Argentina’s state co...  Compra  0.711774   \n",
              "99   YPF Sociedad Anonima (YPF) Gains As Market Dip...  Compra  0.730012   \n",
              "100  Argentina builds case for exporting natgas to ...  Neutro  0.706977   \n",
              "101  Javier Milei Races to Ease Argentina Inflation...  Compra  0.749745   \n",
              "102  Milei Seeks Second Chance From Congress With S...  Neutro  0.731971   \n",
              "\n",
              "       Neutro Ensemble Label  \n",
              "0    0.314756         Compra  \n",
              "1    0.312483         Compra  \n",
              "2    0.274619         Compra  \n",
              "3    0.456797         Compra  \n",
              "4    0.354006         Compra  \n",
              "..        ...            ...  \n",
              "98   0.288226         Compra  \n",
              "99   0.269988         Compra  \n",
              "100  0.293023         Compra  \n",
              "101  0.250255         Compra  \n",
              "102  0.268029         Compra  \n",
              "\n",
              "[103 rows x 5 columns]"
            ],
            "text/html": [
              "\n",
              "  <div id=\"df-d8b21d6f-b6d2-4906-87c8-fe19645f1248\" class=\"colab-df-container\">\n",
              "    <div>\n",
              "<style scoped>\n",
              "    .dataframe tbody tr th:only-of-type {\n",
              "        vertical-align: middle;\n",
              "    }\n",
              "\n",
              "    .dataframe tbody tr th {\n",
              "        vertical-align: top;\n",
              "    }\n",
              "\n",
              "    .dataframe thead th {\n",
              "        text-align: right;\n",
              "    }\n",
              "</style>\n",
              "<table border=\"1\" class=\"dataframe\">\n",
              "  <thead>\n",
              "    <tr style=\"text-align: right;\">\n",
              "      <th></th>\n",
              "      <th>X_test</th>\n",
              "      <th>y_test</th>\n",
              "      <th>Compra</th>\n",
              "      <th>Neutro</th>\n",
              "      <th>Ensemble Label</th>\n",
              "    </tr>\n",
              "  </thead>\n",
              "  <tbody>\n",
              "    <tr>\n",
              "      <th>0</th>\n",
              "      <td>Argentine Stocks Soar, Bonds Climb as Investor...</td>\n",
              "      <td>Compra</td>\n",
              "      <td>0.685244</td>\n",
              "      <td>0.314756</td>\n",
              "      <td>Compra</td>\n",
              "    </tr>\n",
              "    <tr>\n",
              "      <th>1</th>\n",
              "      <td>Argentina Gets Delay on Payment of $16.1 Billi...</td>\n",
              "      <td>Compra</td>\n",
              "      <td>0.687517</td>\n",
              "      <td>0.312483</td>\n",
              "      <td>Compra</td>\n",
              "    </tr>\n",
              "    <tr>\n",
              "      <th>2</th>\n",
              "      <td>Emerging Market Debt: Zambia's $3 Billion Impa...</td>\n",
              "      <td>Compra</td>\n",
              "      <td>0.725381</td>\n",
              "      <td>0.274619</td>\n",
              "      <td>Compra</td>\n",
              "    </tr>\n",
              "    <tr>\n",
              "      <th>3</th>\n",
              "      <td>Argentine stocks surge as markets open after p...</td>\n",
              "      <td>Compra</td>\n",
              "      <td>0.543203</td>\n",
              "      <td>0.456797</td>\n",
              "      <td>Compra</td>\n",
              "    </tr>\n",
              "    <tr>\n",
              "      <th>4</th>\n",
              "      <td>FirstFT: OpenAI’s future hangs in the balance.</td>\n",
              "      <td>Compra</td>\n",
              "      <td>0.645994</td>\n",
              "      <td>0.354006</td>\n",
              "      <td>Compra</td>\n",
              "    </tr>\n",
              "    <tr>\n",
              "      <th>...</th>\n",
              "      <td>...</td>\n",
              "      <td>...</td>\n",
              "      <td>...</td>\n",
              "      <td>...</td>\n",
              "      <td>...</td>\n",
              "    </tr>\n",
              "    <tr>\n",
              "      <th>98</th>\n",
              "      <td>Milei takes a chainsaw to Argentina’s state co...</td>\n",
              "      <td>Compra</td>\n",
              "      <td>0.711774</td>\n",
              "      <td>0.288226</td>\n",
              "      <td>Compra</td>\n",
              "    </tr>\n",
              "    <tr>\n",
              "      <th>99</th>\n",
              "      <td>YPF Sociedad Anonima (YPF) Gains As Market Dip...</td>\n",
              "      <td>Compra</td>\n",
              "      <td>0.730012</td>\n",
              "      <td>0.269988</td>\n",
              "      <td>Compra</td>\n",
              "    </tr>\n",
              "    <tr>\n",
              "      <th>100</th>\n",
              "      <td>Argentina builds case for exporting natgas to ...</td>\n",
              "      <td>Neutro</td>\n",
              "      <td>0.706977</td>\n",
              "      <td>0.293023</td>\n",
              "      <td>Compra</td>\n",
              "    </tr>\n",
              "    <tr>\n",
              "      <th>101</th>\n",
              "      <td>Javier Milei Races to Ease Argentina Inflation...</td>\n",
              "      <td>Compra</td>\n",
              "      <td>0.749745</td>\n",
              "      <td>0.250255</td>\n",
              "      <td>Compra</td>\n",
              "    </tr>\n",
              "    <tr>\n",
              "      <th>102</th>\n",
              "      <td>Milei Seeks Second Chance From Congress With S...</td>\n",
              "      <td>Neutro</td>\n",
              "      <td>0.731971</td>\n",
              "      <td>0.268029</td>\n",
              "      <td>Compra</td>\n",
              "    </tr>\n",
              "  </tbody>\n",
              "</table>\n",
              "<p>103 rows × 5 columns</p>\n",
              "</div>\n",
              "    <div class=\"colab-df-buttons\">\n",
              "\n",
              "  <div class=\"colab-df-container\">\n",
              "    <button class=\"colab-df-convert\" onclick=\"convertToInteractive('df-d8b21d6f-b6d2-4906-87c8-fe19645f1248')\"\n",
              "            title=\"Convert this dataframe to an interactive table.\"\n",
              "            style=\"display:none;\">\n",
              "\n",
              "  <svg xmlns=\"http://www.w3.org/2000/svg\" height=\"24px\" viewBox=\"0 -960 960 960\">\n",
              "    <path d=\"M120-120v-720h720v720H120Zm60-500h600v-160H180v160Zm220 220h160v-160H400v160Zm0 220h160v-160H400v160ZM180-400h160v-160H180v160Zm440 0h160v-160H620v160ZM180-180h160v-160H180v160Zm440 0h160v-160H620v160Z\"/>\n",
              "  </svg>\n",
              "    </button>\n",
              "\n",
              "  <style>\n",
              "    .colab-df-container {\n",
              "      display:flex;\n",
              "      gap: 12px;\n",
              "    }\n",
              "\n",
              "    .colab-df-convert {\n",
              "      background-color: #E8F0FE;\n",
              "      border: none;\n",
              "      border-radius: 50%;\n",
              "      cursor: pointer;\n",
              "      display: none;\n",
              "      fill: #1967D2;\n",
              "      height: 32px;\n",
              "      padding: 0 0 0 0;\n",
              "      width: 32px;\n",
              "    }\n",
              "\n",
              "    .colab-df-convert:hover {\n",
              "      background-color: #E2EBFA;\n",
              "      box-shadow: 0px 1px 2px rgba(60, 64, 67, 0.3), 0px 1px 3px 1px rgba(60, 64, 67, 0.15);\n",
              "      fill: #174EA6;\n",
              "    }\n",
              "\n",
              "    .colab-df-buttons div {\n",
              "      margin-bottom: 4px;\n",
              "    }\n",
              "\n",
              "    [theme=dark] .colab-df-convert {\n",
              "      background-color: #3B4455;\n",
              "      fill: #D2E3FC;\n",
              "    }\n",
              "\n",
              "    [theme=dark] .colab-df-convert:hover {\n",
              "      background-color: #434B5C;\n",
              "      box-shadow: 0px 1px 3px 1px rgba(0, 0, 0, 0.15);\n",
              "      filter: drop-shadow(0px 1px 2px rgba(0, 0, 0, 0.3));\n",
              "      fill: #FFFFFF;\n",
              "    }\n",
              "  </style>\n",
              "\n",
              "    <script>\n",
              "      const buttonEl =\n",
              "        document.querySelector('#df-d8b21d6f-b6d2-4906-87c8-fe19645f1248 button.colab-df-convert');\n",
              "      buttonEl.style.display =\n",
              "        google.colab.kernel.accessAllowed ? 'block' : 'none';\n",
              "\n",
              "      async function convertToInteractive(key) {\n",
              "        const element = document.querySelector('#df-d8b21d6f-b6d2-4906-87c8-fe19645f1248');\n",
              "        const dataTable =\n",
              "          await google.colab.kernel.invokeFunction('convertToInteractive',\n",
              "                                                    [key], {});\n",
              "        if (!dataTable) return;\n",
              "\n",
              "        const docLinkHtml = 'Like what you see? Visit the ' +\n",
              "          '<a target=\"_blank\" href=https://colab.research.google.com/notebooks/data_table.ipynb>data table notebook</a>'\n",
              "          + ' to learn more about interactive tables.';\n",
              "        element.innerHTML = '';\n",
              "        dataTable['output_type'] = 'display_data';\n",
              "        await google.colab.output.renderOutput(dataTable, element);\n",
              "        const docLink = document.createElement('div');\n",
              "        docLink.innerHTML = docLinkHtml;\n",
              "        element.appendChild(docLink);\n",
              "      }\n",
              "    </script>\n",
              "  </div>\n",
              "\n",
              "\n",
              "<div id=\"df-c7c7b4f8-f8f5-4e2e-9066-5cd66ddd6643\">\n",
              "  <button class=\"colab-df-quickchart\" onclick=\"quickchart('df-c7c7b4f8-f8f5-4e2e-9066-5cd66ddd6643')\"\n",
              "            title=\"Suggest charts\"\n",
              "            style=\"display:none;\">\n",
              "\n",
              "<svg xmlns=\"http://www.w3.org/2000/svg\" height=\"24px\"viewBox=\"0 0 24 24\"\n",
              "     width=\"24px\">\n",
              "    <g>\n",
              "        <path d=\"M19 3H5c-1.1 0-2 .9-2 2v14c0 1.1.9 2 2 2h14c1.1 0 2-.9 2-2V5c0-1.1-.9-2-2-2zM9 17H7v-7h2v7zm4 0h-2V7h2v10zm4 0h-2v-4h2v4z\"/>\n",
              "    </g>\n",
              "</svg>\n",
              "  </button>\n",
              "\n",
              "<style>\n",
              "  .colab-df-quickchart {\n",
              "      --bg-color: #E8F0FE;\n",
              "      --fill-color: #1967D2;\n",
              "      --hover-bg-color: #E2EBFA;\n",
              "      --hover-fill-color: #174EA6;\n",
              "      --disabled-fill-color: #AAA;\n",
              "      --disabled-bg-color: #DDD;\n",
              "  }\n",
              "\n",
              "  [theme=dark] .colab-df-quickchart {\n",
              "      --bg-color: #3B4455;\n",
              "      --fill-color: #D2E3FC;\n",
              "      --hover-bg-color: #434B5C;\n",
              "      --hover-fill-color: #FFFFFF;\n",
              "      --disabled-bg-color: #3B4455;\n",
              "      --disabled-fill-color: #666;\n",
              "  }\n",
              "\n",
              "  .colab-df-quickchart {\n",
              "    background-color: var(--bg-color);\n",
              "    border: none;\n",
              "    border-radius: 50%;\n",
              "    cursor: pointer;\n",
              "    display: none;\n",
              "    fill: var(--fill-color);\n",
              "    height: 32px;\n",
              "    padding: 0;\n",
              "    width: 32px;\n",
              "  }\n",
              "\n",
              "  .colab-df-quickchart:hover {\n",
              "    background-color: var(--hover-bg-color);\n",
              "    box-shadow: 0 1px 2px rgba(60, 64, 67, 0.3), 0 1px 3px 1px rgba(60, 64, 67, 0.15);\n",
              "    fill: var(--button-hover-fill-color);\n",
              "  }\n",
              "\n",
              "  .colab-df-quickchart-complete:disabled,\n",
              "  .colab-df-quickchart-complete:disabled:hover {\n",
              "    background-color: var(--disabled-bg-color);\n",
              "    fill: var(--disabled-fill-color);\n",
              "    box-shadow: none;\n",
              "  }\n",
              "\n",
              "  .colab-df-spinner {\n",
              "    border: 2px solid var(--fill-color);\n",
              "    border-color: transparent;\n",
              "    border-bottom-color: var(--fill-color);\n",
              "    animation:\n",
              "      spin 1s steps(1) infinite;\n",
              "  }\n",
              "\n",
              "  @keyframes spin {\n",
              "    0% {\n",
              "      border-color: transparent;\n",
              "      border-bottom-color: var(--fill-color);\n",
              "      border-left-color: var(--fill-color);\n",
              "    }\n",
              "    20% {\n",
              "      border-color: transparent;\n",
              "      border-left-color: var(--fill-color);\n",
              "      border-top-color: var(--fill-color);\n",
              "    }\n",
              "    30% {\n",
              "      border-color: transparent;\n",
              "      border-left-color: var(--fill-color);\n",
              "      border-top-color: var(--fill-color);\n",
              "      border-right-color: var(--fill-color);\n",
              "    }\n",
              "    40% {\n",
              "      border-color: transparent;\n",
              "      border-right-color: var(--fill-color);\n",
              "      border-top-color: var(--fill-color);\n",
              "    }\n",
              "    60% {\n",
              "      border-color: transparent;\n",
              "      border-right-color: var(--fill-color);\n",
              "    }\n",
              "    80% {\n",
              "      border-color: transparent;\n",
              "      border-right-color: var(--fill-color);\n",
              "      border-bottom-color: var(--fill-color);\n",
              "    }\n",
              "    90% {\n",
              "      border-color: transparent;\n",
              "      border-bottom-color: var(--fill-color);\n",
              "    }\n",
              "  }\n",
              "</style>\n",
              "\n",
              "  <script>\n",
              "    async function quickchart(key) {\n",
              "      const quickchartButtonEl =\n",
              "        document.querySelector('#' + key + ' button');\n",
              "      quickchartButtonEl.disabled = true;  // To prevent multiple clicks.\n",
              "      quickchartButtonEl.classList.add('colab-df-spinner');\n",
              "      try {\n",
              "        const charts = await google.colab.kernel.invokeFunction(\n",
              "            'suggestCharts', [key], {});\n",
              "      } catch (error) {\n",
              "        console.error('Error during call to suggestCharts:', error);\n",
              "      }\n",
              "      quickchartButtonEl.classList.remove('colab-df-spinner');\n",
              "      quickchartButtonEl.classList.add('colab-df-quickchart-complete');\n",
              "    }\n",
              "    (() => {\n",
              "      let quickchartButtonEl =\n",
              "        document.querySelector('#df-c7c7b4f8-f8f5-4e2e-9066-5cd66ddd6643 button');\n",
              "      quickchartButtonEl.style.display =\n",
              "        google.colab.kernel.accessAllowed ? 'block' : 'none';\n",
              "    })();\n",
              "  </script>\n",
              "</div>\n",
              "\n",
              "  <div id=\"id_9026420d-d286-46cf-accd-ae68abe1b0a8\">\n",
              "    <style>\n",
              "      .colab-df-generate {\n",
              "        background-color: #E8F0FE;\n",
              "        border: none;\n",
              "        border-radius: 50%;\n",
              "        cursor: pointer;\n",
              "        display: none;\n",
              "        fill: #1967D2;\n",
              "        height: 32px;\n",
              "        padding: 0 0 0 0;\n",
              "        width: 32px;\n",
              "      }\n",
              "\n",
              "      .colab-df-generate:hover {\n",
              "        background-color: #E2EBFA;\n",
              "        box-shadow: 0px 1px 2px rgba(60, 64, 67, 0.3), 0px 1px 3px 1px rgba(60, 64, 67, 0.15);\n",
              "        fill: #174EA6;\n",
              "      }\n",
              "\n",
              "      [theme=dark] .colab-df-generate {\n",
              "        background-color: #3B4455;\n",
              "        fill: #D2E3FC;\n",
              "      }\n",
              "\n",
              "      [theme=dark] .colab-df-generate:hover {\n",
              "        background-color: #434B5C;\n",
              "        box-shadow: 0px 1px 3px 1px rgba(0, 0, 0, 0.15);\n",
              "        filter: drop-shadow(0px 1px 2px rgba(0, 0, 0, 0.3));\n",
              "        fill: #FFFFFF;\n",
              "      }\n",
              "    </style>\n",
              "    <button class=\"colab-df-generate\" onclick=\"generateWithVariable('prob_ensemble')\"\n",
              "            title=\"Generate code using this dataframe.\"\n",
              "            style=\"display:none;\">\n",
              "\n",
              "  <svg xmlns=\"http://www.w3.org/2000/svg\" height=\"24px\"viewBox=\"0 0 24 24\"\n",
              "       width=\"24px\">\n",
              "    <path d=\"M7,19H8.4L18.45,9,17,7.55,7,17.6ZM5,21V16.75L18.45,3.32a2,2,0,0,1,2.83,0l1.4,1.43a1.91,1.91,0,0,1,.58,1.4,1.91,1.91,0,0,1-.58,1.4L9.25,21ZM18.45,9,17,7.55Zm-12,3A5.31,5.31,0,0,0,4.9,8.1,5.31,5.31,0,0,0,1,6.5,5.31,5.31,0,0,0,4.9,4.9,5.31,5.31,0,0,0,6.5,1,5.31,5.31,0,0,0,8.1,4.9,5.31,5.31,0,0,0,12,6.5,5.46,5.46,0,0,0,6.5,12Z\"/>\n",
              "  </svg>\n",
              "    </button>\n",
              "    <script>\n",
              "      (() => {\n",
              "      const buttonEl =\n",
              "        document.querySelector('#id_9026420d-d286-46cf-accd-ae68abe1b0a8 button.colab-df-generate');\n",
              "      buttonEl.style.display =\n",
              "        google.colab.kernel.accessAllowed ? 'block' : 'none';\n",
              "\n",
              "      buttonEl.onclick = () => {\n",
              "        google.colab.notebook.generateWithVariable('prob_ensemble');\n",
              "      }\n",
              "      })();\n",
              "    </script>\n",
              "  </div>\n",
              "\n",
              "    </div>\n",
              "  </div>\n"
            ],
            "application/vnd.google.colaboratory.intrinsic+json": {
              "type": "dataframe",
              "variable_name": "prob_ensemble",
              "summary": "{\n  \"name\": \"prob_ensemble\",\n  \"rows\": 103,\n  \"fields\": [\n    {\n      \"column\": \"X_test\",\n      \"properties\": {\n        \"dtype\": \"string\",\n        \"num_unique_values\": 103,\n        \"samples\": [\n          \"Perpetual Bonds Unlikely to Be the Answer for Indebted Argentina. President Javier Milei\\u2019s suggestion that Argentina could issue debt to comply with a $16 billion lawsuit award related to the nationalization of oil company YPF was met with skepticism from investors who have been repeatedly burned by the serial defaulter.\",\n          \"Is YPF Sociedad Anonima (YPF) Stock Undervalued Right Now? Here at Zacks, our focus is on the proven Zacks Rank system, which emphasizes earnings estimates and estimate revisions to find great stocks. Nevertheless, we are always paying attention to the latest value, growth, and momentum trends to underscore strong picks.. \",\n          \"Milei's Argentina 'omnibus' bill faces gauntlet after clearing first hurdle. \"\n        ],\n        \"semantic_type\": \"\",\n        \"description\": \"\"\n      }\n    },\n    {\n      \"column\": \"y_test\",\n      \"properties\": {\n        \"dtype\": \"category\",\n        \"num_unique_values\": 2,\n        \"samples\": [\n          \"Neutro\",\n          \"Compra\"\n        ],\n        \"semantic_type\": \"\",\n        \"description\": \"\"\n      }\n    },\n    {\n      \"column\": \"Compra\",\n      \"properties\": {\n        \"dtype\": \"number\",\n        \"std\": 0.08762180816408481,\n        \"min\": 0.44047154911653397,\n        \"max\": 0.7922171139662203,\n        \"num_unique_values\": 103,\n        \"samples\": [\n          0.6374792994071518,\n          0.7783125665550384\n        ],\n        \"semantic_type\": \"\",\n        \"description\": \"\"\n      }\n    },\n    {\n      \"column\": \"Neutro\",\n      \"properties\": {\n        \"dtype\": \"number\",\n        \"std\": 0.08762180862237232,\n        \"min\": 0.2077828851024571,\n        \"max\": 0.5595284508834659,\n        \"num_unique_values\": 103,\n        \"samples\": [\n          0.3625206991293413,\n          0.2216874345093302\n        ],\n        \"semantic_type\": \"\",\n        \"description\": \"\"\n      }\n    },\n    {\n      \"column\": \"Ensemble Label\",\n      \"properties\": {\n        \"dtype\": \"category\",\n        \"num_unique_values\": 2,\n        \"samples\": [\n          \"Neutro\",\n          \"Compra\"\n        ],\n        \"semantic_type\": \"\",\n        \"description\": \"\"\n      }\n    }\n  ]\n}"
            }
          },
          "metadata": {},
          "execution_count": 99
        }
      ],
      "source": [
        "prob_ensemble"
      ]
    },
    {
      "cell_type": "markdown",
      "metadata": {
        "id": "vYsSWmNnCeTO"
      },
      "source": [
        "## Métricas"
      ]
    },
    {
      "cell_type": "markdown",
      "metadata": {
        "id": "IezNk2LlCeTO"
      },
      "source": [
        "### AUC/ROC"
      ]
    },
    {
      "cell_type": "code",
      "execution_count": null,
      "metadata": {
        "id": "unLEr_5NCeTO"
      },
      "outputs": [],
      "source": [
        "probas = [\n",
        "    y_pred_lr_proba,\n",
        "    y_pred_lr_sw_proba,\n",
        "    y_pred_nb_proba,\n",
        "    y_pred_nb_sw_proba,\n",
        "    y_pred_svc_proba,\n",
        "    y_pred_svc_sw_proba,\n",
        "    y_pred_rf_proba,\n",
        "    y_pred_rf_sw_proba,\n",
        "    y_pred_xgb_proba,\n",
        "    y_pred_xgb_sw_proba,\n",
        "    y_pred_lgbm_proba,\n",
        "    y_pred_lgbm_sw_proba,\n",
        "    y_pred_w2v_lgbm_proba,\n",
        "    y_pred_bert_proba,\n",
        "    np.array(y_pred_ensemble_proba)\n",
        "]\n",
        "\n",
        "model_names = [\"RegLog\",\n",
        "               \"RegLog*\",\n",
        "               \"NaiveB\",\n",
        "               \"NaiveB*\",\n",
        "               \"SVC\",\n",
        "               \"SVC*\",\n",
        "               \"RandF\",\n",
        "               \"RandF*\",\n",
        "               \"XGB\",\n",
        "               \"XGB*\",\n",
        "               \"LGBM\",\n",
        "               \"LGBM*\",\n",
        "               \"W2V_Lgbm\",\n",
        "               \"Bert\",\n",
        "               \"Ensemble\",\n",
        "               ]"
      ]
    },
    {
      "cell_type": "code",
      "execution_count": null,
      "metadata": {
        "id": "6KJIV5CSCeTP"
      },
      "outputs": [],
      "source": [
        "class_labels = ['Compra', 'Neutro']\n",
        "\n",
        "label_encoder = LabelEncoder()\n",
        "y_true_encoded = label_encoder.fit_transform(y_test)"
      ]
    },
    {
      "cell_type": "code",
      "execution_count": null,
      "metadata": {
        "id": "R5C7aHdbCeTP",
        "outputId": "08a34375-2f7b-438e-eb2a-8623b3bdb8b2",
        "colab": {
          "base_uri": "https://localhost:8080/",
          "height": 564
        }
      },
      "outputs": [
        {
          "output_type": "display_data",
          "data": {
            "text/plain": [
              "<Figure size 800x600 with 1 Axes>"
            ],
            "image/png": "[encoded data removed]"
          },
          "metadata": {}
        }
      ],
      "source": [
        "plt.figure(figsize=(8, 6))\n",
        "\n",
        "for i, y_pred_probabilities in enumerate(probas):\n",
        "    fpr = dict()\n",
        "    tpr = dict()\n",
        "    roc_auc = dict()\n",
        "\n",
        "    n_classes = len(class_labels)\n",
        "    for j in range(n_classes):\n",
        "        y_true_class = (y_true_encoded == j).astype(int)\n",
        "        fpr[j], tpr[j], _ = roc_curve(y_true_class, y_pred_probabilities[:, j])\n",
        "        roc_auc[j] = auc(fpr[j], tpr[j])\n",
        "\n",
        "    all_fpr = np.unique(np.concatenate([fpr[j] for j in range(n_classes)]))\n",
        "    mean_tpr = np.zeros_like(all_fpr)\n",
        "\n",
        "    for j in range(n_classes):\n",
        "        mean_tpr += np.interp(all_fpr, fpr[j], tpr[j])\n",
        "\n",
        "    mean_tpr /= n_classes\n",
        "    roc_auc_micro = auc(all_fpr, mean_tpr)\n",
        "\n",
        "    if i == len(probas) - 1:\n",
        "        plt.plot(all_fpr, mean_tpr, lw=2, label=f'{model_names[i]} (AUC = {roc_auc_micro:.2f})', color='purple')\n",
        "    else:\n",
        "        plt.plot(all_fpr, mean_tpr, lw=1, label=f'{model_names[i]} (AUC = {roc_auc_micro:.2f})', color='lightgray')\n",
        "\n",
        "\n",
        "plt.plot([0, 1], [0, 1], color='gray', linestyle='--')\n",
        "plt.xlim([0.0, 1.0])\n",
        "plt.ylim([0.0, 1.05])\n",
        "plt.xlabel('False Positive Rate')\n",
        "plt.ylabel('True Positive Rate')\n",
        "plt.title('Micro-Average ROC')\n",
        "plt.legend(loc='lower right')\n",
        "plt.grid(True)\n",
        "plt.show()\n"
      ]
    },
    {
      "cell_type": "markdown",
      "metadata": {
        "id": "wbkONuM1CeTT"
      },
      "source": [
        "### Evaluación"
      ]
    },
    {
      "cell_type": "code",
      "execution_count": null,
      "metadata": {
        "id": "2rhqNu5eCeTT",
        "outputId": "5e2eac1b-3a03-4201-8a76-2fedfa63d8f0",
        "colab": {
          "base_uri": "https://localhost:8080/"
        }
      },
      "outputs": [
        {
          "output_type": "stream",
          "name": "stdout",
          "text": [
            "Accuracy: 60.19%\n",
            "\n",
            "F1 Score: 51.53\n",
            "\n",
            "Confusion Matrix:\n",
            " [[58  5]\n",
            " [36  4]]\n"
          ]
        }
      ],
      "source": [
        "print(\"Accuracy: {:.2f}%\".format(accuracy_score(y_test, prob_ensemble[\"Ensemble Label\"].to_list()) * 100))\n",
        "print(\"\\nF1 Score: {:.2f}\".format(f1_score(y_test, prob_ensemble[\"Ensemble Label\"].to_list(), average='weighted') * 100))\n",
        "print(\"\\nConfusion Matrix:\\n\", confusion_matrix(y_test, prob_ensemble[\"Ensemble Label\"].to_list()))"
      ]
    },
    {
      "cell_type": "code",
      "execution_count": null,
      "metadata": {
        "id": "Gu8uGB4GCeTU"
      },
      "outputs": [],
      "source": [
        "prob_ensemble.to_excel('ypf_predicciones_ensemble_power.xlsx', index=False)"
      ]
    }
  ],
  "metadata": {
    "kernelspec": {
      "display_name": "Python 3",
      "name": "python3"
    },
    "language_info": {
      "codemirror_mode": {
        "name": "ipython",
        "version": 3
      },
      "file_extension": ".py",
      "mimetype": "text/x-python",
      "name": "python",
      "nbconvert_exporter": "python",
      "pygments_lexer": "ipython3",
      "version": "3.12.0"
    },
    "orig_nbformat": 4,
    "colab": {
      "provenance": [],
      "gpuType": "T4"
    },
    "widgets": {
      "application/vnd.jupyter.widget-state+json": {
        "986e8af5ce0d414dbd3a73466ce75ef4": {
          "model_module": "@jupyter-widgets/controls",
          "model_name": "HBoxModel",
          "model_module_version": "1.5.0",
          "state": {
            "_dom_classes": [],
            "_model_module": "@jupyter-widgets/controls",
            "_model_module_version": "1.5.0",
            "_model_name": "HBoxModel",
            "_view_count": null,
            "_view_module": "@jupyter-widgets/controls",
            "_view_module_version": "1.5.0",
            "_view_name": "HBoxView",
            "box_style": "",
            "children": [
              "IPY_MODEL_d89d8289e4274a9bae15b913c402805b",
              "IPY_MODEL_dea1c3cac3404c539738063d1ace9ee8",
              "IPY_MODEL_203bb10dc6fc4773872b8a033cb5dc05"
            ],
            "layout": "IPY_MODEL_048be236a7264160a5550019b7301a4f"
          }
        },
        "d89d8289e4274a9bae15b913c402805b": {
          "model_module": "@jupyter-widgets/controls",
          "model_name": "HTMLModel",
          "model_module_version": "1.5.0",
          "state": {
            "_dom_classes": [],
            "_model_module": "@jupyter-widgets/controls",
            "_model_module_version": "1.5.0",
            "_model_name": "HTMLModel",
            "_view_count": null,
            "_view_module": "@jupyter-widgets/controls",
            "_view_module_version": "1.5.0",
            "_view_name": "HTMLView",
            "description": "",
            "description_tooltip": null,
            "layout": "IPY_MODEL_496663719c824da8a074f1920dac3be3",
            "placeholder": "​",
            "style": "IPY_MODEL_1caa174e329f4ef1b165d89696dc61b7",
            "value": "tokenizer_config.json: 100%"
          }
        },
        "dea1c3cac3404c539738063d1ace9ee8": {
          "model_module": "@jupyter-widgets/controls",
          "model_name": "FloatProgressModel",
          "model_module_version": "1.5.0",
          "state": {
            "_dom_classes": [],
            "_model_module": "@jupyter-widgets/controls",
            "_model_module_version": "1.5.0",
            "_model_name": "FloatProgressModel",
            "_view_count": null,
            "_view_module": "@jupyter-widgets/controls",
            "_view_module_version": "1.5.0",
            "_view_name": "ProgressView",
            "bar_style": "success",
            "description": "",
            "description_tooltip": null,
            "layout": "IPY_MODEL_2682e2dbb395404597119b3cfdf0714b",
            "max": 48,
            "min": 0,
            "orientation": "horizontal",
            "style": "IPY_MODEL_86b4e288105a4ee283b4885ecb6c8c72",
            "value": 48
          }
        },
        "203bb10dc6fc4773872b8a033cb5dc05": {
          "model_module": "@jupyter-widgets/controls",
          "model_name": "HTMLModel",
          "model_module_version": "1.5.0",
          "state": {
            "_dom_classes": [],
            "_model_module": "@jupyter-widgets/controls",
            "_model_module_version": "1.5.0",
            "_model_name": "HTMLModel",
            "_view_count": null,
            "_view_module": "@jupyter-widgets/controls",
            "_view_module_version": "1.5.0",
            "_view_name": "HTMLView",
            "description": "",
            "description_tooltip": null,
            "layout": "IPY_MODEL_d31e14688bf14cf28dfaa294b9465d29",
            "placeholder": "​",
            "style": "IPY_MODEL_0b5e1bc22d574acdb2bf0cf35f8d9dcc",
            "value": " 48.0/48.0 [00:00&lt;00:00, 3.14kB/s]"
          }
        },
        "048be236a7264160a5550019b7301a4f": {
          "model_module": "@jupyter-widgets/base",
          "model_name": "LayoutModel",
          "model_module_version": "1.2.0",
          "state": {
            "_model_module": "@jupyter-widgets/base",
            "_model_module_version": "1.2.0",
            "_model_name": "LayoutModel",
            "_view_count": null,
            "_view_module": "@jupyter-widgets/base",
            "_view_module_version": "1.2.0",
            "_view_name": "LayoutView",
            "align_content": null,
            "align_items": null,
            "align_self": null,
            "border": null,
            "bottom": null,
            "display": null,
            "flex": null,
            "flex_flow": null,
            "grid_area": null,
            "grid_auto_columns": null,
            "grid_auto_flow": null,
            "grid_auto_rows": null,
            "grid_column": null,
            "grid_gap": null,
            "grid_row": null,
            "grid_template_areas": null,
            "grid_template_columns": null,
            "grid_template_rows": null,
            "height": null,
            "justify_content": null,
            "justify_items": null,
            "left": null,
            "margin": null,
            "max_height": null,
            "max_width": null,
            "min_height": null,
            "min_width": null,
            "object_fit": null,
            "object_position": null,
            "order": null,
            "overflow": null,
            "overflow_x": null,
            "overflow_y": null,
            "padding": null,
            "right": null,
            "top": null,
            "visibility": null,
            "width": null
          }
        },
        "496663719c824da8a074f1920dac3be3": {
          "model_module": "@jupyter-widgets/base",
          "model_name": "LayoutModel",
          "model_module_version": "1.2.0",
          "state": {
            "_model_module": "@jupyter-widgets/base",
            "_model_module_version": "1.2.0",
            "_model_name": "LayoutModel",
            "_view_count": null,
            "_view_module": "@jupyter-widgets/base",
            "_view_module_version": "1.2.0",
            "_view_name": "LayoutView",
            "align_content": null,
            "align_items": null,
            "align_self": null,
            "border": null,
            "bottom": null,
            "display": null,
            "flex": null,
            "flex_flow": null,
            "grid_area": null,
            "grid_auto_columns": null,
            "grid_auto_flow": null,
            "grid_auto_rows": null,
            "grid_column": null,
            "grid_gap": null,
            "grid_row": null,
            "grid_template_areas": null,
            "grid_template_columns": null,
            "grid_template_rows": null,
            "height": null,
            "justify_content": null,
            "justify_items": null,
            "left": null,
            "margin": null,
            "max_height": null,
            "max_width": null,
            "min_height": null,
            "min_width": null,
            "object_fit": null,
            "object_position": null,
            "order": null,
            "overflow": null,
            "overflow_x": null,
            "overflow_y": null,
            "padding": null,
            "right": null,
            "top": null,
            "visibility": null,
            "width": null
          }
        },
        "1caa174e329f4ef1b165d89696dc61b7": {
          "model_module": "@jupyter-widgets/controls",
          "model_name": "DescriptionStyleModel",
          "model_module_version": "1.5.0",
          "state": {
            "_model_module": "@jupyter-widgets/controls",
            "_model_module_version": "1.5.0",
            "_model_name": "DescriptionStyleModel",
            "_view_count": null,
            "_view_module": "@jupyter-widgets/base",
            "_view_module_version": "1.2.0",
            "_view_name": "StyleView",
            "description_width": ""
          }
        },
        "2682e2dbb395404597119b3cfdf0714b": {
          "model_module": "@jupyter-widgets/base",
          "model_name": "LayoutModel",
          "model_module_version": "1.2.0",
          "state": {
            "_model_module": "@jupyter-widgets/base",
            "_model_module_version": "1.2.0",
            "_model_name": "LayoutModel",
            "_view_count": null,
            "_view_module": "@jupyter-widgets/base",
            "_view_module_version": "1.2.0",
            "_view_name": "LayoutView",
            "align_content": null,
            "align_items": null,
            "align_self": null,
            "border": null,
            "bottom": null,
            "display": null,
            "flex": null,
            "flex_flow": null,
            "grid_area": null,
            "grid_auto_columns": null,
            "grid_auto_flow": null,
            "grid_auto_rows": null,
            "grid_column": null,
            "grid_gap": null,
            "grid_row": null,
            "grid_template_areas": null,
            "grid_template_columns": null,
            "grid_template_rows": null,
            "height": null,
            "justify_content": null,
            "justify_items": null,
            "left": null,
            "margin": null,
            "max_height": null,
            "max_width": null,
            "min_height": null,
            "min_width": null,
            "object_fit": null,
            "object_position": null,
            "order": null,
            "overflow": null,
            "overflow_x": null,
            "overflow_y": null,
            "padding": null,
            "right": null,
            "top": null,
            "visibility": null,
            "width": null
          }
        },
        "86b4e288105a4ee283b4885ecb6c8c72": {
          "model_module": "@jupyter-widgets/controls",
          "model_name": "ProgressStyleModel",
          "model_module_version": "1.5.0",
          "state": {
            "_model_module": "@jupyter-widgets/controls",
            "_model_module_version": "1.5.0",
            "_model_name": "ProgressStyleModel",
            "_view_count": null,
            "_view_module": "@jupyter-widgets/base",
            "_view_module_version": "1.2.0",
            "_view_name": "StyleView",
            "bar_color": null,
            "description_width": ""
          }
        },
        "d31e14688bf14cf28dfaa294b9465d29": {
          "model_module": "@jupyter-widgets/base",
          "model_name": "LayoutModel",
          "model_module_version": "1.2.0",
          "state": {
            "_model_module": "@jupyter-widgets/base",
            "_model_module_version": "1.2.0",
            "_model_name": "LayoutModel",
            "_view_count": null,
            "_view_module": "@jupyter-widgets/base",
            "_view_module_version": "1.2.0",
            "_view_name": "LayoutView",
            "align_content": null,
            "align_items": null,
            "align_self": null,
            "border": null,
            "bottom": null,
            "display": null,
            "flex": null,
            "flex_flow": null,
            "grid_area": null,
            "grid_auto_columns": null,
            "grid_auto_flow": null,
            "grid_auto_rows": null,
            "grid_column": null,
            "grid_gap": null,
            "grid_row": null,
            "grid_template_areas": null,
            "grid_template_columns": null,
            "grid_template_rows": null,
            "height": null,
            "justify_content": null,
            "justify_items": null,
            "left": null,
            "margin": null,
            "max_height": null,
            "max_width": null,
            "min_height": null,
            "min_width": null,
            "object_fit": null,
            "object_position": null,
            "order": null,
            "overflow": null,
            "overflow_x": null,
            "overflow_y": null,
            "padding": null,
            "right": null,
            "top": null,
            "visibility": null,
            "width": null
          }
        },
        "0b5e1bc22d574acdb2bf0cf35f8d9dcc": {
          "model_module": "@jupyter-widgets/controls",
          "model_name": "DescriptionStyleModel",
          "model_module_version": "1.5.0",
          "state": {
            "_model_module": "@jupyter-widgets/controls",
            "_model_module_version": "1.5.0",
            "_model_name": "DescriptionStyleModel",
            "_view_count": null,
            "_view_module": "@jupyter-widgets/base",
            "_view_module_version": "1.2.0",
            "_view_name": "StyleView",
            "description_width": ""
          }
        },
        "79b27ef54f994fc09d516dd19e43fa12": {
          "model_module": "@jupyter-widgets/controls",
          "model_name": "HBoxModel",
          "model_module_version": "1.5.0",
          "state": {
            "_dom_classes": [],
            "_model_module": "@jupyter-widgets/controls",
            "_model_module_version": "1.5.0",
            "_model_name": "HBoxModel",
            "_view_count": null,
            "_view_module": "@jupyter-widgets/controls",
            "_view_module_version": "1.5.0",
            "_view_name": "HBoxView",
            "box_style": "",
            "children": [
              "IPY_MODEL_c96e7bd366ff45bb8ef12f65790c616f",
              "IPY_MODEL_4417abe4af0b4afebfc5201931c033e7",
              "IPY_MODEL_ca4d1dbae6c743519925de1f46f287cd"
            ],
            "layout": "IPY_MODEL_6a207655e07e4899acd4a30305c1273e"
          }
        },
        "c96e7bd366ff45bb8ef12f65790c616f": {
          "model_module": "@jupyter-widgets/controls",
          "model_name": "HTMLModel",
          "model_module_version": "1.5.0",
          "state": {
            "_dom_classes": [],
            "_model_module": "@jupyter-widgets/controls",
            "_model_module_version": "1.5.0",
            "_model_name": "HTMLModel",
            "_view_count": null,
            "_view_module": "@jupyter-widgets/controls",
            "_view_module_version": "1.5.0",
            "_view_name": "HTMLView",
            "description": "",
            "description_tooltip": null,
            "layout": "IPY_MODEL_68aaf45c8df942e289b5e2f02aa533b4",
            "placeholder": "​",
            "style": "IPY_MODEL_9149103c87e74105bee8ab8ecab08ab3",
            "value": "vocab.txt: 100%"
          }
        },
        "4417abe4af0b4afebfc5201931c033e7": {
          "model_module": "@jupyter-widgets/controls",
          "model_name": "FloatProgressModel",
          "model_module_version": "1.5.0",
          "state": {
            "_dom_classes": [],
            "_model_module": "@jupyter-widgets/controls",
            "_model_module_version": "1.5.0",
            "_model_name": "FloatProgressModel",
            "_view_count": null,
            "_view_module": "@jupyter-widgets/controls",
            "_view_module_version": "1.5.0",
            "_view_name": "ProgressView",
            "bar_style": "success",
            "description": "",
            "description_tooltip": null,
            "layout": "IPY_MODEL_9b0ef40017eb4c1db3d2a848d6e54e9f",
            "max": 231508,
            "min": 0,
            "orientation": "horizontal",
            "style": "IPY_MODEL_0acd4460b6714b0baba093e15c1b3ee1",
            "value": 231508
          }
        },
        "ca4d1dbae6c743519925de1f46f287cd": {
          "model_module": "@jupyter-widgets/controls",
          "model_name": "HTMLModel",
          "model_module_version": "1.5.0",
          "state": {
            "_dom_classes": [],
            "_model_module": "@jupyter-widgets/controls",
            "_model_module_version": "1.5.0",
            "_model_name": "HTMLModel",
            "_view_count": null,
            "_view_module": "@jupyter-widgets/controls",
            "_view_module_version": "1.5.0",
            "_view_name": "HTMLView",
            "description": "",
            "description_tooltip": null,
            "layout": "IPY_MODEL_fd9e540f6b974719a3f5549457484d1a",
            "placeholder": "​",
            "style": "IPY_MODEL_8658cb491ef84d7facccca85f108d6ba",
            "value": " 232k/232k [00:00&lt;00:00, 1.86MB/s]"
          }
        },
        "6a207655e07e4899acd4a30305c1273e": {
          "model_module": "@jupyter-widgets/base",
          "model_name": "LayoutModel",
          "model_module_version": "1.2.0",
          "state": {
            "_model_module": "@jupyter-widgets/base",
            "_model_module_version": "1.2.0",
            "_model_name": "LayoutModel",
            "_view_count": null,
            "_view_module": "@jupyter-widgets/base",
            "_view_module_version": "1.2.0",
            "_view_name": "LayoutView",
            "align_content": null,
            "align_items": null,
            "align_self": null,
            "border": null,
            "bottom": null,
            "display": null,
            "flex": null,
            "flex_flow": null,
            "grid_area": null,
            "grid_auto_columns": null,
            "grid_auto_flow": null,
            "grid_auto_rows": null,
            "grid_column": null,
            "grid_gap": null,
            "grid_row": null,
            "grid_template_areas": null,
            "grid_template_columns": null,
            "grid_template_rows": null,
            "height": null,
            "justify_content": null,
            "justify_items": null,
            "left": null,
            "margin": null,
            "max_height": null,
            "max_width": null,
            "min_height": null,
            "min_width": null,
            "object_fit": null,
            "object_position": null,
            "order": null,
            "overflow": null,
            "overflow_x": null,
            "overflow_y": null,
            "padding": null,
            "right": null,
            "top": null,
            "visibility": null,
            "width": null
          }
        },
        "68aaf45c8df942e289b5e2f02aa533b4": {
          "model_module": "@jupyter-widgets/base",
          "model_name": "LayoutModel",
          "model_module_version": "1.2.0",
          "state": {
            "_model_module": "@jupyter-widgets/base",
            "_model_module_version": "1.2.0",
            "_model_name": "LayoutModel",
            "_view_count": null,
            "_view_module": "@jupyter-widgets/base",
            "_view_module_version": "1.2.0",
            "_view_name": "LayoutView",
            "align_content": null,
            "align_items": null,
            "align_self": null,
            "border": null,
            "bottom": null,
            "display": null,
            "flex": null,
            "flex_flow": null,
            "grid_area": null,
            "grid_auto_columns": null,
            "grid_auto_flow": null,
            "grid_auto_rows": null,
            "grid_column": null,
            "grid_gap": null,
            "grid_row": null,
            "grid_template_areas": null,
            "grid_template_columns": null,
            "grid_template_rows": null,
            "height": null,
            "justify_content": null,
            "justify_items": null,
            "left": null,
            "margin": null,
            "max_height": null,
            "max_width": null,
            "min_height": null,
            "min_width": null,
            "object_fit": null,
            "object_position": null,
            "order": null,
            "overflow": null,
            "overflow_x": null,
            "overflow_y": null,
            "padding": null,
            "right": null,
            "top": null,
            "visibility": null,
            "width": null
          }
        },
        "9149103c87e74105bee8ab8ecab08ab3": {
          "model_module": "@jupyter-widgets/controls",
          "model_name": "DescriptionStyleModel",
          "model_module_version": "1.5.0",
          "state": {
            "_model_module": "@jupyter-widgets/controls",
            "_model_module_version": "1.5.0",
            "_model_name": "DescriptionStyleModel",
            "_view_count": null,
            "_view_module": "@jupyter-widgets/base",
            "_view_module_version": "1.2.0",
            "_view_name": "StyleView",
            "description_width": ""
          }
        },
        "9b0ef40017eb4c1db3d2a848d6e54e9f": {
          "model_module": "@jupyter-widgets/base",
          "model_name": "LayoutModel",
          "model_module_version": "1.2.0",
          "state": {
            "_model_module": "@jupyter-widgets/base",
            "_model_module_version": "1.2.0",
            "_model_name": "LayoutModel",
            "_view_count": null,
            "_view_module": "@jupyter-widgets/base",
            "_view_module_version": "1.2.0",
            "_view_name": "LayoutView",
            "align_content": null,
            "align_items": null,
            "align_self": null,
            "border": null,
            "bottom": null,
            "display": null,
            "flex": null,
            "flex_flow": null,
            "grid_area": null,
            "grid_auto_columns": null,
            "grid_auto_flow": null,
            "grid_auto_rows": null,
            "grid_column": null,
            "grid_gap": null,
            "grid_row": null,
            "grid_template_areas": null,
            "grid_template_columns": null,
            "grid_template_rows": null,
            "height": null,
            "justify_content": null,
            "justify_items": null,
            "left": null,
            "margin": null,
            "max_height": null,
            "max_width": null,
            "min_height": null,
            "min_width": null,
            "object_fit": null,
            "object_position": null,
            "order": null,
            "overflow": null,
            "overflow_x": null,
            "overflow_y": null,
            "padding": null,
            "right": null,
            "top": null,
            "visibility": null,
            "width": null
          }
        },
        "0acd4460b6714b0baba093e15c1b3ee1": {
          "model_module": "@jupyter-widgets/controls",
          "model_name": "ProgressStyleModel",
          "model_module_version": "1.5.0",
          "state": {
            "_model_module": "@jupyter-widgets/controls",
            "_model_module_version": "1.5.0",
            "_model_name": "ProgressStyleModel",
            "_view_count": null,
            "_view_module": "@jupyter-widgets/base",
            "_view_module_version": "1.2.0",
            "_view_name": "StyleView",
            "bar_color": null,
            "description_width": ""
          }
        },
        "fd9e540f6b974719a3f5549457484d1a": {
          "model_module": "@jupyter-widgets/base",
          "model_name": "LayoutModel",
          "model_module_version": "1.2.0",
          "state": {
            "_model_module": "@jupyter-widgets/base",
            "_model_module_version": "1.2.0",
            "_model_name": "LayoutModel",
            "_view_count": null,
            "_view_module": "@jupyter-widgets/base",
            "_view_module_version": "1.2.0",
            "_view_name": "LayoutView",
            "align_content": null,
            "align_items": null,
            "align_self": null,
            "border": null,
            "bottom": null,
            "display": null,
            "flex": null,
            "flex_flow": null,
            "grid_area": null,
            "grid_auto_columns": null,
            "grid_auto_flow": null,
            "grid_auto_rows": null,
            "grid_column": null,
            "grid_gap": null,
            "grid_row": null,
            "grid_template_areas": null,
            "grid_template_columns": null,
            "grid_template_rows": null,
            "height": null,
            "justify_content": null,
            "justify_items": null,
            "left": null,
            "margin": null,
            "max_height": null,
            "max_width": null,
            "min_height": null,
            "min_width": null,
            "object_fit": null,
            "object_position": null,
            "order": null,
            "overflow": null,
            "overflow_x": null,
            "overflow_y": null,
            "padding": null,
            "right": null,
            "top": null,
            "visibility": null,
            "width": null
          }
        },
        "8658cb491ef84d7facccca85f108d6ba": {
          "model_module": "@jupyter-widgets/controls",
          "model_name": "DescriptionStyleModel",
          "model_module_version": "1.5.0",
          "state": {
            "_model_module": "@jupyter-widgets/controls",
            "_model_module_version": "1.5.0",
            "_model_name": "DescriptionStyleModel",
            "_view_count": null,
            "_view_module": "@jupyter-widgets/base",
            "_view_module_version": "1.2.0",
            "_view_name": "StyleView",
            "description_width": ""
          }
        },
        "ec84df47944642b2b33c21822c1e0c04": {
          "model_module": "@jupyter-widgets/controls",
          "model_name": "HBoxModel",
          "model_module_version": "1.5.0",
          "state": {
            "_dom_classes": [],
            "_model_module": "@jupyter-widgets/controls",
            "_model_module_version": "1.5.0",
            "_model_name": "HBoxModel",
            "_view_count": null,
            "_view_module": "@jupyter-widgets/controls",
            "_view_module_version": "1.5.0",
            "_view_name": "HBoxView",
            "box_style": "",
            "children": [
              "IPY_MODEL_af8058f371774017a560424b02e9f40c",
              "IPY_MODEL_5910ded13c81452a93121efbe94b1cff",
              "IPY_MODEL_dd8a2b8901c940c494d6fa49fc59bf78"
            ],
            "layout": "IPY_MODEL_a2b7bbe387054554b27bcff62c31f4bc"
          }
        },
        "af8058f371774017a560424b02e9f40c": {
          "model_module": "@jupyter-widgets/controls",
          "model_name": "HTMLModel",
          "model_module_version": "1.5.0",
          "state": {
            "_dom_classes": [],
            "_model_module": "@jupyter-widgets/controls",
            "_model_module_version": "1.5.0",
            "_model_name": "HTMLModel",
            "_view_count": null,
            "_view_module": "@jupyter-widgets/controls",
            "_view_module_version": "1.5.0",
            "_view_name": "HTMLView",
            "description": "",
            "description_tooltip": null,
            "layout": "IPY_MODEL_11ffbd19d15b41a28c3e38aef396b00c",
            "placeholder": "​",
            "style": "IPY_MODEL_c19fc50a59de4edaab14553b89b46f5c",
            "value": "tokenizer.json: 100%"
          }
        },
        "5910ded13c81452a93121efbe94b1cff": {
          "model_module": "@jupyter-widgets/controls",
          "model_name": "FloatProgressModel",
          "model_module_version": "1.5.0",
          "state": {
            "_dom_classes": [],
            "_model_module": "@jupyter-widgets/controls",
            "_model_module_version": "1.5.0",
            "_model_name": "FloatProgressModel",
            "_view_count": null,
            "_view_module": "@jupyter-widgets/controls",
            "_view_module_version": "1.5.0",
            "_view_name": "ProgressView",
            "bar_style": "success",
            "description": "",
            "description_tooltip": null,
            "layout": "IPY_MODEL_64ebc9ae93944e6b8053bfdcba2ea6ae",
            "max": 466062,
            "min": 0,
            "orientation": "horizontal",
            "style": "IPY_MODEL_68965e011dea4d59809f55661ba34bc3",
            "value": 466062
          }
        },
        "dd8a2b8901c940c494d6fa49fc59bf78": {
          "model_module": "@jupyter-widgets/controls",
          "model_name": "HTMLModel",
          "model_module_version": "1.5.0",
          "state": {
            "_dom_classes": [],
            "_model_module": "@jupyter-widgets/controls",
            "_model_module_version": "1.5.0",
            "_model_name": "HTMLModel",
            "_view_count": null,
            "_view_module": "@jupyter-widgets/controls",
            "_view_module_version": "1.5.0",
            "_view_name": "HTMLView",
            "description": "",
            "description_tooltip": null,
            "layout": "IPY_MODEL_2c646875183f4a959b3d1db2a00f49d4",
            "placeholder": "​",
            "style": "IPY_MODEL_93aa3b57d31941a2bf1807822d7eb904",
            "value": " 466k/466k [00:00&lt;00:00, 20.1MB/s]"
          }
        },
        "a2b7bbe387054554b27bcff62c31f4bc": {
          "model_module": "@jupyter-widgets/base",
          "model_name": "LayoutModel",
          "model_module_version": "1.2.0",
          "state": {
            "_model_module": "@jupyter-widgets/base",
            "_model_module_version": "1.2.0",
            "_model_name": "LayoutModel",
            "_view_count": null,
            "_view_module": "@jupyter-widgets/base",
            "_view_module_version": "1.2.0",
            "_view_name": "LayoutView",
            "align_content": null,
            "align_items": null,
            "align_self": null,
            "border": null,
            "bottom": null,
            "display": null,
            "flex": null,
            "flex_flow": null,
            "grid_area": null,
            "grid_auto_columns": null,
            "grid_auto_flow": null,
            "grid_auto_rows": null,
            "grid_column": null,
            "grid_gap": null,
            "grid_row": null,
            "grid_template_areas": null,
            "grid_template_columns": null,
            "grid_template_rows": null,
            "height": null,
            "justify_content": null,
            "justify_items": null,
            "left": null,
            "margin": null,
            "max_height": null,
            "max_width": null,
            "min_height": null,
            "min_width": null,
            "object_fit": null,
            "object_position": null,
            "order": null,
            "overflow": null,
            "overflow_x": null,
            "overflow_y": null,
            "padding": null,
            "right": null,
            "top": null,
            "visibility": null,
            "width": null
          }
        },
        "11ffbd19d15b41a28c3e38aef396b00c": {
          "model_module": "@jupyter-widgets/base",
          "model_name": "LayoutModel",
          "model_module_version": "1.2.0",
          "state": {
            "_model_module": "@jupyter-widgets/base",
            "_model_module_version": "1.2.0",
            "_model_name": "LayoutModel",
            "_view_count": null,
            "_view_module": "@jupyter-widgets/base",
            "_view_module_version": "1.2.0",
            "_view_name": "LayoutView",
            "align_content": null,
            "align_items": null,
            "align_self": null,
            "border": null,
            "bottom": null,
            "display": null,
            "flex": null,
            "flex_flow": null,
            "grid_area": null,
            "grid_auto_columns": null,
            "grid_auto_flow": null,
            "grid_auto_rows": null,
            "grid_column": null,
            "grid_gap": null,
            "grid_row": null,
            "grid_template_areas": null,
            "grid_template_columns": null,
            "grid_template_rows": null,
            "height": null,
            "justify_content": null,
            "justify_items": null,
            "left": null,
            "margin": null,
            "max_height": null,
            "max_width": null,
            "min_height": null,
            "min_width": null,
            "object_fit": null,
            "object_position": null,
            "order": null,
            "overflow": null,
            "overflow_x": null,
            "overflow_y": null,
            "padding": null,
            "right": null,
            "top": null,
            "visibility": null,
            "width": null
          }
        },
        "c19fc50a59de4edaab14553b89b46f5c": {
          "model_module": "@jupyter-widgets/controls",
          "model_name": "DescriptionStyleModel",
          "model_module_version": "1.5.0",
          "state": {
            "_model_module": "@jupyter-widgets/controls",
            "_model_module_version": "1.5.0",
            "_model_name": "DescriptionStyleModel",
            "_view_count": null,
            "_view_module": "@jupyter-widgets/base",
            "_view_module_version": "1.2.0",
            "_view_name": "StyleView",
            "description_width": ""
          }
        },
        "64ebc9ae93944e6b8053bfdcba2ea6ae": {
          "model_module": "@jupyter-widgets/base",
          "model_name": "LayoutModel",
          "model_module_version": "1.2.0",
          "state": {
            "_model_module": "@jupyter-widgets/base",
            "_model_module_version": "1.2.0",
            "_model_name": "LayoutModel",
            "_view_count": null,
            "_view_module": "@jupyter-widgets/base",
            "_view_module_version": "1.2.0",
            "_view_name": "LayoutView",
            "align_content": null,
            "align_items": null,
            "align_self": null,
            "border": null,
            "bottom": null,
            "display": null,
            "flex": null,
            "flex_flow": null,
            "grid_area": null,
            "grid_auto_columns": null,
            "grid_auto_flow": null,
            "grid_auto_rows": null,
            "grid_column": null,
            "grid_gap": null,
            "grid_row": null,
            "grid_template_areas": null,
            "grid_template_columns": null,
            "grid_template_rows": null,
            "height": null,
            "justify_content": null,
            "justify_items": null,
            "left": null,
            "margin": null,
            "max_height": null,
            "max_width": null,
            "min_height": null,
            "min_width": null,
            "object_fit": null,
            "object_position": null,
            "order": null,
            "overflow": null,
            "overflow_x": null,
            "overflow_y": null,
            "padding": null,
            "right": null,
            "top": null,
            "visibility": null,
            "width": null
          }
        },
        "68965e011dea4d59809f55661ba34bc3": {
          "model_module": "@jupyter-widgets/controls",
          "model_name": "ProgressStyleModel",
          "model_module_version": "1.5.0",
          "state": {
            "_model_module": "@jupyter-widgets/controls",
            "_model_module_version": "1.5.0",
            "_model_name": "ProgressStyleModel",
            "_view_count": null,
            "_view_module": "@jupyter-widgets/base",
            "_view_module_version": "1.2.0",
            "_view_name": "StyleView",
            "bar_color": null,
            "description_width": ""
          }
        },
        "2c646875183f4a959b3d1db2a00f49d4": {
          "model_module": "@jupyter-widgets/base",
          "model_name": "LayoutModel",
          "model_module_version": "1.2.0",
          "state": {
            "_model_module": "@jupyter-widgets/base",
            "_model_module_version": "1.2.0",
            "_model_name": "LayoutModel",
            "_view_count": null,
            "_view_module": "@jupyter-widgets/base",
            "_view_module_version": "1.2.0",
            "_view_name": "LayoutView",
            "align_content": null,
            "align_items": null,
            "align_self": null,
            "border": null,
            "bottom": null,
            "display": null,
            "flex": null,
            "flex_flow": null,
            "grid_area": null,
            "grid_auto_columns": null,
            "grid_auto_flow": null,
            "grid_auto_rows": null,
            "grid_column": null,
            "grid_gap": null,
            "grid_row": null,
            "grid_template_areas": null,
            "grid_template_columns": null,
            "grid_template_rows": null,
            "height": null,
            "justify_content": null,
            "justify_items": null,
            "left": null,
            "margin": null,
            "max_height": null,
            "max_width": null,
            "min_height": null,
            "min_width": null,
            "object_fit": null,
            "object_position": null,
            "order": null,
            "overflow": null,
            "overflow_x": null,
            "overflow_y": null,
            "padding": null,
            "right": null,
            "top": null,
            "visibility": null,
            "width": null
          }
        },
        "93aa3b57d31941a2bf1807822d7eb904": {
          "model_module": "@jupyter-widgets/controls",
          "model_name": "DescriptionStyleModel",
          "model_module_version": "1.5.0",
          "state": {
            "_model_module": "@jupyter-widgets/controls",
            "_model_module_version": "1.5.0",
            "_model_name": "DescriptionStyleModel",
            "_view_count": null,
            "_view_module": "@jupyter-widgets/base",
            "_view_module_version": "1.2.0",
            "_view_name": "StyleView",
            "description_width": ""
          }
        },
        "b9594c90677a46f6adafdf853690ef34": {
          "model_module": "@jupyter-widgets/controls",
          "model_name": "HBoxModel",
          "model_module_version": "1.5.0",
          "state": {
            "_dom_classes": [],
            "_model_module": "@jupyter-widgets/controls",
            "_model_module_version": "1.5.0",
            "_model_name": "HBoxModel",
            "_view_count": null,
            "_view_module": "@jupyter-widgets/controls",
            "_view_module_version": "1.5.0",
            "_view_name": "HBoxView",
            "box_style": "",
            "children": [
              "IPY_MODEL_741a501fc5f34b5da646e714414a3ff3",
              "IPY_MODEL_cb637ce191d14afb942c5fa33c7bfd7f",
              "IPY_MODEL_9ad0b24ba1d344d18a2bc14150a9d83d"
            ],
            "layout": "IPY_MODEL_a8dd122c5cb34fae8b8c580b88641b7a"
          }
        },
        "741a501fc5f34b5da646e714414a3ff3": {
          "model_module": "@jupyter-widgets/controls",
          "model_name": "HTMLModel",
          "model_module_version": "1.5.0",
          "state": {
            "_dom_classes": [],
            "_model_module": "@jupyter-widgets/controls",
            "_model_module_version": "1.5.0",
            "_model_name": "HTMLModel",
            "_view_count": null,
            "_view_module": "@jupyter-widgets/controls",
            "_view_module_version": "1.5.0",
            "_view_name": "HTMLView",
            "description": "",
            "description_tooltip": null,
            "layout": "IPY_MODEL_25a861187dd24b8cb9551b41f36e115b",
            "placeholder": "​",
            "style": "IPY_MODEL_878f470073a5410086bc738ccfd37728",
            "value": "config.json: 100%"
          }
        },
        "cb637ce191d14afb942c5fa33c7bfd7f": {
          "model_module": "@jupyter-widgets/controls",
          "model_name": "FloatProgressModel",
          "model_module_version": "1.5.0",
          "state": {
            "_dom_classes": [],
            "_model_module": "@jupyter-widgets/controls",
            "_model_module_version": "1.5.0",
            "_model_name": "FloatProgressModel",
            "_view_count": null,
            "_view_module": "@jupyter-widgets/controls",
            "_view_module_version": "1.5.0",
            "_view_name": "ProgressView",
            "bar_style": "success",
            "description": "",
            "description_tooltip": null,
            "layout": "IPY_MODEL_6bd18cc2faff42bf940812f046eada50",
            "max": 570,
            "min": 0,
            "orientation": "horizontal",
            "style": "IPY_MODEL_f143e6c5ae8545b6a19d0de6cf36ad15",
            "value": 570
          }
        },
        "9ad0b24ba1d344d18a2bc14150a9d83d": {
          "model_module": "@jupyter-widgets/controls",
          "model_name": "HTMLModel",
          "model_module_version": "1.5.0",
          "state": {
            "_dom_classes": [],
            "_model_module": "@jupyter-widgets/controls",
            "_model_module_version": "1.5.0",
            "_model_name": "HTMLModel",
            "_view_count": null,
            "_view_module": "@jupyter-widgets/controls",
            "_view_module_version": "1.5.0",
            "_view_name": "HTMLView",
            "description": "",
            "description_tooltip": null,
            "layout": "IPY_MODEL_e9b8a37666fd4655ae07bab882f61c38",
            "placeholder": "​",
            "style": "IPY_MODEL_aa22731969a44219b5944ecec0ed7a2a",
            "value": " 570/570 [00:00&lt;00:00, 43.9kB/s]"
          }
        },
        "a8dd122c5cb34fae8b8c580b88641b7a": {
          "model_module": "@jupyter-widgets/base",
          "model_name": "LayoutModel",
          "model_module_version": "1.2.0",
          "state": {
            "_model_module": "@jupyter-widgets/base",
            "_model_module_version": "1.2.0",
            "_model_name": "LayoutModel",
            "_view_count": null,
            "_view_module": "@jupyter-widgets/base",
            "_view_module_version": "1.2.0",
            "_view_name": "LayoutView",
            "align_content": null,
            "align_items": null,
            "align_self": null,
            "border": null,
            "bottom": null,
            "display": null,
            "flex": null,
            "flex_flow": null,
            "grid_area": null,
            "grid_auto_columns": null,
            "grid_auto_flow": null,
            "grid_auto_rows": null,
            "grid_column": null,
            "grid_gap": null,
            "grid_row": null,
            "grid_template_areas": null,
            "grid_template_columns": null,
            "grid_template_rows": null,
            "height": null,
            "justify_content": null,
            "justify_items": null,
            "left": null,
            "margin": null,
            "max_height": null,
            "max_width": null,
            "min_height": null,
            "min_width": null,
            "object_fit": null,
            "object_position": null,
            "order": null,
            "overflow": null,
            "overflow_x": null,
            "overflow_y": null,
            "padding": null,
            "right": null,
            "top": null,
            "visibility": null,
            "width": null
          }
        },
        "25a861187dd24b8cb9551b41f36e115b": {
          "model_module": "@jupyter-widgets/base",
          "model_name": "LayoutModel",
          "model_module_version": "1.2.0",
          "state": {
            "_model_module": "@jupyter-widgets/base",
            "_model_module_version": "1.2.0",
            "_model_name": "LayoutModel",
            "_view_count": null,
            "_view_module": "@jupyter-widgets/base",
            "_view_module_version": "1.2.0",
            "_view_name": "LayoutView",
            "align_content": null,
            "align_items": null,
            "align_self": null,
            "border": null,
            "bottom": null,
            "display": null,
            "flex": null,
            "flex_flow": null,
            "grid_area": null,
            "grid_auto_columns": null,
            "grid_auto_flow": null,
            "grid_auto_rows": null,
            "grid_column": null,
            "grid_gap": null,
            "grid_row": null,
            "grid_template_areas": null,
            "grid_template_columns": null,
            "grid_template_rows": null,
            "height": null,
            "justify_content": null,
            "justify_items": null,
            "left": null,
            "margin": null,
            "max_height": null,
            "max_width": null,
            "min_height": null,
            "min_width": null,
            "object_fit": null,
            "object_position": null,
            "order": null,
            "overflow": null,
            "overflow_x": null,
            "overflow_y": null,
            "padding": null,
            "right": null,
            "top": null,
            "visibility": null,
            "width": null
          }
        },
        "878f470073a5410086bc738ccfd37728": {
          "model_module": "@jupyter-widgets/controls",
          "model_name": "DescriptionStyleModel",
          "model_module_version": "1.5.0",
          "state": {
            "_model_module": "@jupyter-widgets/controls",
            "_model_module_version": "1.5.0",
            "_model_name": "DescriptionStyleModel",
            "_view_count": null,
            "_view_module": "@jupyter-widgets/base",
            "_view_module_version": "1.2.0",
            "_view_name": "StyleView",
            "description_width": ""
          }
        },
        "6bd18cc2faff42bf940812f046eada50": {
          "model_module": "@jupyter-widgets/base",
          "model_name": "LayoutModel",
          "model_module_version": "1.2.0",
          "state": {
            "_model_module": "@jupyter-widgets/base",
            "_model_module_version": "1.2.0",
            "_model_name": "LayoutModel",
            "_view_count": null,
            "_view_module": "@jupyter-widgets/base",
            "_view_module_version": "1.2.0",
            "_view_name": "LayoutView",
            "align_content": null,
            "align_items": null,
            "align_self": null,
            "border": null,
            "bottom": null,
            "display": null,
            "flex": null,
            "flex_flow": null,
            "grid_area": null,
            "grid_auto_columns": null,
            "grid_auto_flow": null,
            "grid_auto_rows": null,
            "grid_column": null,
            "grid_gap": null,
            "grid_row": null,
            "grid_template_areas": null,
            "grid_template_columns": null,
            "grid_template_rows": null,
            "height": null,
            "justify_content": null,
            "justify_items": null,
            "left": null,
            "margin": null,
            "max_height": null,
            "max_width": null,
            "min_height": null,
            "min_width": null,
            "object_fit": null,
            "object_position": null,
            "order": null,
            "overflow": null,
            "overflow_x": null,
            "overflow_y": null,
            "padding": null,
            "right": null,
            "top": null,
            "visibility": null,
            "width": null
          }
        },
        "f143e6c5ae8545b6a19d0de6cf36ad15": {
          "model_module": "@jupyter-widgets/controls",
          "model_name": "ProgressStyleModel",
          "model_module_version": "1.5.0",
          "state": {
            "_model_module": "@jupyter-widgets/controls",
            "_model_module_version": "1.5.0",
            "_model_name": "ProgressStyleModel",
            "_view_count": null,
            "_view_module": "@jupyter-widgets/base",
            "_view_module_version": "1.2.0",
            "_view_name": "StyleView",
            "bar_color": null,
            "description_width": ""
          }
        },
        "e9b8a37666fd4655ae07bab882f61c38": {
          "model_module": "@jupyter-widgets/base",
          "model_name": "LayoutModel",
          "model_module_version": "1.2.0",
          "state": {
            "_model_module": "@jupyter-widgets/base",
            "_model_module_version": "1.2.0",
            "_model_name": "LayoutModel",
            "_view_count": null,
            "_view_module": "@jupyter-widgets/base",
            "_view_module_version": "1.2.0",
            "_view_name": "LayoutView",
            "align_content": null,
            "align_items": null,
            "align_self": null,
            "border": null,
            "bottom": null,
            "display": null,
            "flex": null,
            "flex_flow": null,
            "grid_area": null,
            "grid_auto_columns": null,
            "grid_auto_flow": null,
            "grid_auto_rows": null,
            "grid_column": null,
            "grid_gap": null,
            "grid_row": null,
            "grid_template_areas": null,
            "grid_template_columns": null,
            "grid_template_rows": null,
            "height": null,
            "justify_content": null,
            "justify_items": null,
            "left": null,
            "margin": null,
            "max_height": null,
            "max_width": null,
            "min_height": null,
            "min_width": null,
            "object_fit": null,
            "object_position": null,
            "order": null,
            "overflow": null,
            "overflow_x": null,
            "overflow_y": null,
            "padding": null,
            "right": null,
            "top": null,
            "visibility": null,
            "width": null
          }
        },
        "aa22731969a44219b5944ecec0ed7a2a": {
          "model_module": "@jupyter-widgets/controls",
          "model_name": "DescriptionStyleModel",
          "model_module_version": "1.5.0",
          "state": {
            "_model_module": "@jupyter-widgets/controls",
            "_model_module_version": "1.5.0",
            "_model_name": "DescriptionStyleModel",
            "_view_count": null,
            "_view_module": "@jupyter-widgets/base",
            "_view_module_version": "1.2.0",
            "_view_name": "StyleView",
            "description_width": ""
          }
        },
        "9921263a4cfc44e490b8e8bf2ef19fe9": {
          "model_module": "@jupyter-widgets/controls",
          "model_name": "HBoxModel",
          "model_module_version": "1.5.0",
          "state": {
            "_dom_classes": [],
            "_model_module": "@jupyter-widgets/controls",
            "_model_module_version": "1.5.0",
            "_model_name": "HBoxModel",
            "_view_count": null,
            "_view_module": "@jupyter-widgets/controls",
            "_view_module_version": "1.5.0",
            "_view_name": "HBoxView",
            "box_style": "",
            "children": [
              "IPY_MODEL_0636e85260ca49a49f15c3f2bac6bf9a",
              "IPY_MODEL_5b1c1cd72f9a46a4b4d3593befd45b38",
              "IPY_MODEL_aa595bbaac0a45d0be3a9c326a086767"
            ],
            "layout": "IPY_MODEL_a4910fdd8cc744b9a75b60f4e3ae71de"
          }
        },
        "0636e85260ca49a49f15c3f2bac6bf9a": {
          "model_module": "@jupyter-widgets/controls",
          "model_name": "HTMLModel",
          "model_module_version": "1.5.0",
          "state": {
            "_dom_classes": [],
            "_model_module": "@jupyter-widgets/controls",
            "_model_module_version": "1.5.0",
            "_model_name": "HTMLModel",
            "_view_count": null,
            "_view_module": "@jupyter-widgets/controls",
            "_view_module_version": "1.5.0",
            "_view_name": "HTMLView",
            "description": "",
            "description_tooltip": null,
            "layout": "IPY_MODEL_41897ff6580b476d9a2d2a674e0d0178",
            "placeholder": "​",
            "style": "IPY_MODEL_ad26ccc8c8e941cfbea390e5f3f3939c",
            "value": "model.safetensors: 100%"
          }
        },
        "5b1c1cd72f9a46a4b4d3593befd45b38": {
          "model_module": "@jupyter-widgets/controls",
          "model_name": "FloatProgressModel",
          "model_module_version": "1.5.0",
          "state": {
            "_dom_classes": [],
            "_model_module": "@jupyter-widgets/controls",
            "_model_module_version": "1.5.0",
            "_model_name": "FloatProgressModel",
            "_view_count": null,
            "_view_module": "@jupyter-widgets/controls",
            "_view_module_version": "1.5.0",
            "_view_name": "ProgressView",
            "bar_style": "success",
            "description": "",
            "description_tooltip": null,
            "layout": "IPY_MODEL_3b20fe558c22446cbce2c4925ad5ad96",
            "max": 440449768,
            "min": 0,
            "orientation": "horizontal",
            "style": "IPY_MODEL_064845b6b2e746c98dd3c5db77a9020d",
            "value": 440449768
          }
        },
        "aa595bbaac0a45d0be3a9c326a086767": {
          "model_module": "@jupyter-widgets/controls",
          "model_name": "HTMLModel",
          "model_module_version": "1.5.0",
          "state": {
            "_dom_classes": [],
            "_model_module": "@jupyter-widgets/controls",
            "_model_module_version": "1.5.0",
            "_model_name": "HTMLModel",
            "_view_count": null,
            "_view_module": "@jupyter-widgets/controls",
            "_view_module_version": "1.5.0",
            "_view_name": "HTMLView",
            "description": "",
            "description_tooltip": null,
            "layout": "IPY_MODEL_c2f093d5ec604bab950ced11f681add2",
            "placeholder": "​",
            "style": "IPY_MODEL_b3007720c32f4eb295d765fd7ef69b56",
            "value": " 440M/440M [00:02&lt;00:00, 181MB/s]"
          }
        },
        "a4910fdd8cc744b9a75b60f4e3ae71de": {
          "model_module": "@jupyter-widgets/base",
          "model_name": "LayoutModel",
          "model_module_version": "1.2.0",
          "state": {
            "_model_module": "@jupyter-widgets/base",
            "_model_module_version": "1.2.0",
            "_model_name": "LayoutModel",
            "_view_count": null,
            "_view_module": "@jupyter-widgets/base",
            "_view_module_version": "1.2.0",
            "_view_name": "LayoutView",
            "align_content": null,
            "align_items": null,
            "align_self": null,
            "border": null,
            "bottom": null,
            "display": null,
            "flex": null,
            "flex_flow": null,
            "grid_area": null,
            "grid_auto_columns": null,
            "grid_auto_flow": null,
            "grid_auto_rows": null,
            "grid_column": null,
            "grid_gap": null,
            "grid_row": null,
            "grid_template_areas": null,
            "grid_template_columns": null,
            "grid_template_rows": null,
            "height": null,
            "justify_content": null,
            "justify_items": null,
            "left": null,
            "margin": null,
            "max_height": null,
            "max_width": null,
            "min_height": null,
            "min_width": null,
            "object_fit": null,
            "object_position": null,
            "order": null,
            "overflow": null,
            "overflow_x": null,
            "overflow_y": null,
            "padding": null,
            "right": null,
            "top": null,
            "visibility": null,
            "width": null
          }
        },
        "41897ff6580b476d9a2d2a674e0d0178": {
          "model_module": "@jupyter-widgets/base",
          "model_name": "LayoutModel",
          "model_module_version": "1.2.0",
          "state": {
            "_model_module": "@jupyter-widgets/base",
            "_model_module_version": "1.2.0",
            "_model_name": "LayoutModel",
            "_view_count": null,
            "_view_module": "@jupyter-widgets/base",
            "_view_module_version": "1.2.0",
            "_view_name": "LayoutView",
            "align_content": null,
            "align_items": null,
            "align_self": null,
            "border": null,
            "bottom": null,
            "display": null,
            "flex": null,
            "flex_flow": null,
            "grid_area": null,
            "grid_auto_columns": null,
            "grid_auto_flow": null,
            "grid_auto_rows": null,
            "grid_column": null,
            "grid_gap": null,
            "grid_row": null,
            "grid_template_areas": null,
            "grid_template_columns": null,
            "grid_template_rows": null,
            "height": null,
            "justify_content": null,
            "justify_items": null,
            "left": null,
            "margin": null,
            "max_height": null,
            "max_width": null,
            "min_height": null,
            "min_width": null,
            "object_fit": null,
            "object_position": null,
            "order": null,
            "overflow": null,
            "overflow_x": null,
            "overflow_y": null,
            "padding": null,
            "right": null,
            "top": null,
            "visibility": null,
            "width": null
          }
        },
        "ad26ccc8c8e941cfbea390e5f3f3939c": {
          "model_module": "@jupyter-widgets/controls",
          "model_name": "DescriptionStyleModel",
          "model_module_version": "1.5.0",
          "state": {
            "_model_module": "@jupyter-widgets/controls",
            "_model_module_version": "1.5.0",
            "_model_name": "DescriptionStyleModel",
            "_view_count": null,
            "_view_module": "@jupyter-widgets/base",
            "_view_module_version": "1.2.0",
            "_view_name": "StyleView",
            "description_width": ""
          }
        },
        "3b20fe558c22446cbce2c4925ad5ad96": {
          "model_module": "@jupyter-widgets/base",
          "model_name": "LayoutModel",
          "model_module_version": "1.2.0",
          "state": {
            "_model_module": "@jupyter-widgets/base",
            "_model_module_version": "1.2.0",
            "_model_name": "LayoutModel",
            "_view_count": null,
            "_view_module": "@jupyter-widgets/base",
            "_view_module_version": "1.2.0",
            "_view_name": "LayoutView",
            "align_content": null,
            "align_items": null,
            "align_self": null,
            "border": null,
            "bottom": null,
            "display": null,
            "flex": null,
            "flex_flow": null,
            "grid_area": null,
            "grid_auto_columns": null,
            "grid_auto_flow": null,
            "grid_auto_rows": null,
            "grid_column": null,
            "grid_gap": null,
            "grid_row": null,
            "grid_template_areas": null,
            "grid_template_columns": null,
            "grid_template_rows": null,
            "height": null,
            "justify_content": null,
            "justify_items": null,
            "left": null,
            "margin": null,
            "max_height": null,
            "max_width": null,
            "min_height": null,
            "min_width": null,
            "object_fit": null,
            "object_position": null,
            "order": null,
            "overflow": null,
            "overflow_x": null,
            "overflow_y": null,
            "padding": null,
            "right": null,
            "top": null,
            "visibility": null,
            "width": null
          }
        },
        "064845b6b2e746c98dd3c5db77a9020d": {
          "model_module": "@jupyter-widgets/controls",
          "model_name": "ProgressStyleModel",
          "model_module_version": "1.5.0",
          "state": {
            "_model_module": "@jupyter-widgets/controls",
            "_model_module_version": "1.5.0",
            "_model_name": "ProgressStyleModel",
            "_view_count": null,
            "_view_module": "@jupyter-widgets/base",
            "_view_module_version": "1.2.0",
            "_view_name": "StyleView",
            "bar_color": null,
            "description_width": ""
          }
        },
        "c2f093d5ec604bab950ced11f681add2": {
          "model_module": "@jupyter-widgets/base",
          "model_name": "LayoutModel",
          "model_module_version": "1.2.0",
          "state": {
            "_model_module": "@jupyter-widgets/base",
            "_model_module_version": "1.2.0",
            "_model_name": "LayoutModel",
            "_view_count": null,
            "_view_module": "@jupyter-widgets/base",
            "_view_module_version": "1.2.0",
            "_view_name": "LayoutView",
            "align_content": null,
            "align_items": null,
            "align_self": null,
            "border": null,
            "bottom": null,
            "display": null,
            "flex": null,
            "flex_flow": null,
            "grid_area": null,
            "grid_auto_columns": null,
            "grid_auto_flow": null,
            "grid_auto_rows": null,
            "grid_column": null,
            "grid_gap": null,
            "grid_row": null,
            "grid_template_areas": null,
            "grid_template_columns": null,
            "grid_template_rows": null,
            "height": null,
            "justify_content": null,
            "justify_items": null,
            "left": null,
            "margin": null,
            "max_height": null,
            "max_width": null,
            "min_height": null,
            "min_width": null,
            "object_fit": null,
            "object_position": null,
            "order": null,
            "overflow": null,
            "overflow_x": null,
            "overflow_y": null,
            "padding": null,
            "right": null,
            "top": null,
            "visibility": null,
            "width": null
          }
        },
        "b3007720c32f4eb295d765fd7ef69b56": {
          "model_module": "@jupyter-widgets/controls",
          "model_name": "DescriptionStyleModel",
          "model_module_version": "1.5.0",
          "state": {
            "_model_module": "@jupyter-widgets/controls",
            "_model_module_version": "1.5.0",
            "_model_name": "DescriptionStyleModel",
            "_view_count": null,
            "_view_module": "@jupyter-widgets/base",
            "_view_module_version": "1.2.0",
            "_view_name": "StyleView",
            "description_width": ""
          }
        }
      }
    },
    "accelerator": "GPU"
  },
  "nbformat": 4,
  "nbformat_minor": 0
}