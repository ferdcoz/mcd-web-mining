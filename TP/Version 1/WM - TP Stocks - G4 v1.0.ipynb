{
 "cells": [
  {
   "cell_type": "markdown",
   "metadata": {},
   "source": [
    "## Web Mining - TP Stocks - Grupo 4"
   ]
  },
  {
   "cell_type": "markdown",
   "metadata": {},
   "source": [
    "### Librerias"
   ]
  },
  {
   "cell_type": "code",
   "execution_count": 1,
   "metadata": {},
   "outputs": [
    {
     "name": "stderr",
     "output_type": "stream",
     "text": [
      "[nltk_data] Downloading package stopwords to\n",
      "[nltk_data]     C:\\Users\\ferna\\AppData\\Roaming\\nltk_data...\n",
      "[nltk_data]   Package stopwords is already up-to-date!\n"
     ]
    }
   ],
   "source": [
    "import pandas as pd\n",
    "import nltk\n",
    "nltk.download('stopwords')\n",
    "import spacy # Python 3.12\n",
    "import numpy as np\n",
    "import matplotlib.pyplot as plt\n",
    "from xgboost import XGBClassifier\n",
    "from lightgbm import LGBMClassifier\n",
    "from nltk.corpus import stopwords\n",
    "from sklearn.feature_extraction.text import CountVectorizer, TfidfTransformer\n",
    "from sklearn.naive_bayes import MultinomialNB\n",
    "from sklearn.svm import LinearSVC\n",
    "from sklearn.ensemble import RandomForestClassifier, AdaBoostClassifier\n",
    "from sklearn.pipeline import Pipeline\n",
    "from sklearn.metrics import accuracy_score, f1_score, confusion_matrix, roc_curve, auc, classification_report \n",
    "from sklearn.calibration import CalibratedClassifierCV\n",
    "from sklearn.preprocessing import LabelEncoder, MinMaxScaler\n",
    "from sklearn.linear_model import LogisticRegression\n",
    "from sklearn.model_selection import cross_val_score\n",
    "from sklearn.neighbors import KNeighborsClassifier\n",
    "from sklearn.tree import DecisionTreeClassifier\n",
    "from sklearn.metrics.pairwise import cosine_similarity\n",
    "\n",
    "import warnings\n",
    "warnings.filterwarnings('ignore')"
   ]
  },
  {
   "cell_type": "markdown",
   "metadata": {},
   "source": [
    "### Archivo entrenamiento"
   ]
  },
  {
   "cell_type": "code",
   "execution_count": 8,
   "metadata": {},
   "outputs": [],
   "source": [
    "data = pd.read_excel('C:/Austral/mcd-text-mining/TP Final/Source/ypf_v6.xlsx', sheet_name= 'UNIFICADO')"
   ]
  },
  {
   "cell_type": "markdown",
   "metadata": {},
   "source": [
    "## Preprocesamiento"
   ]
  },
  {
   "cell_type": "markdown",
   "metadata": {},
   "source": [
    "### Stopwords"
   ]
  },
  {
   "cell_type": "code",
   "execution_count": 15,
   "metadata": {},
   "outputs": [],
   "source": [
    "stopwords_en = set(stopwords.words('english'))"
   ]
  },
  {
   "cell_type": "code",
   "execution_count": 16,
   "metadata": {},
   "outputs": [],
   "source": [
    "# Listado de stopwords propio\n",
    "stopwords_personales = ['Refinitiv','Zacks','Rystad','Andrew','Rocco','Nilanjan','Benerjee','CERAWEEK','Tirthankar','Chakraborty','Anindya','Barman','Scott','Squires','Jonathan','Gilbert','Yvonne','Yue','Li'\n",
    "                        'Laura','Millan','Jorgelina','Do','Rosario']\n",
    "\n",
    "stopwords_personales = [x.lower() for x in stopwords_personales]\n",
    "\n",
    "stopwords_custom = stopwords_en.union(stopwords_personales)"
   ]
  },
  {
   "cell_type": "markdown",
   "metadata": {},
   "source": [
    "### Bag Of Words"
   ]
  },
  {
   "cell_type": "code",
   "execution_count": 7,
   "metadata": {},
   "outputs": [],
   "source": [
    "word_count = {}\n",
    "\n",
    "for sentence in data[data['Category'].isin(['Compra'])]['Text'].to_list():\n",
    "    words = sentence.split()\n",
    "    \n",
    "    for word in words:\n",
    "        word = word.strip(\".,!?()\").lower()\n",
    "        \n",
    "        if word in word_count:\n",
    "            word_count[word] += 1\n",
    "        else:\n",
    "            word_count[word] = 1"
   ]
  },
  {
   "cell_type": "code",
   "execution_count": 8,
   "metadata": {},
   "outputs": [],
   "source": [
    "word_count_filtro = {word: count for word, count in word_count.items() if word not in stopwords_en}"
   ]
  },
  {
   "cell_type": "code",
   "execution_count": 9,
   "metadata": {},
   "outputs": [],
   "source": [
    "word_counts_orden = dict(sorted(word_count_filtro.items(), key=lambda x: x[1], reverse=True))"
   ]
  },
  {
   "cell_type": "code",
   "execution_count": 10,
   "metadata": {},
   "outputs": [],
   "source": [
    "df = pd.DataFrame(list(word_counts_orden.items()), columns=['Palabra', 'Frecuencia'])\n",
    "file_path = 'bag_of_words.xlsx'\n",
    "df.to_excel(file_path, index=False)"
   ]
  },
  {
   "cell_type": "markdown",
   "metadata": {},
   "source": [
    "### Power Words"
   ]
  },
  {
   "cell_type": "code",
   "execution_count": 11,
   "metadata": {},
   "outputs": [],
   "source": [
    "column1_values = data['Power Word 01'].tolist()\n",
    "column2_values = data['Power Word 02'].tolist()\n",
    "column3_values = data['Power Word 03'].tolist()\n",
    "column4_values = data['Power Word 04'].tolist()\n",
    "column5_values = data['Power Word 05'].tolist()\n",
    "column6_values = data['Power Word 06'].tolist()\n",
    "column7_values = data['Power Word 07'].tolist()\n",
    "column8_values = data['Power Word 08'].tolist()"
   ]
  },
  {
   "cell_type": "code",
   "execution_count": 12,
   "metadata": {},
   "outputs": [],
   "source": [
    "combined_values = set(\n",
    "    column1_values + \n",
    "    column2_values + \n",
    "    column3_values + \n",
    "    column4_values + \n",
    "    column5_values + \n",
    "    column6_values + \n",
    "    column7_values + \n",
    "    column8_values\n",
    "    )"
   ]
  },
  {
   "cell_type": "code",
   "execution_count": 13,
   "metadata": {},
   "outputs": [],
   "source": [
    "unique_values_list = list(combined_values)\n",
    "unique_values_list = [value for value in unique_values_list if pd.notna(value)]\n",
    "powerWords = [str(value).lower() for value in unique_values_list]"
   ]
  },
  {
   "cell_type": "markdown",
   "metadata": {},
   "source": [
    "### Función de Lematización"
   ]
  },
  {
   "cell_type": "code",
   "execution_count": 28,
   "metadata": {},
   "outputs": [],
   "source": [
    "import en_core_web_sm"
   ]
  },
  {
   "cell_type": "code",
   "execution_count": 31,
   "metadata": {},
   "outputs": [],
   "source": [
    "def func_lemma(X_train, dicc_stopwords):\n",
    "    \n",
    "    nlp = spacy.load(\"en_core_web_sm\")\n",
    "    #pip3 install https://github.com/explosion/spacy-models/releases/download/en_core_web_sm-2.2.0/en_core_web_sm-2.2.0.tar.gz\n",
    "    \n",
    "    X_train_lemma = []\n",
    "\n",
    "    for noticia in X_train:\n",
    "        l_doc = nlp(noticia)\n",
    "        v_lema = \" \".join([token.lemma_.lower() for token in l_doc if token.text.lower() not in dicc_stopwords and not token.is_punct])\n",
    "        X_train_lemma.append(v_lema)\n",
    "\n",
    "    return X_train_lemma"
   ]
  },
  {
   "cell_type": "markdown",
   "metadata": {},
   "source": [
    "### Split Train / Test"
   ]
  },
  {
   "cell_type": "code",
   "execution_count": 9,
   "metadata": {},
   "outputs": [],
   "source": [
    "data_train = data[data['Train/Test'].isin(['Train'])]\n",
    "data_test = data[data['Train/Test'].isin(['Test'])]"
   ]
  },
  {
   "cell_type": "code",
   "execution_count": 10,
   "metadata": {},
   "outputs": [],
   "source": [
    "X_train = data_train['Text'].tolist()\n",
    "y_train = data_train['Category'].tolist()"
   ]
  },
  {
   "cell_type": "code",
   "execution_count": 11,
   "metadata": {},
   "outputs": [],
   "source": [
    "X_test = data_test['Text'].tolist()\n",
    "y_test = data_test['Category'].tolist()"
   ]
  },
  {
   "cell_type": "markdown",
   "metadata": {},
   "source": [
    "### Lemma (Similitud del Coseno y Jaccard)"
   ]
  },
  {
   "cell_type": "markdown",
   "metadata": {},
   "source": [
    "Queremos verificar si aplicar lematización realmente cambia la composición del texto y si el texto transformado se reduce."
   ]
  },
  {
   "cell_type": "code",
   "execution_count": 30,
   "metadata": {},
   "outputs": [
    {
     "ename": "OSError",
     "evalue": "[E053] Could not read config file from c:\\Users\\ferna\\AppData\\Local\\Programs\\Python\\Python312\\Lib\\site-packages\\en_core_web_sm\\en_core_web_sm-2.2.0\\config.cfg",
     "output_type": "error",
     "traceback": [
      "\u001b[1;31m---------------------------------------------------------------------------\u001b[0m",
      "\u001b[1;31mOSError\u001b[0m                                   Traceback (most recent call last)",
      "Cell \u001b[1;32mIn[30], line 2\u001b[0m\n\u001b[0;32m      1\u001b[0m list1 \u001b[38;5;241m=\u001b[39m X_train\n\u001b[1;32m----> 2\u001b[0m list2 \u001b[38;5;241m=\u001b[39m \u001b[43mfunc_lemma\u001b[49m\u001b[43m(\u001b[49m\u001b[43mX_train\u001b[49m\u001b[43m,\u001b[49m\u001b[43m \u001b[49m\u001b[43mstopwords_custom\u001b[49m\u001b[43m)\u001b[49m\n\u001b[0;32m      3\u001b[0m vectorizer \u001b[38;5;241m=\u001b[39m CountVectorizer()\n\u001b[0;32m      5\u001b[0m data_lemma \u001b[38;5;241m=\u001b[39m []\n",
      "Cell \u001b[1;32mIn[29], line 3\u001b[0m, in \u001b[0;36mfunc_lemma\u001b[1;34m(X_train, dicc_stopwords)\u001b[0m\n\u001b[0;32m      1\u001b[0m \u001b[38;5;28;01mdef\u001b[39;00m \u001b[38;5;21mfunc_lemma\u001b[39m(X_train, dicc_stopwords):\n\u001b[1;32m----> 3\u001b[0m     nlp \u001b[38;5;241m=\u001b[39m \u001b[43men_core_web_sm\u001b[49m\u001b[38;5;241;43m.\u001b[39;49m\u001b[43mload\u001b[49m\u001b[43m(\u001b[49m\u001b[43m)\u001b[49m\n\u001b[0;32m      4\u001b[0m     \u001b[38;5;66;03m#pip3 install https://github.com/explosion/spacy-models/releases/download/en_core_web_sm-2.2.0/en_core_web_sm-2.2.0.tar.gz\u001b[39;00m\n\u001b[0;32m      6\u001b[0m     X_train_lemma \u001b[38;5;241m=\u001b[39m []\n",
      "File \u001b[1;32mc:\\Users\\ferna\\AppData\\Local\\Programs\\Python\\Python312\\Lib\\site-packages\\en_core_web_sm\\__init__.py:12\u001b[0m, in \u001b[0;36mload\u001b[1;34m(**overrides)\u001b[0m\n\u001b[0;32m     11\u001b[0m \u001b[38;5;28;01mdef\u001b[39;00m \u001b[38;5;21mload\u001b[39m(\u001b[38;5;241m*\u001b[39m\u001b[38;5;241m*\u001b[39moverrides):\n\u001b[1;32m---> 12\u001b[0m     \u001b[38;5;28;01mreturn\u001b[39;00m \u001b[43mload_model_from_init_py\u001b[49m\u001b[43m(\u001b[49m\u001b[38;5;18;43m__file__\u001b[39;49m\u001b[43m,\u001b[49m\u001b[43m \u001b[49m\u001b[38;5;241;43m*\u001b[39;49m\u001b[38;5;241;43m*\u001b[39;49m\u001b[43moverrides\u001b[49m\u001b[43m)\u001b[49m\n",
      "File \u001b[1;32mc:\\Users\\ferna\\AppData\\Local\\Programs\\Python\\Python312\\Lib\\site-packages\\spacy\\util.py:682\u001b[0m, in \u001b[0;36mload_model_from_init_py\u001b[1;34m(init_file, vocab, disable, enable, exclude, config)\u001b[0m\n\u001b[0;32m    680\u001b[0m \u001b[38;5;28;01mif\u001b[39;00m \u001b[38;5;129;01mnot\u001b[39;00m model_path\u001b[38;5;241m.\u001b[39mexists():\n\u001b[0;32m    681\u001b[0m     \u001b[38;5;28;01mraise\u001b[39;00m \u001b[38;5;167;01mIOError\u001b[39;00m(Errors\u001b[38;5;241m.\u001b[39mE052\u001b[38;5;241m.\u001b[39mformat(path\u001b[38;5;241m=\u001b[39mdata_path))\n\u001b[1;32m--> 682\u001b[0m \u001b[38;5;28;01mreturn\u001b[39;00m \u001b[43mload_model_from_path\u001b[49m\u001b[43m(\u001b[49m\n\u001b[0;32m    683\u001b[0m \u001b[43m    \u001b[49m\u001b[43mdata_path\u001b[49m\u001b[43m,\u001b[49m\n\u001b[0;32m    684\u001b[0m \u001b[43m    \u001b[49m\u001b[43mvocab\u001b[49m\u001b[38;5;241;43m=\u001b[39;49m\u001b[43mvocab\u001b[49m\u001b[43m,\u001b[49m\n\u001b[0;32m    685\u001b[0m \u001b[43m    \u001b[49m\u001b[43mmeta\u001b[49m\u001b[38;5;241;43m=\u001b[39;49m\u001b[43mmeta\u001b[49m\u001b[43m,\u001b[49m\n\u001b[0;32m    686\u001b[0m \u001b[43m    \u001b[49m\u001b[43mdisable\u001b[49m\u001b[38;5;241;43m=\u001b[39;49m\u001b[43mdisable\u001b[49m\u001b[43m,\u001b[49m\n\u001b[0;32m    687\u001b[0m \u001b[43m    \u001b[49m\u001b[43menable\u001b[49m\u001b[38;5;241;43m=\u001b[39;49m\u001b[43menable\u001b[49m\u001b[43m,\u001b[49m\n\u001b[0;32m    688\u001b[0m \u001b[43m    \u001b[49m\u001b[43mexclude\u001b[49m\u001b[38;5;241;43m=\u001b[39;49m\u001b[43mexclude\u001b[49m\u001b[43m,\u001b[49m\n\u001b[0;32m    689\u001b[0m \u001b[43m    \u001b[49m\u001b[43mconfig\u001b[49m\u001b[38;5;241;43m=\u001b[39;49m\u001b[43mconfig\u001b[49m\u001b[43m,\u001b[49m\n\u001b[0;32m    690\u001b[0m \u001b[43m\u001b[49m\u001b[43m)\u001b[49m\n",
      "File \u001b[1;32mc:\\Users\\ferna\\AppData\\Local\\Programs\\Python\\Python312\\Lib\\site-packages\\spacy\\util.py:538\u001b[0m, in \u001b[0;36mload_model_from_path\u001b[1;34m(model_path, meta, vocab, disable, enable, exclude, config)\u001b[0m\n\u001b[0;32m    536\u001b[0m config_path \u001b[38;5;241m=\u001b[39m model_path \u001b[38;5;241m/\u001b[39m \u001b[38;5;124m\"\u001b[39m\u001b[38;5;124mconfig.cfg\u001b[39m\u001b[38;5;124m\"\u001b[39m\n\u001b[0;32m    537\u001b[0m overrides \u001b[38;5;241m=\u001b[39m dict_to_dot(config, for_overrides\u001b[38;5;241m=\u001b[39m\u001b[38;5;28;01mTrue\u001b[39;00m)\n\u001b[1;32m--> 538\u001b[0m config \u001b[38;5;241m=\u001b[39m \u001b[43mload_config\u001b[49m\u001b[43m(\u001b[49m\u001b[43mconfig_path\u001b[49m\u001b[43m,\u001b[49m\u001b[43m \u001b[49m\u001b[43moverrides\u001b[49m\u001b[38;5;241;43m=\u001b[39;49m\u001b[43moverrides\u001b[49m\u001b[43m)\u001b[49m\n\u001b[0;32m    539\u001b[0m nlp \u001b[38;5;241m=\u001b[39m load_model_from_config(\n\u001b[0;32m    540\u001b[0m     config,\n\u001b[0;32m    541\u001b[0m     vocab\u001b[38;5;241m=\u001b[39mvocab,\n\u001b[1;32m   (...)\u001b[0m\n\u001b[0;32m    545\u001b[0m     meta\u001b[38;5;241m=\u001b[39mmeta,\n\u001b[0;32m    546\u001b[0m )\n\u001b[0;32m    547\u001b[0m \u001b[38;5;28;01mreturn\u001b[39;00m nlp\u001b[38;5;241m.\u001b[39mfrom_disk(model_path, exclude\u001b[38;5;241m=\u001b[39mexclude, overrides\u001b[38;5;241m=\u001b[39moverrides)\n",
      "File \u001b[1;32mc:\\Users\\ferna\\AppData\\Local\\Programs\\Python\\Python312\\Lib\\site-packages\\spacy\\util.py:714\u001b[0m, in \u001b[0;36mload_config\u001b[1;34m(path, overrides, interpolate)\u001b[0m\n\u001b[0;32m    712\u001b[0m \u001b[38;5;28;01melse\u001b[39;00m:\n\u001b[0;32m    713\u001b[0m     \u001b[38;5;28;01mif\u001b[39;00m \u001b[38;5;129;01mnot\u001b[39;00m config_path \u001b[38;5;129;01mor\u001b[39;00m \u001b[38;5;129;01mnot\u001b[39;00m config_path\u001b[38;5;241m.\u001b[39mis_file():\n\u001b[1;32m--> 714\u001b[0m         \u001b[38;5;28;01mraise\u001b[39;00m \u001b[38;5;167;01mIOError\u001b[39;00m(Errors\u001b[38;5;241m.\u001b[39mE053\u001b[38;5;241m.\u001b[39mformat(path\u001b[38;5;241m=\u001b[39mconfig_path, name\u001b[38;5;241m=\u001b[39m\u001b[38;5;124m\"\u001b[39m\u001b[38;5;124mconfig file\u001b[39m\u001b[38;5;124m\"\u001b[39m))\n\u001b[0;32m    715\u001b[0m     \u001b[38;5;28;01mreturn\u001b[39;00m config\u001b[38;5;241m.\u001b[39mfrom_disk(\n\u001b[0;32m    716\u001b[0m         config_path, overrides\u001b[38;5;241m=\u001b[39moverrides, interpolate\u001b[38;5;241m=\u001b[39minterpolate\n\u001b[0;32m    717\u001b[0m     )\n",
      "\u001b[1;31mOSError\u001b[0m: [E053] Could not read config file from c:\\Users\\ferna\\AppData\\Local\\Programs\\Python\\Python312\\Lib\\site-packages\\en_core_web_sm\\en_core_web_sm-2.2.0\\config.cfg"
     ]
    }
   ],
   "source": [
    "list1 = X_train\n",
    "list2 = func_lemma(X_train, stopwords_custom)\n",
    "vectorizer = CountVectorizer()\n",
    "\n",
    "data_lemma = []\n",
    "\n",
    "for str1, str2 in zip(list1, list2):\n",
    "    tokens1 = str1.split()\n",
    "    tokens2 = str2.split()\n",
    "\n",
    "    matrix1 = vectorizer.fit_transform([\" \".join(tokens1)])\n",
    "    matrix2 = vectorizer.transform([\" \".join(tokens2)])\n",
    "    \n",
    "    cosine_sim = cosine_similarity(matrix1, matrix2)[0][0]\n",
    "\n",
    "    data_lemma.append([str1, str2, cosine_sim])\n",
    "\n",
    "df_lemma = pd.DataFrame(data_lemma, columns=[\"Original\", \"Lemma\", \"Sim_Coseno\"])"
   ]
  },
  {
   "cell_type": "code",
   "execution_count": 13,
   "metadata": {},
   "outputs": [
    {
     "ename": "NameError",
     "evalue": "name 'df_lemma' is not defined",
     "output_type": "error",
     "traceback": [
      "\u001b[1;31m---------------------------------------------------------------------------\u001b[0m",
      "\u001b[1;31mNameError\u001b[0m                                 Traceback (most recent call last)",
      "Cell \u001b[1;32mIn[13], line 1\u001b[0m\n\u001b[1;32m----> 1\u001b[0m \u001b[43mdf_lemma\u001b[49m\u001b[38;5;241m.\u001b[39mhead()\n",
      "\u001b[1;31mNameError\u001b[0m: name 'df_lemma' is not defined"
     ]
    }
   ],
   "source": [
    "df_lemma.head()"
   ]
  },
  {
   "cell_type": "code",
   "execution_count": 18,
   "metadata": {},
   "outputs": [
    {
     "name": "stdout",
     "output_type": "stream",
     "text": [
      "Diccionario original: 1710\n",
      "Diccionario lematizado: 1252\n"
     ]
    }
   ],
   "source": [
    "def remove_stopwords(tokens):\n",
    "    filtered_tokens = [word for word in tokens if word.lower() not in stopwords_custom]\n",
    "    return filtered_tokens\n",
    "\n",
    "original_text = \" \".join(list1)\n",
    "lemmatized_text = \" \".join(list2)\n",
    "\n",
    "original_tokens = original_text.split()\n",
    "lemmatized_tokens = lemmatized_text.split()\n",
    "\n",
    "filtered_original_tokens = remove_stopwords(original_tokens)\n",
    "filtered_lemmatized_tokens = remove_stopwords(lemmatized_tokens)\n",
    "\n",
    "original_unique_words = set(filtered_original_tokens)\n",
    "lemmatized_unique_words = set(filtered_lemmatized_tokens)\n",
    "\n",
    "total_unique_words_original = len(original_unique_words)\n",
    "total_unique_words_lemmatized = len(lemmatized_unique_words)\n",
    "\n",
    "print(f\"Diccionario original: {total_unique_words_original}\")\n",
    "print(f\"Diccionario lematizado: {total_unique_words_lemmatized}\")"
   ]
  },
  {
   "cell_type": "markdown",
   "metadata": {},
   "source": [
    "Vemos que el diccionario de términos luego de la lematización no se reduce significativamente."
   ]
  },
  {
   "cell_type": "markdown",
   "metadata": {},
   "source": [
    "## Entrenamiento"
   ]
  },
  {
   "cell_type": "markdown",
   "metadata": {},
   "source": [
    "### Regresión Logistica"
   ]
  },
  {
   "cell_type": "markdown",
   "metadata": {},
   "source": [
    "#### Pipeline"
   ]
  },
  {
   "cell_type": "code",
   "execution_count": 19,
   "metadata": {},
   "outputs": [],
   "source": [
    "clf_lr = Pipeline([\n",
    "    ('vect' , CountVectorizer()), \n",
    "    ('tfidf', TfidfTransformer()), \n",
    "    ('clf'  , LogisticRegression())\n",
    "])\n",
    "\n",
    "clf_lr_sw = Pipeline([\n",
    "    ('vect' , CountVectorizer(stop_words=stopwords_custom)), \n",
    "    ('tfidf', TfidfTransformer()), \n",
    "    ('clf'  , LogisticRegression())\n",
    "])"
   ]
  },
  {
   "cell_type": "markdown",
   "metadata": {},
   "source": [
    "#### Entrenamiento"
   ]
  },
  {
   "cell_type": "code",
   "execution_count": 20,
   "metadata": {},
   "outputs": [],
   "source": [
    "clf_lr = clf_lr.fit(X_train, y_train)\n",
    "\n",
    "clf_lr_sw = clf_lr_sw.fit(X_train, y_train)\n",
    "\n",
    "clf_lr_lema = clf_lr.fit(func_lemma(X_train,stopwords_custom), y_train)"
   ]
  },
  {
   "cell_type": "markdown",
   "metadata": {},
   "source": [
    "#### Predicción ( Etiquetas )"
   ]
  },
  {
   "cell_type": "code",
   "execution_count": 21,
   "metadata": {},
   "outputs": [],
   "source": [
    "y_pred_lr = clf_lr.predict(X_test)\n",
    "\n",
    "y_pred_lr_sw = clf_lr_sw.predict(X_test)\n",
    "\n",
    "y_pred_lr_lema = clf_lr_lema.predict(X_test)"
   ]
  },
  {
   "cell_type": "markdown",
   "metadata": {},
   "source": [
    "#### Predicción ( Probabilidad )"
   ]
  },
  {
   "cell_type": "code",
   "execution_count": 22,
   "metadata": {},
   "outputs": [],
   "source": [
    "y_pred_lr_proba = clf_lr.predict_proba(X_test)\n",
    "\n",
    "y_pred_lr_sw_proba = clf_lr_sw.predict_proba(X_test)\n",
    "\n",
    "y_pred_lr_lema_proba = clf_lr_lema.predict_proba(X_test)"
   ]
  },
  {
   "cell_type": "markdown",
   "metadata": {},
   "source": [
    "#### Evaluación"
   ]
  },
  {
   "cell_type": "code",
   "execution_count": 23,
   "metadata": {},
   "outputs": [
    {
     "name": "stdout",
     "output_type": "stream",
     "text": [
      "Accuracy: 69.05%\n",
      "\n",
      "F1 Score: 68.99\n",
      "\n",
      "Confusion Matrix:\n",
      " [[32 12]\n",
      " [14 26]]\n"
     ]
    }
   ],
   "source": [
    "print(\"Accuracy: {:.2f}%\".format(accuracy_score(y_test, y_pred_lr_sw) * 100))\n",
    "print(\"\\nF1 Score: {:.2f}\".format(f1_score(y_test, y_pred_lr_sw, average='weighted') * 100))\n",
    "print(\"\\nConfusion Matrix:\\n\", confusion_matrix(y_test, y_pred_lr_sw))"
   ]
  },
  {
   "cell_type": "markdown",
   "metadata": {},
   "source": [
    "### Naive Bayes Multinomial"
   ]
  },
  {
   "cell_type": "markdown",
   "metadata": {},
   "source": [
    "#### Pipeline"
   ]
  },
  {
   "cell_type": "code",
   "execution_count": 24,
   "metadata": {},
   "outputs": [],
   "source": [
    "clf_nb = Pipeline([\n",
    "    ('vect' , CountVectorizer()), \n",
    "    ('tfidf', TfidfTransformer()), \n",
    "    ('clf'  , MultinomialNB())\n",
    "])\n",
    "\n",
    "clf_nb_sw = Pipeline([\n",
    "    ('vect' , CountVectorizer(stop_words=stopwords_custom)), \n",
    "    ('tfidf', TfidfTransformer()), \n",
    "    ('clf'  , MultinomialNB())\n",
    "])"
   ]
  },
  {
   "cell_type": "markdown",
   "metadata": {},
   "source": [
    "#### Entrenamiento"
   ]
  },
  {
   "cell_type": "code",
   "execution_count": 25,
   "metadata": {},
   "outputs": [],
   "source": [
    "clf_nb = clf_nb.fit(X_train, y_train)\n",
    "\n",
    "clf_nb_sw = clf_nb_sw.fit(X_train, y_train)\n",
    "\n",
    "clf_nb_lema = clf_nb.fit(func_lemma(X_train,stopwords_custom), y_train)"
   ]
  },
  {
   "cell_type": "markdown",
   "metadata": {},
   "source": [
    "#### Predicción ( Etiquetas )"
   ]
  },
  {
   "cell_type": "code",
   "execution_count": 26,
   "metadata": {},
   "outputs": [],
   "source": [
    "y_pred_nb = clf_nb.predict(X_test)\n",
    "\n",
    "y_pred_nb_sw = clf_nb_sw.predict(X_test)\n",
    "\n",
    "y_pred_nb_lema = clf_nb_lema.predict(X_test)"
   ]
  },
  {
   "cell_type": "markdown",
   "metadata": {},
   "source": [
    "#### Predicción ( Probabilidad )"
   ]
  },
  {
   "cell_type": "code",
   "execution_count": 27,
   "metadata": {},
   "outputs": [],
   "source": [
    "y_pred_nb_proba = clf_nb.predict_proba(X_test)\n",
    "\n",
    "y_pred_nb_sw_proba = clf_nb_sw.predict_proba(X_test)\n",
    "\n",
    "y_pred_nb_lema_proba = clf_nb_lema.predict_proba(X_test)"
   ]
  },
  {
   "cell_type": "markdown",
   "metadata": {},
   "source": [
    "#### Evaluación"
   ]
  },
  {
   "cell_type": "code",
   "execution_count": 28,
   "metadata": {},
   "outputs": [
    {
     "name": "stdout",
     "output_type": "stream",
     "text": [
      "Accuracy: 64.29%\n",
      "\n",
      "F1 Score: 62.95\n",
      "\n",
      "Confusion Matrix:\n",
      " [[36  8]\n",
      " [22 18]]\n"
     ]
    }
   ],
   "source": [
    "print(\"Accuracy: {:.2f}%\".format(accuracy_score(y_test, y_pred_nb) * 100))\n",
    "print(\"\\nF1 Score: {:.2f}\".format(f1_score(y_test, y_pred_nb, average='weighted') * 100))\n",
    "print(\"\\nConfusion Matrix:\\n\", confusion_matrix(y_test, y_pred_nb))"
   ]
  },
  {
   "cell_type": "code",
   "execution_count": 29,
   "metadata": {},
   "outputs": [
    {
     "name": "stdout",
     "output_type": "stream",
     "text": [
      "Accuracy: 66.67%\n",
      "\n",
      "F1 Score: 64.66\n",
      "\n",
      "Confusion Matrix:\n",
      " [[39  5]\n",
      " [23 17]]\n"
     ]
    }
   ],
   "source": [
    "print(\"Accuracy: {:.2f}%\".format(accuracy_score(y_test, y_pred_nb_sw) * 100))\n",
    "print(\"\\nF1 Score: {:.2f}\".format(f1_score(y_test, y_pred_nb_sw, average='weighted') * 100))\n",
    "print(\"\\nConfusion Matrix:\\n\", confusion_matrix(y_test, y_pred_nb_sw))"
   ]
  },
  {
   "cell_type": "code",
   "execution_count": 30,
   "metadata": {},
   "outputs": [
    {
     "name": "stdout",
     "output_type": "stream",
     "text": [
      "Accuracy: 64.29%\n",
      "\n",
      "F1 Score: 62.95\n",
      "\n",
      "Confusion Matrix:\n",
      " [[36  8]\n",
      " [22 18]]\n"
     ]
    }
   ],
   "source": [
    "print(\"Accuracy: {:.2f}%\".format(accuracy_score(y_test, y_pred_nb_lema) * 100))\n",
    "print(\"\\nF1 Score: {:.2f}\".format(f1_score(y_test, y_pred_nb_lema, average='weighted') * 100))\n",
    "print(\"\\nConfusion Matrix:\\n\", confusion_matrix(y_test, y_pred_nb_lema))"
   ]
  },
  {
   "cell_type": "markdown",
   "metadata": {},
   "source": [
    "### Support Vector Classifier"
   ]
  },
  {
   "cell_type": "markdown",
   "metadata": {},
   "source": [
    "#### Pipeline"
   ]
  },
  {
   "cell_type": "code",
   "execution_count": 32,
   "metadata": {},
   "outputs": [],
   "source": [
    "clf_svc = Pipeline([\n",
    "    ('vect' , CountVectorizer()), \n",
    "    ('tfidf', TfidfTransformer()), \n",
    "    ('clf'  , LinearSVC())\n",
    "])\n",
    "\n",
    "clf_svc_sw = Pipeline([\n",
    "    ('vect' , CountVectorizer(stop_words=stopwords_custom)), \n",
    "    ('tfidf', TfidfTransformer()), \n",
    "    ('clf'  , LinearSVC())\n",
    "])\n",
    "\n",
    "clf_svc_proba = Pipeline([\n",
    "    ('vect' , CountVectorizer()), \n",
    "    ('tfidf', TfidfTransformer()), \n",
    "    ('clf'  , CalibratedClassifierCV(LinearSVC()))\n",
    "])\n",
    "\n",
    "clf_svc_sw_proba = Pipeline([\n",
    "    ('vect' , CountVectorizer(stop_words=stopwords_custom)), \n",
    "    ('tfidf', TfidfTransformer()), \n",
    "    ('clf'  , CalibratedClassifierCV(LinearSVC()))\n",
    "])"
   ]
  },
  {
   "cell_type": "markdown",
   "metadata": {},
   "source": [
    "#### Entrenamiento"
   ]
  },
  {
   "cell_type": "code",
   "execution_count": 33,
   "metadata": {},
   "outputs": [],
   "source": [
    "clf_svc = clf_svc.fit(X_train, y_train)\n",
    "\n",
    "clf_svc_sw = clf_svc_sw.fit(X_train, y_train)\n",
    "\n",
    "clf_svc_lema = clf_svc.fit(func_lemma(X_train,stopwords_custom), y_train)"
   ]
  },
  {
   "cell_type": "markdown",
   "metadata": {},
   "source": [
    "#### Predicción ( Etiquetas )"
   ]
  },
  {
   "cell_type": "code",
   "execution_count": 34,
   "metadata": {},
   "outputs": [],
   "source": [
    "y_pred_svc = clf_svc.predict(X_test)\n",
    "\n",
    "y_pred_svc_sw = clf_svc_sw.predict(X_test)\n",
    "\n",
    "y_pred_svc_lema = clf_svc_lema.predict(X_test)"
   ]
  },
  {
   "cell_type": "markdown",
   "metadata": {},
   "source": [
    "#### Predicción ( Probabilidad )"
   ]
  },
  {
   "cell_type": "code",
   "execution_count": 35,
   "metadata": {},
   "outputs": [],
   "source": [
    "clf_svc = clf_svc_proba.fit(X_train, y_train)\n",
    "\n",
    "clf_svc_sw = clf_svc_sw_proba.fit(X_train, y_train)\n",
    "\n",
    "clf_svc_lema = clf_svc_proba.fit(func_lemma(X_train,stopwords_custom), y_train)"
   ]
  },
  {
   "cell_type": "code",
   "execution_count": 36,
   "metadata": {},
   "outputs": [],
   "source": [
    "y_pred_svc_proba = clf_svc.predict_proba(X_test)\n",
    "\n",
    "y_pred_svc_sw_proba = clf_svc_sw.predict_proba(X_test)\n",
    "\n",
    "y_pred_svc_lema_proba = clf_svc_lema.predict_proba(X_test)"
   ]
  },
  {
   "cell_type": "markdown",
   "metadata": {},
   "source": [
    "#### Evaluación"
   ]
  },
  {
   "cell_type": "code",
   "execution_count": 37,
   "metadata": {},
   "outputs": [
    {
     "name": "stdout",
     "output_type": "stream",
     "text": [
      "Accuracy: 64.29%\n",
      "\n",
      "F1 Score: 64.22\n",
      "\n",
      "Confusion Matrix:\n",
      " [[30 14]\n",
      " [16 24]]\n"
     ]
    }
   ],
   "source": [
    "print(\"Accuracy: {:.2f}%\".format(accuracy_score(y_test, y_pred_svc) * 100))\n",
    "print(\"\\nF1 Score: {:.2f}\".format(f1_score(y_test, y_pred_svc, average='weighted') * 100))\n",
    "print(\"\\nConfusion Matrix:\\n\", confusion_matrix(y_test, y_pred_svc))"
   ]
  },
  {
   "cell_type": "code",
   "execution_count": 38,
   "metadata": {},
   "outputs": [
    {
     "name": "stdout",
     "output_type": "stream",
     "text": [
      "Accuracy: 69.05%\n",
      "\n",
      "F1 Score: 68.91\n",
      "\n",
      "Confusion Matrix:\n",
      " [[33 11]\n",
      " [15 25]]\n"
     ]
    }
   ],
   "source": [
    "print(\"Accuracy: {:.2f}%\".format(accuracy_score(y_test, y_pred_svc_sw) * 100))\n",
    "print(\"\\nF1 Score: {:.2f}\".format(f1_score(y_test, y_pred_svc_sw, average='weighted') * 100))\n",
    "print(\"\\nConfusion Matrix:\\n\", confusion_matrix(y_test, y_pred_svc_sw))"
   ]
  },
  {
   "cell_type": "code",
   "execution_count": 39,
   "metadata": {},
   "outputs": [
    {
     "name": "stdout",
     "output_type": "stream",
     "text": [
      "Accuracy: 64.29%\n",
      "\n",
      "F1 Score: 64.22\n",
      "\n",
      "Confusion Matrix:\n",
      " [[30 14]\n",
      " [16 24]]\n"
     ]
    }
   ],
   "source": [
    "print(\"Accuracy: {:.2f}%\".format(accuracy_score(y_test, y_pred_svc_lema) * 100))\n",
    "print(\"\\nF1 Score: {:.2f}\".format(f1_score(y_test, y_pred_svc_lema, average='weighted') * 100))\n",
    "print(\"\\nConfusion Matrix:\\n\", confusion_matrix(y_test, y_pred_svc_lema))"
   ]
  },
  {
   "cell_type": "markdown",
   "metadata": {},
   "source": [
    "### Random Forest"
   ]
  },
  {
   "cell_type": "markdown",
   "metadata": {},
   "source": [
    "#### Pipeline"
   ]
  },
  {
   "cell_type": "code",
   "execution_count": 40,
   "metadata": {},
   "outputs": [],
   "source": [
    "clf_rf = Pipeline([\n",
    "    ('vect' , CountVectorizer()), \n",
    "    ('tfidf', TfidfTransformer()), \n",
    "    ('clf'  , RandomForestClassifier())\n",
    "])\n",
    "\n",
    "clf_rf_sw = Pipeline([\n",
    "    ('vect' , CountVectorizer(stop_words=stopwords_custom)), \n",
    "    ('tfidf', TfidfTransformer()), \n",
    "    ('clf'  , RandomForestClassifier())\n",
    "])"
   ]
  },
  {
   "cell_type": "markdown",
   "metadata": {},
   "source": [
    "#### Entrenamiento"
   ]
  },
  {
   "cell_type": "code",
   "execution_count": 41,
   "metadata": {},
   "outputs": [],
   "source": [
    "clf_rf = clf_rf.fit(X_train, y_train)\n",
    "\n",
    "clf_rf_sw = clf_rf_sw.fit(X_train, y_train)"
   ]
  },
  {
   "cell_type": "markdown",
   "metadata": {},
   "source": [
    "#### Predicción (Etiquetas)"
   ]
  },
  {
   "cell_type": "code",
   "execution_count": 42,
   "metadata": {},
   "outputs": [],
   "source": [
    "y_pred_rf = clf_rf.predict(X_test)\n",
    "\n",
    "y_pred_rf_sw = clf_rf_sw.predict(X_test)"
   ]
  },
  {
   "cell_type": "markdown",
   "metadata": {},
   "source": [
    "#### Predicción (Probabilidad)"
   ]
  },
  {
   "cell_type": "code",
   "execution_count": 43,
   "metadata": {},
   "outputs": [],
   "source": [
    "y_pred_rf_proba = clf_rf.predict_proba(X_test)\n",
    "\n",
    "y_pred_rf_sw_proba = clf_rf_sw.predict_proba(X_test)"
   ]
  },
  {
   "cell_type": "code",
   "execution_count": 44,
   "metadata": {},
   "outputs": [
    {
     "name": "stdout",
     "output_type": "stream",
     "text": [
      "Accuracy: 66.67%\n",
      "\n",
      "F1 Score: 66.67\n",
      "\n",
      "Confusion Matrix:\n",
      " [[28 16]\n",
      " [12 28]]\n"
     ]
    }
   ],
   "source": [
    "print(\"Accuracy: {:.2f}%\".format(accuracy_score(y_test, y_pred_rf) * 100))\n",
    "print(\"\\nF1 Score: {:.2f}\".format(f1_score(y_test, y_pred_rf, average='weighted') * 100))\n",
    "print(\"\\nConfusion Matrix:\\n\", confusion_matrix(y_test, y_pred_rf))"
   ]
  },
  {
   "cell_type": "markdown",
   "metadata": {},
   "source": [
    "### XGBoost"
   ]
  },
  {
   "cell_type": "markdown",
   "metadata": {},
   "source": [
    "#### Mapeo etiquetas"
   ]
  },
  {
   "cell_type": "code",
   "execution_count": 45,
   "metadata": {},
   "outputs": [],
   "source": [
    "y_train_gb = data_train[\"Category\"].map({'Neutro': 1, 'Compra': 0}).to_list()\n",
    "y_test_gb = data_test[\"Category\"].map({'Neutro': 1, 'Compra': 0}).to_list()"
   ]
  },
  {
   "cell_type": "code",
   "execution_count": 46,
   "metadata": {},
   "outputs": [],
   "source": [
    "def map_value(value):\n",
    "    if value == 0:\n",
    "        return \"Compra\"\n",
    "    else:\n",
    "        return \"Neutro\""
   ]
  },
  {
   "cell_type": "markdown",
   "metadata": {},
   "source": [
    "#### Pipeline"
   ]
  },
  {
   "cell_type": "code",
   "execution_count": 47,
   "metadata": {},
   "outputs": [],
   "source": [
    "clf_xgb = Pipeline([\n",
    "    ('vect' , CountVectorizer()), \n",
    "    ('tfidf', TfidfTransformer()), \n",
    "    ('clf'  , XGBClassifier())\n",
    "])\n",
    "\n",
    "clf_xgb_sw = Pipeline([\n",
    "    ('vect' , CountVectorizer(stop_words=stopwords_custom)), \n",
    "    ('tfidf', TfidfTransformer()), \n",
    "    ('clf'  , XGBClassifier())\n",
    "])"
   ]
  },
  {
   "cell_type": "markdown",
   "metadata": {},
   "source": [
    "#### Entrenamiento"
   ]
  },
  {
   "cell_type": "code",
   "execution_count": 48,
   "metadata": {},
   "outputs": [],
   "source": [
    "clf_xgb = clf_xgb.fit(X_train, y_train_gb)\n",
    "\n",
    "clf_xgb_sw = clf_xgb_sw.fit(X_train, y_train_gb)"
   ]
  },
  {
   "cell_type": "markdown",
   "metadata": {},
   "source": [
    "#### Predicción (Etiquetas)"
   ]
  },
  {
   "cell_type": "code",
   "execution_count": 49,
   "metadata": {},
   "outputs": [],
   "source": [
    "y_pred_xgb = clf_xgb.predict(X_test)\n",
    "\n",
    "y_pred_xgb_sw = clf_xgb_sw.predict(X_test)"
   ]
  },
  {
   "cell_type": "markdown",
   "metadata": {},
   "source": [
    "#### Predicción (Probabilidad)"
   ]
  },
  {
   "cell_type": "code",
   "execution_count": 50,
   "metadata": {},
   "outputs": [],
   "source": [
    "y_pred_xgb_proba = clf_xgb.predict_proba(X_test)\n",
    "\n",
    "y_pred_xgb_sw_proba = clf_xgb_sw.predict_proba(X_test)"
   ]
  },
  {
   "cell_type": "markdown",
   "metadata": {},
   "source": [
    "#### Evaluación"
   ]
  },
  {
   "cell_type": "code",
   "execution_count": 51,
   "metadata": {},
   "outputs": [
    {
     "name": "stdout",
     "output_type": "stream",
     "text": [
      "Accuracy: 67.86%\n",
      "\n",
      "F1 Score: 67.83\n",
      "\n",
      "Confusion Matrix:\n",
      " [[31 13]\n",
      " [14 26]]\n"
     ]
    }
   ],
   "source": [
    "print(\"Accuracy: {:.2f}%\".format(accuracy_score(y_test_gb, y_pred_xgb_sw) * 100))\n",
    "print(\"\\nF1 Score: {:.2f}\".format(f1_score(y_test_gb, y_pred_xgb_sw, average='weighted') * 100))\n",
    "print(\"\\nConfusion Matrix:\\n\", confusion_matrix(y_test_gb, y_pred_xgb_sw))"
   ]
  },
  {
   "cell_type": "markdown",
   "metadata": {},
   "source": [
    "#### Remapeo de etiquetas"
   ]
  },
  {
   "cell_type": "code",
   "execution_count": 52,
   "metadata": {},
   "outputs": [],
   "source": [
    "y_pred_xgb = [map_value(value) for value in y_pred_xgb]\n",
    "y_pred_xgb_sw = [map_value(value) for value in y_pred_xgb_sw]"
   ]
  },
  {
   "cell_type": "markdown",
   "metadata": {},
   "source": [
    "### LightGBM"
   ]
  },
  {
   "cell_type": "markdown",
   "metadata": {},
   "source": [
    "#### Pipeline"
   ]
  },
  {
   "cell_type": "code",
   "execution_count": 53,
   "metadata": {},
   "outputs": [],
   "source": [
    "clf_lgbm = Pipeline([\n",
    "    ('vect' , CountVectorizer()), \n",
    "    ('tfidf', TfidfTransformer()), \n",
    "    ('clf'  , LGBMClassifier())\n",
    "])\n",
    "\n",
    "clf_lgbm_sw = Pipeline([\n",
    "    ('vect' , CountVectorizer(stop_words=stopwords_custom)), \n",
    "    ('tfidf', TfidfTransformer()), \n",
    "    ('clf'  , LGBMClassifier())\n",
    "])"
   ]
  },
  {
   "cell_type": "markdown",
   "metadata": {},
   "source": [
    "#### Entrenamiento"
   ]
  },
  {
   "cell_type": "code",
   "execution_count": 54,
   "metadata": {},
   "outputs": [
    {
     "name": "stdout",
     "output_type": "stream",
     "text": [
      "[LightGBM] [Info] Number of positive: 104, number of negative: 119\n",
      "[LightGBM] [Info] Auto-choosing row-wise multi-threading, the overhead of testing was 0.002130 seconds.\n",
      "You can set `force_row_wise=true` to remove the overhead.\n",
      "And if memory is not enough, you can set `force_col_wise=true`.\n",
      "[LightGBM] [Info] Total Bins 886\n",
      "[LightGBM] [Info] Number of data points in the train set: 223, number of used features: 49\n",
      "[LightGBM] [Info] [binary:BoostFromScore]: pavg=0.466368 -> initscore=-0.134733\n",
      "[LightGBM] [Info] Start training from score -0.134733\n",
      "[LightGBM] [Warning] No further splits with positive gain, best gain: -inf\n",
      "[LightGBM] [Warning] No further splits with positive gain, best gain: -inf\n",
      "[LightGBM] [Warning] No further splits with positive gain, best gain: -inf\n",
      "[LightGBM] [Warning] No further splits with positive gain, best gain: -inf\n",
      "[LightGBM] [Warning] No further splits with positive gain, best gain: -inf\n",
      "[LightGBM] [Warning] No further splits with positive gain, best gain: -inf\n",
      "[LightGBM] [Warning] No further splits with positive gain, best gain: -inf\n",
      "[LightGBM] [Warning] No further splits with positive gain, best gain: -inf\n",
      "[LightGBM] [Warning] No further splits with positive gain, best gain: -inf\n",
      "[LightGBM] [Warning] No further splits with positive gain, best gain: -inf\n",
      "[LightGBM] [Warning] No further splits with positive gain, best gain: -inf\n",
      "[LightGBM] [Warning] No further splits with positive gain, best gain: -inf\n",
      "[LightGBM] [Warning] No further splits with positive gain, best gain: -inf\n",
      "[LightGBM] [Warning] No further splits with positive gain, best gain: -inf\n",
      "[LightGBM] [Warning] No further splits with positive gain, best gain: -inf\n",
      "[LightGBM] [Warning] No further splits with positive gain, best gain: -inf\n",
      "[LightGBM] [Warning] No further splits with positive gain, best gain: -inf\n",
      "[LightGBM] [Warning] No further splits with positive gain, best gain: -inf\n",
      "[LightGBM] [Warning] No further splits with positive gain, best gain: -inf\n",
      "[LightGBM] [Warning] No further splits with positive gain, best gain: -inf\n",
      "[LightGBM] [Warning] No further splits with positive gain, best gain: -inf\n",
      "[LightGBM] [Warning] No further splits with positive gain, best gain: -inf\n",
      "[LightGBM] [Warning] No further splits with positive gain, best gain: -inf\n",
      "[LightGBM] [Warning] No further splits with positive gain, best gain: -inf\n",
      "[LightGBM] [Warning] No further splits with positive gain, best gain: -inf\n",
      "[LightGBM] [Warning] No further splits with positive gain, best gain: -inf\n",
      "[LightGBM] [Warning] No further splits with positive gain, best gain: -inf\n",
      "[LightGBM] [Warning] No further splits with positive gain, best gain: -inf\n",
      "[LightGBM] [Warning] No further splits with positive gain, best gain: -inf\n",
      "[LightGBM] [Warning] No further splits with positive gain, best gain: -inf\n",
      "[LightGBM] [Warning] No further splits with positive gain, best gain: -inf\n",
      "[LightGBM] [Warning] No further splits with positive gain, best gain: -inf\n",
      "[LightGBM] [Warning] No further splits with positive gain, best gain: -inf\n",
      "[LightGBM] [Warning] No further splits with positive gain, best gain: -inf\n",
      "[LightGBM] [Warning] No further splits with positive gain, best gain: -inf\n",
      "[LightGBM] [Warning] No further splits with positive gain, best gain: -inf\n",
      "[LightGBM] [Warning] No further splits with positive gain, best gain: -inf\n",
      "[LightGBM] [Warning] No further splits with positive gain, best gain: -inf\n",
      "[LightGBM] [Warning] No further splits with positive gain, best gain: -inf\n",
      "[LightGBM] [Warning] No further splits with positive gain, best gain: -inf\n",
      "[LightGBM] [Warning] No further splits with positive gain, best gain: -inf\n",
      "[LightGBM] [Warning] No further splits with positive gain, best gain: -inf\n",
      "[LightGBM] [Warning] No further splits with positive gain, best gain: -inf\n",
      "[LightGBM] [Warning] No further splits with positive gain, best gain: -inf\n",
      "[LightGBM] [Warning] No further splits with positive gain, best gain: -inf\n",
      "[LightGBM] [Warning] No further splits with positive gain, best gain: -inf\n",
      "[LightGBM] [Warning] No further splits with positive gain, best gain: -inf\n",
      "[LightGBM] [Warning] No further splits with positive gain, best gain: -inf\n",
      "[LightGBM] [Warning] No further splits with positive gain, best gain: -inf\n",
      "[LightGBM] [Warning] No further splits with positive gain, best gain: -inf\n",
      "[LightGBM] [Warning] No further splits with positive gain, best gain: -inf\n",
      "[LightGBM] [Warning] No further splits with positive gain, best gain: -inf\n",
      "[LightGBM] [Warning] No further splits with positive gain, best gain: -inf\n",
      "[LightGBM] [Warning] No further splits with positive gain, best gain: -inf\n",
      "[LightGBM] [Warning] No further splits with positive gain, best gain: -inf\n",
      "[LightGBM] [Warning] No further splits with positive gain, best gain: -inf\n",
      "[LightGBM] [Warning] No further splits with positive gain, best gain: -inf\n",
      "[LightGBM] [Warning] No further splits with positive gain, best gain: -inf\n",
      "[LightGBM] [Warning] No further splits with positive gain, best gain: -inf\n",
      "[LightGBM] [Warning] No further splits with positive gain, best gain: -inf\n",
      "[LightGBM] [Warning] No further splits with positive gain, best gain: -inf\n",
      "[LightGBM] [Warning] No further splits with positive gain, best gain: -inf\n",
      "[LightGBM] [Warning] No further splits with positive gain, best gain: -inf\n",
      "[LightGBM] [Warning] No further splits with positive gain, best gain: -inf\n",
      "[LightGBM] [Warning] No further splits with positive gain, best gain: -inf\n",
      "[LightGBM] [Warning] No further splits with positive gain, best gain: -inf\n",
      "[LightGBM] [Warning] No further splits with positive gain, best gain: -inf\n",
      "[LightGBM] [Warning] No further splits with positive gain, best gain: -inf\n",
      "[LightGBM] [Warning] No further splits with positive gain, best gain: -inf\n",
      "[LightGBM] [Warning] No further splits with positive gain, best gain: -inf\n",
      "[LightGBM] [Warning] No further splits with positive gain, best gain: -inf\n",
      "[LightGBM] [Warning] No further splits with positive gain, best gain: -inf\n",
      "[LightGBM] [Warning] No further splits with positive gain, best gain: -inf\n",
      "[LightGBM] [Warning] No further splits with positive gain, best gain: -inf\n",
      "[LightGBM] [Warning] No further splits with positive gain, best gain: -inf\n",
      "[LightGBM] [Warning] No further splits with positive gain, best gain: -inf\n",
      "[LightGBM] [Warning] No further splits with positive gain, best gain: -inf\n",
      "[LightGBM] [Warning] No further splits with positive gain, best gain: -inf\n",
      "[LightGBM] [Warning] No further splits with positive gain, best gain: -inf\n",
      "[LightGBM] [Warning] No further splits with positive gain, best gain: -inf\n",
      "[LightGBM] [Warning] No further splits with positive gain, best gain: -inf\n",
      "[LightGBM] [Warning] No further splits with positive gain, best gain: -inf\n",
      "[LightGBM] [Warning] No further splits with positive gain, best gain: -inf\n",
      "[LightGBM] [Warning] No further splits with positive gain, best gain: -inf\n",
      "[LightGBM] [Warning] No further splits with positive gain, best gain: -inf\n",
      "[LightGBM] [Warning] No further splits with positive gain, best gain: -inf\n",
      "[LightGBM] [Warning] No further splits with positive gain, best gain: -inf\n",
      "[LightGBM] [Warning] No further splits with positive gain, best gain: -inf\n",
      "[LightGBM] [Warning] No further splits with positive gain, best gain: -inf\n",
      "[LightGBM] [Warning] No further splits with positive gain, best gain: -inf\n",
      "[LightGBM] [Warning] No further splits with positive gain, best gain: -inf\n",
      "[LightGBM] [Warning] No further splits with positive gain, best gain: -inf\n",
      "[LightGBM] [Warning] No further splits with positive gain, best gain: -inf\n",
      "[LightGBM] [Warning] No further splits with positive gain, best gain: -inf\n",
      "[LightGBM] [Warning] No further splits with positive gain, best gain: -inf\n",
      "[LightGBM] [Warning] No further splits with positive gain, best gain: -inf\n",
      "[LightGBM] [Warning] No further splits with positive gain, best gain: -inf\n",
      "[LightGBM] [Warning] No further splits with positive gain, best gain: -inf\n",
      "[LightGBM] [Warning] No further splits with positive gain, best gain: -inf\n",
      "[LightGBM] [Warning] No further splits with positive gain, best gain: -inf\n",
      "[LightGBM] [Info] Number of positive: 104, number of negative: 119\n",
      "[LightGBM] [Info] Auto-choosing row-wise multi-threading, the overhead of testing was 0.000269 seconds.\n",
      "You can set `force_row_wise=true` to remove the overhead.\n",
      "And if memory is not enough, you can set `force_col_wise=true`.\n",
      "[LightGBM] [Info] Total Bins 427\n",
      "[LightGBM] [Info] Number of data points in the train set: 223, number of used features: 24\n",
      "[LightGBM] [Info] [binary:BoostFromScore]: pavg=0.466368 -> initscore=-0.134733\n",
      "[LightGBM] [Info] Start training from score -0.134733\n",
      "[LightGBM] [Warning] No further splits with positive gain, best gain: -inf\n",
      "[LightGBM] [Warning] No further splits with positive gain, best gain: -inf\n",
      "[LightGBM] [Warning] No further splits with positive gain, best gain: -inf\n",
      "[LightGBM] [Warning] No further splits with positive gain, best gain: -inf\n",
      "[LightGBM] [Warning] No further splits with positive gain, best gain: -inf\n",
      "[LightGBM] [Warning] No further splits with positive gain, best gain: -inf\n",
      "[LightGBM] [Warning] No further splits with positive gain, best gain: -inf\n",
      "[LightGBM] [Warning] No further splits with positive gain, best gain: -inf\n",
      "[LightGBM] [Warning] No further splits with positive gain, best gain: -inf\n",
      "[LightGBM] [Warning] No further splits with positive gain, best gain: -inf\n",
      "[LightGBM] [Warning] No further splits with positive gain, best gain: -inf\n",
      "[LightGBM] [Warning] No further splits with positive gain, best gain: -inf\n",
      "[LightGBM] [Warning] No further splits with positive gain, best gain: -inf\n",
      "[LightGBM] [Warning] No further splits with positive gain, best gain: -inf\n",
      "[LightGBM] [Warning] No further splits with positive gain, best gain: -inf\n",
      "[LightGBM] [Warning] No further splits with positive gain, best gain: -inf\n",
      "[LightGBM] [Warning] No further splits with positive gain, best gain: -inf\n",
      "[LightGBM] [Warning] No further splits with positive gain, best gain: -inf\n",
      "[LightGBM] [Warning] No further splits with positive gain, best gain: -inf\n",
      "[LightGBM] [Warning] No further splits with positive gain, best gain: -inf\n",
      "[LightGBM] [Warning] No further splits with positive gain, best gain: -inf\n",
      "[LightGBM] [Warning] No further splits with positive gain, best gain: -inf\n",
      "[LightGBM] [Warning] No further splits with positive gain, best gain: -inf\n",
      "[LightGBM] [Warning] No further splits with positive gain, best gain: -inf\n",
      "[LightGBM] [Warning] No further splits with positive gain, best gain: -inf\n",
      "[LightGBM] [Warning] No further splits with positive gain, best gain: -inf\n",
      "[LightGBM] [Warning] No further splits with positive gain, best gain: -inf\n",
      "[LightGBM] [Warning] No further splits with positive gain, best gain: -inf\n",
      "[LightGBM] [Warning] No further splits with positive gain, best gain: -inf\n",
      "[LightGBM] [Warning] No further splits with positive gain, best gain: -inf\n",
      "[LightGBM] [Warning] No further splits with positive gain, best gain: -inf\n",
      "[LightGBM] [Warning] No further splits with positive gain, best gain: -inf\n",
      "[LightGBM] [Warning] No further splits with positive gain, best gain: -inf\n",
      "[LightGBM] [Warning] No further splits with positive gain, best gain: -inf\n",
      "[LightGBM] [Warning] No further splits with positive gain, best gain: -inf\n",
      "[LightGBM] [Warning] No further splits with positive gain, best gain: -inf\n",
      "[LightGBM] [Warning] No further splits with positive gain, best gain: -inf\n",
      "[LightGBM] [Warning] No further splits with positive gain, best gain: -inf\n",
      "[LightGBM] [Warning] No further splits with positive gain, best gain: -inf\n",
      "[LightGBM] [Warning] No further splits with positive gain, best gain: -inf\n",
      "[LightGBM] [Warning] No further splits with positive gain, best gain: -inf\n",
      "[LightGBM] [Warning] No further splits with positive gain, best gain: -inf\n",
      "[LightGBM] [Warning] No further splits with positive gain, best gain: -inf\n",
      "[LightGBM] [Warning] No further splits with positive gain, best gain: -inf\n",
      "[LightGBM] [Warning] No further splits with positive gain, best gain: -inf\n",
      "[LightGBM] [Warning] No further splits with positive gain, best gain: -inf\n",
      "[LightGBM] [Warning] No further splits with positive gain, best gain: -inf\n",
      "[LightGBM] [Warning] No further splits with positive gain, best gain: -inf\n",
      "[LightGBM] [Warning] No further splits with positive gain, best gain: -inf\n",
      "[LightGBM] [Warning] No further splits with positive gain, best gain: -inf\n",
      "[LightGBM] [Warning] No further splits with positive gain, best gain: -inf\n",
      "[LightGBM] [Warning] No further splits with positive gain, best gain: -inf\n",
      "[LightGBM] [Warning] No further splits with positive gain, best gain: -inf\n",
      "[LightGBM] [Warning] No further splits with positive gain, best gain: -inf\n",
      "[LightGBM] [Warning] No further splits with positive gain, best gain: -inf\n",
      "[LightGBM] [Warning] No further splits with positive gain, best gain: -inf\n",
      "[LightGBM] [Warning] No further splits with positive gain, best gain: -inf\n",
      "[LightGBM] [Warning] No further splits with positive gain, best gain: -inf\n",
      "[LightGBM] [Warning] No further splits with positive gain, best gain: -inf\n",
      "[LightGBM] [Warning] No further splits with positive gain, best gain: -inf\n",
      "[LightGBM] [Warning] No further splits with positive gain, best gain: -inf\n",
      "[LightGBM] [Warning] No further splits with positive gain, best gain: -inf\n",
      "[LightGBM] [Warning] No further splits with positive gain, best gain: -inf\n",
      "[LightGBM] [Warning] No further splits with positive gain, best gain: -inf\n",
      "[LightGBM] [Warning] No further splits with positive gain, best gain: -inf\n",
      "[LightGBM] [Warning] No further splits with positive gain, best gain: -inf\n",
      "[LightGBM] [Warning] No further splits with positive gain, best gain: -inf\n",
      "[LightGBM] [Warning] No further splits with positive gain, best gain: -inf\n",
      "[LightGBM] [Warning] No further splits with positive gain, best gain: -inf\n",
      "[LightGBM] [Warning] No further splits with positive gain, best gain: -inf\n",
      "[LightGBM] [Warning] No further splits with positive gain, best gain: -inf\n",
      "[LightGBM] [Warning] No further splits with positive gain, best gain: -inf\n",
      "[LightGBM] [Warning] No further splits with positive gain, best gain: -inf\n",
      "[LightGBM] [Warning] No further splits with positive gain, best gain: -inf\n",
      "[LightGBM] [Warning] No further splits with positive gain, best gain: -inf\n",
      "[LightGBM] [Warning] No further splits with positive gain, best gain: -inf\n",
      "[LightGBM] [Warning] No further splits with positive gain, best gain: -inf\n",
      "[LightGBM] [Warning] No further splits with positive gain, best gain: -inf\n",
      "[LightGBM] [Warning] No further splits with positive gain, best gain: -inf\n",
      "[LightGBM] [Warning] No further splits with positive gain, best gain: -inf\n",
      "[LightGBM] [Warning] No further splits with positive gain, best gain: -inf\n",
      "[LightGBM] [Warning] No further splits with positive gain, best gain: -inf\n",
      "[LightGBM] [Warning] No further splits with positive gain, best gain: -inf\n",
      "[LightGBM] [Warning] No further splits with positive gain, best gain: -inf\n",
      "[LightGBM] [Warning] No further splits with positive gain, best gain: -inf\n",
      "[LightGBM] [Warning] No further splits with positive gain, best gain: -inf\n",
      "[LightGBM] [Warning] No further splits with positive gain, best gain: -inf\n",
      "[LightGBM] [Warning] No further splits with positive gain, best gain: -inf\n",
      "[LightGBM] [Warning] No further splits with positive gain, best gain: -inf\n",
      "[LightGBM] [Warning] No further splits with positive gain, best gain: -inf\n",
      "[LightGBM] [Warning] No further splits with positive gain, best gain: -inf\n",
      "[LightGBM] [Warning] No further splits with positive gain, best gain: -inf\n",
      "[LightGBM] [Warning] No further splits with positive gain, best gain: -inf\n",
      "[LightGBM] [Warning] No further splits with positive gain, best gain: -inf\n",
      "[LightGBM] [Warning] No further splits with positive gain, best gain: -inf\n",
      "[LightGBM] [Warning] No further splits with positive gain, best gain: -inf\n",
      "[LightGBM] [Warning] No further splits with positive gain, best gain: -inf\n",
      "[LightGBM] [Warning] No further splits with positive gain, best gain: -inf\n",
      "[LightGBM] [Warning] No further splits with positive gain, best gain: -inf\n",
      "[LightGBM] [Warning] No further splits with positive gain, best gain: -inf\n"
     ]
    }
   ],
   "source": [
    "clf_lgbm = clf_lgbm.fit(X_train, y_train_gb)\n",
    "\n",
    "clf_lgbm_sw = clf_lgbm_sw.fit(X_train, y_train_gb)"
   ]
  },
  {
   "cell_type": "markdown",
   "metadata": {},
   "source": [
    "#### Predicción (Etiquetas)"
   ]
  },
  {
   "cell_type": "code",
   "execution_count": 56,
   "metadata": {},
   "outputs": [],
   "source": [
    "y_pred_lgbm = clf_lgbm.predict(X_test)\n",
    "\n",
    "y_pred_lgbm_sw = clf_lgbm_sw.predict(X_test)"
   ]
  },
  {
   "cell_type": "markdown",
   "metadata": {},
   "source": [
    "#### Predicción (Probabilidad)"
   ]
  },
  {
   "cell_type": "code",
   "execution_count": 55,
   "metadata": {},
   "outputs": [],
   "source": [
    "y_pred_lgbm_proba = clf_lgbm.predict_proba(X_test)\n",
    "\n",
    "y_pred_lgbm_sw_proba = clf_lgbm_sw.predict_proba(X_test)"
   ]
  },
  {
   "cell_type": "markdown",
   "metadata": {},
   "source": [
    "#### Evaluación"
   ]
  },
  {
   "cell_type": "code",
   "execution_count": 57,
   "metadata": {},
   "outputs": [
    {
     "name": "stdout",
     "output_type": "stream",
     "text": [
      "Accuracy: 66.67%\n",
      "\n",
      "F1 Score: 66.61\n",
      "\n",
      "Confusion Matrix:\n",
      " [[31 13]\n",
      " [15 25]]\n"
     ]
    }
   ],
   "source": [
    "print(\"Accuracy: {:.2f}%\".format(accuracy_score(y_test_gb, y_pred_lgbm_sw) * 100))\n",
    "print(\"\\nF1 Score: {:.2f}\".format(f1_score(y_test_gb, y_pred_lgbm_sw, average='weighted') * 100))\n",
    "print(\"\\nConfusion Matrix:\\n\", confusion_matrix(y_test_gb, y_pred_lgbm_sw))"
   ]
  },
  {
   "cell_type": "markdown",
   "metadata": {},
   "source": [
    "#### Remapeo de etiquetas"
   ]
  },
  {
   "cell_type": "code",
   "execution_count": 58,
   "metadata": {},
   "outputs": [],
   "source": [
    "y_pred_lgbm = [map_value(value) for value in y_pred_lgbm]\n",
    "y_pred_lgbm_sw = [map_value(value) for value in y_pred_lgbm_sw]"
   ]
  },
  {
   "cell_type": "markdown",
   "metadata": {},
   "source": [
    "### Word2Vec"
   ]
  },
  {
   "cell_type": "markdown",
   "metadata": {},
   "source": [
    "Utilizamos el modelo de GoogleNews disponible en: https://github.com/mmihaltz/word2vec-GoogleNews-vectors"
   ]
  },
  {
   "cell_type": "code",
   "execution_count": 55,
   "metadata": {},
   "outputs": [],
   "source": [
    "GoogleModel = gensim.models.KeyedVectors.load_word2vec_format('C:/Austral/GoogleNews-vectors-negative300.bin.gz', binary = True,)"
   ]
  },
  {
   "cell_type": "code",
   "execution_count": 56,
   "metadata": {},
   "outputs": [],
   "source": [
    "corpus = data['Text'].values\n",
    "\n",
    "vectorizer = CountVectorizer(stop_words = stopwords_custom)\n",
    "\n",
    "X = vectorizer.fit_transform(corpus)\n",
    "\n",
    "CountVectorizedData = pd.DataFrame(X.toarray(), columns = vectorizer.get_feature_names_out())\n",
    "CountVectorizedData['Category'] = data['Category']\n",
    "CountVectorizedData['Split'] = data['Train/Test']\n",
    "\n",
    "WordsVocab = CountVectorizedData.columns[:-2]"
   ]
  },
  {
   "cell_type": "code",
   "execution_count": 57,
   "metadata": {},
   "outputs": [],
   "source": [
    "def FunctionText2Vec(inpTextData):\n",
    "    X = vectorizer.transform(inpTextData)\n",
    "    CountVecData=pd.DataFrame(X.toarray(), columns=vectorizer.get_feature_names_out())\n",
    "    \n",
    "    W2Vec_Data=pd.DataFrame()\n",
    "    \n",
    "    for i in range(CountVecData.shape[0]):\n",
    "\n",
    "        Sentence = np.zeros(300)\n",
    "\n",
    "        for word in WordsVocab[CountVecData.iloc[i , :]>=1]:\n",
    "            if word in GoogleModel.key_to_index.keys():    \n",
    "                Sentence = Sentence+GoogleModel[word]\n",
    "        W2Vec_Data=W2Vec_Data.append(pd.DataFrame([Sentence]))\n",
    "    return(W2Vec_Data)"
   ]
  },
  {
   "cell_type": "code",
   "execution_count": 58,
   "metadata": {},
   "outputs": [],
   "source": [
    "W2Vec_Data = FunctionText2Vec(data['Text'])"
   ]
  },
  {
   "cell_type": "code",
   "execution_count": 59,
   "metadata": {},
   "outputs": [
    {
     "data": {
      "text/html": [
       "<div>\n",
       "<style scoped>\n",
       "    .dataframe tbody tr th:only-of-type {\n",
       "        vertical-align: middle;\n",
       "    }\n",
       "\n",
       "    .dataframe tbody tr th {\n",
       "        vertical-align: top;\n",
       "    }\n",
       "\n",
       "    .dataframe thead th {\n",
       "        text-align: right;\n",
       "    }\n",
       "</style>\n",
       "<table border=\"1\" class=\"dataframe\">\n",
       "  <thead>\n",
       "    <tr style=\"text-align: right;\">\n",
       "      <th></th>\n",
       "      <th>0</th>\n",
       "      <th>1</th>\n",
       "      <th>2</th>\n",
       "      <th>3</th>\n",
       "      <th>4</th>\n",
       "      <th>5</th>\n",
       "      <th>6</th>\n",
       "      <th>7</th>\n",
       "      <th>8</th>\n",
       "      <th>9</th>\n",
       "      <th>...</th>\n",
       "      <th>292</th>\n",
       "      <th>293</th>\n",
       "      <th>294</th>\n",
       "      <th>295</th>\n",
       "      <th>296</th>\n",
       "      <th>297</th>\n",
       "      <th>298</th>\n",
       "      <th>299</th>\n",
       "      <th>Category</th>\n",
       "      <th>Split</th>\n",
       "    </tr>\n",
       "  </thead>\n",
       "  <tbody>\n",
       "    <tr>\n",
       "      <th>0</th>\n",
       "      <td>-2.612555</td>\n",
       "      <td>2.180817</td>\n",
       "      <td>-1.901596</td>\n",
       "      <td>1.644066</td>\n",
       "      <td>-1.403992</td>\n",
       "      <td>-1.067413</td>\n",
       "      <td>-0.307095</td>\n",
       "      <td>-4.590302</td>\n",
       "      <td>2.898636</td>\n",
       "      <td>2.488464</td>\n",
       "      <td>...</td>\n",
       "      <td>-2.055801</td>\n",
       "      <td>0.468796</td>\n",
       "      <td>-0.720398</td>\n",
       "      <td>2.189514</td>\n",
       "      <td>1.395073</td>\n",
       "      <td>-1.224696</td>\n",
       "      <td>3.168865</td>\n",
       "      <td>0.697662</td>\n",
       "      <td>Compra</td>\n",
       "      <td>Test</td>\n",
       "    </tr>\n",
       "    <tr>\n",
       "      <th>1</th>\n",
       "      <td>-0.508713</td>\n",
       "      <td>0.286743</td>\n",
       "      <td>-0.364624</td>\n",
       "      <td>0.789124</td>\n",
       "      <td>-0.309082</td>\n",
       "      <td>-0.173096</td>\n",
       "      <td>-0.136915</td>\n",
       "      <td>-1.236511</td>\n",
       "      <td>0.088135</td>\n",
       "      <td>0.748535</td>\n",
       "      <td>...</td>\n",
       "      <td>-0.525635</td>\n",
       "      <td>0.188965</td>\n",
       "      <td>-0.358215</td>\n",
       "      <td>-0.001160</td>\n",
       "      <td>0.426758</td>\n",
       "      <td>-0.012695</td>\n",
       "      <td>0.228577</td>\n",
       "      <td>0.652832</td>\n",
       "      <td>Neutro</td>\n",
       "      <td>Test</td>\n",
       "    </tr>\n",
       "    <tr>\n",
       "      <th>2</th>\n",
       "      <td>-1.198853</td>\n",
       "      <td>0.419434</td>\n",
       "      <td>0.174988</td>\n",
       "      <td>1.057617</td>\n",
       "      <td>0.130371</td>\n",
       "      <td>-0.629639</td>\n",
       "      <td>-0.363281</td>\n",
       "      <td>-0.318420</td>\n",
       "      <td>1.475220</td>\n",
       "      <td>0.394287</td>\n",
       "      <td>...</td>\n",
       "      <td>-0.613571</td>\n",
       "      <td>-0.082520</td>\n",
       "      <td>-0.168777</td>\n",
       "      <td>0.079407</td>\n",
       "      <td>-0.608887</td>\n",
       "      <td>0.413452</td>\n",
       "      <td>-0.147217</td>\n",
       "      <td>0.217896</td>\n",
       "      <td>Neutro</td>\n",
       "      <td>Test</td>\n",
       "    </tr>\n",
       "    <tr>\n",
       "      <th>3</th>\n",
       "      <td>-0.383850</td>\n",
       "      <td>0.420654</td>\n",
       "      <td>-0.848045</td>\n",
       "      <td>1.532227</td>\n",
       "      <td>-0.171814</td>\n",
       "      <td>-0.470337</td>\n",
       "      <td>0.114746</td>\n",
       "      <td>-1.177734</td>\n",
       "      <td>0.987747</td>\n",
       "      <td>0.189453</td>\n",
       "      <td>...</td>\n",
       "      <td>0.282227</td>\n",
       "      <td>0.486572</td>\n",
       "      <td>-0.264526</td>\n",
       "      <td>-0.026611</td>\n",
       "      <td>0.344727</td>\n",
       "      <td>0.009125</td>\n",
       "      <td>0.493851</td>\n",
       "      <td>-0.514343</td>\n",
       "      <td>Neutro</td>\n",
       "      <td>Test</td>\n",
       "    </tr>\n",
       "    <tr>\n",
       "      <th>4</th>\n",
       "      <td>-0.804199</td>\n",
       "      <td>0.151947</td>\n",
       "      <td>-0.002197</td>\n",
       "      <td>1.969971</td>\n",
       "      <td>0.229736</td>\n",
       "      <td>-0.707275</td>\n",
       "      <td>-0.181442</td>\n",
       "      <td>-1.224335</td>\n",
       "      <td>1.526321</td>\n",
       "      <td>-0.257568</td>\n",
       "      <td>...</td>\n",
       "      <td>0.598938</td>\n",
       "      <td>0.256836</td>\n",
       "      <td>0.175415</td>\n",
       "      <td>0.811646</td>\n",
       "      <td>-0.064941</td>\n",
       "      <td>-0.156067</td>\n",
       "      <td>0.452118</td>\n",
       "      <td>-0.225708</td>\n",
       "      <td>Neutro</td>\n",
       "      <td>Test</td>\n",
       "    </tr>\n",
       "  </tbody>\n",
       "</table>\n",
       "<p>5 rows × 302 columns</p>\n",
       "</div>"
      ],
      "text/plain": [
       "          0         1         2         3         4         5         6  \\\n",
       "0 -2.612555  2.180817 -1.901596  1.644066 -1.403992 -1.067413 -0.307095   \n",
       "1 -0.508713  0.286743 -0.364624  0.789124 -0.309082 -0.173096 -0.136915   \n",
       "2 -1.198853  0.419434  0.174988  1.057617  0.130371 -0.629639 -0.363281   \n",
       "3 -0.383850  0.420654 -0.848045  1.532227 -0.171814 -0.470337  0.114746   \n",
       "4 -0.804199  0.151947 -0.002197  1.969971  0.229736 -0.707275 -0.181442   \n",
       "\n",
       "          7         8         9  ...       292       293       294       295  \\\n",
       "0 -4.590302  2.898636  2.488464  ... -2.055801  0.468796 -0.720398  2.189514   \n",
       "1 -1.236511  0.088135  0.748535  ... -0.525635  0.188965 -0.358215 -0.001160   \n",
       "2 -0.318420  1.475220  0.394287  ... -0.613571 -0.082520 -0.168777  0.079407   \n",
       "3 -1.177734  0.987747  0.189453  ...  0.282227  0.486572 -0.264526 -0.026611   \n",
       "4 -1.224335  1.526321 -0.257568  ...  0.598938  0.256836  0.175415  0.811646   \n",
       "\n",
       "        296       297       298       299  Category  Split  \n",
       "0  1.395073 -1.224696  3.168865  0.697662    Compra   Test  \n",
       "1  0.426758 -0.012695  0.228577  0.652832    Neutro   Test  \n",
       "2 -0.608887  0.413452 -0.147217  0.217896    Neutro   Test  \n",
       "3  0.344727  0.009125  0.493851 -0.514343    Neutro   Test  \n",
       "4 -0.064941 -0.156067  0.452118 -0.225708    Neutro   Test  \n",
       "\n",
       "[5 rows x 302 columns]"
      ]
     },
     "execution_count": 59,
     "metadata": {},
     "output_type": "execute_result"
    }
   ],
   "source": [
    "W2Vec_Data.reset_index(inplace = True, drop = True)\n",
    "W2Vec_Data['Category'] = CountVectorizedData['Category']\n",
    "W2Vec_Data['Split'] = CountVectorizedData['Split']\n",
    "\n",
    "#Guardo en una nueva variable\n",
    "DataForML = W2Vec_Data\n",
    "DataForML.head()"
   ]
  },
  {
   "cell_type": "code",
   "execution_count": 60,
   "metadata": {},
   "outputs": [],
   "source": [
    "TargetVariable = DataForML.columns[-2]\n",
    "Predictors = DataForML.columns[:-2]\n",
    "\n",
    "X = DataForML[Predictors].values\n",
    "y = DataForML[TargetVariable].values\n",
    "\n",
    "train_mask = DataForML['Split'] == 'Train'\n",
    "test_mask = DataForML['Split'] == 'Test'\n",
    "\n",
    "X_train = DataForML[train_mask][Predictors].values\n",
    "y_train = DataForML[train_mask][TargetVariable].values\n",
    "X_test = DataForML[test_mask][Predictors].values\n",
    "y_test = DataForML[test_mask][TargetVariable].values\n",
    "\n",
    "#Normalizo para los modelos de ML\n",
    "scaler = MinMaxScaler()\n",
    "\n",
    "X_train = scaler.fit_transform(X_train)\n",
    "X_test = scaler.transform(X_test)"
   ]
  },
  {
   "cell_type": "code",
   "execution_count": 61,
   "metadata": {},
   "outputs": [],
   "source": [
    "w2v_results = {}"
   ]
  },
  {
   "cell_type": "markdown",
   "metadata": {},
   "source": [
    "#### Naive Bayes"
   ]
  },
  {
   "cell_type": "code",
   "execution_count": 62,
   "metadata": {},
   "outputs": [
    {
     "name": "stdout",
     "output_type": "stream",
     "text": [
      "              precision    recall  f1-score   support\n",
      "\n",
      "      Compra       0.56      0.41      0.47        44\n",
      "      Neutro       0.50      0.65      0.57        40\n",
      "\n",
      "    accuracy                           0.52        84\n",
      "   macro avg       0.53      0.53      0.52        84\n",
      "weighted avg       0.53      0.52      0.52        84\n",
      "\n",
      "-----------------------------------------------------\n",
      "[[18 14]\n",
      " [26 26]]\n",
      "-----------------------------------------------------\n",
      "Accuracy en TEST data: 0.52\n"
     ]
    }
   ],
   "source": [
    "clf = MultinomialNB()\n",
    "\n",
    "#Entranamiento y predicción\n",
    "NB = clf.fit(X_train, y_train)\n",
    "prediction = NB.predict(X_test)\n",
    "\n",
    "print(classification_report(y_test, prediction))\n",
    "print('-----------------------------------------------------')\n",
    "print(confusion_matrix(prediction, y_test))\n",
    "print('-----------------------------------------------------')\n",
    "F1_Score = f1_score(y_test, prediction, average = 'weighted')\n",
    "print('Accuracy en TEST data:', round(F1_Score,2))\n",
    "\n",
    "w2v_results['Naive Bayes'] = round(F1_Score,2)"
   ]
  },
  {
   "cell_type": "markdown",
   "metadata": {},
   "source": [
    "#### KNN (K-Nearest Neighbor)"
   ]
  },
  {
   "cell_type": "code",
   "execution_count": 63,
   "metadata": {},
   "outputs": [
    {
     "name": "stdout",
     "output_type": "stream",
     "text": [
      "              precision    recall  f1-score   support\n",
      "\n",
      "      Compra       0.62      0.70      0.66        44\n",
      "      Neutro       0.62      0.53      0.57        40\n",
      "\n",
      "    accuracy                           0.62        84\n",
      "   macro avg       0.62      0.61      0.61        84\n",
      "weighted avg       0.62      0.62      0.62        84\n",
      "\n",
      "-----------------------------------------------------\n",
      "[[31 19]\n",
      " [13 21]]\n",
      "-----------------------------------------------------\n",
      "Accuracy en TEST data: 0.62\n"
     ]
    }
   ],
   "source": [
    "clf = KNeighborsClassifier(n_neighbors=15)\n",
    "\n",
    "#Entranamiento y predicción\n",
    "KNN = clf.fit(X_train,y_train)\n",
    "prediction = KNN.predict(X_test)\n",
    "\n",
    "print(classification_report(y_test, prediction))\n",
    "print('-----------------------------------------------------')\n",
    "print(confusion_matrix(prediction, y_test))\n",
    "print('-----------------------------------------------------')\n",
    "F1_Score = f1_score(y_test, prediction, average = 'weighted')\n",
    "print('Accuracy en TEST data:', round(F1_Score,2))\n",
    "\n",
    "w2v_results['KNN'] = round(F1_Score,2)"
   ]
  },
  {
   "cell_type": "markdown",
   "metadata": {},
   "source": [
    "#### Regresión Logística"
   ]
  },
  {
   "cell_type": "code",
   "execution_count": 64,
   "metadata": {},
   "outputs": [
    {
     "name": "stdout",
     "output_type": "stream",
     "text": [
      "              precision    recall  f1-score   support\n",
      "\n",
      "      Compra       0.74      0.66      0.70        44\n",
      "      Neutro       0.67      0.75      0.71        40\n",
      "\n",
      "    accuracy                           0.70        84\n",
      "   macro avg       0.71      0.70      0.70        84\n",
      "weighted avg       0.71      0.70      0.70        84\n",
      "\n",
      "-----------------------------------------------------\n",
      "[[29 10]\n",
      " [15 30]]\n",
      "-----------------------------------------------------\n",
      "Accuracy en TEST data: 0.7\n"
     ]
    }
   ],
   "source": [
    "#'newton-cg', 'lbfgs', 'liblinear', 'sag', 'saga'\n",
    "clf = LogisticRegression(C=10,penalty='l2', solver='newton-cg')\n",
    "\n",
    "LOG = clf.fit(X_train,y_train)\n",
    "prediction = LOG.predict(X_test)\n",
    "\n",
    "print(classification_report(y_test, prediction))\n",
    "print('-----------------------------------------------------')\n",
    "print(confusion_matrix(prediction, y_test))\n",
    "print('-----------------------------------------------------')\n",
    "F1_Score = f1_score(y_test, prediction, average = 'weighted')\n",
    "print('Accuracy en TEST data:', round(F1_Score,2))\n",
    "\n",
    "w2v_results['Logistic Regression'] = round(F1_Score,2)"
   ]
  },
  {
   "cell_type": "markdown",
   "metadata": {},
   "source": [
    "#### Árbol de Decisión"
   ]
  },
  {
   "cell_type": "code",
   "execution_count": 65,
   "metadata": {},
   "outputs": [
    {
     "name": "stdout",
     "output_type": "stream",
     "text": [
      "              precision    recall  f1-score   support\n",
      "\n",
      "      Compra       0.53      0.48      0.50        44\n",
      "      Neutro       0.48      0.53      0.50        40\n",
      "\n",
      "    accuracy                           0.50        84\n",
      "   macro avg       0.50      0.50      0.50        84\n",
      "weighted avg       0.50      0.50      0.50        84\n",
      "\n",
      "-----------------------------------------------------\n",
      "[[21 19]\n",
      " [23 21]]\n",
      "-----------------------------------------------------\n",
      "Accuracy en TEST data: 0.5\n"
     ]
    }
   ],
   "source": [
    "clf = DecisionTreeClassifier(max_depth = 20, criterion = 'gini')\n",
    "\n",
    "DTree = clf.fit(X_train,y_train)\n",
    "prediction = DTree.predict(X_test)\n",
    "\n",
    "print(classification_report(y_test, prediction))\n",
    "print('-----------------------------------------------------')\n",
    "print(confusion_matrix(prediction, y_test))\n",
    "print('-----------------------------------------------------')\n",
    "F1_Score = f1_score(y_test, prediction, average = 'weighted')\n",
    "print('Accuracy en TEST data:', round(F1_Score,2))\n",
    "\n",
    "w2v_results['Decision Tree'] = round(F1_Score,2)"
   ]
  },
  {
   "cell_type": "markdown",
   "metadata": {},
   "source": [
    "#### Random Forest"
   ]
  },
  {
   "cell_type": "code",
   "execution_count": 66,
   "metadata": {},
   "outputs": [
    {
     "name": "stdout",
     "output_type": "stream",
     "text": [
      "              precision    recall  f1-score   support\n",
      "\n",
      "      Compra       0.53      0.48      0.50        44\n",
      "      Neutro       0.48      0.53      0.50        40\n",
      "\n",
      "    accuracy                           0.50        84\n",
      "   macro avg       0.50      0.50      0.50        84\n",
      "weighted avg       0.50      0.50      0.50        84\n",
      "\n",
      "-----------------------------------------------------\n",
      "[[21 19]\n",
      " [23 21]]\n",
      "-----------------------------------------------------\n",
      "Accuracy en TEST data: 0.5\n"
     ]
    }
   ],
   "source": [
    "clf = RandomForestClassifier(max_depth = 20)\n",
    "\n",
    "RF = clf.fit(X_train,y_train)\n",
    "prediction = DTree.predict(X_test)\n",
    "\n",
    "print(classification_report(y_test, prediction))\n",
    "print('-----------------------------------------------------')\n",
    "print(confusion_matrix(prediction, y_test))\n",
    "print('-----------------------------------------------------')\n",
    "F1_Score = f1_score(y_test, prediction, average = 'weighted')\n",
    "print('Accuracy en TEST data:', round(F1_Score,2))\n",
    "\n",
    "w2v_results['Random Forest'] = round(F1_Score,2)"
   ]
  },
  {
   "cell_type": "markdown",
   "metadata": {},
   "source": [
    "#### XGBoost"
   ]
  },
  {
   "cell_type": "code",
   "execution_count": 67,
   "metadata": {},
   "outputs": [
    {
     "name": "stdout",
     "output_type": "stream",
     "text": [
      "              precision    recall  f1-score   support\n",
      "\n",
      "           0       0.67      0.73      0.70        44\n",
      "           1       0.67      0.60      0.63        40\n",
      "\n",
      "    accuracy                           0.67        84\n",
      "   macro avg       0.67      0.66      0.66        84\n",
      "weighted avg       0.67      0.67      0.67        84\n",
      "\n",
      "-----------------------------------------------------\n",
      "[[32 16]\n",
      " [12 24]]\n",
      "-----------------------------------------------------\n",
      "Accuracy en TEST data: 0.67\n"
     ]
    }
   ],
   "source": [
    "#Necesito codificar las etiquetas\n",
    "cat_encoded = LabelEncoder()\n",
    "y_train_encoded = cat_encoded.fit_transform(y_train)\n",
    "y_test_encoded = cat_encoded.transform(y_test)\n",
    "\n",
    "clf = XGBClassifier()\n",
    "\n",
    "XGB = clf.fit(X_train, y_train_encoded)\n",
    "prediction = XGB.predict(X_test)\n",
    "\n",
    "print(classification_report(y_test_encoded, prediction))\n",
    "print('-----------------------------------------------------')\n",
    "print(confusion_matrix(prediction, y_test_encoded))\n",
    "print('-----------------------------------------------------')\n",
    "F1_Score = f1_score(y_test_encoded, prediction, average = 'weighted')\n",
    "print('Accuracy en TEST data:', round(F1_Score,2))\n",
    "\n",
    "w2v_results['XGBoost'] = round(F1_Score,2)"
   ]
  },
  {
   "cell_type": "markdown",
   "metadata": {},
   "source": [
    "#### LightGBM"
   ]
  },
  {
   "cell_type": "code",
   "execution_count": 68,
   "metadata": {},
   "outputs": [
    {
     "name": "stdout",
     "output_type": "stream",
     "text": [
      "              precision    recall  f1-score   support\n",
      "\n",
      "      Compra       0.75      0.75      0.75        44\n",
      "      Neutro       0.72      0.72      0.73        40\n",
      "\n",
      "    accuracy                           0.74        84\n",
      "   macro avg       0.74      0.74      0.74        84\n",
      "weighted avg       0.74      0.74      0.74        84\n",
      "\n",
      "-----------------------------------------------------\n",
      "[[33 11]\n",
      " [11 29]]\n",
      "-----------------------------------------------------\n",
      "Accuracy en TEST data: 0.74\n"
     ]
    }
   ],
   "source": [
    "# Set the verbosity level to suppress messages\n",
    "lgbm_params = {\n",
    "    'verbosity': -1  # Set verbosity to -1 to suppress all messages\n",
    "}\n",
    "\n",
    "clf = LGBMClassifier(**lgbm_params)\n",
    "\n",
    "LGBM = clf.fit(X_train,y_train)\n",
    "prediction = LGBM.predict(X_test)\n",
    "y_pred_w2v_lgbm = prediction\n",
    "y_pred_w2v_lgbm_proba = LGBM.predict_proba(X_test)\n",
    "\n",
    "print(classification_report(y_test, prediction))\n",
    "print('-----------------------------------------------------')\n",
    "print(confusion_matrix(prediction, y_test))\n",
    "print('-----------------------------------------------------')\n",
    "F1_Score = f1_score(y_test, prediction, average = 'weighted')\n",
    "print('Accuracy en TEST data:', round(F1_Score,2))\n",
    "\n",
    "w2v_results['LightGBM'] = round(F1_Score,2)"
   ]
  },
  {
   "cell_type": "markdown",
   "metadata": {},
   "source": [
    "#### AdaBoost"
   ]
  },
  {
   "cell_type": "code",
   "execution_count": 69,
   "metadata": {},
   "outputs": [
    {
     "name": "stdout",
     "output_type": "stream",
     "text": [
      "              precision    recall  f1-score   support\n",
      "\n",
      "      Compra       0.60      0.66      0.63        44\n",
      "      Neutro       0.58      0.53      0.55        40\n",
      "\n",
      "    accuracy                           0.60        84\n",
      "   macro avg       0.59      0.59      0.59        84\n",
      "weighted avg       0.59      0.60      0.59        84\n",
      "\n",
      "-----------------------------------------------------\n",
      "[[29 19]\n",
      " [15 21]]\n",
      "-----------------------------------------------------\n",
      "Accuracy en TEST data: 0.59\n"
     ]
    }
   ],
   "source": [
    "DTC = DecisionTreeClassifier(max_depth = 2)\n",
    "clf = AdaBoostClassifier(n_estimators = 20, base_estimator = DTC , learning_rate = 0.01)\n",
    "\n",
    "\n",
    "AB = clf.fit(X_train,y_train)\n",
    "prediction = AB.predict(X_test)\n",
    "\n",
    "print(classification_report(y_test, prediction))\n",
    "print('-----------------------------------------------------')\n",
    "print(confusion_matrix(prediction, y_test))\n",
    "print('-----------------------------------------------------')\n",
    "F1_Score = f1_score(y_test, prediction, average = 'weighted')\n",
    "print('Accuracy en TEST data:', round(F1_Score,2))\n",
    "\n",
    "w2v_results['AdaBoost'] = round(F1_Score,2)"
   ]
  },
  {
   "cell_type": "code",
   "execution_count": 70,
   "metadata": {},
   "outputs": [
    {
     "data": {
      "text/plain": [
       "{'Naive Bayes': 0.52,\n",
       " 'KNN': 0.62,\n",
       " 'Logistic Regression': 0.7,\n",
       " 'Decision Tree': 0.5,\n",
       " 'Random Forest': 0.5,\n",
       " 'XGBoost': 0.67,\n",
       " 'LightGBM': 0.74,\n",
       " 'AdaBoost': 0.59}"
      ]
     },
     "execution_count": 70,
     "metadata": {},
     "output_type": "execute_result"
    }
   ],
   "source": [
    "w2v_results"
   ]
  },
  {
   "cell_type": "markdown",
   "metadata": {},
   "source": [
    "### BERT"
   ]
  },
  {
   "cell_type": "markdown",
   "metadata": {},
   "source": [
    "#### Librerias"
   ]
  },
  {
   "cell_type": "code",
   "execution_count": 71,
   "metadata": {},
   "outputs": [],
   "source": [
    "import torch\n",
    "from torch import nn\n",
    "from torch.utils.data import DataLoader, Dataset\n",
    "from transformers import BertTokenizer, BertModel, AdamW, get_linear_schedule_with_warmup"
   ]
  },
  {
   "cell_type": "markdown",
   "metadata": {},
   "source": [
    "#### Funciones"
   ]
  },
  {
   "cell_type": "code",
   "execution_count": 72,
   "metadata": {},
   "outputs": [],
   "source": [
    "class TextClassificationDataset(Dataset):\n",
    "    def __init__(self, texts, labels, tokenizer, max_length):\n",
    "            self.texts = texts\n",
    "            self.labels = labels\n",
    "            self.tokenizer = tokenizer\n",
    "            self.max_length = max_length\n",
    "            \n",
    "    def __len__(self):\n",
    "            return len(self.texts)\n",
    "    \n",
    "    def __getitem__(self, idx):\n",
    "            text = self.texts[idx]\n",
    "            label = self.labels[idx]\n",
    "            encoding = self.tokenizer(text, return_tensors='pt', max_length=self.max_length, padding='max_length', truncation=True)\n",
    "            return {'input_ids': encoding['input_ids'].flatten(), 'attention_mask': encoding['attention_mask'].flatten(), 'label': torch.tensor(label)}"
   ]
  },
  {
   "cell_type": "code",
   "execution_count": 73,
   "metadata": {},
   "outputs": [],
   "source": [
    "class BERTClassifier(nn.Module):\n",
    "    def __init__(self, bert_model_name, num_classes):\n",
    "        super(BERTClassifier, self).__init__()\n",
    "        self.bert = BertModel.from_pretrained(bert_model_name)\n",
    "        self.dropout = nn.Dropout(0.1)\n",
    "        self.fc = nn.Linear(self.bert.config.hidden_size, num_classes)\n",
    "        \n",
    "    def forward(self, input_ids, attention_mask):\n",
    "        outputs = self.bert(input_ids=input_ids, attention_mask=attention_mask)\n",
    "        pooled_output = outputs.pooler_output\n",
    "        x = self.dropout(pooled_output)\n",
    "        logits = self.fc(x)\n",
    "        return logits"
   ]
  },
  {
   "cell_type": "code",
   "execution_count": 74,
   "metadata": {},
   "outputs": [],
   "source": [
    "def train(model, data_loader, optimizer, scheduler, device):\n",
    "    model.train()\n",
    "    for batch in data_loader:\n",
    "        optimizer.zero_grad()\n",
    "        input_ids = batch['input_ids'].to(device)\n",
    "        attention_mask = batch['attention_mask'].to(device)\n",
    "        labels = batch['label'].to(device)\n",
    "        outputs = model(input_ids=input_ids, attention_mask=attention_mask)\n",
    "        loss = nn.CrossEntropyLoss()(outputs, labels)\n",
    "        loss.backward()\n",
    "        optimizer.step()\n",
    "        scheduler.step()"
   ]
  },
  {
   "cell_type": "code",
   "execution_count": 75,
   "metadata": {},
   "outputs": [],
   "source": [
    "def evaluate(model, data_loader, device):\n",
    "    model.eval()\n",
    "    predictions = []\n",
    "    actual_labels = []\n",
    "    with torch.no_grad():\n",
    "        for batch in data_loader:\n",
    "            input_ids = batch['input_ids'].to(device)\n",
    "            attention_mask = batch['attention_mask'].to(device)\n",
    "            labels = batch['label'].to(device)\n",
    "            outputs = model(input_ids=input_ids, attention_mask=attention_mask)\n",
    "            _, preds = torch.max(outputs, dim=1)\n",
    "            predictions.extend(preds.cpu().tolist())\n",
    "            actual_labels.extend(labels.cpu().tolist())\n",
    "    return accuracy_score(actual_labels, predictions), classification_report(actual_labels, predictions)"
   ]
  },
  {
   "cell_type": "code",
   "execution_count": 76,
   "metadata": {},
   "outputs": [],
   "source": [
    "def predict_sentiment(text, model, tokenizer, device, max_length=128):\n",
    "    model.eval()\n",
    "    encoding = tokenizer(text, return_tensors='pt', max_length=max_length, padding='max_length', truncation=True)\n",
    "    input_ids = encoding['input_ids'].to(device)\n",
    "    attention_mask = encoding['attention_mask'].to(device)\n",
    "    \n",
    "    with torch.no_grad():\n",
    "        outputs = model(input_ids=input_ids, attention_mask=attention_mask)\n",
    "        _, preds = torch.max(outputs, dim=1)\n",
    "    return \"Neutro\" if preds.item() == 1 else \"Compra\""
   ]
  },
  {
   "cell_type": "code",
   "execution_count": 77,
   "metadata": {},
   "outputs": [],
   "source": [
    "def predict_sentiment_with_probabilities(text, model, tokenizer, device, max_length=128):\n",
    "    model.eval()\n",
    "    encoding = tokenizer(text, return_tensors='pt', max_length=max_length, padding='max_length', truncation=True)\n",
    "    input_ids = encoding['input_ids'].to(device)\n",
    "    attention_mask = encoding['attention_mask'].to(device)\n",
    "    \n",
    "    with torch.no_grad():\n",
    "        outputs = model(input_ids=input_ids, attention_mask=attention_mask)\n",
    "        probabilities = torch.softmax(outputs, dim=1)\n",
    "    \n",
    "    label_probabilities = {\n",
    "        \"Compra\": probabilities[0][0].item(),\n",
    "        \"Neutro\": probabilities[0][1].item()\n",
    "    }\n",
    "    \n",
    "    return label_probabilities"
   ]
  },
  {
   "cell_type": "markdown",
   "metadata": {},
   "source": [
    "#### Parámetros"
   ]
  },
  {
   "cell_type": "code",
   "execution_count": 78,
   "metadata": {},
   "outputs": [],
   "source": [
    "# Set up parameters\n",
    "bert_model_name = 'bert-base-uncased'\n",
    "num_classes = 2\n",
    "max_length = 128\n",
    "batch_size = 16\n",
    "num_epochs = 4\n",
    "learning_rate = 2e-5"
   ]
  },
  {
   "cell_type": "markdown",
   "metadata": {},
   "source": [
    "#### Entrenamiento"
   ]
  },
  {
   "cell_type": "code",
   "execution_count": 79,
   "metadata": {},
   "outputs": [],
   "source": [
    "train_texts = data_train['Text'].tolist()\n",
    "train_labels = [0 if sentiment == \"Compra\" else 1 for sentiment in data_train['Category'].tolist()]\n",
    "\n",
    "val_texts = data_test['Text'].tolist()\n",
    "val_labels = [0 if sentiment == \"Compra\" else 1 for sentiment in data_test['Category'].tolist()]"
   ]
  },
  {
   "cell_type": "markdown",
   "metadata": {},
   "source": [
    "#### Pipeline"
   ]
  },
  {
   "cell_type": "code",
   "execution_count": 80,
   "metadata": {},
   "outputs": [],
   "source": [
    "tokenizer = BertTokenizer.from_pretrained(bert_model_name)\n",
    "train_dataset = TextClassificationDataset(train_texts, train_labels, tokenizer, max_length)\n",
    "val_dataset = TextClassificationDataset(val_texts, val_labels, tokenizer, max_length)\n",
    "train_dataloader = DataLoader(train_dataset, batch_size=batch_size, shuffle=True)\n",
    "val_dataloader = DataLoader(val_dataset, batch_size=batch_size)"
   ]
  },
  {
   "cell_type": "markdown",
   "metadata": {},
   "source": [
    "#### Modelado"
   ]
  },
  {
   "cell_type": "code",
   "execution_count": 81,
   "metadata": {},
   "outputs": [],
   "source": [
    "device = torch.device(\"cuda\" if torch.cuda.is_available() else \"cpu\")\n",
    "model = BERTClassifier(bert_model_name, num_classes).to(device)"
   ]
  },
  {
   "cell_type": "markdown",
   "metadata": {},
   "source": [
    "#### Optimizador"
   ]
  },
  {
   "cell_type": "code",
   "execution_count": 82,
   "metadata": {},
   "outputs": [],
   "source": [
    "optimizer = AdamW(model.parameters(), lr=learning_rate)\n",
    "total_steps = len(train_dataloader) * num_epochs\n",
    "scheduler = get_linear_schedule_with_warmup(optimizer, num_warmup_steps=0, num_training_steps=total_steps)"
   ]
  },
  {
   "cell_type": "markdown",
   "metadata": {},
   "source": [
    "#### Entrenamiento"
   ]
  },
  {
   "cell_type": "code",
   "execution_count": 83,
   "metadata": {},
   "outputs": [
    {
     "name": "stdout",
     "output_type": "stream",
     "text": [
      "Epoch 1/4\n",
      "Validation Accuracy: 0.6071\n",
      "              precision    recall  f1-score   support\n",
      "\n",
      "           0       0.61      0.68      0.65        44\n",
      "           1       0.60      0.53      0.56        40\n",
      "\n",
      "    accuracy                           0.61        84\n",
      "   macro avg       0.61      0.60      0.60        84\n",
      "weighted avg       0.61      0.61      0.60        84\n",
      "\n",
      "Epoch 2/4\n",
      "Validation Accuracy: 0.6667\n",
      "              precision    recall  f1-score   support\n",
      "\n",
      "           0       0.65      0.77      0.71        44\n",
      "           1       0.69      0.55      0.61        40\n",
      "\n",
      "    accuracy                           0.67        84\n",
      "   macro avg       0.67      0.66      0.66        84\n",
      "weighted avg       0.67      0.67      0.66        84\n",
      "\n",
      "Epoch 3/4\n",
      "Validation Accuracy: 0.6548\n",
      "              precision    recall  f1-score   support\n",
      "\n",
      "           0       0.67      0.68      0.67        44\n",
      "           1       0.64      0.62      0.63        40\n",
      "\n",
      "    accuracy                           0.65        84\n",
      "   macro avg       0.65      0.65      0.65        84\n",
      "weighted avg       0.65      0.65      0.65        84\n",
      "\n",
      "Epoch 4/4\n",
      "Validation Accuracy: 0.6429\n",
      "              precision    recall  f1-score   support\n",
      "\n",
      "           0       0.64      0.73      0.68        44\n",
      "           1       0.65      0.55      0.59        40\n",
      "\n",
      "    accuracy                           0.64        84\n",
      "   macro avg       0.64      0.64      0.64        84\n",
      "weighted avg       0.64      0.64      0.64        84\n",
      "\n"
     ]
    }
   ],
   "source": [
    "for epoch in range(num_epochs):\n",
    "        print(f\"Epoch {epoch + 1}/{num_epochs}\")\n",
    "        train(model, train_dataloader, optimizer, scheduler, device)\n",
    "        accuracy, report = evaluate(model, val_dataloader, device)\n",
    "        print(f\"Validation Accuracy: {accuracy:.4f}\")\n",
    "        print(report)"
   ]
  },
  {
   "cell_type": "markdown",
   "metadata": {},
   "source": [
    "#### Guardo el modelo"
   ]
  },
  {
   "cell_type": "code",
   "execution_count": 84,
   "metadata": {},
   "outputs": [],
   "source": [
    "torch.save(model.state_dict(), \"bert_classifier.pth\")"
   ]
  },
  {
   "cell_type": "markdown",
   "metadata": {},
   "source": [
    "#### Predicción"
   ]
  },
  {
   "cell_type": "code",
   "execution_count": 85,
   "metadata": {},
   "outputs": [
    {
     "name": "stdout",
     "output_type": "stream",
     "text": [
      "Prediccion:\n",
      "Compra: 0.4719\n",
      "Neutro: 0.5281\n"
     ]
    }
   ],
   "source": [
    "test_text = \"YPF call volume above normal and directionally bullish\"\n",
    "label_probabilities  = predict_sentiment_with_probabilities(test_text, model, tokenizer, device)\n",
    "print(\"Prediccion:\")\n",
    "for label, probability in label_probabilities.items():\n",
    "    print(f\"{label}: {probability:.4f}\")"
   ]
  },
  {
   "cell_type": "markdown",
   "metadata": {},
   "source": [
    "#### Predicción (Probabilidad)"
   ]
  },
  {
   "cell_type": "code",
   "execution_count": 86,
   "metadata": {},
   "outputs": [],
   "source": [
    "X_test = data_test['Text'].tolist()\n",
    "\n",
    "y_pred_bert = []\n",
    "predicted_probabilities = []\n",
    "\n",
    "for text in X_test:\n",
    "    label_probabilities = predict_sentiment_with_probabilities(text, model, tokenizer, device)\n",
    "    \n",
    "    predicted_label = max(label_probabilities, key=label_probabilities.get)\n",
    "    \n",
    "    y_pred_bert.append(predicted_label)\n",
    "    \n",
    "    predicted_probabilities.append([label_probabilities[\"Compra\"], label_probabilities[\"Neutro\"]])\n",
    "\n",
    "y_pred_bert_proba = np.array(predicted_probabilities)"
   ]
  },
  {
   "cell_type": "markdown",
   "metadata": {},
   "source": [
    "## Resultados"
   ]
  },
  {
   "cell_type": "code",
   "execution_count": 87,
   "metadata": {},
   "outputs": [],
   "source": [
    "models_pred = pd.DataFrame(\n",
    "    {\n",
    "        'X_test': data_test['Text'].tolist(),\n",
    "        'y_test': data_test['Category'].tolist(),\n",
    "        'RegLog': y_pred_lr,\n",
    "        'RegLog_SW': y_pred_lr_sw,\n",
    "        'MultinomialNB': y_pred_nb,\n",
    "        'MultinomialNB_SW': y_pred_nb_sw,\n",
    "        'SVC': y_pred_svc,\n",
    "        'SVC_SW': y_pred_svc_sw,\n",
    "        'RF':y_pred_rf,\n",
    "        'RF_SW': y_pred_rf_sw,\n",
    "        'XGB': y_pred_xgb,\n",
    "        'XGB_SW': y_pred_xgb_sw,\n",
    "        'LightGBM': y_pred_lgbm,\n",
    "        'LightGBM_SW': y_pred_lgbm_sw,\n",
    "        'Word2Vec_LGBM': y_pred_w2v_lgbm,\n",
    "        'BERT': y_pred_bert\n",
    "    }\n",
    ")"
   ]
  },
  {
   "cell_type": "code",
   "execution_count": 88,
   "metadata": {},
   "outputs": [
    {
     "data": {
      "text/html": [
       "<div>\n",
       "<style scoped>\n",
       "    .dataframe tbody tr th:only-of-type {\n",
       "        vertical-align: middle;\n",
       "    }\n",
       "\n",
       "    .dataframe tbody tr th {\n",
       "        vertical-align: top;\n",
       "    }\n",
       "\n",
       "    .dataframe thead th {\n",
       "        text-align: right;\n",
       "    }\n",
       "</style>\n",
       "<table border=\"1\" class=\"dataframe\">\n",
       "  <thead>\n",
       "    <tr style=\"text-align: right;\">\n",
       "      <th></th>\n",
       "      <th>X_test</th>\n",
       "      <th>y_test</th>\n",
       "      <th>RegLog</th>\n",
       "      <th>RegLog_SW</th>\n",
       "      <th>MultinomialNB</th>\n",
       "      <th>MultinomialNB_SW</th>\n",
       "      <th>SVC</th>\n",
       "      <th>SVC_SW</th>\n",
       "      <th>RF</th>\n",
       "      <th>RF_SW</th>\n",
       "      <th>XGB</th>\n",
       "      <th>XGB_SW</th>\n",
       "      <th>LightGBM</th>\n",
       "      <th>LightGBM_SW</th>\n",
       "      <th>Word2Vec_LGBM</th>\n",
       "      <th>BERT</th>\n",
       "    </tr>\n",
       "  </thead>\n",
       "  <tbody>\n",
       "    <tr>\n",
       "      <th>0</th>\n",
       "      <td>Vaca Muerta's Sweet Crude Attracts Global Ener...</td>\n",
       "      <td>Compra</td>\n",
       "      <td>Compra</td>\n",
       "      <td>Compra</td>\n",
       "      <td>Compra</td>\n",
       "      <td>Compra</td>\n",
       "      <td>Compra</td>\n",
       "      <td>Compra</td>\n",
       "      <td>Compra</td>\n",
       "      <td>Compra</td>\n",
       "      <td>Compra</td>\n",
       "      <td>Compra</td>\n",
       "      <td>Compra</td>\n",
       "      <td>Compra</td>\n",
       "      <td>Neutro</td>\n",
       "      <td>Compra</td>\n",
       "    </tr>\n",
       "    <tr>\n",
       "      <th>1</th>\n",
       "      <td>Is YPF SA (YPF) a Smart Choice in Oil &amp; Gas In...</td>\n",
       "      <td>Neutro</td>\n",
       "      <td>Compra</td>\n",
       "      <td>Compra</td>\n",
       "      <td>Compra</td>\n",
       "      <td>Compra</td>\n",
       "      <td>Compra</td>\n",
       "      <td>Compra</td>\n",
       "      <td>Neutro</td>\n",
       "      <td>Compra</td>\n",
       "      <td>Compra</td>\n",
       "      <td>Neutro</td>\n",
       "      <td>Compra</td>\n",
       "      <td>Compra</td>\n",
       "      <td>Compra</td>\n",
       "      <td>Neutro</td>\n",
       "    </tr>\n",
       "    <tr>\n",
       "      <th>2</th>\n",
       "      <td>Mexico's Pemex the biggest liquidity worry amo...</td>\n",
       "      <td>Neutro</td>\n",
       "      <td>Neutro</td>\n",
       "      <td>Neutro</td>\n",
       "      <td>Neutro</td>\n",
       "      <td>Neutro</td>\n",
       "      <td>Neutro</td>\n",
       "      <td>Neutro</td>\n",
       "      <td>Neutro</td>\n",
       "      <td>Neutro</td>\n",
       "      <td>Neutro</td>\n",
       "      <td>Neutro</td>\n",
       "      <td>Compra</td>\n",
       "      <td>Neutro</td>\n",
       "      <td>Neutro</td>\n",
       "      <td>Neutro</td>\n",
       "    </tr>\n",
       "    <tr>\n",
       "      <th>3</th>\n",
       "      <td>Argentina Fixes Oil at $56 a Barrel to Put Lid...</td>\n",
       "      <td>Neutro</td>\n",
       "      <td>Neutro</td>\n",
       "      <td>Compra</td>\n",
       "      <td>Neutro</td>\n",
       "      <td>Neutro</td>\n",
       "      <td>Neutro</td>\n",
       "      <td>Neutro</td>\n",
       "      <td>Compra</td>\n",
       "      <td>Neutro</td>\n",
       "      <td>Compra</td>\n",
       "      <td>Neutro</td>\n",
       "      <td>Compra</td>\n",
       "      <td>Compra</td>\n",
       "      <td>Neutro</td>\n",
       "      <td>Compra</td>\n",
       "    </tr>\n",
       "    <tr>\n",
       "      <th>4</th>\n",
       "      <td>Argentina to freeze crude price at $56/bbl to ...</td>\n",
       "      <td>Neutro</td>\n",
       "      <td>Neutro</td>\n",
       "      <td>Neutro</td>\n",
       "      <td>Compra</td>\n",
       "      <td>Neutro</td>\n",
       "      <td>Neutro</td>\n",
       "      <td>Neutro</td>\n",
       "      <td>Compra</td>\n",
       "      <td>Compra</td>\n",
       "      <td>Compra</td>\n",
       "      <td>Compra</td>\n",
       "      <td>Compra</td>\n",
       "      <td>Compra</td>\n",
       "      <td>Neutro</td>\n",
       "      <td>Compra</td>\n",
       "    </tr>\n",
       "  </tbody>\n",
       "</table>\n",
       "</div>"
      ],
      "text/plain": [
       "                                              X_test  y_test  RegLog  \\\n",
       "0  Vaca Muerta's Sweet Crude Attracts Global Ener...  Compra  Compra   \n",
       "1  Is YPF SA (YPF) a Smart Choice in Oil & Gas In...  Neutro  Compra   \n",
       "2  Mexico's Pemex the biggest liquidity worry amo...  Neutro  Neutro   \n",
       "3  Argentina Fixes Oil at $56 a Barrel to Put Lid...  Neutro  Neutro   \n",
       "4  Argentina to freeze crude price at $56/bbl to ...  Neutro  Neutro   \n",
       "\n",
       "  RegLog_SW MultinomialNB MultinomialNB_SW     SVC  SVC_SW      RF   RF_SW  \\\n",
       "0    Compra        Compra           Compra  Compra  Compra  Compra  Compra   \n",
       "1    Compra        Compra           Compra  Compra  Compra  Neutro  Compra   \n",
       "2    Neutro        Neutro           Neutro  Neutro  Neutro  Neutro  Neutro   \n",
       "3    Compra        Neutro           Neutro  Neutro  Neutro  Compra  Neutro   \n",
       "4    Neutro        Compra           Neutro  Neutro  Neutro  Compra  Compra   \n",
       "\n",
       "      XGB  XGB_SW LightGBM LightGBM_SW Word2Vec_LGBM    BERT  \n",
       "0  Compra  Compra   Compra      Compra        Neutro  Compra  \n",
       "1  Compra  Neutro   Compra      Compra        Compra  Neutro  \n",
       "2  Neutro  Neutro   Compra      Neutro        Neutro  Neutro  \n",
       "3  Compra  Neutro   Compra      Compra        Neutro  Compra  \n",
       "4  Compra  Compra   Compra      Compra        Neutro  Compra  "
      ]
     },
     "execution_count": 88,
     "metadata": {},
     "output_type": "execute_result"
    }
   ],
   "source": [
    "models_pred.head()"
   ]
  },
  {
   "cell_type": "code",
   "execution_count": 89,
   "metadata": {},
   "outputs": [],
   "source": [
    "models_pred.to_excel('ypf_predicciones_modelos.xlsx', index=False)"
   ]
  },
  {
   "cell_type": "markdown",
   "metadata": {},
   "source": [
    "### Probabilidades"
   ]
  },
  {
   "cell_type": "code",
   "execution_count": 90,
   "metadata": {},
   "outputs": [],
   "source": [
    "probas = [\n",
    "    y_pred_lr_proba,\n",
    "    y_pred_lr_sw_proba,\n",
    "    y_pred_nb_proba,\n",
    "    y_pred_nb_sw_proba,\n",
    "    y_pred_svc_proba,\n",
    "    y_pred_svc_sw_proba,\n",
    "    y_pred_rf_proba,\n",
    "    y_pred_rf_sw_proba,\n",
    "    y_pred_xgb_proba,\n",
    "    y_pred_xgb_sw_proba,\n",
    "    y_pred_lgbm_proba,\n",
    "    y_pred_lgbm_sw_proba,\n",
    "    y_pred_w2v_lgbm_proba,\n",
    "    y_pred_bert_proba\n",
    "]"
   ]
  },
  {
   "cell_type": "markdown",
   "metadata": {},
   "source": [
    "## Ensemble"
   ]
  },
  {
   "cell_type": "code",
   "execution_count": 91,
   "metadata": {},
   "outputs": [],
   "source": [
    "v_probas = len(probas)\n",
    "v_length = len(probas[0])\n",
    "\n",
    "y_pred_ensemble_proba = [[0] * 2 for _ in range(v_length)]\n",
    "\n",
    "for proba in range(0,v_probas):\n",
    "    for row in range(0,v_length):\n",
    "        for category in range(0,2):\n",
    "            y_pred_ensemble_proba[row][category] += probas[proba][row][category]\n",
    "\n",
    "for row in range(0,v_length):\n",
    "    for category in range(0,2):\n",
    "        y_pred_ensemble_proba[row][category] = y_pred_ensemble_proba[row][category]/v_probas"
   ]
  },
  {
   "cell_type": "code",
   "execution_count": 92,
   "metadata": {},
   "outputs": [],
   "source": [
    "v_data = {}\n",
    "for i in range(2):\n",
    "    column_name = chr(65 + i)\n",
    "    v_data[column_name] = [inner_list[i] for inner_list in y_pred_ensemble_proba]\n",
    "\n",
    "df = pd.DataFrame(v_data)"
   ]
  },
  {
   "cell_type": "code",
   "execution_count": 93,
   "metadata": {},
   "outputs": [],
   "source": [
    "prob_ensemble = pd.DataFrame(\n",
    "    {\n",
    "        'X_test': data_test['Text'].tolist(),\n",
    "        'y_test': data_test['Category'].tolist(),\n",
    "        'Compra': df['A'].values.tolist(),\n",
    "        'Neutro': df['B'].values.tolist()\n",
    "    }\n",
    ")"
   ]
  },
  {
   "cell_type": "code",
   "execution_count": 94,
   "metadata": {},
   "outputs": [
    {
     "data": {
      "text/html": [
       "<div>\n",
       "<style scoped>\n",
       "    .dataframe tbody tr th:only-of-type {\n",
       "        vertical-align: middle;\n",
       "    }\n",
       "\n",
       "    .dataframe tbody tr th {\n",
       "        vertical-align: top;\n",
       "    }\n",
       "\n",
       "    .dataframe thead th {\n",
       "        text-align: right;\n",
       "    }\n",
       "</style>\n",
       "<table border=\"1\" class=\"dataframe\">\n",
       "  <thead>\n",
       "    <tr style=\"text-align: right;\">\n",
       "      <th></th>\n",
       "      <th>X_test</th>\n",
       "      <th>y_test</th>\n",
       "      <th>Compra</th>\n",
       "      <th>Neutro</th>\n",
       "    </tr>\n",
       "  </thead>\n",
       "  <tbody>\n",
       "    <tr>\n",
       "      <th>0</th>\n",
       "      <td>Vaca Muerta's Sweet Crude Attracts Global Ener...</td>\n",
       "      <td>Compra</td>\n",
       "      <td>0.663392</td>\n",
       "      <td>0.336608</td>\n",
       "    </tr>\n",
       "    <tr>\n",
       "      <th>1</th>\n",
       "      <td>Is YPF SA (YPF) a Smart Choice in Oil &amp; Gas In...</td>\n",
       "      <td>Neutro</td>\n",
       "      <td>0.624243</td>\n",
       "      <td>0.375757</td>\n",
       "    </tr>\n",
       "    <tr>\n",
       "      <th>2</th>\n",
       "      <td>Mexico's Pemex the biggest liquidity worry amo...</td>\n",
       "      <td>Neutro</td>\n",
       "      <td>0.327072</td>\n",
       "      <td>0.672928</td>\n",
       "    </tr>\n",
       "    <tr>\n",
       "      <th>3</th>\n",
       "      <td>Argentina Fixes Oil at $56 a Barrel to Put Lid...</td>\n",
       "      <td>Neutro</td>\n",
       "      <td>0.506240</td>\n",
       "      <td>0.493760</td>\n",
       "    </tr>\n",
       "    <tr>\n",
       "      <th>4</th>\n",
       "      <td>Argentina to freeze crude price at $56/bbl to ...</td>\n",
       "      <td>Neutro</td>\n",
       "      <td>0.539540</td>\n",
       "      <td>0.460460</td>\n",
       "    </tr>\n",
       "    <tr>\n",
       "      <th>...</th>\n",
       "      <td>...</td>\n",
       "      <td>...</td>\n",
       "      <td>...</td>\n",
       "      <td>...</td>\n",
       "    </tr>\n",
       "    <tr>\n",
       "      <th>79</th>\n",
       "      <td>The 5 Latin American Countries With The Larges...</td>\n",
       "      <td>Compra</td>\n",
       "      <td>0.394657</td>\n",
       "      <td>0.605343</td>\n",
       "    </tr>\n",
       "    <tr>\n",
       "      <th>80</th>\n",
       "      <td>\\nYPF Sociedad Anonima (YPF) Dips More Than B...</td>\n",
       "      <td>Neutro</td>\n",
       "      <td>0.797477</td>\n",
       "      <td>0.202523</td>\n",
       "    </tr>\n",
       "    <tr>\n",
       "      <th>81</th>\n",
       "      <td>Could Argentina Replicate Brazil’s Offshore Oi...</td>\n",
       "      <td>Compra</td>\n",
       "      <td>0.635084</td>\n",
       "      <td>0.364916</td>\n",
       "    </tr>\n",
       "    <tr>\n",
       "      <th>82</th>\n",
       "      <td>\\nIs Weatherford International (WFRD) Stock O...</td>\n",
       "      <td>Neutro</td>\n",
       "      <td>0.241577</td>\n",
       "      <td>0.758423</td>\n",
       "    </tr>\n",
       "    <tr>\n",
       "      <th>83</th>\n",
       "      <td>Is Weatherford International (WFRD) Stock Outp...</td>\n",
       "      <td>Neutro</td>\n",
       "      <td>0.262546</td>\n",
       "      <td>0.737454</td>\n",
       "    </tr>\n",
       "  </tbody>\n",
       "</table>\n",
       "<p>84 rows × 4 columns</p>\n",
       "</div>"
      ],
      "text/plain": [
       "                                               X_test  y_test    Compra  \\\n",
       "0   Vaca Muerta's Sweet Crude Attracts Global Ener...  Compra  0.663392   \n",
       "1   Is YPF SA (YPF) a Smart Choice in Oil & Gas In...  Neutro  0.624243   \n",
       "2   Mexico's Pemex the biggest liquidity worry amo...  Neutro  0.327072   \n",
       "3   Argentina Fixes Oil at $56 a Barrel to Put Lid...  Neutro  0.506240   \n",
       "4   Argentina to freeze crude price at $56/bbl to ...  Neutro  0.539540   \n",
       "..                                                ...     ...       ...   \n",
       "79  The 5 Latin American Countries With The Larges...  Compra  0.394657   \n",
       "80   \\nYPF Sociedad Anonima (YPF) Dips More Than B...  Neutro  0.797477   \n",
       "81  Could Argentina Replicate Brazil’s Offshore Oi...  Compra  0.635084   \n",
       "82   \\nIs Weatherford International (WFRD) Stock O...  Neutro  0.241577   \n",
       "83  Is Weatherford International (WFRD) Stock Outp...  Neutro  0.262546   \n",
       "\n",
       "      Neutro  \n",
       "0   0.336608  \n",
       "1   0.375757  \n",
       "2   0.672928  \n",
       "3   0.493760  \n",
       "4   0.460460  \n",
       "..       ...  \n",
       "79  0.605343  \n",
       "80  0.202523  \n",
       "81  0.364916  \n",
       "82  0.758423  \n",
       "83  0.737454  \n",
       "\n",
       "[84 rows x 4 columns]"
      ]
     },
     "execution_count": 94,
     "metadata": {},
     "output_type": "execute_result"
    }
   ],
   "source": [
    "prob_ensemble"
   ]
  },
  {
   "cell_type": "code",
   "execution_count": 95,
   "metadata": {},
   "outputs": [],
   "source": [
    "prob_ensemble['Ensemble Label'] = prob_ensemble[['Compra', 'Neutro']].idxmax(axis=1)"
   ]
  },
  {
   "cell_type": "code",
   "execution_count": 96,
   "metadata": {},
   "outputs": [
    {
     "data": {
      "text/html": [
       "<div>\n",
       "<style scoped>\n",
       "    .dataframe tbody tr th:only-of-type {\n",
       "        vertical-align: middle;\n",
       "    }\n",
       "\n",
       "    .dataframe tbody tr th {\n",
       "        vertical-align: top;\n",
       "    }\n",
       "\n",
       "    .dataframe thead th {\n",
       "        text-align: right;\n",
       "    }\n",
       "</style>\n",
       "<table border=\"1\" class=\"dataframe\">\n",
       "  <thead>\n",
       "    <tr style=\"text-align: right;\">\n",
       "      <th></th>\n",
       "      <th>X_test</th>\n",
       "      <th>y_test</th>\n",
       "      <th>Compra</th>\n",
       "      <th>Neutro</th>\n",
       "      <th>Ensemble Label</th>\n",
       "    </tr>\n",
       "  </thead>\n",
       "  <tbody>\n",
       "    <tr>\n",
       "      <th>0</th>\n",
       "      <td>Vaca Muerta's Sweet Crude Attracts Global Ener...</td>\n",
       "      <td>Compra</td>\n",
       "      <td>0.663392</td>\n",
       "      <td>0.336608</td>\n",
       "      <td>Compra</td>\n",
       "    </tr>\n",
       "    <tr>\n",
       "      <th>1</th>\n",
       "      <td>Is YPF SA (YPF) a Smart Choice in Oil &amp; Gas In...</td>\n",
       "      <td>Neutro</td>\n",
       "      <td>0.624243</td>\n",
       "      <td>0.375757</td>\n",
       "      <td>Compra</td>\n",
       "    </tr>\n",
       "    <tr>\n",
       "      <th>2</th>\n",
       "      <td>Mexico's Pemex the biggest liquidity worry amo...</td>\n",
       "      <td>Neutro</td>\n",
       "      <td>0.327072</td>\n",
       "      <td>0.672928</td>\n",
       "      <td>Neutro</td>\n",
       "    </tr>\n",
       "    <tr>\n",
       "      <th>3</th>\n",
       "      <td>Argentina Fixes Oil at $56 a Barrel to Put Lid...</td>\n",
       "      <td>Neutro</td>\n",
       "      <td>0.506240</td>\n",
       "      <td>0.493760</td>\n",
       "      <td>Compra</td>\n",
       "    </tr>\n",
       "    <tr>\n",
       "      <th>4</th>\n",
       "      <td>Argentina to freeze crude price at $56/bbl to ...</td>\n",
       "      <td>Neutro</td>\n",
       "      <td>0.539540</td>\n",
       "      <td>0.460460</td>\n",
       "      <td>Compra</td>\n",
       "    </tr>\n",
       "    <tr>\n",
       "      <th>...</th>\n",
       "      <td>...</td>\n",
       "      <td>...</td>\n",
       "      <td>...</td>\n",
       "      <td>...</td>\n",
       "      <td>...</td>\n",
       "    </tr>\n",
       "    <tr>\n",
       "      <th>79</th>\n",
       "      <td>The 5 Latin American Countries With The Larges...</td>\n",
       "      <td>Compra</td>\n",
       "      <td>0.394657</td>\n",
       "      <td>0.605343</td>\n",
       "      <td>Neutro</td>\n",
       "    </tr>\n",
       "    <tr>\n",
       "      <th>80</th>\n",
       "      <td>\\nYPF Sociedad Anonima (YPF) Dips More Than B...</td>\n",
       "      <td>Neutro</td>\n",
       "      <td>0.797477</td>\n",
       "      <td>0.202523</td>\n",
       "      <td>Compra</td>\n",
       "    </tr>\n",
       "    <tr>\n",
       "      <th>81</th>\n",
       "      <td>Could Argentina Replicate Brazil’s Offshore Oi...</td>\n",
       "      <td>Compra</td>\n",
       "      <td>0.635084</td>\n",
       "      <td>0.364916</td>\n",
       "      <td>Compra</td>\n",
       "    </tr>\n",
       "    <tr>\n",
       "      <th>82</th>\n",
       "      <td>\\nIs Weatherford International (WFRD) Stock O...</td>\n",
       "      <td>Neutro</td>\n",
       "      <td>0.241577</td>\n",
       "      <td>0.758423</td>\n",
       "      <td>Neutro</td>\n",
       "    </tr>\n",
       "    <tr>\n",
       "      <th>83</th>\n",
       "      <td>Is Weatherford International (WFRD) Stock Outp...</td>\n",
       "      <td>Neutro</td>\n",
       "      <td>0.262546</td>\n",
       "      <td>0.737454</td>\n",
       "      <td>Neutro</td>\n",
       "    </tr>\n",
       "  </tbody>\n",
       "</table>\n",
       "<p>84 rows × 5 columns</p>\n",
       "</div>"
      ],
      "text/plain": [
       "                                               X_test  y_test    Compra  \\\n",
       "0   Vaca Muerta's Sweet Crude Attracts Global Ener...  Compra  0.663392   \n",
       "1   Is YPF SA (YPF) a Smart Choice in Oil & Gas In...  Neutro  0.624243   \n",
       "2   Mexico's Pemex the biggest liquidity worry amo...  Neutro  0.327072   \n",
       "3   Argentina Fixes Oil at $56 a Barrel to Put Lid...  Neutro  0.506240   \n",
       "4   Argentina to freeze crude price at $56/bbl to ...  Neutro  0.539540   \n",
       "..                                                ...     ...       ...   \n",
       "79  The 5 Latin American Countries With The Larges...  Compra  0.394657   \n",
       "80   \\nYPF Sociedad Anonima (YPF) Dips More Than B...  Neutro  0.797477   \n",
       "81  Could Argentina Replicate Brazil’s Offshore Oi...  Compra  0.635084   \n",
       "82   \\nIs Weatherford International (WFRD) Stock O...  Neutro  0.241577   \n",
       "83  Is Weatherford International (WFRD) Stock Outp...  Neutro  0.262546   \n",
       "\n",
       "      Neutro Ensemble Label  \n",
       "0   0.336608         Compra  \n",
       "1   0.375757         Compra  \n",
       "2   0.672928         Neutro  \n",
       "3   0.493760         Compra  \n",
       "4   0.460460         Compra  \n",
       "..       ...            ...  \n",
       "79  0.605343         Neutro  \n",
       "80  0.202523         Compra  \n",
       "81  0.364916         Compra  \n",
       "82  0.758423         Neutro  \n",
       "83  0.737454         Neutro  \n",
       "\n",
       "[84 rows x 5 columns]"
      ]
     },
     "execution_count": 96,
     "metadata": {},
     "output_type": "execute_result"
    }
   ],
   "source": [
    "prob_ensemble"
   ]
  },
  {
   "cell_type": "markdown",
   "metadata": {},
   "source": [
    "## Métricas"
   ]
  },
  {
   "cell_type": "markdown",
   "metadata": {},
   "source": [
    "### AUC/ROC"
   ]
  },
  {
   "cell_type": "code",
   "execution_count": 123,
   "metadata": {},
   "outputs": [],
   "source": [
    "probas = [\n",
    "    y_pred_lr_proba,\n",
    "    y_pred_lr_sw_proba,\n",
    "    y_pred_nb_proba,\n",
    "    y_pred_nb_sw_proba,\n",
    "    y_pred_svc_proba,\n",
    "    y_pred_svc_sw_proba,\n",
    "    y_pred_rf_proba,\n",
    "    y_pred_rf_sw_proba,\n",
    "    y_pred_xgb_proba,\n",
    "    y_pred_xgb_sw_proba,\n",
    "    y_pred_lgbm_proba,\n",
    "    y_pred_lgbm_sw_proba,\n",
    "    y_pred_w2v_lgbm_proba,\n",
    "    y_pred_bert_proba,\n",
    "    np.array(y_pred_ensemble_proba)\n",
    "]\n",
    "\n",
    "model_names = [\"RegLog\", \n",
    "               \"RegLog*\",\n",
    "               \"NaiveB\",\n",
    "               \"NaiveB*\",\n",
    "               \"SVC\",\n",
    "               \"SVC*\",\n",
    "               \"RandF\",\n",
    "               \"RandF*\",\n",
    "               \"XGB\",\n",
    "               \"XGB*\",\n",
    "               \"LGBM\",\n",
    "               \"LGBM*\",\n",
    "               \"W2V_Lgbm\",\n",
    "               \"Bert\",\n",
    "               \"Ensemble\",\n",
    "               ]"
   ]
  },
  {
   "cell_type": "code",
   "execution_count": 124,
   "metadata": {},
   "outputs": [],
   "source": [
    "class_labels = ['Compra', 'Neutro']\n",
    "\n",
    "label_encoder = LabelEncoder()\n",
    "y_true_encoded = label_encoder.fit_transform(y_test)"
   ]
  },
  {
   "cell_type": "code",
   "execution_count": 136,
   "metadata": {},
   "outputs": [
    {
     "data": {
      "image/png": "[encoded data removed]",
      "text/plain": [
       "<Figure size 800x600 with 1 Axes>"
      ]
     },
     "metadata": {},
     "output_type": "display_data"
    }
   ],
   "source": [
    "plt.figure(figsize=(8, 6))\n",
    "\n",
    "for i, y_pred_probabilities in enumerate(probas):\n",
    "    fpr = dict()\n",
    "    tpr = dict()\n",
    "    roc_auc = dict()\n",
    "\n",
    "    n_classes = len(class_labels) \n",
    "    for j in range(n_classes):\n",
    "        y_true_class = (y_true_encoded == j).astype(int)\n",
    "        fpr[j], tpr[j], _ = roc_curve(y_true_class, y_pred_probabilities[:, j])\n",
    "        roc_auc[j] = auc(fpr[j], tpr[j])\n",
    "\n",
    "    all_fpr = np.unique(np.concatenate([fpr[j] for j in range(n_classes)]))\n",
    "    mean_tpr = np.zeros_like(all_fpr)\n",
    "\n",
    "    for j in range(n_classes):\n",
    "        mean_tpr += np.interp(all_fpr, fpr[j], tpr[j])\n",
    "\n",
    "    mean_tpr /= n_classes\n",
    "    roc_auc_micro = auc(all_fpr, mean_tpr)\n",
    "\n",
    "    if i == len(probas) - 1:\n",
    "        plt.plot(all_fpr, mean_tpr, lw=2, label=f'{model_names[i]} (AUC = {roc_auc_micro:.2f})', color='purple')\n",
    "    else:\n",
    "        plt.plot(all_fpr, mean_tpr, lw=1, label=f'{model_names[i]} (AUC = {roc_auc_micro:.2f})', color='lightgray')\n",
    "\n",
    "\n",
    "plt.plot([0, 1], [0, 1], color='gray', linestyle='--')\n",
    "plt.xlim([0.0, 1.0])\n",
    "plt.ylim([0.0, 1.05])\n",
    "plt.xlabel('False Positive Rate')\n",
    "plt.ylabel('True Positive Rate')\n",
    "plt.title('Micro-Average ROC')\n",
    "plt.legend(loc='lower right')\n",
    "plt.grid(True)\n",
    "plt.show()\n"
   ]
  },
  {
   "cell_type": "markdown",
   "metadata": {},
   "source": [
    "## Power Words"
   ]
  },
  {
   "cell_type": "code",
   "execution_count": 129,
   "metadata": {},
   "outputs": [],
   "source": [
    "prob_ensemble['CompraIndex'] = 0\n",
    "\n",
    "for index, noticia in enumerate(prob_ensemble['X_test']):\n",
    "    tokens = noticia.split()\n",
    "    \n",
    "    for palabra in tokens:\n",
    "        palabra = palabra.strip(\".,!?()\").lower()\n",
    "        if palabra in powerWords:\n",
    "            prob_ensemble.loc[index, 'CompraIndex'] += 0.1"
   ]
  },
  {
   "cell_type": "code",
   "execution_count": 130,
   "metadata": {},
   "outputs": [
    {
     "data": {
      "text/html": [
       "<div>\n",
       "<style scoped>\n",
       "    .dataframe tbody tr th:only-of-type {\n",
       "        vertical-align: middle;\n",
       "    }\n",
       "\n",
       "    .dataframe tbody tr th {\n",
       "        vertical-align: top;\n",
       "    }\n",
       "\n",
       "    .dataframe thead th {\n",
       "        text-align: right;\n",
       "    }\n",
       "</style>\n",
       "<table border=\"1\" class=\"dataframe\">\n",
       "  <thead>\n",
       "    <tr style=\"text-align: right;\">\n",
       "      <th></th>\n",
       "      <th>X_test</th>\n",
       "      <th>y_test</th>\n",
       "      <th>Compra</th>\n",
       "      <th>Neutro</th>\n",
       "      <th>Ensemble Label</th>\n",
       "      <th>CompraIndex</th>\n",
       "    </tr>\n",
       "  </thead>\n",
       "  <tbody>\n",
       "    <tr>\n",
       "      <th>0</th>\n",
       "      <td>Vaca Muerta's Sweet Crude Attracts Global Ener...</td>\n",
       "      <td>Compra</td>\n",
       "      <td>0.663392</td>\n",
       "      <td>0.336608</td>\n",
       "      <td>Compra</td>\n",
       "      <td>0.4</td>\n",
       "    </tr>\n",
       "    <tr>\n",
       "      <th>1</th>\n",
       "      <td>Is YPF SA (YPF) a Smart Choice in Oil &amp; Gas In...</td>\n",
       "      <td>Neutro</td>\n",
       "      <td>0.624243</td>\n",
       "      <td>0.375757</td>\n",
       "      <td>Compra</td>\n",
       "      <td>0.0</td>\n",
       "    </tr>\n",
       "    <tr>\n",
       "      <th>2</th>\n",
       "      <td>Mexico's Pemex the biggest liquidity worry amo...</td>\n",
       "      <td>Neutro</td>\n",
       "      <td>0.327072</td>\n",
       "      <td>0.672928</td>\n",
       "      <td>Neutro</td>\n",
       "      <td>0.1</td>\n",
       "    </tr>\n",
       "    <tr>\n",
       "      <th>3</th>\n",
       "      <td>Argentina Fixes Oil at $56 a Barrel to Put Lid...</td>\n",
       "      <td>Neutro</td>\n",
       "      <td>0.506240</td>\n",
       "      <td>0.493760</td>\n",
       "      <td>Compra</td>\n",
       "      <td>0.0</td>\n",
       "    </tr>\n",
       "    <tr>\n",
       "      <th>4</th>\n",
       "      <td>Argentina to freeze crude price at $56/bbl to ...</td>\n",
       "      <td>Neutro</td>\n",
       "      <td>0.539540</td>\n",
       "      <td>0.460460</td>\n",
       "      <td>Compra</td>\n",
       "      <td>0.0</td>\n",
       "    </tr>\n",
       "    <tr>\n",
       "      <th>...</th>\n",
       "      <td>...</td>\n",
       "      <td>...</td>\n",
       "      <td>...</td>\n",
       "      <td>...</td>\n",
       "      <td>...</td>\n",
       "      <td>...</td>\n",
       "    </tr>\n",
       "    <tr>\n",
       "      <th>79</th>\n",
       "      <td>The 5 Latin American Countries With The Larges...</td>\n",
       "      <td>Compra</td>\n",
       "      <td>0.394657</td>\n",
       "      <td>0.605343</td>\n",
       "      <td>Neutro</td>\n",
       "      <td>0.6</td>\n",
       "    </tr>\n",
       "    <tr>\n",
       "      <th>80</th>\n",
       "      <td>\\nYPF Sociedad Anonima (YPF) Dips More Than B...</td>\n",
       "      <td>Neutro</td>\n",
       "      <td>0.797477</td>\n",
       "      <td>0.202523</td>\n",
       "      <td>Compra</td>\n",
       "      <td>0.2</td>\n",
       "    </tr>\n",
       "    <tr>\n",
       "      <th>81</th>\n",
       "      <td>Could Argentina Replicate Brazil’s Offshore Oi...</td>\n",
       "      <td>Compra</td>\n",
       "      <td>0.635084</td>\n",
       "      <td>0.364916</td>\n",
       "      <td>Compra</td>\n",
       "      <td>0.5</td>\n",
       "    </tr>\n",
       "    <tr>\n",
       "      <th>82</th>\n",
       "      <td>\\nIs Weatherford International (WFRD) Stock O...</td>\n",
       "      <td>Neutro</td>\n",
       "      <td>0.241577</td>\n",
       "      <td>0.758423</td>\n",
       "      <td>Neutro</td>\n",
       "      <td>0.0</td>\n",
       "    </tr>\n",
       "    <tr>\n",
       "      <th>83</th>\n",
       "      <td>Is Weatherford International (WFRD) Stock Outp...</td>\n",
       "      <td>Neutro</td>\n",
       "      <td>0.262546</td>\n",
       "      <td>0.737454</td>\n",
       "      <td>Neutro</td>\n",
       "      <td>0.0</td>\n",
       "    </tr>\n",
       "  </tbody>\n",
       "</table>\n",
       "<p>84 rows × 6 columns</p>\n",
       "</div>"
      ],
      "text/plain": [
       "                                               X_test  y_test    Compra  \\\n",
       "0   Vaca Muerta's Sweet Crude Attracts Global Ener...  Compra  0.663392   \n",
       "1   Is YPF SA (YPF) a Smart Choice in Oil & Gas In...  Neutro  0.624243   \n",
       "2   Mexico's Pemex the biggest liquidity worry amo...  Neutro  0.327072   \n",
       "3   Argentina Fixes Oil at $56 a Barrel to Put Lid...  Neutro  0.506240   \n",
       "4   Argentina to freeze crude price at $56/bbl to ...  Neutro  0.539540   \n",
       "..                                                ...     ...       ...   \n",
       "79  The 5 Latin American Countries With The Larges...  Compra  0.394657   \n",
       "80   \\nYPF Sociedad Anonima (YPF) Dips More Than B...  Neutro  0.797477   \n",
       "81  Could Argentina Replicate Brazil’s Offshore Oi...  Compra  0.635084   \n",
       "82   \\nIs Weatherford International (WFRD) Stock O...  Neutro  0.241577   \n",
       "83  Is Weatherford International (WFRD) Stock Outp...  Neutro  0.262546   \n",
       "\n",
       "      Neutro Ensemble Label  CompraIndex  \n",
       "0   0.336608         Compra          0.4  \n",
       "1   0.375757         Compra          0.0  \n",
       "2   0.672928         Neutro          0.1  \n",
       "3   0.493760         Compra          0.0  \n",
       "4   0.460460         Compra          0.0  \n",
       "..       ...            ...          ...  \n",
       "79  0.605343         Neutro          0.6  \n",
       "80  0.202523         Compra          0.2  \n",
       "81  0.364916         Compra          0.5  \n",
       "82  0.758423         Neutro          0.0  \n",
       "83  0.737454         Neutro          0.0  \n",
       "\n",
       "[84 rows x 6 columns]"
      ]
     },
     "execution_count": 130,
     "metadata": {},
     "output_type": "execute_result"
    }
   ],
   "source": [
    "prob_ensemble.head()"
   ]
  },
  {
   "cell_type": "markdown",
   "metadata": {},
   "source": [
    "### Funcion Power Index"
   ]
  },
  {
   "cell_type": "markdown",
   "metadata": {},
   "source": [
    "Por cada palabra que aparezca en el texto de la noticia, sumamos 0.1 para el \"Power Index\""
   ]
  },
  {
   "cell_type": "code",
   "execution_count": 131,
   "metadata": {},
   "outputs": [],
   "source": [
    "# Si CompraIndex > 0.2 entonces cambiar el label a Compra\n",
    "def CheckPowerWord(row):\n",
    "    if row['PowerIndex'] >= 0.6 and row['Ensemble Label'] == 'Neutro':\n",
    "        return 'Compra'\n",
    "    else:\n",
    "        return row['Ensemble Label']\n",
    "\n",
    "prob_ensemble[\"PowerLabel\"] = prob_ensemble.apply(CheckPowerWord, axis=1)"
   ]
  },
  {
   "cell_type": "code",
   "execution_count": 132,
   "metadata": {},
   "outputs": [
    {
     "data": {
      "text/html": [
       "<div>\n",
       "<style scoped>\n",
       "    .dataframe tbody tr th:only-of-type {\n",
       "        vertical-align: middle;\n",
       "    }\n",
       "\n",
       "    .dataframe tbody tr th {\n",
       "        vertical-align: top;\n",
       "    }\n",
       "\n",
       "    .dataframe thead th {\n",
       "        text-align: right;\n",
       "    }\n",
       "</style>\n",
       "<table border=\"1\" class=\"dataframe\">\n",
       "  <thead>\n",
       "    <tr style=\"text-align: right;\">\n",
       "      <th></th>\n",
       "      <th>X_test</th>\n",
       "      <th>y_test</th>\n",
       "      <th>Compra</th>\n",
       "      <th>Neutro</th>\n",
       "      <th>Ensemble Label</th>\n",
       "      <th>CompraIndex</th>\n",
       "      <th>PowerLabel</th>\n",
       "    </tr>\n",
       "  </thead>\n",
       "  <tbody>\n",
       "    <tr>\n",
       "      <th>0</th>\n",
       "      <td>Vaca Muerta's Sweet Crude Attracts Global Ener...</td>\n",
       "      <td>Compra</td>\n",
       "      <td>0.663392</td>\n",
       "      <td>0.336608</td>\n",
       "      <td>Compra</td>\n",
       "      <td>0.4</td>\n",
       "      <td>Compra</td>\n",
       "    </tr>\n",
       "    <tr>\n",
       "      <th>1</th>\n",
       "      <td>Is YPF SA (YPF) a Smart Choice in Oil &amp; Gas In...</td>\n",
       "      <td>Neutro</td>\n",
       "      <td>0.624243</td>\n",
       "      <td>0.375757</td>\n",
       "      <td>Compra</td>\n",
       "      <td>0.0</td>\n",
       "      <td>Compra</td>\n",
       "    </tr>\n",
       "    <tr>\n",
       "      <th>2</th>\n",
       "      <td>Mexico's Pemex the biggest liquidity worry amo...</td>\n",
       "      <td>Neutro</td>\n",
       "      <td>0.327072</td>\n",
       "      <td>0.672928</td>\n",
       "      <td>Neutro</td>\n",
       "      <td>0.1</td>\n",
       "      <td>Neutro</td>\n",
       "    </tr>\n",
       "    <tr>\n",
       "      <th>3</th>\n",
       "      <td>Argentina Fixes Oil at $56 a Barrel to Put Lid...</td>\n",
       "      <td>Neutro</td>\n",
       "      <td>0.506240</td>\n",
       "      <td>0.493760</td>\n",
       "      <td>Compra</td>\n",
       "      <td>0.0</td>\n",
       "      <td>Compra</td>\n",
       "    </tr>\n",
       "    <tr>\n",
       "      <th>4</th>\n",
       "      <td>Argentina to freeze crude price at $56/bbl to ...</td>\n",
       "      <td>Neutro</td>\n",
       "      <td>0.539540</td>\n",
       "      <td>0.460460</td>\n",
       "      <td>Compra</td>\n",
       "      <td>0.0</td>\n",
       "      <td>Compra</td>\n",
       "    </tr>\n",
       "    <tr>\n",
       "      <th>...</th>\n",
       "      <td>...</td>\n",
       "      <td>...</td>\n",
       "      <td>...</td>\n",
       "      <td>...</td>\n",
       "      <td>...</td>\n",
       "      <td>...</td>\n",
       "      <td>...</td>\n",
       "    </tr>\n",
       "    <tr>\n",
       "      <th>79</th>\n",
       "      <td>The 5 Latin American Countries With The Larges...</td>\n",
       "      <td>Compra</td>\n",
       "      <td>0.394657</td>\n",
       "      <td>0.605343</td>\n",
       "      <td>Neutro</td>\n",
       "      <td>0.6</td>\n",
       "      <td>Compra</td>\n",
       "    </tr>\n",
       "    <tr>\n",
       "      <th>80</th>\n",
       "      <td>\\nYPF Sociedad Anonima (YPF) Dips More Than B...</td>\n",
       "      <td>Neutro</td>\n",
       "      <td>0.797477</td>\n",
       "      <td>0.202523</td>\n",
       "      <td>Compra</td>\n",
       "      <td>0.2</td>\n",
       "      <td>Compra</td>\n",
       "    </tr>\n",
       "    <tr>\n",
       "      <th>81</th>\n",
       "      <td>Could Argentina Replicate Brazil’s Offshore Oi...</td>\n",
       "      <td>Compra</td>\n",
       "      <td>0.635084</td>\n",
       "      <td>0.364916</td>\n",
       "      <td>Compra</td>\n",
       "      <td>0.5</td>\n",
       "      <td>Compra</td>\n",
       "    </tr>\n",
       "    <tr>\n",
       "      <th>82</th>\n",
       "      <td>\\nIs Weatherford International (WFRD) Stock O...</td>\n",
       "      <td>Neutro</td>\n",
       "      <td>0.241577</td>\n",
       "      <td>0.758423</td>\n",
       "      <td>Neutro</td>\n",
       "      <td>0.0</td>\n",
       "      <td>Neutro</td>\n",
       "    </tr>\n",
       "    <tr>\n",
       "      <th>83</th>\n",
       "      <td>Is Weatherford International (WFRD) Stock Outp...</td>\n",
       "      <td>Neutro</td>\n",
       "      <td>0.262546</td>\n",
       "      <td>0.737454</td>\n",
       "      <td>Neutro</td>\n",
       "      <td>0.0</td>\n",
       "      <td>Neutro</td>\n",
       "    </tr>\n",
       "  </tbody>\n",
       "</table>\n",
       "<p>84 rows × 7 columns</p>\n",
       "</div>"
      ],
      "text/plain": [
       "                                               X_test  y_test    Compra  \\\n",
       "0   Vaca Muerta's Sweet Crude Attracts Global Ener...  Compra  0.663392   \n",
       "1   Is YPF SA (YPF) a Smart Choice in Oil & Gas In...  Neutro  0.624243   \n",
       "2   Mexico's Pemex the biggest liquidity worry amo...  Neutro  0.327072   \n",
       "3   Argentina Fixes Oil at $56 a Barrel to Put Lid...  Neutro  0.506240   \n",
       "4   Argentina to freeze crude price at $56/bbl to ...  Neutro  0.539540   \n",
       "..                                                ...     ...       ...   \n",
       "79  The 5 Latin American Countries With The Larges...  Compra  0.394657   \n",
       "80   \\nYPF Sociedad Anonima (YPF) Dips More Than B...  Neutro  0.797477   \n",
       "81  Could Argentina Replicate Brazil’s Offshore Oi...  Compra  0.635084   \n",
       "82   \\nIs Weatherford International (WFRD) Stock O...  Neutro  0.241577   \n",
       "83  Is Weatherford International (WFRD) Stock Outp...  Neutro  0.262546   \n",
       "\n",
       "      Neutro Ensemble Label  CompraIndex PowerLabel  \n",
       "0   0.336608         Compra          0.4     Compra  \n",
       "1   0.375757         Compra          0.0     Compra  \n",
       "2   0.672928         Neutro          0.1     Neutro  \n",
       "3   0.493760         Compra          0.0     Compra  \n",
       "4   0.460460         Compra          0.0     Compra  \n",
       "..       ...            ...          ...        ...  \n",
       "79  0.605343         Neutro          0.6     Compra  \n",
       "80  0.202523         Compra          0.2     Compra  \n",
       "81  0.364916         Compra          0.5     Compra  \n",
       "82  0.758423         Neutro          0.0     Neutro  \n",
       "83  0.737454         Neutro          0.0     Neutro  \n",
       "\n",
       "[84 rows x 7 columns]"
      ]
     },
     "execution_count": 132,
     "metadata": {},
     "output_type": "execute_result"
    }
   ],
   "source": [
    "prob_ensemble.head()"
   ]
  },
  {
   "cell_type": "markdown",
   "metadata": {},
   "source": [
    "### Evaluación"
   ]
  },
  {
   "cell_type": "code",
   "execution_count": 133,
   "metadata": {},
   "outputs": [
    {
     "name": "stdout",
     "output_type": "stream",
     "text": [
      "Accuracy: 72.62%\n",
      "\n",
      "F1 Score: 72.32\n",
      "\n",
      "Confusion Matrix:\n",
      " [[36  8]\n",
      " [15 25]]\n"
     ]
    }
   ],
   "source": [
    "print(\"Accuracy: {:.2f}%\".format(accuracy_score(y_test, prob_ensemble[\"Ensemble Label\"].to_list()) * 100))\n",
    "print(\"\\nF1 Score: {:.2f}\".format(f1_score(y_test, prob_ensemble[\"Ensemble Label\"].to_list(), average='weighted') * 100))\n",
    "print(\"\\nConfusion Matrix:\\n\", confusion_matrix(y_test, prob_ensemble[\"Ensemble Label\"].to_list()))"
   ]
  },
  {
   "cell_type": "code",
   "execution_count": 134,
   "metadata": {},
   "outputs": [
    {
     "name": "stdout",
     "output_type": "stream",
     "text": [
      "Accuracy: 76.19%\n",
      "\n",
      "F1 Score: 75.70\n",
      "\n",
      "Confusion Matrix:\n",
      " [[39  5]\n",
      " [15 25]]\n"
     ]
    }
   ],
   "source": [
    "print(\"Accuracy: {:.2f}%\".format(accuracy_score(y_test, prob_ensemble[\"PowerLabel\"].to_list()) * 100))\n",
    "print(\"\\nF1 Score: {:.2f}\".format(f1_score(y_test, prob_ensemble[\"PowerLabel\"].to_list(), average='weighted') * 100))\n",
    "print(\"\\nConfusion Matrix:\\n\", confusion_matrix(y_test, prob_ensemble[\"PowerLabel\"].to_list()))"
   ]
  },
  {
   "cell_type": "code",
   "execution_count": 135,
   "metadata": {},
   "outputs": [],
   "source": [
    "prob_ensemble.to_excel('ypf_predicciones_ensemble_power.xlsx', index=False)"
   ]
  }
 ],
 "metadata": {
  "kernelspec": {
   "display_name": "base",
   "language": "python",
   "name": "python3"
  },
  "language_info": {
   "codemirror_mode": {
    "name": "ipython",
    "version": 3
   },
   "file_extension": ".py",
   "mimetype": "text/x-python",
   "name": "python",
   "nbconvert_exporter": "python",
   "pygments_lexer": "ipython3",
   "version": "3.12.3"
  },
  "orig_nbformat": 4
 },
 "nbformat": 4,
 "nbformat_minor": 2
}
