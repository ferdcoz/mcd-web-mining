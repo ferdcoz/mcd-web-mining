{
 "cells": [
  {
   "cell_type": "code",
   "execution_count": 1,
   "metadata": {},
   "outputs": [],
   "source": [
    "import requests\n",
    "from bs4 import BeautifulSoup\n",
    "import time\n",
    "import random\n",
    "import pandas as pd\n",
    "from datetime import datetime"
   ]
  },
  {
   "cell_type": "code",
   "execution_count": 2,
   "metadata": {},
   "outputs": [],
   "source": [
    "def scrape_data(url):\n",
    "    results = []\n",
    "\n",
    "    page = 1\n",
    "    while True:\n",
    "        page_url = f\"{url}{page}\"\n",
    "        \n",
    "        headers = {\n",
    "            \"User-Agent\": \"Tu Agente de Usuario Aquí\"\n",
    "            }\n",
    "        response = requests.get(page_url, headers=headers)\n",
    "\n",
    "        \n",
    "        if response.status_code != 200:\n",
    "            print(f\"Error 200 en página {page}.\")\n",
    "            break\n",
    "\n",
    "        soup = BeautifulSoup(response.content, 'html.parser')\n",
    "\n",
    "        items = soup.select(\"div.listitem\")\n",
    "\n",
    "        if len(items)==0 or items is None:\n",
    "            print(f\"La página {page} no existe o no contiente datos.\")\n",
    "            break\n",
    "\n",
    "        for item in items:\n",
    "            date_span = item.find(\"p\", class_=\"byline\").text.strip()\n",
    "            title = item.find(\"h3\").text.strip()\n",
    "            summary = item.find(\"p\", class_=\"teaser\").text.strip()\n",
    "\n",
    "            result = {\n",
    "                \"Fecha\": date_span,\n",
    "                \"Titulo\": title,\n",
    "                \"Resumen\": summary,\n",
    "                \"Fuente\": \"Zacks\"\n",
    "            }\n",
    "            results.append(result)\n",
    "\n",
    "        print(f\"Página {page} procesada\")\n",
    "        page += 1\n",
    "        time.sleep(random.randint(0, 3))\n",
    "\n",
    "    return results"
   ]
  },
  {
   "cell_type": "code",
   "execution_count": 3,
   "metadata": {},
   "outputs": [
    {
     "name": "stdout",
     "output_type": "stream",
     "text": [
      "Página 1 procesada\n",
      "Página 2 procesada\n",
      "Página 3 procesada\n",
      "Página 4 procesada\n",
      "Página 5 procesada\n",
      "Página 6 procesada\n",
      "Página 7 procesada\n",
      "Página 8 procesada\n",
      "Página 9 procesada\n",
      "Página 10 procesada\n",
      "La página 11 no existe o no contiente datos.\n"
     ]
    }
   ],
   "source": [
    "url_base = \"https://www.zacks.com/stock/research/YPF/all-news?page=\"\n",
    "\n",
    "resultados = scrape_data(url_base)\n",
    "df_resultados = pd.DataFrame(resultados)"
   ]
  },
  {
   "cell_type": "code",
   "execution_count": 4,
   "metadata": {},
   "outputs": [],
   "source": [
    "df_resultados_fecha = df_resultados\n",
    "\n",
    "df_resultados_fecha['Fecha'] = df_resultados['Fecha'].apply(lambda x: x.split(\"on\", 1)[1].strip())"
   ]
  },
  {
   "cell_type": "code",
   "execution_count": 5,
   "metadata": {},
   "outputs": [],
   "source": [
    "df_resultados_fecha['Titulo'] = df_resultados_fecha.apply(lambda row: row['Titulo'] + ' ' + row['Resumen'], axis=1)\n",
    "df_resultados_fecha.drop(columns=['Resumen'], inplace=True)"
   ]
  },
  {
   "cell_type": "code",
   "execution_count": 6,
   "metadata": {},
   "outputs": [],
   "source": [
    "df_resultados_fecha['Fecha'] = df_resultados_fecha['Fecha'].apply(lambda x: datetime.strptime(x.strip(), \"%B %d,%Y\").strftime(\"%d/%m/%Y\"))"
   ]
  },
  {
   "cell_type": "code",
   "execution_count": 9,
   "metadata": {},
   "outputs": [],
   "source": [
    "df_resultados_fecha.to_excel('Scraping_Zacks.xlsx',index=False)"
   ]
  }
 ],
 "metadata": {
  "kernelspec": {
   "display_name": "Python 3",
   "language": "python",
   "name": "python3"
  },
  "language_info": {
   "codemirror_mode": {
    "name": "ipython",
    "version": 3
   },
   "file_extension": ".py",
   "mimetype": "text/x-python",
   "name": "python",
   "nbconvert_exporter": "python",
   "pygments_lexer": "ipython3",
   "version": "3.9.13"
  }
 },
 "nbformat": 4,
 "nbformat_minor": 2
}
