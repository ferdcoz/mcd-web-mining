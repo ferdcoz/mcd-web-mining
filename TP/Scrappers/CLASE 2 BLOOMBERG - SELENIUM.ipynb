{
 "cells": [
  {
   "cell_type": "code",
   "execution_count": 1,
   "metadata": {},
   "outputs": [],
   "source": [
    "from selenium import webdriver\n",
    "from selenium.webdriver.common.by import By\n",
    "from selenium.webdriver.support.ui import WebDriverWait\n",
    "from selenium.webdriver.support import expected_conditions as EC\n",
    "import time"
   ]
  },
  {
   "cell_type": "code",
   "execution_count": 13,
   "metadata": {},
   "outputs": [],
   "source": [
    "driver = webdriver.Firefox()"
   ]
  },
  {
   "cell_type": "code",
   "execution_count": 11,
   "metadata": {},
   "outputs": [],
   "source": [
    "driver.get(\"https://www.bloomberg.com/search?query=ypf\")"
   ]
  },
  {
   "cell_type": "code",
   "execution_count": 10,
   "metadata": {},
   "outputs": [],
   "source": [
    "# Metodo con nombre de la clase del botón -> No funcionó: no arroja los resultados\n",
    "\n",
    "load_more_button = WebDriverWait(driver, 20).until(\n",
    "    EC.element_to_be_clickable((By.XPATH, \"//button[contains(@class, 'button__f6b7ccfb8d secondary__ed561f3e09')]\"))\n",
    ")\n",
    "\n",
    "load_more_button.click()"
   ]
  },
  {
   "cell_type": "code",
   "execution_count": 22,
   "metadata": {},
   "outputs": [],
   "source": [
    "# Metodo con nombre del botón (etiqueta) -> No funcionó: desaparece el botón\n",
    "\n",
    "wait = WebDriverWait(driver, 10)\n",
    "load_more_button = wait.until(EC.presence_of_element_located((By.XPATH, '//button[@title=\"Load More Results\"]')))\n",
    "\n",
    "# Hacer clic en el botón \"Load More Results\"\n",
    "load_more_button.click()\n",
    "\n",
    "# Cerrar el navegador al finalizar\n",
    "# driver.quit()"
   ]
  },
  {
   "cell_type": "code",
   "execution_count": 30,
   "metadata": {},
   "outputs": [],
   "source": [
    "# Metodo con timer -> No funcionó: desaparece el botón\n",
    "\n",
    "wait = WebDriverWait(driver, 10)\n",
    "load_more_button = wait.until(EC.presence_of_element_located((By.XPATH, '//button[@title=\"Load More Results\"]')))\n",
    "\n",
    "# Simular la interacción con el botón utilizando JavaScript\n",
    "driver.execute_script(\"arguments[0].click();\", load_more_button)\n",
    "\n",
    "# Esperar un momento para que carguen más noticias\n",
    "time.sleep(5)  # Ajusta el tiempo según sea necesario"
   ]
  }
 ],
 "metadata": {
  "kernelspec": {
   "display_name": "base",
   "language": "python",
   "name": "python3"
  },
  "language_info": {
   "codemirror_mode": {
    "name": "ipython",
    "version": 3
   },
   "file_extension": ".py",
   "mimetype": "text/x-python",
   "name": "python",
   "nbconvert_exporter": "python",
   "pygments_lexer": "ipython3",
   "version": "3.9.13"
  }
 },
 "nbformat": 4,
 "nbformat_minor": 2
}
