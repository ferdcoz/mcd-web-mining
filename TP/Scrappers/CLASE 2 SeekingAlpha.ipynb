{
 "cells": [
  {
   "cell_type": "code",
   "execution_count": null,
   "metadata": {},
   "outputs": [],
   "source": [
    "%pip install beautifulsoup4"
   ]
  },
  {
   "cell_type": "code",
   "execution_count": null,
   "metadata": {},
   "outputs": [],
   "source": [
    "%pip install --upgrade beautifulsoup4"
   ]
  },
  {
   "cell_type": "code",
   "execution_count": null,
   "metadata": {},
   "outputs": [],
   "source": [
    "%pip install lxml"
   ]
  },
  {
   "cell_type": "code",
   "execution_count": 1,
   "metadata": {},
   "outputs": [],
   "source": [
    "import requests\n",
    "from bs4 import BeautifulSoup"
   ]
  },
  {
   "cell_type": "code",
   "execution_count": 2,
   "metadata": {},
   "outputs": [
    {
     "data": {
      "text/plain": [
       "<Response [403]>"
      ]
     },
     "execution_count": 2,
     "metadata": {},
     "output_type": "execute_result"
    }
   ],
   "source": [
    "url1 = \"https://seekingalpha.com/symbol/YPF/news\"\n",
    "\n",
    "# Definir el User-Agent válido\n",
    "headers = {\n",
    "    \"User-Agent\": \"Mozilla/5.0 (Windows NT 10.0; Win64; x64) AppleWebKit/537.36 (KHTML, like Gecko) Chrome/58.0.3029.110 Safari/537.3\"\n",
    "}\n",
    "\n",
    "# Realizar la solicitud HTTP con el User-Agent definido\n",
    "response = requests.get(url1, headers=headers)\n",
    "\n",
    "response"
   ]
  },
  {
   "cell_type": "code",
   "execution_count": 3,
   "metadata": {},
   "outputs": [
    {
     "data": {
      "text/plain": [
       "<!DOCTYPE html>\n",
       "<html lang=\"en\"><head><meta charset=\"utf-8\"/><meta content=\"width=device-width,initial-scale=1\" name=\"viewport\"/><meta content=\"px-captcha\" name=\"description\"/><title>Access to this page has been denied</title></head><body><script>window._pxVid='';window._pxUuid='0333a94a-f6e9-11ee-a844-0bc8348a0026';window._pxAppId='PXxgCxM9By';window._pxHostUrl='/xgCxM9By/xhr';window._pxCustomLogo='';window._pxJsClientSrc='/xgCxM9By/init.js';window._pxMobile=false;window._pxFirstPartyEnabled=true;var pxCaptchaSrc='/xgCxM9By/captcha/PXxgCxM9By/captcha.js?a=c&u=0333a94a-f6e9-11ee-a844-0bc8348a0026&v=&m=0&b=aHR0cHM6Ly9zc3Iuc2Vla2luZ2FscGhhLmNvbS9zeW1ib2wvWVBGL25ld3M=';var script=document.createElement('script');script.src=pxCaptchaSrc;script.onload=onScriptLoad;script.onerror=onScriptError;var onScriptErrorCalled;document.head.appendChild(script);var timeoutID=setTimeout(onScriptError,5000);function onScriptLoad(){clearTimeout(timeoutID);setTimeout(function(){if (isCaptchaNotLoaded()){onScriptError();}},1000);}function onScriptError(){if(onScriptErrorCalled){return;}onScriptErrorCalled=true;script=document.createElement('script');script.src='https://captcha.px-cloud.net/PXxgCxM9By/captcha.js?a=c&u=0333a94a-f6e9-11ee-a844-0bc8348a0026&v=&m=0&b=aHR0cHM6Ly9zc3Iuc2Vla2luZ2FscGhhLmNvbS9zeW1ib2wvWVBGL25ld3M=';script.onload=function(){clearTimeout(timeoutID);};script.onerror=window._pxOnError;document.head.appendChild(script);timeoutID=setTimeout(function(){if (isCaptchaNotLoaded()){window._pxOnError();}},5000);}function isCaptchaNotLoaded(){return !document.querySelector('div');}window._pxOnError=function(){var style=document.createElement('style');style.innerText='@import url(https://fonts.googleapis.com/css2?family=Roboto:ital,wght@0,100;0,300;0,400;0,500;0,700;0,900;1,100;1,300;1,400;1,500;1,700;1,900&display=swap);body{background-color:#fafbfc}.px-captcha-error-container{position:fixed;height:340px;background-color:#fff;font-family:Roboto,sans-serif}.px-captcha-error-header{color:#f0f1f2;font-size:29px;margin:67px 0 33px;font-weight:500;line-height:.83;text-align:center}.px-captcha-error-message{color:#f0f1f2;font-size:18px;margin:0 0 29px;line-height:1.33;text-align:center}.px-captcha-error-button{text-align:center;line-height:48px;width:253px;margin:auto;border-radius:50px;border:solid 1px #f0f1f2;font-size:20px;color:#f0f1f2}.px-captcha-error-wrapper{margin:18px 0 0}div.px-captcha-error{margin:auto;text-align:center;width:400px;height:30px;font-size:12px;background-color:#fcf0f2;color:#ce0e2d}img.px-captcha-error{margin:6px 8px -2px 0}.px-captcha-error-refid{border-top:solid 1px #f0eeee;height:27px;margin:13px 0 0;border-radius:0 0 3px 3px;background-color:#fafbfc;font-size:10px;line-height:2.5;text-align:center;color:#b1b5b8}@media (min-width:620px){.px-captcha-error-container{width:530px;top:50%;left:50%;margin-top:-170px;margin-left:-265px;border-radius:3px;box-shadow:0 2px 9px -1px rgba(0,0,0,.13)}}@media (min-width:481px) and (max-width:620px){.px-captcha-error-container{width:85%;top:50%;left:50%;margin-top:-170px;margin-left:-42.5%;border-radius:3px;box-shadow:0 2px 9px -1px rgba(0,0,0,.13)}}@media (max-width:480px){body{background-color:#fff}.px-captcha-error-header{color:#f0f1f2;font-size:29px;margin:55px 0 33px}.px-captcha-error-container{width:530px;top:50%;left:50%;margin-top:-170px;margin-left:-265px}.px-captcha-error-refid{position:fixed;width:100%;left:0;bottom:0;border-radius:0;font-size:14px;line-height:2}}@media (max-width:390px){div.px-captcha-error{font-size:10px}.px-captcha-error-refid{font-size:11px;line-height:2.5}}';document.head.appendChild(style);var div=document.createElement('div');div.className='px-captcha-error-container';div.innerHTML='<div class=\"px-captcha-error-header\">Before we continue...</div><div class=\"px-captcha-error-message\">Press & Hold to confirm you are<br>a human (and not a bot).</div><div class=\"px-captcha-error-button\">Press & Hold</div><div class=\"px-captcha-error-wrapper\"><div class=\"px-captcha-error\"><img class=\"px-captcha-error\" src=\"data:image/png;base64,iVBORw0KGgoAAAANSUhEUgAAABMAAAAQCAMAAADDGrRQAAAABGdBTUEAALGPC/xhBQAAAAFzUkdCAK7OHOkAAABFUExURUdwTNYELOEGONQILd0AONwALtwEL+AAL9MFLfkJSNQGLdMJLdQJLdQGLdQKLtYFLNcELdUGLdcBL9gFL88OLdUFLNEOLglBhT4AAAAXdFJOUwC8CqgNIRgRoAS1dWWuR4RTjzgryZpYblfkcAAAAI9JREFUGNNdj+sWhCAIhAdvqGVa1r7/oy6RZ7eaH3D4ZACBIed9wlOOMtUnSrEmZ6cHa9YAIfsbCkWrdpi/c50Bk2CO9mNLdMAu03wJA3HpEnfpxbyOg6ruyx8JJi6KNstnslp1dbPd9GnqmuYq7mmcv1zjnbQw8cV0xzkqo+fX1zkjUOO7wnrInUTxJiruC3vtBNRoQQn2AAAAAElFTkSuQmCC\">Please check your internet connection'+(window._pxMobile?'':' or disable your ad-blocker')+'.</div></div><div class=\"px-captcha-error-refid\">Reference ID '+window._pxUuid+'</div>';document.body.appendChild(div);if(window._pxMobile){setTimeout(function(){location.href='/px/captcha_close?status=-1';},5000);}};</script></body></html>"
      ]
     },
     "execution_count": 3,
     "metadata": {},
     "output_type": "execute_result"
    }
   ],
   "source": [
    "soup = BeautifulSoup(response.text, 'html.parser')\n",
    "soup"
   ]
  },
  {
   "cell_type": "code",
   "execution_count": 84,
   "metadata": {},
   "outputs": [
    {
     "name": "stdout",
     "output_type": "stream",
     "text": [
      "[{'titulo': \"Golar LNG surges as FLNG Hilli said to be headed for Argentina's Vaca Muerta\", 'fecha': 'Tue, Mar. 12'}, {'titulo': 'YPF swings to Q4 net loss, plans $3B in shale spending for 2024', 'fecha': 'Thu, Mar. 07'}, {'titulo': 'Exxon weighing $1B sale of Argentina shale assets - Bloomberg', 'fecha': 'Fri, Feb. 23'}, {'titulo': \"YPF upgraded to Buy at UBS, seeing Petrobras' recent gains as benchmark\", 'fecha': 'Thu, Feb. 22'}, {'titulo': 'Energy stocks score best week since March as oil prices ride Middle East tensions', 'fecha': 'Fri, Jan. 26'}, {'titulo': 'YPF shoots higher after Citi upgrade to Buy following recent pullback', 'fecha': 'Thu, Jan. 25'}, {'titulo': 'YPF privatization omitted from Argentina government omnibus bill', 'fecha': 'Mon, Jan. 22'}, {'titulo': 'Burford Capital jumps on report Argentina considers bond to pay for $16B judgement (update)', 'fecha': 'Wed, Dec. 27, 2023'}, {'titulo': \"Argentina's Milei gets the ball rolling on his privatization drive\", 'fecha': 'Thu, Dec. 21, 2023'}, {'titulo': 'Top 10 best performing energy stocks of 2023', 'fecha': 'Fri, Dec. 08, 2023'}, {'titulo': 'YPF extends surge as Argentina president-elect picks MarÃ\\xadn as new boss', 'fecha': 'Mon, Nov. 27, 2023'}, {'titulo': \"U.S.-listed Argentinian stocks rip big gains after Javier Milei's presidential win\", 'fecha': 'Mon, Nov. 20, 2023'}, {'titulo': 'YPF surges 43% as Milei election victory lifts Argentine ADRs', 'fecha': 'Mon, Nov. 20, 2023'}, {'titulo': \"YPF plummets as Argentina's ruling party presidential candidate leads vote\", 'fecha': 'Mon, Oct. 23, 2023'}, {'titulo': 'Shell sees higher oil production in Argentina despite market restrictions', 'fecha': 'Wed, Sep. 13, 2023'}, {'titulo': 'YPF sees continued government backing for energy, Vaca Muerta after elections', 'fecha': 'Fri, Aug. 11, 2023'}, {'titulo': 'Recession fears, central bank rate hikes sent crude oil reeling this week', 'fecha': 'Fri, Jun. 23, 2023'}, {'titulo': 'Iran oil exports hit five-year highs with U.S. reportedly in negotiations', 'fecha': 'Fri, Jun. 16, 2023'}, {'titulo': \"Argentina's Vaca Muerta could pump 1M bbl/day of crude by 2030, consultant says\", 'fecha': 'Thu, Jun. 01, 2023'}, {'titulo': 'YPF Sociedad AnÃ³nima GAAP EPS of $0.87 beats by $0.03, revenue of $4.24B beats by $10M', 'fecha': 'Fri, May 12, 2023'}, {'titulo': 'YPF Sociedad AnÃ³nima Q1 2023 Earnings Preview', 'fecha': 'Thu, May 11, 2023'}, {'titulo': 'YPF to spend up to $7B on infrastructure to lift oil exports, CEO says', 'fecha': 'Thu, Apr. 20, 2023'}, {'titulo': 'YPF, Repsol settle Passaic River contamination lawsuit for $575M', 'fecha': 'Mon, Apr. 10, 2023'}, {'titulo': 'Burford Capital stock surges after client wins liability ruling against Argentina', 'fecha': 'Fri, Mar. 31, 2023'}, {'titulo': 'YPF posts record annual net profit; Q4 shows strong gains', 'fecha': 'Thu, Mar. 09, 2023'}, {'titulo': 'YPF to target $1B in financing this year, chairman says', 'fecha': 'Mon, Feb. 06, 2023'}, {'titulo': 'Argentina pumps record monthly shale oil output as Vaca Muerta ramps up', 'fecha': 'Tue, Jan. 24, 2023'}, {'titulo': 'Rayonier Advanced Materials, Atlas Lithium among Energy/Materials gainers, CN Energy leads losers', 'fecha': 'Tue, Jan. 17, 2023'}, {'titulo': 'Riley Exploration Permian leads Energy/Materials gainers, ZK International leads losers', 'fecha': 'Fri, Jan. 13, 2023'}, {'titulo': 'Camber Energy, Perpetua Resources among major Energy/Material gainers; Tellurian leads losers', 'fecha': 'Mon, Dec. 19, 2022'}, {'titulo': 'YPF, Petronas to seek partners for $10B Vaca Muerta LNG terminal - report', 'fecha': 'Tue, Dec. 06, 2022'}, {'titulo': 'YPF Sociedad AnÃ³nima GAAP EPS of $1.72 beats by $0.52, revenue of $5.18B beats by $800M', 'fecha': 'Thu, Nov. 10, 2022'}, {'titulo': 'YPF Sociedad AnÃ³nima Q3 2022 Earnings Preview', 'fecha': 'Wed, Nov. 09, 2022'}, {'titulo': 'YPF, Petronas in talks to build Argentina gas pipeline, LNG plant - Reuters', 'fecha': 'Thu, Sep. 01, 2022'}, {'titulo': \"Argentina's YPF hikes capex forecast as activity improves\", 'fecha': 'Thu, Aug. 11, 2022'}, {'titulo': 'YPF Sociedad AnÃ³nima GAAP EPS of $2.01, revenue of $4.86B', 'fecha': 'Thu, Aug. 11, 2022'}, {'titulo': 'YPF Sociedad AnÃ³nima Q2 Earnings Preview', 'fecha': 'Wed, Aug. 10, 2022'}, {'titulo': 'Bankruptcy judge advances $14B YPF, Repsol pollution lawsuit to trial - WSJ', 'fecha': 'Thu, Jun. 23, 2022'}, {'titulo': 'Argentina to construct major Vaca Muerta pipeline; YPF gets priority access', 'fecha': 'Mon, Jun. 06, 2022'}, {'titulo': 'Petrobras faces natural gas supply crunch after Bolivia cut supplies', 'fecha': 'Wed, May 25, 2022'}]\n"
     ]
    }
   ],
   "source": [
    "# Utiliza un selector CSS para encontrar las etiquetas article con la clase especificada\n",
    "seeking = soup.select(\"article.flex\")\n",
    "\n",
    "seeking_news = []\n",
    "\n",
    "# Itera sobre las etiquetas article\n",
    "for i in seeking:\n",
    "    # Obtiene el título del artículo\n",
    "    title = i.find(\"a\").text.strip()\n",
    "\n",
    "    # Busca el elemento que contiene la fecha\n",
    "    date_element = i.find(\"span\", {\"data-test-id\": \"post-list-date\"})\n",
    "    \n",
    "    # Extrae solo el texto de la fecha\n",
    "    date_text = date_element.text.strip() \n",
    "\n",
    "    # Crear un diccionario con el título y la fecha y agregarlo a la lista de noticias buscadas\n",
    "    news_item = {\"titulo\": title, \"fecha\": date_text}\n",
    "    seeking_news.append(news_item)\n",
    "\n",
    "print(seeking_news)"
   ]
  },
  {
   "cell_type": "code",
   "execution_count": 4,
   "metadata": {},
   "outputs": [],
   "source": [
    "## Mod de Fer\n",
    "\n",
    "import time\n",
    "import random\n",
    "import pandas as pd\n",
    "\n",
    "def scrape_data(url):\n",
    "    results = []\n",
    "\n",
    "    page = 1\n",
    "    while True:\n",
    "        page_url = f\"{url}{page}\"\n",
    "        \n",
    "        headers = {\n",
    "            \"User-Agent\": \"Mozilla/5.0 (Windows NT 10.0; Win64; x64) AppleWebKit/537.36 (KHTML, like Gecko) Chrome/58.0.3029.110 Safari/537.3\"\n",
    "            }\n",
    "        response = requests.get(page_url, headers=headers)\n",
    "        \n",
    "        time.sleep(random.randint(5, 15))\n",
    "        \n",
    "        if response.status_code != 200: #Esto lo hago porque sino Tamara me reta :)\n",
    "            print(f\"Error 200 en página {page}.\")\n",
    "            break\n",
    "\n",
    "        soup = BeautifulSoup(response.content, 'html.parser')\n",
    "\n",
    "        items = soup.select(\"article.flex\")\n",
    "\n",
    "        if len(items)==0 or items is None:\n",
    "            print(f\"La página {page} no existe o no contiente datos.\")\n",
    "            break\n",
    "\n",
    "        for item in items:\n",
    "            date_span = item.find(\"span\", {\"data-test-id\": \"post-list-date\"}).text.strip() \n",
    "            title = item.find(\"a\").text.strip()\n",
    "\n",
    "            result = {\n",
    "                \"Fecha\": date_span,\n",
    "                \"Titulo\": title,\n",
    "                \"Fuente\": \"Seeking Alpha\"\n",
    "            }\n",
    "            results.append(result)\n",
    "\n",
    "        print(f\"Página {page} procesada\")\n",
    "        page += 1\n",
    "        time.sleep(random.randint(10, 15))\n",
    "\n",
    "    return results"
   ]
  },
  {
   "cell_type": "code",
   "execution_count": 5,
   "metadata": {},
   "outputs": [
    {
     "name": "stdout",
     "output_type": "stream",
     "text": [
      "Error 200 en página 1.\n"
     ]
    }
   ],
   "source": [
    "url_base = \"https://seekingalpha.com/symbol/YPF/news?page=\"\n",
    "\n",
    "resultados = scrape_data(url_base)\n",
    "df_resultados = pd.DataFrame(resultados)"
   ]
  },
  {
   "cell_type": "markdown",
   "metadata": {},
   "source": [
    "### Formato"
   ]
  },
  {
   "cell_type": "code",
   "execution_count": 20,
   "metadata": {},
   "outputs": [
    {
     "ename": "KeyError",
     "evalue": "'Fecha'",
     "output_type": "error",
     "traceback": [
      "\u001b[1;31m---------------------------------------------------------------------------\u001b[0m",
      "\u001b[1;31mKeyError\u001b[0m                                  Traceback (most recent call last)",
      "\u001b[1;32mc:\\Users\\ferna\\anaconda3\\lib\\site-packages\\pandas\\core\\indexes\\base.py\u001b[0m in \u001b[0;36mget_loc\u001b[1;34m(self, key, method, tolerance)\u001b[0m\n\u001b[0;32m   3628\u001b[0m             \u001b[1;32mtry\u001b[0m\u001b[1;33m:\u001b[0m\u001b[1;33m\u001b[0m\u001b[1;33m\u001b[0m\u001b[0m\n\u001b[1;32m-> 3629\u001b[1;33m                 \u001b[1;32mreturn\u001b[0m \u001b[0mself\u001b[0m\u001b[1;33m.\u001b[0m\u001b[0m_engine\u001b[0m\u001b[1;33m.\u001b[0m\u001b[0mget_loc\u001b[0m\u001b[1;33m(\u001b[0m\u001b[0mcasted_key\u001b[0m\u001b[1;33m)\u001b[0m\u001b[1;33m\u001b[0m\u001b[1;33m\u001b[0m\u001b[0m\n\u001b[0m\u001b[0;32m   3630\u001b[0m             \u001b[1;32mexcept\u001b[0m \u001b[0mKeyError\u001b[0m \u001b[1;32mas\u001b[0m \u001b[0merr\u001b[0m\u001b[1;33m:\u001b[0m\u001b[1;33m\u001b[0m\u001b[1;33m\u001b[0m\u001b[0m\n",
      "\u001b[1;32mc:\\Users\\ferna\\anaconda3\\lib\\site-packages\\pandas\\_libs\\index.pyx\u001b[0m in \u001b[0;36mpandas._libs.index.IndexEngine.get_loc\u001b[1;34m()\u001b[0m\n",
      "\u001b[1;32mc:\\Users\\ferna\\anaconda3\\lib\\site-packages\\pandas\\_libs\\index.pyx\u001b[0m in \u001b[0;36mpandas._libs.index.IndexEngine.get_loc\u001b[1;34m()\u001b[0m\n",
      "\u001b[1;32mpandas\\_libs\\hashtable_class_helper.pxi\u001b[0m in \u001b[0;36mpandas._libs.hashtable.PyObjectHashTable.get_item\u001b[1;34m()\u001b[0m\n",
      "\u001b[1;32mpandas\\_libs\\hashtable_class_helper.pxi\u001b[0m in \u001b[0;36mpandas._libs.hashtable.PyObjectHashTable.get_item\u001b[1;34m()\u001b[0m\n",
      "\u001b[1;31mKeyError\u001b[0m: 'Fecha'",
      "\nThe above exception was the direct cause of the following exception:\n",
      "\u001b[1;31mKeyError\u001b[0m                                  Traceback (most recent call last)",
      "\u001b[1;32m~\\AppData\\Local\\Temp\\ipykernel_23352\\742733287.py\u001b[0m in \u001b[0;36m<module>\u001b[1;34m\u001b[0m\n\u001b[0;32m      3\u001b[0m \u001b[0mdf_resultados_fecha\u001b[0m \u001b[1;33m=\u001b[0m \u001b[0mdf_resultados\u001b[0m\u001b[1;33m\u001b[0m\u001b[1;33m\u001b[0m\u001b[0m\n\u001b[0;32m      4\u001b[0m \u001b[1;33m\u001b[0m\u001b[0m\n\u001b[1;32m----> 5\u001b[1;33m \u001b[0mdf_resultados_fecha\u001b[0m\u001b[1;33m[\u001b[0m\u001b[1;34m'Fecha'\u001b[0m\u001b[1;33m]\u001b[0m \u001b[1;33m=\u001b[0m \u001b[0mdf_resultados\u001b[0m\u001b[1;33m[\u001b[0m\u001b[1;34m'Fecha'\u001b[0m\u001b[1;33m]\u001b[0m\u001b[1;33m.\u001b[0m\u001b[0mapply\u001b[0m\u001b[1;33m(\u001b[0m\u001b[1;32mlambda\u001b[0m \u001b[0mx\u001b[0m\u001b[1;33m:\u001b[0m \u001b[0mdatetime\u001b[0m\u001b[1;33m.\u001b[0m\u001b[0mstrptime\u001b[0m\u001b[1;33m(\u001b[0m\u001b[0mx\u001b[0m\u001b[1;33m,\u001b[0m \u001b[1;34m\"%a, %b. %d, %Y\"\u001b[0m\u001b[1;33m)\u001b[0m\u001b[1;33m.\u001b[0m\u001b[0mstrftime\u001b[0m\u001b[1;33m(\u001b[0m\u001b[1;34m\"%d/%m/%Y\"\u001b[0m\u001b[1;33m)\u001b[0m\u001b[1;33m)\u001b[0m\u001b[1;33m\u001b[0m\u001b[1;33m\u001b[0m\u001b[0m\n\u001b[0m",
      "\u001b[1;32mc:\\Users\\ferna\\anaconda3\\lib\\site-packages\\pandas\\core\\frame.py\u001b[0m in \u001b[0;36m__getitem__\u001b[1;34m(self, key)\u001b[0m\n\u001b[0;32m   3503\u001b[0m             \u001b[1;32mif\u001b[0m \u001b[0mself\u001b[0m\u001b[1;33m.\u001b[0m\u001b[0mcolumns\u001b[0m\u001b[1;33m.\u001b[0m\u001b[0mnlevels\u001b[0m \u001b[1;33m>\u001b[0m \u001b[1;36m1\u001b[0m\u001b[1;33m:\u001b[0m\u001b[1;33m\u001b[0m\u001b[1;33m\u001b[0m\u001b[0m\n\u001b[0;32m   3504\u001b[0m                 \u001b[1;32mreturn\u001b[0m \u001b[0mself\u001b[0m\u001b[1;33m.\u001b[0m\u001b[0m_getitem_multilevel\u001b[0m\u001b[1;33m(\u001b[0m\u001b[0mkey\u001b[0m\u001b[1;33m)\u001b[0m\u001b[1;33m\u001b[0m\u001b[1;33m\u001b[0m\u001b[0m\n\u001b[1;32m-> 3505\u001b[1;33m             \u001b[0mindexer\u001b[0m \u001b[1;33m=\u001b[0m \u001b[0mself\u001b[0m\u001b[1;33m.\u001b[0m\u001b[0mcolumns\u001b[0m\u001b[1;33m.\u001b[0m\u001b[0mget_loc\u001b[0m\u001b[1;33m(\u001b[0m\u001b[0mkey\u001b[0m\u001b[1;33m)\u001b[0m\u001b[1;33m\u001b[0m\u001b[1;33m\u001b[0m\u001b[0m\n\u001b[0m\u001b[0;32m   3506\u001b[0m             \u001b[1;32mif\u001b[0m \u001b[0mis_integer\u001b[0m\u001b[1;33m(\u001b[0m\u001b[0mindexer\u001b[0m\u001b[1;33m)\u001b[0m\u001b[1;33m:\u001b[0m\u001b[1;33m\u001b[0m\u001b[1;33m\u001b[0m\u001b[0m\n\u001b[0;32m   3507\u001b[0m                 \u001b[0mindexer\u001b[0m \u001b[1;33m=\u001b[0m \u001b[1;33m[\u001b[0m\u001b[0mindexer\u001b[0m\u001b[1;33m]\u001b[0m\u001b[1;33m\u001b[0m\u001b[1;33m\u001b[0m\u001b[0m\n",
      "\u001b[1;32mc:\\Users\\ferna\\anaconda3\\lib\\site-packages\\pandas\\core\\indexes\\base.py\u001b[0m in \u001b[0;36mget_loc\u001b[1;34m(self, key, method, tolerance)\u001b[0m\n\u001b[0;32m   3629\u001b[0m                 \u001b[1;32mreturn\u001b[0m \u001b[0mself\u001b[0m\u001b[1;33m.\u001b[0m\u001b[0m_engine\u001b[0m\u001b[1;33m.\u001b[0m\u001b[0mget_loc\u001b[0m\u001b[1;33m(\u001b[0m\u001b[0mcasted_key\u001b[0m\u001b[1;33m)\u001b[0m\u001b[1;33m\u001b[0m\u001b[1;33m\u001b[0m\u001b[0m\n\u001b[0;32m   3630\u001b[0m             \u001b[1;32mexcept\u001b[0m \u001b[0mKeyError\u001b[0m \u001b[1;32mas\u001b[0m \u001b[0merr\u001b[0m\u001b[1;33m:\u001b[0m\u001b[1;33m\u001b[0m\u001b[1;33m\u001b[0m\u001b[0m\n\u001b[1;32m-> 3631\u001b[1;33m                 \u001b[1;32mraise\u001b[0m \u001b[0mKeyError\u001b[0m\u001b[1;33m(\u001b[0m\u001b[0mkey\u001b[0m\u001b[1;33m)\u001b[0m \u001b[1;32mfrom\u001b[0m \u001b[0merr\u001b[0m\u001b[1;33m\u001b[0m\u001b[1;33m\u001b[0m\u001b[0m\n\u001b[0m\u001b[0;32m   3632\u001b[0m             \u001b[1;32mexcept\u001b[0m \u001b[0mTypeError\u001b[0m\u001b[1;33m:\u001b[0m\u001b[1;33m\u001b[0m\u001b[1;33m\u001b[0m\u001b[0m\n\u001b[0;32m   3633\u001b[0m                 \u001b[1;31m# If we have a listlike key, _check_indexing_error will raise\u001b[0m\u001b[1;33m\u001b[0m\u001b[1;33m\u001b[0m\u001b[0m\n",
      "\u001b[1;31mKeyError\u001b[0m: 'Fecha'"
     ]
    }
   ],
   "source": [
    "from datetime import datetime\n",
    "\n",
    "df_resultados_fecha = df_resultados\n",
    "\n",
    "df_resultados_fecha['Fecha'] = df_resultados['Fecha'].apply(lambda x: datetime.strptime(x, \"%a, %b. %d, %Y\").strftime(\"%d/%m/%Y\"))"
   ]
  },
  {
   "cell_type": "code",
   "execution_count": null,
   "metadata": {},
   "outputs": [],
   "source": [
    "df_resultados_fecha.to_excel('Scraping_SeekingAlpha.xlsx', index=False)"
   ]
  }
 ],
 "metadata": {
  "kernelspec": {
   "display_name": "Python 3",
   "language": "python",
   "name": "python3"
  },
  "language_info": {
   "codemirror_mode": {
    "name": "ipython",
    "version": 3
   },
   "file_extension": ".py",
   "mimetype": "text/x-python",
   "name": "python",
   "nbconvert_exporter": "python",
   "pygments_lexer": "ipython3",
   "version": "3.9.13"
  }
 },
 "nbformat": 4,
 "nbformat_minor": 2
}
