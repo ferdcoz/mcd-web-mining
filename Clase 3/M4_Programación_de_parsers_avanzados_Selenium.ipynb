{
 "cells": [
  {
   "cell_type": "markdown",
   "metadata": {},
   "source": [
    "# Programación: Selenium"
   ]
  },
  {
   "cell_type": "code",
   "execution_count": 2,
   "metadata": {},
   "outputs": [],
   "source": [
    "#!pip install selenium\n",
    "#https://selenium-python.readthedocs.io/\n",
    "#https://github.com/mozilla/geckodriver/releases"
   ]
  },
  {
   "cell_type": "code",
   "execution_count": 1,
   "metadata": {},
   "outputs": [],
   "source": [
    "from selenium import webdriver\n",
    "from selenium.webdriver.firefox.service import Service\n",
    "from selenium.webdriver.common.keys import Keys\n",
    "from selenium.webdriver.common.by import By"
   ]
  },
  {
   "cell_type": "code",
   "execution_count": 2,
   "metadata": {},
   "outputs": [],
   "source": [
    "service_obj = Service(executable_path=\"./geckodriver.exe\")"
   ]
  },
  {
   "cell_type": "code",
   "execution_count": 3,
   "metadata": {},
   "outputs": [],
   "source": [
    "driver = webdriver.Firefox(service=service_obj)"
   ]
  },
  {
   "cell_type": "code",
   "execution_count": 4,
   "metadata": {},
   "outputs": [],
   "source": [
    "driver.set_window_size(1920, 1080)\n",
    "driver.maximize_window()\n",
    "driver.refresh()\n",
    "driver.set_page_load_timeout(30)\n",
    "driver.implicitly_wait(10)"
   ]
  },
  {
   "cell_type": "code",
   "execution_count": 5,
   "metadata": {},
   "outputs": [],
   "source": [
    "url = 'http://www.yahoo.com'"
   ]
  },
  {
   "cell_type": "code",
   "execution_count": 6,
   "metadata": {},
   "outputs": [],
   "source": [
    "driver.get(url)"
   ]
  },
  {
   "cell_type": "code",
   "execution_count": 7,
   "metadata": {},
   "outputs": [],
   "source": [
    "lsCookies = driver.get_cookies()"
   ]
  },
  {
   "cell_type": "code",
   "execution_count": 8,
   "metadata": {},
   "outputs": [
    {
     "data": {
      "text/plain": [
       "[{'name': 'A1',\n",
       "  'value': 'd=AQABBJuFFWYCEBthabW9mUhE2usulEiAfXIFEgEBAQHXFmYfZgrpxiMA_eMAAA&S=AQAAApNkdP9mPvg5F5G8PkJ3uFc',\n",
       "  'path': '/',\n",
       "  'domain': '.yahoo.com',\n",
       "  'secure': True,\n",
       "  'httpOnly': True,\n",
       "  'expiry': 1744244091,\n",
       "  'sameSite': 'Lax'},\n",
       " {'name': 'A3',\n",
       "  'value': 'd=AQABBJuFFWYCEBthabW9mUhE2usulEiAfXIFEgEBAQHXFmYfZgrpxiMA_eMAAA&S=AQAAApNkdP9mPvg5F5G8PkJ3uFc',\n",
       "  'path': '/',\n",
       "  'domain': '.yahoo.com',\n",
       "  'secure': True,\n",
       "  'httpOnly': True,\n",
       "  'expiry': 1744244091,\n",
       "  'sameSite': 'None'},\n",
       " {'name': 'A1S',\n",
       "  'value': 'd=AQABBJuFFWYCEBthabW9mUhE2usulEiAfXIFEgEBAQHXFmYfZgrpxiMA_eMAAA&S=AQAAApNkdP9mPvg5F5G8PkJ3uFc',\n",
       "  'path': '/',\n",
       "  'domain': '.yahoo.com',\n",
       "  'secure': True,\n",
       "  'httpOnly': False,\n",
       "  'sameSite': 'Lax'},\n",
       " {'name': 'YHB__li_dcdm_c',\n",
       "  'value': '.com',\n",
       "  'path': '/',\n",
       "  'domain': 'espanol.yahoo.com',\n",
       "  'secure': False,\n",
       "  'httpOnly': False,\n",
       "  'sameSite': 'Lax'},\n",
       " {'name': 'YHB__lc2_fpi',\n",
       "  'value': '5fb552a76ef3--01hv213vfyzts0cpmygws5tbec',\n",
       "  'path': '/',\n",
       "  'domain': 'espanol.yahoo.com',\n",
       "  'secure': False,\n",
       "  'httpOnly': False,\n",
       "  'sameSite': 'Lax'},\n",
       " {'name': 'YHB__lc2_fpi_meta',\n",
       "  'value': '%7B%22w%22%3A1712686493182%7D',\n",
       "  'path': '/',\n",
       "  'domain': 'espanol.yahoo.com',\n",
       "  'secure': False,\n",
       "  'httpOnly': False,\n",
       "  'sameSite': 'Lax'},\n",
       " {'name': 'cmp',\n",
       "  'value': 't=1712686494&j=0&u=1---',\n",
       "  'path': '/',\n",
       "  'domain': '.yahoo.com',\n",
       "  'secure': True,\n",
       "  'httpOnly': False,\n",
       "  'expiry': 1744222494,\n",
       "  'sameSite': 'None'},\n",
       " {'name': 'gpp',\n",
       "  'value': 'DBAA',\n",
       "  'path': '/',\n",
       "  'domain': '.yahoo.com',\n",
       "  'secure': True,\n",
       "  'httpOnly': False,\n",
       "  'expiry': 1712772894,\n",
       "  'sameSite': 'None'},\n",
       " {'name': 'gpp_sid',\n",
       "  'value': '-1',\n",
       "  'path': '/',\n",
       "  'domain': '.yahoo.com',\n",
       "  'secure': True,\n",
       "  'httpOnly': False,\n",
       "  'expiry': 1712772894,\n",
       "  'sameSite': 'None'},\n",
       " {'name': 'axids',\n",
       "  'value': 'gam=y-EwPZftNE2uJ5G9kd5z9GfIR7GFMmdYWD~A&dv360=eS15em93QjFKRTJ1RW8xVkh4UDhzTnNyTVpZVGh3X3pUUH5B',\n",
       "  'path': '/',\n",
       "  'domain': '.yahoo.com',\n",
       "  'secure': True,\n",
       "  'httpOnly': False,\n",
       "  'expiry': 1744222495,\n",
       "  'sameSite': 'None'}]"
      ]
     },
     "execution_count": 8,
     "metadata": {},
     "output_type": "execute_result"
    }
   ],
   "source": [
    "lsCookies"
   ]
  },
  {
   "cell_type": "raw",
   "metadata": {},
   "source": [
    "find_element(By.ID, \"id\")\n",
    "find_element(By.NAME, \"name\")\n",
    "find_element(By.XPATH, \"xpath\")\n",
    "find_element(By.LINK_TEXT, \"link text\")\n",
    "find_element(By.PARTIAL_LINK_TEXT, \"partial link text\")\n",
    "find_element(By.TAG_NAME, \"tag name\")\n",
    "find_element(By.CLASS_NAME, \"class name\")\n",
    "find_element(By.CSS_SELECTOR, \"css selector\")"
   ]
  },
  {
   "cell_type": "code",
   "execution_count": 9,
   "metadata": {},
   "outputs": [],
   "source": [
    "inputElement = driver.find_element(by=By.CSS_SELECTOR, value=\"h4\")"
   ]
  },
  {
   "cell_type": "code",
   "execution_count": 10,
   "metadata": {},
   "outputs": [
    {
     "data": {
      "text/plain": [
       "'Buenos Aires'"
      ]
     },
     "execution_count": 10,
     "metadata": {},
     "output_type": "execute_result"
    }
   ],
   "source": [
    "inputElement.text"
   ]
  },
  {
   "cell_type": "code",
   "execution_count": 12,
   "metadata": {},
   "outputs": [],
   "source": [
    "htHeader = driver.find_element(by=By.ID, value=\"module-header\")"
   ]
  },
  {
   "cell_type": "code",
   "execution_count": 13,
   "metadata": {},
   "outputs": [
    {
     "data": {
      "text/plain": [
       "True"
      ]
     },
     "execution_count": 13,
     "metadata": {},
     "output_type": "execute_result"
    }
   ],
   "source": [
    "htHeader.screenshot('foo.png')"
   ]
  },
  {
   "cell_type": "markdown",
   "metadata": {},
   "source": [
    "![Header](foo.png)"
   ]
  },
  {
   "cell_type": "code",
   "execution_count": 14,
   "metadata": {},
   "outputs": [],
   "source": [
    "opMenu = driver.find_element(By.ID,\"root_2\")"
   ]
  },
  {
   "cell_type": "code",
   "execution_count": 15,
   "metadata": {},
   "outputs": [],
   "source": [
    "opMenu.click()"
   ]
  },
  {
   "cell_type": "code",
   "execution_count": 23,
   "metadata": {},
   "outputs": [],
   "source": [
    "htBody = driver.find_element(by=By.ID, value=\"Page\")"
   ]
  },
  {
   "cell_type": "code",
   "execution_count": 24,
   "metadata": {},
   "outputs": [
    {
     "data": {
      "text/plain": [
       "True"
      ]
     },
     "execution_count": 24,
     "metadata": {},
     "output_type": "execute_result"
    }
   ],
   "source": [
    "htBody.screenshot('noticias.png')"
   ]
  },
  {
   "cell_type": "markdown",
   "metadata": {},
   "source": [
    "![Header](noticias.png)"
   ]
  },
  {
   "cell_type": "code",
   "execution_count": 25,
   "metadata": {},
   "outputs": [],
   "source": [
    "driver.close()"
   ]
  },
  {
   "cell_type": "markdown",
   "metadata": {},
   "source": [
    "_______________________________"
   ]
  },
  {
   "cell_type": "markdown",
   "metadata": {},
   "source": [
    "________________"
   ]
  }
 ],
 "metadata": {
  "kernelspec": {
   "display_name": "MlLab",
   "language": "python",
   "name": "mllab"
  },
  "language_info": {
   "codemirror_mode": {
    "name": "ipython",
    "version": 3
   },
   "file_extension": ".py",
   "mimetype": "text/x-python",
   "name": "python",
   "nbconvert_exporter": "python",
   "pygments_lexer": "ipython3",
   "version": "3.9.12"
  }
 },
 "nbformat": 4,
 "nbformat_minor": 4
}
